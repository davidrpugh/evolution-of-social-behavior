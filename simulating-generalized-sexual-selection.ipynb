{
 "cells": [
  {
   "cell_type": "code",
   "execution_count": 1,
   "metadata": {
    "collapsed": true
   },
   "outputs": [],
   "source": [
    "import ipywidgets as widgets\n",
    "import matplotlib.pyplot as plt\n",
    "import numpy as np\n",
    "from scipy import integrate\n",
    "\n",
    "import models\n",
    "import payoffs\n",
    "import selection_functions"
   ]
  },
  {
   "cell_type": "code",
   "execution_count": 2,
   "metadata": {
    "collapsed": true
   },
   "outputs": [],
   "source": [
    "%matplotlib inline\n",
    "plt.style.use(\"ggplot\")"
   ]
  },
  {
   "cell_type": "markdown",
   "metadata": {},
   "source": [
    "# Basic simulation"
   ]
  },
  {
   "cell_type": "code",
   "execution_count": 738,
   "metadata": {
    "collapsed": true
   },
   "outputs": [],
   "source": [
    "integrate.solve_ivp?"
   ]
  },
  {
   "cell_type": "code",
   "execution_count": 5,
   "metadata": {},
   "outputs": [],
   "source": [
    "# random initial condition\n",
    "prng = np.random.RandomState(42)\n",
    "number_of_genotypes = 4\n",
    "y0, = prng.dirichlet(np.ones(number_of_genotypes), 1)\n",
    "\n",
    "# define the selection functions\n",
    "d0, d2 = 1.5, 1\n",
    "UGA = lambda x_A: selection_functions.kirkpatrick_selection(x_A, d0)\n",
    "UgA = lambda x_A: selection_functions.kirkpatrick_selection(x_A, d2)\n",
    "\n",
    "# define the payoffs\n",
    "payoff_kernel = payoffs.prisoners_dilemma_payoffs(prng)\n",
    "\n",
    "f = lambda t, y: models.generalized_sexual_selection(y, UGA, UgA, payoff_kernel)\n",
    "result = integrate.solve_ivp(f, t_span=(0, 10), y0=y0, rtol=1e-9, atol=1e-12, dense_output=True, vectorized=True)"
   ]
  },
  {
   "cell_type": "code",
   "execution_count": 6,
   "metadata": {},
   "outputs": [
    {
     "data": {
      "text/plain": [
       "  message: 'The solver successfully reached the interval end.'\n",
       "     nfev: 722\n",
       "     njev: 0\n",
       "      nlu: 0\n",
       "      sol: <scipy.integrate._ivp.common.OdeSolution object at 0x1154053c8>\n",
       "   status: 0\n",
       "  success: True\n",
       "        t: array([  0.00000000e+00,   7.35384685e-03,   8.08923153e-02,\n",
       "         2.12012404e-01,   3.43132493e-01,   4.74252581e-01,\n",
       "         5.88817737e-01,   7.03580611e-01,   8.18343485e-01,\n",
       "         9.33106359e-01,   1.03638170e+00,   1.13980130e+00,\n",
       "         1.24322091e+00,   1.34664051e+00,   1.45006012e+00,\n",
       "         1.55347972e+00,   1.64491327e+00,   1.73648766e+00,\n",
       "         1.82806205e+00,   1.91963644e+00,   2.01121083e+00,\n",
       "         2.10278522e+00,   2.19435961e+00,   2.27643847e+00,\n",
       "         2.35861484e+00,   2.44079120e+00,   2.52296757e+00,\n",
       "         2.60514393e+00,   2.68732029e+00,   2.76949666e+00,\n",
       "         2.85167302e+00,   2.93384938e+00,   3.01602575e+00,\n",
       "         3.09820211e+00,   3.17158029e+00,   3.24502964e+00,\n",
       "         3.31847898e+00,   3.39192833e+00,   3.46537767e+00,\n",
       "         3.53882702e+00,   3.61227636e+00,   3.68572571e+00,\n",
       "         3.75917506e+00,   3.83262440e+00,   3.90607375e+00,\n",
       "         3.97952309e+00,   4.05297244e+00,   4.12642178e+00,\n",
       "         4.19987113e+00,   4.27332048e+00,   4.34676982e+00,\n",
       "         4.42021917e+00,   4.49366851e+00,   4.56711786e+00,\n",
       "         4.64056720e+00,   4.71401655e+00,   4.78746590e+00,\n",
       "         4.86091524e+00,   4.93436459e+00,   5.00781393e+00,\n",
       "         5.08126328e+00,   5.15471262e+00,   5.22816197e+00,\n",
       "         5.30161132e+00,   5.37506066e+00,   5.44851001e+00,\n",
       "         5.52195935e+00,   5.59540870e+00,   5.66885804e+00,\n",
       "         5.74230739e+00,   5.81575674e+00,   5.88920608e+00,\n",
       "         5.96269358e+00,   6.03663963e+00,   6.11106658e+00,\n",
       "         6.18600245e+00,   6.26147611e+00,   6.33751743e+00,\n",
       "         6.41415729e+00,   6.49142766e+00,   6.56936169e+00,\n",
       "         6.64799370e+00,   6.72735931e+00,   6.80749546e+00,\n",
       "         6.88844051e+00,   6.97023426e+00,   7.05291806e+00,\n",
       "         7.13653487e+00,   7.22112936e+00,   7.30674794e+00,\n",
       "         7.39343893e+00,   7.48125258e+00,   7.57024122e+00,\n",
       "         7.66045937e+00,   7.75196385e+00,   7.84481394e+00,\n",
       "         7.93907152e+00,   8.03480121e+00,   8.13207061e+00,\n",
       "         8.23095045e+00,   8.33151482e+00,   8.43384145e+00,\n",
       "         8.53801193e+00,   8.64411205e+00,   8.75223212e+00,\n",
       "         8.86246732e+00,   8.97491811e+00,   9.08969072e+00,\n",
       "         9.20689759e+00,   9.32665797e+00,   9.44909854e+00,\n",
       "         9.57435408e+00,   9.70256825e+00,   9.83389448e+00,\n",
       "         9.96849691e+00,   1.00000000e+01])\n",
       " t_events: None\n",
       "        y: array([[  8.21968292e-02,   8.18580550e-02,   7.85160168e-02,\n",
       "          7.27668907e-02,   6.72919951e-02,   6.20949959e-02,\n",
       "          5.77824962e-02,   5.36753223e-02,   4.97792106e-02,\n",
       "          4.60912898e-02,   4.29474475e-02,   3.99619555e-02,\n",
       "          3.71357024e-02,   3.44647229e-02,   3.19447545e-02,\n",
       "          2.95712825e-02,   2.75911205e-02,   2.57155845e-02,\n",
       "          2.39443176e-02,   2.22737528e-02,   2.07002630e-02,\n",
       "          1.92201760e-02,   1.78297885e-02,   1.66567507e-02,\n",
       "          1.55488280e-02,   1.45047687e-02,   1.35219002e-02,\n",
       "          1.25975708e-02,   1.17291568e-02,   1.09140694e-02,\n",
       "          1.01497618e-02,   9.43373524e-03,   8.76354505e-03,\n",
       "          8.13680613e-03,   7.61199821e-03,   7.11791403e-03,\n",
       "          6.65351360e-03,   6.21728018e-03,   5.80774648e-03,\n",
       "          5.42349584e-03,   5.06316313e-03,   4.72543537e-03,\n",
       "          4.40905198e-03,   4.11280487e-03,   3.83553817e-03,\n",
       "          3.57614778e-03,   3.33358072e-03,   3.10683424e-03,\n",
       "          2.89495480e-03,   2.69703688e-03,   2.51222170e-03,\n",
       "          2.33969581e-03,   2.17868958e-03,   2.02847568e-03,\n",
       "          1.88836746e-03,   1.75771735e-03,   1.63591515e-03,\n",
       "          1.52238648e-03,   1.41659102e-03,   1.31802100e-03,\n",
       "          1.22619952e-03,   1.14067900e-03,   1.06103969e-03,\n",
       "          9.86888143e-04,   9.17855790e-04,   8.53597564e-04,\n",
       "          7.93790557e-04,   7.38132745e-04,   6.86341760e-04,\n",
       "          6.38153723e-04,   5.93322130e-04,   5.51616791e-04,\n",
       "          5.12803391e-04,   4.76486406e-04,   4.42514528e-04,\n",
       "          4.10743418e-04,   3.81037747e-04,   3.53270577e-04,\n",
       "          3.27322829e-04,   3.03082770e-04,   2.80445548e-04,\n",
       "          2.59312745e-04,   2.39591972e-04,   2.21196479e-04,\n",
       "          2.04044800e-04,   1.88060413e-04,   1.73171427e-04,\n",
       "          1.59310287e-04,   1.46413498e-04,   1.34421369e-04,\n",
       "          1.23277769e-04,   1.12929903e-04,   1.03328100e-04,\n",
       "          9.44256178e-05,   8.61784557e-05,   7.85451840e-05,\n",
       "          7.14867837e-05,   6.49664955e-05,   5.89496814e-05,\n",
       "          5.34036940e-05,   4.82977554e-05,   4.36028452e-05,\n",
       "          3.92915957e-05,   3.53381943e-05,   3.17182940e-05,\n",
       "          2.84089290e-05,   2.53884374e-05,   2.26363888e-05,\n",
       "          2.01335174e-05,   1.78616602e-05,   1.58036985e-05,\n",
       "          1.39435049e-05,   1.22658931e-05,   1.07565711e-05,\n",
       "          9.40209792e-06,   9.11055591e-06],\n",
       "       [  5.27251783e-01,   5.28228097e-01,   5.37828249e-01,\n",
       "          5.54209281e-01,   5.69650429e-01,   5.84162960e-01,\n",
       "          5.96097010e-01,   6.07370084e-01,   6.17979036e-01,\n",
       "          6.27943920e-01,   6.36378576e-01,   6.44336460e-01,\n",
       "          6.51822639e-01,   6.58854714e-01,   6.65450549e-01,\n",
       "          6.71628151e-01,   6.76755907e-01,   6.81590529e-01,\n",
       "          6.86136322e-01,   6.90405630e-01,   6.94410664e-01,\n",
       "          6.98163479e-01,   7.01675945e-01,   7.04629514e-01,\n",
       "          7.07410808e-01,   7.10024325e-01,   7.12478006e-01,\n",
       "          7.14779609e-01,   7.16936702e-01,   7.18956651e-01,\n",
       "          7.20846611e-01,   7.22613520e-01,   7.24264093e-01,\n",
       "          7.25804814e-01,   7.27092834e-01,   7.28303676e-01,\n",
       "          7.29440196e-01,   7.30506388e-01,   7.31506089e-01,\n",
       "          7.32442980e-01,   7.33320591e-01,   7.34142297e-01,\n",
       "          7.34911324e-01,   7.35630750e-01,   7.36303505e-01,\n",
       "          7.36932379e-01,   7.37520021e-01,   7.38068948e-01,\n",
       "          7.38581544e-01,   7.39060065e-01,   7.39506647e-01,\n",
       "          7.39923306e-01,   7.40311947e-01,   7.40674365e-01,\n",
       "          7.41012250e-01,   7.41327196e-01,   7.41620698e-01,\n",
       "          7.41894166e-01,   7.42148919e-01,   7.42386199e-01,\n",
       "          7.42607168e-01,   7.42812918e-01,   7.43004469e-01,\n",
       "          7.43182779e-01,   7.43348742e-01,   7.43503195e-01,\n",
       "          7.43646921e-01,   7.43780652e-01,   7.43905072e-01,\n",
       "          7.44020817e-01,   7.44128485e-01,   7.44228632e-01,\n",
       "          7.44321823e-01,   7.44409009e-01,   7.44490557e-01,\n",
       "          7.44566814e-01,   7.44638106e-01,   7.44704740e-01,\n",
       "          7.44767003e-01,   7.44825164e-01,   7.44879475e-01,\n",
       "          7.44930173e-01,   7.44977480e-01,   7.45021606e-01,\n",
       "          7.45062746e-01,   7.45101084e-01,   7.45136793e-01,\n",
       "          7.45170035e-01,   7.45200964e-01,   7.45229721e-01,\n",
       "          7.45256443e-01,   7.45281256e-01,   7.45304280e-01,\n",
       "          7.45325625e-01,   7.45345399e-01,   7.45363701e-01,\n",
       "          7.45380624e-01,   7.45396256e-01,   7.45410681e-01,\n",
       "          7.45423977e-01,   7.45436218e-01,   7.45447474e-01,\n",
       "          7.45457809e-01,   7.45467286e-01,   7.45475964e-01,\n",
       "          7.45483897e-01,   7.45491138e-01,   7.45497735e-01,\n",
       "          7.45503735e-01,   7.45509181e-01,   7.45514114e-01,\n",
       "          7.45518573e-01,   7.45522595e-01,   7.45526212e-01,\n",
       "          7.45529459e-01,   7.45530158e-01],\n",
       "       [  2.30640700e-01,   2.29597406e-01,   2.19336471e-01,\n",
       "          2.01821611e-01,   1.85309659e-01,   1.69794637e-01,\n",
       "          1.57043211e-01,   1.45007267e-01,   1.33691585e-01,\n",
       "          1.23075505e-01,   1.14101274e-01,   1.05645797e-01,\n",
       "          9.77031885e-02,   9.02540090e-02,   8.32783813e-02,\n",
       "          7.67561589e-02,   7.13512432e-02,   6.62632907e-02,\n",
       "          6.14868716e-02,   5.70080863e-02,   5.28131945e-02,\n",
       "          4.88886551e-02,   4.52211625e-02,   4.21417034e-02,\n",
       "          3.92457520e-02,   3.65280659e-02,   3.39798497e-02,\n",
       "          3.15925392e-02,   2.93578117e-02,   2.72675956e-02,\n",
       "          2.53140781e-02,   2.34897117e-02,   2.17872197e-02,\n",
       "          2.01996002e-02,   1.88735551e-02,   1.76279679e-02,\n",
       "          1.64597308e-02,   1.53645865e-02,   1.43384544e-02,\n",
       "          1.33774289e-02,   1.24777771e-02,   1.16359361e-02,\n",
       "          1.08485101e-02,   1.01122664e-02,   9.42413194e-03,\n",
       "          8.78118858e-03,   8.18066882e-03,   7.61995091e-03,\n",
       "          7.09655392e-03,   6.60813263e-03,   6.15247230e-03,\n",
       "          5.72748342e-03,   5.33119647e-03,   4.96175654e-03,\n",
       "          4.61741819e-03,   4.29654022e-03,   3.99758060e-03,\n",
       "          3.71909149e-03,   3.45971438e-03,   3.21817537e-03,\n",
       "          2.99328061e-03,   2.78391191e-03,   2.58902245e-03,\n",
       "          2.40763271e-03,   2.23882661e-03,   2.08174772e-03,\n",
       "          1.93559572e-03,   1.79962303e-03,   1.67313153e-03,\n",
       "          1.55546956e-03,   1.44602900e-03,   1.34424249e-03,\n",
       "          1.24953352e-03,   1.16093304e-03,   1.07806864e-03,\n",
       "          1.00058537e-03,   9.28150661e-04,   8.60452765e-04,\n",
       "          7.97199406e-04,   7.38116503e-04,   6.82946986e-04,\n",
       "          6.31449684e-04,   5.83398305e-04,   5.38580465e-04,\n",
       "          4.96796798e-04,   4.57860111e-04,   4.21594606e-04,\n",
       "          3.87835144e-04,   3.56426562e-04,   3.27223037e-04,\n",
       "          3.00087483e-04,   2.74890995e-04,   2.51512329e-04,\n",
       "          2.29837414e-04,   2.09758895e-04,   1.91175710e-04,\n",
       "          1.73992698e-04,   1.58120223e-04,   1.43473838e-04,\n",
       "          1.29973961e-04,   1.17545579e-04,   1.06117970e-04,\n",
       "          9.56244500e-05,   8.60021323e-05,   7.71917058e-05,\n",
       "          6.91372307e-05,   6.17859478e-05,   5.50881019e-05,\n",
       "          4.89967779e-05,   4.34677488e-05,   3.84593341e-05,\n",
       "          3.39322689e-05,   2.98495813e-05,   2.61764792e-05,\n",
       "          2.28802432e-05,   2.21707517e-05],\n",
       "       [  1.59910688e-01,   1.60316442e-01,   1.64319264e-01,\n",
       "          1.71202218e-01,   1.77747918e-01,   1.83947408e-01,\n",
       "          1.89077282e-01,   1.93947326e-01,   1.98550168e-01,\n",
       "          2.02889285e-01,   2.06572702e-01,   2.10055787e-01,\n",
       "          2.13338470e-01,   2.16426554e-01,   2.19326316e-01,\n",
       "          2.22044407e-01,   2.24301729e-01,   2.26430596e-01,\n",
       "          2.28432489e-01,   2.30312531e-01,   2.32075878e-01,\n",
       "          2.33727690e-01,   2.35273104e-01,   2.36572032e-01,\n",
       "          2.37794612e-01,   2.38942840e-01,   2.40020244e-01,\n",
       "          2.41030281e-01,   2.41976329e-01,   2.42861684e-01,\n",
       "          2.43689549e-01,   2.44463033e-01,   2.45185142e-01,\n",
       "          2.45858780e-01,   2.46421612e-01,   2.46950442e-01,\n",
       "          2.47446559e-01,   2.47911745e-01,   2.48347711e-01,\n",
       "          2.48756095e-01,   2.49138469e-01,   2.49496332e-01,\n",
       "          2.49831114e-01,   2.50144179e-01,   2.50436825e-01,\n",
       "          2.50710285e-01,   2.50965729e-01,   2.51204266e-01,\n",
       "          2.51426947e-01,   2.51634765e-01,   2.51828659e-01,\n",
       "          2.52009514e-01,   2.52178167e-01,   2.52335403e-01,\n",
       "          2.52481964e-01,   2.52618547e-01,   2.52745806e-01,\n",
       "          2.52864356e-01,   2.52974776e-01,   2.53077605e-01,\n",
       "          2.53173352e-01,   2.53262491e-01,   2.53345469e-01,\n",
       "          2.53422700e-01,   2.53494576e-01,   2.53561460e-01,\n",
       "          2.53623693e-01,   2.53681592e-01,   2.53735455e-01,\n",
       "          2.53785559e-01,   2.53832163e-01,   2.53875509e-01,\n",
       "          2.53915840e-01,   2.53953572e-01,   2.53988860e-01,\n",
       "          2.54021858e-01,   2.54052705e-01,   2.54081536e-01,\n",
       "          2.54108474e-01,   2.54133637e-01,   2.54157133e-01,\n",
       "          2.54179065e-01,   2.54199529e-01,   2.54218617e-01,\n",
       "          2.54236412e-01,   2.54252995e-01,   2.54268441e-01,\n",
       "          2.54282819e-01,   2.54296196e-01,   2.54308634e-01,\n",
       "          2.54320191e-01,   2.54330923e-01,   2.54340880e-01,\n",
       "          2.54350112e-01,   2.54358663e-01,   2.54366578e-01,\n",
       "          2.54373897e-01,   2.54380657e-01,   2.54386895e-01,\n",
       "          2.54392645e-01,   2.54397938e-01,   2.54402806e-01,\n",
       "          2.54407275e-01,   2.54411373e-01,   2.54415126e-01,\n",
       "          2.54418557e-01,   2.54421688e-01,   2.54424540e-01,\n",
       "          2.54427135e-01,   2.54429490e-01,   2.54431623e-01,\n",
       "          2.54433551e-01,   2.54435290e-01,   2.54436854e-01,\n",
       "          2.54438258e-01,   2.54438561e-01]])"
      ]
     },
     "execution_count": 6,
     "metadata": {},
     "output_type": "execute_result"
    }
   ],
   "source": [
    "result"
   ]
  },
  {
   "cell_type": "code",
   "execution_count": 7,
   "metadata": {
    "collapsed": true
   },
   "outputs": [],
   "source": [
    "# sanity check that the simulated trajectory satisfies adding up constraint\n",
    "assert np.allclose(result.y.sum(axis=0), np.ones(result.t.size))"
   ]
  },
  {
   "cell_type": "markdown",
   "metadata": {},
   "source": [
    "# Interactive simulation"
   ]
  },
  {
   "cell_type": "code",
   "execution_count": 8,
   "metadata": {},
   "outputs": [],
   "source": [
    "def plot_generalized_sexual_selection(x0=0.25, x1=0.25, x2=0.25, selection_function=\"kirkpatrick\",\n",
    "                                      d0=1, d2=1, T=10, R=6, P=4, S=0, mutation_rate=0.0, max_time=10):\n",
    "\n",
    "    fig, ax = plt.subplots(1,1, figsize=(10,8))\n",
    "\n",
    "    # prepare the axes\n",
    "    ax.set_ylim((0, 1))\n",
    "    ax.set_xlabel(r\"Time, $t$\", fontsize=15)\n",
    "    ax.set_ylabel(r\"Female genotype shares, $x_i$\", fontsize=15)\n",
    "    \n",
    "    # create the initial condition\n",
    "    x3 = 1 - (x0 + x1 + x2)\n",
    "    y0=np.array([x0,x1,x2,x3])\n",
    "    assert np.allclose(y0.sum(), 1)\n",
    "    \n",
    "    # create the payoff kernel\n",
    "    assert T > R and R > P and R > S, \"Payoffs must satisfy either Prisoner's Dilemma or Stag Hunt constraints!\"\n",
    "    payoff_kernel = np.array([[R, S],\n",
    "                              [T, P]])\n",
    "    \n",
    "    # create the selection functions\n",
    "    if selection_function == \"kirkpatrick\":\n",
    "        UGA = lambda x_A: selection_functions.kirkpatrick_selection(x_A, d0)\n",
    "        UgA = lambda x_A: selection_functions.kirkpatrick_selection(x_A, d2)\n",
    "    elif selection_function == \"seger\":\n",
    "        UGA = lambda x_A: seger_selection(x_A, d0)\n",
    "        UgA = lambda x_A: seger_selection(x_A, d2)\n",
    "    else:\n",
    "      raise ValueError(\"selection_function must be one of \\\"kirkpatrick\\\" or \\\"seger\\\".\")\n",
    "    \n",
    "    # simulate the model starting from a random initial condition\n",
    "    f = lambda t, y: models.generalized_sexual_selection(y, UGA, UgA, payoff_kernel, mutation_rate)\n",
    "    result = integrate.solve_ivp(f, t_span=(0, max_time), y0=y0, rtol=1e-9, atol=1e-12,\n",
    "                                 dense_output=True, vectorized=True)\n",
    "    \n",
    "    ax.plot(result.t, result.y[0], label=\"GA\")\n",
    "    ax.plot(result.t, result.y[1], label=\"Ga\")\n",
    "    ax.plot(result.t, result.y[2], label=\"gA\")\n",
    "    ax.plot(result.t, result.y[3], label=\"ga\")\n",
    "    ax.legend()\n",
    "    plt.show()\n",
    "\n",
    "    return result"
   ]
  },
  {
   "cell_type": "code",
   "execution_count": 9,
   "metadata": {},
   "outputs": [
    {
     "data": {
      "image/png": "[encoded data removed]",
      "text/plain": [
       "<matplotlib.figure.Figure at 0x115422630>"
      ]
     },
     "metadata": {},
     "output_type": "display_data"
    }
   ],
   "source": [
    "result = plot_generalized_sexual_selection(selection_function=\"kirkpatrick\", T=50)"
   ]
  },
  {
   "cell_type": "code",
   "execution_count": 10,
   "metadata": {},
   "outputs": [
    {
     "data": {
      "application/vnd.jupyter.widget-view+json": {
       "model_id": "277e35c37fd84252b8c6c5691f55c55c",
       "version_major": 2,
       "version_minor": 0
      },
      "text/plain": [
       "A Jupyter Widget"
      ]
     },
     "metadata": {},
     "output_type": "display_data"
    }
   ],
   "source": [
    "# sliders used to control the initial condition\n",
    "x0_slider = widgets.FloatSlider(value=0.25, min=0.0, max=1.0, step=0.01, description=r\"$x_0$\")\n",
    "x1_slider = widgets.FloatSlider(value=0.25, min=0.0, max=1.0, step=0.01, description=r\"$x_1$\")\n",
    "x2_slider = widgets.FloatSlider(value=0.25, min=0.0, max=1.0, step=0.01, description=r\"$x_2$\")\n",
    "\n",
    "# sliders used to control the Prisoner's Dilemma Payoffs\n",
    "T_slider = widgets.FloatSlider(value=10, min=0, max=100, step=0.1, description=r\"$T$\")\n",
    "R_slider = widgets.FloatSlider(value=8, min=0, max=100, step=0.1, description=r\"$R$\")\n",
    "P_slider = widgets.FloatSlider(value=6, min=0, max=100, step=0.1, description=r\"$P$\")\n",
    "S_slider = widgets.FloatSlider(value=4, min=0, max=100, step=0.1, description=r\"$S$\")\n",
    "\n",
    "# slider used to control which selection function is being used\n",
    "U_slider = widgets.Dropdown(options=[\"kirkpatrick\", \"seger\"], index=0, description=r\"$U$\")\n",
    "\n",
    "# slider that controls the parameters of the selection function\n",
    "d0_slider = widgets.FloatSlider(value=1, min=0.0, max=10, step=0.05, description=r\"$d_0$\")\n",
    "d2_slider = widgets.FloatSlider(value=1, min=0.0, max=10, step=0.05, description=r\"$d_2$\")\n",
    "\n",
    "# slider used to control the mutation rate\n",
    "e_slider = widgets.FloatSlider(value=0.0, min=0.0, max=1.0, step=1e-3, description=r\"$\\epsilon$\", readout_format=\".3f\")\n",
    "\n",
    "# slider that controls max simulation time\n",
    "max_time_slider = widgets.IntSlider(value=25, min=1, max=500, description=r\"$\\max t$\")\n",
    "\n",
    "w = widgets.interactive(plot_generalized_sexual_selection, x0=x0_slider, x1=x1_slider, x2=x2_slider,\n",
    "                        selection_function=U_slider, d0=d0_slider, d2=d2_slider, \n",
    "                        T=T_slider, R=R_slider, P=P_slider, S=S_slider, \n",
    "                        mutation_rate=e_slider, max_time=max_time_slider)\n",
    "display(w)"
   ]
  },
  {
   "cell_type": "code",
   "execution_count": 11,
   "metadata": {},
   "outputs": [],
   "source": [
    "# sanity check on the resulting trajectory\n",
    "assert np.allclose(result.y.sum(axis=0), np.ones(result.t.size))"
   ]
  },
  {
   "cell_type": "code",
   "execution_count": null,
   "metadata": {
    "collapsed": true
   },
   "outputs": [],
   "source": []
  }
 ],
 "metadata": {
  "kernelspec": {
   "display_name": "Python 3",
   "language": "python",
   "name": "python3"
  },
  "language_info": {
   "codemirror_mode": {
    "name": "ipython",
    "version": 3
   },
   "file_extension": ".py",
   "mimetype": "text/x-python",
   "name": "python",
   "nbconvert_exporter": "python",
   "pygments_lexer": "ipython3",
   "version": "3.6.3"
  }
 },
 "nbformat": 4,
 "nbformat_minor": 2
}
