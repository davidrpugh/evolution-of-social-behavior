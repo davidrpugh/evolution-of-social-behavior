{
 "cells": [
  {
   "cell_type": "code",
   "execution_count": 657,
   "metadata": {
    "collapsed": true
   },
   "outputs": [],
   "source": [
    "import ipywidgets as widgets\n",
    "import matplotlib.pyplot as plt\n",
    "import numpy as np\n",
    "import pandas as pd\n",
    "from scipy import integrate"
   ]
  },
  {
   "cell_type": "code",
   "execution_count": 258,
   "metadata": {
    "collapsed": true
   },
   "outputs": [],
   "source": [
    "%matplotlib inline\n",
    "plt.style.use(\"ggplot\")"
   ]
  },
  {
   "cell_type": "code",
   "execution_count": null,
   "metadata": {
    "collapsed": true
   },
   "outputs": [],
   "source": [
    "def generate_prisoners_dilemma_payoffs(random_state, max_payoff=10):\n",
    "    T = random_state.randint(3, max_payoff)\n",
    "    R = random_state.randint(2, T)\n",
    "    P = random_state.randint(1, R)\n",
    "    S = random_state.randint(P)\n",
    "    payoffs = np.array([[R, S], [T, P]])\n",
    "    return payoffs\n",
    "\n",
    "\n",
    "def generate_stag_hunt_payoffs(random_state, max_payoff=10):\n",
    "    T = random_state.randint(3, max_payoff)\n",
    "    R = random_state.randint(2, T)\n",
    "    S = random_state.randint(1, R)\n",
    "    P = random_state.randint(S)\n",
    "    payoffs = np.array([[R, S], [T, P]])\n",
    "    return payoffs"
   ]
  },
  {
   "cell_type": "code",
   "execution_count": 755,
   "metadata": {
    "collapsed": true
   },
   "outputs": [],
   "source": [
    "def kirkpatrick_selection(x_A, d=1):\n",
    "    return d * x_A / (1 + (d - 1) * x_A)\n",
    "\n",
    "def seger_selection(x_A, d=0):\n",
    "    return x_A * (1 + d * (1 - x_A))"
   ]
  },
  {
   "cell_type": "code",
   "execution_count": 582,
   "metadata": {
    "collapsed": true
   },
   "outputs": [],
   "source": [
    "# axis 0 is indexed by male genotype; axis 1 is indexed by female genotype; axis 2 is indexed by offspring genotype\n",
    "R = np.array([[[1, 1/2, 1/2, 1/4],\n",
    "               [1/2, 0, 1/4, 0],\n",
    "               [1/2, 1/4, 0, 0],\n",
    "               [1/4, 0, 0, 0]],\n",
    "              [[0, 1/2, 0, 1/4],\n",
    "               [1/2, 1, 1/4, 1/2],\n",
    "               [0, 1/4, 0, 0],\n",
    "               [1/4, 1/2, 0, 0]],\n",
    "              [[0, 0, 1/2, 1/4],\n",
    "               [0, 0, 1/4, 0],\n",
    "               [1/2, 1/4, 1, 1/2],\n",
    "               [1/4, 0, 1/2, 0]],\n",
    "              [[0, 0, 0, 1/4],\n",
    "               [0, 0, 1/4, 1/2],\n",
    "               [0, 1/4, 0, 1/2],\n",
    "               [1/4, 1/2, 1/2, 1]]])"
   ]
  },
  {
   "cell_type": "code",
   "execution_count": 798,
   "metadata": {
    "collapsed": true
   },
   "outputs": [],
   "source": [
    "def generalized_sexual_selection(x, UGA, UgA, payoff_kernel, number_of_potential_mates=2):\n",
    "    number_of_genotypes = 4\n",
    "    assert x.shape == (number_of_genotypes, 1)\n",
    "    \n",
    "    # mating probabilities are frequency dependent\n",
    "    x_A, x_a = np.sum(x[::2]), np.sum(x[1::2])\n",
    "    assert np.allclose(x_a, 1 - x_A, atol=1e-6), \"1-x_A should equal x_a; actual difference is {}\".format(1 - x_A - x_a)\n",
    "    \n",
    "    # determine the payoffs\n",
    "    Pi = np.tile(payoff_kernel, (2, 2))\n",
    "    \n",
    "    # determine the shares of a particular genotype in the alpha(k) phenotype\n",
    "    S = np.tile(x, number_of_genotypes).T / np.array([x_A, x_a, x_A, x_a])\n",
    "    assert np.allclose(np.ones(number_of_genotypes), S[:, ::2].sum(axis=1))\n",
    "    assert np.allclose(np.ones(number_of_genotypes), S[:, 1::2].sum(axis=1))\n",
    "\n",
    "    # determine mate selection probabilities\n",
    "    phenotype_selection_probabilities = np.vstack((np.tile(np.array([UGA(x_A), 1 - UGA(x_A)]), (2,2)),\n",
    "                                                   np.tile(np.array([UgA(x_A), 1 - UgA(x_A)]), (2,2))))\n",
    "    genotype_selection_probabilities = S * phenotype_selection_probabilities\n",
    "    U = np.tile(genotype_selection_probabilities , (number_of_potential_mates, 1, 1))\n",
    "    U = U[:, :, :, np.newaxis] # insert additional axis for correct broadcasting...\n",
    "    \n",
    "    # actual mate selection: female selects one particular male to mate with!\n",
    "    uniform_random_mate_selection = lambda mates: np.sum(mates / mates.size)\n",
    "    V = np.apply_along_axis(uniform_random_mate_selection, axis=0, arr=U)\n",
    "    \n",
    "    # define the replicator equation\n",
    "    W = R * V * Pi\n",
    "    offspring_by_genotype = W.sum(axis=0).dot(x)\n",
    "    total_offspring = offspring_by_genotype.sum(axis=0)\n",
    "    x_dot = (offspring_by_genotype / total_offspring) - x\n",
    "    assert np.allclose(x_dot.sum(), 0.0, atol=1e-6), \"Derivatives should sum to one; acual sum is {}\".format(x_dot.sum())\n",
    "    \n",
    "    return x_dot"
   ]
  },
  {
   "cell_type": "code",
   "execution_count": 799,
   "metadata": {
    "collapsed": true
   },
   "outputs": [],
   "source": [
    "prng = np.random.RandomState(42)\n",
    "payoff_kernel = generate_prisoners_dilemma_payoffs(prng)"
   ]
  },
  {
   "cell_type": "code",
   "execution_count": 800,
   "metadata": {
    "collapsed": true
   },
   "outputs": [],
   "source": [
    "d = 1.5\n",
    "UGA = lambda x_A: kirkpatrick_selection(x_A, d)\n",
    "UgA = lambda x_A: kirkpatrick_selection(x_A, d)"
   ]
  },
  {
   "cell_type": "code",
   "execution_count": 801,
   "metadata": {
    "collapsed": true
   },
   "outputs": [],
   "source": [
    "y0, = prng.dirichlet(np.ones(number_of_genotypes), 1)\n",
    "f = lambda t, y: generalized_sexual_selection(y, UGA, UgA, payoff_kernel)"
   ]
  },
  {
   "cell_type": "code",
   "execution_count": 802,
   "metadata": {},
   "outputs": [],
   "source": [
    "# confirm equilibrium with all GA\n",
    "eps = 1e-12\n",
    "equilibrium = np.array([1-eps, 0, 0, eps])\n",
    "assert np.allclose(f(0, equilibrium.reshape(-1, 1)), np.zeros(number_of_genotypes).reshape(-1,1))"
   ]
  },
  {
   "cell_type": "code",
   "execution_count": 803,
   "metadata": {
    "collapsed": true
   },
   "outputs": [],
   "source": [
    "# confirm equilibrium with all ga\n",
    "eps = 1e-12\n",
    "equilibrium = np.array([eps, 0, 0, 1-eps])\n",
    "assert np.allclose(f(0, equilibrium.reshape(-1, 1)), np.zeros(number_of_genotypes).reshape(-1,1))"
   ]
  },
  {
   "cell_type": "markdown",
   "metadata": {},
   "source": [
    "# Basic simulation"
   ]
  },
  {
   "cell_type": "code",
   "execution_count": 738,
   "metadata": {
    "collapsed": true
   },
   "outputs": [],
   "source": [
    "integrate.solve_ivp?"
   ]
  },
  {
   "cell_type": "code",
   "execution_count": 739,
   "metadata": {
    "collapsed": true
   },
   "outputs": [],
   "source": [
    "y0, = prng.dirichlet(np.ones(number_of_genotypes), 1)\n",
    "f = lambda t, y: model(y, UGA, UgA, prisoners_dilemma_payoffs)\n",
    "result = integrate.solve_ivp(f, t_span=(0, 10), y0=y0, rtol=1e-7, atol=1e-9, dense_output=True, vectorized=True)"
   ]
  },
  {
   "cell_type": "code",
   "execution_count": 740,
   "metadata": {},
   "outputs": [
    {
     "data": {
      "text/plain": [
       "  message: 'The solver successfully reached the interval end.'\n",
       "     nfev: 218\n",
       "     njev: 0\n",
       "      nlu: 0\n",
       "      sol: <scipy.integrate._ivp.common.OdeSolution object at 0x1517b67dd8>\n",
       "   status: 0\n",
       "  success: True\n",
       "        t: array([  0.        ,   0.03277593,   0.3605352 ,   1.55138812,\n",
       "         2.38867607,   2.84213827,   3.23710336,   3.58869473,\n",
       "         3.9426338 ,   4.2458227 ,   4.55081584,   4.85580897,\n",
       "         5.16080211,   5.43447692,   5.70894156,   5.9834062 ,\n",
       "         6.25787084,   6.53233547,   6.80799861,   7.08667796,\n",
       "         7.36936068,   7.65714885,   7.95128647,   8.25320685,\n",
       "         8.56456956,   8.88729027,   9.22356882,   9.57592261,\n",
       "         9.94723358,  10.        ])\n",
       " t_events: None\n",
       "        y: array([[  7.23778579e-02,   7.16802049e-02,   6.46225195e-02,\n",
       "          3.92131931e-02,   2.40360652e-02,   1.75269481e-02,\n",
       "          1.29584162e-02,   9.72137688e-03,   7.17071035e-03,\n",
       "          5.47084146e-03,   4.13629346e-03,   3.10865583e-03,\n",
       "          2.32539005e-03,   1.78653474e-03,   1.36834380e-03,\n",
       "          1.04615631e-03,   7.98713986e-04,   6.09140972e-04,\n",
       "          4.63626469e-04,   3.51591979e-04,   2.65437846e-04,\n",
       "          1.99300596e-04,   1.48652583e-04,   1.09991757e-04,\n",
       "          8.06069883e-05,   5.83976070e-05,   4.17335125e-05,\n",
       "          2.93466995e-05,   2.02476402e-05,   1.92073117e-05],\n",
       "       [  4.05530033e-01,   4.08663323e-01,   4.40360706e-01,\n",
       "          5.54478733e-01,   6.22642048e-01,   6.51875708e-01,\n",
       "          6.72393837e-01,   6.86931985e-01,   6.98387505e-01,\n",
       "          7.06021933e-01,   7.12015637e-01,   7.16630950e-01,\n",
       "          7.20148742e-01,   7.22568842e-01,   7.24447016e-01,\n",
       "          7.25894020e-01,   7.27005330e-01,   7.27856737e-01,\n",
       "          7.28510270e-01,   7.29013438e-01,   7.29400372e-01,\n",
       "          7.29697407e-01,   7.29924877e-01,   7.30098510e-01,\n",
       "          7.30230482e-01,   7.30330229e-01,   7.30405070e-01,\n",
       "          7.30460702e-01,   7.30501567e-01,   7.30506240e-01],\n",
       "       [  3.72552070e-01,   3.68961026e-01,   3.32632854e-01,\n",
       "          2.01842894e-01,   1.23721344e-01,   9.02168285e-02,\n",
       "          6.67011282e-02,   5.00390476e-02,   3.69099482e-02,\n",
       "          2.81601773e-02,   2.12908303e-02,   1.60012495e-02,\n",
       "          1.19695291e-02,   9.19586782e-03,   7.04330481e-03,\n",
       "          5.38490237e-03,   4.11123730e-03,   3.13544413e-03,\n",
       "          2.38643427e-03,   1.80975679e-03,   1.36629381e-03,\n",
       "          1.02586415e-03,   7.65162569e-04,   5.66162883e-04,\n",
       "          4.14910046e-04,   3.00591231e-04,   2.14815786e-04,\n",
       "          1.51056883e-04,   1.04221104e-04,   9.88661992e-05],\n",
       "       [  1.49540039e-01,   1.50695446e-01,   1.62383921e-01,\n",
       "          2.04465180e-01,   2.29600543e-01,   2.40380516e-01,\n",
       "          2.47946618e-01,   2.53307590e-01,   2.57531837e-01,\n",
       "          2.60347048e-01,   2.62557239e-01,   2.64259145e-01,\n",
       "          2.65556338e-01,   2.66448755e-01,   2.67141336e-01,\n",
       "          2.67674921e-01,   2.68084719e-01,   2.68398678e-01,\n",
       "          2.68639669e-01,   2.68825213e-01,   2.68967896e-01,\n",
       "          2.69077428e-01,   2.69161308e-01,   2.69225336e-01,\n",
       "          2.69274001e-01,   2.69310783e-01,   2.69338381e-01,\n",
       "          2.69358895e-01,   2.69373964e-01,   2.69375687e-01]])"
      ]
     },
     "execution_count": 740,
     "metadata": {},
     "output_type": "execute_result"
    }
   ],
   "source": [
    "result"
   ]
  },
  {
   "cell_type": "code",
   "execution_count": 705,
   "metadata": {
    "collapsed": true
   },
   "outputs": [],
   "source": [
    "# sanity check that the simulated trajectory satisfies adding up constraint\n",
    "assert np.allclose(result.y.sum(axis=0), np.ones(result.t.size))"
   ]
  },
  {
   "cell_type": "markdown",
   "metadata": {},
   "source": [
    "# Interactive simulation"
   ]
  },
  {
   "cell_type": "code",
   "execution_count": 810,
   "metadata": {
    "collapsed": true
   },
   "outputs": [],
   "source": [
    "def plot_generalized_sexual_selection(x0=0.25, x1=0.25, x2=0.25, selection_function=\"kirkpatrick\",\n",
    "                                      d0=1, d2=1, T=10, R=6, P=4, S=0, max_time=10):\n",
    "\n",
    "    fig, ax = plt.subplots(1,1, figsize=(10,8))\n",
    "\n",
    "    # prepare the axes\n",
    "    ax.set_ylim((0, 1))\n",
    "    ax.set_xlabel(r\"Time, $t$\", fontsize=15)\n",
    "    ax.set_ylabel(r\"Female genotype shares, $x_i$\", fontsize=15)\n",
    "    \n",
    "    # create the initial condition\n",
    "    x3 = 1 - (x0 + x1 + x2)\n",
    "    y0=np.array([x0,x1,x2,x3])\n",
    "    assert np.allclose(y0.sum(), 1)\n",
    "    \n",
    "    # create the payoff kernel\n",
    "    assert T > R > P > S\n",
    "    payoff_kernel = np.array([[R, S],\n",
    "                              [T, P]])\n",
    "    \n",
    "    # create the selection functions\n",
    "    if selection_function == \"kirkpatrick\":\n",
    "        UGA = lambda x_A: kirkpatrick_selection(x_A, d0)\n",
    "        UgA = lambda x_A: kirkpatrick_selection(x_A, d2)\n",
    "    elif selection_function == \"seger\":\n",
    "        UGA = lambda x_A: seger_selection(x_A, d0)\n",
    "        UgA = lambda x_A: seger_selection(x_A, d2)\n",
    "    else:\n",
    "      raise ValueError(\"selection_function must be one of \\\"kirkpatrick\\\" or \\\"seger\\\".\")\n",
    "    \n",
    "    # simulate the model starting from a random initial condition\n",
    "    f = lambda t, y: generalized_sexual_selection(y, UGA, UgA, payoff_kernel)\n",
    "    result = integrate.solve_ivp(f, t_span=(0, max_time), y0=y0, rtol=1e-7, atol=1e-9,\n",
    "                                 dense_output=True, vectorized=True)\n",
    "    \n",
    "    ax.plot(result.t, result.y[0], label=\"GA\")\n",
    "    ax.plot(result.t, result.y[1], label=\"Ga\")\n",
    "    ax.plot(result.t, result.y[2], label=\"gA\")\n",
    "    ax.plot(result.t, result.y[3], label=\"ga\")\n",
    "    ax.legend()\n",
    "    plt.show()\n",
    "\n",
    "    return result"
   ]
  },
  {
   "cell_type": "code",
   "execution_count": 811,
   "metadata": {},
   "outputs": [
    {
     "data": {
      "image/png": "[encoded data removed]",
      "text/plain": [
       "<matplotlib.figure.Figure at 0x1515ba3080>"
      ]
     },
     "metadata": {},
     "output_type": "display_data"
    }
   ],
   "source": [
    "result = plot_generalized_sexual_selection(selection_function=\"kirkpatrick\", T=50)"
   ]
  },
  {
   "cell_type": "code",
   "execution_count": 815,
   "metadata": {},
   "outputs": [
    {
     "data": {
      "application/vnd.jupyter.widget-view+json": {
       "model_id": "87ef03d7bb3f4d89afe362876f2a8afa",
       "version_major": 2,
       "version_minor": 0
      },
      "text/plain": [
       "A Jupyter Widget"
      ]
     },
     "metadata": {},
     "output_type": "display_data"
    }
   ],
   "source": [
    "# sliders used to control the initial condition\n",
    "x0_slider = widgets.FloatSlider(value=0.25, min=0.0, max=1.0, step=0.01, description=r\"$x_0$\")\n",
    "x1_slider = widgets.FloatSlider(value=0.25, min=0.0, max=1.0, step=0.01, description=r\"$x_1$\")\n",
    "x2_slider = widgets.FloatSlider(value=0.25, min=0.0, max=1.0, step=0.01, description=r\"$x_2$\")\n",
    "\n",
    "# sliders used to control the Prisoner's Dilemma Payoffs\n",
    "T_slider = widgets.IntSlider(value=10, min=0, max=100, description=r\"$T$\")\n",
    "R_slider = widgets.IntSlider(value=8, min=0, max=100, description=r\"$R$\")\n",
    "P_slider = widgets.IntSlider(value=6, min=0, max=100, description=r\"$P$\")\n",
    "S_slider = widgets.IntSlider(value=4, min=0, max=100, description=r\"$S$\")\n",
    "\n",
    "# slider used to control which selection function is being used\n",
    "U_slider = widgets.Dropdown(options=[\"kirkpatrick\", \"seger\"], index=0, description=r\"$U$\")\n",
    "\n",
    "# slider that controls the parameters of the selection function\n",
    "d0_slider = widgets.IntSlider(value=1, min=1, max=100, description=r\"$d_0$\")\n",
    "d2_slider = widgets.IntSlider(value=1, min=1, max=100, description=r\"$d_2$\")\n",
    "\n",
    "# slider that controls max simulation time\n",
    "max_time_slider = widgets.IntSlider(value=25, min=1, max=250, description=r\"$\\max t$\")\n",
    "\n",
    "w = widgets.interactive(plot_generalized_sexual_selection, x0=x0_slider, x1=x1_slider, x2=x2_slider,\n",
    "                        selection_function=U_slider, d0=d0_slider, d2=d2_slider, \n",
    "                        T=T_slider, R=R_slider, P=P_slider, S=S_slider, max_time=max_time_slider)\n",
    "display(w)"
   ]
  },
  {
   "cell_type": "code",
   "execution_count": null,
   "metadata": {
    "collapsed": true
   },
   "outputs": [],
   "source": []
  }
 ],
 "metadata": {
  "kernelspec": {
   "display_name": "Python 3",
   "language": "python",
   "name": "python3"
  },
  "language_info": {
   "codemirror_mode": {
    "name": "ipython",
    "version": 3
   },
   "file_extension": ".py",
   "mimetype": "text/x-python",
   "name": "python",
   "nbconvert_exporter": "python",
   "pygments_lexer": "ipython3",
   "version": "3.6.3"
  }
 },
 "nbformat": 4,
 "nbformat_minor": 2
}
