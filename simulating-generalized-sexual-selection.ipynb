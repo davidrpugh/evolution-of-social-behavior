{
 "cells": [
  {
   "cell_type": "code",
   "execution_count": 1,
   "metadata": {
    "collapsed": true
   },
   "outputs": [],
   "source": [
    "import ipywidgets as widgets\n",
    "import matplotlib.pyplot as plt\n",
    "import numpy as np\n",
    "from scipy import integrate\n",
    "\n",
    "import models\n",
    "import payoffs\n",
    "import plotting\n",
    "import selection_functions"
   ]
  },
  {
   "cell_type": "code",
   "execution_count": 2,
   "metadata": {
    "collapsed": true
   },
   "outputs": [],
   "source": [
    "%matplotlib inline\n",
    "plt.style.use(\"ggplot\")"
   ]
  },
  {
   "cell_type": "markdown",
   "metadata": {},
   "source": [
    "# Basic simulation"
   ]
  },
  {
   "cell_type": "code",
   "execution_count": 72,
   "metadata": {
    "collapsed": true
   },
   "outputs": [],
   "source": [
    "integrate.solve_ivp?"
   ]
  },
  {
   "cell_type": "code",
   "execution_count": 12,
   "metadata": {
    "collapsed": true
   },
   "outputs": [],
   "source": [
    "# random initial condition\n",
    "prng = np.random.RandomState(42)\n",
    "number_of_genotypes = 4\n",
    "initial_offspring_share, = prng.dirichlet(np.ones(number_of_genotypes), 1)\n",
    "y0 = initial_offspring_share\n",
    "\n",
    "# define the selection functions\n",
    "d1, d3 = 2, 1\n",
    "UGA = lambda x_A: 1\n",
    "UgA = lambda x_A: selection_functions.kirkpatrick_selection(x_A, d3)\n",
    "\n",
    "# define the payoffs, metabolic costs and mutation rate\n",
    "payoffs.prisoners_dilemma_payoffs(prng)\n",
    "M, m = 0.0, 0.0\n",
    "metabolic_costs = np.array([M, m])\n",
    "mutation_rate = 0.0"
   ]
  },
  {
   "cell_type": "code",
   "execution_count": 13,
   "metadata": {},
   "outputs": [
    {
     "data": {
      "text/plain": [
       "array([[ 9,  4],\n",
       "       [10,  6]])"
      ]
     },
     "execution_count": 13,
     "metadata": {},
     "output_type": "execute_result"
    }
   ],
   "source": [
    "payoff_kernel"
   ]
  },
  {
   "cell_type": "code",
   "execution_count": 14,
   "metadata": {},
   "outputs": [],
   "source": [
    "solution = integrate.solve_ivp(F, t_span=(0, 100), y0=y0, method=\"RK45\", rtol=1e-12, atol=1e-15,\n",
    "                               dense_output=True, vectorized=True)"
   ]
  },
  {
   "cell_type": "code",
   "execution_count": 15,
   "metadata": {},
   "outputs": [
    {
     "data": {
      "text/plain": [
       "  message: 'The solver successfully reached the interval end.'\n",
       "     nfev: 4484\n",
       "     njev: 0\n",
       "      nlu: 0\n",
       "      sol: <scipy.integrate._ivp.common.OdeSolution object at 0x112ca6128>\n",
       "   status: 0\n",
       "  success: True\n",
       "        t: array([  0.00000000e+00,   1.52193394e-03,   1.67412733e-02,\n",
       "         3.24649882e-02,   4.84517433e-02,   6.47040962e-02,\n",
       "         8.12228973e-02,   9.80088474e-02,   1.15062476e-01,\n",
       "         1.32384133e-01,   1.49973971e-01,   1.67831921e-01,\n",
       "         1.85957699e-01,   2.04350784e-01,   2.23010416e-01,\n",
       "         2.41935592e-01,   2.61125049e-01,   2.80577279e-01,\n",
       "         3.00290524e-01,   3.20262778e-01,   3.40491800e-01,\n",
       "         3.60975121e-01,   3.81710055e-01,   4.02693714e-01,\n",
       "         4.23923025e-01,   4.45394754e-01,   4.67105518e-01,\n",
       "         4.89051811e-01,   5.11230023e-01,   5.33636461e-01,\n",
       "         5.56267375e-01,   5.79118973e-01,   6.02187443e-01,\n",
       "         6.25468971e-01,   6.48959763e-01,   6.72656050e-01,\n",
       "         6.96554116e-01,   7.20650296e-01,   7.44941001e-01,\n",
       "         7.69422714e-01,   7.94092115e-01,   8.18946019e-01,\n",
       "         8.43981199e-01,   8.69194526e-01,   8.94582971e-01,\n",
       "         9.20143600e-01,   9.45873579e-01,   9.71770178e-01,\n",
       "         9.97830758e-01,   1.02405278e+00,   1.05043380e+00,\n",
       "         1.07697146e+00,   1.10366349e+00,   1.13050772e+00,\n",
       "         1.15750204e+00,   1.18464444e+00,   1.21193298e+00,\n",
       "         1.23936579e+00,   1.26694107e+00,   1.29465711e+00,\n",
       "         1.32251222e+00,   1.35050483e+00,   1.37863339e+00,\n",
       "         1.40689643e+00,   1.43529252e+00,   1.46382030e+00,\n",
       "         1.49247845e+00,   1.52126571e+00,   1.55018087e+00,\n",
       "         1.57922275e+00,   1.60839024e+00,   1.63768226e+00,\n",
       "         1.66709778e+00,   1.69663580e+00,   1.72629539e+00,\n",
       "         1.75607562e+00,   1.78597563e+00,   1.81599460e+00,\n",
       "         1.84613171e+00,   1.87638623e+00,   1.90675743e+00,\n",
       "         1.93724462e+00,   1.96784716e+00,   1.99856443e+00,\n",
       "         2.02939585e+00,   2.06034087e+00,   2.09139898e+00,\n",
       "         2.12256969e+00,   2.15385257e+00,   2.18524718e+00,\n",
       "         2.21675316e+00,   2.24837013e+00,   2.28009778e+00,\n",
       "         2.31193581e+00,   2.34388397e+00,   2.37594202e+00,\n",
       "         2.40810977e+00,   2.44038703e+00,   2.47277367e+00,\n",
       "         2.50526958e+00,   2.53787466e+00,   2.57058887e+00,\n",
       "         2.60341217e+00,   2.63634458e+00,   2.66938612e+00,\n",
       "         2.70253685e+00,   2.73579685e+00,   2.76916625e+00,\n",
       "         2.80264517e+00,   2.83623381e+00,   2.86993234e+00,\n",
       "         2.90374100e+00,   2.93766004e+00,   2.97168974e+00,\n",
       "         3.00583039e+00,   3.04008234e+00,   3.07444594e+00,\n",
       "         3.10892158e+00,   3.14350966e+00,   3.17821063e+00,\n",
       "         3.21302495e+00,   3.24795311e+00,   3.28299562e+00,\n",
       "         3.31815302e+00,   3.35342588e+00,   3.38881480e+00,\n",
       "         3.42432037e+00,   3.45994326e+00,   3.49568411e+00,\n",
       "         3.53154363e+00,   3.56752252e+00,   3.60362153e+00,\n",
       "         3.63984142e+00,   3.67618298e+00,   3.71264700e+00,\n",
       "         3.74923434e+00,   3.78594583e+00,   3.82278237e+00,\n",
       "         3.85974485e+00,   3.89683419e+00,   3.93405134e+00,\n",
       "         3.97139726e+00,   4.00887294e+00,   4.04647939e+00,\n",
       "         4.08421762e+00,   4.12208869e+00,   4.16009365e+00,\n",
       "         4.19823359e+00,   4.23650961e+00,   4.27492280e+00,\n",
       "         4.31347432e+00,   4.35216528e+00,   4.39099686e+00,\n",
       "         4.42997021e+00,   4.46908652e+00,   4.50834696e+00,\n",
       "         4.54775273e+00,   4.58730504e+00,   4.62700507e+00,\n",
       "         4.66685404e+00,   4.70685316e+00,   4.74700361e+00,\n",
       "         4.78730659e+00,   4.82776331e+00,   4.86837492e+00,\n",
       "         4.90914260e+00,   4.95006748e+00,   4.99115070e+00,\n",
       "         5.03239335e+00,   5.07379650e+00,   5.11536119e+00,\n",
       "         5.15708841e+00,   5.19897910e+00,   5.24103419e+00,\n",
       "         5.28325451e+00,   5.32564084e+00,   5.36819390e+00,\n",
       "         5.41091433e+00,   5.45380268e+00,   5.49685943e+00,\n",
       "         5.54008494e+00,   5.58347947e+00,   5.62704317e+00,\n",
       "         5.67077606e+00,   5.71467803e+00,   5.75874882e+00,\n",
       "         5.80298804e+00,   5.84739513e+00,   5.89196933e+00,\n",
       "         5.93670976e+00,   5.98161529e+00,   6.02668466e+00,\n",
       "         6.07191635e+00,   6.11730868e+00,   6.16285971e+00,\n",
       "         6.20856732e+00,   6.25442915e+00,   6.30044261e+00,\n",
       "         6.34660489e+00,   6.39291295e+00,   6.43936354e+00,\n",
       "         6.48595317e+00,   6.53267817e+00,   6.57953464e+00,\n",
       "         6.62651849e+00,   6.67362546e+00,   6.72085112e+00,\n",
       "         6.76819087e+00,   6.81564001e+00,   6.86319369e+00,\n",
       "         6.91084700e+00,   6.95859491e+00,   7.00643241e+00,\n",
       "         7.05435438e+00,   7.10235576e+00,   7.15043145e+00,\n",
       "         7.19857643e+00,   7.24678574e+00,   7.29505444e+00,\n",
       "         7.34337775e+00,   7.39175099e+00,   7.44016959e+00,\n",
       "         7.48862913e+00,   7.53712534e+00,   7.58565415e+00,\n",
       "         7.63421163e+00,   7.68279404e+00,   7.73139782e+00,\n",
       "         7.78001963e+00,   7.82865627e+00,   7.87730478e+00,\n",
       "         7.92596238e+00,   7.97462646e+00,   8.02329458e+00,\n",
       "         8.07196455e+00,   8.12063452e+00,   8.16930449e+00,\n",
       "         8.21797445e+00,   8.26664442e+00,   8.31531439e+00,\n",
       "         8.36398436e+00,   8.41265432e+00,   8.46132429e+00,\n",
       "         8.50999426e+00,   8.55866423e+00,   8.60733420e+00,\n",
       "         8.65600416e+00,   8.70467413e+00,   8.75334410e+00,\n",
       "         8.80201407e+00,   8.85068403e+00,   8.89935400e+00,\n",
       "         8.94802397e+00,   8.99669394e+00,   9.04536391e+00,\n",
       "         9.09403387e+00,   9.14270384e+00,   9.19137381e+00,\n",
       "         9.24004378e+00,   9.28871374e+00,   9.33738371e+00,\n",
       "         9.38605368e+00,   9.43472365e+00,   9.48339361e+00,\n",
       "         9.53206358e+00,   9.58073355e+00,   9.62940352e+00,\n",
       "         9.67807349e+00,   9.72674345e+00,   9.77541342e+00,\n",
       "         9.82408339e+00,   9.87275336e+00,   9.92142332e+00,\n",
       "         9.97009329e+00,   1.00187633e+01,   1.00674332e+01,\n",
       "         1.01161032e+01,   1.01647732e+01,   1.02134431e+01,\n",
       "         1.02621131e+01,   1.03107831e+01,   1.03594530e+01,\n",
       "         1.04081230e+01,   1.04567930e+01,   1.05054629e+01,\n",
       "         1.05541329e+01,   1.06028029e+01,   1.06514728e+01,\n",
       "         1.07001428e+01,   1.07488128e+01,   1.07974827e+01,\n",
       "         1.08461527e+01,   1.08948227e+01,   1.09434926e+01,\n",
       "         1.09921626e+01,   1.10408326e+01,   1.10895025e+01,\n",
       "         1.11381725e+01,   1.11868425e+01,   1.12355125e+01,\n",
       "         1.12841824e+01,   1.13328524e+01,   1.13815224e+01,\n",
       "         1.14301923e+01,   1.14788623e+01,   1.15275323e+01,\n",
       "         1.15762022e+01,   1.16248722e+01,   1.16735422e+01,\n",
       "         1.17222121e+01,   1.17708821e+01,   1.18195521e+01,\n",
       "         1.18682220e+01,   1.19168920e+01,   1.19655620e+01,\n",
       "         1.20142319e+01,   1.20629019e+01,   1.21115719e+01,\n",
       "         1.21602418e+01,   1.22089118e+01,   1.22575818e+01,\n",
       "         1.23062517e+01,   1.23549217e+01,   1.24035917e+01,\n",
       "         1.24522616e+01,   1.25009316e+01,   1.25496016e+01,\n",
       "         1.25982715e+01,   1.26469415e+01,   1.26956115e+01,\n",
       "         1.27442900e+01,   1.27929902e+01,   1.28417127e+01,\n",
       "         1.28904577e+01,   1.29392259e+01,   1.29880177e+01,\n",
       "         1.30368336e+01,   1.30856740e+01,   1.31345395e+01,\n",
       "         1.31834304e+01,   1.32323473e+01,   1.32812906e+01,\n",
       "         1.33302610e+01,   1.33792587e+01,   1.34282845e+01,\n",
       "         1.34773386e+01,   1.35264216e+01,   1.35755341e+01,\n",
       "         1.36246765e+01,   1.36738494e+01,   1.37230532e+01,\n",
       "         1.37722885e+01,   1.38215558e+01,   1.38708555e+01,\n",
       "         1.39201882e+01,   1.39695545e+01,   1.40189549e+01,\n",
       "         1.40683900e+01,   1.41178602e+01,   1.41673663e+01,\n",
       "         1.42169087e+01,   1.42664879e+01,   1.43161044e+01,\n",
       "         1.43657590e+01,   1.44154520e+01,   1.44651842e+01,\n",
       "         1.45149562e+01,   1.45647684e+01,   1.46146217e+01,\n",
       "         1.46645165e+01,   1.47144534e+01,   1.47644331e+01,\n",
       "         1.48144562e+01,   1.48645233e+01,   1.49146350e+01,\n",
       "         1.49647921e+01,   1.50149950e+01,   1.50652446e+01,\n",
       "         1.51155415e+01,   1.51658862e+01,   1.52162796e+01,\n",
       "         1.52667222e+01,   1.53172149e+01,   1.53677583e+01,\n",
       "         1.54183532e+01,   1.54690002e+01,   1.55197000e+01,\n",
       "         1.55704535e+01,   1.56212611e+01,   1.56721239e+01,\n",
       "         1.57230426e+01,   1.57740180e+01,   1.58250507e+01,\n",
       "         1.58761416e+01,   1.59272914e+01,   1.59785012e+01,\n",
       "         1.60297715e+01,   1.60811031e+01,   1.61324971e+01,\n",
       "         1.61839541e+01,   1.62354748e+01,   1.62870605e+01,\n",
       "         1.63387119e+01,   1.63904299e+01,   1.64422152e+01,\n",
       "         1.64940687e+01,   1.65459917e+01,   1.65979850e+01,\n",
       "         1.66500493e+01,   1.67021855e+01,   1.67543947e+01,\n",
       "         1.68066780e+01,   1.68590363e+01,   1.69114702e+01,\n",
       "         1.69639813e+01,   1.70165702e+01,   1.70692379e+01,\n",
       "         1.71219857e+01,   1.71748146e+01,   1.72277255e+01,\n",
       "         1.72807193e+01,   1.73337977e+01,   1.73869611e+01,\n",
       "         1.74402111e+01,   1.74935487e+01,   1.75469749e+01,\n",
       "         1.76004909e+01,   1.76540976e+01,   1.77077963e+01,\n",
       "         1.77615882e+01,   1.78154748e+01,   1.78694569e+01,\n",
       "         1.79235359e+01,   1.79777128e+01,   1.80319890e+01,\n",
       "         1.80863658e+01,   1.81408447e+01,   1.81954265e+01,\n",
       "         1.82501128e+01,   1.83049049e+01,   1.83598040e+01,\n",
       "         1.84148111e+01,   1.84699282e+01,   1.85251562e+01,\n",
       "         1.85804968e+01,   1.86359512e+01,   1.86915209e+01,\n",
       "         1.87472072e+01,   1.88030116e+01,   1.88589354e+01,\n",
       "         1.89149802e+01,   1.89711477e+01,   1.90274390e+01,\n",
       "         1.90838560e+01,   1.91403999e+01,   1.91970723e+01,\n",
       "         1.92538749e+01,   1.93108091e+01,   1.93678770e+01,\n",
       "         1.94250796e+01,   1.94824188e+01,   1.95398960e+01,\n",
       "         1.95975131e+01,   1.96552715e+01,   1.97131735e+01,\n",
       "         1.97712199e+01,   1.98294131e+01,   1.98877546e+01,\n",
       "         1.99462465e+01,   2.00048901e+01,   2.00636875e+01,\n",
       "         2.01226402e+01,   2.01817501e+01,   2.02410194e+01,\n",
       "         2.03004500e+01,   2.03600433e+01,   2.04198012e+01,\n",
       "         2.04797263e+01,   2.05398199e+01,   2.06000845e+01,\n",
       "         2.06605215e+01,   2.07211334e+01,   2.07819220e+01,\n",
       "         2.08428894e+01,   2.09040370e+01,   2.09653679e+01,\n",
       "         2.10268836e+01,   2.10885868e+01,   2.11504792e+01,\n",
       "         2.12125632e+01,   2.12748406e+01,   2.13373145e+01,\n",
       "         2.13999867e+01,   2.14628590e+01,   2.15259340e+01,\n",
       "         2.15892141e+01,   2.16527018e+01,   2.17163993e+01,\n",
       "         2.17803087e+01,   2.18444331e+01,   2.19087744e+01,\n",
       "         2.19733348e+01,   2.20381176e+01,   2.21031256e+01,\n",
       "         2.21683598e+01,   2.22338236e+01,   2.22995197e+01,\n",
       "         2.23654514e+01,   2.24316202e+01,   2.24980290e+01,\n",
       "         2.25646812e+01,   2.26315794e+01,   2.26987256e+01,\n",
       "         2.27661236e+01,   2.28337753e+01,   2.29016840e+01,\n",
       "         2.29698526e+01,   2.30382845e+01,   2.31069826e+01,\n",
       "         2.31759491e+01,   2.32451876e+01,   2.33147009e+01,\n",
       "         2.33844924e+01,   2.34545655e+01,   2.35249228e+01,\n",
       "         2.35955685e+01,   2.36665053e+01,   2.37377359e+01,\n",
       "         2.38092639e+01,   2.38810937e+01,   2.39532271e+01,\n",
       "         2.40256691e+01,   2.40984221e+01,   2.41714902e+01,\n",
       "         2.42448769e+01,   2.43185865e+01,   2.43926222e+01,\n",
       "         2.44669870e+01,   2.45416857e+01,   2.46167213e+01,\n",
       "         2.46920981e+01,   2.47678211e+01,   2.48438927e+01,\n",
       "         2.49203179e+01,   2.49971000e+01,   2.50742433e+01,\n",
       "         2.51517532e+01,   2.52296332e+01,   2.53078879e+01,\n",
       "         2.53865217e+01,   2.54655390e+01,   2.55449432e+01,\n",
       "         2.56247410e+01,   2.57049347e+01,   2.57855301e+01,\n",
       "         2.58665331e+01,   2.59479467e+01,   2.60297766e+01,\n",
       "         2.61120273e+01,   2.61947052e+01,   2.62778143e+01,\n",
       "         2.63613605e+01,   2.64453495e+01,   2.65297849e+01,\n",
       "         2.66146725e+01,   2.67000196e+01,   2.67858302e+01,\n",
       "         2.68721103e+01,   2.69588666e+01,   2.70461033e+01,\n",
       "         2.71338281e+01,   2.72220484e+01,   2.73107672e+01,\n",
       "         2.73999915e+01,   2.74897297e+01,   2.75799863e+01,\n",
       "         2.76707693e+01,   2.77620839e+01,   2.78539379e+01,\n",
       "         2.79463392e+01,   2.80392941e+01,   2.81328090e+01,\n",
       "         2.82268911e+01,   2.83215493e+01,   2.84167906e+01,\n",
       "         2.85126218e+01,   2.86090533e+01,   2.87060915e+01,\n",
       "         2.88037454e+01,   2.89020222e+01,   2.90009314e+01,\n",
       "         2.91004800e+01,   2.92006787e+01,   2.93015350e+01,\n",
       "         2.94030591e+01,   2.95052603e+01,   2.96081478e+01,\n",
       "         2.97117315e+01,   2.98160202e+01,   2.99210254e+01,\n",
       "         3.00267570e+01,   3.01332266e+01,   3.02404447e+01,\n",
       "         3.03484187e+01,   3.04571641e+01,   3.05666913e+01,\n",
       "         3.06770088e+01,   3.07881331e+01,   3.09000727e+01,\n",
       "         3.10128422e+01,   3.11264526e+01,   3.12409194e+01,\n",
       "         3.13562564e+01,   3.14724747e+01,   3.15895870e+01,\n",
       "         3.17076090e+01,   3.18265573e+01,   3.19464440e+01,\n",
       "         3.20672878e+01,   3.21890967e+01,   3.23118934e+01,\n",
       "         3.24356942e+01,   3.25605127e+01,   3.26863682e+01,\n",
       "         3.28132767e+01,   3.29412570e+01,   3.30703267e+01,\n",
       "         3.32005074e+01,   3.33318136e+01,   3.34642682e+01,\n",
       "         3.35978932e+01,   3.37327083e+01,   3.38687342e+01,\n",
       "         3.40059921e+01,   3.41445093e+01,   3.42843030e+01,\n",
       "         3.44254006e+01,   3.45678273e+01,   3.47116062e+01,\n",
       "         3.48567624e+01,   3.50033271e+01,   3.51513203e+01,\n",
       "         3.53007768e+01,   3.54517233e+01,   3.56041888e+01,\n",
       "         3.57582028e+01,   3.59138031e+01,   3.60710187e+01,\n",
       "         3.62298850e+01,   3.63904324e+01,   3.65527010e+01,\n",
       "         3.67167271e+01,   3.68825495e+01,   3.70502105e+01,\n",
       "         3.72197449e+01,   3.73911968e+01,   3.75646097e+01,\n",
       "         3.77400298e+01,   3.79175051e+01,   3.80970893e+01,\n",
       "         3.82788236e+01,   3.84627575e+01,   3.86489453e+01,\n",
       "         3.88374526e+01,   3.90283242e+01,   3.92216261e+01,\n",
       "         3.94174198e+01,   3.96157769e+01,   3.98167504e+01,\n",
       "         4.00204266e+01,   4.02268614e+01,   4.04361413e+01,\n",
       "         4.06483383e+01,   4.08635382e+01,   4.10818172e+01,\n",
       "         4.13032775e+01,   4.15280095e+01,   4.17561057e+01,\n",
       "         4.19876640e+01,   4.22227922e+01,   4.24616049e+01,\n",
       "         4.27042086e+01,   4.29507319e+01,   4.32013054e+01,\n",
       "         4.34560466e+01,   4.37151001e+01,   4.39786355e+01,\n",
       "         4.42467876e+01,   4.45197223e+01,   4.47975887e+01,\n",
       "         4.50805849e+01,   4.53689166e+01,   4.56627591e+01,\n",
       "         4.59623453e+01,   4.62678733e+01,   4.65795976e+01,\n",
       "         4.68977582e+01,   4.72226289e+01,   4.75544960e+01,\n",
       "         4.78936667e+01,   4.82404521e+01,   4.85952069e+01,\n",
       "         4.89582765e+01,   4.93300542e+01,   4.97109846e+01,\n",
       "         5.01014895e+01,   5.05020651e+01,   5.09132454e+01,\n",
       "         5.13355714e+01,   5.17696443e+01,   5.22161510e+01,\n",
       "         5.26758006e+01,   5.31493545e+01,   5.36376018e+01,\n",
       "         5.41415725e+01,   5.46622364e+01,   5.52006402e+01,\n",
       "         5.57581171e+01,   5.63359261e+01,   5.69355758e+01,\n",
       "         5.75587725e+01,   5.82071229e+01,   5.88830630e+01,\n",
       "         5.95885927e+01,   6.03266032e+01,   6.10998600e+01,\n",
       "         6.19121227e+01,   6.27670443e+01,   6.36689561e+01,\n",
       "         6.46232416e+01,   6.56360260e+01,   6.67143684e+01,\n",
       "         6.78672291e+01,   6.91045041e+01,   7.04404567e+01,\n",
       "         7.18874062e+01,   7.34703343e+01,   7.52071789e+01,\n",
       "         7.71231685e+01,   7.92776601e+01,   8.17317940e+01,\n",
       "         8.45701622e+01,   8.79061976e+01,   9.19247597e+01,\n",
       "         9.70160578e+01,   9.89911440e+01,   1.00000000e+02])\n",
       " t_events: None\n",
       "        y: array([[  8.21968292e-02,   8.24950888e-02,   8.54706094e-02, ...,\n",
       "          7.07686398e-01,   7.07686398e-01,   7.07686398e-01],\n",
       "       [  5.27251783e-01,   5.26832864e-01,   5.22674162e-01, ...,\n",
       "         -3.07367808e-15,  -1.14148299e-15,  -3.66887602e-16],\n",
       "       [  2.30640700e-01,   2.30659501e-01,   2.30843382e-01, ...,\n",
       "          2.92313602e-01,   2.92313602e-01,   2.92313602e-01],\n",
       "       [  1.59910688e-01,   1.60012546e-01,   1.61011847e-01, ...,\n",
       "          4.35633984e-15,   3.28966320e-15,   2.16643593e-15]])"
      ]
     },
     "execution_count": 15,
     "metadata": {},
     "output_type": "execute_result"
    }
   ],
   "source": [
    "solution"
   ]
  },
  {
   "cell_type": "code",
   "execution_count": 16,
   "metadata": {},
   "outputs": [
    {
     "data": {
      "image/png": "[encoded data removed]",
      "text/plain": [
       "<matplotlib.figure.Figure at 0x112ca6cc0>"
      ]
     },
     "metadata": {},
     "output_type": "display_data"
    }
   ],
   "source": [
    "plt.plot(solution.t, solution.y[0], label=\"GA\")\n",
    "plt.plot(solution.t, solution.y[1], label=\"Ga\")\n",
    "plt.plot(solution.t, solution.y[2], label=\"gA\")\n",
    "plt.plot(solution.t, solution.y[3], label=\"ga\")\n",
    "plt.ylim(0, 1.05)\n",
    "plt.legend()\n",
    "plt.show()"
   ]
  },
  {
   "cell_type": "markdown",
   "metadata": {},
   "source": [
    "# Interactive simulation"
   ]
  },
  {
   "cell_type": "code",
   "execution_count": 17,
   "metadata": {},
   "outputs": [
    {
     "data": {
      "application/vnd.jupyter.widget-view+json": {
       "model_id": "08703c6478fb4a66a641bd9ed692ee60",
       "version_major": 2,
       "version_minor": 0
      },
      "text/plain": [
       "A Jupyter Widget"
      ]
     },
     "metadata": {},
     "output_type": "display_data"
    }
   ],
   "source": [
    "# sliders used to control the initial condition\n",
    "x1_slider = widgets.FloatSlider(value=0.25, min=0.0, max=1.0, step=1e-3, description=r\"$x_1$\", readout_format=\".3f\")\n",
    "x2_slider = widgets.FloatSlider(value=0.25, min=0.0, max=1.0, step=1e-3, description=r\"$x_2$\", readout_format=\".3f\")\n",
    "x3_slider = widgets.FloatSlider(value=0.25, min=0.0, max=1.0, step=1e-3, description=r\"$x_3$\", readout_format=\".3f\")\n",
    "\n",
    "# sliders used to control the Prisoner's Dilemma Payoffs\n",
    "T_slider = widgets.FloatSlider(value=10, min=0, max=100, step=0.1, description=r\"$T$\")\n",
    "R_slider = widgets.FloatSlider(value=8, min=0, max=100, step=0.1, description=r\"$R$\")\n",
    "P_slider = widgets.FloatSlider(value=6, min=0, max=100, step=0.1, description=r\"$P$\")\n",
    "S_slider = widgets.FloatSlider(value=4, min=0, max=100, step=0.1, description=r\"$S$\")\n",
    "\n",
    "# sliders used to control the metabolic costs\n",
    "M_slider = widgets.FloatSlider(value=0, min=0, max=100, step=0.1, description=r\"$M_G$\")\n",
    "m_slider = widgets.FloatSlider(value=0, min=0, max=100, step=0.1, description=r\"$m_g$\")\n",
    "\n",
    "# slider used to control which selection function is being used\n",
    "U_slider = widgets.Dropdown(options=[\"kirkpatrick\", \"seger\", \"wright\"], index=0, description=r\"$U_{\\gamma(j)A}$\")\n",
    "\n",
    "# slider that controls the parameters of the selection function\n",
    "d1_slider = widgets.FloatSlider(value=1, min=0.0, max=10, step=0.05, description=r\"$d_1$\")\n",
    "d3_slider = widgets.FloatSlider(value=1, min=0.0, max=10, step=0.05, description=r\"$d_3$\")\n",
    "\n",
    "# slider used to control the mutation rate\n",
    "e_slider = widgets.FloatSlider(value=0.0, min=0.0, max=1.0, step=1e-3, description=r\"$\\epsilon$\", readout_format=\".3f\")\n",
    "\n",
    "# slider that controls max simulation time\n",
    "max_time_slider = widgets.IntSlider(value=25, min=1, max=100000, description=r\"$\\max t$\")\n",
    "\n",
    "# slider used to control which selection function is being used\n",
    "U_slider = widgets.Dropdown(options=[\"kirkpatrick\", \"seger\", \"wright\"], index=0, description=r\"$U_{\\gamma(j)A}$\")\n",
    "\n",
    "\n",
    "w = widgets.interactive(plotting.plot_generalized_sexual_selection, x1=x1_slider, x2=x2_slider, x3=x3_slider,\n",
    "                        selection_function=U_slider, d1=d1_slider, d3=d3_slider, \n",
    "                        T=T_slider, R=R_slider, P=P_slider, S=S_slider,\n",
    "                        M=M_slider, m=m_slider, epsilon=e_slider,\n",
    "                        max_time=max_time_slider)\n",
    "display(w)"
   ]
  },
  {
   "cell_type": "code",
   "execution_count": 18,
   "metadata": {
    "collapsed": true
   },
   "outputs": [],
   "source": [
    "# can get access to the solution!\n",
    "(solution, optimize_result) = w.result"
   ]
  },
  {
   "cell_type": "code",
   "execution_count": null,
   "metadata": {
    "collapsed": true
   },
   "outputs": [],
   "source": []
  }
 ],
 "metadata": {
  "kernelspec": {
   "display_name": "Python 3",
   "language": "python",
   "name": "python3"
  },
  "language_info": {
   "codemirror_mode": {
    "name": "ipython",
    "version": 3
   },
   "file_extension": ".py",
   "mimetype": "text/x-python",
   "name": "python",
   "nbconvert_exporter": "python",
   "pygments_lexer": "ipython3",
   "version": "3.6.3"
  }
 },
 "nbformat": 4,
 "nbformat_minor": 2
}
