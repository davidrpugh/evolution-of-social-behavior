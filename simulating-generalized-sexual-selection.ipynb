{
 "cells": [
  {
   "cell_type": "code",
   "execution_count": 3,
   "metadata": {},
   "outputs": [],
   "source": [
    "import ipywidgets as widgets\n",
    "import matplotlib.pyplot as plt\n",
    "import numpy as np\n",
    "from scipy import integrate\n",
    "\n",
    "import symbolics\n",
    "import payoffs\n",
    "import plotting\n",
    "import selection_functions"
   ]
  },
  {
   "cell_type": "code",
   "execution_count": 4,
   "metadata": {
    "collapsed": true
   },
   "outputs": [],
   "source": [
    "%matplotlib inline\n",
    "plt.style.use(\"ggplot\")"
   ]
  },
  {
   "cell_type": "markdown",
   "metadata": {},
   "source": [
    "# Basic simulation"
   ]
  },
  {
   "cell_type": "code",
   "execution_count": 3,
   "metadata": {
    "collapsed": true
   },
   "outputs": [],
   "source": [
    "integrate.solve_ivp?"
   ]
  },
  {
   "cell_type": "code",
   "execution_count": 5,
   "metadata": {},
   "outputs": [],
   "source": [
    "# random initial condition\n",
    "prng = np.random.RandomState(42)\n",
    "number_of_genotypes = 4\n",
    "initial_offspring_share, = prng.dirichlet(np.ones(number_of_genotypes), 1)\n",
    "y0 = initial_offspring_share[:-1]\n",
    "\n",
    "# define the selection functions\n",
    "d1, d3 = 1.5, 1\n",
    "UGA = lambda x_A: selection_functions.kirkpatrick_selection(x_A, d1)\n",
    "UgA = lambda x_A: selection_functions.kirkpatrick_selection(x_A, d3)\n",
    "\n",
    "# define the payoffs\n",
    "payoff_kernel = payoffs.prisoners_dilemma_payoffs(prng)\n",
    "\n",
    "f = lambda t, y: symbolics.generalized_sexual_selection(y, UGA, UgA, payoff_kernel)\n",
    "jac = lambda t, y: symbolics.generalized_sexual_selection_jac(y, UGA, UgA, payoff_kernel)\n",
    "\n",
    "result = integrate.solve_ivp(f, t_span=(0, 10), y0=y0, rtol=1e-9, atol=1e-12, vectorized=True)"
   ]
  },
  {
   "cell_type": "code",
   "execution_count": 6,
   "metadata": {},
   "outputs": [
    {
     "data": {
      "text/plain": [
       "  message: 'The solver successfully reached the interval end.'\n",
       "     nfev: 542\n",
       "     njev: 0\n",
       "      nlu: 0\n",
       "      sol: None\n",
       "   status: 0\n",
       "  success: True\n",
       "        t: array([  0.00000000e+00,   7.77009411e-03,   8.54710352e-02,\n",
       "         1.79037250e-01,   2.73515217e-01,   3.69043337e-01,\n",
       "         4.65555115e-01,   5.62990654e-01,   6.61293502e-01,\n",
       "         7.60410518e-01,   8.60291737e-01,   9.60890256e-01,\n",
       "         1.06216213e+00,   1.16408873e+00,   1.26663193e+00,\n",
       "         1.36975321e+00,   1.47341691e+00,   1.57759012e+00,\n",
       "         1.68224257e+00,   1.78734650e+00,   1.89287656e+00,\n",
       "         1.99880967e+00,   2.10512492e+00,   2.21180341e+00,\n",
       "         2.31882818e+00,   2.42618402e+00,   2.53385744e+00,\n",
       "         2.64183645e+00,   2.75011056e+00,   2.85867061e+00,\n",
       "         2.96750868e+00,   3.07661804e+00,   3.18599303e+00,\n",
       "         3.29562898e+00,   3.40552219e+00,   3.51566980e+00,\n",
       "         3.62606978e+00,   3.73672085e+00,   3.84762245e+00,\n",
       "         3.95877469e+00,   4.07017830e+00,   4.18183462e+00,\n",
       "         4.29374554e+00,   4.40591349e+00,   4.51834141e+00,\n",
       "         4.63103272e+00,   4.74399129e+00,   4.85722145e+00,\n",
       "         4.97072794e+00,   5.08451588e+00,   5.19859079e+00,\n",
       "         5.31295854e+00,   5.42762532e+00,   5.54259766e+00,\n",
       "         5.65788235e+00,   5.77348646e+00,   5.88941729e+00,\n",
       "         6.00568237e+00,   6.12228940e+00,   6.23924622e+00,\n",
       "         6.35656083e+00,   6.47424128e+00,   6.59229572e+00,\n",
       "         6.71073228e+00,   6.82955914e+00,   6.94878441e+00,\n",
       "         7.06841615e+00,   7.18846232e+00,   7.30893079e+00,\n",
       "         7.42982926e+00,   7.55116532e+00,   7.67294636e+00,\n",
       "         7.79517965e+00,   7.91787223e+00,   8.04103103e+00,\n",
       "         8.16466278e+00,   8.28877411e+00,   8.41337150e+00,\n",
       "         8.53846135e+00,   8.66405001e+00,   8.79014380e+00,\n",
       "         8.91674903e+00,   9.04387211e+00,   9.17151953e+00,\n",
       "         9.29969795e+00,   9.42841420e+00,   9.55767540e+00,\n",
       "         9.68748896e+00,   9.81786266e+00,   9.94880469e+00,\n",
       "         1.00000000e+01])\n",
       " t_events: None\n",
       "        y: array([[ 0.08219683,  0.08241071,  0.08441303,  0.08650922,  0.08829949,\n",
       "         0.08979973,  0.09102172,  0.09197806,  0.09268183,  0.09314644,\n",
       "         0.09338553,  0.09341276,  0.09324175,  0.09288588,  0.09235825,\n",
       "         0.09167174,  0.09083886,  0.08987174,  0.08878209,  0.08758118,\n",
       "         0.08627977,  0.08488815,  0.0834161 ,  0.08187288,  0.08026729,\n",
       "         0.07860758,  0.07690157,  0.07515657,  0.07337944,  0.0715766 ,\n",
       "         0.06975404,  0.06791735,  0.06607172,  0.06422196,  0.06237253,\n",
       "         0.06052756,  0.05869084,  0.05686588,  0.05505587,  0.05326375,\n",
       "         0.0514922 ,  0.04974364,  0.04802028,  0.0463241 ,  0.04465686,\n",
       "         0.04302016,  0.0414154 ,  0.03984379,  0.0383064 ,  0.03680415,\n",
       "         0.0353378 ,  0.03390799,  0.03251521,  0.03115986,  0.0298422 ,\n",
       "         0.02856241,  0.02732055,  0.02611661,  0.02495047,  0.02382196,\n",
       "         0.0227308 ,  0.02167667,  0.02065918,  0.01967787,  0.01873224,\n",
       "         0.01782175,  0.01694579,  0.01610372,  0.01529487,  0.01451854,\n",
       "         0.013774  ,  0.01306049,  0.01237722,  0.01172341,  0.01109825,\n",
       "         0.0105009 ,  0.00993055,  0.00938636,  0.00886748,  0.00837308,\n",
       "         0.00790232,  0.00745436,  0.00702839,  0.00662357,  0.0062391 ,\n",
       "         0.00587418,  0.00552802,  0.00519986,  0.00488894,  0.00459451,\n",
       "         0.00448406],\n",
       "       [ 0.52725178,  0.52746994,  0.52970712,  0.53252832,  0.53550689,\n",
       "         0.53863966,  0.54191696,  0.54532894,  0.54886565,  0.55251705,\n",
       "         0.55627309,  0.56012384,  0.56405946,  0.5680712 ,  0.57214969,\n",
       "         0.57628566,  0.58047015,  0.5846945 ,  0.5889504 ,  0.59322986,\n",
       "         0.59752528,  0.60182939,  0.6061353 ,  0.61043647,  0.61472672,\n",
       "         0.61900023,  0.62325152,  0.62747542,  0.6316671 ,  0.63582205,\n",
       "         0.63993605,  0.64400516,  0.64802575,  0.65199442,  0.65590805,\n",
       "         0.65976377,  0.66355894,  0.66729114,  0.67095818,  0.67455806,\n",
       "         0.67808902,  0.68154945,  0.68493795,  0.6882533 ,  0.69149444,\n",
       "         0.69466048,  0.6977507 ,  0.70076451,  0.70370149,  0.70656136,\n",
       "         0.70934396,  0.71204927,  0.71467741,  0.7172286 ,  0.71970319,\n",
       "         0.72210163,  0.72442448,  0.72667241,  0.72884616,  0.73094659,\n",
       "         0.73297462,  0.73493126,  0.73681761,  0.73863481,  0.74038408,\n",
       "         0.74206671,  0.74368401,  0.74523738,  0.74672824,  0.74815804,\n",
       "         0.7495283 ,  0.75084053,  0.75209628,  0.75329714,  0.75444468,\n",
       "         0.7555405 ,  0.75658621,  0.75758341,  0.75853371,  0.7594387 ,\n",
       "         0.76029999,  0.76111915,  0.76189774,  0.7626373 ,  0.76333937,\n",
       "         0.76400542,  0.76463695,  0.76523538,  0.76580213,  0.76633857,\n",
       "         0.76653975],\n",
       "       [ 0.2306407 ,  0.22972407,  0.2207579 ,  0.21042907,  0.20049508,\n",
       "         0.19093255,  0.1817397 ,  0.17291275,  0.16444652,  0.15633461,\n",
       "         0.14856958,  0.14114316,  0.13404639,  0.12726831,  0.1207992 ,\n",
       "         0.11462921,  0.10874822,  0.10314591,  0.09781191,  0.0927358 ,\n",
       "         0.08790726,  0.08331603,  0.07895205,  0.07480545,  0.07086657,\n",
       "         0.06712602,  0.0635747 ,  0.06020377,  0.05700471,  0.05396933,\n",
       "         0.05108971,  0.04835827,  0.04576774,  0.04331116,  0.04098186,\n",
       "         0.03877348,  0.03667995,  0.03469547,  0.03281453,  0.03103186,\n",
       "         0.02934246,  0.02774158,  0.02622469,  0.02478749,  0.02342589,\n",
       "         0.02213601,  0.02091416,  0.01975685,  0.01866075,  0.01762272,\n",
       "         0.01663976,  0.01570903,  0.01482785,  0.01399365,  0.01320401,\n",
       "         0.01245664,  0.01174936,  0.01108009,  0.01044688,  0.00984786,\n",
       "         0.00928126,  0.00874541,  0.00823872,  0.00775968,  0.00730686,\n",
       "         0.0068789 ,  0.0064745 ,  0.00609244,  0.00573156,  0.00539075,\n",
       "         0.00506897,  0.00476522,  0.00447855,  0.00420806,  0.0039529 ,\n",
       "         0.00371226,  0.00348536,  0.00327148,  0.00306992,  0.00288001,\n",
       "         0.00270113,  0.00253268,  0.0023741 ,  0.00222484,  0.0020844 ,\n",
       "         0.00195228,  0.00182803,  0.00171121,  0.00160141,  0.00149822,\n",
       "         0.00145971]])"
      ]
     },
     "execution_count": 6,
     "metadata": {},
     "output_type": "execute_result"
    }
   ],
   "source": [
    "result"
   ]
  },
  {
   "cell_type": "markdown",
   "metadata": {},
   "source": [
    "# Interactive simulation"
   ]
  },
  {
   "cell_type": "code",
   "execution_count": 8,
   "metadata": {},
   "outputs": [
    {
     "data": {
      "application/vnd.jupyter.widget-view+json": {
       "model_id": "03c794b56ce84cc680dfe08fee70ae52",
       "version_major": 2,
       "version_minor": 0
      },
      "text/plain": [
       "A Jupyter Widget"
      ]
     },
     "metadata": {},
     "output_type": "display_data"
    }
   ],
   "source": [
    "# sliders used to control the initial condition\n",
    "x1_slider = widgets.FloatSlider(value=0.25, min=0.0, max=1.0, step=0.01, description=r\"$x_1$\")\n",
    "x2_slider = widgets.FloatSlider(value=0.25, min=0.0, max=1.0, step=0.01, description=r\"$x_2$\")\n",
    "x3_slider = widgets.FloatSlider(value=0.25, min=0.0, max=1.0, step=0.01, description=r\"$x_3$\")\n",
    "\n",
    "# sliders used to control the Prisoner's Dilemma Payoffs\n",
    "T_slider = widgets.FloatSlider(value=10, min=0, max=100, step=0.1, description=r\"$T$\")\n",
    "R_slider = widgets.FloatSlider(value=8, min=0, max=100, step=0.1, description=r\"$R$\")\n",
    "P_slider = widgets.FloatSlider(value=6, min=0, max=100, step=0.1, description=r\"$P$\")\n",
    "S_slider = widgets.FloatSlider(value=4, min=0, max=100, step=0.1, description=r\"$S$\")\n",
    "\n",
    "# slider used to control which selection function is being used\n",
    "U_slider = widgets.Dropdown(options=[\"kirkpatrick\", \"seger\", \"wright-bergstrom\"], index=0, description=r\"$U_{\\gamma(j)A}$\")\n",
    "\n",
    "# slider that controls the parameters of the selection function\n",
    "d1_slider = widgets.FloatSlider(value=1, min=0.0, max=10, step=0.05, description=r\"$d_1$\")\n",
    "d3_slider = widgets.FloatSlider(value=1, min=0.0, max=10, step=0.05, description=r\"$d_3$\")\n",
    "\n",
    "# slider used to control the mutation rate\n",
    "e_slider = widgets.FloatSlider(value=0.0, min=0.0, max=1.0, step=1e-3, description=r\"$\\epsilon$\", readout_format=\".3f\")\n",
    "\n",
    "# slider that controls max simulation time\n",
    "max_time_slider = widgets.IntSlider(value=25, min=1, max=500, description=r\"$\\max t$\")\n",
    "\n",
    "w = widgets.interactive(plotting.plot_generalized_sexual_selection, x1=x1_slider, x2=x2_slider, x3=x3_slider,\n",
    "                        selection_function=U_slider, d1=d1_slider, d3=d3_slider, \n",
    "                        T=T_slider, R=R_slider, P=P_slider, S=S_slider, \n",
    "                        max_time=max_time_slider)\n",
    "display(w)"
   ]
  },
  {
   "cell_type": "code",
   "execution_count": 8,
   "metadata": {},
   "outputs": [],
   "source": [
    "# can get access to the solution!\n",
    "(solution, optimize_result) = w.result"
   ]
  },
  {
   "cell_type": "code",
   "execution_count": null,
   "metadata": {
    "collapsed": true
   },
   "outputs": [],
   "source": []
  }
 ],
 "metadata": {
  "kernelspec": {
   "display_name": "Python 3",
   "language": "python",
   "name": "python3"
  },
  "language_info": {
   "codemirror_mode": {
    "name": "ipython",
    "version": 3
   },
   "file_extension": ".py",
   "mimetype": "text/x-python",
   "name": "python",
   "nbconvert_exporter": "python",
   "pygments_lexer": "ipython3",
   "version": "3.6.3"
  }
 },
 "nbformat": 4,
 "nbformat_minor": 2
}
