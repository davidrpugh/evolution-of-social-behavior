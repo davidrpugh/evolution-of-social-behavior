{
 "cells": [
  {
   "cell_type": "markdown",
   "metadata": {},
   "source": [
    "# Model equations\n",
    "\n",
    "$$ \\dot{x}_i = \\frac{f_i(x; T, R, P, S, M, \\epsilon)}{F(x; T, R, P, S, M)} - x_i $$\n",
    "\n",
    "where the number of offspring with genotype $i$ (i.e., fitness), f $f_i$, is an average of partial fecundities\n",
    "\n",
    "$$ f_i(x; T, R, P, S, M, \\epsilon) = x_1F_{i,1}(x; T, R, P, S, M, \\epsilon) + x_2F_{i,2}(x; T, R, P, S, M, \\epsilon) + x_3F_{i,3}(x; T, R, P, S, M, \\epsilon) + (1 - x_1 - x_2 - x_3)F_{1,4}(x; T, R, P, S, M, \\epsilon) $$\n",
    "\n",
    "and the number of total offpspring across all genotypes, $F$, is the average of the total fecundities of the two females.\n",
    "\n",
    "$$ F(x; T, R, P, S, M) = x_G F_G(x_A; T, R, P, S, M) + (1 - x_G)F_g(x_A; T, R, P, S, M) $$"
   ]
  },
  {
   "cell_type": "markdown",
   "metadata": {},
   "source": [
    "# Partial derivatives\n",
    "\n",
    "\\begin{align}\n",
    "    \\frac{\\partial \\dot{x}_i}{\\partial x_i} =& \\frac{1}{F(x; T, R, P, S, M)}\\left(\\frac{\\partial f_i(x; T, R, P, S, M, \\epsilon)}{\\partial x_i} - \\frac{f_i(x; T, R, P, S, M, \\epsilon)}{F(x; T, R, P, S, M)}\\frac{\\partial F(x; T, R, P, S, M)}{\\partial x_i}\\right) - 1 \\\\\n",
    "    \\frac{\\partial \\dot{x}_i}{\\partial x_j} =& \\frac{1}{F(x; T, R, P, S, M)}\\left(\\frac{\\partial f_i(x; T, R, P, S, M, \\epsilon)}{\\partial x_j} - \\frac{f_i(x; T, R, P, S, M, \\epsilon)}{F(x; T, R, P, S, M)}\\frac{\\partial F(x; T, R, P, S, M)}{\\partial x_j}\\right)\n",
    "\\end{align}"
   ]
  },
  {
   "cell_type": "markdown",
   "metadata": {},
   "source": [
    "## Jacobian\n",
    "\n",
    "$$\n",
    "\\frac{1}{F(x; T, R, P, S, M)}\n",
    "\\begin{bmatrix}\n",
    "    \\left(\\frac{\\partial f_1(x; T, R, P, S, M, \\epsilon)}{\\partial x_1} - \\frac{f_1(x; T, R, P, S, M, \\epsilon)}{F(x; T, R, P, S, M)}\\frac{\\partial F(x; T, R, P, S, M)}{\\partial x_1}\\right) & \\left(\\frac{\\partial f_1(x; T, R, P, S, M, \\epsilon)}{\\partial x_2} - \\frac{f_1(x; T, R, P, S, M, \\epsilon)}{F(x; T, R, P, S, M)}\\frac{\\partial F(x; T, R, P, S, M)}{\\partial x_2}\\right) & \\left(\\frac{\\partial f_1(x; T, R, P, S, M, \\epsilon)}{\\partial x_3} - \\frac{f_1(x; T, R, P, S, M, \\epsilon)}{F(x; T, R, P, S, M)}\\frac{\\partial F(x; T, R, P, S, M)}{\\partial x_3}\\right) \\\\\n",
    "    \\left(\\frac{\\partial f_2(x; T, R, P, S, M, \\epsilon)}{\\partial x_1} - \\frac{f_2(x; T, R, P, S, M, \\epsilon)}{F(x; T, R, P, S, M)}\\frac{\\partial F(x; T, R, P, S, M)}{\\partial x_1}\\right) & \\left(\\frac{\\partial f_2(x; T, R, P, S, M, \\epsilon)}{\\partial x_2} - \\frac{f_2(x; T, R, P, S, M, \\epsilon)}{F(x; T, R, P, S, M)}\\frac{\\partial F(x; T, R, P, S, M)}{\\partial x_2}\\right) & \\left(\\frac{\\partial f_2(x; T, R, P, S, M, \\epsilon)}{\\partial x_3} - \\frac{f_2(x; T, R, P, S, M, \\epsilon)}{F(x; T, R, P, S, M)}\\frac{\\partial F(x; T, R, P, S, M)}{\\partial x_3}\\right) \\\\\n",
    "    \\left(\\frac{\\partial f_3(x; T, R, P, S, M, \\epsilon)}{\\partial x_1} - \\frac{f_3(x; T, R, P, S, M, \\epsilon)}{F(x; T, R, P, S, M)}\\frac{\\partial F(x; T, R, P, S, M)}{\\partial x_1}\\right) & \\left(\\frac{\\partial f_3(x; T, R, P, S, M, \\epsilon)}{\\partial x_2} - \\frac{f_3(x; T, R, P, S, M, \\epsilon)}{F(x; T, R, P, S, M)}\\frac{\\partial F(x; T, R, P, S, M)}{\\partial x_2}\\right) & \\left(\\frac{\\partial f_3(x; T, R, P, S, M, \\epsilon)}{\\partial x_3} - \\frac{f_3(x; T, R, P, S, M, \\epsilon)}{F(x; T, R, P, S, M)}\\frac{\\partial F(x; T, R, P, S, M)}{\\partial x_3}\\right)\n",
    "\\end{bmatrix}\n",
    "-\n",
    "I\n",
    "$$\n",
    "\n",
    "which we can further simplify as follows.\n",
    "\n",
    "$$ \\frac{1}{F(x; T, R, P, S, M)} \\left( \\nabla f(x; T, R, P, S, M, \\epsilon) - \\left[\\frac{f(x; T, R, P, S, M, \\epsilon)}{F(x; T, R, P, S, M)}\\right]^T \\nabla F(x; T, R, P, S, M) \\right) - I $$\n",
    "\n",
    "## Equilibrium\n",
    "\n",
    "Note that in any equilibrium $x^*$ we have that.\n",
    "\n",
    "$$ \\frac{1}{F(x^*; T, R, P, S, M)} \\bigg( \\nabla f(x^*; T, R, P, S, M, \\epsilon) - x^{*T} \\nabla F(x^*; T, R, P, S, M) \\bigg) - I $$\n"
   ]
  },
  {
   "cell_type": "markdown",
   "metadata": {},
   "source": [
    "## Stability\n",
    "\n",
    "Need the roots of the following polynomial to have negative real parts.\n",
    "\n",
    "$$ \\det \\Bigg[\\frac{1}{F(x^*; T, R, P, S, M)} \\bigg( \\nabla f(x^*; T, R, P, S, M, \\epsilon) - x^{*T} \\nabla F(x^*; T, R, P, S, M) \\bigg) - \\lambda I\\Bigg] = 0 $$"
   ]
  },
  {
   "cell_type": "markdown",
   "metadata": {},
   "source": [
    "### Trace\n",
    "\n",
    "Computing the partial derivatives from above.\n",
    "\n",
    "\\begin{align}\n",
    "    \\frac{\\partial f_1(x; T, R, P, S, M, \\epsilon)}{\\partial x_1} =& F_{1,1} - F_{1,4} + \\left(x_1\\left(\\frac{\\partial F_{1,1}(x; T, R, P, S, M, \\epsilon)}{\\partial x_1} - \\frac{\\partial F_{1,4}(x; T, R, P, S, M, \\epsilon)}{\\partial x_1}\\right) + x_2\\frac{\\partial F_{1,2}(x; T, R, P, S, M, \\epsilon)}{\\partial x_1} + x_3\\frac{\\partial F_{1,3}(x; T, R, P, S, M, \\epsilon)}{\\partial x_1}\\right) \\\\\n",
    "    \\frac{\\partial f_2(x; T, R, P, S, M, \\epsilon)}{\\partial x_2} =& F_{2,2} - F_{2,4} + \\left(x_1\\frac{\\partial F_{2,1}(x; T, R, P, S, M, \\epsilon)}{\\partial x_2}  + x_2\\left(\\frac{\\partial F_{2,2}(x; T, R, P, S, M, \\epsilon)}{\\partial x_2} - \\frac{\\partial F_{2,4}(x; T, R, P, S, M, \\epsilon)}{\\partial x_2}\\right) + x_3\\frac{\\partial F_{2,3}(x; T, R, P, S, M, \\epsilon)}{\\partial x_2}\\right) \\\\\n",
    "    \\frac{\\partial f_3(x; T, R, P, S, M, \\epsilon)}{\\partial x_3} =& F_{3,3} - F_{3,4} + \\left(x_1\\frac{\\partial F_{3,1}(x; T, R, P, S, M, \\epsilon)}{\\partial x_3} + x_2\\frac{\\partial F_{3,2}(x; T, R, P, S, M, \\epsilon)}{\\partial x_3} + x_3\\left(\\frac{\\partial F_{3,3}(x; T, R, P, S, M, \\epsilon)}{\\partial x_3} - \\frac{\\partial F_{3,4}(x; T, R, P, S, M, \\epsilon)}{\\partial x_3}\\right)\\right) \\\\\n",
    "\\end{align}\n",
    "\n",
    "and \n",
    "\n",
    "\\begin{align}\n",
    "    \\frac{\\partial F(x; T, R, P, S, M)}{\\partial x_1} =& F_G(x_A; T, R, P, S, M) - F_g(x_A; T, R, P, S, M) + \\left(x_G\\frac{\\partial F_G(x_A; T, R, P, S, M)}{\\partial x_A} + (1 - x_G)\\frac{\\partial F_g(x_A; T, R, P, S, M)}{\\partial x_A}\\right) \\\\\n",
    "    \\frac{\\partial F(x; T, R, P, S, M)}{\\partial x_2} =& F_G(x_A; T, R, P, S, M) - F_g(x_A; T, R, P, S, M) \\\\\n",
    "    \\frac{\\partial F(x; T, R, P, S, M)}{\\partial x_3} =& \\frac{\\partial F(x; T, R, P, S, M)}{\\partial x_1} - \\frac{\\partial F(x; T, R, P, S, M)}{\\partial x_2} \\\\\n",
    "\\end{align}\n",
    "\n",
    "We can compute the $Tr(J)$ as follow.\n",
    "\n",
    "$$ Tr(J) = \\frac{1}{F(x^*; T, R, P, S, M)}\\Bigg[\\left(F_{1,1} + F_{2,2} + F_{3,3} - \\left(F_{1,4} + F_{2,4} + F_{3,4}\\right) + \\left(x_1\\left(\\frac{\\partial F_{1,1}(x; T, R, P, S, M, \\epsilon)}{\\partial x_1} - \\frac{\\partial F_{1,4}(x; T, R, P, S, M, \\epsilon)}{\\partial x_1}\\right) + x_2\\frac{\\partial F_{1,2}(x; T, R, P, S, M, \\epsilon)}{\\partial x_1} + x_3\\frac{\\partial F_{1,3}(x; T, R, P, S, M, \\epsilon)}{\\partial x_1}\\right) + \\left(x_1\\frac{\\partial F_{2,1}(x; T, R, P, S, M, \\epsilon)}{\\partial x_2}  + x_2\\left(\\frac{\\partial F_{2,2}(x; T, R, P, S, M, \\epsilon)}{\\partial x_2} - \\frac{\\partial F_{2,4}(x; T, R, P, S, M, \\epsilon)}{\\partial x_2}\\right) + x_3\\frac{\\partial F_{2,3}(x; T, R, P, S, M, \\epsilon)}{\\partial x_2}\\right) + \\left(x_1\\frac{\\partial F_{3,1}(x; T, R, P, S, M, \\epsilon)}{\\partial x_3} + x_2\\frac{\\partial F_{3,2}(x; T, R, P, S, M, \\epsilon)}{\\partial x_3} + x_3\\left(\\frac{\\partial F_{3,3}(x; T, R, P, S, M, \\epsilon)}{\\partial x_3} - \\frac{\\partial F_{3,4}(x; T, R, P, S, M, \\epsilon)}{\\partial x_3}\\right)\\right)\\right) - \\left(x_G^*\\left(2\\big(F_G(x_A^*; T, R, P, S, M) - F_g(x_A^*; T, R, P, S, M)\\big) + \\left(x_G^*\\frac{\\partial F_G(x_A; T, R, P, S, M)}{\\partial x_A} + (1 - x_G^*)\\frac{\\partial F_g(x_A; T, R, P, S, M)}{\\partial x_A}\\right)\\right) - x_A^*\\left(F_G(x_A^*; T, R, P, S, M) - F_g(x_A^*; T, R, P, S, M)\\right)\\right)\\Bigg] - 3 $$"
   ]
  },
  {
   "cell_type": "markdown",
   "metadata": {},
   "source": [
    "## Suppose that $x_2=1-x_1$, $x_3=0$, $U_G=1$\n",
    "\n",
    "$$ Tr(J) = \\frac{1}{2(R - M)}\\Bigg[\\left((1 - \\epsilon)2(R - M) + \\frac{1}{2}2(R - M) - \\frac{1}{4}\\epsilon F_g(x_A^*, T, R, P, S, M) - \\frac{1}{4}\\epsilon L_g(x_A^*, R, S, M) - \\frac{1}{4}F_g(x_A^*, T, R, P, S, M) + \\left(x_1\\left(\\frac{\\partial F_{1,1}(x; T, R, P, S, M, \\epsilon)}{\\partial x_1} - \\frac{\\partial F_{1,4}(x; T, R, P, S, M, \\epsilon)}{\\partial x_1}\\right) + (1 - x_1)\\frac{\\partial F_{1,2}(x; T, R, P, S, M, \\epsilon)}{\\partial x_1}\\right) + \\left(\\frac{1}{4}\\epsilon - \\frac{1}{2}\\right)(F_g(x_A^*, T, R, P, S, M) - L_g(x_A^*, R, S, M)) + \\frac{1}{2}2(R - M)\\frac{1}{x_1}\\right) - \\left(2\\big(2(R - M) - F_g(x_A^*; T, R, P, S, M)\\big) + \\frac{\\partial F_G(x_A; T, R, P, S, M)}{\\partial x_A} - x_A^*\\left(2(R - M) - F_g(x_A^*; T, R, P, S, M)\\right)\\right)\\Bigg] - 3 $$"
   ]
  },
  {
   "cell_type": "markdown",
   "metadata": {},
   "source": [
    "$$ (\\frac{1}{4}\\epsilon(F_g(x_A^*,T,R,P,S,M) - L_g(x_A^*, R,S,M)) + (x_1 - 1)(-\\frac{1}{4}\\epsilon(\\frac{\\partial F_g(x_A,T,R,P,S,M)}{\\partial x_1} - \\frac{\\partial L_g(x_A, R, S, M)}{\\partial x_1}) - (\\epsilon - 1)\\frac{\\partial L_G(x_A, R, S, M)}{\\partial x_1} + \\frac{1}{2}\\frac{\\partial F_G(x_A,T,R,P,S,M)}{\\partial x_1} - \\frac{1}{2}\\frac{\\partial L_G(x_A, R, S, M)}{\\partial x_1} - \\frac{1}{4}\\frac{\\partial L_g(x_A, R, S, M)}{\\partial x_1}))/(x_1 - 1) $$"
   ]
  },
  {
   "cell_type": "code",
   "execution_count": null,
   "metadata": {},
   "outputs": [],
   "source": []
  },
  {
   "cell_type": "code",
   "execution_count": null,
   "metadata": {},
   "outputs": [],
   "source": []
  },
  {
   "cell_type": "code",
   "execution_count": null,
   "metadata": {},
   "outputs": [],
   "source": []
  },
  {
   "cell_type": "code",
   "execution_count": null,
   "metadata": {},
   "outputs": [],
   "source": []
  },
  {
   "cell_type": "code",
   "execution_count": null,
   "metadata": {},
   "outputs": [],
   "source": []
  },
  {
   "cell_type": "code",
   "execution_count": null,
   "metadata": {},
   "outputs": [],
   "source": []
  },
  {
   "cell_type": "code",
   "execution_count": null,
   "metadata": {},
   "outputs": [],
   "source": []
  },
  {
   "cell_type": "code",
   "execution_count": null,
   "metadata": {},
   "outputs": [],
   "source": []
  },
  {
   "cell_type": "code",
   "execution_count": null,
   "metadata": {},
   "outputs": [],
   "source": []
  },
  {
   "cell_type": "markdown",
   "metadata": {},
   "source": [
    "Here we go...\n",
    "\n",
    "\\begin{align}\n",
    "\\det\n",
    "\\begin{bmatrix}\n",
    "    \\frac{1}{F(x^*; T, R, P, S, M)}\\left(\\frac{\\partial f_1(x^*; T, R, P, S, M, \\epsilon)}{\\partial x_1} - x_1^*\\frac{\\partial F(x^*; T, R, P, S, M)}{\\partial x_1}\\right) - \\lambda & \\frac{1}{F(x^*; T, R, P, S, M)}\\left(\\frac{\\partial f_1(x^*; T, R, P, S, M, \\epsilon)}{\\partial x_2} - x_1^*\\frac{\\partial F(x^*; T, R, P, S, M)}{\\partial x_2}\\right) & \\frac{1}{F(x^*; T, R, P, S, M)}\\left(\\frac{\\partial f_1(x^*; T, R, P, S, M, \\epsilon)}{\\partial x_3} - x_1^*\\frac{\\partial F(x^*; T, R, P, S, M)}{\\partial x_3}\\right) \\\\\n",
    "    \\frac{1}{F(x^*; T, R, P, S, M)}\\left(\\frac{\\partial f_2(x^*; T, R, P, S, M, \\epsilon)}{\\partial x_1} - x_2^*\\frac{\\partial F(x^*; T, R, P, S, M)}{\\partial x_1}\\right) & \\frac{1}{F(x^*; T, R, P, S, M)}\\left(\\frac{\\partial f_2(x^*; T, R, P, S, M, \\epsilon)}{\\partial x_2} - x_2^*\\frac{\\partial F(x^*; T, R, P, S, M)}{\\partial x_2}\\right) - \\lambda & \\frac{1}{F(x^*; T, R, P, S, M)}\\left(\\frac{\\partial f_2(x^*; T, R, P, S, M, \\epsilon)}{\\partial x_3} - x_2^*\\frac{\\partial F(x^*; T, R, P, S, M)}{\\partial x_3}\\right) \\\\\n",
    "    \\frac{1}{F(x^*; T, R, P, S, M)}\\left(\\frac{\\partial f_3(x^*; T, R, P, S, M, \\epsilon)}{\\partial x_1} - x_3^*\\frac{\\partial F(x^*; T, R, P, S, M)}{\\partial x_1}\\right) & \\frac{1}{F(x^*; T, R, P, S, M)}\\left(\\frac{\\partial f_3(x^*; T, R, P, S, M, \\epsilon)}{\\partial x_2} - x_3^*\\frac{\\partial F(x^*; T, R, P, S, M)}{\\partial x_2}\\right) & \\frac{1}{F(x^*; T, R, P, S, M)}\\left(\\frac{\\partial f_3(x^*; T, R, P, S, M, \\epsilon)}{\\partial x_3} - x_3^*\\frac{\\partial F(x^*; T, R, P, S, M)}{\\partial x_3}\\right) - \\lambda\n",
    "\\end{bmatrix}\n",
    "\\end{align} \n",
    "\n",
    "\\begin{align}\n",
    "   = & (-1)^{(2+1)}\\frac{1}{F(x^*; T, R, P, S, M)}\\left(\\frac{\\partial f_2(x^*; T, R, P, S, M, \\epsilon)}{\\partial x_1} - x_2^*\\frac{\\partial F(x^*; T, R, P, S, M)}{\\partial x_1}\\right) \\det\n",
    "\\begin{bmatrix}\n",
    "    \\frac{1}{F(x^*; T, R, P, S, M)}\\left(\\frac{\\partial f_1(x^*; T, R, P, S, M, \\epsilon)}{\\partial x_2} - x_1^*\\frac{\\partial F(x^*; T, R, P, S, M)}{\\partial x_2}\\right) & \\frac{1}{F(x^*; T, R, P, S, M)}\\left(\\frac{\\partial f_1(x^*; T, R, P, S, M, \\epsilon)}{\\partial x_3} - x_1^*\\frac{\\partial F(x^*; T, R, P, S, M)}{\\partial x_3}\\right) \\\\\n",
    "    \\frac{1}{F(x^*; T, R, P, S, M)}\\left(\\frac{\\partial f_3(x^*; T, R, P, S, M, \\epsilon)}{\\partial x_2} - x_3^*\\frac{\\partial F(x^*; T, R, P, S, M)}{\\partial x_2}\\right) & \\frac{1}{F(x^*; T, R, P, S, M)}\\left(\\frac{\\partial f_3(x^*; T, R, P, S, M, \\epsilon)}{\\partial x_3} - x_3^*\\frac{\\partial F(x^*; T, R, P, S, M)}{\\partial x_3}\\right) - \\lambda\n",
    "\\end{bmatrix}\n",
    " + \\\\\n",
    " & (-1)^{(2+2)} \\bigg(\\frac{1}{F(x^*; T, R, P, S, M)}\\left(\\frac{\\partial f_2(x^*; T, R, P, S, M, \\epsilon)}{\\partial x_2} - x_2^*\\frac{\\partial F(x^*; T, R, P, S, M)}{\\partial x_2}\\right) - \\lambda\\bigg) \\det \n",
    " \\begin{bmatrix}\n",
    "    \\frac{1}{F(x^*; T, R, P, S, M)}\\left(\\frac{\\partial f_1(x^*; T, R, P, S, M, \\epsilon)}{\\partial x_1} - x_1^*\\frac{\\partial F(x^*; T, R, P, S, M)}{\\partial x_1}\\right) - \\lambda & \\frac{1}{F(x^*; T, R, P, S, M)}\\left(\\frac{\\partial f_1(x^*; T, R, P, S, M, \\epsilon)}{\\partial x_3} - x_1^*\\frac{\\partial F(x^*; T, R, P, S, M)}{\\partial x_3}\\right) \\\\\n",
    "    \\frac{1}{F(x^*; T, R, P, S, M)}\\left(\\frac{\\partial f_3(x^*; T, R, P, S, M, \\epsilon)}{\\partial x_1} - x_3^*\\frac{\\partial F(x^*; T, R, P, S, M)}{\\partial x_1}\\right) & \\frac{1}{F(x^*; T, R, P, S, M)}\\left(\\frac{\\partial f_3(x^*; T, R, P, S, M, \\epsilon)}{\\partial x_3} - x_3^*\\frac{\\partial F(x^*; T, R, P, S, M)}{\\partial x_3}\\right) - \\lambda\n",
    "\\end{bmatrix}\n",
    "+ \\\\\n",
    " & (-1)^{(2+1)}\\frac{1}{F(x^*; T, R, P, S, M)}\\left(\\frac{\\partial f_2(x^*; T, R, P, S, M, \\epsilon)}{\\partial x_3} - x_2^*\\frac{\\partial F(x^*; T, R, P, S, M)}{\\partial x_3}\\right) \\det\n",
    " \\begin{bmatrix}\n",
    "    \\frac{1}{F(x^*; T, R, P, S, M)}\\left(\\frac{\\partial f_1(x^*; T, R, P, S, M, \\epsilon)}{\\partial x_1} - x_1^*\\frac{\\partial F(x^*; T, R, P, S, M)}{\\partial x_1}\\right) - \\lambda & \\frac{1}{F(x^*; T, R, P, S, M)}\\left(\\frac{\\partial f_1(x^*; T, R, P, S, M, \\epsilon)}{\\partial x_2} - x_1^*\\frac{\\partial F(x^*; T, R, P, S, M)}{\\partial x_2}\\right) \\\\\n",
    "    \\frac{1}{F(x^*; T, R, P, S, M)}\\left(\\frac{\\partial f_3(x^*; T, R, P, S, M, \\epsilon)}{\\partial x_1} - x_3^*\\frac{\\partial F(x^*; T, R, P, S, M)}{\\partial x_1}\\right) & \\frac{1}{F(x^*; T, R, P, S, M)}\\left(\\frac{\\partial f_3(x^*; T, R, P, S, M, \\epsilon)}{\\partial x_2} - x_3^*\\frac{\\partial F(x^*; T, R, P, S, M)}{\\partial x_2}\\right)\n",
    "\\end{bmatrix}\n",
    "\\end{align}\n",
    "\n",
    "\\begin{align}\n",
    "   = & -\\frac{1}{F(x^*; T, R, P, S, M)}\\left(\\frac{\\partial f_2(x^*; T, R, P, S, M, \\epsilon)}{\\partial x_1} - x_2^*\\frac{\\partial F(x^*; T, R, P, S, M)}{\\partial x_1}\\right) \\Bigg[\\frac{1}{F(x^*; T, R, P, S, M)^2}\\Bigg(\\left(\\frac{\\partial f_1(x^*; T, R, P, S, M, \\epsilon)}{\\partial x_2} - x_1^*\\frac{\\partial F(x^*; T, R, P, S, M)}{\\partial x_2}\\right)\\left(\\frac{\\partial f_3(x^*; T, R, P, S, M, \\epsilon)}{\\partial x_3} - x_3^*\\frac{\\partial F(x^*; T, R, P, S, M)}{\\partial x_3}\\right) - \\left(\\frac{\\partial f_1(x^*; T, R, P, S, M, \\epsilon)}{\\partial x_3} - x_1^*\\frac{\\partial F(x^*; T, R, P, S, M)}{\\partial x_3}\\right)\\left(\\frac{\\partial f_3(x^*; T, R, P, S, M, \\epsilon)}{\\partial x_2} - x_3^*\\frac{\\partial F(x^*; T, R, P, S, M)}{\\partial x_2}\\right)\\Bigg) - \\lambda\\Bigg]\n",
    " + \\\\\n",
    " & (-1)^{(2+2)} \\bigg(\\frac{1}{F(x^*; T, R, P, S, M)}\\left(\\frac{\\partial f_2(x^*; T, R, P, S, M, \\epsilon)}{\\partial x_2} - x_2^*\\frac{\\partial F(x^*; T, R, P, S, M)}{\\partial x_2}\\right) - \\lambda\\bigg) \\det \n",
    " \\begin{bmatrix}\n",
    "    \\frac{1}{F(x^*; T, R, P, S, M)}\\left(\\frac{\\partial f_1(x^*; T, R, P, S, M, \\epsilon)}{\\partial x_1} - x_1^*\\frac{\\partial F(x^*; T, R, P, S, M)}{\\partial x_1}\\right) - \\lambda & \\frac{1}{F(x^*; T, R, P, S, M)}\\left(\\frac{\\partial f_1(x^*; T, R, P, S, M, \\epsilon)}{\\partial x_3} - x_1^*\\frac{\\partial F(x^*; T, R, P, S, M)}{\\partial x_3}\\right) \\\\\n",
    "    \\frac{1}{F(x^*; T, R, P, S, M)}\\left(\\frac{\\partial f_3(x^*; T, R, P, S, M, \\epsilon)}{\\partial x_1} - x_3^*\\frac{\\partial F(x^*; T, R, P, S, M)}{\\partial x_1}\\right) & \\frac{1}{F(x^*; T, R, P, S, M)}\\left(\\frac{\\partial f_3(x^*; T, R, P, S, M, \\epsilon)}{\\partial x_3} - x_3^*\\frac{\\partial F(x^*; T, R, P, S, M)}{\\partial x_3}\\right) - \\lambda\n",
    "\\end{bmatrix}\n",
    "+ \\\\\n",
    " & (-1)^{(2+1)}\\frac{1}{F(x^*; T, R, P, S, M)}\\left(\\frac{\\partial f_2(x^*; T, R, P, S, M, \\epsilon)}{\\partial x_3} - x_2^*\\frac{\\partial F(x^*; T, R, P, S, M)}{\\partial x_3}\\right) \\det\n",
    " \\begin{bmatrix}\n",
    "    \\frac{1}{F(x^*; T, R, P, S, M)}\\left(\\frac{\\partial f_1(x^*; T, R, P, S, M, \\epsilon)}{\\partial x_1} - x_1^*\\frac{\\partial F(x^*; T, R, P, S, M)}{\\partial x_1}\\right) - \\lambda & \\frac{1}{F(x^*; T, R, P, S, M)}\\left(\\frac{\\partial f_1(x^*; T, R, P, S, M, \\epsilon)}{\\partial x_2} - x_1^*\\frac{\\partial F(x^*; T, R, P, S, M)}{\\partial x_2}\\right) \\\\\n",
    "    \\frac{1}{F(x^*; T, R, P, S, M)}\\left(\\frac{\\partial f_3(x^*; T, R, P, S, M, \\epsilon)}{\\partial x_1} - x_3^*\\frac{\\partial F(x^*; T, R, P, S, M)}{\\partial x_1}\\right) & \\frac{1}{F(x^*; T, R, P, S, M)}\\left(\\frac{\\partial f_3(x^*; T, R, P, S, M, \\epsilon)}{\\partial x_2} - x_3^*\\frac{\\partial F(x^*; T, R, P, S, M)}{\\partial x_2}\\right)\n",
    "\\end{bmatrix}\n",
    "\\end{align}"
   ]
  },
  {
   "cell_type": "code",
   "execution_count": null,
   "metadata": {},
   "outputs": [],
   "source": []
  }
 ],
 "metadata": {
  "kernelspec": {
   "display_name": "Python 3",
   "language": "python",
   "name": "python3"
  },
  "language_info": {
   "codemirror_mode": {
    "name": "ipython",
    "version": 3
   },
   "file_extension": ".py",
   "mimetype": "text/x-python",
   "name": "python",
   "nbconvert_exporter": "python",
   "pygments_lexer": "ipython3",
   "version": "3.6.10"
  }
 },
 "nbformat": 4,
 "nbformat_minor": 4
}
