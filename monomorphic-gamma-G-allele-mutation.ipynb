{
 "cells": [
  {
   "cell_type": "code",
   "execution_count": 77,
   "metadata": {},
   "outputs": [],
   "source": [
    "import matplotlib.pyplot as plt\n",
    "import numpy as np\n",
    "import sympy as sym\n",
    "\n",
    "import models\n",
    "import selection_functions"
   ]
  },
  {
   "cell_type": "code",
   "execution_count": 78,
   "metadata": {},
   "outputs": [],
   "source": [
    "plt.style.use(\"ggplot\")"
   ]
  },
  {
   "cell_type": "code",
   "execution_count": 79,
   "metadata": {},
   "outputs": [],
   "source": [
    "# payoffs\n",
    "T, R, P, S, M, epsilon = sym.symbols(\"T, R, P, S, M, epsilon\", real=True, nonenegative=True)\n",
    "\n",
    "# share of population with genotype at \"start\" of time t\n",
    "x1, x2, x3, x4 = sym.symbols(\"x1, x2, x3, x4\", real=True, nonnegative=True)\n",
    "\n",
    "# share of population carrying G (A) allele of gamma (alpha) gene at the \"start\" of time t\n",
    "xG = x1 + x2\n",
    "xA = x1 + x3\n",
    "\n",
    "# fecundity of female carrying G (g) allele of the gamma gene\n",
    "FG = sym.Function('FG')\n",
    "Fg = sym.Function('Fg')\n",
    "LG = sym.Function('LG')\n",
    "Lg = sym.Function('Lg')\n"
   ]
  },
  {
   "cell_type": "code",
   "execution_count": 80,
   "metadata": {},
   "outputs": [],
   "source": [
    "x = np.array([[x1], [x2], [x3], [1 - x1 - x2 - x3]])\n",
    "payoff_kernel = np.array([[R, S], [T, P]])\n",
    "UGA = selection_functions.UGA\n",
    "UgA = selection_functions.UgA\n",
    "W = models.generalized_sexual_selection(x, UGA, UgA, payoff_kernel, 0, 0, epsilon, incumbent_only=True)\n",
    "(_offspring_1,), (_offspring_2,), (_offspring_3,), _ = models._offspring_by_genotype(W, x)"
   ]
  },
  {
   "cell_type": "code",
   "execution_count": 41,
   "metadata": {},
   "outputs": [],
   "source": [
    "# summing across males yields fecundity i,j where fecundity i,j is the total number of offspring with genotype i produced by female with genotype j \n",
    "fitness = W.sum(axis=2)\n",
    "\n",
    "# total number of offspring produced by a female with genotype j is the column sum\n",
    "fecundity = partial_fecundities.sum(axis=0)\n",
    "\n",
    "# total number of offspring with genotype i is the row sum\n",
    "total_fitness = partial_fecundities.sum(axis=1)"
   ]
  },
  {
   "cell_type": "code",
   "execution_count": 49,
   "metadata": {},
   "outputs": [
    {
     "data": {
      "text/latex": [
       "$\\displaystyle 2 \\left(M - R\\right) \\left(\\epsilon - 1\\right)$"
      ],
      "text/plain": [
       "2*(M - R)*(epsilon - 1)"
      ]
     },
     "execution_count": 49,
     "metadata": {},
     "output_type": "execute_result"
    }
   ],
   "source": [
    "sym.simplify(fecundities[0,0].subs(_subs).subs({x2: 1 - x1, x3: 0}).subs({FG(x1): 2*(R-M), LG(x1): 2*(R-M)}))"
   ]
  },
  {
   "cell_type": "code",
   "execution_count": 50,
   "metadata": {},
   "outputs": [
    {
     "data": {
      "text/latex": [
       "$\\displaystyle - 1.0 M + 1.0 R$"
      ],
      "text/plain": [
       "-1.0*M + 1.0*R"
      ]
     },
     "execution_count": 50,
     "metadata": {},
     "output_type": "execute_result"
    }
   ],
   "source": [
    "sym.simplify(fecundities[1,1].subs(_subs).subs({x2: 1 - x1, x3: 0}).subs({FG(x1): 2*(R-M), LG(x1): 2*(R-M)}))"
   ]
  },
  {
   "cell_type": "code",
   "execution_count": 56,
   "metadata": {},
   "outputs": [
    {
     "data": {
      "text/latex": [
       "$\\displaystyle - 0.25 \\epsilon \\operatorname{Fg}{\\left(x_{1} \\right)} - 0.25 \\epsilon \\operatorname{Lg}{\\left(x_{1} \\right)} - 0.25 \\operatorname{Fg}{\\left(x_{1} \\right)}$"
      ],
      "text/plain": [
       "-0.25*epsilon*Fg(x1) - 0.25*epsilon*Lg(x1) - 0.25*Fg(x1)"
      ]
     },
     "execution_count": 56,
     "metadata": {},
     "output_type": "execute_result"
    }
   ],
   "source": [
    "sym.simplify((fecundities[2,2] - fecundities[0,3] - fecundities[1,3] - fecundities[2,3]).subs(_subs).subs({x2: 1 - x1, x3: 0}).subs({FG(x1): 2*(R-M), LG(x1): 2*(R-M)}))"
   ]
  },
  {
   "cell_type": "code",
   "execution_count": 52,
   "metadata": {},
   "outputs": [
    {
     "data": {
      "text/latex": [
       "$\\displaystyle 0.25 \\epsilon \\left(\\operatorname{Fg}{\\left(x_{1} \\right)} - \\operatorname{Lg}{\\left(x_{1} \\right)}\\right) + 0.25 \\operatorname{Lg}{\\left(x_{1} \\right)}$"
      ],
      "text/plain": [
       "0.25*epsilon*(Fg(x1) - Lg(x1)) + 0.25*Lg(x1)"
      ]
     },
     "execution_count": 52,
     "metadata": {},
     "output_type": "execute_result"
    }
   ],
   "source": [
    "sym.simplify(fecundities[0,3].subs(_subs).subs({x2: 1 - x1, x3: 0}).subs({FG(x1): 2*(R-M), LG(x1): 2*(R-M)}))"
   ]
  },
  {
   "cell_type": "code",
   "execution_count": 53,
   "metadata": {},
   "outputs": [
    {
     "data": {
      "text/latex": [
       "$\\displaystyle - \\left(0.25 \\epsilon - 0.5\\right) \\left(\\operatorname{Fg}{\\left(x_{1} \\right)} - \\operatorname{Lg}{\\left(x_{1} \\right)}\\right) + 0.25 \\operatorname{Lg}{\\left(x_{1} \\right)}$"
      ],
      "text/plain": [
       "-(0.25*epsilon - 0.5)*(Fg(x1) - Lg(x1)) + 0.25*Lg(x1)"
      ]
     },
     "execution_count": 53,
     "metadata": {},
     "output_type": "execute_result"
    }
   ],
   "source": [
    "sym.simplify(fecundities[1,3].subs(_subs).subs({x2: 1 - x1, x3: 0}).subs({FG(x1): 2*(R-M), LG(x1): 2*(R-M)}))"
   ]
  },
  {
   "cell_type": "code",
   "execution_count": 54,
   "metadata": {},
   "outputs": [
    {
     "data": {
      "text/latex": [
       "$\\displaystyle 0.25 \\epsilon \\left(\\operatorname{Fg}{\\left(x_{1} \\right)} - \\operatorname{Lg}{\\left(x_{1} \\right)}\\right) + 0.25 \\operatorname{Lg}{\\left(x_{1} \\right)}$"
      ],
      "text/plain": [
       "0.25*epsilon*(Fg(x1) - Lg(x1)) + 0.25*Lg(x1)"
      ]
     },
     "execution_count": 54,
     "metadata": {},
     "output_type": "execute_result"
    }
   ],
   "source": [
    "sym.simplify(fecundities[2,3].subs(_subs).subs({x2: 1 - x1, x3: 0}).subs({FG(x1): 2*(R-M), LG(x1): 2*(R-M)}))"
   ]
  },
  {
   "cell_type": "code",
   "execution_count": 59,
   "metadata": {},
   "outputs": [
    {
     "data": {
      "text/latex": [
       "$\\displaystyle \\frac{1.0 \\left(M - R\\right) \\left(\\epsilon - 1\\right)}{x_{1}}$"
      ],
      "text/plain": [
       "1.0*(M - R)*(epsilon - 1)/x1"
      ]
     },
     "execution_count": 59,
     "metadata": {},
     "output_type": "execute_result"
    }
   ],
   "source": [
    "sym.simplify(sym.diff(fecundities[2,0], x3).subs(_subs).subs({x2: 1 - x1, x3: 0}).subs({FG(x1): 2*(R-M), LG(x1): 2*(R-M)}))"
   ]
  },
  {
   "cell_type": "code",
   "execution_count": 60,
   "metadata": {},
   "outputs": [
    {
     "data": {
      "text/latex": [
       "$\\displaystyle \\frac{0.5 \\left(- M + R\\right)}{x_{1}}$"
      ],
      "text/plain": [
       "0.5*(-M + R)/x1"
      ]
     },
     "execution_count": 60,
     "metadata": {},
     "output_type": "execute_result"
    }
   ],
   "source": [
    "sym.simplify(sym.diff(fecundities[2,1], x3).subs(_subs).subs({x2: 1 - x1, x3: 0}).subs({FG(x1): 2*(R-M), LG(x1): 2*(R-M)}))"
   ]
  },
  {
   "cell_type": "code",
   "execution_count": 67,
   "metadata": {},
   "outputs": [
    {
     "data": {
      "text/latex": [
       "$\\displaystyle 0$"
      ],
      "text/plain": [
       "0"
      ]
     },
     "execution_count": 67,
     "metadata": {},
     "output_type": "execute_result"
    }
   ],
   "source": [
    "sym.simplify(sym.diff(fecundities[1,0], x2).subs(_subs).subs({x2: 1 - x1, x3: 0}).subs({FG(x1): 2*(R-M), LG(x1): 2*(R-M)}))"
   ]
  },
  {
   "cell_type": "code",
   "execution_count": 73,
   "metadata": {},
   "outputs": [
    {
     "data": {
      "text/latex": [
       "$\\displaystyle 0.5 \\left. \\frac{d}{d \\xi_{1}} \\operatorname{LG}{\\left(\\xi_{1} \\right)} \\right|_{\\substack{ \\xi_{1}=x_{1} }}$"
      ],
      "text/plain": [
       "0.5*Subs(Derivative(LG(_xi_1), _xi_1), _xi_1, x1)"
      ]
     },
     "execution_count": 73,
     "metadata": {},
     "output_type": "execute_result"
    }
   ],
   "source": [
    "sym.diff(fecundities[0,1].subs(_subs), x1).subs({x2: 1 - x1, x3: 0}).subs({FG(x1): 2*(R-M), LG(x1): 2*(R-M)})"
   ]
  },
  {
   "cell_type": "code",
   "execution_count": 61,
   "metadata": {},
   "outputs": [
    {
     "data": {
      "text/latex": [
       "$\\displaystyle - \\frac{\\left(0.25 \\epsilon - 0.5\\right) \\left(\\operatorname{Fg}{\\left(x_{1} \\right)} - \\operatorname{Lg}{\\left(x_{1} \\right)}\\right)}{x_{1} - 1}$"
      ],
      "text/plain": [
       "-(0.25*epsilon - 0.5)*(Fg(x1) - Lg(x1))/(x1 - 1)"
      ]
     },
     "execution_count": 61,
     "metadata": {},
     "output_type": "execute_result"
    }
   ],
   "source": [
    "sym.simplify((sym.diff(fecundities[1,1], x2) - sym.diff(fecundities[1,3], x2)).subs(_subs).subs({x2: 1 - x1, x3: 0}).subs({FG(x1): 2*(R-M), LG(x1): 2*(R-M)}))"
   ]
  },
  {
   "cell_type": "code",
   "execution_count": 99,
   "metadata": {},
   "outputs": [
    {
     "data": {
      "text/latex": [
       "$\\displaystyle \\frac{0.25 \\epsilon \\left(\\operatorname{Fg}{\\left(x_{1} \\right)} - \\operatorname{Lg}{\\left(x_{1} \\right)}\\right) + \\left(x_{1} - 1\\right) \\left(- 0.25 \\epsilon \\left(\\frac{d}{d x_{1}} \\operatorname{Fg}{\\left(x_{1} \\right)} - \\frac{d}{d x_{1}} \\operatorname{Lg}{\\left(x_{1} \\right)}\\right) - \\left(\\epsilon - 1\\right) \\frac{d}{d x_{1}} \\operatorname{LG}{\\left(x_{1} \\right)} + 0.5 \\frac{d}{d x_{1}} \\operatorname{FG}{\\left(x_{1} \\right)} - 0.5 \\frac{d}{d x_{1}} \\operatorname{LG}{\\left(x_{1} \\right)} - 0.25 \\frac{d}{d x_{1}} \\operatorname{Lg}{\\left(x_{1} \\right)}\\right)}{x_{1} - 1}$"
      ],
      "text/plain": [
       "(0.25*epsilon*(Fg(x1) - Lg(x1)) + (x1 - 1)*(-0.25*epsilon*(Derivative(Fg(x1), x1) - Derivative(Lg(x1), x1)) - (epsilon - 1)*Derivative(LG(x1), x1) + 0.5*Derivative(FG(x1), x1) - 0.5*Derivative(LG(x1), x1) - 0.25*Derivative(Lg(x1), x1)))/(x1 - 1)"
      ]
     },
     "execution_count": 99,
     "metadata": {},
     "output_type": "execute_result"
    }
   ],
   "source": [
    "sym.simplify((sym.diff(fecundities[0,0].subs(_subs), x1) - sym.diff(fecundities[0,3].subs(_subs), x1)).subs({x2: 1 - x1, x3: 0}).subs({FG(x1): 2*(R-M), LG(x1): 2*(R-M)}))"
   ]
  },
  {
   "cell_type": "code",
   "execution_count": 80,
   "metadata": {},
   "outputs": [
    {
     "data": {
      "text/plain": [
       "(4, 4)"
      ]
     },
     "execution_count": 80,
     "metadata": {},
     "output_type": "execute_result"
    }
   ],
   "source": [
    "fecundity_by_genotype.shape"
   ]
  },
  {
   "cell_type": "code",
   "execution_count": 22,
   "metadata": {},
   "outputs": [
    {
     "data": {
      "text/plain": [
       "'x1*(x1*(1 - epsilon)*(2*R*UGA(x1 + x3) + 2*S*(1 - UGA(x1 + x3)))*UGA(x1 + x3)/(x1 + x3) + 0.5*x2*(1 - UGA(x1 + x3))*(2*P*(1 - UGA(x1 + x3)) + 2*T*UGA(x1 + x3))/(-x1 - x3 + 1) + x3*(0.5 - 0.5*epsilon)*(2*R*UGA(x1 + x3) + 2*S*(1 - UGA(x1 + x3)))*UGA(x1 + x3)/(x1 + x3) + 0.25*(1 - UGA(x1 + x3))*(2*P*(1 - UGA(x1 + x3)) + 2*T*UGA(x1 + x3))*(-x1 - x2 - x3 + 1)/(-x1 - x3 + 1)) + x2*(0.25*epsilon*(1 - UGA(x1 + x3))*(2*P*(1 - UGA(x1 + x3)) + 2*T*UGA(x1 + x3))*(-x1 - x2 - x3 + 1)/(-x1 - x3 + 1) + 0.5*x1*(2*R*UGA(x1 + x3) + 2*S*(1 - UGA(x1 + x3)))*UGA(x1 + x3)/(x1 + x3) + 0.25*x3*(2*R*UGA(x1 + x3) + 2*S*(1 - UGA(x1 + x3)))*UGA(x1 + x3)/(x1 + x3)) + x3*(x1*(0.5 - 0.5*epsilon)*(2*R*UgA(x1 + x3) + 2*S*(1 - UgA(x1 + x3)))*UgA(x1 + x3)/(x1 + x3) + 0.25*x2*(1 - UgA(x1 + x3))*(2*P*(1 - UgA(x1 + x3)) + 2*T*UgA(x1 + x3))/(-x1 - x3 + 1)) + (0.25*epsilon*x2*(1 - UgA(x1 + x3))*(2*P*(1 - UgA(x1 + x3)) + 2*T*UgA(x1 + x3))/(-x1 - x3 + 1) + 0.25*x1*(2*R*UgA(x1 + x3) + 2*S*(1 - UgA(x1 + x3)))*UgA(x1 + x3)/(x1 + x3))*(-x1 - x2 - x3 + 1)'"
      ]
     },
     "execution_count": 22,
     "metadata": {},
     "output_type": "execute_result"
    }
   ],
   "source": [
    "str((_offspring_1))"
   ]
  },
  {
   "cell_type": "code",
   "execution_count": 81,
   "metadata": {},
   "outputs": [],
   "source": [
    "_subs = {\n",
    "    (2*R*UGA(x1 + x3) + 2*S*(1 - UGA(x1 + x3)))*UGA(x1 + x3): LG(xA),\n",
    "    (1 - UGA(x1 + x3))*(2*P*(1 - UGA(x1 + x3)) + 2*T*UGA(x1 + x3)): FG(xA) - LG(xA),\n",
    "    (1 - UgA(x1 + x3))*(2*P*(1 - UgA(x1 + x3)) + 2*T*UgA(x1 + x3)): Fg(xA) - Lg(xA),\n",
    "    (2*R*UgA(x1 + x3) + 2*S*(1 - UgA(x1 + x3)))*UgA(x1 + x3): Lg(xA),\n",
    "}\n",
    "\n",
    "offspring_1 = _offspring_1.subs(_subs)\n",
    "offspring_2 = _offspring_2.subs(_subs)\n",
    "offspring_3 = _offspring_3.subs(_subs)"
   ]
  },
  {
   "cell_type": "code",
   "execution_count": 11,
   "metadata": {},
   "outputs": [
    {
     "data": {
      "text/latex": [
       "$\\displaystyle x_{1} \\left(\\frac{x_{1} \\left(1 - \\epsilon\\right) \\operatorname{LG}{\\left(x_{1} + x_{3} \\right)}}{x_{1} + x_{3}} + \\frac{0.5 x_{2} \\left(\\operatorname{FG}{\\left(x_{1} + x_{3} \\right)} - \\operatorname{LG}{\\left(x_{1} + x_{3} \\right)}\\right)}{- x_{1} - x_{3} + 1} + \\frac{x_{3} \\left(0.5 - 0.5 \\epsilon\\right) \\operatorname{LG}{\\left(x_{1} + x_{3} \\right)}}{x_{1} + x_{3}} + \\frac{0.25 \\left(\\operatorname{FG}{\\left(x_{1} + x_{3} \\right)} - \\operatorname{LG}{\\left(x_{1} + x_{3} \\right)}\\right) \\left(- x_{1} - x_{2} - x_{3} + 1\\right)}{- x_{1} - x_{3} + 1}\\right) + x_{2} \\left(\\frac{0.25 \\epsilon \\left(\\operatorname{FG}{\\left(x_{1} + x_{3} \\right)} - \\operatorname{LG}{\\left(x_{1} + x_{3} \\right)}\\right) \\left(- x_{1} - x_{2} - x_{3} + 1\\right)}{- x_{1} - x_{3} + 1} + \\frac{0.5 x_{1} \\operatorname{LG}{\\left(x_{1} + x_{3} \\right)}}{x_{1} + x_{3}} + \\frac{0.25 x_{3} \\operatorname{LG}{\\left(x_{1} + x_{3} \\right)}}{x_{1} + x_{3}}\\right) + x_{3} \\left(\\frac{x_{1} \\left(0.5 - 0.5 \\epsilon\\right) \\operatorname{Lg}{\\left(x_{1} + x_{3} \\right)}}{x_{1} + x_{3}} + \\frac{0.25 x_{2} \\left(\\operatorname{Fg}{\\left(x_{1} + x_{3} \\right)} - \\operatorname{Lg}{\\left(x_{1} + x_{3} \\right)}\\right)}{- x_{1} - x_{3} + 1}\\right) + \\left(\\frac{0.25 \\epsilon x_{2} \\left(\\operatorname{Fg}{\\left(x_{1} + x_{3} \\right)} - \\operatorname{Lg}{\\left(x_{1} + x_{3} \\right)}\\right)}{- x_{1} - x_{3} + 1} + \\frac{0.25 x_{1} \\operatorname{Lg}{\\left(x_{1} + x_{3} \\right)}}{x_{1} + x_{3}}\\right) \\left(- x_{1} - x_{2} - x_{3} + 1\\right)$"
      ],
      "text/plain": [
       "x1*(x1*(1 - epsilon)*LG(x1 + x3)/(x1 + x3) + 0.5*x2*(FG(x1 + x3) - LG(x1 + x3))/(-x1 - x3 + 1) + x3*(0.5 - 0.5*epsilon)*LG(x1 + x3)/(x1 + x3) + 0.25*(FG(x1 + x3) - LG(x1 + x3))*(-x1 - x2 - x3 + 1)/(-x1 - x3 + 1)) + x2*(0.25*epsilon*(FG(x1 + x3) - LG(x1 + x3))*(-x1 - x2 - x3 + 1)/(-x1 - x3 + 1) + 0.5*x1*LG(x1 + x3)/(x1 + x3) + 0.25*x3*LG(x1 + x3)/(x1 + x3)) + x3*(x1*(0.5 - 0.5*epsilon)*Lg(x1 + x3)/(x1 + x3) + 0.25*x2*(Fg(x1 + x3) - Lg(x1 + x3))/(-x1 - x3 + 1)) + (0.25*epsilon*x2*(Fg(x1 + x3) - Lg(x1 + x3))/(-x1 - x3 + 1) + 0.25*x1*Lg(x1 + x3)/(x1 + x3))*(-x1 - x2 - x3 + 1)"
      ]
     },
     "execution_count": 11,
     "metadata": {},
     "output_type": "execute_result"
    }
   ],
   "source": [
    "offspring_1"
   ]
  },
  {
   "cell_type": "code",
   "execution_count": 15,
   "metadata": {},
   "outputs": [
    {
     "data": {
      "text/latex": [
       "$\\displaystyle - \\frac{0.25 \\epsilon x_{2} \\left(\\operatorname{Fg}{\\left(x_{1} + x_{3} \\right)} - \\operatorname{Lg}{\\left(x_{1} + x_{3} \\right)}\\right)}{- x_{1} - x_{3} + 1} + \\frac{x_{1} \\left(0.5 - 0.5 \\epsilon\\right) \\operatorname{Lg}{\\left(x_{1} + x_{3} \\right)}}{x_{1} + x_{3}} + x_{1} \\left(\\frac{x_{1} \\left(1 - \\epsilon\\right) \\left. \\frac{d}{d \\xi_{1}} \\operatorname{LG}{\\left(\\xi_{1} \\right)} \\right|_{\\substack{ \\xi_{1}=x_{1} + x_{3} }}}{x_{1} + x_{3}} - \\frac{x_{1} \\left(1 - \\epsilon\\right) \\operatorname{LG}{\\left(x_{1} + x_{3} \\right)}}{\\left(x_{1} + x_{3}\\right)^{2}} + \\frac{0.5 x_{2} \\left(\\operatorname{FG}{\\left(x_{1} + x_{3} \\right)} - \\operatorname{LG}{\\left(x_{1} + x_{3} \\right)}\\right)}{\\left(- x_{1} - x_{3} + 1\\right)^{2}} + \\frac{0.5 x_{2} \\left(\\left. \\frac{d}{d \\xi_{1}} \\operatorname{FG}{\\left(\\xi_{1} \\right)} \\right|_{\\substack{ \\xi_{1}=x_{1} + x_{3} }} - \\left. \\frac{d}{d \\xi_{1}} \\operatorname{LG}{\\left(\\xi_{1} \\right)} \\right|_{\\substack{ \\xi_{1}=x_{1} + x_{3} }}\\right)}{- x_{1} - x_{3} + 1} + \\frac{x_{3} \\left(0.5 - 0.5 \\epsilon\\right) \\left. \\frac{d}{d \\xi_{1}} \\operatorname{LG}{\\left(\\xi_{1} \\right)} \\right|_{\\substack{ \\xi_{1}=x_{1} + x_{3} }}}{x_{1} + x_{3}} - \\frac{x_{3} \\left(0.5 - 0.5 \\epsilon\\right) \\operatorname{LG}{\\left(x_{1} + x_{3} \\right)}}{\\left(x_{1} + x_{3}\\right)^{2}} + \\frac{\\left(0.5 - 0.5 \\epsilon\\right) \\operatorname{LG}{\\left(x_{1} + x_{3} \\right)}}{x_{1} + x_{3}} - \\frac{0.25 \\left(\\operatorname{FG}{\\left(x_{1} + x_{3} \\right)} - \\operatorname{LG}{\\left(x_{1} + x_{3} \\right)}\\right)}{- x_{1} - x_{3} + 1} + \\frac{0.25 \\left(\\operatorname{FG}{\\left(x_{1} + x_{3} \\right)} - \\operatorname{LG}{\\left(x_{1} + x_{3} \\right)}\\right) \\left(- x_{1} - x_{2} - x_{3} + 1\\right)}{\\left(- x_{1} - x_{3} + 1\\right)^{2}} + \\frac{0.25 \\left(\\left. \\frac{d}{d \\xi_{1}} \\operatorname{FG}{\\left(\\xi_{1} \\right)} \\right|_{\\substack{ \\xi_{1}=x_{1} + x_{3} }} - \\left. \\frac{d}{d \\xi_{1}} \\operatorname{LG}{\\left(\\xi_{1} \\right)} \\right|_{\\substack{ \\xi_{1}=x_{1} + x_{3} }}\\right) \\left(- x_{1} - x_{2} - x_{3} + 1\\right)}{- x_{1} - x_{3} + 1}\\right) - \\frac{0.25 x_{1} \\operatorname{Lg}{\\left(x_{1} + x_{3} \\right)}}{x_{1} + x_{3}} + \\frac{0.25 x_{2} \\left(\\operatorname{Fg}{\\left(x_{1} + x_{3} \\right)} - \\operatorname{Lg}{\\left(x_{1} + x_{3} \\right)}\\right)}{- x_{1} - x_{3} + 1} + x_{2} \\left(- \\frac{0.25 \\epsilon \\left(\\operatorname{FG}{\\left(x_{1} + x_{3} \\right)} - \\operatorname{LG}{\\left(x_{1} + x_{3} \\right)}\\right)}{- x_{1} - x_{3} + 1} + \\frac{0.25 \\epsilon \\left(\\operatorname{FG}{\\left(x_{1} + x_{3} \\right)} - \\operatorname{LG}{\\left(x_{1} + x_{3} \\right)}\\right) \\left(- x_{1} - x_{2} - x_{3} + 1\\right)}{\\left(- x_{1} - x_{3} + 1\\right)^{2}} + \\frac{0.25 \\epsilon \\left(\\left. \\frac{d}{d \\xi_{1}} \\operatorname{FG}{\\left(\\xi_{1} \\right)} \\right|_{\\substack{ \\xi_{1}=x_{1} + x_{3} }} - \\left. \\frac{d}{d \\xi_{1}} \\operatorname{LG}{\\left(\\xi_{1} \\right)} \\right|_{\\substack{ \\xi_{1}=x_{1} + x_{3} }}\\right) \\left(- x_{1} - x_{2} - x_{3} + 1\\right)}{- x_{1} - x_{3} + 1} + \\frac{0.5 x_{1} \\left. \\frac{d}{d \\xi_{1}} \\operatorname{LG}{\\left(\\xi_{1} \\right)} \\right|_{\\substack{ \\xi_{1}=x_{1} + x_{3} }}}{x_{1} + x_{3}} - \\frac{0.5 x_{1} \\operatorname{LG}{\\left(x_{1} + x_{3} \\right)}}{\\left(x_{1} + x_{3}\\right)^{2}} + \\frac{0.25 x_{3} \\left. \\frac{d}{d \\xi_{1}} \\operatorname{LG}{\\left(\\xi_{1} \\right)} \\right|_{\\substack{ \\xi_{1}=x_{1} + x_{3} }}}{x_{1} + x_{3}} - \\frac{0.25 x_{3} \\operatorname{LG}{\\left(x_{1} + x_{3} \\right)}}{\\left(x_{1} + x_{3}\\right)^{2}} + \\frac{0.25 \\operatorname{LG}{\\left(x_{1} + x_{3} \\right)}}{x_{1} + x_{3}}\\right) + x_{3} \\left(\\frac{x_{1} \\left(0.5 - 0.5 \\epsilon\\right) \\left. \\frac{d}{d \\xi_{1}} \\operatorname{Lg}{\\left(\\xi_{1} \\right)} \\right|_{\\substack{ \\xi_{1}=x_{1} + x_{3} }}}{x_{1} + x_{3}} - \\frac{x_{1} \\left(0.5 - 0.5 \\epsilon\\right) \\operatorname{Lg}{\\left(x_{1} + x_{3} \\right)}}{\\left(x_{1} + x_{3}\\right)^{2}} + \\frac{0.25 x_{2} \\left(\\operatorname{Fg}{\\left(x_{1} + x_{3} \\right)} - \\operatorname{Lg}{\\left(x_{1} + x_{3} \\right)}\\right)}{\\left(- x_{1} - x_{3} + 1\\right)^{2}} + \\frac{0.25 x_{2} \\left(\\left. \\frac{d}{d \\xi_{1}} \\operatorname{Fg}{\\left(\\xi_{1} \\right)} \\right|_{\\substack{ \\xi_{1}=x_{1} + x_{3} }} - \\left. \\frac{d}{d \\xi_{1}} \\operatorname{Lg}{\\left(\\xi_{1} \\right)} \\right|_{\\substack{ \\xi_{1}=x_{1} + x_{3} }}\\right)}{- x_{1} - x_{3} + 1}\\right) + \\left(- x_{1} - x_{2} - x_{3} + 1\\right) \\left(\\frac{0.25 \\epsilon x_{2} \\left(\\operatorname{Fg}{\\left(x_{1} + x_{3} \\right)} - \\operatorname{Lg}{\\left(x_{1} + x_{3} \\right)}\\right)}{\\left(- x_{1} - x_{3} + 1\\right)^{2}} + \\frac{0.25 \\epsilon x_{2} \\left(\\left. \\frac{d}{d \\xi_{1}} \\operatorname{Fg}{\\left(\\xi_{1} \\right)} \\right|_{\\substack{ \\xi_{1}=x_{1} + x_{3} }} - \\left. \\frac{d}{d \\xi_{1}} \\operatorname{Lg}{\\left(\\xi_{1} \\right)} \\right|_{\\substack{ \\xi_{1}=x_{1} + x_{3} }}\\right)}{- x_{1} - x_{3} + 1} + \\frac{0.25 x_{1} \\left. \\frac{d}{d \\xi_{1}} \\operatorname{Lg}{\\left(\\xi_{1} \\right)} \\right|_{\\substack{ \\xi_{1}=x_{1} + x_{3} }}}{x_{1} + x_{3}} - \\frac{0.25 x_{1} \\operatorname{Lg}{\\left(x_{1} + x_{3} \\right)}}{\\left(x_{1} + x_{3}\\right)^{2}}\\right)$"
      ],
      "text/plain": [
       "-0.25*epsilon*x2*(Fg(x1 + x3) - Lg(x1 + x3))/(-x1 - x3 + 1) + x1*(0.5 - 0.5*epsilon)*Lg(x1 + x3)/(x1 + x3) + x1*(x1*(1 - epsilon)*Subs(Derivative(LG(_xi_1), _xi_1), _xi_1, x1 + x3)/(x1 + x3) - x1*(1 - epsilon)*LG(x1 + x3)/(x1 + x3)**2 + 0.5*x2*(FG(x1 + x3) - LG(x1 + x3))/(-x1 - x3 + 1)**2 + 0.5*x2*(Subs(Derivative(FG(_xi_1), _xi_1), _xi_1, x1 + x3) - Subs(Derivative(LG(_xi_1), _xi_1), _xi_1, x1 + x3))/(-x1 - x3 + 1) + x3*(0.5 - 0.5*epsilon)*Subs(Derivative(LG(_xi_1), _xi_1), _xi_1, x1 + x3)/(x1 + x3) - x3*(0.5 - 0.5*epsilon)*LG(x1 + x3)/(x1 + x3)**2 + (0.5 - 0.5*epsilon)*LG(x1 + x3)/(x1 + x3) - 0.25*(FG(x1 + x3) - LG(x1 + x3))/(-x1 - x3 + 1) + 0.25*(FG(x1 + x3) - LG(x1 + x3))*(-x1 - x2 - x3 + 1)/(-x1 - x3 + 1)**2 + 0.25*(Subs(Derivative(FG(_xi_1), _xi_1), _xi_1, x1 + x3) - Subs(Derivative(LG(_xi_1), _xi_1), _xi_1, x1 + x3))*(-x1 - x2 - x3 + 1)/(-x1 - x3 + 1)) - 0.25*x1*Lg(x1 + x3)/(x1 + x3) + 0.25*x2*(Fg(x1 + x3) - Lg(x1 + x3))/(-x1 - x3 + 1) + x2*(-0.25*epsilon*(FG(x1 + x3) - LG(x1 + x3))/(-x1 - x3 + 1) + 0.25*epsilon*(FG(x1 + x3) - LG(x1 + x3))*(-x1 - x2 - x3 + 1)/(-x1 - x3 + 1)**2 + 0.25*epsilon*(Subs(Derivative(FG(_xi_1), _xi_1), _xi_1, x1 + x3) - Subs(Derivative(LG(_xi_1), _xi_1), _xi_1, x1 + x3))*(-x1 - x2 - x3 + 1)/(-x1 - x3 + 1) + 0.5*x1*Subs(Derivative(LG(_xi_1), _xi_1), _xi_1, x1 + x3)/(x1 + x3) - 0.5*x1*LG(x1 + x3)/(x1 + x3)**2 + 0.25*x3*Subs(Derivative(LG(_xi_1), _xi_1), _xi_1, x1 + x3)/(x1 + x3) - 0.25*x3*LG(x1 + x3)/(x1 + x3)**2 + 0.25*LG(x1 + x3)/(x1 + x3)) + x3*(x1*(0.5 - 0.5*epsilon)*Subs(Derivative(Lg(_xi_1), _xi_1), _xi_1, x1 + x3)/(x1 + x3) - x1*(0.5 - 0.5*epsilon)*Lg(x1 + x3)/(x1 + x3)**2 + 0.25*x2*(Fg(x1 + x3) - Lg(x1 + x3))/(-x1 - x3 + 1)**2 + 0.25*x2*(Subs(Derivative(Fg(_xi_1), _xi_1), _xi_1, x1 + x3) - Subs(Derivative(Lg(_xi_1), _xi_1), _xi_1, x1 + x3))/(-x1 - x3 + 1)) + (-x1 - x2 - x3 + 1)*(0.25*epsilon*x2*(Fg(x1 + x3) - Lg(x1 + x3))/(-x1 - x3 + 1)**2 + 0.25*epsilon*x2*(Subs(Derivative(Fg(_xi_1), _xi_1), _xi_1, x1 + x3) - Subs(Derivative(Lg(_xi_1), _xi_1), _xi_1, x1 + x3))/(-x1 - x3 + 1) + 0.25*x1*Subs(Derivative(Lg(_xi_1), _xi_1), _xi_1, x1 + x3)/(x1 + x3) - 0.25*x1*Lg(x1 + x3)/(x1 + x3)**2)"
      ]
     },
     "execution_count": 15,
     "metadata": {},
     "output_type": "execute_result"
    }
   ],
   "source": [
    "sym.diff(offspring_1, x3)#.subs({x2: 1 - x1, x3: 0})"
   ]
  },
  {
   "cell_type": "code",
   "execution_count": 14,
   "metadata": {},
   "outputs": [
    {
     "data": {
      "text/latex": [
       "$\\displaystyle - \\frac{0.25 \\epsilon x_{2} \\left(\\operatorname{Fg}{\\left(x_{1} + x_{3} \\right)} - \\operatorname{Lg}{\\left(x_{1} + x_{3} \\right)}\\right)}{- x_{1} - x_{3} + 1} + x_{1} \\left(\\frac{x_{3} \\left(0.5 - 0.5 \\epsilon\\right) \\left. \\frac{d}{d \\xi_{1}} \\operatorname{LG}{\\left(\\xi_{1} \\right)} \\right|_{\\substack{ \\xi_{1}=x_{1} + x_{3} }}}{x_{1} + x_{3}} - \\frac{x_{3} \\left(0.5 - 0.5 \\epsilon\\right) \\operatorname{LG}{\\left(x_{1} + x_{3} \\right)}}{\\left(x_{1} + x_{3}\\right)^{2}} - \\frac{0.25 \\left(\\operatorname{FG}{\\left(x_{1} + x_{3} \\right)} - \\operatorname{LG}{\\left(x_{1} + x_{3} \\right)}\\right)}{- x_{1} - x_{3} + 1} + \\frac{0.25 \\left(\\operatorname{FG}{\\left(x_{1} + x_{3} \\right)} - \\operatorname{LG}{\\left(x_{1} + x_{3} \\right)}\\right) \\left(- x_{1} - x_{2} - x_{3} + 1\\right)}{\\left(- x_{1} - x_{3} + 1\\right)^{2}} + \\frac{0.25 \\left(\\left. \\frac{d}{d \\xi_{1}} \\operatorname{FG}{\\left(\\xi_{1} \\right)} \\right|_{\\substack{ \\xi_{1}=x_{1} + x_{3} }} - \\left. \\frac{d}{d \\xi_{1}} \\operatorname{LG}{\\left(\\xi_{1} \\right)} \\right|_{\\substack{ \\xi_{1}=x_{1} + x_{3} }}\\right) \\left(- x_{1} - x_{2} - x_{3} + 1\\right)}{- x_{1} - x_{3} + 1}\\right) - \\frac{0.25 x_{1} \\operatorname{Lg}{\\left(x_{1} + x_{3} \\right)}}{x_{1} + x_{3}} + x_{2} \\left(- \\frac{0.25 \\epsilon \\left(\\operatorname{FG}{\\left(x_{1} + x_{3} \\right)} - \\operatorname{LG}{\\left(x_{1} + x_{3} \\right)}\\right)}{- x_{1} - x_{3} + 1} + \\frac{0.25 \\epsilon \\left(\\operatorname{FG}{\\left(x_{1} + x_{3} \\right)} - \\operatorname{LG}{\\left(x_{1} + x_{3} \\right)}\\right) \\left(- x_{1} - x_{2} - x_{3} + 1\\right)}{\\left(- x_{1} - x_{3} + 1\\right)^{2}} + \\frac{0.25 \\epsilon \\left(\\left. \\frac{d}{d \\xi_{1}} \\operatorname{FG}{\\left(\\xi_{1} \\right)} \\right|_{\\substack{ \\xi_{1}=x_{1} + x_{3} }} - \\left. \\frac{d}{d \\xi_{1}} \\operatorname{LG}{\\left(\\xi_{1} \\right)} \\right|_{\\substack{ \\xi_{1}=x_{1} + x_{3} }}\\right) \\left(- x_{1} - x_{2} - x_{3} + 1\\right)}{- x_{1} - x_{3} + 1} + \\frac{0.25 x_{3} \\left. \\frac{d}{d \\xi_{1}} \\operatorname{LG}{\\left(\\xi_{1} \\right)} \\right|_{\\substack{ \\xi_{1}=x_{1} + x_{3} }}}{x_{1} + x_{3}} - \\frac{0.25 x_{3} \\operatorname{LG}{\\left(x_{1} + x_{3} \\right)}}{\\left(x_{1} + x_{3}\\right)^{2}}\\right) + \\frac{x_{3} \\left(0.5 - 0.5 \\epsilon\\right) \\operatorname{LG}{\\left(x_{1} + x_{3} \\right)}}{x_{1} + x_{3}} + x_{3} \\left(\\frac{x_{1} \\left(0.5 - 0.5 \\epsilon\\right) \\left. \\frac{d}{d \\xi_{1}} \\operatorname{Lg}{\\left(\\xi_{1} \\right)} \\right|_{\\substack{ \\xi_{1}=x_{1} + x_{3} }}}{x_{1} + x_{3}} - \\frac{x_{1} \\left(0.5 - 0.5 \\epsilon\\right) \\operatorname{Lg}{\\left(x_{1} + x_{3} \\right)}}{\\left(x_{1} + x_{3}\\right)^{2}} + \\frac{0.25 x_{2} \\left(\\operatorname{Fg}{\\left(x_{1} + x_{3} \\right)} - \\operatorname{Lg}{\\left(x_{1} + x_{3} \\right)}\\right)}{\\left(- x_{1} - x_{3} + 1\\right)^{2}} + \\frac{0.25 x_{2} \\left(\\left. \\frac{d}{d \\xi_{1}} \\operatorname{Fg}{\\left(\\xi_{1} \\right)} \\right|_{\\substack{ \\xi_{1}=x_{1} + x_{3} }} - \\left. \\frac{d}{d \\xi_{1}} \\operatorname{Lg}{\\left(\\xi_{1} \\right)} \\right|_{\\substack{ \\xi_{1}=x_{1} + x_{3} }}\\right)}{- x_{1} - x_{3} + 1} + \\frac{x_{3} \\left(1 - \\epsilon\\right) \\left. \\frac{d}{d \\xi_{1}} \\operatorname{Lg}{\\left(\\xi_{1} \\right)} \\right|_{\\substack{ \\xi_{1}=x_{1} + x_{3} }}}{x_{1} + x_{3}} - \\frac{x_{3} \\left(1 - \\epsilon\\right) \\operatorname{Lg}{\\left(x_{1} + x_{3} \\right)}}{\\left(x_{1} + x_{3}\\right)^{2}} + \\frac{\\left(0.5 - 0.5 \\epsilon\\right) \\operatorname{Lg}{\\left(x_{1} + x_{3} \\right)}}{x_{1} + x_{3}} - \\frac{0.5 \\left(\\operatorname{Fg}{\\left(x_{1} + x_{3} \\right)} - \\operatorname{Lg}{\\left(x_{1} + x_{3} \\right)}\\right)}{- x_{1} - x_{3} + 1} + \\frac{0.5 \\left(\\operatorname{Fg}{\\left(x_{1} + x_{3} \\right)} - \\operatorname{Lg}{\\left(x_{1} + x_{3} \\right)}\\right) \\left(- x_{1} - x_{2} - x_{3} + 1\\right)}{\\left(- x_{1} - x_{3} + 1\\right)^{2}} + \\frac{0.5 \\left(\\left. \\frac{d}{d \\xi_{1}} \\operatorname{Fg}{\\left(\\xi_{1} \\right)} \\right|_{\\substack{ \\xi_{1}=x_{1} + x_{3} }} - \\left. \\frac{d}{d \\xi_{1}} \\operatorname{Lg}{\\left(\\xi_{1} \\right)} \\right|_{\\substack{ \\xi_{1}=x_{1} + x_{3} }}\\right) \\left(- x_{1} - x_{2} - x_{3} + 1\\right)}{- x_{1} - x_{3} + 1}\\right) - \\frac{0.5 x_{3} \\operatorname{Lg}{\\left(x_{1} + x_{3} \\right)}}{x_{1} + x_{3}} + \\frac{0.25 \\left(\\operatorname{FG}{\\left(x_{1} + x_{3} \\right)} - \\operatorname{LG}{\\left(x_{1} + x_{3} \\right)}\\right) \\left(- x_{1} - x_{2} - x_{3} + 1\\right)}{- x_{1} - x_{3} + 1} + \\left(- x_{1} - x_{2} - x_{3} + 1\\right) \\left(\\frac{0.25 \\epsilon x_{2} \\left(\\operatorname{Fg}{\\left(x_{1} + x_{3} \\right)} - \\operatorname{Lg}{\\left(x_{1} + x_{3} \\right)}\\right)}{\\left(- x_{1} - x_{3} + 1\\right)^{2}} + \\frac{0.25 \\epsilon x_{2} \\left(\\left. \\frac{d}{d \\xi_{1}} \\operatorname{Fg}{\\left(\\xi_{1} \\right)} \\right|_{\\substack{ \\xi_{1}=x_{1} + x_{3} }} - \\left. \\frac{d}{d \\xi_{1}} \\operatorname{Lg}{\\left(\\xi_{1} \\right)} \\right|_{\\substack{ \\xi_{1}=x_{1} + x_{3} }}\\right)}{- x_{1} - x_{3} + 1} + \\frac{0.25 x_{1} \\left. \\frac{d}{d \\xi_{1}} \\operatorname{Lg}{\\left(\\xi_{1} \\right)} \\right|_{\\substack{ \\xi_{1}=x_{1} + x_{3} }}}{x_{1} + x_{3}} - \\frac{0.25 x_{1} \\operatorname{Lg}{\\left(x_{1} + x_{3} \\right)}}{\\left(x_{1} + x_{3}\\right)^{2}} + \\frac{0.5 x_{3} \\left. \\frac{d}{d \\xi_{1}} \\operatorname{Lg}{\\left(\\xi_{1} \\right)} \\right|_{\\substack{ \\xi_{1}=x_{1} + x_{3} }}}{x_{1} + x_{3}} - \\frac{0.5 x_{3} \\operatorname{Lg}{\\left(x_{1} + x_{3} \\right)}}{\\left(x_{1} + x_{3}\\right)^{2}} + \\frac{0.25 \\operatorname{Lg}{\\left(x_{1} + x_{3} \\right)}}{x_{1} + x_{3}}\\right)$"
      ],
      "text/plain": [
       "-0.25*epsilon*x2*(Fg(x1 + x3) - Lg(x1 + x3))/(-x1 - x3 + 1) + x1*(x3*(0.5 - 0.5*epsilon)*Subs(Derivative(LG(_xi_1), _xi_1), _xi_1, x1 + x3)/(x1 + x3) - x3*(0.5 - 0.5*epsilon)*LG(x1 + x3)/(x1 + x3)**2 - 0.25*(FG(x1 + x3) - LG(x1 + x3))/(-x1 - x3 + 1) + 0.25*(FG(x1 + x3) - LG(x1 + x3))*(-x1 - x2 - x3 + 1)/(-x1 - x3 + 1)**2 + 0.25*(Subs(Derivative(FG(_xi_1), _xi_1), _xi_1, x1 + x3) - Subs(Derivative(LG(_xi_1), _xi_1), _xi_1, x1 + x3))*(-x1 - x2 - x3 + 1)/(-x1 - x3 + 1)) - 0.25*x1*Lg(x1 + x3)/(x1 + x3) + x2*(-0.25*epsilon*(FG(x1 + x3) - LG(x1 + x3))/(-x1 - x3 + 1) + 0.25*epsilon*(FG(x1 + x3) - LG(x1 + x3))*(-x1 - x2 - x3 + 1)/(-x1 - x3 + 1)**2 + 0.25*epsilon*(Subs(Derivative(FG(_xi_1), _xi_1), _xi_1, x1 + x3) - Subs(Derivative(LG(_xi_1), _xi_1), _xi_1, x1 + x3))*(-x1 - x2 - x3 + 1)/(-x1 - x3 + 1) + 0.25*x3*Subs(Derivative(LG(_xi_1), _xi_1), _xi_1, x1 + x3)/(x1 + x3) - 0.25*x3*LG(x1 + x3)/(x1 + x3)**2) + x3*(0.5 - 0.5*epsilon)*LG(x1 + x3)/(x1 + x3) + x3*(x1*(0.5 - 0.5*epsilon)*Subs(Derivative(Lg(_xi_1), _xi_1), _xi_1, x1 + x3)/(x1 + x3) - x1*(0.5 - 0.5*epsilon)*Lg(x1 + x3)/(x1 + x3)**2 + 0.25*x2*(Fg(x1 + x3) - Lg(x1 + x3))/(-x1 - x3 + 1)**2 + 0.25*x2*(Subs(Derivative(Fg(_xi_1), _xi_1), _xi_1, x1 + x3) - Subs(Derivative(Lg(_xi_1), _xi_1), _xi_1, x1 + x3))/(-x1 - x3 + 1) + x3*(1 - epsilon)*Subs(Derivative(Lg(_xi_1), _xi_1), _xi_1, x1 + x3)/(x1 + x3) - x3*(1 - epsilon)*Lg(x1 + x3)/(x1 + x3)**2 + (0.5 - 0.5*epsilon)*Lg(x1 + x3)/(x1 + x3) - 0.5*(Fg(x1 + x3) - Lg(x1 + x3))/(-x1 - x3 + 1) + 0.5*(Fg(x1 + x3) - Lg(x1 + x3))*(-x1 - x2 - x3 + 1)/(-x1 - x3 + 1)**2 + 0.5*(Subs(Derivative(Fg(_xi_1), _xi_1), _xi_1, x1 + x3) - Subs(Derivative(Lg(_xi_1), _xi_1), _xi_1, x1 + x3))*(-x1 - x2 - x3 + 1)/(-x1 - x3 + 1)) - 0.5*x3*Lg(x1 + x3)/(x1 + x3) + 0.25*(FG(x1 + x3) - LG(x1 + x3))*(-x1 - x2 - x3 + 1)/(-x1 - x3 + 1) + (-x1 - x2 - x3 + 1)*(0.25*epsilon*x2*(Fg(x1 + x3) - Lg(x1 + x3))/(-x1 - x3 + 1)**2 + 0.25*epsilon*x2*(Subs(Derivative(Fg(_xi_1), _xi_1), _xi_1, x1 + x3) - Subs(Derivative(Lg(_xi_1), _xi_1), _xi_1, x1 + x3))/(-x1 - x3 + 1) + 0.25*x1*Subs(Derivative(Lg(_xi_1), _xi_1), _xi_1, x1 + x3)/(x1 + x3) - 0.25*x1*Lg(x1 + x3)/(x1 + x3)**2 + 0.5*x3*Subs(Derivative(Lg(_xi_1), _xi_1), _xi_1, x1 + x3)/(x1 + x3) - 0.5*x3*Lg(x1 + x3)/(x1 + x3)**2 + 0.25*Lg(x1 + x3)/(x1 + x3))"
      ]
     },
     "execution_count": 14,
     "metadata": {},
     "output_type": "execute_result"
    }
   ],
   "source": [
    "sym.diff(offspring_3, x1)#.subs({x2: 1 - x1, x3: 0}))"
   ]
  },
  {
   "cell_type": "code",
   "execution_count": 23,
   "metadata": {},
   "outputs": [
    {
     "data": {
      "text/latex": [
       "$\\displaystyle \\frac{- 0.25 \\epsilon x_{1}^{2} \\left(1 - x_{1}\\right) \\left(x_{1} - 1\\right) \\left(\\operatorname{FG}{\\left(x_{1} \\right)} - \\operatorname{LG}{\\left(x_{1} \\right)}\\right) - 0.25 x_{1}^{3} \\left(x_{1} - 1\\right) \\left(\\operatorname{FG}{\\left(x_{1} \\right)} - \\operatorname{LG}{\\left(x_{1} \\right)}\\right) + 0.25 x_{1}^{2} \\left(x_{1} - 1\\right) \\left(\\epsilon \\left(1 - x_{1}\\right) \\left(\\operatorname{FG}{\\left(x_{1} \\right)} - \\operatorname{LG}{\\left(x_{1} \\right)}\\right) + x_{1} \\left(\\operatorname{FG}{\\left(x_{1} \\right)} - \\operatorname{LG}{\\left(x_{1} \\right)}\\right)\\right)}{x_{1}^{2} \\left(x_{1} - 1\\right)^{2}}$"
      ],
      "text/plain": [
       "(-0.25*epsilon*x1**2*(1 - x1)*(x1 - 1)*(FG(x1) - LG(x1)) - 0.25*x1**3*(x1 - 1)*(FG(x1) - LG(x1)) + 0.25*x1**2*(x1 - 1)*(epsilon*(1 - x1)*(FG(x1) - LG(x1)) + x1*(FG(x1) - LG(x1))))/(x1**2*(x1 - 1)**2)"
      ]
     },
     "execution_count": 23,
     "metadata": {},
     "output_type": "execute_result"
    }
   ],
   "source": [
    "sym.simplify(sym.diff(offspring_3, x2) - sym.diff(offspring_3, x1)).doit().subs({x2: 1 - x1, x3: 0})"
   ]
  },
  {
   "cell_type": "code",
   "execution_count": 82,
   "metadata": {},
   "outputs": [],
   "source": [
    "# expression for total number of offspring (population after matching and mating)\n",
    "total_offspring = xG * FG(xA) + (1 - xG) * Fg(xA)"
   ]
  },
  {
   "cell_type": "code",
   "execution_count": 45,
   "metadata": {},
   "outputs": [],
   "source": [
    "N, = models.total_offspring(W, x)"
   ]
  },
  {
   "cell_type": "code",
   "execution_count": 46,
   "metadata": {},
   "outputs": [
    {
     "data": {
      "text/latex": [
       "$\\displaystyle 2.0 P x_{1} \\operatorname{UGA}^{2}{\\left(x_{1} + x_{3} \\right)} - 4.0 P x_{1} \\operatorname{UGA}{\\left(x_{1} + x_{3} \\right)} - 2.0 P x_{1} \\operatorname{UgA}^{2}{\\left(x_{1} + x_{3} \\right)} + 4.0 P x_{1} \\operatorname{UgA}{\\left(x_{1} + x_{3} \\right)} + 2.0 P x_{2} \\operatorname{UGA}^{2}{\\left(x_{1} + x_{3} \\right)} - 4.0 P x_{2} \\operatorname{UGA}{\\left(x_{1} + x_{3} \\right)} - 2.0 P x_{2} \\operatorname{UgA}^{2}{\\left(x_{1} + x_{3} \\right)} + 4.0 P x_{2} \\operatorname{UgA}{\\left(x_{1} + x_{3} \\right)} + 2.0 P \\operatorname{UgA}^{2}{\\left(x_{1} + x_{3} \\right)} - 4.0 P \\operatorname{UgA}{\\left(x_{1} + x_{3} \\right)} + 2.0 P + 2.0 R x_{1} \\operatorname{UGA}^{2}{\\left(x_{1} + x_{3} \\right)} - 2.0 R x_{1} \\operatorname{UgA}^{2}{\\left(x_{1} + x_{3} \\right)} + 2.0 R x_{2} \\operatorname{UGA}^{2}{\\left(x_{1} + x_{3} \\right)} - 2.0 R x_{2} \\operatorname{UgA}^{2}{\\left(x_{1} + x_{3} \\right)} + 2.0 R \\operatorname{UgA}^{2}{\\left(x_{1} + x_{3} \\right)} - 2.0 S x_{1} \\operatorname{UGA}^{2}{\\left(x_{1} + x_{3} \\right)} + 2.0 S x_{1} \\operatorname{UGA}{\\left(x_{1} + x_{3} \\right)} + 2.0 S x_{1} \\operatorname{UgA}^{2}{\\left(x_{1} + x_{3} \\right)} - 2.0 S x_{1} \\operatorname{UgA}{\\left(x_{1} + x_{3} \\right)} - 2.0 S x_{2} \\operatorname{UGA}^{2}{\\left(x_{1} + x_{3} \\right)} + 2.0 S x_{2} \\operatorname{UGA}{\\left(x_{1} + x_{3} \\right)} + 2.0 S x_{2} \\operatorname{UgA}^{2}{\\left(x_{1} + x_{3} \\right)} - 2.0 S x_{2} \\operatorname{UgA}{\\left(x_{1} + x_{3} \\right)} - 2.0 S \\operatorname{UgA}^{2}{\\left(x_{1} + x_{3} \\right)} + 2.0 S \\operatorname{UgA}{\\left(x_{1} + x_{3} \\right)} - 2.0 T x_{1} \\operatorname{UGA}^{2}{\\left(x_{1} + x_{3} \\right)} + 2.0 T x_{1} \\operatorname{UGA}{\\left(x_{1} + x_{3} \\right)} + 2.0 T x_{1} \\operatorname{UgA}^{2}{\\left(x_{1} + x_{3} \\right)} - 2.0 T x_{1} \\operatorname{UgA}{\\left(x_{1} + x_{3} \\right)} - 2.0 T x_{2} \\operatorname{UGA}^{2}{\\left(x_{1} + x_{3} \\right)} + 2.0 T x_{2} \\operatorname{UGA}{\\left(x_{1} + x_{3} \\right)} + 2.0 T x_{2} \\operatorname{UgA}^{2}{\\left(x_{1} + x_{3} \\right)} - 2.0 T x_{2} \\operatorname{UgA}{\\left(x_{1} + x_{3} \\right)} - 2.0 T \\operatorname{UgA}^{2}{\\left(x_{1} + x_{3} \\right)} + 2.0 T \\operatorname{UgA}{\\left(x_{1} + x_{3} \\right)}$"
      ],
      "text/plain": [
       "2.0*P*x1*UGA(x1 + x3)**2 - 4.0*P*x1*UGA(x1 + x3) - 2.0*P*x1*UgA(x1 + x3)**2 + 4.0*P*x1*UgA(x1 + x3) + 2.0*P*x2*UGA(x1 + x3)**2 - 4.0*P*x2*UGA(x1 + x3) - 2.0*P*x2*UgA(x1 + x3)**2 + 4.0*P*x2*UgA(x1 + x3) + 2.0*P*UgA(x1 + x3)**2 - 4.0*P*UgA(x1 + x3) + 2.0*P + 2.0*R*x1*UGA(x1 + x3)**2 - 2.0*R*x1*UgA(x1 + x3)**2 + 2.0*R*x2*UGA(x1 + x3)**2 - 2.0*R*x2*UgA(x1 + x3)**2 + 2.0*R*UgA(x1 + x3)**2 - 2.0*S*x1*UGA(x1 + x3)**2 + 2.0*S*x1*UGA(x1 + x3) + 2.0*S*x1*UgA(x1 + x3)**2 - 2.0*S*x1*UgA(x1 + x3) - 2.0*S*x2*UGA(x1 + x3)**2 + 2.0*S*x2*UGA(x1 + x3) + 2.0*S*x2*UgA(x1 + x3)**2 - 2.0*S*x2*UgA(x1 + x3) - 2.0*S*UgA(x1 + x3)**2 + 2.0*S*UgA(x1 + x3) - 2.0*T*x1*UGA(x1 + x3)**2 + 2.0*T*x1*UGA(x1 + x3) + 2.0*T*x1*UgA(x1 + x3)**2 - 2.0*T*x1*UgA(x1 + x3) - 2.0*T*x2*UGA(x1 + x3)**2 + 2.0*T*x2*UGA(x1 + x3) + 2.0*T*x2*UgA(x1 + x3)**2 - 2.0*T*x2*UgA(x1 + x3) - 2.0*T*UgA(x1 + x3)**2 + 2.0*T*UgA(x1 + x3)"
      ]
     },
     "execution_count": 46,
     "metadata": {},
     "output_type": "execute_result"
    }
   ],
   "source": [
    "# doesn't depend on epsilon\n",
    "sym.simplify(N)"
   ]
  },
  {
   "cell_type": "code",
   "execution_count": 29,
   "metadata": {},
   "outputs": [
    {
     "data": {
      "text/latex": [
       "$\\displaystyle \\left(x_{1} + x_{2}\\right) \\operatorname{FG}{\\left(x_{1} + x_{3} \\right)} + \\left(- x_{1} - x_{2} + 1\\right) \\operatorname{Fg}{\\left(x_{1} + x_{3} \\right)}$"
      ],
      "text/plain": [
       "(x1 + x2)*FG(x1 + x3) + (-x1 - x2 + 1)*Fg(x1 + x3)"
      ]
     },
     "execution_count": 29,
     "metadata": {},
     "output_type": "execute_result"
    }
   ],
   "source": [
    "total_offspring"
   ]
  },
  {
   "cell_type": "code",
   "execution_count": 83,
   "metadata": {},
   "outputs": [],
   "source": [
    "f1 = (offspring_1 / total_offspring) - x1\n",
    "f2 = (offspring_2 / total_offspring) - x2\n",
    "f3 = (offspring_3 / total_offspring) - x3"
   ]
  },
  {
   "cell_type": "code",
   "execution_count": 55,
   "metadata": {},
   "outputs": [
    {
     "data": {
      "text/latex": [
       "$\\displaystyle - x_{1} + \\frac{x_{1} \\left(\\left(1 - \\epsilon\\right) \\operatorname{LG}{\\left(x_{1} \\right)} + 0.5 \\operatorname{FG}{\\left(x_{1} \\right)} - 0.5 \\operatorname{LG}{\\left(x_{1} \\right)}\\right) + 0.5 \\left(1 - x_{1}\\right) \\operatorname{LG}{\\left(x_{1} \\right)}}{\\operatorname{FG}{\\left(x_{1} \\right)}}$"
      ],
      "text/plain": [
       "-x1 + (x1*((1 - epsilon)*LG(x1) + 0.5*FG(x1) - 0.5*LG(x1)) + 0.5*(1 - x1)*LG(x1))/FG(x1)"
      ]
     },
     "execution_count": 55,
     "metadata": {},
     "output_type": "execute_result"
    }
   ],
   "source": [
    "f1.subs({x2:1-x1, x3:0})"
   ]
  },
  {
   "cell_type": "code",
   "execution_count": 84,
   "metadata": {},
   "outputs": [],
   "source": [
    "x = np.array([[x1], [1 - x1], [0], [0]])\n",
    "_W = models.generalized_sexual_selection(x, UGA, UgA, payoff_kernel, 0, 0, epsilon)\n",
    "(_f1,), *_ = models.offspring_genotypes_evolution(_W, x)"
   ]
  },
  {
   "cell_type": "code",
   "execution_count": 57,
   "metadata": {},
   "outputs": [
    {
     "data": {
      "text/latex": [
       "$\\displaystyle - \\frac{1.0 \\left(0.5 P \\epsilon x_{1} - 0.5 P \\epsilon + 0.25 P x_{1} - 0.25 S \\operatorname{UGA}{\\left(x_{1} \\right)} + \\epsilon x_{1} \\left(- 1.0 P + 0.5 S + 0.5 T\\right) \\operatorname{UGA}{\\left(x_{1} \\right)} + \\epsilon x_{1} \\left(0.5 P + 0.5 R - 0.5 S - 0.5 T\\right) \\operatorname{UGA}^{2}{\\left(x_{1} \\right)} + \\epsilon \\left(- 0.5 P + 0.5 T\\right) \\operatorname{UGA}^{2}{\\left(x_{1} \\right)} + \\epsilon \\left(1.0 P - 0.5 T\\right) \\operatorname{UGA}{\\left(x_{1} \\right)} + x_{1} \\left(- 0.5 P + 0.25 S + 0.25 T\\right) \\operatorname{UGA}{\\left(x_{1} \\right)} + x_{1} \\left(0.25 P + 0.25 R - 0.25 S - 0.25 T\\right) \\operatorname{UGA}^{2}{\\left(x_{1} \\right)} + \\left(- 0.25 R + 0.25 S\\right) \\operatorname{UGA}^{2}{\\left(x_{1} \\right)}\\right)}{0.5 P + \\left(- 1.0 P + 0.5 S + 0.5 T\\right) \\operatorname{UGA}{\\left(x_{1} \\right)} + \\left(0.5 P + 0.5 R - 0.5 S - 0.5 T\\right) \\operatorname{UGA}^{2}{\\left(x_{1} \\right)}}$"
      ],
      "text/plain": [
       "-1.0*(0.5*P*epsilon*x1 - 0.5*P*epsilon + 0.25*P*x1 - 0.25*S*UGA(x1) + epsilon*x1*(-1.0*P + 0.5*S + 0.5*T)*UGA(x1) + epsilon*x1*(0.5*P + 0.5*R - 0.5*S - 0.5*T)*UGA(x1)**2 + epsilon*(-0.5*P + 0.5*T)*UGA(x1)**2 + epsilon*(1.0*P - 0.5*T)*UGA(x1) + x1*(-0.5*P + 0.25*S + 0.25*T)*UGA(x1) + x1*(0.25*P + 0.25*R - 0.25*S - 0.25*T)*UGA(x1)**2 + (-0.25*R + 0.25*S)*UGA(x1)**2)/(0.5*P + (-1.0*P + 0.5*S + 0.5*T)*UGA(x1) + (0.5*P + 0.5*R - 0.5*S - 0.5*T)*UGA(x1)**2)"
      ]
     },
     "execution_count": 57,
     "metadata": {},
     "output_type": "execute_result"
    }
   ],
   "source": [
    "sym.factor(sym.simplify(_f1), UGA(x1), x1, epsilon)"
   ]
  },
  {
   "cell_type": "code",
   "execution_count": 58,
   "metadata": {},
   "outputs": [
    {
     "data": {
      "text/latex": [
       "$\\displaystyle \\frac{- 1.0 \\epsilon x_{1} \\operatorname{LG}{\\left(x_{1} \\right)} - 0.5 x_{1} \\operatorname{FG}{\\left(x_{1} \\right)} + 0.5 \\operatorname{LG}{\\left(x_{1} \\right)}}{\\operatorname{FG}{\\left(x_{1} \\right)}}$"
      ],
      "text/plain": [
       "(-1.0*epsilon*x1*LG(x1) - 0.5*x1*FG(x1) + 0.5*LG(x1))/FG(x1)"
      ]
     },
     "execution_count": 58,
     "metadata": {},
     "output_type": "execute_result"
    }
   ],
   "source": [
    "sym.simplify(f1.subs({x2: 1 - x1, x3: 0}))"
   ]
  },
  {
   "cell_type": "code",
   "execution_count": 85,
   "metadata": {},
   "outputs": [],
   "source": [
    "F = sym.Matrix([[f1],\n",
    "                [f2],\n",
    "                [f3]])\n",
    "F_jac = F.jacobian([x1, x2, x3])"
   ]
  },
  {
   "cell_type": "code",
   "execution_count": 86,
   "metadata": {},
   "outputs": [],
   "source": [
    "FG_star = sym.symbols(\"F_G^*\", positive=True, real=True)\n",
    "Fg_star = sym.symbols(\"F_g^*\", positive=True, real=True)\n",
    "LG_star = sym.symbols(\"L_G^*\", positive=True, real=True)\n",
    "Lg_star = sym.symbols(\"L_g^*\", positive=True, real=True)\n",
    "FG_prime_star = sym.symbols(\"F_G^{'*}\", positive=True, real=True)\n",
    "LG_prime_star = sym.symbols(\"L_G^{'*}\", positive=True, real=True)\n",
    "\n",
    "_x1_star, = sym.solve(sym.simplify(f1.subs({x2: 1 - x1, x3: 0})), x1, implicit=True)\n",
    "x1_star = _x1_star.subs({FG(x1): FG_star, LG(x1): LG_star})\n",
    "\n",
    "evaluated_F_jac = sym.simplify(F_jac.subs({x2: 1 - x1, x3: 0})\n",
    "                                    .doit()\n",
    "                                    .subs({sym.Derivative(FG(x1), x1): FG_prime_star, sym.Derivative(LG(x1), x1): LG_prime_star})\n",
    "                                    .subs({FG(x1): FG_star, Fg(x1): Fg_star, LG(x1): LG_star, Lg(x1): Lg_star})\n",
    "                                    .subs({x1: x1_star}))\n",
    "           "
   ]
  },
  {
   "cell_type": "code",
   "execution_count": 97,
   "metadata": {},
   "outputs": [
    {
     "data": {
      "text/latex": [
       "$\\displaystyle - \\frac{1.125 \\left(0.0555555555555556 \\left(F^{*}_{G}\\right)^{3} \\epsilon + 0.111111111111111 \\left(F^{*}_{G}\\right)^{3} + 0.0555555555555556 \\left(F^{*}_{G}\\right)^{2} F^{*}_{g} \\epsilon + 0.222222222222222 \\left(F^{*}_{G}\\right)^{2} L^{*}_{G} \\epsilon^{2} + 0.555555555555556 \\left(F^{*}_{G}\\right)^{2} L^{*}_{G} \\epsilon - 0.0555555555555556 \\left(F^{*}_{G}\\right)^{2} L^{*}_{G} - 0.111111111111111 \\left(F^{*}_{G}\\right)^{2} L_G^{'*} - 0.0555555555555556 \\left(F^{*}_{G}\\right)^{2} L^{*}_{g} \\epsilon + 0.0555555555555556 \\left(F^{*}_{G}\\right)^{2} L^{*}_{g} + 0.111111111111111 F^{*}_{G} F_G^{'*} L^{*}_{G} + 0.222222222222222 F^{*}_{G} F^{*}_{g} L^{*}_{G} \\epsilon^{2} - 0.0555555555555556 F^{*}_{G} F^{*}_{g} L^{*}_{G} \\epsilon - 0.222222222222222 F^{*}_{G} F^{*}_{g} L^{*}_{G} + 0.222222222222222 F^{*}_{G} \\left(L^{*}_{G}\\right)^{2} \\epsilon^{3} + 1.0 F^{*}_{G} \\left(L^{*}_{G}\\right)^{2} \\epsilon^{2} - 0.5 F^{*}_{G} \\left(L^{*}_{G}\\right)^{2} \\epsilon - 0.0555555555555556 F^{*}_{G} \\left(L^{*}_{G}\\right)^{2} - 0.222222222222222 F^{*}_{G} L^{*}_{G} L_G^{'*} \\epsilon + 0.111111111111111 F^{*}_{G} L^{*}_{G} L_G^{'*} - 0.222222222222222 F^{*}_{G} L^{*}_{G} L^{*}_{g} \\epsilon^{2} + 0.277777777777778 F^{*}_{G} L^{*}_{G} L^{*}_{g} \\epsilon - 0.0555555555555556 F^{*}_{G} L^{*}_{G} L^{*}_{g} + 0.222222222222222 F_G^{'*} \\left(L^{*}_{G}\\right)^{2} \\epsilon - 0.111111111111111 F_G^{'*} \\left(L^{*}_{G}\\right)^{2} + 0.222222222222222 F^{*}_{g} \\left(L^{*}_{G}\\right)^{2} \\epsilon^{3} - 0.111111111111111 F^{*}_{g} \\left(L^{*}_{G}\\right)^{2} \\epsilon^{2} - 0.444444444444444 F^{*}_{g} \\left(L^{*}_{G}\\right)^{2} \\epsilon + 0.222222222222222 F^{*}_{g} \\left(L^{*}_{G}\\right)^{2} + 0.666666666666667 \\left(L^{*}_{G}\\right)^{3} \\epsilon^{3} - 0.777777777777778 \\left(L^{*}_{G}\\right)^{3} \\epsilon^{2} + 0.333333333333333 \\left(L^{*}_{G}\\right)^{3} \\epsilon - 0.222222222222222 \\left(L^{*}_{G}\\right)^{2} L^{*}_{g} \\epsilon^{3} + 0.333333333333333 \\left(L^{*}_{G}\\right)^{2} L^{*}_{g} \\epsilon^{2} - 0.111111111111111 \\left(L^{*}_{G}\\right)^{2} L^{*}_{g} \\epsilon\\right)}{F^{*}_{G} \\left(0.5 F^{*}_{G} + 1.0 L^{*}_{G} \\epsilon\\right) \\left(0.5 F^{*}_{G} + 1.0 L^{*}_{G} \\epsilon - 0.5 L^{*}_{G}\\right)}$"
      ],
      "text/plain": [
       "-1.125*(0.0555555555555556*F_G^***3*epsilon + 0.111111111111111*F_G^***3 + 0.0555555555555556*F_G^***2*F_g^**epsilon + 0.222222222222222*F_G^***2*L_G^**epsilon**2 + 0.555555555555556*F_G^***2*L_G^**epsilon - 0.0555555555555556*F_G^***2*L_G^* - 0.111111111111111*F_G^***2*L_G^{'*} - 0.0555555555555556*F_G^***2*L_g^**epsilon + 0.0555555555555556*F_G^***2*L_g^* + 0.111111111111111*F_G^**F_G^{'*}*L_G^* + 0.222222222222222*F_G^**F_g^**L_G^**epsilon**2 - 0.0555555555555556*F_G^**F_g^**L_G^**epsilon - 0.222222222222222*F_G^**F_g^**L_G^* + 0.222222222222222*F_G^**L_G^***2*epsilon**3 + 1.0*F_G^**L_G^***2*epsilon**2 - 0.5*F_G^**L_G^***2*epsilon - 0.0555555555555556*F_G^**L_G^***2 - 0.222222222222222*F_G^**L_G^**L_G^{'*}*epsilon + 0.111111111111111*F_G^**L_G^**L_G^{'*} - 0.222222222222222*F_G^**L_G^**L_g^**epsilon**2 + 0.277777777777778*F_G^**L_G^**L_g^**epsilon - 0.0555555555555556*F_G^**L_G^**L_g^* + 0.222222222222222*F_G^{'*}*L_G^***2*epsilon - 0.111111111111111*F_G^{'*}*L_G^***2 + 0.222222222222222*F_g^**L_G^***2*epsilon**3 - 0.111111111111111*F_g^**L_G^***2*epsilon**2 - 0.444444444444444*F_g^**L_G^***2*epsilon + 0.222222222222222*F_g^**L_G^***2 + 0.666666666666667*L_G^***3*epsilon**3 - 0.777777777777778*L_G^***3*epsilon**2 + 0.333333333333333*L_G^***3*epsilon - 0.222222222222222*L_G^***2*L_g^**epsilon**3 + 0.333333333333333*L_G^***2*L_g^**epsilon**2 - 0.111111111111111*L_G^***2*L_g^**epsilon)/(F_G^**(0.5*F_G^* + 1.0*L_G^**epsilon)*(0.5*F_G^* + 1.0*L_G^**epsilon - 0.5*L_G^*))"
      ]
     },
     "execution_count": 97,
     "metadata": {},
     "output_type": "execute_result"
    }
   ],
   "source": [
    "sym.factor(sym.together(sym.expand(evaluated_F_jac[0,0])))"
   ]
  },
  {
   "cell_type": "code",
   "execution_count": 62,
   "metadata": {},
   "outputs": [
    {
     "data": {
      "text/latex": [
       "$\\displaystyle \\frac{L^{*}_{G}}{F^{*}_{G} + 2.0 L^{*}_{G} \\epsilon}$"
      ],
      "text/plain": [
       "L_G^*/(F_G^* + 2.0*L_G^**epsilon)"
      ]
     },
     "execution_count": 62,
     "metadata": {},
     "output_type": "execute_result"
    }
   ],
   "source": [
    "sym.simplify(x1_star)"
   ]
  },
  {
   "cell_type": "code",
   "execution_count": 17,
   "metadata": {},
   "outputs": [],
   "source": [
    "eigenvals = evaluated_F_jac.eigenvals()"
   ]
  },
  {
   "cell_type": "code",
   "execution_count": 18,
   "metadata": {},
   "outputs": [],
   "source": [
    "e1, e2, e3 = eigenvals.keys()"
   ]
  },
  {
   "cell_type": "code",
   "execution_count": 19,
   "metadata": {},
   "outputs": [
    {
     "data": {
      "text/latex": [
       "$\\displaystyle - \\frac{\\left(F^{*}_{G}\\right)^{2} - F^{*}_{G} L_G^{'*} + F_G^{'*} L^{*}_{G}}{2 \\left(F^{*}_{G}\\right)^{2}}$"
      ],
      "text/plain": [
       "-(F_G^***2 - F_G^**L_G^{'*} + F_G^{'*}*L_G^*)/(2*F_G^***2)"
      ]
     },
     "execution_count": 19,
     "metadata": {},
     "output_type": "execute_result"
    }
   ],
   "source": [
    "e1.subs({epsilon: 0})"
   ]
  },
  {
   "cell_type": "code",
   "execution_count": 88,
   "metadata": {},
   "outputs": [
    {
     "data": {
      "text/latex": [
       "$\\displaystyle \\frac{- \\left(F^{*}_{G}\\right)^{2} \\epsilon - 5 \\left(F^{*}_{G}\\right)^{2} - F^{*}_{G} F^{*}_{g} \\epsilon + 3 F^{*}_{G} F^{*}_{g} - 2 F^{*}_{G} L^{*}_{G} \\epsilon^{2} - 8 F^{*}_{G} L^{*}_{G} \\epsilon + 5 F^{*}_{G} L^{*}_{G} - F^{*}_{G} L^{*}_{g} \\epsilon - 2 F^{*}_{g} L^{*}_{G} \\epsilon^{2} + 7 F^{*}_{g} L^{*}_{G} \\epsilon - 3 F^{*}_{g} L^{*}_{G} + 2 \\left(L^{*}_{G}\\right)^{2} \\epsilon^{2} - 3 \\left(L^{*}_{G}\\right)^{2} \\epsilon - 2 L^{*}_{G} L^{*}_{g} \\epsilon^{2} + L^{*}_{G} L^{*}_{g} \\epsilon - \\sqrt{\\left(F^{*}_{G}\\right)^{4} \\epsilon^{2} + 2 \\left(F^{*}_{G}\\right)^{4} \\epsilon + \\left(F^{*}_{G}\\right)^{4} + 2 \\left(F^{*}_{G}\\right)^{3} F^{*}_{g} \\epsilon^{2} + 4 \\left(F^{*}_{G}\\right)^{3} F^{*}_{g} \\epsilon + 2 \\left(F^{*}_{G}\\right)^{3} F^{*}_{g} + 4 \\left(F^{*}_{G}\\right)^{3} L^{*}_{G} \\epsilon^{3} + 20 \\left(F^{*}_{G}\\right)^{3} L^{*}_{G} \\epsilon^{2} - 2 \\left(F^{*}_{G}\\right)^{3} L^{*}_{G} \\epsilon - 2 \\left(F^{*}_{G}\\right)^{3} L^{*}_{G} + 2 \\left(F^{*}_{G}\\right)^{3} L^{*}_{g} \\epsilon^{2} + 2 \\left(F^{*}_{G}\\right)^{3} L^{*}_{g} \\epsilon + \\left(F^{*}_{G}\\right)^{2} \\left(F^{*}_{g}\\right)^{2} \\epsilon^{2} + 2 \\left(F^{*}_{G}\\right)^{2} \\left(F^{*}_{g}\\right)^{2} \\epsilon + \\left(F^{*}_{G}\\right)^{2} \\left(F^{*}_{g}\\right)^{2} + 8 \\left(F^{*}_{G}\\right)^{2} F^{*}_{g} L^{*}_{G} \\epsilon^{3} + 26 \\left(F^{*}_{G}\\right)^{2} F^{*}_{g} L^{*}_{G} \\epsilon^{2} - 2 \\left(F^{*}_{G}\\right)^{2} F^{*}_{g} L^{*}_{G} \\epsilon - 4 \\left(F^{*}_{G}\\right)^{2} F^{*}_{g} L^{*}_{G} + 2 \\left(F^{*}_{G}\\right)^{2} F^{*}_{g} L^{*}_{g} \\epsilon^{2} + 2 \\left(F^{*}_{G}\\right)^{2} F^{*}_{g} L^{*}_{g} \\epsilon + 4 \\left(F^{*}_{G}\\right)^{2} \\left(L^{*}_{G}\\right)^{2} \\epsilon^{4} + 60 \\left(F^{*}_{G}\\right)^{2} \\left(L^{*}_{G}\\right)^{2} \\epsilon^{3} - 50 \\left(F^{*}_{G}\\right)^{2} \\left(L^{*}_{G}\\right)^{2} \\epsilon^{2} + 6 \\left(F^{*}_{G}\\right)^{2} \\left(L^{*}_{G}\\right)^{2} \\epsilon + \\left(F^{*}_{G}\\right)^{2} \\left(L^{*}_{G}\\right)^{2} + 8 \\left(F^{*}_{G}\\right)^{2} L^{*}_{G} L^{*}_{g} \\epsilon^{3} - 14 \\left(F^{*}_{G}\\right)^{2} L^{*}_{G} L^{*}_{g} \\epsilon^{2} + 12 \\left(F^{*}_{G}\\right)^{2} L^{*}_{G} L^{*}_{g} \\epsilon + \\left(F^{*}_{G}\\right)^{2} \\left(L^{*}_{g}\\right)^{2} \\epsilon^{2} + 4 F^{*}_{G} \\left(F^{*}_{g}\\right)^{2} L^{*}_{G} \\epsilon^{3} + 6 F^{*}_{G} \\left(F^{*}_{g}\\right)^{2} L^{*}_{G} \\epsilon^{2} - 2 F^{*}_{G} \\left(F^{*}_{g}\\right)^{2} L^{*}_{G} + 8 F^{*}_{G} F^{*}_{g} \\left(L^{*}_{G}\\right)^{2} \\epsilon^{4} + 64 F^{*}_{G} F^{*}_{g} \\left(L^{*}_{G}\\right)^{2} \\epsilon^{3} - 38 F^{*}_{G} F^{*}_{g} \\left(L^{*}_{G}\\right)^{2} \\epsilon^{2} - 12 F^{*}_{G} F^{*}_{g} \\left(L^{*}_{G}\\right)^{2} \\epsilon + 2 F^{*}_{G} F^{*}_{g} \\left(L^{*}_{G}\\right)^{2} + 8 F^{*}_{G} F^{*}_{g} L^{*}_{G} L^{*}_{g} \\epsilon^{3} + 4 F^{*}_{G} F^{*}_{g} L^{*}_{G} L^{*}_{g} \\epsilon^{2} - 4 F^{*}_{G} F^{*}_{g} L^{*}_{G} L^{*}_{g} \\epsilon + 56 F^{*}_{G} \\left(L^{*}_{G}\\right)^{3} \\epsilon^{4} - 116 F^{*}_{G} \\left(L^{*}_{G}\\right)^{3} \\epsilon^{3} + 52 F^{*}_{G} \\left(L^{*}_{G}\\right)^{3} \\epsilon^{2} - 6 F^{*}_{G} \\left(L^{*}_{G}\\right)^{3} \\epsilon + 8 F^{*}_{G} \\left(L^{*}_{G}\\right)^{2} L^{*}_{g} \\epsilon^{4} - 72 F^{*}_{G} \\left(L^{*}_{G}\\right)^{2} L^{*}_{g} \\epsilon^{3} + 66 F^{*}_{G} \\left(L^{*}_{G}\\right)^{2} L^{*}_{g} \\epsilon^{2} - 14 F^{*}_{G} \\left(L^{*}_{G}\\right)^{2} L^{*}_{g} \\epsilon + 4 F^{*}_{G} L^{*}_{G} \\left(L^{*}_{g}\\right)^{2} \\epsilon^{3} - 2 F^{*}_{G} L^{*}_{G} \\left(L^{*}_{g}\\right)^{2} \\epsilon^{2} + 4 \\left(F^{*}_{g}\\right)^{2} \\left(L^{*}_{G}\\right)^{2} \\epsilon^{4} + 4 \\left(F^{*}_{g}\\right)^{2} \\left(L^{*}_{G}\\right)^{2} \\epsilon^{3} - 3 \\left(F^{*}_{g}\\right)^{2} \\left(L^{*}_{G}\\right)^{2} \\epsilon^{2} - 2 \\left(F^{*}_{g}\\right)^{2} \\left(L^{*}_{G}\\right)^{2} \\epsilon + \\left(F^{*}_{g}\\right)^{2} \\left(L^{*}_{G}\\right)^{2} + 56 F^{*}_{g} \\left(L^{*}_{G}\\right)^{3} \\epsilon^{4} - 56 F^{*}_{g} \\left(L^{*}_{G}\\right)^{3} \\epsilon^{3} - 6 F^{*}_{g} \\left(L^{*}_{G}\\right)^{3} \\epsilon^{2} + 10 F^{*}_{g} \\left(L^{*}_{G}\\right)^{3} \\epsilon + 8 F^{*}_{g} \\left(L^{*}_{G}\\right)^{2} L^{*}_{g} \\epsilon^{4} - 6 F^{*}_{g} \\left(L^{*}_{G}\\right)^{2} L^{*}_{g} \\epsilon^{2} + 2 F^{*}_{g} \\left(L^{*}_{G}\\right)^{2} L^{*}_{g} \\epsilon - 60 \\left(L^{*}_{G}\\right)^{4} \\epsilon^{4} + 52 \\left(L^{*}_{G}\\right)^{4} \\epsilon^{3} - 7 \\left(L^{*}_{G}\\right)^{4} \\epsilon^{2} - 72 \\left(L^{*}_{G}\\right)^{3} L^{*}_{g} \\epsilon^{4} + 80 \\left(L^{*}_{G}\\right)^{3} L^{*}_{g} \\epsilon^{3} - 22 \\left(L^{*}_{G}\\right)^{3} L^{*}_{g} \\epsilon^{2} + 4 \\left(L^{*}_{G}\\right)^{2} \\left(L^{*}_{g}\\right)^{2} \\epsilon^{4} - 4 \\left(L^{*}_{G}\\right)^{2} \\left(L^{*}_{g}\\right)^{2} \\epsilon^{3} + \\left(L^{*}_{G}\\right)^{2} \\left(L^{*}_{g}\\right)^{2} \\epsilon^{2}}}{8 F^{*}_{G} \\left(F^{*}_{G} + 2 L^{*}_{G} \\epsilon - L^{*}_{G}\\right)}$"
      ],
      "text/plain": [
       "(-F_G^***2*epsilon - 5*F_G^***2 - F_G^**F_g^**epsilon + 3*F_G^**F_g^* - 2*F_G^**L_G^**epsilon**2 - 8*F_G^**L_G^**epsilon + 5*F_G^**L_G^* - F_G^**L_g^**epsilon - 2*F_g^**L_G^**epsilon**2 + 7*F_g^**L_G^**epsilon - 3*F_g^**L_G^* + 2*L_G^***2*epsilon**2 - 3*L_G^***2*epsilon - 2*L_G^**L_g^**epsilon**2 + L_G^**L_g^**epsilon - sqrt(F_G^***4*epsilon**2 + 2*F_G^***4*epsilon + F_G^***4 + 2*F_G^***3*F_g^**epsilon**2 + 4*F_G^***3*F_g^**epsilon + 2*F_G^***3*F_g^* + 4*F_G^***3*L_G^**epsilon**3 + 20*F_G^***3*L_G^**epsilon**2 - 2*F_G^***3*L_G^**epsilon - 2*F_G^***3*L_G^* + 2*F_G^***3*L_g^**epsilon**2 + 2*F_G^***3*L_g^**epsilon + F_G^***2*F_g^***2*epsilon**2 + 2*F_G^***2*F_g^***2*epsilon + F_G^***2*F_g^***2 + 8*F_G^***2*F_g^**L_G^**epsilon**3 + 26*F_G^***2*F_g^**L_G^**epsilon**2 - 2*F_G^***2*F_g^**L_G^**epsilon - 4*F_G^***2*F_g^**L_G^* + 2*F_G^***2*F_g^**L_g^**epsilon**2 + 2*F_G^***2*F_g^**L_g^**epsilon + 4*F_G^***2*L_G^***2*epsilon**4 + 60*F_G^***2*L_G^***2*epsilon**3 - 50*F_G^***2*L_G^***2*epsilon**2 + 6*F_G^***2*L_G^***2*epsilon + F_G^***2*L_G^***2 + 8*F_G^***2*L_G^**L_g^**epsilon**3 - 14*F_G^***2*L_G^**L_g^**epsilon**2 + 12*F_G^***2*L_G^**L_g^**epsilon + F_G^***2*L_g^***2*epsilon**2 + 4*F_G^**F_g^***2*L_G^**epsilon**3 + 6*F_G^**F_g^***2*L_G^**epsilon**2 - 2*F_G^**F_g^***2*L_G^* + 8*F_G^**F_g^**L_G^***2*epsilon**4 + 64*F_G^**F_g^**L_G^***2*epsilon**3 - 38*F_G^**F_g^**L_G^***2*epsilon**2 - 12*F_G^**F_g^**L_G^***2*epsilon + 2*F_G^**F_g^**L_G^***2 + 8*F_G^**F_g^**L_G^**L_g^**epsilon**3 + 4*F_G^**F_g^**L_G^**L_g^**epsilon**2 - 4*F_G^**F_g^**L_G^**L_g^**epsilon + 56*F_G^**L_G^***3*epsilon**4 - 116*F_G^**L_G^***3*epsilon**3 + 52*F_G^**L_G^***3*epsilon**2 - 6*F_G^**L_G^***3*epsilon + 8*F_G^**L_G^***2*L_g^**epsilon**4 - 72*F_G^**L_G^***2*L_g^**epsilon**3 + 66*F_G^**L_G^***2*L_g^**epsilon**2 - 14*F_G^**L_G^***2*L_g^**epsilon + 4*F_G^**L_G^**L_g^***2*epsilon**3 - 2*F_G^**L_G^**L_g^***2*epsilon**2 + 4*F_g^***2*L_G^***2*epsilon**4 + 4*F_g^***2*L_G^***2*epsilon**3 - 3*F_g^***2*L_G^***2*epsilon**2 - 2*F_g^***2*L_G^***2*epsilon + F_g^***2*L_G^***2 + 56*F_g^**L_G^***3*epsilon**4 - 56*F_g^**L_G^***3*epsilon**3 - 6*F_g^**L_G^***3*epsilon**2 + 10*F_g^**L_G^***3*epsilon + 8*F_g^**L_G^***2*L_g^**epsilon**4 - 6*F_g^**L_G^***2*L_g^**epsilon**2 + 2*F_g^**L_G^***2*L_g^**epsilon - 60*L_G^***4*epsilon**4 + 52*L_G^***4*epsilon**3 - 7*L_G^***4*epsilon**2 - 72*L_G^***3*L_g^**epsilon**4 + 80*L_G^***3*L_g^**epsilon**3 - 22*L_G^***3*L_g^**epsilon**2 + 4*L_G^***2*L_g^***2*epsilon**4 - 4*L_G^***2*L_g^***2*epsilon**3 + L_G^***2*L_g^***2*epsilon**2))/(8*F_G^**(F_G^* + 2*L_G^**epsilon - L_G^*))"
      ]
     },
     "execution_count": 88,
     "metadata": {},
     "output_type": "execute_result"
    }
   ],
   "source": [
    "(sym.simplify(e2))"
   ]
  },
  {
   "cell_type": "code",
   "execution_count": 42,
   "metadata": {},
   "outputs": [],
   "source": [
    "A, B = sym.symbols(\"A, B\", real=True, positive=True)\n",
    "C, D = sym.symbols(\"C, D\", real=True, nonnegative=True)\n",
    "\n",
    "Real = (-A**2*epsilon - \n",
    "        5*A**2 - \n",
    "        A*B*epsilon + \n",
    "        3*A*B - \n",
    "        2*A*C*epsilon**2 - \n",
    "        8*A*C*epsilon + \n",
    "        5*A*C - \n",
    "        A*D*epsilon - \n",
    "        2*B*C*epsilon**2 + \n",
    "        7*B*C*epsilon - \n",
    "        3*B*C + \n",
    "        2*C**2*epsilon**2 - \n",
    "        3*C**2*epsilon - \n",
    "        2*C*D*epsilon**2 + \n",
    "        C*D*epsilon)\n",
    "\n",
    "Delta = (A**4*epsilon**2 + \n",
    "         2*A**4*epsilon + \n",
    "         A**4 + \n",
    "         2*A**3*B*epsilon**2 + \n",
    "         4*A**3*B*epsilon + \n",
    "         2*A**3*B + \n",
    "         4*A**3*C*epsilon**3 + \n",
    "         20*A**3*C*epsilon**2 - \n",
    "         2*A**3*C*epsilon - \n",
    "         2*A**3*C + \n",
    "         2*A**3*D*epsilon**2 + \n",
    "         2*A**3*D*epsilon + \n",
    "         A**2*B**2*epsilon**2 + \n",
    "         2*A**2*B**2*epsilon + \n",
    "         A**2*B**2 + \n",
    "         8*A**2*B*C*epsilon**3 + \n",
    "         26*A**2*B*C*epsilon**2 - \n",
    "         2*A**2*B*C*epsilon - \n",
    "         4*A**2*B*C + \n",
    "         2*A**2*B*D*epsilon**2 + \n",
    "         2*A**2*B*D*epsilon + \n",
    "         4*A**2*C**2*epsilon**4 + \n",
    "         60*A**2*C**2*epsilon**3 - \n",
    "         50*A**2*C**2*epsilon**2 + \n",
    "         6*A**2*C**2*epsilon + \n",
    "         A**2*C**2 + \n",
    "         8*A**2*C*D*epsilon**3 - \n",
    "         14*A**2*C*D*epsilon**2 + \n",
    "         12*A**2*C*D*epsilon + \n",
    "         A**2*D**2*epsilon**2 + \n",
    "         4*A*B**2*C*epsilon**3 + 6*A*B**2*C*epsilon**2 - 2*A*B**2*C + 8*A*B*C**2*epsilon**4 + 64*A*B*C**2*epsilon**3 - 38*A*B*C**2*epsilon**2 - 12*A*B*C**2*epsilon + 2*A*B*C**2 + 8*A*B*C*D*epsilon**3 + 4*A*B*C*D*epsilon**2 - 4*A*B*C*D*epsilon + 56*A*C**3*epsilon**4 - 116*A*C**3*epsilon**3 + 52*A*C**3*epsilon**2 - 6*A*C**3*epsilon + 8*A*C**2*D*epsilon**4 - 72*A*C**2*D*epsilon**3 + 66*A*C**2*D*epsilon**2 - 14*A*C**2*D*epsilon + 4*A*C*D**2*epsilon**3 - 2*A*C*D**2*epsilon**2 + 4*B**2*C**2*epsilon**4 + 4*B**2*C**2*epsilon**3 - 3*B**2*C**2*epsilon**2 - 2*B**2*C**2*epsilon + B**2*C**2 + 56*B*C**3*epsilon**4 - 56*B*C**3*epsilon**3 - 6*B*C**3*epsilon**2 + 10*B*C**3*epsilon + 8*B*C**2*D*epsilon**4 - 6*B*C**2*D*epsilon**2 + 2*B*C**2*D*epsilon - 60*C**4*epsilon**4 + 52*C**4*epsilon**3 - 7*C**4*epsilon**2 - 72*C**3*D*epsilon**4 + 80*C**3*D*epsilon**3 - 22*C**3*D*epsilon**2 + 4*C**2*D**2*epsilon**4 - 4*C**2*D**2*epsilon**3 + C**2*D**2*epsilon**2)\n",
    "\n"
   ]
  },
  {
   "cell_type": "code",
   "execution_count": 89,
   "metadata": {},
   "outputs": [],
   "source": [
    "# prove that this is negative and equilibrium is not invadable\n",
    "n, d = sym.fraction(sym.factor(sym.together(sym.expand((Delta / (8*A*(A + 2*C*epsilon - C))**2) - (-Real / (8*A*(A + 2*C*epsilon - C)))**2))))"
   ]
  },
  {
   "cell_type": "code",
   "execution_count": 90,
   "metadata": {},
   "outputs": [
    {
     "data": {
      "text/latex": [
       "$\\displaystyle 8 A^{2} \\left(A + 2 C \\epsilon - C\\right)$"
      ],
      "text/plain": [
       "8*A**2*(A + 2*C*epsilon - C)"
      ]
     },
     "execution_count": 90,
     "metadata": {},
     "output_type": "execute_result"
    }
   ],
   "source": [
    "# this is strictly positive\n",
    "d"
   ]
  },
  {
   "cell_type": "code",
   "execution_count": 91,
   "metadata": {},
   "outputs": [
    {
     "data": {
      "text/latex": [
       "$\\displaystyle - A^{3} \\epsilon - 3 A^{3} + 4 A^{2} B - 4 A^{2} C \\epsilon + 3 A^{2} C - A^{2} D \\epsilon + A B^{2} \\epsilon - A B^{2} + 2 A B C \\epsilon^{2} + 7 A B C \\epsilon - 4 A B C + A B D \\epsilon + 4 A C^{2} \\epsilon^{3} - 2 A C^{2} \\epsilon^{2} - 3 A C^{2} \\epsilon - 4 A C D \\epsilon^{2} + 3 A C D \\epsilon + 2 B^{2} C \\epsilon^{2} - 3 B^{2} C \\epsilon + B^{2} C + 4 B C^{2} \\epsilon^{3} - 4 B C^{2} \\epsilon^{2} + B C^{2} \\epsilon + 2 B C D \\epsilon^{2} - B C D \\epsilon - 4 C^{3} \\epsilon^{3} + 2 C^{3} \\epsilon^{2} - 4 C^{2} D \\epsilon^{3} + 2 C^{2} D \\epsilon^{2}$"
      ],
      "text/plain": [
       "-A**3*epsilon - 3*A**3 + 4*A**2*B - 4*A**2*C*epsilon + 3*A**2*C - A**2*D*epsilon + A*B**2*epsilon - A*B**2 + 2*A*B*C*epsilon**2 + 7*A*B*C*epsilon - 4*A*B*C + A*B*D*epsilon + 4*A*C**2*epsilon**3 - 2*A*C**2*epsilon**2 - 3*A*C**2*epsilon - 4*A*C*D*epsilon**2 + 3*A*C*D*epsilon + 2*B**2*C*epsilon**2 - 3*B**2*C*epsilon + B**2*C + 4*B*C**2*epsilon**3 - 4*B*C**2*epsilon**2 + B*C**2*epsilon + 2*B*C*D*epsilon**2 - B*C*D*epsilon - 4*C**3*epsilon**3 + 2*C**3*epsilon**2 - 4*C**2*D*epsilon**3 + 2*C**2*D*epsilon**2"
      ]
     },
     "execution_count": 91,
     "metadata": {},
     "output_type": "execute_result"
    }
   ],
   "source": [
    "n"
   ]
  },
  {
   "cell_type": "code",
   "execution_count": 92,
   "metadata": {},
   "outputs": [],
   "source": [
    "# need to show where this is negative\n",
    "pb = sym.Poly(n, B)"
   ]
  },
  {
   "cell_type": "code",
   "execution_count": 93,
   "metadata": {},
   "outputs": [
    {
     "data": {
      "text/latex": [
       "$\\displaystyle \\left(\\epsilon - 1\\right) \\left(A + 2 C \\epsilon - C\\right)$"
      ],
      "text/plain": [
       "(epsilon - 1)*(A + 2*C*epsilon - C)"
      ]
     },
     "execution_count": 93,
     "metadata": {},
     "output_type": "execute_result"
    }
   ],
   "source": [
    "# this is negative so quadratic opens down (so intermediate values of Fg can invade)\n",
    "sym.factor(pb.coeffs()[0])"
   ]
  },
  {
   "cell_type": "code",
   "execution_count": 94,
   "metadata": {},
   "outputs": [
    {
     "data": {
      "text/latex": [
       "$\\displaystyle \\left(A + 2 C \\epsilon - C\\right) \\left(4 A + 2 C \\epsilon^{2} - C \\epsilon + D \\epsilon\\right)$"
      ],
      "text/plain": [
       "(A + 2*C*epsilon - C)*(4*A + 2*C*epsilon**2 - C*epsilon + D*epsilon)"
      ]
     },
     "execution_count": 94,
     "metadata": {},
     "output_type": "execute_result"
    }
   ],
   "source": [
    "sym.factor(pb.coeffs()[1])"
   ]
  },
  {
   "cell_type": "code",
   "execution_count": 95,
   "metadata": {},
   "outputs": [
    {
     "data": {
      "text/latex": [
       "$\\displaystyle - A^{3} \\epsilon - 3 A^{3} - 4 A^{2} C \\epsilon + 3 A^{2} C + 4 A C^{2} \\epsilon^{3} - 2 A C^{2} \\epsilon^{2} - 3 A C^{2} \\epsilon - 4 C^{3} \\epsilon^{3} + 2 C^{3} \\epsilon^{2} - D \\left(A^{2} \\epsilon + 4 A C \\epsilon^{2} - 3 A C \\epsilon + 4 C^{2} \\epsilon^{3} - 2 C^{2} \\epsilon^{2}\\right)$"
      ],
      "text/plain": [
       "-A**3*epsilon - 3*A**3 - 4*A**2*C*epsilon + 3*A**2*C + 4*A*C**2*epsilon**3 - 2*A*C**2*epsilon**2 - 3*A*C**2*epsilon - 4*C**3*epsilon**3 + 2*C**3*epsilon**2 - D*(A**2*epsilon + 4*A*C*epsilon**2 - 3*A*C*epsilon + 4*C**2*epsilon**3 - 2*C**2*epsilon**2)"
      ]
     },
     "execution_count": 95,
     "metadata": {},
     "output_type": "execute_result"
    }
   ],
   "source": [
    "# if this is negative then both roots are positive (both roots negative is infeasible)\n",
    "sym.factor(pb.coeffs()[2], D)"
   ]
  },
  {
   "cell_type": "code",
   "execution_count": 96,
   "metadata": {},
   "outputs": [],
   "source": [
    "Fg_lower, Fg_upper = sym.solve(pb, B)"
   ]
  },
  {
   "cell_type": "code",
   "execution_count": 97,
   "metadata": {},
   "outputs": [
    {
     "data": {
      "text/plain": [
       "'(sqrt((A + 2*C*epsilon - C)*(4*A**3*epsilon**2 + 8*A**3*epsilon + 4*A**3 + 32*A**2*C*epsilon**2 - 4*A**2*C*epsilon - 4*A**2*C + 4*A**2*D*epsilon**2 + 4*A**2*D*epsilon - 12*A*C**2*epsilon**4 + 52*A*C**2*epsilon**3 - 27*A*C**2*epsilon**2 - 4*A*C**2*epsilon + 20*A*C*D*epsilon**3 - 14*A*C*D*epsilon**2 + 4*A*C*D*epsilon + A*D**2*epsilon**2 + 8*C**3*epsilon**5 + 4*C**3*epsilon**4 - 18*C**3*epsilon**3 + 7*C**3*epsilon**2 + 24*C**2*D*epsilon**4 - 32*C**2*D*epsilon**3 + 10*C**2*D*epsilon**2 + 2*C*D**2*epsilon**3 - C*D**2*epsilon**2))*(1 - epsilon) + (-4*A - 2*C*epsilon**2 + C*epsilon - D*epsilon)*(A*epsilon - A + 2*C*epsilon**2 - 3*C*epsilon + C))/(2*(epsilon - 1)*(A*epsilon - A + 2*C*epsilon**2 - 3*C*epsilon + C))'"
      ]
     },
     "execution_count": 97,
     "metadata": {},
     "output_type": "execute_result"
    }
   ],
   "source": [
    "str(Fg_lower)"
   ]
  },
  {
   "cell_type": "code",
   "execution_count": 98,
   "metadata": {},
   "outputs": [
    {
     "data": {
      "text/plain": [
       "'(sqrt((A + 2*C*epsilon - C)*(4*A**3*epsilon**2 + 8*A**3*epsilon + 4*A**3 + 32*A**2*C*epsilon**2 - 4*A**2*C*epsilon - 4*A**2*C + 4*A**2*D*epsilon**2 + 4*A**2*D*epsilon - 12*A*C**2*epsilon**4 + 52*A*C**2*epsilon**3 - 27*A*C**2*epsilon**2 - 4*A*C**2*epsilon + 20*A*C*D*epsilon**3 - 14*A*C*D*epsilon**2 + 4*A*C*D*epsilon + A*D**2*epsilon**2 + 8*C**3*epsilon**5 + 4*C**3*epsilon**4 - 18*C**3*epsilon**3 + 7*C**3*epsilon**2 + 24*C**2*D*epsilon**4 - 32*C**2*D*epsilon**3 + 10*C**2*D*epsilon**2 + 2*C*D**2*epsilon**3 - C*D**2*epsilon**2))*(epsilon - 1) + (-4*A - 2*C*epsilon**2 + C*epsilon - D*epsilon)*(A*epsilon - A + 2*C*epsilon**2 - 3*C*epsilon + C))/(2*(epsilon - 1)*(A*epsilon - A + 2*C*epsilon**2 - 3*C*epsilon + C))'"
      ]
     },
     "execution_count": 98,
     "metadata": {},
     "output_type": "execute_result"
    }
   ],
   "source": [
    "str(Fg_upper)"
   ]
  },
  {
   "cell_type": "markdown",
   "metadata": {},
   "source": [
    "## Case where $U_G=1; U_g=x^*$\n",
    "\n",
    "If discriminant is negative, then quadratic is everywhere negative and equilibrium is globally uninvadable. Can show that discriminant is positive and thus this equilibrium is invadable for some $F_g$."
   ]
  },
  {
   "cell_type": "code",
   "execution_count": 99,
   "metadata": {},
   "outputs": [
    {
     "data": {
      "text/latex": [
       "$\\displaystyle \\frac{2 \\sqrt{R \\epsilon \\left(64 R^{3} \\epsilon^{5} - 64 R^{3} \\epsilon^{4} + 272 R^{3} \\epsilon^{3} + 128 R^{3} \\epsilon^{2} + 96 R^{2} \\epsilon^{4} \\left(\\frac{2 S}{2 \\epsilon + 1} + \\frac{2 R - 2 S}{\\left(2 \\epsilon + 1\\right)^{2}}\\right) - 48 R^{2} \\epsilon^{3} \\left(\\frac{2 S}{2 \\epsilon + 1} + \\frac{2 R - 2 S}{\\left(2 \\epsilon + 1\\right)^{2}}\\right) + 32 R^{2} \\epsilon \\left(\\frac{2 S}{2 \\epsilon + 1} + \\frac{2 R - 2 S}{\\left(2 \\epsilon + 1\\right)^{2}}\\right) + 4 R \\epsilon^{3} \\left(\\frac{2 S}{2 \\epsilon + 1} + \\frac{2 R - 2 S}{\\left(2 \\epsilon + 1\\right)^{2}}\\right)^{2}\\right)} \\left(\\epsilon - 1\\right) + \\left(4 R \\epsilon^{2} - 4 R \\epsilon\\right) \\left(- 4 R \\epsilon^{2} + 2 R \\epsilon - 8 R - \\epsilon \\left(\\frac{2 S}{2 \\epsilon + 1} + \\frac{2 R - 2 S}{\\left(2 \\epsilon + 1\\right)^{2}}\\right)\\right)}{2 \\left(\\epsilon - 1\\right) \\left(4 R \\epsilon^{2} - 4 R \\epsilon\\right)}$"
      ],
      "text/plain": [
       "(2*sqrt(R*epsilon*(64*R**3*epsilon**5 - 64*R**3*epsilon**4 + 272*R**3*epsilon**3 + 128*R**3*epsilon**2 + 96*R**2*epsilon**4*(2*S/(2*epsilon + 1) + (2*R - 2*S)/(2*epsilon + 1)**2) - 48*R**2*epsilon**3*(2*S/(2*epsilon + 1) + (2*R - 2*S)/(2*epsilon + 1)**2) + 32*R**2*epsilon*(2*S/(2*epsilon + 1) + (2*R - 2*S)/(2*epsilon + 1)**2) + 4*R*epsilon**3*(2*S/(2*epsilon + 1) + (2*R - 2*S)/(2*epsilon + 1)**2)**2))*(epsilon - 1) + (4*R*epsilon**2 - 4*R*epsilon)*(-4*R*epsilon**2 + 2*R*epsilon - 8*R - epsilon*(2*S/(2*epsilon + 1) + (2*R - 2*S)/(2*epsilon + 1)**2)))/(2*(epsilon - 1)*(4*R*epsilon**2 - 4*R*epsilon))"
      ]
     },
     "execution_count": 99,
     "metadata": {},
     "output_type": "execute_result"
    }
   ],
   "source": [
    "_Fg_star = 2 * ((R + P - T - S) * (1 / (2*epsilon + 1))**2 + (T + S - 2*P) * (1 / (2*epsilon + 1)) + P)\n",
    "_Lg_star = 2*(R - S)*(1 / (2*epsilon+1))**2 + 2*S*(1 / (2*epsilon + 1))\n",
    "\n",
    "Fg_upper.subs({A: 2*R, B: _Fg_star, C: 2*R, D: _Lg_star})"
   ]
  },
  {
   "cell_type": "code",
   "execution_count": 101,
   "metadata": {},
   "outputs": [
    {
     "data": {
      "text/latex": [
       "$\\displaystyle \\frac{2 \\sqrt{R \\epsilon \\left(64 R^{3} \\epsilon^{5} - 64 R^{3} \\epsilon^{4} + 272 R^{3} \\epsilon^{3} + 128 R^{3} \\epsilon^{2} + 96 R^{2} \\epsilon^{4} \\left(\\frac{2 S}{2 \\epsilon + 1} + \\frac{2 R - 2 S}{\\left(2 \\epsilon + 1\\right)^{2}}\\right) - 48 R^{2} \\epsilon^{3} \\left(\\frac{2 S}{2 \\epsilon + 1} + \\frac{2 R - 2 S}{\\left(2 \\epsilon + 1\\right)^{2}}\\right) + 32 R^{2} \\epsilon \\left(\\frac{2 S}{2 \\epsilon + 1} + \\frac{2 R - 2 S}{\\left(2 \\epsilon + 1\\right)^{2}}\\right) + 4 R \\epsilon^{3} \\left(\\frac{2 S}{2 \\epsilon + 1} + \\frac{2 R - 2 S}{\\left(2 \\epsilon + 1\\right)^{2}}\\right)^{2}\\right)} \\left(1 - \\epsilon\\right) + \\left(4 R \\epsilon^{2} - 4 R \\epsilon\\right) \\left(- 4 R \\epsilon^{2} + 2 R \\epsilon - 8 R - \\epsilon \\left(\\frac{2 S}{2 \\epsilon + 1} + \\frac{2 R - 2 S}{\\left(2 \\epsilon + 1\\right)^{2}}\\right)\\right)}{2 \\left(\\epsilon - 1\\right) \\left(4 R \\epsilon^{2} - 4 R \\epsilon\\right)}$"
      ],
      "text/plain": [
       "(2*sqrt(R*epsilon*(64*R**3*epsilon**5 - 64*R**3*epsilon**4 + 272*R**3*epsilon**3 + 128*R**3*epsilon**2 + 96*R**2*epsilon**4*(2*S/(2*epsilon + 1) + (2*R - 2*S)/(2*epsilon + 1)**2) - 48*R**2*epsilon**3*(2*S/(2*epsilon + 1) + (2*R - 2*S)/(2*epsilon + 1)**2) + 32*R**2*epsilon*(2*S/(2*epsilon + 1) + (2*R - 2*S)/(2*epsilon + 1)**2) + 4*R*epsilon**3*(2*S/(2*epsilon + 1) + (2*R - 2*S)/(2*epsilon + 1)**2)**2))*(1 - epsilon) + (4*R*epsilon**2 - 4*R*epsilon)*(-4*R*epsilon**2 + 2*R*epsilon - 8*R - epsilon*(2*S/(2*epsilon + 1) + (2*R - 2*S)/(2*epsilon + 1)**2)))/(2*(epsilon - 1)*(4*R*epsilon**2 - 4*R*epsilon))"
      ]
     },
     "execution_count": 101,
     "metadata": {},
     "output_type": "execute_result"
    }
   ],
   "source": [
    "Fg_lower.subs({A: 2*R, B: _Fg_star, C: 2*R, D: _Lg_star})"
   ]
  },
  {
   "cell_type": "code",
   "execution_count": 103,
   "metadata": {},
   "outputs": [
    {
     "data": {
      "text/plain": [
       "[1/3 + 47/(12*(-1/2 - sqrt(3)*I/2)*(361/8 + 3*sqrt(1626)/2)**(1/3)) - (-1/2 - sqrt(3)*I/2)*(361/8 + 3*sqrt(1626)/2)**(1/3)/3,\n",
       " 1/3 - (-1/2 + sqrt(3)*I/2)*(361/8 + 3*sqrt(1626)/2)**(1/3)/3 + 47/(12*(-1/2 + sqrt(3)*I/2)*(361/8 + 3*sqrt(1626)/2)**(1/3)),\n",
       " -(361/8 + 3*sqrt(1626)/2)**(1/3)/3 + 1/3 + 47/(12*(361/8 + 3*sqrt(1626)/2)**(1/3))]"
      ]
     },
     "execution_count": 103,
     "metadata": {},
     "output_type": "execute_result"
    }
   ],
   "source": [
    "sym.solve(4*epsilon**3 - 4*epsilon**2 + 17*epsilon + 8, epsilon)"
   ]
  },
  {
   "cell_type": "code",
   "execution_count": 108,
   "metadata": {},
   "outputs": [
    {
     "data": {
      "text/latex": [
       "$\\displaystyle 48 \\epsilon^{5} + 24 \\epsilon^{4} - 11 \\epsilon^{3} + 10 \\epsilon^{2} + 16 \\epsilon + 4$"
      ],
      "text/plain": [
       "48*epsilon**5 + 24*epsilon**4 - 11*epsilon**3 + 10*epsilon**2 + 16*epsilon + 4"
      ]
     },
     "execution_count": 108,
     "metadata": {},
     "output_type": "execute_result"
    }
   ],
   "source": [
    "sym.expand(4*(2*epsilon +1)**2 + epsilon**3 - 6*epsilon**2*(1 - 2*epsilon)*(2*epsilon+1)**2)"
   ]
  },
  {
   "cell_type": "code",
   "execution_count": 117,
   "metadata": {},
   "outputs": [
    {
     "data": {
      "text/plain": [
       "[<matplotlib.lines.Line2D at 0x1216e40b8>]"
      ]
     },
     "execution_count": 117,
     "metadata": {},
     "output_type": "execute_result"
    },
    {
     "data": {
      "image/png": "[encoded data removed]",
      "text/plain": [
       "<Figure size 432x288 with 1 Axes>"
      ]
     },
     "metadata": {},
     "output_type": "display_data"
    }
   ],
   "source": [
    "es = np.linspace(0, 10, 10)\n",
    "plt.plot(es, 48*es**5 + 24*es**4 - 11*es**3 + 10*es**2+16*es +4)"
   ]
  },
  {
   "cell_type": "code",
   "execution_count": 293,
   "metadata": {},
   "outputs": [
    {
     "data": {
      "text/latex": [
       "$\\displaystyle - \\frac{12 \\left(F^{*}_{G}\\right)^{3} \\epsilon - 6 \\left(F^{*}_{G}\\right)^{2} F^{*}_{g} \\epsilon - 26 \\left(F^{*}_{G}\\right)^{2} L^{*}_{G} \\epsilon + 5 \\left(F^{*}_{G}\\right)^{2} L^{*}_{G} + 14 F^{*}_{G} F^{*}_{g} L^{*}_{G} \\epsilon - 3 F^{*}_{G} F^{*}_{g} L^{*}_{G} + 26 F^{*}_{G} \\left(L^{*}_{G}\\right)^{2} \\epsilon - 5 F^{*}_{G} \\left(L^{*}_{G}\\right)^{2} - 14 F^{*}_{g} \\left(L^{*}_{G}\\right)^{2} \\epsilon + 3 F^{*}_{g} \\left(L^{*}_{G}\\right)^{2} + \\sqrt{8 \\left(F^{*}_{G}\\right)^{5} L^{*}_{G} \\epsilon + 12 \\left(F^{*}_{G}\\right)^{4} F^{*}_{g} L^{*}_{G} \\epsilon - 28 \\left(F^{*}_{G}\\right)^{4} \\left(L^{*}_{G}\\right)^{2} \\epsilon + \\left(F^{*}_{G}\\right)^{4} \\left(L^{*}_{G}\\right)^{2} - 16 \\left(F^{*}_{G}\\right)^{4} L^{*}_{G} L^{*}_{g} \\epsilon + 4 \\left(F^{*}_{G}\\right)^{3} \\left(F^{*}_{g}\\right)^{2} L^{*}_{G} \\epsilon - 20 \\left(F^{*}_{G}\\right)^{3} F^{*}_{g} \\left(L^{*}_{G}\\right)^{2} \\epsilon + 2 \\left(F^{*}_{G}\\right)^{3} F^{*}_{g} \\left(L^{*}_{G}\\right)^{2} + 40 \\left(F^{*}_{G}\\right)^{3} \\left(L^{*}_{G}\\right)^{3} \\epsilon - 2 \\left(F^{*}_{G}\\right)^{3} \\left(L^{*}_{G}\\right)^{3} + 48 \\left(F^{*}_{G}\\right)^{3} \\left(L^{*}_{G}\\right)^{2} L^{*}_{g} \\epsilon - 8 \\left(F^{*}_{G}\\right)^{2} \\left(F^{*}_{g}\\right)^{2} \\left(L^{*}_{G}\\right)^{2} \\epsilon + \\left(F^{*}_{G}\\right)^{2} \\left(F^{*}_{g}\\right)^{2} \\left(L^{*}_{G}\\right)^{2} - 4 \\left(F^{*}_{G}\\right)^{2} F^{*}_{g} \\left(L^{*}_{G}\\right)^{3} - 20 \\left(F^{*}_{G}\\right)^{2} \\left(L^{*}_{G}\\right)^{4} \\epsilon + \\left(F^{*}_{G}\\right)^{2} \\left(L^{*}_{G}\\right)^{4} - 32 \\left(F^{*}_{G}\\right)^{2} \\left(L^{*}_{G}\\right)^{3} L^{*}_{g} \\epsilon + 8 F^{*}_{G} \\left(F^{*}_{g}\\right)^{2} \\left(L^{*}_{G}\\right)^{3} \\epsilon - 2 F^{*}_{G} \\left(F^{*}_{g}\\right)^{2} \\left(L^{*}_{G}\\right)^{3} + 8 F^{*}_{G} F^{*}_{g} \\left(L^{*}_{G}\\right)^{4} \\epsilon + 2 F^{*}_{G} F^{*}_{g} \\left(L^{*}_{G}\\right)^{4} - 4 \\left(F^{*}_{g}\\right)^{2} \\left(L^{*}_{G}\\right)^{4} \\epsilon + \\left(F^{*}_{g}\\right)^{2} \\left(L^{*}_{G}\\right)^{4}}}{16 \\left(F^{*}_{G}\\right)^{3} \\epsilon - 32 \\left(F^{*}_{G}\\right)^{2} L^{*}_{G} \\epsilon + 8 \\left(F^{*}_{G}\\right)^{2} L^{*}_{G} + 32 F^{*}_{G} \\left(L^{*}_{G}\\right)^{2} \\epsilon - 8 F^{*}_{G} \\left(L^{*}_{G}\\right)^{2}}$"
      ],
      "text/plain": [
       "-(12*F_G^***3*epsilon - 6*F_G^***2*F_g^**epsilon - 26*F_G^***2*L_G^**epsilon + 5*F_G^***2*L_G^* + 14*F_G^**F_g^**L_G^**epsilon - 3*F_G^**F_g^**L_G^* + 26*F_G^**L_G^***2*epsilon - 5*F_G^**L_G^***2 - 14*F_g^**L_G^***2*epsilon + 3*F_g^**L_G^***2 + sqrt(8*F_G^***5*L_G^**epsilon + 12*F_G^***4*F_g^**L_G^**epsilon - 28*F_G^***4*L_G^***2*epsilon + F_G^***4*L_G^***2 - 16*F_G^***4*L_G^**L_g^**epsilon + 4*F_G^***3*F_g^***2*L_G^**epsilon - 20*F_G^***3*F_g^**L_G^***2*epsilon + 2*F_G^***3*F_g^**L_G^***2 + 40*F_G^***3*L_G^***3*epsilon - 2*F_G^***3*L_G^***3 + 48*F_G^***3*L_G^***2*L_g^**epsilon - 8*F_G^***2*F_g^***2*L_G^***2*epsilon + F_G^***2*F_g^***2*L_G^***2 - 4*F_G^***2*F_g^**L_G^***3 - 20*F_G^***2*L_G^***4*epsilon + F_G^***2*L_G^***4 - 32*F_G^***2*L_G^***3*L_g^**epsilon + 8*F_G^**F_g^***2*L_G^***3*epsilon - 2*F_G^**F_g^***2*L_G^***3 + 8*F_G^**F_g^**L_G^***4*epsilon + 2*F_G^**F_g^**L_G^***4 - 4*F_g^***2*L_G^***4*epsilon + F_g^***2*L_G^***4))/(16*F_G^***3*epsilon - 32*F_G^***2*L_G^**epsilon + 8*F_G^***2*L_G^* + 32*F_G^**L_G^***2*epsilon - 8*F_G^**L_G^***2)"
      ]
     },
     "execution_count": 293,
     "metadata": {},
     "output_type": "execute_result"
    }
   ],
   "source": [
    "e2.subs({epsilon**2: 0, epsilon**3: 0, epsilon**4: 0, epsilon**5: 0})"
   ]
  },
  {
   "cell_type": "markdown",
   "metadata": {},
   "source": [
    "### Next two cells confirms result from $\\epsilon=0$"
   ]
  },
  {
   "cell_type": "code",
   "execution_count": 140,
   "metadata": {},
   "outputs": [
    {
     "data": {
      "text/latex": [
       "$\\displaystyle \\frac{- 5 \\left(F^{*}_{G}\\right)^{2} + 3 F^{*}_{G} F^{*}_{g} + 5 F^{*}_{G} L^{*}_{G} - 3 F^{*}_{g} L^{*}_{G} - \\sqrt{\\left(F^{*}_{G}\\right)^{4} + 2 \\left(F^{*}_{G}\\right)^{3} F^{*}_{g} - 2 \\left(F^{*}_{G}\\right)^{3} L^{*}_{G} + \\left(F^{*}_{G}\\right)^{2} \\left(F^{*}_{g}\\right)^{2} - 4 \\left(F^{*}_{G}\\right)^{2} F^{*}_{g} L^{*}_{G} + \\left(F^{*}_{G}\\right)^{2} \\left(L^{*}_{G}\\right)^{2} - 2 F^{*}_{G} \\left(F^{*}_{g}\\right)^{2} L^{*}_{G} + 2 F^{*}_{G} F^{*}_{g} \\left(L^{*}_{G}\\right)^{2} + \\left(F^{*}_{g}\\right)^{2} \\left(L^{*}_{G}\\right)^{2}}}{8 F^{*}_{G} \\left(F^{*}_{G} - L^{*}_{G}\\right)}$"
      ],
      "text/plain": [
       "(-5*F_G^***2 + 3*F_G^**F_g^* + 5*F_G^**L_G^* - 3*F_g^**L_G^* - sqrt(F_G^***4 + 2*F_G^***3*F_g^* - 2*F_G^***3*L_G^* + F_G^***2*F_g^***2 - 4*F_G^***2*F_g^**L_G^* + F_G^***2*L_G^***2 - 2*F_G^**F_g^***2*L_G^* + 2*F_G^**F_g^**L_G^***2 + F_g^***2*L_G^***2))/(8*F_G^**(F_G^* - L_G^*))"
      ]
     },
     "execution_count": 140,
     "metadata": {},
     "output_type": "execute_result"
    }
   ],
   "source": [
    "sym.simplify(e2.subs({epsilon: 0}))"
   ]
  },
  {
   "cell_type": "code",
   "execution_count": 153,
   "metadata": {},
   "outputs": [
    {
     "data": {
      "text/latex": [
       "$\\displaystyle - 8 \\left(A - B\\right) \\left(A - C\\right)^{2} \\left(3 A - B\\right)$"
      ],
      "text/plain": [
       "-8*(A - B)*(A - C)**2*(3*A - B)"
      ]
     },
     "execution_count": 153,
     "metadata": {},
     "output_type": "execute_result"
    }
   ],
   "source": [
    "\n",
    "A, B, C, D = sym.symbols(\"A, B, C, D\", real=True, nonnegative=True)\n",
    "\n",
    "Delta = A**4 + 2*A**3*B - 2*A**3*C + A**2*B**2 - 4*A**2*B*C + A**2*C**2 - 2*A*B**2*C + 2*A*B*C**2 + B**2*C**2\n",
    "sym.factor(Delta - (5*A**2 - 3*A*B - 5*A*C + 3*B*C)**2)"
   ]
  },
  {
   "cell_type": "code",
   "execution_count": 258,
   "metadata": {},
   "outputs": [
    {
     "data": {
      "text/plain": [
       "'-(12*F_G^***3*epsilon + 4*F_G^***2*F_g^**epsilon**2 - 6*F_G^***2*F_g^**epsilon + 8*F_G^***2*L_G^**epsilon**3 + 28*F_G^***2*L_G^**epsilon**2 - 26*F_G^***2*L_G^**epsilon + 5*F_G^***2*L_G^* + 8*F_G^**F_g^**L_G^**epsilon**3 - 20*F_G^**F_g^**L_G^**epsilon**2 + 14*F_G^**F_g^**L_G^**epsilon - 3*F_G^**F_g^**L_G^* - 8*F_G^**L_G^***2*epsilon**3 - 28*F_G^**L_G^***2*epsilon**2 + 26*F_G^**L_G^***2*epsilon - 5*F_G^**L_G^***2 - 8*F_g^**L_G^***2*epsilon**3 + 20*F_g^**L_G^***2*epsilon**2 - 14*F_g^**L_G^***2*epsilon + 3*F_g^**L_G^***2 + sqrt(16*F_G^***6*epsilon**2 + 32*F_G^***5*F_g^**epsilon**3 + 16*F_G^***5*F_g^**epsilon**2 + 64*F_G^***5*L_G^**epsilon**4 + 96*F_G^***5*L_G^**epsilon**3 - 80*F_G^***5*L_G^**epsilon**2 + 8*F_G^***5*L_G^**epsilon + 128*F_G^***5*L_g^**epsilon**4 - 32*F_G^***5*L_g^**epsilon**2 + 16*F_G^***4*F_g^***2*epsilon**4 + 16*F_G^***4*F_g^***2*epsilon**3 + 4*F_G^***4*F_g^***2*epsilon**2 + 64*F_G^***4*F_g^**L_G^**epsilon**5 + 64*F_G^***4*F_g^**L_G^**epsilon**4 - 64*F_G^***4*F_g^**L_G^**epsilon**3 - 16*F_G^***4*F_g^**L_G^**epsilon**2 + 12*F_G^***4*F_g^**L_G^**epsilon + 64*F_G^***4*L_G^***2*epsilon**6 + 192*F_G^***4*L_G^***2*epsilon**5 - 80*F_G^***4*L_G^***2*epsilon**4 - 320*F_G^***4*L_G^***2*epsilon**3 + 204*F_G^***4*L_G^***2*epsilon**2 - 28*F_G^***4*L_G^***2*epsilon + F_G^***4*L_G^***2 + 256*F_G^***4*L_G^**L_g^**epsilon**5 - 512*F_G^***4*L_G^**L_g^**epsilon**4 + 128*F_G^***4*L_G^**L_g^**epsilon**2 - 16*F_G^***4*L_G^**L_g^**epsilon + 64*F_G^***3*F_g^***2*L_G^**epsilon**5 - 32*F_G^***3*F_g^***2*L_G^**epsilon**3 + 4*F_G^***3*F_g^***2*L_G^**epsilon + 128*F_G^***3*F_g^**L_G^***2*epsilon**6 - 192*F_G^***3*F_g^**L_G^***2*epsilon**5 + 32*F_G^***3*F_g^**L_G^***2*epsilon**4 + 128*F_G^***3*F_g^**L_G^***2*epsilon**3 - 24*F_G^***3*F_g^**L_G^***2*epsilon**2 - 20*F_G^***3*F_g^**L_G^***2*epsilon + 2*F_G^***3*F_g^**L_G^***2 - 128*F_G^***3*L_G^***3*epsilon**6 - 384*F_G^***3*L_G^***3*epsilon**5 + 32*F_G^***3*L_G^***3*epsilon**4 + 448*F_G^***3*L_G^***3*epsilon**3 - 248*F_G^***3*L_G^***3*epsilon**2 + 40*F_G^***3*L_G^***3*epsilon - 2*F_G^***3*L_G^***3 - 768*F_G^***3*L_G^***2*L_g^**epsilon**5 + 768*F_G^***3*L_G^***2*L_g^**epsilon**4 - 192*F_G^***3*L_G^***2*L_g^**epsilon**2 + 48*F_G^***3*L_G^***2*L_g^**epsilon + 64*F_G^***2*F_g^***2*L_G^***2*epsilon**6 - 128*F_G^***2*F_g^***2*L_G^***2*epsilon**5 - 16*F_G^***2*F_g^***2*L_G^***2*epsilon**4 + 64*F_G^***2*F_g^***2*L_G^***2*epsilon**3 - 4*F_G^***2*F_g^***2*L_G^***2*epsilon**2 - 8*F_G^***2*F_g^***2*L_G^***2*epsilon + F_G^***2*F_g^***2*L_G^***2 - 256*F_G^***2*F_g^**L_G^***3*epsilon**6 + 512*F_G^***2*F_g^**L_G^***3*epsilon**5 - 192*F_G^***2*F_g^**L_G^***3*epsilon**4 - 128*F_G^***2*F_g^**L_G^***3*epsilon**3 + 80*F_G^***2*F_g^**L_G^***3*epsilon**2 - 4*F_G^***2*F_g^**L_G^***3 + 64*F_G^***2*L_G^***4*epsilon**6 + 192*F_G^***2*L_G^***4*epsilon**5 - 16*F_G^***2*L_G^***4*epsilon**4 - 224*F_G^***2*L_G^***4*epsilon**3 + 124*F_G^***2*L_G^***4*epsilon**2 - 20*F_G^***2*L_G^***4*epsilon + F_G^***2*L_G^***4 + 512*F_G^***2*L_G^***3*L_g^**epsilon**5 - 512*F_G^***2*L_G^***3*L_g^**epsilon**4 + 128*F_G^***2*L_G^***3*L_g^**epsilon**2 - 32*F_G^***2*L_G^***3*L_g^**epsilon - 128*F_G^**F_g^***2*L_G^***3*epsilon**6 + 128*F_G^**F_g^***2*L_G^***3*epsilon**5 + 32*F_G^**F_g^***2*L_G^***3*epsilon**4 - 64*F_G^**F_g^***2*L_G^***3*epsilon**3 + 8*F_G^**F_g^***2*L_G^***3*epsilon**2 + 8*F_G^**F_g^***2*L_G^***3*epsilon - 2*F_G^**F_g^***2*L_G^***3 + 128*F_G^**F_g^**L_G^***4*epsilon**6 - 384*F_G^**F_g^**L_G^***4*epsilon**5 + 224*F_G^**F_g^**L_G^***4*epsilon**4 + 64*F_G^**F_g^**L_G^***4*epsilon**3 - 72*F_G^**F_g^**L_G^***4*epsilon**2 + 8*F_G^**F_g^**L_G^***4*epsilon + 2*F_G^**F_g^**L_G^***4 + 64*F_g^***2*L_G^***4*epsilon**6 - 64*F_g^***2*L_G^***4*epsilon**5 - 16*F_g^***2*L_G^***4*epsilon**4 + 32*F_g^***2*L_G^***4*epsilon**3 - 4*F_g^***2*L_G^***4*epsilon**2 - 4*F_g^***2*L_G^***4*epsilon + F_g^***2*L_G^***4))/(8*F_G^**(F_G^* + 2*L_G^**epsilon - L_G^*)*(2*F_G^**epsilon - 2*L_G^**epsilon + L_G^*))'"
      ]
     },
     "execution_count": 258,
     "metadata": {},
     "output_type": "execute_result"
    }
   ],
   "source": [
    "str(sym.factor(e2))"
   ]
  },
  {
   "cell_type": "code",
   "execution_count": 155,
   "metadata": {},
   "outputs": [],
   "source": [
    "Delta = (16*A**6*epsilon**2 + 32*A**5*B*epsilon**3 + 16*A**5*B*epsilon**2 + 64*A**5*C*epsilon**4 + 96*A**5*C*epsilon**3 - 80*A**5*C*epsilon**2 + 8*A**5*C*epsilon + 128*A**5*D*epsilon**4 - 32*A**5*D*epsilon**2 + 16*A**4*B**2*epsilon**4 + 16*A**4*B**2*epsilon**3 + 4*A**4*B**2*epsilon**2 + 64*A**4*B*C*epsilon**5 + 64*A**4*B*C*epsilon**4 - 64*A**4*B*C*epsilon**3 - 16*A**4*B*C*epsilon**2 + 12*A**4*B*C*epsilon + 64*A**4*C**2*epsilon**6 + 192*A**4*C**2*epsilon**5 - 80*A**4*C**2*epsilon**4 - 320*A**4*C**2*epsilon**3 + 204*A**4*C**2*epsilon**2 - 28*A**4*C**2*epsilon + A**4*C**2 + 256*A**4*C*D*epsilon**5 - 512*A**4*C*D*epsilon**4 + 128*A**4*C*D*epsilon**2 - 16*A**4*C*D*epsilon + 64*A**3*B**2*C*epsilon**5 - 32*A**3*B**2*C*epsilon**3 + 4*A**3*B**2*C*epsilon + 128*A**3*B*C**2*epsilon**6 - 192*A**3*B*C**2*epsilon**5 + 32*A**3*B*C**2*epsilon**4 + 128*A**3*B*C**2*epsilon**3 - 24*A**3*B*C**2*epsilon**2 - 20*A**3*B*C**2*epsilon + 2*A**3*B*C**2 - 128*A**3*C**3*epsilon**6 - 384*A**3*C**3*epsilon**5 + 32*A**3*C**3*epsilon**4 + 448*A**3*C**3*epsilon**3 - 248*A**3*C**3*epsilon**2 + 40*A**3*C**3*epsilon - 2*A**3*C**3 - 768*A**3*C**2*D*epsilon**5 + 768*A**3*C**2*D*epsilon**4 - 192*A**3*C**2*D*epsilon**2 + 48*A**3*C**2*D*epsilon + 64*A**2*B**2*C**2*epsilon**6 - 128*A**2*B**2*C**2*epsilon**5 - 16*A**2*B**2*C**2*epsilon**4 + 64*A**2*B**2*C**2*epsilon**3 - 4*A**2*B**2*C**2*epsilon**2 - 8*A**2*B**2*C**2*epsilon + A**2*B**2*C**2 - 256*A**2*B*C**3*epsilon**6 + 512*A**2*B*C**3*epsilon**5 - 192*A**2*B*C**3*epsilon**4 - 128*A**2*B*C**3*epsilon**3 + 80*A**2*B*C**3*epsilon**2 - 4*A**2*B*C**3 + 64*A**2*C**4*epsilon**6 + 192*A**2*C**4*epsilon**5 - 16*A**2*C**4*epsilon**4 - 224*A**2*C**4*epsilon**3 + 124*A**2*C**4*epsilon**2 - 20*A**2*C**4*epsilon + A**2*C**4 + 512*A**2*C**3*D*epsilon**5 - 512*A**2*C**3*D*epsilon**4 + 128*A**2*C**3*D*epsilon**2 - 32*A**2*C**3*D*epsilon - 128*A*B**2*C**3*epsilon**6 + 128*A*B**2*C**3*epsilon**5 + 32*A*B**2*C**3*epsilon**4 - 64*A*B**2*C**3*epsilon**3 + 8*A*B**2*C**3*epsilon**2 + 8*A*B**2*C**3*epsilon - 2*A*B**2*C**3 + 128*A*B*C**4*epsilon**6 - 384*A*B*C**4*epsilon**5 + 224*A*B*C**4*epsilon**4 + 64*A*B*C**4*epsilon**3 - 72*A*B*C**4*epsilon**2 + 8*A*B*C**4*epsilon + 2*A*B*C**4 + 64*B**2*C**4*epsilon**6 - 64*B**2*C**4*epsilon**5 - 16*B**2*C**4*epsilon**4 + 32*B**2*C**4*epsilon**3 - 4*B**2*C**4*epsilon**2 - 4*B**2*C**4*epsilon + B**2*C**4)\n"
   ]
  },
  {
   "cell_type": "code",
   "execution_count": 156,
   "metadata": {},
   "outputs": [],
   "source": [
    "Real = 12*A**3*epsilon + 4*A**2*B*epsilon**2 - 6*A**2*B*epsilon + 8*A**2*C*epsilon**3 + 28*A**2*C*epsilon**2 - 26*A**2*C*epsilon + 5*A**2*C + 8*A*B*C*epsilon**3 - 20*A*B*C*epsilon**2 + 14*A*B*C*epsilon - 3*A*B*C - 8*A*C**2*epsilon**3 - 28*A*C**2*epsilon**2 + 26*A*C**2*epsilon - 5*A*C**2 - 8*B*C**2*epsilon**3 + 20*B*C**2*epsilon**2 - 14*B*C**2*epsilon + 3*B*C**2\n"
   ]
  },
  {
   "cell_type": "code",
   "execution_count": 259,
   "metadata": {},
   "outputs": [
    {
     "data": {
      "text/latex": [
       "$\\displaystyle - 8 \\left(A + 2 C \\epsilon - C\\right) \\left(2 A \\epsilon - 2 C \\epsilon + C\\right) \\left(8 A^{4} \\epsilon + 4 A^{3} B \\epsilon^{2} - 10 A^{3} B \\epsilon + 8 A^{3} C \\epsilon^{3} + 20 A^{3} C \\epsilon^{2} - 18 A^{3} C \\epsilon + 3 A^{3} C - 8 A^{3} D \\epsilon^{3} + 2 A^{3} D \\epsilon - 4 A^{2} B^{2} \\epsilon^{2} + 2 A^{2} B^{2} \\epsilon + 8 A^{2} B C \\epsilon^{3} - 32 A^{2} B C \\epsilon^{2} + 22 A^{2} B C \\epsilon - 4 A^{2} B C - 8 A^{2} C^{2} \\epsilon^{3} - 20 A^{2} C^{2} \\epsilon^{2} + 18 A^{2} C^{2} \\epsilon - 3 A^{2} C^{2} + 16 A^{2} C D \\epsilon^{3} - 4 A^{2} C D \\epsilon - 8 A B^{2} C \\epsilon^{3} + 12 A B^{2} C \\epsilon^{2} - 6 A B^{2} C \\epsilon + A B^{2} C - 16 A B C^{2} \\epsilon^{3} + 32 A B C^{2} \\epsilon^{2} - 20 A B C^{2} \\epsilon + 4 A B C^{2} + 8 B^{2} C^{2} \\epsilon^{3} - 12 B^{2} C^{2} \\epsilon^{2} + 6 B^{2} C^{2} \\epsilon - B^{2} C^{2}\\right)$"
      ],
      "text/plain": [
       "-8*(A + 2*C*epsilon - C)*(2*A*epsilon - 2*C*epsilon + C)*(8*A**4*epsilon + 4*A**3*B*epsilon**2 - 10*A**3*B*epsilon + 8*A**3*C*epsilon**3 + 20*A**3*C*epsilon**2 - 18*A**3*C*epsilon + 3*A**3*C - 8*A**3*D*epsilon**3 + 2*A**3*D*epsilon - 4*A**2*B**2*epsilon**2 + 2*A**2*B**2*epsilon + 8*A**2*B*C*epsilon**3 - 32*A**2*B*C*epsilon**2 + 22*A**2*B*C*epsilon - 4*A**2*B*C - 8*A**2*C**2*epsilon**3 - 20*A**2*C**2*epsilon**2 + 18*A**2*C**2*epsilon - 3*A**2*C**2 + 16*A**2*C*D*epsilon**3 - 4*A**2*C*D*epsilon - 8*A*B**2*C*epsilon**3 + 12*A*B**2*C*epsilon**2 - 6*A*B**2*C*epsilon + A*B**2*C - 16*A*B*C**2*epsilon**3 + 32*A*B*C**2*epsilon**2 - 20*A*B*C**2*epsilon + 4*A*B*C**2 + 8*B**2*C**2*epsilon**3 - 12*B**2*C**2*epsilon**2 + 6*B**2*C**2*epsilon - B**2*C**2)"
      ]
     },
     "execution_count": 259,
     "metadata": {},
     "output_type": "execute_result"
    }
   ],
   "source": [
    "# When this expression is positive, then equilibrium cannot be invaded!\n",
    "(sym.factor(Delta - (-Real)**2))"
   ]
  },
  {
   "cell_type": "code",
   "execution_count": 286,
   "metadata": {},
   "outputs": [
    {
     "data": {
      "text/latex": [
       "$\\displaystyle \\frac{8 A^{4} \\epsilon + 4 A^{3} B \\epsilon^{2} - 10 A^{3} B \\epsilon + 8 A^{3} C \\epsilon^{3} + 20 A^{3} C \\epsilon^{2} - 18 A^{3} C \\epsilon + 3 A^{3} C - 4 A^{2} B^{2} \\epsilon^{2} + 2 A^{2} B^{2} \\epsilon + 8 A^{2} B C \\epsilon^{3} - 32 A^{2} B C \\epsilon^{2} + 22 A^{2} B C \\epsilon - 4 A^{2} B C - 8 A^{2} C^{2} \\epsilon^{3} - 20 A^{2} C^{2} \\epsilon^{2} + 18 A^{2} C^{2} \\epsilon - 3 A^{2} C^{2} - 8 A B^{2} C \\epsilon^{3} + 12 A B^{2} C \\epsilon^{2} - 6 A B^{2} C \\epsilon + A B^{2} C - 16 A B C^{2} \\epsilon^{3} + 32 A B C^{2} \\epsilon^{2} - 20 A B C^{2} \\epsilon + 4 A B C^{2} + 8 B^{2} C^{2} \\epsilon^{3} - 12 B^{2} C^{2} \\epsilon^{2} + 6 B^{2} C^{2} \\epsilon - B^{2} C^{2}}{2 A^{2} \\epsilon \\left(A - 2 C\\right) \\left(2 \\epsilon - 1\\right) \\left(2 \\epsilon + 1\\right)}$"
      ],
      "text/plain": [
       "(8*A**4*epsilon + 4*A**3*B*epsilon**2 - 10*A**3*B*epsilon + 8*A**3*C*epsilon**3 + 20*A**3*C*epsilon**2 - 18*A**3*C*epsilon + 3*A**3*C - 4*A**2*B**2*epsilon**2 + 2*A**2*B**2*epsilon + 8*A**2*B*C*epsilon**3 - 32*A**2*B*C*epsilon**2 + 22*A**2*B*C*epsilon - 4*A**2*B*C - 8*A**2*C**2*epsilon**3 - 20*A**2*C**2*epsilon**2 + 18*A**2*C**2*epsilon - 3*A**2*C**2 - 8*A*B**2*C*epsilon**3 + 12*A*B**2*C*epsilon**2 - 6*A*B**2*C*epsilon + A*B**2*C - 16*A*B*C**2*epsilon**3 + 32*A*B*C**2*epsilon**2 - 20*A*B*C**2*epsilon + 4*A*B*C**2 + 8*B**2*C**2*epsilon**3 - 12*B**2*C**2*epsilon**2 + 6*B**2*C**2*epsilon - B**2*C**2)/(2*A**2*epsilon*(A - 2*C)*(2*epsilon - 1)*(2*epsilon + 1))"
      ]
     },
     "execution_count": 286,
     "metadata": {},
     "output_type": "execute_result"
    }
   ],
   "source": [
    "# (A + 2Ce - C) and (2Ae - 2Ce + C) are both positive so when this is negative then equilibrium can not be invaded!\n",
    "sym.factor(sym.cancel(sym.solve(8*A**4*epsilon + 4*A**3*B*epsilon**2 - 10*A**3*B*epsilon + 8*A**3*C*epsilon**3 + 20*A**3*C*epsilon**2 - 18*A**3*C*epsilon + 3*A**3*C - 8*A**3*D*epsilon**3 + 2*A**3*D*epsilon - 4*A**2*B**2*epsilon**2 + 2*A**2*B**2*epsilon + 8*A**2*B*C*epsilon**3 - 32*A**2*B*C*epsilon**2 + 22*A**2*B*C*epsilon - 4*A**2*B*C - 8*A**2*C**2*epsilon**3 - 20*A**2*C**2*epsilon**2 + 18*A**2*C**2*epsilon - 3*A**2*C**2 + 16*A**2*C*D*epsilon**3 - 4*A**2*C*D*epsilon - 8*A*B**2*C*epsilon**3 + 12*A*B**2*C*epsilon**2 - 6*A*B**2*C*epsilon + A*B**2*C - 16*A*B*C**2*epsilon**3 + 32*A*B*C**2*epsilon**2 - 20*A*B*C**2*epsilon + 4*A*B*C**2 + 8*B**2*C**2*epsilon**3 - 12*B**2*C**2*epsilon**2 + 6*B**2*C**2*epsilon - B**2*C**2, D)[0]))\n"
   ]
  },
  {
   "cell_type": "code",
   "execution_count": 254,
   "metadata": {},
   "outputs": [
    {
     "data": {
      "text/latex": [
       "$\\displaystyle 8 A^{4} \\epsilon + 8 A^{3} C \\epsilon^{3} + 20 A^{3} C \\epsilon^{2} - 18 A^{3} C \\epsilon + 3 A^{3} C - 8 A^{3} D \\epsilon^{3} + 2 A^{3} D \\epsilon - 8 A^{2} C^{2} \\epsilon^{3} - 20 A^{2} C^{2} \\epsilon^{2} + 18 A^{2} C^{2} \\epsilon - 3 A^{2} C^{2} + 16 A^{2} C D \\epsilon^{3} - 4 A^{2} C D \\epsilon$"
      ],
      "text/plain": [
       "8*A**4*epsilon + 8*A**3*C*epsilon**3 + 20*A**3*C*epsilon**2 - 18*A**3*C*epsilon + 3*A**3*C - 8*A**3*D*epsilon**3 + 2*A**3*D*epsilon - 8*A**2*C**2*epsilon**3 - 20*A**2*C**2*epsilon**2 + 18*A**2*C**2*epsilon - 3*A**2*C**2 + 16*A**2*C*D*epsilon**3 - 4*A**2*C*D*epsilon"
      ]
     },
     "execution_count": 254,
     "metadata": {},
     "output_type": "execute_result"
    }
   ],
   "source": []
  },
  {
   "cell_type": "code",
   "execution_count": 239,
   "metadata": {},
   "outputs": [],
   "source": [
    "c2, c1, c0 = p.coeffs()"
   ]
  },
  {
   "cell_type": "code",
   "execution_count": 243,
   "metadata": {},
   "outputs": [
    {
     "data": {
      "text/latex": [
       "$\\displaystyle - \\left(2 \\epsilon - 1\\right) \\left(A + 2 C \\epsilon - C\\right) \\left(2 A \\epsilon - 2 C \\epsilon + C\\right)$"
      ],
      "text/plain": [
       "-(2*epsilon - 1)*(A + 2*C*epsilon - C)*(2*A*epsilon - 2*C*epsilon + C)"
      ]
     },
     "execution_count": 243,
     "metadata": {},
     "output_type": "execute_result"
    }
   ],
   "source": [
    "# epsilon is small so coefficient is positive and quadratic opens up!\n",
    "sym.factor(c2)"
   ]
  },
  {
   "cell_type": "code",
   "execution_count": 241,
   "metadata": {},
   "outputs": [
    {
     "data": {
      "text/latex": [
       "$\\displaystyle 2 A \\left(A + 2 C \\epsilon - C\\right) \\left(2 A \\epsilon^{2} - 5 A \\epsilon - 4 C \\epsilon^{2} + 6 C \\epsilon - 2 C\\right)$"
      ],
      "text/plain": [
       "2*A*(A + 2*C*epsilon - C)*(2*A*epsilon**2 - 5*A*epsilon - 4*C*epsilon**2 + 6*C*epsilon - 2*C)"
      ]
     },
     "execution_count": 241,
     "metadata": {},
     "output_type": "execute_result"
    }
   ],
   "source": [
    "sym.factor(c1)"
   ]
  },
  {
   "cell_type": "code",
   "execution_count": 242,
   "metadata": {},
   "outputs": [
    {
     "data": {
      "text/latex": [
       "$\\displaystyle A^{2} \\left(8 A^{2} \\epsilon + 8 A C \\epsilon^{3} + 20 A C \\epsilon^{2} - 18 A C \\epsilon + 3 A C - 8 A D \\epsilon^{3} + 2 A D \\epsilon - 8 C^{2} \\epsilon^{3} - 20 C^{2} \\epsilon^{2} + 18 C^{2} \\epsilon - 3 C^{2} + 16 C D \\epsilon^{3} - 4 C D \\epsilon\\right)$"
      ],
      "text/plain": [
       "A**2*(8*A**2*epsilon + 8*A*C*epsilon**3 + 20*A*C*epsilon**2 - 18*A*C*epsilon + 3*A*C - 8*A*D*epsilon**3 + 2*A*D*epsilon - 8*C**2*epsilon**3 - 20*C**2*epsilon**2 + 18*C**2*epsilon - 3*C**2 + 16*C*D*epsilon**3 - 4*C*D*epsilon)"
      ]
     },
     "execution_count": 242,
     "metadata": {},
     "output_type": "execute_result"
    }
   ],
   "source": [
    "sym.factor(c0)"
   ]
  },
  {
   "cell_type": "code",
   "execution_count": 251,
   "metadata": {},
   "outputs": [],
   "source": [
    "Fg_low, Fg_high = sym.solve(p, B)"
   ]
  },
  {
   "cell_type": "code",
   "execution_count": 253,
   "metadata": {},
   "outputs": [
    {
     "data": {
      "text/latex": [
       "$\\displaystyle \\frac{A \\left(\\sqrt{\\left(A + 2 C \\epsilon - C\\right) \\left(4 A^{3} \\epsilon^{4} + 12 A^{3} \\epsilon^{3} + 9 A^{3} \\epsilon^{2} + 40 A^{2} C \\epsilon^{5} + 4 A^{2} C \\epsilon^{4} - 10 A^{2} C \\epsilon^{3} - 13 A^{2} C \\epsilon^{2} + 6 A^{2} C \\epsilon - 32 A^{2} D \\epsilon^{5} + 16 A^{2} D \\epsilon^{4} + 8 A^{2} D \\epsilon^{3} - 4 A^{2} D \\epsilon^{2} - 96 A C^{2} \\epsilon^{5} + 48 A C^{2} \\epsilon^{4} + 8 A C^{2} \\epsilon^{3} + 8 A C^{2} \\epsilon^{2} - 8 A C^{2} \\epsilon + A C^{2} + 96 A C D \\epsilon^{5} - 64 A C D \\epsilon^{4} - 16 A C D \\epsilon^{3} + 16 A C D \\epsilon^{2} - 2 A C D \\epsilon + 64 C^{3} \\epsilon^{5} - 64 C^{3} \\epsilon^{4} + 8 C^{3} \\epsilon^{3} + 4 C^{3} \\epsilon^{2} + 2 C^{3} \\epsilon - C^{3} - 64 C^{2} D \\epsilon^{5} + 64 C^{2} D \\epsilon^{4} - 16 C^{2} D \\epsilon^{2} + 4 C^{2} D \\epsilon\\right)} \\left(2 \\epsilon - 1\\right) \\left(2 A \\epsilon - 2 C \\epsilon + C\\right) - \\left(- 2 A \\epsilon^{2} + 5 A \\epsilon + 4 C \\epsilon^{2} - 6 C \\epsilon + 2 C\\right) \\left(4 A^{2} \\epsilon^{2} - 2 A^{2} \\epsilon + 8 A C \\epsilon^{3} - 12 A C \\epsilon^{2} + 6 A C \\epsilon - A C - 8 C^{2} \\epsilon^{3} + 12 C^{2} \\epsilon^{2} - 6 C^{2} \\epsilon + C^{2}\\right)\\right)}{\\left(2 \\epsilon - 1\\right) \\left(2 A \\epsilon - 2 C \\epsilon + C\\right) \\left(4 A^{2} \\epsilon^{2} - 2 A^{2} \\epsilon + 8 A C \\epsilon^{3} - 12 A C \\epsilon^{2} + 6 A C \\epsilon - A C - 8 C^{2} \\epsilon^{3} + 12 C^{2} \\epsilon^{2} - 6 C^{2} \\epsilon + C^{2}\\right)} < 0$"
      ],
      "text/plain": [
       "A*(sqrt((A + 2*C*epsilon - C)*(4*A**3*epsilon**4 + 12*A**3*epsilon**3 + 9*A**3*epsilon**2 + 40*A**2*C*epsilon**5 + 4*A**2*C*epsilon**4 - 10*A**2*C*epsilon**3 - 13*A**2*C*epsilon**2 + 6*A**2*C*epsilon - 32*A**2*D*epsilon**5 + 16*A**2*D*epsilon**4 + 8*A**2*D*epsilon**3 - 4*A**2*D*epsilon**2 - 96*A*C**2*epsilon**5 + 48*A*C**2*epsilon**4 + 8*A*C**2*epsilon**3 + 8*A*C**2*epsilon**2 - 8*A*C**2*epsilon + A*C**2 + 96*A*C*D*epsilon**5 - 64*A*C*D*epsilon**4 - 16*A*C*D*epsilon**3 + 16*A*C*D*epsilon**2 - 2*A*C*D*epsilon + 64*C**3*epsilon**5 - 64*C**3*epsilon**4 + 8*C**3*epsilon**3 + 4*C**3*epsilon**2 + 2*C**3*epsilon - C**3 - 64*C**2*D*epsilon**5 + 64*C**2*D*epsilon**4 - 16*C**2*D*epsilon**2 + 4*C**2*D*epsilon))*(2*epsilon - 1)*(2*A*epsilon - 2*C*epsilon + C) - (-2*A*epsilon**2 + 5*A*epsilon + 4*C*epsilon**2 - 6*C*epsilon + 2*C)*(4*A**2*epsilon**2 - 2*A**2*epsilon + 8*A*C*epsilon**3 - 12*A*C*epsilon**2 + 6*A*C*epsilon - A*C - 8*C**2*epsilon**3 + 12*C**2*epsilon**2 - 6*C**2*epsilon + C**2))/((2*epsilon - 1)*(2*A*epsilon - 2*C*epsilon + C)*(4*A**2*epsilon**2 - 2*A**2*epsilon + 8*A*C*epsilon**3 - 12*A*C*epsilon**2 + 6*A*C*epsilon - A*C - 8*C**2*epsilon**3 + 12*C**2*epsilon**2 - 6*C**2*epsilon + C**2)) < 0"
      ]
     },
     "execution_count": 253,
     "metadata": {},
     "output_type": "execute_result"
    }
   ],
   "source": [
    "Fg_low"
   ]
  },
  {
   "cell_type": "markdown",
   "metadata": {},
   "source": [
    "## Suppose that $U_G=1$, $U_g=x_1^*$"
   ]
  },
  {
   "cell_type": "code",
   "execution_count": 308,
   "metadata": {},
   "outputs": [
    {
     "data": {
      "text/latex": [
       "$\\displaystyle 512 R^{4} \\epsilon^{2} \\left(2 B^{2} \\epsilon - B^{2} + 8 B R \\epsilon^{2} - 4 B R \\epsilon + 8 B R - 8 D R \\epsilon^{2} + 2 D R - 16 R^{2}\\right)$"
      ],
      "text/plain": [
       "512*R**4*epsilon**2*(2*B**2*epsilon - B**2 + 8*B*R*epsilon**2 - 4*B*R*epsilon + 8*B*R - 8*D*R*epsilon**2 + 2*D*R - 16*R**2)"
      ]
     },
     "execution_count": 308,
     "metadata": {},
     "output_type": "execute_result"
    }
   ],
   "source": [
    "# A = FG, B=Fg, C=LG, D=Lg\n",
    "\n",
    "_Fg_star = 2 * ((R + P - T - S) * (1 / (2*epsilon + 1))**2 + (T + S - 2*P) * (1 / (2*epsilon + 1)) + P)\n",
    "_Lg_star = 2*(R - S)*(1 / (2*epsilon+1))**2 + 2*S*(1 / (2*epsilon + 1))\n",
    "sym.factor(sym.cancel(sym.together(sym.expand((Delta - (-Real)**2).subs({A: 2*R, C: 2*R})))))"
   ]
  },
  {
   "cell_type": "code",
   "execution_count": 269,
   "metadata": {},
   "outputs": [],
   "source": [
    "_Fg_lower, _Fg_upper = sym.solve(B**2*(2*epsilon - 1) + B*(8*R*epsilon**2 - 4*R*epsilon + 8*R) - 8*D*R*epsilon**2 + 2*D*R - 16*R**2, B)"
   ]
  },
  {
   "cell_type": "code",
   "execution_count": 309,
   "metadata": {},
   "outputs": [
    {
     "data": {
      "text/latex": [
       "$\\displaystyle \\frac{- 2 R \\left(2 \\epsilon^{2} - \\epsilon + 2\\right) + \\sqrt{2} \\sqrt{R \\left(8 D \\epsilon^{3} - 4 D \\epsilon^{2} - 2 D \\epsilon + D + 8 R \\epsilon^{4} - 8 R \\epsilon^{3} + 18 R \\epsilon^{2} + 8 R \\epsilon\\right)}}{2 \\epsilon - 1}$"
      ],
      "text/plain": [
       "(-2*R*(2*epsilon**2 - epsilon + 2) + sqrt(2)*sqrt(R*(8*D*epsilon**3 - 4*D*epsilon**2 - 2*D*epsilon + D + 8*R*epsilon**4 - 8*R*epsilon**3 + 18*R*epsilon**2 + 8*R*epsilon)))/(2*epsilon - 1)"
      ]
     },
     "execution_count": 309,
     "metadata": {},
     "output_type": "execute_result"
    }
   ],
   "source": [
    "_Fg_lower"
   ]
  },
  {
   "cell_type": "code",
   "execution_count": 274,
   "metadata": {},
   "outputs": [
    {
     "data": {
      "text/latex": [
       "$\\displaystyle - \\frac{2 R \\left(2 \\epsilon^{2} - \\epsilon + 2\\right) + \\sqrt{2} \\sqrt{R \\left(8 D \\epsilon^{3} - 4 D \\epsilon^{2} - 2 D \\epsilon + D + 8 R \\epsilon^{4} - 8 R \\epsilon^{3} + 18 R \\epsilon^{2} + 8 R \\epsilon\\right)}}{2 \\epsilon - 1}$"
      ],
      "text/plain": [
       "-(2*R*(2*epsilon**2 - epsilon + 2) + sqrt(2)*sqrt(R*(8*D*epsilon**3 - 4*D*epsilon**2 - 2*D*epsilon + D + 8*R*epsilon**4 - 8*R*epsilon**3 + 18*R*epsilon**2 + 8*R*epsilon)))/(2*epsilon - 1)"
      ]
     },
     "execution_count": 274,
     "metadata": {},
     "output_type": "execute_result"
    }
   ],
   "source": [
    "_Fg_upper"
   ]
  },
  {
   "cell_type": "code",
   "execution_count": 276,
   "metadata": {},
   "outputs": [
    {
     "data": {
      "text/latex": [
       "$\\displaystyle \\left(2 \\epsilon - 1\\right)^{2} \\left(2 \\epsilon + 1\\right)$"
      ],
      "text/plain": [
       "(2*epsilon - 1)**2*(2*epsilon + 1)"
      ]
     },
     "execution_count": 276,
     "metadata": {},
     "output_type": "execute_result"
    }
   ],
   "source": [
    "sym.factor(8*epsilon**3 - 4*epsilon**2 -2*epsilon + 1)"
   ]
  },
  {
   "cell_type": "code",
   "execution_count": 279,
   "metadata": {},
   "outputs": [
    {
     "data": {
      "text/latex": [
       "$\\displaystyle 4 \\epsilon^{3} - 4 \\epsilon^{2} + 9 \\epsilon + 4$"
      ],
      "text/plain": [
       "4*epsilon**3 - 4*epsilon**2 + 9*epsilon + 4"
      ]
     },
     "execution_count": 279,
     "metadata": {},
     "output_type": "execute_result"
    }
   ],
   "source": [
    "sym.factor(4*epsilon**3 - 4*epsilon**2 + 9*epsilon + 4)"
   ]
  },
  {
   "cell_type": "code",
   "execution_count": 213,
   "metadata": {},
   "outputs": [],
   "source": [
    "p = sym.poly(80*R**2*epsilon**2 + 64*R**2*epsilon + 12*R**2 + 32*R*S*epsilon**3 - 8*R*S*epsilon - 16*R*epsilon**3 - 12*R*epsilon - 8*R - 2*epsilon + 1, epsilon)\n",
    "aa\n"
   ]
  },
  {
   "cell_type": "code",
   "execution_count": 214,
   "metadata": {},
   "outputs": [
    {
     "data": {
      "text/latex": [
       "$\\displaystyle 32 R S - 16 R$"
      ],
      "text/plain": [
       "32*R*S - 16*R"
      ]
     },
     "execution_count": 214,
     "metadata": {},
     "output_type": "execute_result"
    }
   ],
   "source": [
    "p.coeffs()[0]"
   ]
  },
  {
   "cell_type": "code",
   "execution_count": 215,
   "metadata": {},
   "outputs": [
    {
     "data": {
      "text/latex": [
       "$\\displaystyle 80 R^{2}$"
      ],
      "text/plain": [
       "80*R**2"
      ]
     },
     "execution_count": 215,
     "metadata": {},
     "output_type": "execute_result"
    }
   ],
   "source": [
    "p.coeffs()[1]"
   ]
  },
  {
   "cell_type": "code",
   "execution_count": 216,
   "metadata": {},
   "outputs": [
    {
     "data": {
      "text/latex": [
       "$\\displaystyle 64 R^{2} - 8 R S - 12 R - 2$"
      ],
      "text/plain": [
       "64*R**2 - 8*R*S - 12*R - 2"
      ]
     },
     "execution_count": 216,
     "metadata": {},
     "output_type": "execute_result"
    }
   ],
   "source": [
    "p.coeffs()[2]"
   ]
  },
  {
   "cell_type": "code",
   "execution_count": 217,
   "metadata": {},
   "outputs": [
    {
     "data": {
      "text/latex": [
       "$\\displaystyle 12 R^{2} - 8 R + 1$"
      ],
      "text/plain": [
       "12*R**2 - 8*R + 1"
      ]
     },
     "execution_count": 217,
     "metadata": {},
     "output_type": "execute_result"
    }
   ],
   "source": [
    "p.coeffs()[3]"
   ]
  },
  {
   "cell_type": "code",
   "execution_count": 224,
   "metadata": {},
   "outputs": [
    {
     "data": {
      "text/latex": [
       "$\\displaystyle 32 R \\left(200 R^{3} - 192 R^{2} S + 96 R^{2} + 24 R S^{2} + 24 R S - 18 R + 6 S - 3\\right)$"
      ],
      "text/plain": [
       "32*R*(200*R**3 - 192*R**2*S + 96*R**2 + 24*R*S**2 + 24*R*S - 18*R + 6*S - 3)"
      ]
     },
     "execution_count": 224,
     "metadata": {},
     "output_type": "execute_result"
    }
   ],
   "source": [
    "sym.factor(p.coeffs()[1]**2 - 3*p.coeffs()[0] * p.coeffs()[2])#.subs({S:1})"
   ]
  },
  {
   "cell_type": "code",
   "execution_count": 226,
   "metadata": {},
   "outputs": [
    {
     "data": {
      "text/latex": [
       "$\\displaystyle 144 \\left(2 S - 1\\right) \\left(78 S - 139\\right)$"
      ],
      "text/plain": [
       "144*(2*S - 1)*(78*S - 139)"
      ]
     },
     "execution_count": 226,
     "metadata": {},
     "output_type": "execute_result"
    }
   ],
   "source": [
    "sym.factor((-192*S+96)**2 - 3*200*(24*S**2 + 24*S - 18))"
   ]
  },
  {
   "cell_type": "code",
   "execution_count": null,
   "metadata": {},
   "outputs": [],
   "source": []
  },
  {
   "cell_type": "code",
   "execution_count": 205,
   "metadata": {},
   "outputs": [
    {
     "data": {
      "text/plain": [
       "[-(-3*(5*R - 3*S)/(8*S) + (6*R - 6*S - 3)**2/(256*S**2))/(3*(sqrt(-4*(-3*(5*R - 3*S)/(8*S) + (6*R - 6*S - 3)**2/(256*S**2))**3 + (-9*(5*R - 3*S)*(6*R - 6*S - 3)/(128*S**2) + (6*R - 6*S - 3)**3/(2048*S**3) + 27*(28*R**2 + 4*R*S - 6*R - 1)/(128*R*S))**2)/2 - 9*(5*R - 3*S)*(6*R - 6*S - 3)/(256*S**2) + (6*R - 6*S - 3)**3/(4096*S**3) + 27*(28*R**2 + 4*R*S - 6*R - 1)/(256*R*S))**(1/3)) - (sqrt(-4*(-3*(5*R - 3*S)/(8*S) + (6*R - 6*S - 3)**2/(256*S**2))**3 + (-9*(5*R - 3*S)*(6*R - 6*S - 3)/(128*S**2) + (6*R - 6*S - 3)**3/(2048*S**3) + 27*(28*R**2 + 4*R*S - 6*R - 1)/(128*R*S))**2)/2 - 9*(5*R - 3*S)*(6*R - 6*S - 3)/(256*S**2) + (6*R - 6*S - 3)**3/(4096*S**3) + 27*(28*R**2 + 4*R*S - 6*R - 1)/(256*R*S))**(1/3)/3 - (6*R - 6*S - 3)/(48*S),\n",
       " -(-3*(5*R - 3*S)/(8*S) + (6*R - 6*S - 3)**2/(256*S**2))/(3*(-1/2 - sqrt(3)*I/2)*(sqrt(-4*(-3*(5*R - 3*S)/(8*S) + (6*R - 6*S - 3)**2/(256*S**2))**3 + (-9*(5*R - 3*S)*(6*R - 6*S - 3)/(128*S**2) + (6*R - 6*S - 3)**3/(2048*S**3) + 27*(28*R**2 + 4*R*S - 6*R - 1)/(128*R*S))**2)/2 - 9*(5*R - 3*S)*(6*R - 6*S - 3)/(256*S**2) + (6*R - 6*S - 3)**3/(4096*S**3) + 27*(28*R**2 + 4*R*S - 6*R - 1)/(256*R*S))**(1/3)) - (-1/2 - sqrt(3)*I/2)*(sqrt(-4*(-3*(5*R - 3*S)/(8*S) + (6*R - 6*S - 3)**2/(256*S**2))**3 + (-9*(5*R - 3*S)*(6*R - 6*S - 3)/(128*S**2) + (6*R - 6*S - 3)**3/(2048*S**3) + 27*(28*R**2 + 4*R*S - 6*R - 1)/(128*R*S))**2)/2 - 9*(5*R - 3*S)*(6*R - 6*S - 3)/(256*S**2) + (6*R - 6*S - 3)**3/(4096*S**3) + 27*(28*R**2 + 4*R*S - 6*R - 1)/(256*R*S))**(1/3)/3 - (6*R - 6*S - 3)/(48*S),\n",
       " -(-3*(5*R - 3*S)/(8*S) + (6*R - 6*S - 3)**2/(256*S**2))/(3*(-1/2 + sqrt(3)*I/2)*(sqrt(-4*(-3*(5*R - 3*S)/(8*S) + (6*R - 6*S - 3)**2/(256*S**2))**3 + (-9*(5*R - 3*S)*(6*R - 6*S - 3)/(128*S**2) + (6*R - 6*S - 3)**3/(2048*S**3) + 27*(28*R**2 + 4*R*S - 6*R - 1)/(128*R*S))**2)/2 - 9*(5*R - 3*S)*(6*R - 6*S - 3)/(256*S**2) + (6*R - 6*S - 3)**3/(4096*S**3) + 27*(28*R**2 + 4*R*S - 6*R - 1)/(256*R*S))**(1/3)) - (-1/2 + sqrt(3)*I/2)*(sqrt(-4*(-3*(5*R - 3*S)/(8*S) + (6*R - 6*S - 3)**2/(256*S**2))**3 + (-9*(5*R - 3*S)*(6*R - 6*S - 3)/(128*S**2) + (6*R - 6*S - 3)**3/(2048*S**3) + 27*(28*R**2 + 4*R*S - 6*R - 1)/(128*R*S))**2)/2 - 9*(5*R - 3*S)*(6*R - 6*S - 3)/(256*S**2) + (6*R - 6*S - 3)**3/(4096*S**3) + 27*(28*R**2 + 4*R*S - 6*R - 1)/(256*R*S))**(1/3)/3 - (6*R - 6*S - 3)/(48*S)]"
      ]
     },
     "execution_count": 205,
     "metadata": {},
     "output_type": "execute_result"
    }
   ],
   "source": [
    "sym.solve(sym.diaaaff(p), epsilon)"
   ]
  },
  {
   "cell_type": "code",
   "execution_count": null,
   "metadata": {},
   "outputs": [],
   "source": [
    "p."
   ]
  },
  {
   "cell_type": "code",
   "execution_count": null,
   "metadata": {},
   "outputs": [],
   "source": []
  },
  {
   "cell_type": "markdown",
   "metadata": {},
   "source": [
    "# One-locus model\n",
    "\n",
    "In this model both alleles of the $\\gamma$ gene are present, however only the $A$ allele of the $\\alpha$ gene is present. Formally set $x_2=1 - x_1, x_3=x_4=0$."
   ]
  },
  {
   "cell_type": "code",
   "execution_count": 3,
   "metadata": {},
   "outputs": [],
   "source": [
    "x1 = sym.symbols(\"x1\", real=True, nonnegative=True)\n",
    "T, R, P, S = sym.symbols('T, R, P, S', real=True, positive=True)\n",
    "UGA = selection_functions.UGA"
   ]
  },
  {
   "cell_type": "markdown",
   "metadata": {},
   "source": [
    "# Total offspring (fitness)"
   ]
  },
  {
   "cell_type": "code",
   "execution_count": 4,
   "metadata": {},
   "outputs": [],
   "source": [
    "x = np.array([[x1], [1 - x1], [0], [0]])\n",
    "payoff_kernel = np.array([[R, S], [T, P]])\n",
    "W = models.generalized_sexual_selection(x, UGA, lambda x: x, payoff_kernel, 0, 0, 0)\n",
    "N, = models.total_offspring(W, x)"
   ]
  },
  {
   "cell_type": "code",
   "execution_count": 5,
   "metadata": {},
   "outputs": [
    {
     "data": {
      "text/plain": [
       "4.0*(0.5*P + (-1.0*P + 0.5*S + 0.5*T)*UGA(x1) + (0.5*P + 0.5*R - 0.5*S - 0.5*T)*UGA(x1)**2)"
      ]
     },
     "execution_count": 5,
     "metadata": {},
     "output_type": "execute_result"
    }
   ],
   "source": [
    "sym.factor(N, UGA(x1))"
   ]
  },
  {
   "cell_type": "markdown",
   "metadata": {},
   "source": [
    "After a bit of algebra we arrive at the following expression for total offspring.\n",
    "\n",
    "\\begin{align}\n",
    "   % N(x_1) =& 2.0*P*UGA(x1)**2 - 4.0*P*UGA(x1) + 2.0*P + 2.0*R*UGA(x1)**2 - 2.0*S*UGA(x1)**2 + 2.0*S*UGA(x1) - 2.0*T*UGA(x1)**2 + 2.0*T*UGA(x1) -2.0*M\\\\\n",
    "   % N(x_1) =& 2\\bigg(PU_{GA}(x_1)^2 - 2PU_{GA}(x_1) + P + RU_{GA}(x_1)^2 - SU_{GA}(x_1)^2 + SU_{GA}(x_1) - TU_{GA}(x_1)^2 + TU_{GA}(x_1) - M\\bigg) \\\\\n",
    "   % N(x_1) =& 2\\bigg(RU_{GA}(x_1)^2 + PU_{GA}(x_1)^2 - TU_{GA}(x_1)^2 - SU_{GA}(x_1)^2 + SU_{GA}(x_1) + TU_{GA}(x_1) - 2PU_{GA}(x_1) + (P - M)\\bigg) \\\\\n",
    "    N(x_1) =& 2\\bigg(\\big((R + P) - (T + S)\\big)U_{GA}(x_1)^2 + \\big((T + S) - 2P\\big)U_{GA}(x_1) + (P - M)\\bigg) \\\\\n",
    "\\end{align}"
   ]
  },
  {
   "cell_type": "markdown",
   "metadata": {},
   "source": [
    "## Equilibrium total offspring\n",
    "\n",
    "Consider an equilibrium $x^*$ and define the constant equilibrium selection probability as $U_{GA}^* = U_{GA}(x^*)$."
   ]
  },
  {
   "cell_type": "code",
   "execution_count": 26,
   "metadata": {},
   "outputs": [],
   "source": [
    "UG_star = sym.symbols(\"UG_star\")\n",
    "equilibrium_total_offspring = sym.factor(N.subs({UGA(x1): UG_star}), UG_star)"
   ]
  },
  {
   "cell_type": "code",
   "execution_count": 27,
   "metadata": {},
   "outputs": [
    {
     "data": {
      "text/plain": [
       "4.0*(0.5*P + UG_star**2*(0.5*P + 0.5*R - 0.5*S - 0.5*T) + UG_star*(-1.0*P + 0.5*S + 0.5*T))"
      ]
     },
     "execution_count": 27,
     "metadata": {},
     "output_type": "execute_result"
    }
   ],
   "source": [
    "equilibrium_total_offspring"
   ]
  },
  {
   "cell_type": "markdown",
   "metadata": {},
   "source": [
    "## Maximizing equilibrium total offspring\n",
    "\n",
    "Find the value of the equilibrium selection probability $U_{GA}^*$ that maximizes total offspring.\n",
    "\n",
    "### Find the optimal value of $U_{GA}^*$.\n",
    "\n",
    "The number of total offspring can be written as a function of the equilibrium selection probability.\n",
    "\n",
    "$$ N(U_{GA}^*) = 2\\bigg(\\big((R + P) - (T + S)\\big)U_{GA}^{*2} + \\big((T + S) - 2P\\big)U_{GA}^* + (P - M) \\bigg)$$\n",
    "\n",
    "To find the equilibrium selection probability that maximizes the number of total offspring we need to solve the following constrained optimization problem.\n",
    "\n",
    "$$ \\max_{U_{GA}^*}\\ 2\\bigg(\\big((R + P) - (T + S)\\big)U_{GA}^{*2} + \\big((T + S) - 2P\\big)U_{GA}^* + (P - M) \\bigg) $$\n",
    "\n",
    "subject to the following inequality constraints.\n",
    "\n",
    "\\begin{align}\n",
    "    -U_{GA}^* \\le& 0 \\\\\n",
    "    U_{GA}^* - 1 \\le& 0\n",
    "\\end{align}\n",
    "\n",
    "The total offspring maximizing equilibrium value for $U_{GA}^*$ must satisfy the following first-order condition.\n",
    "\n",
    "$$ 4\\big((R + P) - (T + S)\\big)U_{GA} + 2\\big((T + S) - 2P\\big) = -\\mu_0 + \\mu_1 $$\n",
    "\n",
    "Complementary slackness conditions are\n",
    "\n",
    "\\begin{align}\n",
    "    -\\mu_0U_{GA}^* =& 0 \\\\\n",
    "    \\mu_1U_{GA}^* - 1 =& 0\n",
    "\\end{align}\n",
    "\n",
    "where $\\mu_0, \\mu_1$ are Lagrange multipliers.\n",
    "\n",
    "#### Case 1: $\\mu_0=0, \\mu_1>0$; total offspring is maximized by $U_{GA}^*=1$\n",
    "\n",
    "Substituting $U_{GA}^*=1$ into the first order condition yields\n",
    "\n",
    "$$ 4\\big((R + P) - (T + S)\\big) + 2\\big((T + S) - 2P\\big) = \\mu_1 $$\n",
    "\n",
    "which reduces to the following.\n",
    "\n",
    "$$ 4R - 2(T + S) = \\mu_1 $$\n",
    "\n",
    "The value of the Lagrange multiplier is equal to the slope of the objective at the constraint. Since the constraint is binding and the multiplier is positive it must be the case that \n",
    "\n",
    "$$ 2R > T + S $$\n",
    "\n",
    "which tells us that the joint payoff to mutual cooperation must exceed the payoff to hierarchy. Note that the total number of offspring at $N(1) = 2(R - M)$.\n",
    "\n",
    "#### Case 2: $\\mu_0>0, \\mu_1=0$; total offspring is (locally) maximized by $U_{GA}^*=0$\n",
    "\n",
    "Substituting $U_{GA}^*=0$ into the first order condition yields\n",
    "\n",
    "$$ 2\\big((T + S) - 2P\\big) = -\\mu_0 $$\n",
    "\n",
    "which reduces to the following.\n",
    "\n",
    "$$ -2\\big((T + S) - 2P\\big) = \\mu_0 $$\n",
    "\n",
    "The value of the Lagrange multiplier is equal to the slope of the objective at the constraint. Since the constraint is binding and the multiplier is positive it must be the case that \n",
    "\n",
    "$$ T + S < 2P $$\n",
    "\n",
    "which tells us that the payoff to hierarchy must be strictly less than the payoff to mutual exploitation. Note that the number of offspring at $N(0) = 2(P - M)$. Note however that because $R > P$, $U_{GA}^*=0$ can only ever be a local maximum.\n",
    "\n",
    "\n",
    "#### Case 3: $\\mu_0=0, \\mu_1=0$; total offspring is maximized by $0 < U_{GA}^* < 1$\n",
    "\n",
    "Setting the first order condition equal to zero and solving for the optimal value of $U_{GA}^*$ yield the following result.\n",
    "\n",
    "$$ \\bar{U}_{GA}^* = \\frac{1}{2}\\left(\\frac{2P - (T + S)}{(R + P) - (T + S)}\\right) $$\n",
    "\n",
    "Second order condition for this interior maximum requires that the following payoff restriction holds. \n",
    "\n",
    "$$ R + P < T + S $$\n",
    "\n",
    "The total offspring produced at this optimal equilibrium selection probability is as follows.\n",
    "\n",
    "$$ N(\\bar{U}_{GA}^*) = 2(P-M) + \\frac{1}{2}\\left(\\frac{\\big(2P - (T + S)\\big)^2}{(T + S) - (R + P)}\\right) $$\n",
    "\n",
    "An interior maximum requires that the slope of the objective at the lower bound be strictly positive and that the slope of the objective at the upper bound be strictly negative (i.e., both constraints are slack!).  This imposes the following additional restrictions on payoffs.\n",
    "\n",
    "$$ 2P < 2R < T + S $$\n",
    "\n",
    "Again, we have that the payoff to hierarchy must strictly dominate the payoff to mutual cooperation.\n",
    "\n",
    "### Discussion\n",
    "\n",
    "Now that we have gone through the maths, it is useful to characterize how the maximum value of $U_{GA}^*$ depends on model parameters.\n",
    "\n",
    "* Suppose that $2P < R + P < T + S < 2R$. In this case the unqiue global maximum value of equilibrium total offspring is $N^{**}=2(R - M)$ and is obtained at $U_{GA}^{**}=1 $.\n",
    "* Suppose that $2P < R + P < 2R < T + S$. In this case the unique global maximum value of equilibrium total offspring os $N^{**}= ???$ and is obtained at $U_{GA}^{**} = \\frac{1}{2}\\left(\\frac{2P - (T + S)}{(R + P) - (T + S)}\\right) $\n",
    "\n",
    "\n",
    "Because $R > P$, the global maximum number of offspring will either be $N(1)=2(R - M)$ or will be an interior maximum with $N(U_{GA}^*) > 2R$. If second order condition for interior maximum fails (i.e., $R + P > T + S$), then interior optimimum is actually a global minimum! In this case while the global maximum is still $U_{GA}^*=1$, there is a local maxmium at $U_{GA}^*=0$.  It might be interesting to explore the invadability of both of these points when $R + P > T + S$.\n",
    "\n",
    "#### Conditions under which $N(U_{GA}^*)$ is monotonically increasing and convex\n",
    "$N'(U_{GA}^*) > 0$ requires that \n",
    "\n",
    "$$ U_{GA}^* > \\frac{1}{2}\\left(\\frac{2P - (T + S)}{(R + P) - (T + S)}\\right) $$\n",
    "\n",
    "while $N''(U_{GA}^*) > 0$ requires that\n",
    "\n",
    "$$ (R + P) > (T + S) > 0. $$\n",
    "\n",
    "Monotonically increasing and convex $N(U_{GA}^*)$ implies global maximum occurs at $U_{GA}^*=1$ (and no local maximum at $U_{GA}^*=0$).\n",
    "\n",
    "#### Conditions under which $N(U_{GA}^*)$ is monotonically increasing and concave\n",
    "$N'(U_{GA}^*) > 0$ requires that \n",
    "\n",
    "$$ U_{GA}^* > \\frac{1}{2}\\left(\\frac{2P - (T + S)}{(R + P) - (T + S)}\\right) $$\n",
    "\n",
    "while $N''(U_{GA}^*) < 0$ requires that\n",
    "\n",
    "$$ (R + P) < (T + S)$$\n",
    "\n",
    "Monotonically increasing and concave $N(U_{GA}^*)$ implies global maximum occurs at $U_{GA}^*=1$ (and no local maximum at $U_{GA}^*=0$).\n"
   ]
  },
  {
   "cell_type": "code",
   "execution_count": 28,
   "metadata": {},
   "outputs": [],
   "source": [
    "# solve for the interior value of UGA* that maximizes total offspring\n",
    "foc = equilibrium_total_offspring.diff(UG_star, 1)\n",
    "optimal_U_star, = sym.solve(foc, UG_star)"
   ]
  },
  {
   "cell_type": "code",
   "execution_count": 29,
   "metadata": {},
   "outputs": [
    {
     "data": {
      "text/plain": [
       "(P - 0.5*S - 0.5*T)/(P + R - S - T)"
      ]
     },
     "execution_count": 29,
     "metadata": {},
     "output_type": "execute_result"
    }
   ],
   "source": [
    "optimal_U_star"
   ]
  },
  {
   "cell_type": "code",
   "execution_count": 19,
   "metadata": {},
   "outputs": [],
   "source": [
    "_equilibrium_total_offspring = sym.lambdify((UG_star, T, R, P, S),\n",
    "                                            equilibrium_total_offspring,\n",
    "                                            modules=\"numpy\")\n",
    "\n",
    "def plot_total_offspring(T, R, P, S, M):\n",
    "    fig, ax = plt.subplots(1, 1, figsize=(10,6))\n",
    "    us = np.linspace(0, 1, 100)\n",
    "    ax.plot(us, _equilibrium_total_offspring(us, T, R, P, S, M))\n",
    "    ax.set_title(r\"Total number of offspring\", fontsize=25)\n",
    "    ax.set_xlabel(r\"$U^*$\", fontsize=25)\n",
    "    ax.set_ylabel(r\"N\", rotation=\"horizontal\", fontsize=25)\n",
    "    plt.show()"
   ]
  },
  {
   "cell_type": "code",
   "execution_count": 22,
   "metadata": {},
   "outputs": [
    {
     "data": {
      "application/vnd.jupyter.widget-view+json": {
       "model_id": "cf63c0c817a647a3855422a0aae3f74e",
       "version_major": 2,
       "version_minor": 0
      },
      "text/plain": [
       "interactive(children=(FloatSlider(value=25.0, description='$T$'), FloatSlider(value=3.0, description='$R$'), F…"
      ]
     },
     "metadata": {},
     "output_type": "display_data"
    }
   ],
   "source": [
    "# sliders used to control the Prisoner's Dilemma Payoffs\n",
    "T_slider = widgets.FloatSlider(value=25, min=0, max=100, step=0.1, description=r\"$T$\")\n",
    "R_slider = widgets.FloatSlider(value=3, min=0, max=100, step=0.1, description=r\"$R$\")\n",
    "P_slider = widgets.FloatSlider(value=2, min=0, max=100, step=0.1, description=r\"$P$\")\n",
    "S_slider = widgets.FloatSlider(value=1, min=0, max=100, step=0.1, description=r\"$S$\")\n",
    "\n",
    "# slider used to control metabolic costs\n",
    "M_slider = widgets.FloatSlider(value=1, min=0, max=100, step=0.1, description=r\"$M$\")\n",
    "\n",
    "w = widgets.interactive(plot_total_offspring, T=T_slider, R=R_slider, P=P_slider, S=S_slider, M=M_slider)\n",
    "display(w)"
   ]
  },
  {
   "cell_type": "code",
   "execution_count": 14,
   "metadata": {},
   "outputs": [
    {
     "data": {
      "image/png": "[encoded data removed]",
      "text/plain": [
       "<Figure size 1080x1080 with 4 Axes>"
      ]
     },
     "metadata": {},
     "output_type": "display_data"
    }
   ],
   "source": [
    "fig, axes = plt.subplots(2, 2, sharex=True, sharey=True, figsize=(15, 15))\n",
    "\n",
    "us = np.linspace(0, 1, 100)\n",
    "\n",
    "axes[0,0].plot(us, _equilibrium_total_offspring(us, 10, 8, 6, 1, 0))\n",
    "axes[0,0].set_title(r\"$(i)\\ T + S < 2P < R + P < 2R$\", fontsize=25)\n",
    "axes[0,0].set_ylabel(r\"$N$\", rotation=\"horizontal\", fontsize=25)\n",
    "\n",
    "axes[0,1].plot(us, _equilibrium_total_offspring(us, 10, 8, 6, 3, 0))\n",
    "axes[0,1].set_title(r\"$(ii)\\ 2P < T + S < R + P < 2R$\", fontsize=25)\n",
    "\n",
    "axes[1,0].plot(us, _equilibrium_total_offspring(us, 10, 8, 6, 5, 0))\n",
    "axes[1,0].set_title(r\"$(iii)\\ 2P < R + P < T + S < 2R$\", fontsize=25)\n",
    "axes[1,0].set_xlabel(r\"$U$\", fontsize=25)\n",
    "axes[1,0].set_ylabel(r\"$N$\", rotation=\"horizontal\", fontsize=25)\n",
    "\n",
    "axes[1,1].plot(us, _equilibrium_total_offspring(us, 14, 8, 6, 3, 0))\n",
    "axes[1,1].set_title(r\"$(iv)\\ 2P < R + P < 2R < T + S$\", fontsize=25)\n",
    "axes[1,1].set_xlabel(r\"$U$\", fontsize=25)\n",
    "\n",
    "fig.tight_layout()\n",
    "fig.subplots_adjust(top=0.925)\n",
    "fig.suptitle(\"Total offspring, $N$, as a function of the selection probability, $U$\", x=0.5, y=1.0, fontsize=35)\n",
    "\n",
    "plt.savefig(\"maximizing-total-offspring-various-payoffs.jpg\")\n",
    "plt.show()"
   ]
  },
  {
   "cell_type": "code",
   "execution_count": 6,
   "metadata": {},
   "outputs": [],
   "source": [
    "(f1,), *_ = models.offspring_genotypes_evolution(W, x)"
   ]
  },
  {
   "cell_type": "code",
   "execution_count": 153,
   "metadata": {},
   "outputs": [],
   "source": [
    "N = sym.Function('N')"
   ]
  },
  {
   "cell_type": "code",
   "execution_count": 172,
   "metadata": {},
   "outputs": [
    {
     "data": {
      "text/plain": [
       "-x1 - 4.0*(0.5*M*epsilon - 0.5*P*epsilon + (0.25*epsilon*x1 + 0.125*x1)*N(x1) + (-0.5*P*epsilon - 0.25*R + 0.25*S + 0.5*T*epsilon)*U(x1)**2 + (-0.5*M*epsilon + 0.25*M + 1.0*P*epsilon - 0.25*S - 0.5*T*epsilon)*U(x1))/N(x1)"
      ]
     },
     "execution_count": 172,
     "metadata": {},
     "output_type": "execute_result"
    }
   ],
   "source": [
    "sym.factor((sym.factor(sym.together(f1 + x1), U(x1), x1, epsilon)\n",
    "    .subs({(-0.5*M + 0.5*P + (-1.0*P + 0.5*S + 0.5*T)*U(x1) + (0.5*P + 0.5*R - 0.5*S - 0.5*T)*U(x1)**2): 0.25 * N(x1),\n",
    "           epsilon*x1*(-0.5*M + 0.5*P) + epsilon*x1*(-1.0*P + 0.5*S + 0.5*T)*U(x1) + epsilon*x1*(0.5*P + 0.5*R - 0.5*S - 0.5*T)*U(x1)**2: 0.25 * x1 * epsilon * N(x1),\n",
    "           x1*(0.25*M - 0.25*P) + x1*(0.5*P - 0.25*S - 0.25*T)*U(x1) + x1*(-0.25*P - 0.25*R + 0.25*S + 0.25*T)*U(x1)**2: 0.125 * x1 * N(x1)})), N(x1), U(x1)) - x1"
   ]
  },
  {
   "cell_type": "code",
   "execution_count": 167,
   "metadata": {},
   "outputs": [
    {
     "data": {
      "text/plain": [
       "0.125"
      ]
     },
     "execution_count": 167,
     "metadata": {},
     "output_type": "execute_result"
    }
   ],
   "source": [
    "1 / 8"
   ]
  },
  {
   "cell_type": "markdown",
   "metadata": {},
   "source": [
    "# The locus of potential equilibria (LPE)"
   ]
  },
  {
   "cell_type": "code",
   "execution_count": 144,
   "metadata": {},
   "outputs": [
    {
     "ename": "KeyboardInterrupt",
     "evalue": "",
     "output_type": "error",
     "traceback": [
      "\u001b[0;31m---------------------------------------------------------------------------\u001b[0m",
      "\u001b[0;31mKeyboardInterrupt\u001b[0m                         Traceback (most recent call last)",
      "\u001b[0;32m<ipython-input-144-9eda33fb35e0>\u001b[0m in \u001b[0;36m<module>\u001b[0;34m()\u001b[0m\n\u001b[0;32m----> 1\u001b[0;31m \u001b[0mx1_star\u001b[0m\u001b[0;34m,\u001b[0m \u001b[0;34m=\u001b[0m \u001b[0msym\u001b[0m\u001b[0;34m.\u001b[0m\u001b[0msolve\u001b[0m\u001b[0;34m(\u001b[0m\u001b[0mf1\u001b[0m\u001b[0;34m.\u001b[0m\u001b[0msubs\u001b[0m\u001b[0;34m(\u001b[0m\u001b[0;34m{\u001b[0m\u001b[0mU\u001b[0m\u001b[0;34m(\u001b[0m\u001b[0mx1\u001b[0m\u001b[0;34m)\u001b[0m\u001b[0;34m:\u001b[0m \u001b[0mU_star\u001b[0m\u001b[0;34m}\u001b[0m\u001b[0;34m)\u001b[0m\u001b[0;34m,\u001b[0m \u001b[0mx1\u001b[0m\u001b[0;34m)\u001b[0m\u001b[0;34m\u001b[0m\u001b[0m\n\u001b[0m\u001b[1;32m      2\u001b[0m \u001b[0msym\u001b[0m\u001b[0;34m.\u001b[0m\u001b[0mfactor\u001b[0m\u001b[0;34m(\u001b[0m\u001b[0mx1_star\u001b[0m\u001b[0;34m,\u001b[0m \u001b[0mU_star\u001b[0m\u001b[0;34m,\u001b[0m \u001b[0mepsilon\u001b[0m\u001b[0;34m)\u001b[0m\u001b[0;34m\u001b[0m\u001b[0m\n",
      "\u001b[0;32m~/anaconda3/lib/python3.6/site-packages/sympy/solvers/solvers.py\u001b[0m in \u001b[0;36msolve\u001b[0;34m(f, *symbols, **flags)\u001b[0m\n\u001b[1;32m   1157\u001b[0m     \u001b[0;31m###########################################################################\u001b[0m\u001b[0;34m\u001b[0m\u001b[0;34m\u001b[0m\u001b[0m\n\u001b[1;32m   1158\u001b[0m     \u001b[0;32mif\u001b[0m \u001b[0mbare_f\u001b[0m\u001b[0;34m:\u001b[0m\u001b[0;34m\u001b[0m\u001b[0m\n\u001b[0;32m-> 1159\u001b[0;31m         \u001b[0msolution\u001b[0m \u001b[0;34m=\u001b[0m \u001b[0m_solve\u001b[0m\u001b[0;34m(\u001b[0m\u001b[0mf\u001b[0m\u001b[0;34m[\u001b[0m\u001b[0;36m0\u001b[0m\u001b[0;34m]\u001b[0m\u001b[0;34m,\u001b[0m \u001b[0;34m*\u001b[0m\u001b[0msymbols\u001b[0m\u001b[0;34m,\u001b[0m \u001b[0;34m**\u001b[0m\u001b[0mflags\u001b[0m\u001b[0;34m)\u001b[0m\u001b[0;34m\u001b[0m\u001b[0m\n\u001b[0m\u001b[1;32m   1160\u001b[0m     \u001b[0;32melse\u001b[0m\u001b[0;34m:\u001b[0m\u001b[0;34m\u001b[0m\u001b[0m\n\u001b[1;32m   1161\u001b[0m         \u001b[0msolution\u001b[0m \u001b[0;34m=\u001b[0m \u001b[0m_solve_system\u001b[0m\u001b[0;34m(\u001b[0m\u001b[0mf\u001b[0m\u001b[0;34m,\u001b[0m \u001b[0msymbols\u001b[0m\u001b[0;34m,\u001b[0m \u001b[0;34m**\u001b[0m\u001b[0mflags\u001b[0m\u001b[0;34m)\u001b[0m\u001b[0;34m\u001b[0m\u001b[0m\n",
      "\u001b[0;32m~/anaconda3/lib/python3.6/site-packages/sympy/solvers/solvers.py\u001b[0m in \u001b[0;36m_solve\u001b[0;34m(f, *symbols, **flags)\u001b[0m\n\u001b[1;32m   1717\u001b[0m         \u001b[0mflags\u001b[0m\u001b[0;34m.\u001b[0m\u001b[0mpop\u001b[0m\u001b[0;34m(\u001b[0m\u001b[0;34m'tsolve'\u001b[0m\u001b[0;34m,\u001b[0m \u001b[0;32mNone\u001b[0m\u001b[0;34m)\u001b[0m  \u001b[0;31m# allow tsolve to be used on next pass\u001b[0m\u001b[0;34m\u001b[0m\u001b[0m\n\u001b[1;32m   1718\u001b[0m         \u001b[0;32mtry\u001b[0m\u001b[0;34m:\u001b[0m\u001b[0;34m\u001b[0m\u001b[0m\n\u001b[0;32m-> 1719\u001b[0;31m             \u001b[0msoln\u001b[0m \u001b[0;34m=\u001b[0m \u001b[0m_tsolve\u001b[0m\u001b[0;34m(\u001b[0m\u001b[0mf_num\u001b[0m\u001b[0;34m,\u001b[0m \u001b[0msymbol\u001b[0m\u001b[0;34m,\u001b[0m \u001b[0;34m**\u001b[0m\u001b[0mflags\u001b[0m\u001b[0;34m)\u001b[0m\u001b[0;34m\u001b[0m\u001b[0m\n\u001b[0m\u001b[1;32m   1720\u001b[0m             \u001b[0;32mif\u001b[0m \u001b[0msoln\u001b[0m \u001b[0;32mis\u001b[0m \u001b[0;32mnot\u001b[0m \u001b[0;32mNone\u001b[0m\u001b[0;34m:\u001b[0m\u001b[0;34m\u001b[0m\u001b[0m\n\u001b[1;32m   1721\u001b[0m                 \u001b[0mresult\u001b[0m \u001b[0;34m=\u001b[0m \u001b[0msoln\u001b[0m\u001b[0;34m\u001b[0m\u001b[0m\n",
      "\u001b[0;32m~/anaconda3/lib/python3.6/site-packages/sympy/solvers/solvers.py\u001b[0m in \u001b[0;36m_tsolve\u001b[0;34m(eq, sym, **flags)\u001b[0m\n\u001b[1;32m   2699\u001b[0m         eq_down = expand_log(expand_power_exp(eq)).subs(\n\u001b[1;32m   2700\u001b[0m             dict(list(zip(up_or_log, [0]*len(up_or_log)))))\n\u001b[0;32m-> 2701\u001b[0;31m         \u001b[0meq\u001b[0m \u001b[0;34m=\u001b[0m \u001b[0mexpand_power_exp\u001b[0m\u001b[0;34m(\u001b[0m\u001b[0mfactor\u001b[0m\u001b[0;34m(\u001b[0m\u001b[0meq_down\u001b[0m\u001b[0;34m,\u001b[0m \u001b[0mdeep\u001b[0m\u001b[0;34m=\u001b[0m\u001b[0;32mTrue\u001b[0m\u001b[0;34m)\u001b[0m \u001b[0;34m+\u001b[0m \u001b[0;34m(\u001b[0m\u001b[0meq\u001b[0m \u001b[0;34m-\u001b[0m \u001b[0meq_down\u001b[0m\u001b[0;34m)\u001b[0m\u001b[0;34m)\u001b[0m\u001b[0;34m\u001b[0m\u001b[0m\n\u001b[0m\u001b[1;32m   2702\u001b[0m         \u001b[0mrhs\u001b[0m\u001b[0;34m,\u001b[0m \u001b[0mlhs\u001b[0m \u001b[0;34m=\u001b[0m \u001b[0m_invert\u001b[0m\u001b[0;34m(\u001b[0m\u001b[0meq\u001b[0m\u001b[0;34m,\u001b[0m \u001b[0msym\u001b[0m\u001b[0;34m)\u001b[0m\u001b[0;34m\u001b[0m\u001b[0m\n\u001b[1;32m   2703\u001b[0m         \u001b[0;32mif\u001b[0m \u001b[0mlhs\u001b[0m\u001b[0;34m.\u001b[0m\u001b[0mhas\u001b[0m\u001b[0;34m(\u001b[0m\u001b[0msym\u001b[0m\u001b[0;34m)\u001b[0m\u001b[0;34m:\u001b[0m\u001b[0;34m\u001b[0m\u001b[0m\n",
      "\u001b[0;32m~/anaconda3/lib/python3.6/site-packages/sympy/polys/polytools.py\u001b[0m in \u001b[0;36mfactor\u001b[0;34m(f, *gens, **args)\u001b[0m\n\u001b[1;32m   6318\u001b[0m         \u001b[0mmuladd\u001b[0m \u001b[0;34m=\u001b[0m \u001b[0mf\u001b[0m\u001b[0;34m.\u001b[0m\u001b[0matoms\u001b[0m\u001b[0;34m(\u001b[0m\u001b[0mMul\u001b[0m\u001b[0;34m,\u001b[0m \u001b[0mAdd\u001b[0m\u001b[0;34m)\u001b[0m\u001b[0;34m\u001b[0m\u001b[0m\n\u001b[1;32m   6319\u001b[0m         \u001b[0;32mfor\u001b[0m \u001b[0mp\u001b[0m \u001b[0;32min\u001b[0m \u001b[0mmuladd\u001b[0m\u001b[0;34m:\u001b[0m\u001b[0;34m\u001b[0m\u001b[0m\n\u001b[0;32m-> 6320\u001b[0;31m             \u001b[0mfac\u001b[0m \u001b[0;34m=\u001b[0m \u001b[0mfactor\u001b[0m\u001b[0;34m(\u001b[0m\u001b[0mp\u001b[0m\u001b[0;34m,\u001b[0m \u001b[0;34m*\u001b[0m\u001b[0mgens\u001b[0m\u001b[0;34m,\u001b[0m \u001b[0;34m**\u001b[0m\u001b[0margs\u001b[0m\u001b[0;34m)\u001b[0m\u001b[0;34m\u001b[0m\u001b[0m\n\u001b[0m\u001b[1;32m   6321\u001b[0m             \u001b[0;32mif\u001b[0m \u001b[0;34m(\u001b[0m\u001b[0mfac\u001b[0m\u001b[0;34m.\u001b[0m\u001b[0mis_Mul\u001b[0m \u001b[0;32mor\u001b[0m \u001b[0mfac\u001b[0m\u001b[0;34m.\u001b[0m\u001b[0mis_Pow\u001b[0m\u001b[0;34m)\u001b[0m \u001b[0;32mand\u001b[0m \u001b[0mfac\u001b[0m \u001b[0;34m!=\u001b[0m \u001b[0mp\u001b[0m\u001b[0;34m:\u001b[0m\u001b[0;34m\u001b[0m\u001b[0m\n\u001b[1;32m   6322\u001b[0m                 \u001b[0mpartials\u001b[0m\u001b[0;34m[\u001b[0m\u001b[0mp\u001b[0m\u001b[0;34m]\u001b[0m \u001b[0;34m=\u001b[0m \u001b[0mfac\u001b[0m\u001b[0;34m\u001b[0m\u001b[0m\n",
      "\u001b[0;32m~/anaconda3/lib/python3.6/site-packages/sympy/polys/polytools.py\u001b[0m in \u001b[0;36mfactor\u001b[0;34m(f, *gens, **args)\u001b[0m\n\u001b[1;32m   6324\u001b[0m \u001b[0;34m\u001b[0m\u001b[0m\n\u001b[1;32m   6325\u001b[0m     \u001b[0;32mtry\u001b[0m\u001b[0;34m:\u001b[0m\u001b[0;34m\u001b[0m\u001b[0m\n\u001b[0;32m-> 6326\u001b[0;31m         \u001b[0;32mreturn\u001b[0m \u001b[0m_generic_factor\u001b[0m\u001b[0;34m(\u001b[0m\u001b[0mf\u001b[0m\u001b[0;34m,\u001b[0m \u001b[0mgens\u001b[0m\u001b[0;34m,\u001b[0m \u001b[0margs\u001b[0m\u001b[0;34m,\u001b[0m \u001b[0mmethod\u001b[0m\u001b[0;34m=\u001b[0m\u001b[0;34m'factor'\u001b[0m\u001b[0;34m)\u001b[0m\u001b[0;34m\u001b[0m\u001b[0m\n\u001b[0m\u001b[1;32m   6327\u001b[0m     \u001b[0;32mexcept\u001b[0m \u001b[0mPolynomialError\u001b[0m \u001b[0;32mas\u001b[0m \u001b[0mmsg\u001b[0m\u001b[0;34m:\u001b[0m\u001b[0;34m\u001b[0m\u001b[0m\n\u001b[1;32m   6328\u001b[0m         \u001b[0;32mif\u001b[0m \u001b[0;32mnot\u001b[0m \u001b[0mf\u001b[0m\u001b[0;34m.\u001b[0m\u001b[0mis_commutative\u001b[0m\u001b[0;34m:\u001b[0m\u001b[0;34m\u001b[0m\u001b[0m\n",
      "\u001b[0;32m~/anaconda3/lib/python3.6/site-packages/sympy/polys/polytools.py\u001b[0m in \u001b[0;36m_generic_factor\u001b[0;34m(expr, gens, args, method)\u001b[0m\n\u001b[1;32m   6017\u001b[0m     \u001b[0moptions\u001b[0m\u001b[0;34m.\u001b[0m\u001b[0mallowed_flags\u001b[0m\u001b[0;34m(\u001b[0m\u001b[0margs\u001b[0m\u001b[0;34m,\u001b[0m \u001b[0;34m[\u001b[0m\u001b[0;34m]\u001b[0m\u001b[0;34m)\u001b[0m\u001b[0;34m\u001b[0m\u001b[0m\n\u001b[1;32m   6018\u001b[0m     \u001b[0mopt\u001b[0m \u001b[0;34m=\u001b[0m \u001b[0moptions\u001b[0m\u001b[0;34m.\u001b[0m\u001b[0mbuild_options\u001b[0m\u001b[0;34m(\u001b[0m\u001b[0mgens\u001b[0m\u001b[0;34m,\u001b[0m \u001b[0margs\u001b[0m\u001b[0;34m)\u001b[0m\u001b[0;34m\u001b[0m\u001b[0m\n\u001b[0;32m-> 6019\u001b[0;31m     \u001b[0;32mreturn\u001b[0m \u001b[0m_symbolic_factor\u001b[0m\u001b[0;34m(\u001b[0m\u001b[0msympify\u001b[0m\u001b[0;34m(\u001b[0m\u001b[0mexpr\u001b[0m\u001b[0;34m)\u001b[0m\u001b[0;34m,\u001b[0m \u001b[0mopt\u001b[0m\u001b[0;34m,\u001b[0m \u001b[0mmethod\u001b[0m\u001b[0;34m)\u001b[0m\u001b[0;34m\u001b[0m\u001b[0m\n\u001b[0m\u001b[1;32m   6020\u001b[0m \u001b[0;34m\u001b[0m\u001b[0m\n\u001b[1;32m   6021\u001b[0m \u001b[0;34m\u001b[0m\u001b[0m\n",
      "\u001b[0;32m~/anaconda3/lib/python3.6/site-packages/sympy/polys/polytools.py\u001b[0m in \u001b[0;36m_symbolic_factor\u001b[0;34m(expr, opt, method)\u001b[0m\n\u001b[1;32m   5962\u001b[0m         \u001b[0;32mif\u001b[0m \u001b[0mhasattr\u001b[0m\u001b[0;34m(\u001b[0m\u001b[0mexpr\u001b[0m\u001b[0;34m,\u001b[0m\u001b[0;34m'_eval_factor'\u001b[0m\u001b[0;34m)\u001b[0m\u001b[0;34m:\u001b[0m\u001b[0;34m\u001b[0m\u001b[0m\n\u001b[1;32m   5963\u001b[0m             \u001b[0;32mreturn\u001b[0m \u001b[0mexpr\u001b[0m\u001b[0;34m.\u001b[0m\u001b[0m_eval_factor\u001b[0m\u001b[0;34m(\u001b[0m\u001b[0;34m)\u001b[0m\u001b[0;34m\u001b[0m\u001b[0m\n\u001b[0;32m-> 5964\u001b[0;31m         \u001b[0mcoeff\u001b[0m\u001b[0;34m,\u001b[0m \u001b[0mfactors\u001b[0m \u001b[0;34m=\u001b[0m \u001b[0m_symbolic_factor_list\u001b[0m\u001b[0;34m(\u001b[0m\u001b[0mtogether\u001b[0m\u001b[0;34m(\u001b[0m\u001b[0mexpr\u001b[0m\u001b[0;34m)\u001b[0m\u001b[0;34m,\u001b[0m \u001b[0mopt\u001b[0m\u001b[0;34m,\u001b[0m \u001b[0mmethod\u001b[0m\u001b[0;34m)\u001b[0m\u001b[0;34m\u001b[0m\u001b[0m\n\u001b[0m\u001b[1;32m   5965\u001b[0m         \u001b[0;32mreturn\u001b[0m \u001b[0m_keep_coeff\u001b[0m\u001b[0;34m(\u001b[0m\u001b[0mcoeff\u001b[0m\u001b[0;34m,\u001b[0m \u001b[0m_factors_product\u001b[0m\u001b[0;34m(\u001b[0m\u001b[0mfactors\u001b[0m\u001b[0;34m)\u001b[0m\u001b[0;34m)\u001b[0m\u001b[0;34m\u001b[0m\u001b[0m\n\u001b[1;32m   5966\u001b[0m     \u001b[0;32melif\u001b[0m \u001b[0mhasattr\u001b[0m\u001b[0;34m(\u001b[0m\u001b[0mexpr\u001b[0m\u001b[0;34m,\u001b[0m \u001b[0;34m'args'\u001b[0m\u001b[0;34m)\u001b[0m\u001b[0;34m:\u001b[0m\u001b[0;34m\u001b[0m\u001b[0m\n",
      "\u001b[0;32m~/anaconda3/lib/python3.6/site-packages/sympy/polys/polytools.py\u001b[0m in \u001b[0;36m_symbolic_factor_list\u001b[0;34m(expr, opt, method)\u001b[0m\n\u001b[1;32m   5930\u001b[0m             \u001b[0mfunc\u001b[0m \u001b[0;34m=\u001b[0m \u001b[0mgetattr\u001b[0m\u001b[0;34m(\u001b[0m\u001b[0mpoly\u001b[0m\u001b[0;34m,\u001b[0m \u001b[0mmethod\u001b[0m \u001b[0;34m+\u001b[0m \u001b[0;34m'_list'\u001b[0m\u001b[0;34m)\u001b[0m\u001b[0;34m\u001b[0m\u001b[0m\n\u001b[1;32m   5931\u001b[0m \u001b[0;34m\u001b[0m\u001b[0m\n\u001b[0;32m-> 5932\u001b[0;31m             \u001b[0m_coeff\u001b[0m\u001b[0;34m,\u001b[0m \u001b[0m_factors\u001b[0m \u001b[0;34m=\u001b[0m \u001b[0mfunc\u001b[0m\u001b[0;34m(\u001b[0m\u001b[0;34m)\u001b[0m\u001b[0;34m\u001b[0m\u001b[0m\n\u001b[0m\u001b[1;32m   5933\u001b[0m             \u001b[0;32mif\u001b[0m \u001b[0m_coeff\u001b[0m \u001b[0;32mis\u001b[0m \u001b[0;32mnot\u001b[0m \u001b[0mS\u001b[0m\u001b[0;34m.\u001b[0m\u001b[0mOne\u001b[0m\u001b[0;34m:\u001b[0m\u001b[0;34m\u001b[0m\u001b[0m\n\u001b[1;32m   5934\u001b[0m                 \u001b[0;32mif\u001b[0m \u001b[0mexp\u001b[0m\u001b[0;34m.\u001b[0m\u001b[0mis_Integer\u001b[0m\u001b[0;34m:\u001b[0m\u001b[0;34m\u001b[0m\u001b[0m\n",
      "\u001b[0;32m~/anaconda3/lib/python3.6/site-packages/sympy/polys/polytools.py\u001b[0m in \u001b[0;36mfactor_list\u001b[0;34m(f)\u001b[0m\n\u001b[1;32m   3242\u001b[0m         \u001b[0;32mif\u001b[0m \u001b[0mhasattr\u001b[0m\u001b[0;34m(\u001b[0m\u001b[0mf\u001b[0m\u001b[0;34m.\u001b[0m\u001b[0mrep\u001b[0m\u001b[0;34m,\u001b[0m \u001b[0;34m'factor_list'\u001b[0m\u001b[0;34m)\u001b[0m\u001b[0;34m:\u001b[0m\u001b[0;34m\u001b[0m\u001b[0m\n\u001b[1;32m   3243\u001b[0m             \u001b[0;32mtry\u001b[0m\u001b[0;34m:\u001b[0m\u001b[0;34m\u001b[0m\u001b[0m\n\u001b[0;32m-> 3244\u001b[0;31m                 \u001b[0mcoeff\u001b[0m\u001b[0;34m,\u001b[0m \u001b[0mfactors\u001b[0m \u001b[0;34m=\u001b[0m \u001b[0mf\u001b[0m\u001b[0;34m.\u001b[0m\u001b[0mrep\u001b[0m\u001b[0;34m.\u001b[0m\u001b[0mfactor_list\u001b[0m\u001b[0;34m(\u001b[0m\u001b[0;34m)\u001b[0m\u001b[0;34m\u001b[0m\u001b[0m\n\u001b[0m\u001b[1;32m   3245\u001b[0m             \u001b[0;32mexcept\u001b[0m \u001b[0mDomainError\u001b[0m\u001b[0;34m:\u001b[0m\u001b[0;34m\u001b[0m\u001b[0m\n\u001b[1;32m   3246\u001b[0m                 \u001b[0;32mreturn\u001b[0m \u001b[0mS\u001b[0m\u001b[0;34m.\u001b[0m\u001b[0mOne\u001b[0m\u001b[0;34m,\u001b[0m \u001b[0;34m[\u001b[0m\u001b[0;34m(\u001b[0m\u001b[0mf\u001b[0m\u001b[0;34m,\u001b[0m \u001b[0;36m1\u001b[0m\u001b[0;34m)\u001b[0m\u001b[0;34m]\u001b[0m\u001b[0;34m\u001b[0m\u001b[0m\n",
      "\u001b[0;32m~/anaconda3/lib/python3.6/site-packages/sympy/polys/polyclasses.py\u001b[0m in \u001b[0;36mfactor_list\u001b[0;34m(f)\u001b[0m\n\u001b[1;32m    795\u001b[0m     \u001b[0;32mdef\u001b[0m \u001b[0mfactor_list\u001b[0m\u001b[0;34m(\u001b[0m\u001b[0mf\u001b[0m\u001b[0;34m)\u001b[0m\u001b[0;34m:\u001b[0m\u001b[0;34m\u001b[0m\u001b[0m\n\u001b[1;32m    796\u001b[0m         \u001b[0;34m\"\"\"Returns a list of irreducible factors of ``f``. \"\"\"\u001b[0m\u001b[0;34m\u001b[0m\u001b[0m\n\u001b[0;32m--> 797\u001b[0;31m         \u001b[0mcoeff\u001b[0m\u001b[0;34m,\u001b[0m \u001b[0mfactors\u001b[0m \u001b[0;34m=\u001b[0m \u001b[0mdmp_factor_list\u001b[0m\u001b[0;34m(\u001b[0m\u001b[0mf\u001b[0m\u001b[0;34m.\u001b[0m\u001b[0mrep\u001b[0m\u001b[0;34m,\u001b[0m \u001b[0mf\u001b[0m\u001b[0;34m.\u001b[0m\u001b[0mlev\u001b[0m\u001b[0;34m,\u001b[0m \u001b[0mf\u001b[0m\u001b[0;34m.\u001b[0m\u001b[0mdom\u001b[0m\u001b[0;34m)\u001b[0m\u001b[0;34m\u001b[0m\u001b[0m\n\u001b[0m\u001b[1;32m    798\u001b[0m         \u001b[0;32mreturn\u001b[0m \u001b[0mcoeff\u001b[0m\u001b[0;34m,\u001b[0m \u001b[0;34m[\u001b[0m \u001b[0;34m(\u001b[0m\u001b[0mf\u001b[0m\u001b[0;34m.\u001b[0m\u001b[0mper\u001b[0m\u001b[0;34m(\u001b[0m\u001b[0mg\u001b[0m\u001b[0;34m)\u001b[0m\u001b[0;34m,\u001b[0m \u001b[0mk\u001b[0m\u001b[0;34m)\u001b[0m \u001b[0;32mfor\u001b[0m \u001b[0mg\u001b[0m\u001b[0;34m,\u001b[0m \u001b[0mk\u001b[0m \u001b[0;32min\u001b[0m \u001b[0mfactors\u001b[0m \u001b[0;34m]\u001b[0m\u001b[0;34m\u001b[0m\u001b[0m\n\u001b[1;32m    799\u001b[0m \u001b[0;34m\u001b[0m\u001b[0m\n",
      "\u001b[0;32m~/anaconda3/lib/python3.6/site-packages/sympy/polys/factortools.py\u001b[0m in \u001b[0;36mdmp_factor_list\u001b[0;34m(f, u, K0)\u001b[0m\n\u001b[1;32m   1278\u001b[0m         \u001b[0;32mif\u001b[0m \u001b[0mK\u001b[0m\u001b[0;34m.\u001b[0m\u001b[0mis_ZZ\u001b[0m\u001b[0;34m:\u001b[0m\u001b[0;34m\u001b[0m\u001b[0m\n\u001b[1;32m   1279\u001b[0m             \u001b[0mlevels\u001b[0m\u001b[0;34m,\u001b[0m \u001b[0mf\u001b[0m\u001b[0;34m,\u001b[0m \u001b[0mv\u001b[0m \u001b[0;34m=\u001b[0m \u001b[0mdmp_exclude\u001b[0m\u001b[0;34m(\u001b[0m\u001b[0mf\u001b[0m\u001b[0;34m,\u001b[0m \u001b[0mu\u001b[0m\u001b[0;34m,\u001b[0m \u001b[0mK\u001b[0m\u001b[0;34m)\u001b[0m\u001b[0;34m\u001b[0m\u001b[0m\n\u001b[0;32m-> 1280\u001b[0;31m             \u001b[0mcoeff\u001b[0m\u001b[0;34m,\u001b[0m \u001b[0mfactors\u001b[0m \u001b[0;34m=\u001b[0m \u001b[0mdmp_zz_factor\u001b[0m\u001b[0;34m(\u001b[0m\u001b[0mf\u001b[0m\u001b[0;34m,\u001b[0m \u001b[0mv\u001b[0m\u001b[0;34m,\u001b[0m \u001b[0mK\u001b[0m\u001b[0;34m)\u001b[0m\u001b[0;34m\u001b[0m\u001b[0m\n\u001b[0m\u001b[1;32m   1281\u001b[0m \u001b[0;34m\u001b[0m\u001b[0m\n\u001b[1;32m   1282\u001b[0m             \u001b[0;32mfor\u001b[0m \u001b[0mi\u001b[0m\u001b[0;34m,\u001b[0m \u001b[0;34m(\u001b[0m\u001b[0mf\u001b[0m\u001b[0;34m,\u001b[0m \u001b[0mk\u001b[0m\u001b[0;34m)\u001b[0m \u001b[0;32min\u001b[0m \u001b[0menumerate\u001b[0m\u001b[0;34m(\u001b[0m\u001b[0mfactors\u001b[0m\u001b[0;34m)\u001b[0m\u001b[0;34m:\u001b[0m\u001b[0;34m\u001b[0m\u001b[0m\n",
      "\u001b[0;32m~/anaconda3/lib/python3.6/site-packages/sympy/polys/factortools.py\u001b[0m in \u001b[0;36mdmp_zz_factor\u001b[0;34m(f, u, K)\u001b[0m\n\u001b[1;32m   1089\u001b[0m     \u001b[0;32mif\u001b[0m \u001b[0mdmp_degree\u001b[0m\u001b[0;34m(\u001b[0m\u001b[0mg\u001b[0m\u001b[0;34m,\u001b[0m \u001b[0mu\u001b[0m\u001b[0;34m)\u001b[0m \u001b[0;34m>\u001b[0m \u001b[0;36m0\u001b[0m\u001b[0;34m:\u001b[0m\u001b[0;34m\u001b[0m\u001b[0m\n\u001b[1;32m   1090\u001b[0m         \u001b[0mg\u001b[0m \u001b[0;34m=\u001b[0m \u001b[0mdmp_sqf_part\u001b[0m\u001b[0;34m(\u001b[0m\u001b[0mg\u001b[0m\u001b[0;34m,\u001b[0m \u001b[0mu\u001b[0m\u001b[0;34m,\u001b[0m \u001b[0mK\u001b[0m\u001b[0;34m)\u001b[0m\u001b[0;34m\u001b[0m\u001b[0m\n\u001b[0;32m-> 1091\u001b[0;31m         \u001b[0mH\u001b[0m \u001b[0;34m=\u001b[0m \u001b[0mdmp_zz_wang\u001b[0m\u001b[0;34m(\u001b[0m\u001b[0mg\u001b[0m\u001b[0;34m,\u001b[0m \u001b[0mu\u001b[0m\u001b[0;34m,\u001b[0m \u001b[0mK\u001b[0m\u001b[0;34m)\u001b[0m\u001b[0;34m\u001b[0m\u001b[0m\n\u001b[0m\u001b[1;32m   1092\u001b[0m         \u001b[0mfactors\u001b[0m \u001b[0;34m=\u001b[0m \u001b[0mdmp_trial_division\u001b[0m\u001b[0;34m(\u001b[0m\u001b[0mf\u001b[0m\u001b[0;34m,\u001b[0m \u001b[0mH\u001b[0m\u001b[0;34m,\u001b[0m \u001b[0mu\u001b[0m\u001b[0;34m,\u001b[0m \u001b[0mK\u001b[0m\u001b[0;34m)\u001b[0m\u001b[0;34m\u001b[0m\u001b[0m\n\u001b[1;32m   1093\u001b[0m \u001b[0;34m\u001b[0m\u001b[0m\n",
      "\u001b[0;32m~/anaconda3/lib/python3.6/site-packages/sympy/polys/factortools.py\u001b[0m in \u001b[0;36mdmp_zz_wang\u001b[0;34m(f, u, K, mod, seed)\u001b[0m\n\u001b[1;32m   1012\u001b[0m     \u001b[0;32mtry\u001b[0m\u001b[0;34m:\u001b[0m\u001b[0;34m\u001b[0m\u001b[0m\n\u001b[1;32m   1013\u001b[0m         \u001b[0mf\u001b[0m\u001b[0;34m,\u001b[0m \u001b[0mH\u001b[0m\u001b[0;34m,\u001b[0m \u001b[0mLC\u001b[0m \u001b[0;34m=\u001b[0m \u001b[0mdmp_zz_wang_lead_coeffs\u001b[0m\u001b[0;34m(\u001b[0m\u001b[0mf\u001b[0m\u001b[0;34m,\u001b[0m \u001b[0mT\u001b[0m\u001b[0;34m,\u001b[0m \u001b[0mcs\u001b[0m\u001b[0;34m,\u001b[0m \u001b[0mE\u001b[0m\u001b[0;34m,\u001b[0m \u001b[0mH\u001b[0m\u001b[0;34m,\u001b[0m \u001b[0mA\u001b[0m\u001b[0;34m,\u001b[0m \u001b[0mu\u001b[0m\u001b[0;34m,\u001b[0m \u001b[0mK\u001b[0m\u001b[0;34m)\u001b[0m\u001b[0;34m\u001b[0m\u001b[0m\n\u001b[0;32m-> 1014\u001b[0;31m         \u001b[0mfactors\u001b[0m \u001b[0;34m=\u001b[0m \u001b[0mdmp_zz_wang_hensel_lifting\u001b[0m\u001b[0;34m(\u001b[0m\u001b[0mf\u001b[0m\u001b[0;34m,\u001b[0m \u001b[0mH\u001b[0m\u001b[0;34m,\u001b[0m \u001b[0mLC\u001b[0m\u001b[0;34m,\u001b[0m \u001b[0mA\u001b[0m\u001b[0;34m,\u001b[0m \u001b[0mp\u001b[0m\u001b[0;34m,\u001b[0m \u001b[0mu\u001b[0m\u001b[0;34m,\u001b[0m \u001b[0mK\u001b[0m\u001b[0;34m)\u001b[0m\u001b[0;34m\u001b[0m\u001b[0m\n\u001b[0m\u001b[1;32m   1015\u001b[0m     \u001b[0;32mexcept\u001b[0m \u001b[0mExtraneousFactors\u001b[0m\u001b[0;34m:\u001b[0m  \u001b[0;31m# pragma: no cover\u001b[0m\u001b[0;34m\u001b[0m\u001b[0m\n\u001b[1;32m   1016\u001b[0m         \u001b[0;32mif\u001b[0m \u001b[0mquery\u001b[0m\u001b[0;34m(\u001b[0m\u001b[0;34m'EEZ_RESTART_IF_NEEDED'\u001b[0m\u001b[0;34m)\u001b[0m\u001b[0;34m:\u001b[0m\u001b[0;34m\u001b[0m\u001b[0m\n",
      "\u001b[0;32m~/anaconda3/lib/python3.6/site-packages/sympy/polys/factortools.py\u001b[0m in \u001b[0;36mdmp_zz_wang_hensel_lifting\u001b[0;34m(f, H, LC, A, p, u, K)\u001b[0m\n\u001b[1;32m    876\u001b[0m             \u001b[0;32mif\u001b[0m \u001b[0;32mnot\u001b[0m \u001b[0mdmp_zero_p\u001b[0m\u001b[0;34m(\u001b[0m\u001b[0mC\u001b[0m\u001b[0;34m,\u001b[0m \u001b[0mw\u001b[0m \u001b[0;34m-\u001b[0m \u001b[0;36m1\u001b[0m\u001b[0;34m)\u001b[0m\u001b[0;34m:\u001b[0m\u001b[0;34m\u001b[0m\u001b[0m\n\u001b[1;32m    877\u001b[0m                 \u001b[0mC\u001b[0m \u001b[0;34m=\u001b[0m \u001b[0mdmp_quo_ground\u001b[0m\u001b[0;34m(\u001b[0m\u001b[0mC\u001b[0m\u001b[0;34m,\u001b[0m \u001b[0mK\u001b[0m\u001b[0;34m.\u001b[0m\u001b[0mfactorial\u001b[0m\u001b[0;34m(\u001b[0m\u001b[0mk\u001b[0m \u001b[0;34m+\u001b[0m \u001b[0;36m1\u001b[0m\u001b[0;34m)\u001b[0m\u001b[0;34m,\u001b[0m \u001b[0mw\u001b[0m \u001b[0;34m-\u001b[0m \u001b[0;36m1\u001b[0m\u001b[0;34m,\u001b[0m \u001b[0mK\u001b[0m\u001b[0;34m)\u001b[0m\u001b[0;34m\u001b[0m\u001b[0m\n\u001b[0;32m--> 878\u001b[0;31m                 \u001b[0mT\u001b[0m \u001b[0;34m=\u001b[0m \u001b[0mdmp_zz_diophantine\u001b[0m\u001b[0;34m(\u001b[0m\u001b[0mG\u001b[0m\u001b[0;34m,\u001b[0m \u001b[0mC\u001b[0m\u001b[0;34m,\u001b[0m \u001b[0mI\u001b[0m\u001b[0;34m,\u001b[0m \u001b[0md\u001b[0m\u001b[0;34m,\u001b[0m \u001b[0mp\u001b[0m\u001b[0;34m,\u001b[0m \u001b[0mw\u001b[0m \u001b[0;34m-\u001b[0m \u001b[0;36m1\u001b[0m\u001b[0;34m,\u001b[0m \u001b[0mK\u001b[0m\u001b[0;34m)\u001b[0m\u001b[0;34m\u001b[0m\u001b[0m\n\u001b[0m\u001b[1;32m    879\u001b[0m \u001b[0;34m\u001b[0m\u001b[0m\n\u001b[1;32m    880\u001b[0m                 \u001b[0;32mfor\u001b[0m \u001b[0mi\u001b[0m\u001b[0;34m,\u001b[0m \u001b[0;34m(\u001b[0m\u001b[0mh\u001b[0m\u001b[0;34m,\u001b[0m \u001b[0mt\u001b[0m\u001b[0;34m)\u001b[0m \u001b[0;32min\u001b[0m \u001b[0menumerate\u001b[0m\u001b[0;34m(\u001b[0m\u001b[0mzip\u001b[0m\u001b[0;34m(\u001b[0m\u001b[0mH\u001b[0m\u001b[0;34m,\u001b[0m \u001b[0mT\u001b[0m\u001b[0;34m)\u001b[0m\u001b[0;34m)\u001b[0m\u001b[0;34m:\u001b[0m\u001b[0;34m\u001b[0m\u001b[0m\n",
      "\u001b[0;32m~/anaconda3/lib/python3.6/site-packages/sympy/polys/factortools.py\u001b[0m in \u001b[0;36mdmp_zz_diophantine\u001b[0;34m(F, c, A, d, p, u, K)\u001b[0m\n\u001b[1;32m    794\u001b[0m \u001b[0;34m\u001b[0m\u001b[0m\n\u001b[1;32m    795\u001b[0m         \u001b[0;32mfor\u001b[0m \u001b[0mf\u001b[0m \u001b[0;32min\u001b[0m \u001b[0mF\u001b[0m\u001b[0;34m:\u001b[0m\u001b[0;34m\u001b[0m\u001b[0m\n\u001b[0;32m--> 796\u001b[0;31m             \u001b[0mB\u001b[0m\u001b[0;34m.\u001b[0m\u001b[0mappend\u001b[0m\u001b[0;34m(\u001b[0m\u001b[0mdmp_quo\u001b[0m\u001b[0;34m(\u001b[0m\u001b[0me\u001b[0m\u001b[0;34m,\u001b[0m \u001b[0mf\u001b[0m\u001b[0;34m,\u001b[0m \u001b[0mu\u001b[0m\u001b[0;34m,\u001b[0m \u001b[0mK\u001b[0m\u001b[0;34m)\u001b[0m\u001b[0;34m)\u001b[0m\u001b[0;34m\u001b[0m\u001b[0m\n\u001b[0m\u001b[1;32m    797\u001b[0m             \u001b[0mG\u001b[0m\u001b[0;34m.\u001b[0m\u001b[0mappend\u001b[0m\u001b[0;34m(\u001b[0m\u001b[0mdmp_eval_in\u001b[0m\u001b[0;34m(\u001b[0m\u001b[0mf\u001b[0m\u001b[0;34m,\u001b[0m \u001b[0ma\u001b[0m\u001b[0;34m,\u001b[0m \u001b[0mn\u001b[0m\u001b[0;34m,\u001b[0m \u001b[0mu\u001b[0m\u001b[0;34m,\u001b[0m \u001b[0mK\u001b[0m\u001b[0;34m)\u001b[0m\u001b[0;34m)\u001b[0m\u001b[0;34m\u001b[0m\u001b[0m\n\u001b[1;32m    798\u001b[0m \u001b[0;34m\u001b[0m\u001b[0m\n",
      "\u001b[0;32m~/anaconda3/lib/python3.6/site-packages/sympy/polys/densearith.py\u001b[0m in \u001b[0;36mdmp_quo\u001b[0;34m(f, g, u, K)\u001b[0m\n\u001b[1;32m   1666\u001b[0m \u001b[0;34m\u001b[0m\u001b[0m\n\u001b[1;32m   1667\u001b[0m     \"\"\"\n\u001b[0;32m-> 1668\u001b[0;31m     \u001b[0;32mreturn\u001b[0m \u001b[0mdmp_div\u001b[0m\u001b[0;34m(\u001b[0m\u001b[0mf\u001b[0m\u001b[0;34m,\u001b[0m \u001b[0mg\u001b[0m\u001b[0;34m,\u001b[0m \u001b[0mu\u001b[0m\u001b[0;34m,\u001b[0m \u001b[0mK\u001b[0m\u001b[0;34m)\u001b[0m\u001b[0;34m[\u001b[0m\u001b[0;36m0\u001b[0m\u001b[0;34m]\u001b[0m\u001b[0;34m\u001b[0m\u001b[0m\n\u001b[0m\u001b[1;32m   1669\u001b[0m \u001b[0;34m\u001b[0m\u001b[0m\n\u001b[1;32m   1670\u001b[0m \u001b[0;34m\u001b[0m\u001b[0m\n",
      "\u001b[0;32m~/anaconda3/lib/python3.6/site-packages/sympy/polys/densearith.py\u001b[0m in \u001b[0;36mdmp_div\u001b[0;34m(f, g, u, K)\u001b[0m\n\u001b[1;32m   1624\u001b[0m         \u001b[0;32mreturn\u001b[0m \u001b[0mdmp_ff_div\u001b[0m\u001b[0;34m(\u001b[0m\u001b[0mf\u001b[0m\u001b[0;34m,\u001b[0m \u001b[0mg\u001b[0m\u001b[0;34m,\u001b[0m \u001b[0mu\u001b[0m\u001b[0;34m,\u001b[0m \u001b[0mK\u001b[0m\u001b[0;34m)\u001b[0m\u001b[0;34m\u001b[0m\u001b[0m\n\u001b[1;32m   1625\u001b[0m     \u001b[0;32melse\u001b[0m\u001b[0;34m:\u001b[0m\u001b[0;34m\u001b[0m\u001b[0m\n\u001b[0;32m-> 1626\u001b[0;31m         \u001b[0;32mreturn\u001b[0m \u001b[0mdmp_rr_div\u001b[0m\u001b[0;34m(\u001b[0m\u001b[0mf\u001b[0m\u001b[0;34m,\u001b[0m \u001b[0mg\u001b[0m\u001b[0;34m,\u001b[0m \u001b[0mu\u001b[0m\u001b[0;34m,\u001b[0m \u001b[0mK\u001b[0m\u001b[0;34m)\u001b[0m\u001b[0;34m\u001b[0m\u001b[0m\n\u001b[0m\u001b[1;32m   1627\u001b[0m \u001b[0;34m\u001b[0m\u001b[0m\n\u001b[1;32m   1628\u001b[0m \u001b[0;34m\u001b[0m\u001b[0m\n",
      "\u001b[0;32m~/anaconda3/lib/python3.6/site-packages/sympy/polys/densearith.py\u001b[0m in \u001b[0;36mdmp_rr_div\u001b[0;34m(f, g, u, K)\u001b[0m\n\u001b[1;32m   1398\u001b[0m \u001b[0;34m\u001b[0m\u001b[0m\n\u001b[1;32m   1399\u001b[0m         \u001b[0mq\u001b[0m \u001b[0;34m=\u001b[0m \u001b[0mdmp_add_term\u001b[0m\u001b[0;34m(\u001b[0m\u001b[0mq\u001b[0m\u001b[0;34m,\u001b[0m \u001b[0mc\u001b[0m\u001b[0;34m,\u001b[0m \u001b[0mj\u001b[0m\u001b[0;34m,\u001b[0m \u001b[0mu\u001b[0m\u001b[0;34m,\u001b[0m \u001b[0mK\u001b[0m\u001b[0;34m)\u001b[0m\u001b[0;34m\u001b[0m\u001b[0m\n\u001b[0;32m-> 1400\u001b[0;31m         \u001b[0mh\u001b[0m \u001b[0;34m=\u001b[0m \u001b[0mdmp_mul_term\u001b[0m\u001b[0;34m(\u001b[0m\u001b[0mg\u001b[0m\u001b[0;34m,\u001b[0m \u001b[0mc\u001b[0m\u001b[0;34m,\u001b[0m \u001b[0mj\u001b[0m\u001b[0;34m,\u001b[0m \u001b[0mu\u001b[0m\u001b[0;34m,\u001b[0m \u001b[0mK\u001b[0m\u001b[0;34m)\u001b[0m\u001b[0;34m\u001b[0m\u001b[0m\n\u001b[0m\u001b[1;32m   1401\u001b[0m         \u001b[0mr\u001b[0m \u001b[0;34m=\u001b[0m \u001b[0mdmp_sub\u001b[0m\u001b[0;34m(\u001b[0m\u001b[0mr\u001b[0m\u001b[0;34m,\u001b[0m \u001b[0mh\u001b[0m\u001b[0;34m,\u001b[0m \u001b[0mu\u001b[0m\u001b[0;34m,\u001b[0m \u001b[0mK\u001b[0m\u001b[0;34m)\u001b[0m\u001b[0;34m\u001b[0m\u001b[0m\n\u001b[1;32m   1402\u001b[0m \u001b[0;34m\u001b[0m\u001b[0m\n",
      "\u001b[0;32m~/anaconda3/lib/python3.6/site-packages/sympy/polys/densearith.py\u001b[0m in \u001b[0;36mdmp_mul_term\u001b[0;34m(f, c, i, u, K)\u001b[0m\n\u001b[1;32m    185\u001b[0m         \u001b[0;32mreturn\u001b[0m \u001b[0mdmp_zero\u001b[0m\u001b[0;34m(\u001b[0m\u001b[0mu\u001b[0m\u001b[0;34m)\u001b[0m\u001b[0;34m\u001b[0m\u001b[0m\n\u001b[1;32m    186\u001b[0m     \u001b[0;32melse\u001b[0m\u001b[0;34m:\u001b[0m\u001b[0;34m\u001b[0m\u001b[0m\n\u001b[0;32m--> 187\u001b[0;31m         \u001b[0;32mreturn\u001b[0m \u001b[0;34m[\u001b[0m \u001b[0mdmp_mul\u001b[0m\u001b[0;34m(\u001b[0m\u001b[0mcf\u001b[0m\u001b[0;34m,\u001b[0m \u001b[0mc\u001b[0m\u001b[0;34m,\u001b[0m \u001b[0mv\u001b[0m\u001b[0;34m,\u001b[0m \u001b[0mK\u001b[0m\u001b[0;34m)\u001b[0m \u001b[0;32mfor\u001b[0m \u001b[0mcf\u001b[0m \u001b[0;32min\u001b[0m \u001b[0mf\u001b[0m \u001b[0;34m]\u001b[0m \u001b[0;34m+\u001b[0m \u001b[0mdmp_zeros\u001b[0m\u001b[0;34m(\u001b[0m\u001b[0mi\u001b[0m\u001b[0;34m,\u001b[0m \u001b[0mv\u001b[0m\u001b[0;34m,\u001b[0m \u001b[0mK\u001b[0m\u001b[0;34m)\u001b[0m\u001b[0;34m\u001b[0m\u001b[0m\n\u001b[0m\u001b[1;32m    188\u001b[0m \u001b[0;34m\u001b[0m\u001b[0m\n\u001b[1;32m    189\u001b[0m \u001b[0;34m\u001b[0m\u001b[0m\n",
      "\u001b[0;32m~/anaconda3/lib/python3.6/site-packages/sympy/polys/densearith.py\u001b[0m in \u001b[0;36m<listcomp>\u001b[0;34m(.0)\u001b[0m\n\u001b[1;32m    185\u001b[0m         \u001b[0;32mreturn\u001b[0m \u001b[0mdmp_zero\u001b[0m\u001b[0;34m(\u001b[0m\u001b[0mu\u001b[0m\u001b[0;34m)\u001b[0m\u001b[0;34m\u001b[0m\u001b[0m\n\u001b[1;32m    186\u001b[0m     \u001b[0;32melse\u001b[0m\u001b[0;34m:\u001b[0m\u001b[0;34m\u001b[0m\u001b[0m\n\u001b[0;32m--> 187\u001b[0;31m         \u001b[0;32mreturn\u001b[0m \u001b[0;34m[\u001b[0m \u001b[0mdmp_mul\u001b[0m\u001b[0;34m(\u001b[0m\u001b[0mcf\u001b[0m\u001b[0;34m,\u001b[0m \u001b[0mc\u001b[0m\u001b[0;34m,\u001b[0m \u001b[0mv\u001b[0m\u001b[0;34m,\u001b[0m \u001b[0mK\u001b[0m\u001b[0;34m)\u001b[0m \u001b[0;32mfor\u001b[0m \u001b[0mcf\u001b[0m \u001b[0;32min\u001b[0m \u001b[0mf\u001b[0m \u001b[0;34m]\u001b[0m \u001b[0;34m+\u001b[0m \u001b[0mdmp_zeros\u001b[0m\u001b[0;34m(\u001b[0m\u001b[0mi\u001b[0m\u001b[0;34m,\u001b[0m \u001b[0mv\u001b[0m\u001b[0;34m,\u001b[0m \u001b[0mK\u001b[0m\u001b[0;34m)\u001b[0m\u001b[0;34m\u001b[0m\u001b[0m\n\u001b[0m\u001b[1;32m    188\u001b[0m \u001b[0;34m\u001b[0m\u001b[0m\n\u001b[1;32m    189\u001b[0m \u001b[0;34m\u001b[0m\u001b[0m\n",
      "\u001b[0;32m~/anaconda3/lib/python3.6/site-packages/sympy/polys/densearith.py\u001b[0m in \u001b[0;36mdmp_mul\u001b[0;34m(f, g, u, K)\u001b[0m\n\u001b[1;32m    829\u001b[0m \u001b[0;34m\u001b[0m\u001b[0m\n\u001b[1;32m    830\u001b[0m         \u001b[0;32mfor\u001b[0m \u001b[0mj\u001b[0m \u001b[0;32min\u001b[0m \u001b[0mrange\u001b[0m\u001b[0;34m(\u001b[0m\u001b[0mmax\u001b[0m\u001b[0;34m(\u001b[0m\u001b[0;36m0\u001b[0m\u001b[0;34m,\u001b[0m \u001b[0mi\u001b[0m \u001b[0;34m-\u001b[0m \u001b[0mdg\u001b[0m\u001b[0;34m)\u001b[0m\u001b[0;34m,\u001b[0m \u001b[0mmin\u001b[0m\u001b[0;34m(\u001b[0m\u001b[0mdf\u001b[0m\u001b[0;34m,\u001b[0m \u001b[0mi\u001b[0m\u001b[0;34m)\u001b[0m \u001b[0;34m+\u001b[0m \u001b[0;36m1\u001b[0m\u001b[0;34m)\u001b[0m\u001b[0;34m:\u001b[0m\u001b[0;34m\u001b[0m\u001b[0m\n\u001b[0;32m--> 831\u001b[0;31m             \u001b[0mcoeff\u001b[0m \u001b[0;34m=\u001b[0m \u001b[0mdmp_add\u001b[0m\u001b[0;34m(\u001b[0m\u001b[0mcoeff\u001b[0m\u001b[0;34m,\u001b[0m \u001b[0mdmp_mul\u001b[0m\u001b[0;34m(\u001b[0m\u001b[0mf\u001b[0m\u001b[0;34m[\u001b[0m\u001b[0mj\u001b[0m\u001b[0;34m]\u001b[0m\u001b[0;34m,\u001b[0m \u001b[0mg\u001b[0m\u001b[0;34m[\u001b[0m\u001b[0mi\u001b[0m \u001b[0;34m-\u001b[0m \u001b[0mj\u001b[0m\u001b[0;34m]\u001b[0m\u001b[0;34m,\u001b[0m \u001b[0mv\u001b[0m\u001b[0;34m,\u001b[0m \u001b[0mK\u001b[0m\u001b[0;34m)\u001b[0m\u001b[0;34m,\u001b[0m \u001b[0mv\u001b[0m\u001b[0;34m,\u001b[0m \u001b[0mK\u001b[0m\u001b[0;34m)\u001b[0m\u001b[0;34m\u001b[0m\u001b[0m\n\u001b[0m\u001b[1;32m    832\u001b[0m \u001b[0;34m\u001b[0m\u001b[0m\n\u001b[1;32m    833\u001b[0m         \u001b[0mh\u001b[0m\u001b[0;34m.\u001b[0m\u001b[0mappend\u001b[0m\u001b[0;34m(\u001b[0m\u001b[0mcoeff\u001b[0m\u001b[0;34m)\u001b[0m\u001b[0;34m\u001b[0m\u001b[0m\n",
      "\u001b[0;32m~/anaconda3/lib/python3.6/site-packages/sympy/polys/densearith.py\u001b[0m in \u001b[0;36mdmp_mul\u001b[0;34m(f, g, u, K)\u001b[0m\n\u001b[1;32m    829\u001b[0m \u001b[0;34m\u001b[0m\u001b[0m\n\u001b[1;32m    830\u001b[0m         \u001b[0;32mfor\u001b[0m \u001b[0mj\u001b[0m \u001b[0;32min\u001b[0m \u001b[0mrange\u001b[0m\u001b[0;34m(\u001b[0m\u001b[0mmax\u001b[0m\u001b[0;34m(\u001b[0m\u001b[0;36m0\u001b[0m\u001b[0;34m,\u001b[0m \u001b[0mi\u001b[0m \u001b[0;34m-\u001b[0m \u001b[0mdg\u001b[0m\u001b[0;34m)\u001b[0m\u001b[0;34m,\u001b[0m \u001b[0mmin\u001b[0m\u001b[0;34m(\u001b[0m\u001b[0mdf\u001b[0m\u001b[0;34m,\u001b[0m \u001b[0mi\u001b[0m\u001b[0;34m)\u001b[0m \u001b[0;34m+\u001b[0m \u001b[0;36m1\u001b[0m\u001b[0;34m)\u001b[0m\u001b[0;34m:\u001b[0m\u001b[0;34m\u001b[0m\u001b[0m\n\u001b[0;32m--> 831\u001b[0;31m             \u001b[0mcoeff\u001b[0m \u001b[0;34m=\u001b[0m \u001b[0mdmp_add\u001b[0m\u001b[0;34m(\u001b[0m\u001b[0mcoeff\u001b[0m\u001b[0;34m,\u001b[0m \u001b[0mdmp_mul\u001b[0m\u001b[0;34m(\u001b[0m\u001b[0mf\u001b[0m\u001b[0;34m[\u001b[0m\u001b[0mj\u001b[0m\u001b[0;34m]\u001b[0m\u001b[0;34m,\u001b[0m \u001b[0mg\u001b[0m\u001b[0;34m[\u001b[0m\u001b[0mi\u001b[0m \u001b[0;34m-\u001b[0m \u001b[0mj\u001b[0m\u001b[0;34m]\u001b[0m\u001b[0;34m,\u001b[0m \u001b[0mv\u001b[0m\u001b[0;34m,\u001b[0m \u001b[0mK\u001b[0m\u001b[0;34m)\u001b[0m\u001b[0;34m,\u001b[0m \u001b[0mv\u001b[0m\u001b[0;34m,\u001b[0m \u001b[0mK\u001b[0m\u001b[0;34m)\u001b[0m\u001b[0;34m\u001b[0m\u001b[0m\n\u001b[0m\u001b[1;32m    832\u001b[0m \u001b[0;34m\u001b[0m\u001b[0m\n\u001b[1;32m    833\u001b[0m         \u001b[0mh\u001b[0m\u001b[0;34m.\u001b[0m\u001b[0mappend\u001b[0m\u001b[0;34m(\u001b[0m\u001b[0mcoeff\u001b[0m\u001b[0;34m)\u001b[0m\u001b[0;34m\u001b[0m\u001b[0m\n",
      "\u001b[0;32m~/anaconda3/lib/python3.6/site-packages/sympy/polys/densearith.py\u001b[0m in \u001b[0;36mdmp_mul\u001b[0;34m(f, g, u, K)\u001b[0m\n\u001b[1;32m    829\u001b[0m \u001b[0;34m\u001b[0m\u001b[0m\n\u001b[1;32m    830\u001b[0m         \u001b[0;32mfor\u001b[0m \u001b[0mj\u001b[0m \u001b[0;32min\u001b[0m \u001b[0mrange\u001b[0m\u001b[0;34m(\u001b[0m\u001b[0mmax\u001b[0m\u001b[0;34m(\u001b[0m\u001b[0;36m0\u001b[0m\u001b[0;34m,\u001b[0m \u001b[0mi\u001b[0m \u001b[0;34m-\u001b[0m \u001b[0mdg\u001b[0m\u001b[0;34m)\u001b[0m\u001b[0;34m,\u001b[0m \u001b[0mmin\u001b[0m\u001b[0;34m(\u001b[0m\u001b[0mdf\u001b[0m\u001b[0;34m,\u001b[0m \u001b[0mi\u001b[0m\u001b[0;34m)\u001b[0m \u001b[0;34m+\u001b[0m \u001b[0;36m1\u001b[0m\u001b[0;34m)\u001b[0m\u001b[0;34m:\u001b[0m\u001b[0;34m\u001b[0m\u001b[0m\n\u001b[0;32m--> 831\u001b[0;31m             \u001b[0mcoeff\u001b[0m \u001b[0;34m=\u001b[0m \u001b[0mdmp_add\u001b[0m\u001b[0;34m(\u001b[0m\u001b[0mcoeff\u001b[0m\u001b[0;34m,\u001b[0m \u001b[0mdmp_mul\u001b[0m\u001b[0;34m(\u001b[0m\u001b[0mf\u001b[0m\u001b[0;34m[\u001b[0m\u001b[0mj\u001b[0m\u001b[0;34m]\u001b[0m\u001b[0;34m,\u001b[0m \u001b[0mg\u001b[0m\u001b[0;34m[\u001b[0m\u001b[0mi\u001b[0m \u001b[0;34m-\u001b[0m \u001b[0mj\u001b[0m\u001b[0;34m]\u001b[0m\u001b[0;34m,\u001b[0m \u001b[0mv\u001b[0m\u001b[0;34m,\u001b[0m \u001b[0mK\u001b[0m\u001b[0;34m)\u001b[0m\u001b[0;34m,\u001b[0m \u001b[0mv\u001b[0m\u001b[0;34m,\u001b[0m \u001b[0mK\u001b[0m\u001b[0;34m)\u001b[0m\u001b[0;34m\u001b[0m\u001b[0m\n\u001b[0m\u001b[1;32m    832\u001b[0m \u001b[0;34m\u001b[0m\u001b[0m\n\u001b[1;32m    833\u001b[0m         \u001b[0mh\u001b[0m\u001b[0;34m.\u001b[0m\u001b[0mappend\u001b[0m\u001b[0;34m(\u001b[0m\u001b[0mcoeff\u001b[0m\u001b[0;34m)\u001b[0m\u001b[0;34m\u001b[0m\u001b[0m\n",
      "\u001b[0;32m~/anaconda3/lib/python3.6/site-packages/sympy/polys/densearith.py\u001b[0m in \u001b[0;36mdmp_mul\u001b[0;34m(f, g, u, K)\u001b[0m\n\u001b[1;32m    829\u001b[0m \u001b[0;34m\u001b[0m\u001b[0m\n\u001b[1;32m    830\u001b[0m         \u001b[0;32mfor\u001b[0m \u001b[0mj\u001b[0m \u001b[0;32min\u001b[0m \u001b[0mrange\u001b[0m\u001b[0;34m(\u001b[0m\u001b[0mmax\u001b[0m\u001b[0;34m(\u001b[0m\u001b[0;36m0\u001b[0m\u001b[0;34m,\u001b[0m \u001b[0mi\u001b[0m \u001b[0;34m-\u001b[0m \u001b[0mdg\u001b[0m\u001b[0;34m)\u001b[0m\u001b[0;34m,\u001b[0m \u001b[0mmin\u001b[0m\u001b[0;34m(\u001b[0m\u001b[0mdf\u001b[0m\u001b[0;34m,\u001b[0m \u001b[0mi\u001b[0m\u001b[0;34m)\u001b[0m \u001b[0;34m+\u001b[0m \u001b[0;36m1\u001b[0m\u001b[0;34m)\u001b[0m\u001b[0;34m:\u001b[0m\u001b[0;34m\u001b[0m\u001b[0m\n\u001b[0;32m--> 831\u001b[0;31m             \u001b[0mcoeff\u001b[0m \u001b[0;34m=\u001b[0m \u001b[0mdmp_add\u001b[0m\u001b[0;34m(\u001b[0m\u001b[0mcoeff\u001b[0m\u001b[0;34m,\u001b[0m \u001b[0mdmp_mul\u001b[0m\u001b[0;34m(\u001b[0m\u001b[0mf\u001b[0m\u001b[0;34m[\u001b[0m\u001b[0mj\u001b[0m\u001b[0;34m]\u001b[0m\u001b[0;34m,\u001b[0m \u001b[0mg\u001b[0m\u001b[0;34m[\u001b[0m\u001b[0mi\u001b[0m \u001b[0;34m-\u001b[0m \u001b[0mj\u001b[0m\u001b[0;34m]\u001b[0m\u001b[0;34m,\u001b[0m \u001b[0mv\u001b[0m\u001b[0;34m,\u001b[0m \u001b[0mK\u001b[0m\u001b[0;34m)\u001b[0m\u001b[0;34m,\u001b[0m \u001b[0mv\u001b[0m\u001b[0;34m,\u001b[0m \u001b[0mK\u001b[0m\u001b[0;34m)\u001b[0m\u001b[0;34m\u001b[0m\u001b[0m\n\u001b[0m\u001b[1;32m    832\u001b[0m \u001b[0;34m\u001b[0m\u001b[0m\n\u001b[1;32m    833\u001b[0m         \u001b[0mh\u001b[0m\u001b[0;34m.\u001b[0m\u001b[0mappend\u001b[0m\u001b[0;34m(\u001b[0m\u001b[0mcoeff\u001b[0m\u001b[0;34m)\u001b[0m\u001b[0;34m\u001b[0m\u001b[0m\n",
      "\u001b[0;32m~/anaconda3/lib/python3.6/site-packages/sympy/polys/densearith.py\u001b[0m in \u001b[0;36mdmp_mul\u001b[0;34m(f, g, u, K)\u001b[0m\n\u001b[1;32m    829\u001b[0m \u001b[0;34m\u001b[0m\u001b[0m\n\u001b[1;32m    830\u001b[0m         \u001b[0;32mfor\u001b[0m \u001b[0mj\u001b[0m \u001b[0;32min\u001b[0m \u001b[0mrange\u001b[0m\u001b[0;34m(\u001b[0m\u001b[0mmax\u001b[0m\u001b[0;34m(\u001b[0m\u001b[0;36m0\u001b[0m\u001b[0;34m,\u001b[0m \u001b[0mi\u001b[0m \u001b[0;34m-\u001b[0m \u001b[0mdg\u001b[0m\u001b[0;34m)\u001b[0m\u001b[0;34m,\u001b[0m \u001b[0mmin\u001b[0m\u001b[0;34m(\u001b[0m\u001b[0mdf\u001b[0m\u001b[0;34m,\u001b[0m \u001b[0mi\u001b[0m\u001b[0;34m)\u001b[0m \u001b[0;34m+\u001b[0m \u001b[0;36m1\u001b[0m\u001b[0;34m)\u001b[0m\u001b[0;34m:\u001b[0m\u001b[0;34m\u001b[0m\u001b[0m\n\u001b[0;32m--> 831\u001b[0;31m             \u001b[0mcoeff\u001b[0m \u001b[0;34m=\u001b[0m \u001b[0mdmp_add\u001b[0m\u001b[0;34m(\u001b[0m\u001b[0mcoeff\u001b[0m\u001b[0;34m,\u001b[0m \u001b[0mdmp_mul\u001b[0m\u001b[0;34m(\u001b[0m\u001b[0mf\u001b[0m\u001b[0;34m[\u001b[0m\u001b[0mj\u001b[0m\u001b[0;34m]\u001b[0m\u001b[0;34m,\u001b[0m \u001b[0mg\u001b[0m\u001b[0;34m[\u001b[0m\u001b[0mi\u001b[0m \u001b[0;34m-\u001b[0m \u001b[0mj\u001b[0m\u001b[0;34m]\u001b[0m\u001b[0;34m,\u001b[0m \u001b[0mv\u001b[0m\u001b[0;34m,\u001b[0m \u001b[0mK\u001b[0m\u001b[0;34m)\u001b[0m\u001b[0;34m,\u001b[0m \u001b[0mv\u001b[0m\u001b[0;34m,\u001b[0m \u001b[0mK\u001b[0m\u001b[0;34m)\u001b[0m\u001b[0;34m\u001b[0m\u001b[0m\n\u001b[0m\u001b[1;32m    832\u001b[0m \u001b[0;34m\u001b[0m\u001b[0m\n\u001b[1;32m    833\u001b[0m         \u001b[0mh\u001b[0m\u001b[0;34m.\u001b[0m\u001b[0mappend\u001b[0m\u001b[0;34m(\u001b[0m\u001b[0mcoeff\u001b[0m\u001b[0;34m)\u001b[0m\u001b[0;34m\u001b[0m\u001b[0m\n",
      "\u001b[0;32m~/anaconda3/lib/python3.6/site-packages/sympy/polys/densearith.py\u001b[0m in \u001b[0;36mdmp_mul\u001b[0;34m(f, g, u, K)\u001b[0m\n\u001b[1;32m    793\u001b[0m \u001b[0;34m\u001b[0m\u001b[0m\n\u001b[1;32m    794\u001b[0m \u001b[0;34m\u001b[0m\u001b[0m\n\u001b[0;32m--> 795\u001b[0;31m \u001b[0;32mdef\u001b[0m \u001b[0mdmp_mul\u001b[0m\u001b[0;34m(\u001b[0m\u001b[0mf\u001b[0m\u001b[0;34m,\u001b[0m \u001b[0mg\u001b[0m\u001b[0;34m,\u001b[0m \u001b[0mu\u001b[0m\u001b[0;34m,\u001b[0m \u001b[0mK\u001b[0m\u001b[0;34m)\u001b[0m\u001b[0;34m:\u001b[0m\u001b[0;34m\u001b[0m\u001b[0m\n\u001b[0m\u001b[1;32m    796\u001b[0m     \"\"\"\n\u001b[1;32m    797\u001b[0m     \u001b[0mMultiply\u001b[0m \u001b[0mdense\u001b[0m \u001b[0mpolynomials\u001b[0m \u001b[0;32min\u001b[0m\u001b[0;31m \u001b[0m\u001b[0;31m`\u001b[0m\u001b[0;31m`\u001b[0m\u001b[0mK\u001b[0m\u001b[0;34m[\u001b[0m\u001b[0mX\u001b[0m\u001b[0;34m]\u001b[0m\u001b[0;31m`\u001b[0m\u001b[0;31m`\u001b[0m\u001b[0;34m.\u001b[0m\u001b[0;34m\u001b[0m\u001b[0m\n",
      "\u001b[0;31mKeyboardInterrupt\u001b[0m: "
     ]
    }
   ],
   "source": [
    "x1_star, = sym.solve(f1.subs({U(x1): U_star}), x1)\n",
    "sym.factor(x1_star, U_star, epsilon)"
   ]
  },
  {
   "cell_type": "markdown",
   "metadata": {},
   "source": [
    "$$ L(x_1^*; U^*) = x_1^* - \\Bigg(\\frac{1}{(1 + 2\\epsilon)}\\frac{(U^{*2}\\epsilon(2P - 2T) + U^{*2}(R - S) + U^*\\epsilon(2M - 4P + 2T) + U^*(-M + S) + \\epsilon(-2M + 2P))}{((-M + P + U^{*2}(P + R - S - T) + U^*(-2P + S + T)))}\\Bigg) $$"
   ]
  },
  {
   "cell_type": "markdown",
   "metadata": {},
   "source": [
    "Setting the equation of motion equal to zero, rearranging the resulting equation yields the locus of potential equilibria (LPE). The LPE represents, for each possible $x_1$, the value that $U_{GA}$ would have to take in order for that $x_1$ to be an equilbrium. \n",
    "\n",
    "\\begin{align}\n",
    "  L(x^*) \\equiv x_1^* - 2\\left(\\frac{\\big(R - S\\big)U_{GA}^{*2} + \\big(S - M\\big)U_{GA}^*}{N(U_{GA}^*)}\\right) = 0\\\\\n",
    "\\end{align}\n",
    "\n",
    "We already know that $x_1^*=0, U_{GA}^*=0$ and $x_1^*=1, U_{GA}^*=1$ are equilibria, so it follows that $L(0)=0$ and $L(1)=0$.\n"
   ]
  },
  {
   "cell_type": "markdown",
   "metadata": {},
   "source": [
    "Differentiate $x_1^*$ with respect to $U_{GA}^*$ yields an expression that will be useful for assessing stability and invadability of an equilibrium."
   ]
  },
  {
   "cell_type": "code",
   "execution_count": 20,
   "metadata": {},
   "outputs": [],
   "source": [
    "dx1star_dUGA_star = sym.factor(sym.cancel(sym.diff(x1_star, UGA_star, 1)))"
   ]
  },
  {
   "cell_type": "code",
   "execution_count": 21,
   "metadata": {},
   "outputs": [
    {
     "data": {
      "text/plain": [
       "-0.5*(1.0*epsilon - 0.5)*(0.5*M**2 + 0.5*M*P*UGA_star**2 - 0.5*M*P + 0.5*M*R*UGA_star**2 - 1.0*M*R*UGA_star - 0.5*M*S*UGA_star**2 + 1.0*M*S*UGA_star - 0.5*M*S - 0.5*M*T*UGA_star**2 - 1.0*P*R*UGA_star**2 + 1.0*P*R*UGA_star + 0.5*P*S*UGA_star**2 - 1.0*P*S*UGA_star + 0.5*P*S + 0.5*R*T*UGA_star**2)/((1.0*epsilon + 0.5)*(0.5*M - 0.5*P*UGA_star**2 + 1.0*P*UGA_star - 0.5*P - 0.5*R*UGA_star**2 + 0.5*S*UGA_star**2 - 0.5*S*UGA_star + 0.5*T*UGA_star**2 - 0.5*T*UGA_star)**2)"
      ]
     },
     "execution_count": 21,
     "metadata": {},
     "output_type": "execute_result"
    }
   ],
   "source": [
    "dx1star_dUGA_star"
   ]
  },
  {
   "cell_type": "markdown",
   "metadata": {},
   "source": [
    "Substituting the equilibrium value for $U_{GA}^*$ that maximizes total offspring, $\\bar{U}_{GA}^*$, into the expression for $x_1^*$ we can find the equilibrium value of $x_1^*$ that maximizes total offspring.\n",
    "\n",
    "\\begin{align}\n",
    "   % \\frac{(P - \\frac{1}{2}S - \\frac{1}{2}T)(PR + \\frac{1}{2}RS - \\frac{1}{2}RT - \\frac{1}{2}S^2 - \\frac{1}{2}ST)}{((\\frac{1}{2}P + \\frac{1}{2}R - \\frac{1}{2}S - \\frac{1}{2}T)(2PR - \\frac{1}{2}S^2 - ST - \\frac{1}{2}T^2))} \\\\\n",
    "   % \\frac{\\big(2P - (T + S)\\big)(PR + \\frac{1}{2}RS - \\frac{1}{2}RT - \\frac{1}{2}S^2 - \\frac{1}{2}ST)}{\\big((R + P) - (T + S)\\big)(2PR - \\frac{1}{2}S^2 - ST - \\frac{1}{2}T^2)} \\\\\n",
    "   % \\frac{\\big(2P - (T + S)\\big)\\big(2PR + RS - RT - S^2 - ST\\big)}{\\big((R + P) - (T + S)\\big)\\big(4PR - S^2 - 2ST - T^2\\big)} \\\\\n",
    "   % \\left(\\frac{2P - (T + S)}{(R + P) - (T + S)}\\right)\\left(\\frac{2PR + RS - RT - S^2 - ST}{4PR - S^2 - 2ST - T^2}\\right) \\\\\n",
    "   % \\left(\\frac{2P - (T + S)}{(R + P) - (T + S)}\\right)\\left(\\frac{2PR + RS - RT - S^2 - ST}{4PR - (T + S)^2}\\right) \\\\\n",
    "   % \\frac{1}{2}\\left(\\frac{2P - (T + S)}{(R + P) - (T + S)}\\right)\\left(\\frac{2(2PR + RS - RT - S^2 - ST)}{4PR - (T + S)^2}\\right) \\\\\n",
    "   % \\frac{1}{2}\\left(\\frac{2P - (T + S)}{(R + P) - (T + S)}\\right)\\left(\\frac{4PR + 2RS - 2RT - 2S^2 - 2ST}{4PR - (T + S)^2}\\right) \\\\\n",
    "   % \\frac{1}{2}\\left(\\frac{2P - (T + S)}{(R + P) - (T + S)}\\right)\\left(\\frac{4PR + 2RS - 2RT -4RS + 4RS - 2S^2 - 2ST}{4PR - (T + S)^2}\\right) \\\\\n",
    "   % \\frac{1}{2}\\left(\\frac{2P - (T + S)}{(R + P) - (T + S)}\\right)\\left(\\frac{2R\\big(2P + S - T - 2S\\big) + 2S\\big(2R - S - T\\big)}{4PR - (T + S)^2}\\right) \\\\\n",
    "   % \\frac{1}{2}\\left(\\frac{2P - (T + S)}{(R + P) - (T + S)}\\right)\\left(\\frac{2R\\big(2P - (T + S)\\big) + 2S\\big(2R - (T + S)\\big)}{4PR - (T + S)^2}\\right) \\\\\n",
    "    \\bar{x}_1^* = \\left(\\frac{2R\\big(2P - (T + S)\\big) + 2S\\big(2R - (T + S)\\big)}{4PR - (T + S)^2}\\right)\\bar{U}_{GA}^*\n",
    "\\end{align}"
   ]
  },
  {
   "cell_type": "code",
   "execution_count": 22,
   "metadata": {},
   "outputs": [],
   "source": [
    "optimal_x1_star = sym.factor(sym.cancel(x1_star.subs({UGA_star: optimal_UGA_star})))"
   ]
  },
  {
   "cell_type": "code",
   "execution_count": 23,
   "metadata": {},
   "outputs": [
    {
     "data": {
      "text/plain": [
       "1.5*(0.333333333333333*M*P**2 + 0.666666666666667*M*P*R*epsilon + 0.333333333333333*M*P*R - 0.333333333333333*M*P*S*epsilon - 0.5*M*P*S - 0.333333333333333*M*P*T*epsilon - 0.5*M*P*T + 0.666666666666667*M*R**2*epsilon - 1.0*M*R*S*epsilon - 0.166666666666667*M*R*S - 1.0*M*R*T*epsilon - 0.166666666666667*M*R*T + 0.333333333333333*M*S**2*epsilon + 0.166666666666667*M*S**2 + 0.666666666666667*M*S*T*epsilon + 0.333333333333333*M*S*T + 0.333333333333333*M*T**2*epsilon + 0.166666666666667*M*T**2 - 0.333333333333333*P**2*R - 0.666666666666667*P*R**2*epsilon + 0.666666666666667*P*R*S*epsilon + 0.333333333333333*P*R*T - 0.166666666666667*P*S**2*epsilon + 0.166666666666667*P*S**2 + 0.166666666666667*P*S*T + 0.166666666666667*P*T**2*epsilon + 0.0833333333333333*R*S**2 + 0.333333333333333*R*S*T*epsilon + 0.333333333333333*R*T**2*epsilon - 0.0833333333333333*R*T**2 - 0.0833333333333333*S**3 - 0.166666666666667*S**2*T*epsilon - 0.166666666666667*S**2*T - 0.333333333333333*S*T**2*epsilon - 0.0833333333333333*S*T**2 - 0.166666666666667*T**3*epsilon)/((1.0*epsilon + 0.5)*(1.0*P + 1.0*R - 1.0*S - 1.0*T)*(1.0*M*P + 1.0*M*R - 1.0*M*S - 1.0*M*T - 1.0*P*R + 0.25*S**2 + 0.5*S*T + 0.25*T**2))"
      ]
     },
     "execution_count": 23,
     "metadata": {},
     "output_type": "execute_result"
    }
   ],
   "source": [
    "optimal_x1_star"
   ]
  },
  {
   "cell_type": "markdown",
   "metadata": {},
   "source": [
    "## Interactive plot of the locus of potential equilibria"
   ]
  },
  {
   "cell_type": "code",
   "execution_count": 48,
   "metadata": {},
   "outputs": [],
   "source": [
    "_locus_of_potential_equilibria = sym.lambdify((UGA_star, T, R, P, S, M, epsilon),\n",
    "                                              x1_star,\n",
    "                                              modules=\"numpy\")\n",
    "\n",
    "\n",
    "def plot_locus_of_potential_equilibria(selection_function, d1, T, R, P, S, M, epsilon):\n",
    "    assert T > R > P > S\n",
    "    us = np.linspace(0, 1, 100)\n",
    "    xs = _locus_of_potential_equilibria(us, T, R, P, S, M, epsilon)\n",
    "\n",
    "    fig, ax = plt.subplots(1, 1, figsize=(10, 8))\n",
    "    ax.plot(xs, us, label=\"LPE\")\n",
    "    ax.set_xlabel(r\"$x_1^*$\", fontsize=25)\n",
    "    ax.set_ylabel(r\"$U*$\", rotation=\"horizontal\", fontsize=25)\n",
    "    ax.plot(us, us, 'k--', label=\"random mating\")\n",
    "    \n",
    "    # create the selection functions\n",
    "    if selection_function == \"kirkpatrick\":\n",
    "        UGA = lambda x_A: selection_functions.kirkpatrick_selection(x_A, d1)\n",
    "        ax.plot(xs, UGA(xs), label=selection_function)\n",
    "    elif selection_function == \"seger\":\n",
    "        UGA = lambda x_A: selection_functions.seger_selection(x_A, d1)\n",
    "        ax.plot(xs, UGA(xs), label=selection_function)\n",
    "    elif selection_function == \"wright\":\n",
    "        UGA = lambda x_A: selection_functions.wright_selection(x_A, d1)\n",
    "        ax.plot(xs, UGA(xs), label=selection_function)\n",
    "    if selection_function == \"none\":\n",
    "        pass\n",
    "    else:\n",
    "        valid_funcs = (\"kirkpatrick\", \"seger\", \"wright\", \"none\")\n",
    "        msg = \"Selection_function must be one of {}, {}, or {}.\".format(*valid_funcs)\n",
    "        raise ValueError(msg)\n",
    "        \n",
    "    ax.legend()\n",
    "        \n",
    "    return fig"
   ]
  },
  {
   "cell_type": "code",
   "execution_count": 49,
   "metadata": {},
   "outputs": [
    {
     "data": {
      "application/vnd.jupyter.widget-view+json": {
       "model_id": "e9e34bc367da4a3db988b2a8f108c52f",
       "version_major": 2,
       "version_minor": 0
      },
      "text/plain": [
       "interactive(children=(Dropdown(description='$U_{\\\\gamma(j)A}$', options=('none', 'kirkpatrick', 'seger', 'wrig…"
      ]
     },
     "metadata": {},
     "output_type": "display_data"
    }
   ],
   "source": [
    "# sliders used to control the Prisoner's Dilemma Payoffs\n",
    "T_slider = widgets.FloatSlider(value=25, min=0, max=100, step=0.1, description=r\"$T$\")\n",
    "R_slider = widgets.FloatSlider(value=3, min=0, max=100, step=0.1, description=r\"$R$\")\n",
    "P_slider = widgets.FloatSlider(value=2, min=0, max=100, step=0.1, description=r\"$P$\")\n",
    "S_slider = widgets.FloatSlider(value=1, min=0, max=100, step=0.1, description=r\"$S$\")\n",
    "\n",
    "# slider used to control metabolic costs\n",
    "M_slider = widgets.FloatSlider(value=1, min=0, max=100, step=0.1, description=r\"$M$\")\n",
    "\n",
    "# slider used to control which selection function is being used\n",
    "UGA_slider = widgets.Dropdown(options=[\"none\", \"kirkpatrick\", \"seger\", \"wright\"], index=0, description=r\"$U_{\\gamma(j)A}$\")\n",
    "\n",
    "# slider that controls the parameters of the selection function\n",
    "d1_slider = widgets.FloatSlider(value=1.0, min=0.0, max=10, step=0.05, description=r\"$d_1$\")\n",
    "\n",
    "# slider that controls the parameters of the selection function\n",
    "epsilon_slider = widgets.FloatSlider(value=0.0, min=0.0, max=1, step=1e-3, description=r\"$\\epsilon$\")\n",
    "\n",
    "w = widgets.interactive(plot_locus_of_potential_equilibria, selection_function=UGA_slider, d1=d1_slider,\n",
    "                        T=T_slider, R=R_slider, P=P_slider, S=S_slider, M=M_slider, epsilon=epsilon_slider)\n",
    "display(w)"
   ]
  },
  {
   "cell_type": "code",
   "execution_count": 50,
   "metadata": {},
   "outputs": [],
   "source": [
    "w.result.savefig(\"./images/locus-potential-equilibria.jpg\")"
   ]
  },
  {
   "cell_type": "code",
   "execution_count": 26,
   "metadata": {},
   "outputs": [
    {
     "data": {
      "text/plain": [
       "[0.0, 1.00000000000000, -(-P + S*d)/(P + R*d**2 - S*d - T*d)]"
      ]
     },
     "execution_count": 26,
     "metadata": {},
     "output_type": "execute_result"
    }
   ],
   "source": [
    "d = sym.symbols('d', real=True, nonnegative=True)\n",
    "sym.solve(x1 - sym.factor(sym.together(x1_star.subs({UGA_star: selection_functions.kirkpatrick_selection(x1, d), M: 0, epsilon: 0}))), x1)"
   ]
  },
  {
   "cell_type": "code",
   "execution_count": 48,
   "metadata": {},
   "outputs": [],
   "source": [
    "def make_plot(T, R, P, S, d):\n",
    "    fig, axes = plt.subplots(1, 2, sharey=True, figsize=(15, 10))\n",
    "\n",
    "    us = np.linspace(0, 1, 100)\n",
    "\n",
    "    axes[0].plot(_equilibrium_total_offspring(us, T, R, P, S, 0), us)\n",
    "    axes[0].set_title(r\"\", fontsize=25)\n",
    "    axes[0].set_ylim(-0.05, 1.05)\n",
    "    axes[0].set_xlabel(r\"$N$\", rotation=\"horizontal\", fontsize=25)\n",
    "    axes[0].set_ylabel(r\"$U$\", rotation=\"horizontal\", fontsize=25)\n",
    "\n",
    "    xs = _locus_of_potential_equilibria(us, T, R, P, S, 0, 0)\n",
    "    axes[1].plot(xs, us, label=\"LPE\")\n",
    "    axes[1].plot(xs, selection_functions.kirkpatrick_selection(xs, d), label=\"Kirkpatrick Selection\")\n",
    "    axes[1].set_xlabel(r\"$x_1$\", fontsize=25)\n",
    "    axes[1].set_xlim(-0.05, 1.05)\n",
    "\n",
    "    equilibrium_x1 = -(-P + S*d)/(P + R*d**2 - S*d - T*d)\n",
    "    equilibrium_U = selection_functions.kirkpatrick_selection(equilibrium_x1, d)\n",
    "    equilibrium_N = _equilibrium_total_offspring(equilibrium_U, T, R, P, S, 0)\n",
    "    axes[0].axhline(equilibrium_U, color='k', linestyle=\"dashed\")\n",
    "    axes[0].vlines(equilibrium_N, -1, equilibrium_U, 'k', linestyle=\"dashed\")\n",
    "    axes[1].hlines(equilibrium_U, -1, equilibrium_x1, 'k', linestyle=\"dashed\")\n",
    "    axes[1].vlines(equilibrium_x1, -1, equilibrium_U, 'k', linestyle=\"dashed\")\n",
    "\n",
    "    # add selection functions for comparison\n",
    "    axes[1].legend()\n",
    "    return fig"
   ]
  },
  {
   "cell_type": "code",
   "execution_count": 28,
   "metadata": {},
   "outputs": [
    {
     "data": {
      "image/png": "[encoded data removed]",
      "text/plain": [
       "<Figure size 1080x720 with 2 Axes>"
      ]
     },
     "metadata": {},
     "output_type": "display_data"
    }
   ],
   "source": [
    "make_plot(20, 3, 2, 1, 5)"
   ]
  },
  {
   "cell_type": "code",
   "execution_count": 35,
   "metadata": {},
   "outputs": [
    {
     "data": {
      "text/plain": [
       "(2.0*P*epsilon*(P - 0.5*S - 0.5*T)**2 - 4.0*P*epsilon*(P - 0.5*S - 0.5*T)*(P + R - S - T) + 2.0*P*epsilon*(P + R - S - T)**2 + R*(P - 0.5*S - 0.5*T)**2 - S*(P - 0.5*S - 0.5*T)**2 + S*(P - 0.5*S - 0.5*T)*(P + R - S - T) - 2.0*T*epsilon*(P - 0.5*S - 0.5*T)**2 + 2.0*T*epsilon*(P - 0.5*S - 0.5*T)*(P + R - S - T))/((2.0*epsilon + 1.0)*(P*(P - 0.5*S - 0.5*T)**2 - 2.0*P*(P - 0.5*S - 0.5*T)*(P + R - S - T) + P*(P + R - S - T)**2 + R*(P - 0.5*S - 0.5*T)**2 - S*(P - 0.5*S - 0.5*T)**2 + S*(P - 0.5*S - 0.5*T)*(P + R - S - T) - T*(P - 0.5*S - 0.5*T)**2 + T*(P - 0.5*S - 0.5*T)*(P + R - S - T)))"
      ]
     },
     "execution_count": 35,
     "metadata": {},
     "output_type": "execute_result"
    }
   ],
   "source": []
  },
  {
   "cell_type": "code",
   "execution_count": 39,
   "metadata": {},
   "outputs": [
    {
     "data": {
      "text/plain": [
       "1.5*(-0.333333333333333*P**2*R - 0.666666666666667*P*R**2*epsilon + 0.666666666666667*P*R*S*epsilon + 0.333333333333333*P*R*T - 0.166666666666667*P*S**2*epsilon + 0.166666666666667*P*S**2 + 0.166666666666667*P*S*T + 0.166666666666667*P*T**2*epsilon + 0.0833333333333333*R*S**2 + 0.333333333333333*R*S*T*epsilon + 0.333333333333333*R*T**2*epsilon - 0.0833333333333333*R*T**2 - 0.0833333333333333*S**3 - 0.166666666666667*S**2*T*epsilon - 0.166666666666667*S**2*T - 0.333333333333333*S*T**2*epsilon - 0.0833333333333333*S*T**2 - 0.166666666666667*T**3*epsilon)/((1.0*epsilon + 0.5)*(1.0*P + 1.0*R - 1.0*S - 1.0*T)*(-1.0*P*R + 0.25*S**2 + 0.5*S*T + 0.25*T**2))"
      ]
     },
     "execution_count": 39,
     "metadata": {},
     "output_type": "execute_result"
    }
   ],
   "source": [
    "optimal_x1_star.subs({M:0})"
   ]
  },
  {
   "cell_type": "code",
   "execution_count": 41,
   "metadata": {},
   "outputs": [],
   "source": [
    "optimal_d, = sym.solve(optimal_UGA_star - selection_functions.kirkpatrick_selection(optimal_x1_star.subs({M:0}), d), d)"
   ]
  },
  {
   "cell_type": "code",
   "execution_count": 51,
   "metadata": {},
   "outputs": [
    {
     "data": {
      "text/plain": [
       "1.0*(1.0*P - 0.5*S - 0.5*T)*(1.0*P**2*R*epsilon + 0.5*P*R**2 - 0.5*P*R*S - 1.0*P*R*T*epsilon - 0.5*P*S**2*epsilon + 0.125*P*S**2 - 0.5*P*S*T*epsilon - 0.125*P*T**2 - 0.25*R*S**2*epsilon - 0.25*R*S*T + 0.25*R*T**2*epsilon - 0.25*R*T**2 + 0.25*S**3*epsilon + 0.5*S**2*T*epsilon + 0.125*S**2*T + 0.25*S*T**2*epsilon + 0.25*S*T**2 + 0.125*T**3)/((1.0*R - 0.5*S - 0.5*T)*(0.5*P**2*R + 1.0*P*R**2*epsilon - 1.0*P*R*S*epsilon - 0.5*P*R*T + 0.25*P*S**2*epsilon - 0.25*P*S**2 - 0.25*P*S*T - 0.25*P*T**2*epsilon - 0.125*R*S**2 - 0.5*R*S*T*epsilon - 0.5*R*T**2*epsilon + 0.125*R*T**2 + 0.125*S**3 + 0.25*S**2*T*epsilon + 0.25*S**2*T + 0.5*S*T**2*epsilon + 0.125*S*T**2 + 0.25*T**3*epsilon))"
      ]
     },
     "execution_count": 51,
     "metadata": {},
     "output_type": "execute_result"
    }
   ],
   "source": [
    "sym.factor(optimal_d)"
   ]
  },
  {
   "cell_type": "code",
   "execution_count": 44,
   "metadata": {},
   "outputs": [
    {
     "data": {
      "text/plain": [
       "5.60606060606061"
      ]
     },
     "execution_count": 44,
     "metadata": {},
     "output_type": "execute_result"
    }
   ],
   "source": [
    "optimal_d.subs({T: 20, R: 3, P: 2, S: 1, epsilon: 0})"
   ]
  },
  {
   "cell_type": "code",
   "execution_count": 49,
   "metadata": {},
   "outputs": [
    {
     "data": {
      "image/png": "[encoded data removed]",
      "text/plain": [
       "<Figure size 1080x720 with 2 Axes>"
      ]
     },
     "metadata": {},
     "output_type": "display_data"
    }
   ],
   "source": [
    "fig = make_plot(20, 3, 2, 1, 5.60606060606061)\n",
    "fig.savefig(\"./images/interior-uninvadable-equilibrium.jpg\", format=\"jpg\")"
   ]
  },
  {
   "cell_type": "markdown",
   "metadata": {},
   "source": [
    "# Stability\n",
    "\n",
    "Necessary and sufficient conditions for stability require that the derivative of the equation of motion with respect to $x_1$ be strictly negative when evaluated at the potential equilibrium."
   ]
  },
  {
   "cell_type": "code",
   "execution_count": 7,
   "metadata": {},
   "outputs": [],
   "source": [
    "f1_jac = f1.diff(x1, 1)"
   ]
  },
  {
   "cell_type": "code",
   "execution_count": 8,
   "metadata": {},
   "outputs": [
    {
     "data": {
      "text/plain": [
       "(x1*(0.5*(2*P*(-UGA(x1) + 1) + 2*T*UGA(x1))*(-UGA(x1) + 1) + 1.0*(2*R*UGA(x1) + 2*S*(-UGA(x1) + 1))*UGA(x1)) + 0.5*(-x1 + 1)*(2*R*UGA(x1) + 2*S*(-UGA(x1) + 1))*UGA(x1))*(0.5*x1*(2*P*(-UGA(x1) + 1) + 2*T*UGA(x1))*Derivative(UGA(x1), x1) - 0.5*x1*(-2*P*Derivative(UGA(x1), x1) + 2*T*Derivative(UGA(x1), x1))*(-UGA(x1) + 1) - x1*(-0.5*(2*P*(-UGA(x1) + 1) + 2*T*UGA(x1))*Derivative(UGA(x1), x1) + (-2*P*Derivative(UGA(x1), x1) + 2*T*Derivative(UGA(x1), x1))*(-0.5*UGA(x1) + 0.5) + (2.0*R*UGA(x1) + 2.0*S*(-UGA(x1) + 1))*Derivative(UGA(x1), x1) + (2.0*R*Derivative(UGA(x1), x1) - 2.0*S*Derivative(UGA(x1), x1))*UGA(x1)) - (-x1 + 1)*(-1.0*(2*P*(-UGA(x1) + 1) + 2*T*UGA(x1))*Derivative(UGA(x1), x1) + (-2*P*Derivative(UGA(x1), x1) + 2*T*Derivative(UGA(x1), x1))*(-1.0*UGA(x1) + 1.0) + (1.0*R*UGA(x1) + 1.0*S*(-UGA(x1) + 1))*Derivative(UGA(x1), x1) + (1.0*R*Derivative(UGA(x1), x1) - 1.0*S*Derivative(UGA(x1), x1))*UGA(x1)) - (-0.5*x1 + 0.5)*(2*R*UGA(x1) + 2*S*(-UGA(x1) + 1))*Derivative(UGA(x1), x1) - (-0.5*x1 + 0.5)*(2*R*Derivative(UGA(x1), x1) - 2*S*Derivative(UGA(x1), x1))*UGA(x1) + 0.5*(2*P*(-UGA(x1) + 1) + 2*T*UGA(x1))*(-UGA(x1) + 1) - (2*P*(-UGA(x1) + 1) + 2*T*UGA(x1))*(-0.5*UGA(x1) + 0.5) - (-1.0*R*UGA(x1) - 1.0*S*(-UGA(x1) + 1))*UGA(x1) - 0.5*(2*R*UGA(x1) + 2*S*(-UGA(x1) + 1))*UGA(x1))/(0.5*x1*(2*P*(-UGA(x1) + 1) + 2*T*UGA(x1))*(-UGA(x1) + 1) + x1*(0.5*(2*P*(-UGA(x1) + 1) + 2*T*UGA(x1))*(-UGA(x1) + 1) + 1.0*(2*R*UGA(x1) + 2*S*(-UGA(x1) + 1))*UGA(x1)) + 0.5*(-x1 + 1)*(2*R*UGA(x1) + 2*S*(-UGA(x1) + 1))*UGA(x1) + (-x1 + 1)*(1.0*(2*P*(-UGA(x1) + 1) + 2*T*UGA(x1))*(-UGA(x1) + 1) + 0.5*(2*R*UGA(x1) + 2*S*(-UGA(x1) + 1))*UGA(x1)))**2 - 1 + (x1*(-0.5*(2*P*(-UGA(x1) + 1) + 2*T*UGA(x1))*Derivative(UGA(x1), x1) + (-2*P*Derivative(UGA(x1), x1) + 2*T*Derivative(UGA(x1), x1))*(-0.5*UGA(x1) + 0.5) + (2.0*R*UGA(x1) + 2.0*S*(-UGA(x1) + 1))*Derivative(UGA(x1), x1) + (2.0*R*Derivative(UGA(x1), x1) - 2.0*S*Derivative(UGA(x1), x1))*UGA(x1)) + (-0.5*x1 + 0.5)*(2*R*UGA(x1) + 2*S*(-UGA(x1) + 1))*Derivative(UGA(x1), x1) + (-0.5*x1 + 0.5)*(2*R*Derivative(UGA(x1), x1) - 2*S*Derivative(UGA(x1), x1))*UGA(x1) + 0.5*(2*P*(-UGA(x1) + 1) + 2*T*UGA(x1))*(-UGA(x1) + 1) + (-1.0*R*UGA(x1) - 1.0*S*(-UGA(x1) + 1))*UGA(x1) + 1.0*(2*R*UGA(x1) + 2*S*(-UGA(x1) + 1))*UGA(x1))/(0.5*x1*(2*P*(-UGA(x1) + 1) + 2*T*UGA(x1))*(-UGA(x1) + 1) + x1*(0.5*(2*P*(-UGA(x1) + 1) + 2*T*UGA(x1))*(-UGA(x1) + 1) + 1.0*(2*R*UGA(x1) + 2*S*(-UGA(x1) + 1))*UGA(x1)) + 0.5*(-x1 + 1)*(2*R*UGA(x1) + 2*S*(-UGA(x1) + 1))*UGA(x1) + (-x1 + 1)*(1.0*(2*P*(-UGA(x1) + 1) + 2*T*UGA(x1))*(-UGA(x1) + 1) + 0.5*(2*R*UGA(x1) + 2*S*(-UGA(x1) + 1))*UGA(x1)))"
      ]
     },
     "execution_count": 8,
     "metadata": {},
     "output_type": "execute_result"
    }
   ],
   "source": [
    "f1_jac"
   ]
  },
  {
   "cell_type": "code",
   "execution_count": 50,
   "metadata": {},
   "outputs": [
    {
     "data": {
      "text/plain": [
       "(-8.0*M**2*epsilon*U_prime(x1) - 8.0*M**2*epsilon + 4.0*M**2*U_prime(x1) - 4.0*M**2 - 8.0*M*P*epsilon*UGA(x1)**2*U_prime(x1) + 16.0*M*P*epsilon*UGA(x1)**2 - 32.0*M*P*epsilon*UGA(x1) + 8.0*M*P*epsilon*U_prime(x1) + 16.0*M*P*epsilon + 4.0*M*P*UGA(x1)**2*U_prime(x1) + 8.0*M*P*UGA(x1)**2 - 16.0*M*P*UGA(x1) - 4.0*M*P*U_prime(x1) + 8.0*M*P - 8.0*M*R*epsilon*UGA(x1)**2*U_prime(x1) + 16.0*M*R*epsilon*UGA(x1)**2 + 16.0*M*R*epsilon*UGA(x1)*U_prime(x1) + 4.0*M*R*UGA(x1)**2*U_prime(x1) + 8.0*M*R*UGA(x1)**2 - 8.0*M*R*UGA(x1)*U_prime(x1) + 8.0*M*S*epsilon*UGA(x1)**2*U_prime(x1) - 16.0*M*S*epsilon*UGA(x1)**2 - 16.0*M*S*epsilon*UGA(x1)*U_prime(x1) + 16.0*M*S*epsilon*UGA(x1) + 8.0*M*S*epsilon*U_prime(x1) - 4.0*M*S*UGA(x1)**2*U_prime(x1) - 8.0*M*S*UGA(x1)**2 + 8.0*M*S*UGA(x1)*U_prime(x1) + 8.0*M*S*UGA(x1) - 4.0*M*S*U_prime(x1) + 8.0*M*T*epsilon*UGA(x1)**2*U_prime(x1) - 16.0*M*T*epsilon*UGA(x1)**2 + 16.0*M*T*epsilon*UGA(x1) - 4.0*M*T*UGA(x1)**2*U_prime(x1) - 8.0*M*T*UGA(x1)**2 + 8.0*M*T*UGA(x1) - 8.0*P**2*epsilon*UGA(x1)**4 + 32.0*P**2*epsilon*UGA(x1)**3 - 48.0*P**2*epsilon*UGA(x1)**2 + 32.0*P**2*epsilon*UGA(x1) - 8.0*P**2*epsilon - 4.0*P**2*UGA(x1)**4 + 16.0*P**2*UGA(x1)**3 - 24.0*P**2*UGA(x1)**2 + 16.0*P**2*UGA(x1) - 4.0*P**2 - 16.0*P*R*epsilon*UGA(x1)**4 + 32.0*P*R*epsilon*UGA(x1)**3 + 16.0*P*R*epsilon*UGA(x1)**2*U_prime(x1) - 16.0*P*R*epsilon*UGA(x1)**2 - 16.0*P*R*epsilon*UGA(x1)*U_prime(x1) - 8.0*P*R*UGA(x1)**4 + 16.0*P*R*UGA(x1)**3 - 8.0*P*R*UGA(x1)**2*U_prime(x1) - 8.0*P*R*UGA(x1)**2 + 8.0*P*R*UGA(x1)*U_prime(x1) + 16.0*P*S*epsilon*UGA(x1)**4 - 48.0*P*S*epsilon*UGA(x1)**3 - 8.0*P*S*epsilon*UGA(x1)**2*U_prime(x1) + 48.0*P*S*epsilon*UGA(x1)**2 + 16.0*P*S*epsilon*UGA(x1)*U_prime(x1) - 16.0*P*S*epsilon*UGA(x1) - 8.0*P*S*epsilon*U_prime(x1) + 8.0*P*S*UGA(x1)**4 - 24.0*P*S*UGA(x1)**3 + 4.0*P*S*UGA(x1)**2*U_prime(x1) + 24.0*P*S*UGA(x1)**2 - 8.0*P*S*UGA(x1)*U_prime(x1) - 8.0*P*S*UGA(x1) + 4.0*P*S*U_prime(x1) + 16.0*P*T*epsilon*UGA(x1)**4 - 48.0*P*T*epsilon*UGA(x1)**3 + 48.0*P*T*epsilon*UGA(x1)**2 - 16.0*P*T*epsilon*UGA(x1) + 8.0*P*T*UGA(x1)**4 - 24.0*P*T*UGA(x1)**3 + 24.0*P*T*UGA(x1)**2 - 8.0*P*T*UGA(x1) - 8.0*R**2*epsilon*UGA(x1)**4 - 4.0*R**2*UGA(x1)**4 + 16.0*R*S*epsilon*UGA(x1)**4 - 16.0*R*S*epsilon*UGA(x1)**3 + 8.0*R*S*UGA(x1)**4 - 8.0*R*S*UGA(x1)**3 + 16.0*R*T*epsilon*UGA(x1)**4 - 16.0*R*T*epsilon*UGA(x1)**3 - 8.0*R*T*epsilon*UGA(x1)**2*U_prime(x1) + 8.0*R*T*UGA(x1)**4 - 8.0*R*T*UGA(x1)**3 + 4.0*R*T*UGA(x1)**2*U_prime(x1) - 8.0*S**2*epsilon*UGA(x1)**4 + 16.0*S**2*epsilon*UGA(x1)**3 - 8.0*S**2*epsilon*UGA(x1)**2 - 4.0*S**2*UGA(x1)**4 + 8.0*S**2*UGA(x1)**3 - 4.0*S**2*UGA(x1)**2 - 16.0*S*T*epsilon*UGA(x1)**4 + 32.0*S*T*epsilon*UGA(x1)**3 - 16.0*S*T*epsilon*UGA(x1)**2 - 8.0*S*T*UGA(x1)**4 + 16.0*S*T*UGA(x1)**3 - 8.0*S*T*UGA(x1)**2 - 8.0*T**2*epsilon*UGA(x1)**4 + 16.0*T**2*epsilon*UGA(x1)**3 - 8.0*T**2*epsilon*UGA(x1)**2 - 4.0*T**2*UGA(x1)**4 + 8.0*T**2*UGA(x1)**3 - 4.0*T**2*UGA(x1)**2)/(8.0*M**2 - 16.0*M*P*UGA(x1)**2 + 32.0*M*P*UGA(x1) - 16.0*M*P - 16.0*M*R*UGA(x1)**2 + 16.0*M*S*UGA(x1)**2 - 16.0*M*S*UGA(x1) + 16.0*M*T*UGA(x1)**2 - 16.0*M*T*UGA(x1) + 8.0*P**2*UGA(x1)**4 - 32.0*P**2*UGA(x1)**3 + 48.0*P**2*UGA(x1)**2 - 32.0*P**2*UGA(x1) + 8.0*P**2 + 16.0*P*R*UGA(x1)**4 - 32.0*P*R*UGA(x1)**3 + 16.0*P*R*UGA(x1)**2 - 16.0*P*S*UGA(x1)**4 + 48.0*P*S*UGA(x1)**3 - 48.0*P*S*UGA(x1)**2 + 16.0*P*S*UGA(x1) - 16.0*P*T*UGA(x1)**4 + 48.0*P*T*UGA(x1)**3 - 48.0*P*T*UGA(x1)**2 + 16.0*P*T*UGA(x1) + 8.0*R**2*UGA(x1)**4 - 16.0*R*S*UGA(x1)**4 + 16.0*R*S*UGA(x1)**3 - 16.0*R*T*UGA(x1)**4 + 16.0*R*T*UGA(x1)**3 + 8.0*S**2*UGA(x1)**4 - 16.0*S**2*UGA(x1)**3 + 8.0*S**2*UGA(x1)**2 + 16.0*S*T*UGA(x1)**4 - 32.0*S*T*UGA(x1)**3 + 16.0*S*T*UGA(x1)**2 + 8.0*T**2*UGA(x1)**4 - 16.0*T**2*UGA(x1)**3 + 8.0*T**2*UGA(x1)**2)"
      ]
     },
     "execution_count": 50,
     "metadata": {},
     "output_type": "execute_result"
    }
   ],
   "source": [
    "sym.powsimp(sym.cancel(f_jac))"
   ]
  },
  {
   "cell_type": "markdown",
   "metadata": {},
   "source": [
    "### Equilibrium with $x_1^*=0$"
   ]
  },
  {
   "cell_type": "code",
   "execution_count": 26,
   "metadata": {},
   "outputs": [
    {
     "data": {
      "text/plain": [
       "-0.500000000000000"
      ]
     },
     "execution_count": 26,
     "metadata": {},
     "output_type": "execute_result"
    }
   ],
   "source": [
    "sym.simplify(f_jac.subs({x1: 0}))"
   ]
  },
  {
   "cell_type": "markdown",
   "metadata": {},
   "source": [
    "Assuming that $M < S < P$ then we have the following stability condition for the equilibrium at $x_1^*=0$.\n",
    "\n",
    "$$ U_{GA}'(0) < \\frac{P-M}{S-M} $$\n",
    "\n",
    "Note that if $M \\ge S$, then the equilibrium at $x_1^*=0$ is always stable."
   ]
  },
  {
   "cell_type": "markdown",
   "metadata": {},
   "source": [
    "### Equilibrium with $x_1^* = 1$"
   ]
  },
  {
   "cell_type": "code",
   "execution_count": 27,
   "metadata": {},
   "outputs": [
    {
     "data": {
      "text/plain": [
       "0.5*(R - T)/(M - R)"
      ]
     },
     "execution_count": 27,
     "metadata": {},
     "output_type": "execute_result"
    }
   ],
   "source": [
    "sym.simplify(f_jac.subs({x1: 1}))"
   ]
  },
  {
   "cell_type": "markdown",
   "metadata": {},
   "source": [
    "$$ U_{GA}'(1) < \\frac{R - M}{T - M} $$"
   ]
  },
  {
   "cell_type": "markdown",
   "metadata": {},
   "source": [
    "### Equilibrium with $0 < x^* < 1$\n",
    "\n",
    "Sufficient conditions to guarantee the existence of a stable, interior equilibrium are that the stability conditions for both corner equilibria are violated. Necessary and sufficient conditions are more difficult to state..."
   ]
  },
  {
   "cell_type": "code",
   "execution_count": 10,
   "metadata": {},
   "outputs": [
    {
     "ename": "NameError",
     "evalue": "name 'UGA_star' is not defined",
     "output_type": "error",
     "traceback": [
      "\u001b[0;31m---------------------------------------------------------------------------\u001b[0m",
      "\u001b[0;31mNameError\u001b[0m                                 Traceback (most recent call last)",
      "\u001b[0;32m<ipython-input-10-f98f3cbb811f>\u001b[0m in \u001b[0;36m<module>\u001b[0;34m()\u001b[0m\n\u001b[1;32m      1\u001b[0m \u001b[0mUGA_prime_star\u001b[0m \u001b[0;34m=\u001b[0m \u001b[0msym\u001b[0m\u001b[0;34m.\u001b[0m\u001b[0msymbols\u001b[0m\u001b[0;34m(\u001b[0m\u001b[0;34m\"UGA_prime_star\"\u001b[0m\u001b[0;34m)\u001b[0m\u001b[0;34m\u001b[0m\u001b[0m\n\u001b[0;32m----> 2\u001b[0;31m \u001b[0mevaluated_f1_jac\u001b[0m \u001b[0;34m=\u001b[0m \u001b[0mf1_jac\u001b[0m\u001b[0;34m.\u001b[0m\u001b[0msubs\u001b[0m\u001b[0;34m(\u001b[0m\u001b[0;34m{\u001b[0m\u001b[0msym\u001b[0m\u001b[0;34m.\u001b[0m\u001b[0mDerivative\u001b[0m\u001b[0;34m(\u001b[0m\u001b[0mUGA\u001b[0m\u001b[0;34m(\u001b[0m\u001b[0mx1\u001b[0m\u001b[0;34m)\u001b[0m\u001b[0;34m,\u001b[0m \u001b[0mx1\u001b[0m\u001b[0;34m)\u001b[0m\u001b[0;34m:\u001b[0m \u001b[0mUGA_prime_star\u001b[0m\u001b[0;34m,\u001b[0m \u001b[0mUGA\u001b[0m\u001b[0;34m(\u001b[0m\u001b[0mx1\u001b[0m\u001b[0;34m)\u001b[0m\u001b[0;34m:\u001b[0m \u001b[0mUGA_star\u001b[0m\u001b[0;34m,\u001b[0m \u001b[0mx1\u001b[0m\u001b[0;34m:\u001b[0m \u001b[0mx1_star\u001b[0m\u001b[0;34m}\u001b[0m\u001b[0;34m)\u001b[0m\u001b[0;34m\u001b[0m\u001b[0m\n\u001b[0m",
      "\u001b[0;31mNameError\u001b[0m: name 'UGA_star' is not defined"
     ]
    }
   ],
   "source": [
    "UGA_prime_star = sym.symbols(\"UGA_prime_star\")\n",
    "evaluated_f1_jac = f1_jac.subs({sym.Derivative(UGA(x1), x1): UGA_prime_star, UGA(x1): UGA_star, x1: x1_star})"
   ]
  },
  {
   "cell_type": "markdown",
   "metadata": {},
   "source": [
    "Stability of the equilibrium involves determining whether the following function of $U_{GA}^*$, $U_{GA}^{'*}$ and payoffs $T,R,P,S$ is negative! "
   ]
  },
  {
   "cell_type": "code",
   "execution_count": 29,
   "metadata": {},
   "outputs": [
    {
     "data": {
      "text/plain": [
       "(0.5*UGA_star*(2*UGA_star*(-M + R) + 2*(-M + S)*(-UGA_star + 1))*(-1.0*(2.0*M*UGA_star - 2.0*R*UGA_star**2 + 2.0*S*UGA_star**2 - 2.0*S*UGA_star)/(2.0*M - 2.0*P*UGA_star**2 + 4.0*P*UGA_star - 2.0*P - 2.0*R*UGA_star**2 + 2.0*S*UGA_star**2 - 2.0*S*UGA_star + 2.0*T*UGA_star**2 - 2.0*T*UGA_star) + 1) + 1.0*(1.0*UGA_star*(2*UGA_star*(-M + R) + 2*(-M + S)*(-UGA_star + 1)) + 0.5*(-UGA_star + 1)*(2*UGA_star*(-M + T) + 2*(-M + P)*(-UGA_star + 1)))*(2.0*M*UGA_star - 2.0*R*UGA_star**2 + 2.0*S*UGA_star**2 - 2.0*S*UGA_star)/(2.0*M - 2.0*P*UGA_star**2 + 4.0*P*UGA_star - 2.0*P - 2.0*R*UGA_star**2 + 2.0*S*UGA_star**2 - 2.0*S*UGA_star + 2.0*T*UGA_star**2 - 2.0*T*UGA_star))*(-0.5*UGA_star*(2*(-M + R)*U_prime(1.0*(2.0*M*UGA_star - 2.0*R*UGA_star**2 + 2.0*S*UGA_star**2 - 2.0*S*UGA_star)/(2.0*M - 2.0*P*UGA_star**2 + 4.0*P*UGA_star - 2.0*P - 2.0*R*UGA_star**2 + 2.0*S*UGA_star**2 - 2.0*S*UGA_star + 2.0*T*UGA_star**2 - 2.0*T*UGA_star)) - 2*(-M + S)*U_prime(1.0*(2.0*M*UGA_star - 2.0*R*UGA_star**2 + 2.0*S*UGA_star**2 - 2.0*S*UGA_star)/(2.0*M - 2.0*P*UGA_star**2 + 4.0*P*UGA_star - 2.0*P - 2.0*R*UGA_star**2 + 2.0*S*UGA_star**2 - 2.0*S*UGA_star + 2.0*T*UGA_star**2 - 2.0*T*UGA_star)))*(-1.0*(2.0*M*UGA_star - 2.0*R*UGA_star**2 + 2.0*S*UGA_star**2 - 2.0*S*UGA_star)/(2.0*M - 2.0*P*UGA_star**2 + 4.0*P*UGA_star - 2.0*P - 2.0*R*UGA_star**2 + 2.0*S*UGA_star**2 - 2.0*S*UGA_star + 2.0*T*UGA_star**2 - 2.0*T*UGA_star) + 1) - 0.5*(-UGA_star + 1)*(-2*(-M + P)*U_prime(1.0*(2.0*M*UGA_star - 2.0*R*UGA_star**2 + 2.0*S*UGA_star**2 - 2.0*S*UGA_star)/(2.0*M - 2.0*P*UGA_star**2 + 4.0*P*UGA_star - 2.0*P - 2.0*R*UGA_star**2 + 2.0*S*UGA_star**2 - 2.0*S*UGA_star + 2.0*T*UGA_star**2 - 2.0*T*UGA_star)) + 2*(-M + T)*U_prime(1.0*(2.0*M*UGA_star - 2.0*R*UGA_star**2 + 2.0*S*UGA_star**2 - 2.0*S*UGA_star)/(2.0*M - 2.0*P*UGA_star**2 + 4.0*P*UGA_star - 2.0*P - 2.0*R*UGA_star**2 + 2.0*S*UGA_star**2 - 2.0*S*UGA_star + 2.0*T*UGA_star**2 - 2.0*T*UGA_star)))*(2.0*M*UGA_star - 2.0*R*UGA_star**2 + 2.0*S*UGA_star**2 - 2.0*S*UGA_star)/(2.0*M - 2.0*P*UGA_star**2 + 4.0*P*UGA_star - 2.0*P - 2.0*R*UGA_star**2 + 2.0*S*UGA_star**2 - 2.0*S*UGA_star + 2.0*T*UGA_star**2 - 2.0*T*UGA_star) - 0.5*(2*UGA_star*(-M + R) + 2*(-M + S)*(-UGA_star + 1))*(-1.0*(2.0*M*UGA_star - 2.0*R*UGA_star**2 + 2.0*S*UGA_star**2 - 2.0*S*UGA_star)/(2.0*M - 2.0*P*UGA_star**2 + 4.0*P*UGA_star - 2.0*P - 2.0*R*UGA_star**2 + 2.0*S*UGA_star**2 - 2.0*S*UGA_star + 2.0*T*UGA_star**2 - 2.0*T*UGA_star) + 1)*U_prime(1.0*(2.0*M*UGA_star - 2.0*R*UGA_star**2 + 2.0*S*UGA_star**2 - 2.0*S*UGA_star)/(2.0*M - 2.0*P*UGA_star**2 + 4.0*P*UGA_star - 2.0*P - 2.0*R*UGA_star**2 + 2.0*S*UGA_star**2 - 2.0*S*UGA_star + 2.0*T*UGA_star**2 - 2.0*T*UGA_star)) + 0.5*(2*UGA_star*(-M + T) + 2*(-M + P)*(-UGA_star + 1))*(2.0*M*UGA_star - 2.0*R*UGA_star**2 + 2.0*S*UGA_star**2 - 2.0*S*UGA_star)*U_prime(1.0*(2.0*M*UGA_star - 2.0*R*UGA_star**2 + 2.0*S*UGA_star**2 - 2.0*S*UGA_star)/(2.0*M - 2.0*P*UGA_star**2 + 4.0*P*UGA_star - 2.0*P - 2.0*R*UGA_star**2 + 2.0*S*UGA_star**2 - 2.0*S*UGA_star + 2.0*T*UGA_star**2 - 2.0*T*UGA_star))/(2.0*M - 2.0*P*UGA_star**2 + 4.0*P*UGA_star - 2.0*P - 2.0*R*UGA_star**2 + 2.0*S*UGA_star**2 - 2.0*S*UGA_star + 2.0*T*UGA_star**2 - 2.0*T*UGA_star) - (-1.0*(2.0*M*UGA_star - 2.0*R*UGA_star**2 + 2.0*S*UGA_star**2 - 2.0*S*UGA_star)/(2.0*M - 2.0*P*UGA_star**2 + 4.0*P*UGA_star - 2.0*P - 2.0*R*UGA_star**2 + 2.0*S*UGA_star**2 - 2.0*S*UGA_star + 2.0*T*UGA_star**2 - 2.0*T*UGA_star) + 1)*(0.5*UGA_star*(2*(-M + R)*U_prime(1.0*(2.0*M*UGA_star - 2.0*R*UGA_star**2 + 2.0*S*UGA_star**2 - 2.0*S*UGA_star)/(2.0*M - 2.0*P*UGA_star**2 + 4.0*P*UGA_star - 2.0*P - 2.0*R*UGA_star**2 + 2.0*S*UGA_star**2 - 2.0*S*UGA_star + 2.0*T*UGA_star**2 - 2.0*T*UGA_star)) - 2*(-M + S)*U_prime(1.0*(2.0*M*UGA_star - 2.0*R*UGA_star**2 + 2.0*S*UGA_star**2 - 2.0*S*UGA_star)/(2.0*M - 2.0*P*UGA_star**2 + 4.0*P*UGA_star - 2.0*P - 2.0*R*UGA_star**2 + 2.0*S*UGA_star**2 - 2.0*S*UGA_star + 2.0*T*UGA_star**2 - 2.0*T*UGA_star))) + 1.0*(-UGA_star + 1)*(-2*(-M + P)*U_prime(1.0*(2.0*M*UGA_star - 2.0*R*UGA_star**2 + 2.0*S*UGA_star**2 - 2.0*S*UGA_star)/(2.0*M - 2.0*P*UGA_star**2 + 4.0*P*UGA_star - 2.0*P - 2.0*R*UGA_star**2 + 2.0*S*UGA_star**2 - 2.0*S*UGA_star + 2.0*T*UGA_star**2 - 2.0*T*UGA_star)) + 2*(-M + T)*U_prime(1.0*(2.0*M*UGA_star - 2.0*R*UGA_star**2 + 2.0*S*UGA_star**2 - 2.0*S*UGA_star)/(2.0*M - 2.0*P*UGA_star**2 + 4.0*P*UGA_star - 2.0*P - 2.0*R*UGA_star**2 + 2.0*S*UGA_star**2 - 2.0*S*UGA_star + 2.0*T*UGA_star**2 - 2.0*T*UGA_star))) + 0.5*(2*UGA_star*(-M + R) + 2*(-M + S)*(-UGA_star + 1))*U_prime(1.0*(2.0*M*UGA_star - 2.0*R*UGA_star**2 + 2.0*S*UGA_star**2 - 2.0*S*UGA_star)/(2.0*M - 2.0*P*UGA_star**2 + 4.0*P*UGA_star - 2.0*P - 2.0*R*UGA_star**2 + 2.0*S*UGA_star**2 - 2.0*S*UGA_star + 2.0*T*UGA_star**2 - 2.0*T*UGA_star)) - 1.0*(2*UGA_star*(-M + T) + 2*(-M + P)*(-UGA_star + 1))*U_prime(1.0*(2.0*M*UGA_star - 2.0*R*UGA_star**2 + 2.0*S*UGA_star**2 - 2.0*S*UGA_star)/(2.0*M - 2.0*P*UGA_star**2 + 4.0*P*UGA_star - 2.0*P - 2.0*R*UGA_star**2 + 2.0*S*UGA_star**2 - 2.0*S*UGA_star + 2.0*T*UGA_star**2 - 2.0*T*UGA_star))) - 1.0*(2.0*M*UGA_star - 2.0*R*UGA_star**2 + 2.0*S*UGA_star**2 - 2.0*S*UGA_star)*(1.0*UGA_star*(2*(-M + R)*U_prime(1.0*(2.0*M*UGA_star - 2.0*R*UGA_star**2 + 2.0*S*UGA_star**2 - 2.0*S*UGA_star)/(2.0*M - 2.0*P*UGA_star**2 + 4.0*P*UGA_star - 2.0*P - 2.0*R*UGA_star**2 + 2.0*S*UGA_star**2 - 2.0*S*UGA_star + 2.0*T*UGA_star**2 - 2.0*T*UGA_star)) - 2*(-M + S)*U_prime(1.0*(2.0*M*UGA_star - 2.0*R*UGA_star**2 + 2.0*S*UGA_star**2 - 2.0*S*UGA_star)/(2.0*M - 2.0*P*UGA_star**2 + 4.0*P*UGA_star - 2.0*P - 2.0*R*UGA_star**2 + 2.0*S*UGA_star**2 - 2.0*S*UGA_star + 2.0*T*UGA_star**2 - 2.0*T*UGA_star))) + 0.5*(-UGA_star + 1)*(-2*(-M + P)*U_prime(1.0*(2.0*M*UGA_star - 2.0*R*UGA_star**2 + 2.0*S*UGA_star**2 - 2.0*S*UGA_star)/(2.0*M - 2.0*P*UGA_star**2 + 4.0*P*UGA_star - 2.0*P - 2.0*R*UGA_star**2 + 2.0*S*UGA_star**2 - 2.0*S*UGA_star + 2.0*T*UGA_star**2 - 2.0*T*UGA_star)) + 2*(-M + T)*U_prime(1.0*(2.0*M*UGA_star - 2.0*R*UGA_star**2 + 2.0*S*UGA_star**2 - 2.0*S*UGA_star)/(2.0*M - 2.0*P*UGA_star**2 + 4.0*P*UGA_star - 2.0*P - 2.0*R*UGA_star**2 + 2.0*S*UGA_star**2 - 2.0*S*UGA_star + 2.0*T*UGA_star**2 - 2.0*T*UGA_star))) + 1.0*(2*UGA_star*(-M + R) + 2*(-M + S)*(-UGA_star + 1))*U_prime(1.0*(2.0*M*UGA_star - 2.0*R*UGA_star**2 + 2.0*S*UGA_star**2 - 2.0*S*UGA_star)/(2.0*M - 2.0*P*UGA_star**2 + 4.0*P*UGA_star - 2.0*P - 2.0*R*UGA_star**2 + 2.0*S*UGA_star**2 - 2.0*S*UGA_star + 2.0*T*UGA_star**2 - 2.0*T*UGA_star)) - 0.5*(2*UGA_star*(-M + T) + 2*(-M + P)*(-UGA_star + 1))*U_prime(1.0*(2.0*M*UGA_star - 2.0*R*UGA_star**2 + 2.0*S*UGA_star**2 - 2.0*S*UGA_star)/(2.0*M - 2.0*P*UGA_star**2 + 4.0*P*UGA_star - 2.0*P - 2.0*R*UGA_star**2 + 2.0*S*UGA_star**2 - 2.0*S*UGA_star + 2.0*T*UGA_star**2 - 2.0*T*UGA_star)))/(2.0*M - 2.0*P*UGA_star**2 + 4.0*P*UGA_star - 2.0*P - 2.0*R*UGA_star**2 + 2.0*S*UGA_star**2 - 2.0*S*UGA_star + 2.0*T*UGA_star**2 - 2.0*T*UGA_star))/(0.5*UGA_star*(2*UGA_star*(-M + R) + 2*(-M + S)*(-UGA_star + 1))*(-1.0*(2.0*M*UGA_star - 2.0*R*UGA_star**2 + 2.0*S*UGA_star**2 - 2.0*S*UGA_star)/(2.0*M - 2.0*P*UGA_star**2 + 4.0*P*UGA_star - 2.0*P - 2.0*R*UGA_star**2 + 2.0*S*UGA_star**2 - 2.0*S*UGA_star + 2.0*T*UGA_star**2 - 2.0*T*UGA_star) + 1) + 0.5*(-UGA_star + 1)*(2*UGA_star*(-M + T) + 2*(-M + P)*(-UGA_star + 1))*(2.0*M*UGA_star - 2.0*R*UGA_star**2 + 2.0*S*UGA_star**2 - 2.0*S*UGA_star)/(2.0*M - 2.0*P*UGA_star**2 + 4.0*P*UGA_star - 2.0*P - 2.0*R*UGA_star**2 + 2.0*S*UGA_star**2 - 2.0*S*UGA_star + 2.0*T*UGA_star**2 - 2.0*T*UGA_star) + (0.5*UGA_star*(2*UGA_star*(-M + R) + 2*(-M + S)*(-UGA_star + 1)) + 1.0*(-UGA_star + 1)*(2*UGA_star*(-M + T) + 2*(-M + P)*(-UGA_star + 1)))*(-1.0*(2.0*M*UGA_star - 2.0*R*UGA_star**2 + 2.0*S*UGA_star**2 - 2.0*S*UGA_star)/(2.0*M - 2.0*P*UGA_star**2 + 4.0*P*UGA_star - 2.0*P - 2.0*R*UGA_star**2 + 2.0*S*UGA_star**2 - 2.0*S*UGA_star + 2.0*T*UGA_star**2 - 2.0*T*UGA_star) + 1) + 1.0*(1.0*UGA_star*(2*UGA_star*(-M + R) + 2*(-M + S)*(-UGA_star + 1)) + 0.5*(-UGA_star + 1)*(2*UGA_star*(-M + T) + 2*(-M + P)*(-UGA_star + 1)))*(2.0*M*UGA_star - 2.0*R*UGA_star**2 + 2.0*S*UGA_star**2 - 2.0*S*UGA_star)/(2.0*M - 2.0*P*UGA_star**2 + 4.0*P*UGA_star - 2.0*P - 2.0*R*UGA_star**2 + 2.0*S*UGA_star**2 - 2.0*S*UGA_star + 2.0*T*UGA_star**2 - 2.0*T*UGA_star))**2 - 1 + (0.5*UGA_star*(2*UGA_star*(-M + R) + 2*(-M + S)*(-UGA_star + 1)) + 0.5*UGA_star*(2*(-M + R)*U_prime(1.0*(2.0*M*UGA_star - 2.0*R*UGA_star**2 + 2.0*S*UGA_star**2 - 2.0*S*UGA_star)/(2.0*M - 2.0*P*UGA_star**2 + 4.0*P*UGA_star - 2.0*P - 2.0*R*UGA_star**2 + 2.0*S*UGA_star**2 - 2.0*S*UGA_star + 2.0*T*UGA_star**2 - 2.0*T*UGA_star)) - 2*(-M + S)*U_prime(1.0*(2.0*M*UGA_star - 2.0*R*UGA_star**2 + 2.0*S*UGA_star**2 - 2.0*S*UGA_star)/(2.0*M - 2.0*P*UGA_star**2 + 4.0*P*UGA_star - 2.0*P - 2.0*R*UGA_star**2 + 2.0*S*UGA_star**2 - 2.0*S*UGA_star + 2.0*T*UGA_star**2 - 2.0*T*UGA_star)))*(-1.0*(2.0*M*UGA_star - 2.0*R*UGA_star**2 + 2.0*S*UGA_star**2 - 2.0*S*UGA_star)/(2.0*M - 2.0*P*UGA_star**2 + 4.0*P*UGA_star - 2.0*P - 2.0*R*UGA_star**2 + 2.0*S*UGA_star**2 - 2.0*S*UGA_star + 2.0*T*UGA_star**2 - 2.0*T*UGA_star) + 1) + 0.5*(-UGA_star + 1)*(2*UGA_star*(-M + T) + 2*(-M + P)*(-UGA_star + 1)) + 0.5*(2*UGA_star*(-M + R) + 2*(-M + S)*(-UGA_star + 1))*(-1.0*(2.0*M*UGA_star - 2.0*R*UGA_star**2 + 2.0*S*UGA_star**2 - 2.0*S*UGA_star)/(2.0*M - 2.0*P*UGA_star**2 + 4.0*P*UGA_star - 2.0*P - 2.0*R*UGA_star**2 + 2.0*S*UGA_star**2 - 2.0*S*UGA_star + 2.0*T*UGA_star**2 - 2.0*T*UGA_star) + 1)*U_prime(1.0*(2.0*M*UGA_star - 2.0*R*UGA_star**2 + 2.0*S*UGA_star**2 - 2.0*S*UGA_star)/(2.0*M - 2.0*P*UGA_star**2 + 4.0*P*UGA_star - 2.0*P - 2.0*R*UGA_star**2 + 2.0*S*UGA_star**2 - 2.0*S*UGA_star + 2.0*T*UGA_star**2 - 2.0*T*UGA_star)) + 1.0*(2.0*M*UGA_star - 2.0*R*UGA_star**2 + 2.0*S*UGA_star**2 - 2.0*S*UGA_star)*(1.0*UGA_star*(2*(-M + R)*U_prime(1.0*(2.0*M*UGA_star - 2.0*R*UGA_star**2 + 2.0*S*UGA_star**2 - 2.0*S*UGA_star)/(2.0*M - 2.0*P*UGA_star**2 + 4.0*P*UGA_star - 2.0*P - 2.0*R*UGA_star**2 + 2.0*S*UGA_star**2 - 2.0*S*UGA_star + 2.0*T*UGA_star**2 - 2.0*T*UGA_star)) - 2*(-M + S)*U_prime(1.0*(2.0*M*UGA_star - 2.0*R*UGA_star**2 + 2.0*S*UGA_star**2 - 2.0*S*UGA_star)/(2.0*M - 2.0*P*UGA_star**2 + 4.0*P*UGA_star - 2.0*P - 2.0*R*UGA_star**2 + 2.0*S*UGA_star**2 - 2.0*S*UGA_star + 2.0*T*UGA_star**2 - 2.0*T*UGA_star))) + 0.5*(-UGA_star + 1)*(-2*(-M + P)*U_prime(1.0*(2.0*M*UGA_star - 2.0*R*UGA_star**2 + 2.0*S*UGA_star**2 - 2.0*S*UGA_star)/(2.0*M - 2.0*P*UGA_star**2 + 4.0*P*UGA_star - 2.0*P - 2.0*R*UGA_star**2 + 2.0*S*UGA_star**2 - 2.0*S*UGA_star + 2.0*T*UGA_star**2 - 2.0*T*UGA_star)) + 2*(-M + T)*U_prime(1.0*(2.0*M*UGA_star - 2.0*R*UGA_star**2 + 2.0*S*UGA_star**2 - 2.0*S*UGA_star)/(2.0*M - 2.0*P*UGA_star**2 + 4.0*P*UGA_star - 2.0*P - 2.0*R*UGA_star**2 + 2.0*S*UGA_star**2 - 2.0*S*UGA_star + 2.0*T*UGA_star**2 - 2.0*T*UGA_star))) + 1.0*(2*UGA_star*(-M + R) + 2*(-M + S)*(-UGA_star + 1))*U_prime(1.0*(2.0*M*UGA_star - 2.0*R*UGA_star**2 + 2.0*S*UGA_star**2 - 2.0*S*UGA_star)/(2.0*M - 2.0*P*UGA_star**2 + 4.0*P*UGA_star - 2.0*P - 2.0*R*UGA_star**2 + 2.0*S*UGA_star**2 - 2.0*S*UGA_star + 2.0*T*UGA_star**2 - 2.0*T*UGA_star)) - 0.5*(2*UGA_star*(-M + T) + 2*(-M + P)*(-UGA_star + 1))*U_prime(1.0*(2.0*M*UGA_star - 2.0*R*UGA_star**2 + 2.0*S*UGA_star**2 - 2.0*S*UGA_star)/(2.0*M - 2.0*P*UGA_star**2 + 4.0*P*UGA_star - 2.0*P - 2.0*R*UGA_star**2 + 2.0*S*UGA_star**2 - 2.0*S*UGA_star + 2.0*T*UGA_star**2 - 2.0*T*UGA_star)))/(2.0*M - 2.0*P*UGA_star**2 + 4.0*P*UGA_star - 2.0*P - 2.0*R*UGA_star**2 + 2.0*S*UGA_star**2 - 2.0*S*UGA_star + 2.0*T*UGA_star**2 - 2.0*T*UGA_star))/(0.5*UGA_star*(2*UGA_star*(-M + R) + 2*(-M + S)*(-UGA_star + 1))*(-1.0*(2.0*M*UGA_star - 2.0*R*UGA_star**2 + 2.0*S*UGA_star**2 - 2.0*S*UGA_star)/(2.0*M - 2.0*P*UGA_star**2 + 4.0*P*UGA_star - 2.0*P - 2.0*R*UGA_star**2 + 2.0*S*UGA_star**2 - 2.0*S*UGA_star + 2.0*T*UGA_star**2 - 2.0*T*UGA_star) + 1) + 0.5*(-UGA_star + 1)*(2*UGA_star*(-M + T) + 2*(-M + P)*(-UGA_star + 1))*(2.0*M*UGA_star - 2.0*R*UGA_star**2 + 2.0*S*UGA_star**2 - 2.0*S*UGA_star)/(2.0*M - 2.0*P*UGA_star**2 + 4.0*P*UGA_star - 2.0*P - 2.0*R*UGA_star**2 + 2.0*S*UGA_star**2 - 2.0*S*UGA_star + 2.0*T*UGA_star**2 - 2.0*T*UGA_star) + (0.5*UGA_star*(2*UGA_star*(-M + R) + 2*(-M + S)*(-UGA_star + 1)) + 1.0*(-UGA_star + 1)*(2*UGA_star*(-M + T) + 2*(-M + P)*(-UGA_star + 1)))*(-1.0*(2.0*M*UGA_star - 2.0*R*UGA_star**2 + 2.0*S*UGA_star**2 - 2.0*S*UGA_star)/(2.0*M - 2.0*P*UGA_star**2 + 4.0*P*UGA_star - 2.0*P - 2.0*R*UGA_star**2 + 2.0*S*UGA_star**2 - 2.0*S*UGA_star + 2.0*T*UGA_star**2 - 2.0*T*UGA_star) + 1) + 1.0*(1.0*UGA_star*(2*UGA_star*(-M + R) + 2*(-M + S)*(-UGA_star + 1)) + 0.5*(-UGA_star + 1)*(2*UGA_star*(-M + T) + 2*(-M + P)*(-UGA_star + 1)))*(2.0*M*UGA_star - 2.0*R*UGA_star**2 + 2.0*S*UGA_star**2 - 2.0*S*UGA_star)/(2.0*M - 2.0*P*UGA_star**2 + 4.0*P*UGA_star - 2.0*P - 2.0*R*UGA_star**2 + 2.0*S*UGA_star**2 - 2.0*S*UGA_star + 2.0*T*UGA_star**2 - 2.0*T*UGA_star))"
      ]
     },
     "execution_count": 29,
     "metadata": {},
     "output_type": "execute_result"
    }
   ],
   "source": [
    "evaluated_f_jac"
   ]
  },
  {
   "cell_type": "code",
   "execution_count": 30,
   "metadata": {},
   "outputs": [
    {
     "data": {
      "text/plain": [
       "0.5*(1.0*M**2*U_prime(2.0*M*UGA_star/(2.0*M - 2.0*P*UGA_star**2 + 4.0*P*UGA_star - 2.0*P - 2.0*R*UGA_star**2 + 2.0*S*UGA_star**2 - 2.0*S*UGA_star + 2.0*T*UGA_star**2 - 2.0*T*UGA_star) - 2.0*R*UGA_star**2/(2.0*M - 2.0*P*UGA_star**2 + 4.0*P*UGA_star - 2.0*P - 2.0*R*UGA_star**2 + 2.0*S*UGA_star**2 - 2.0*S*UGA_star + 2.0*T*UGA_star**2 - 2.0*T*UGA_star) + 2.0*S*UGA_star**2/(2.0*M - 2.0*P*UGA_star**2 + 4.0*P*UGA_star - 2.0*P - 2.0*R*UGA_star**2 + 2.0*S*UGA_star**2 - 2.0*S*UGA_star + 2.0*T*UGA_star**2 - 2.0*T*UGA_star) - 2.0*S*UGA_star/(2.0*M - 2.0*P*UGA_star**2 + 4.0*P*UGA_star - 2.0*P - 2.0*R*UGA_star**2 + 2.0*S*UGA_star**2 - 2.0*S*UGA_star + 2.0*T*UGA_star**2 - 2.0*T*UGA_star)) - 1.0*M**2 + 1.0*M*P*UGA_star**2*U_prime(2.0*M*UGA_star/(2.0*M - 2.0*P*UGA_star**2 + 4.0*P*UGA_star - 2.0*P - 2.0*R*UGA_star**2 + 2.0*S*UGA_star**2 - 2.0*S*UGA_star + 2.0*T*UGA_star**2 - 2.0*T*UGA_star) - 2.0*R*UGA_star**2/(2.0*M - 2.0*P*UGA_star**2 + 4.0*P*UGA_star - 2.0*P - 2.0*R*UGA_star**2 + 2.0*S*UGA_star**2 - 2.0*S*UGA_star + 2.0*T*UGA_star**2 - 2.0*T*UGA_star) + 2.0*S*UGA_star**2/(2.0*M - 2.0*P*UGA_star**2 + 4.0*P*UGA_star - 2.0*P - 2.0*R*UGA_star**2 + 2.0*S*UGA_star**2 - 2.0*S*UGA_star + 2.0*T*UGA_star**2 - 2.0*T*UGA_star) - 2.0*S*UGA_star/(2.0*M - 2.0*P*UGA_star**2 + 4.0*P*UGA_star - 2.0*P - 2.0*R*UGA_star**2 + 2.0*S*UGA_star**2 - 2.0*S*UGA_star + 2.0*T*UGA_star**2 - 2.0*T*UGA_star)) + 2.0*M*P*UGA_star**2 - 4.0*M*P*UGA_star - 1.0*M*P*U_prime(2.0*M*UGA_star/(2.0*M - 2.0*P*UGA_star**2 + 4.0*P*UGA_star - 2.0*P - 2.0*R*UGA_star**2 + 2.0*S*UGA_star**2 - 2.0*S*UGA_star + 2.0*T*UGA_star**2 - 2.0*T*UGA_star) - 2.0*R*UGA_star**2/(2.0*M - 2.0*P*UGA_star**2 + 4.0*P*UGA_star - 2.0*P - 2.0*R*UGA_star**2 + 2.0*S*UGA_star**2 - 2.0*S*UGA_star + 2.0*T*UGA_star**2 - 2.0*T*UGA_star) + 2.0*S*UGA_star**2/(2.0*M - 2.0*P*UGA_star**2 + 4.0*P*UGA_star - 2.0*P - 2.0*R*UGA_star**2 + 2.0*S*UGA_star**2 - 2.0*S*UGA_star + 2.0*T*UGA_star**2 - 2.0*T*UGA_star) - 2.0*S*UGA_star/(2.0*M - 2.0*P*UGA_star**2 + 4.0*P*UGA_star - 2.0*P - 2.0*R*UGA_star**2 + 2.0*S*UGA_star**2 - 2.0*S*UGA_star + 2.0*T*UGA_star**2 - 2.0*T*UGA_star)) + 2.0*M*P + 1.0*M*R*UGA_star**2*U_prime(2.0*M*UGA_star/(2.0*M - 2.0*P*UGA_star**2 + 4.0*P*UGA_star - 2.0*P - 2.0*R*UGA_star**2 + 2.0*S*UGA_star**2 - 2.0*S*UGA_star + 2.0*T*UGA_star**2 - 2.0*T*UGA_star) - 2.0*R*UGA_star**2/(2.0*M - 2.0*P*UGA_star**2 + 4.0*P*UGA_star - 2.0*P - 2.0*R*UGA_star**2 + 2.0*S*UGA_star**2 - 2.0*S*UGA_star + 2.0*T*UGA_star**2 - 2.0*T*UGA_star) + 2.0*S*UGA_star**2/(2.0*M - 2.0*P*UGA_star**2 + 4.0*P*UGA_star - 2.0*P - 2.0*R*UGA_star**2 + 2.0*S*UGA_star**2 - 2.0*S*UGA_star + 2.0*T*UGA_star**2 - 2.0*T*UGA_star) - 2.0*S*UGA_star/(2.0*M - 2.0*P*UGA_star**2 + 4.0*P*UGA_star - 2.0*P - 2.0*R*UGA_star**2 + 2.0*S*UGA_star**2 - 2.0*S*UGA_star + 2.0*T*UGA_star**2 - 2.0*T*UGA_star)) + 2.0*M*R*UGA_star**2 - 2.0*M*R*UGA_star*U_prime(2.0*M*UGA_star/(2.0*M - 2.0*P*UGA_star**2 + 4.0*P*UGA_star - 2.0*P - 2.0*R*UGA_star**2 + 2.0*S*UGA_star**2 - 2.0*S*UGA_star + 2.0*T*UGA_star**2 - 2.0*T*UGA_star) - 2.0*R*UGA_star**2/(2.0*M - 2.0*P*UGA_star**2 + 4.0*P*UGA_star - 2.0*P - 2.0*R*UGA_star**2 + 2.0*S*UGA_star**2 - 2.0*S*UGA_star + 2.0*T*UGA_star**2 - 2.0*T*UGA_star) + 2.0*S*UGA_star**2/(2.0*M - 2.0*P*UGA_star**2 + 4.0*P*UGA_star - 2.0*P - 2.0*R*UGA_star**2 + 2.0*S*UGA_star**2 - 2.0*S*UGA_star + 2.0*T*UGA_star**2 - 2.0*T*UGA_star) - 2.0*S*UGA_star/(2.0*M - 2.0*P*UGA_star**2 + 4.0*P*UGA_star - 2.0*P - 2.0*R*UGA_star**2 + 2.0*S*UGA_star**2 - 2.0*S*UGA_star + 2.0*T*UGA_star**2 - 2.0*T*UGA_star)) - 1.0*M*S*UGA_star**2*U_prime(2.0*M*UGA_star/(2.0*M - 2.0*P*UGA_star**2 + 4.0*P*UGA_star - 2.0*P - 2.0*R*UGA_star**2 + 2.0*S*UGA_star**2 - 2.0*S*UGA_star + 2.0*T*UGA_star**2 - 2.0*T*UGA_star) - 2.0*R*UGA_star**2/(2.0*M - 2.0*P*UGA_star**2 + 4.0*P*UGA_star - 2.0*P - 2.0*R*UGA_star**2 + 2.0*S*UGA_star**2 - 2.0*S*UGA_star + 2.0*T*UGA_star**2 - 2.0*T*UGA_star) + 2.0*S*UGA_star**2/(2.0*M - 2.0*P*UGA_star**2 + 4.0*P*UGA_star - 2.0*P - 2.0*R*UGA_star**2 + 2.0*S*UGA_star**2 - 2.0*S*UGA_star + 2.0*T*UGA_star**2 - 2.0*T*UGA_star) - 2.0*S*UGA_star/(2.0*M - 2.0*P*UGA_star**2 + 4.0*P*UGA_star - 2.0*P - 2.0*R*UGA_star**2 + 2.0*S*UGA_star**2 - 2.0*S*UGA_star + 2.0*T*UGA_star**2 - 2.0*T*UGA_star)) - 2.0*M*S*UGA_star**2 + 2.0*M*S*UGA_star*U_prime(2.0*M*UGA_star/(2.0*M - 2.0*P*UGA_star**2 + 4.0*P*UGA_star - 2.0*P - 2.0*R*UGA_star**2 + 2.0*S*UGA_star**2 - 2.0*S*UGA_star + 2.0*T*UGA_star**2 - 2.0*T*UGA_star) - 2.0*R*UGA_star**2/(2.0*M - 2.0*P*UGA_star**2 + 4.0*P*UGA_star - 2.0*P - 2.0*R*UGA_star**2 + 2.0*S*UGA_star**2 - 2.0*S*UGA_star + 2.0*T*UGA_star**2 - 2.0*T*UGA_star) + 2.0*S*UGA_star**2/(2.0*M - 2.0*P*UGA_star**2 + 4.0*P*UGA_star - 2.0*P - 2.0*R*UGA_star**2 + 2.0*S*UGA_star**2 - 2.0*S*UGA_star + 2.0*T*UGA_star**2 - 2.0*T*UGA_star) - 2.0*S*UGA_star/(2.0*M - 2.0*P*UGA_star**2 + 4.0*P*UGA_star - 2.0*P - 2.0*R*UGA_star**2 + 2.0*S*UGA_star**2 - 2.0*S*UGA_star + 2.0*T*UGA_star**2 - 2.0*T*UGA_star)) + 2.0*M*S*UGA_star - 1.0*M*S*U_prime(2.0*M*UGA_star/(2.0*M - 2.0*P*UGA_star**2 + 4.0*P*UGA_star - 2.0*P - 2.0*R*UGA_star**2 + 2.0*S*UGA_star**2 - 2.0*S*UGA_star + 2.0*T*UGA_star**2 - 2.0*T*UGA_star) - 2.0*R*UGA_star**2/(2.0*M - 2.0*P*UGA_star**2 + 4.0*P*UGA_star - 2.0*P - 2.0*R*UGA_star**2 + 2.0*S*UGA_star**2 - 2.0*S*UGA_star + 2.0*T*UGA_star**2 - 2.0*T*UGA_star) + 2.0*S*UGA_star**2/(2.0*M - 2.0*P*UGA_star**2 + 4.0*P*UGA_star - 2.0*P - 2.0*R*UGA_star**2 + 2.0*S*UGA_star**2 - 2.0*S*UGA_star + 2.0*T*UGA_star**2 - 2.0*T*UGA_star) - 2.0*S*UGA_star/(2.0*M - 2.0*P*UGA_star**2 + 4.0*P*UGA_star - 2.0*P - 2.0*R*UGA_star**2 + 2.0*S*UGA_star**2 - 2.0*S*UGA_star + 2.0*T*UGA_star**2 - 2.0*T*UGA_star)) - 1.0*M*T*UGA_star**2*U_prime(2.0*M*UGA_star/(2.0*M - 2.0*P*UGA_star**2 + 4.0*P*UGA_star - 2.0*P - 2.0*R*UGA_star**2 + 2.0*S*UGA_star**2 - 2.0*S*UGA_star + 2.0*T*UGA_star**2 - 2.0*T*UGA_star) - 2.0*R*UGA_star**2/(2.0*M - 2.0*P*UGA_star**2 + 4.0*P*UGA_star - 2.0*P - 2.0*R*UGA_star**2 + 2.0*S*UGA_star**2 - 2.0*S*UGA_star + 2.0*T*UGA_star**2 - 2.0*T*UGA_star) + 2.0*S*UGA_star**2/(2.0*M - 2.0*P*UGA_star**2 + 4.0*P*UGA_star - 2.0*P - 2.0*R*UGA_star**2 + 2.0*S*UGA_star**2 - 2.0*S*UGA_star + 2.0*T*UGA_star**2 - 2.0*T*UGA_star) - 2.0*S*UGA_star/(2.0*M - 2.0*P*UGA_star**2 + 4.0*P*UGA_star - 2.0*P - 2.0*R*UGA_star**2 + 2.0*S*UGA_star**2 - 2.0*S*UGA_star + 2.0*T*UGA_star**2 - 2.0*T*UGA_star)) - 2.0*M*T*UGA_star**2 + 2.0*M*T*UGA_star - 1.0*P**2*UGA_star**4 + 4.0*P**2*UGA_star**3 - 6.0*P**2*UGA_star**2 + 4.0*P**2*UGA_star - 1.0*P**2 - 2.0*P*R*UGA_star**4 + 4.0*P*R*UGA_star**3 - 2.0*P*R*UGA_star**2*U_prime(2.0*M*UGA_star/(2.0*M - 2.0*P*UGA_star**2 + 4.0*P*UGA_star - 2.0*P - 2.0*R*UGA_star**2 + 2.0*S*UGA_star**2 - 2.0*S*UGA_star + 2.0*T*UGA_star**2 - 2.0*T*UGA_star) - 2.0*R*UGA_star**2/(2.0*M - 2.0*P*UGA_star**2 + 4.0*P*UGA_star - 2.0*P - 2.0*R*UGA_star**2 + 2.0*S*UGA_star**2 - 2.0*S*UGA_star + 2.0*T*UGA_star**2 - 2.0*T*UGA_star) + 2.0*S*UGA_star**2/(2.0*M - 2.0*P*UGA_star**2 + 4.0*P*UGA_star - 2.0*P - 2.0*R*UGA_star**2 + 2.0*S*UGA_star**2 - 2.0*S*UGA_star + 2.0*T*UGA_star**2 - 2.0*T*UGA_star) - 2.0*S*UGA_star/(2.0*M - 2.0*P*UGA_star**2 + 4.0*P*UGA_star - 2.0*P - 2.0*R*UGA_star**2 + 2.0*S*UGA_star**2 - 2.0*S*UGA_star + 2.0*T*UGA_star**2 - 2.0*T*UGA_star)) - 2.0*P*R*UGA_star**2 + 2.0*P*R*UGA_star*U_prime(2.0*M*UGA_star/(2.0*M - 2.0*P*UGA_star**2 + 4.0*P*UGA_star - 2.0*P - 2.0*R*UGA_star**2 + 2.0*S*UGA_star**2 - 2.0*S*UGA_star + 2.0*T*UGA_star**2 - 2.0*T*UGA_star) - 2.0*R*UGA_star**2/(2.0*M - 2.0*P*UGA_star**2 + 4.0*P*UGA_star - 2.0*P - 2.0*R*UGA_star**2 + 2.0*S*UGA_star**2 - 2.0*S*UGA_star + 2.0*T*UGA_star**2 - 2.0*T*UGA_star) + 2.0*S*UGA_star**2/(2.0*M - 2.0*P*UGA_star**2 + 4.0*P*UGA_star - 2.0*P - 2.0*R*UGA_star**2 + 2.0*S*UGA_star**2 - 2.0*S*UGA_star + 2.0*T*UGA_star**2 - 2.0*T*UGA_star) - 2.0*S*UGA_star/(2.0*M - 2.0*P*UGA_star**2 + 4.0*P*UGA_star - 2.0*P - 2.0*R*UGA_star**2 + 2.0*S*UGA_star**2 - 2.0*S*UGA_star + 2.0*T*UGA_star**2 - 2.0*T*UGA_star)) + 2.0*P*S*UGA_star**4 - 6.0*P*S*UGA_star**3 + 1.0*P*S*UGA_star**2*U_prime(2.0*M*UGA_star/(2.0*M - 2.0*P*UGA_star**2 + 4.0*P*UGA_star - 2.0*P - 2.0*R*UGA_star**2 + 2.0*S*UGA_star**2 - 2.0*S*UGA_star + 2.0*T*UGA_star**2 - 2.0*T*UGA_star) - 2.0*R*UGA_star**2/(2.0*M - 2.0*P*UGA_star**2 + 4.0*P*UGA_star - 2.0*P - 2.0*R*UGA_star**2 + 2.0*S*UGA_star**2 - 2.0*S*UGA_star + 2.0*T*UGA_star**2 - 2.0*T*UGA_star) + 2.0*S*UGA_star**2/(2.0*M - 2.0*P*UGA_star**2 + 4.0*P*UGA_star - 2.0*P - 2.0*R*UGA_star**2 + 2.0*S*UGA_star**2 - 2.0*S*UGA_star + 2.0*T*UGA_star**2 - 2.0*T*UGA_star) - 2.0*S*UGA_star/(2.0*M - 2.0*P*UGA_star**2 + 4.0*P*UGA_star - 2.0*P - 2.0*R*UGA_star**2 + 2.0*S*UGA_star**2 - 2.0*S*UGA_star + 2.0*T*UGA_star**2 - 2.0*T*UGA_star)) + 6.0*P*S*UGA_star**2 - 2.0*P*S*UGA_star*U_prime(2.0*M*UGA_star/(2.0*M - 2.0*P*UGA_star**2 + 4.0*P*UGA_star - 2.0*P - 2.0*R*UGA_star**2 + 2.0*S*UGA_star**2 - 2.0*S*UGA_star + 2.0*T*UGA_star**2 - 2.0*T*UGA_star) - 2.0*R*UGA_star**2/(2.0*M - 2.0*P*UGA_star**2 + 4.0*P*UGA_star - 2.0*P - 2.0*R*UGA_star**2 + 2.0*S*UGA_star**2 - 2.0*S*UGA_star + 2.0*T*UGA_star**2 - 2.0*T*UGA_star) + 2.0*S*UGA_star**2/(2.0*M - 2.0*P*UGA_star**2 + 4.0*P*UGA_star - 2.0*P - 2.0*R*UGA_star**2 + 2.0*S*UGA_star**2 - 2.0*S*UGA_star + 2.0*T*UGA_star**2 - 2.0*T*UGA_star) - 2.0*S*UGA_star/(2.0*M - 2.0*P*UGA_star**2 + 4.0*P*UGA_star - 2.0*P - 2.0*R*UGA_star**2 + 2.0*S*UGA_star**2 - 2.0*S*UGA_star + 2.0*T*UGA_star**2 - 2.0*T*UGA_star)) - 2.0*P*S*UGA_star + 1.0*P*S*U_prime(2.0*M*UGA_star/(2.0*M - 2.0*P*UGA_star**2 + 4.0*P*UGA_star - 2.0*P - 2.0*R*UGA_star**2 + 2.0*S*UGA_star**2 - 2.0*S*UGA_star + 2.0*T*UGA_star**2 - 2.0*T*UGA_star) - 2.0*R*UGA_star**2/(2.0*M - 2.0*P*UGA_star**2 + 4.0*P*UGA_star - 2.0*P - 2.0*R*UGA_star**2 + 2.0*S*UGA_star**2 - 2.0*S*UGA_star + 2.0*T*UGA_star**2 - 2.0*T*UGA_star) + 2.0*S*UGA_star**2/(2.0*M - 2.0*P*UGA_star**2 + 4.0*P*UGA_star - 2.0*P - 2.0*R*UGA_star**2 + 2.0*S*UGA_star**2 - 2.0*S*UGA_star + 2.0*T*UGA_star**2 - 2.0*T*UGA_star) - 2.0*S*UGA_star/(2.0*M - 2.0*P*UGA_star**2 + 4.0*P*UGA_star - 2.0*P - 2.0*R*UGA_star**2 + 2.0*S*UGA_star**2 - 2.0*S*UGA_star + 2.0*T*UGA_star**2 - 2.0*T*UGA_star)) + 2.0*P*T*UGA_star**4 - 6.0*P*T*UGA_star**3 + 6.0*P*T*UGA_star**2 - 2.0*P*T*UGA_star - 1.0*R**2*UGA_star**4 + 2.0*R*S*UGA_star**4 - 2.0*R*S*UGA_star**3 + 2.0*R*T*UGA_star**4 - 2.0*R*T*UGA_star**3 + 1.0*R*T*UGA_star**2*U_prime(2.0*M*UGA_star/(2.0*M - 2.0*P*UGA_star**2 + 4.0*P*UGA_star - 2.0*P - 2.0*R*UGA_star**2 + 2.0*S*UGA_star**2 - 2.0*S*UGA_star + 2.0*T*UGA_star**2 - 2.0*T*UGA_star) - 2.0*R*UGA_star**2/(2.0*M - 2.0*P*UGA_star**2 + 4.0*P*UGA_star - 2.0*P - 2.0*R*UGA_star**2 + 2.0*S*UGA_star**2 - 2.0*S*UGA_star + 2.0*T*UGA_star**2 - 2.0*T*UGA_star) + 2.0*S*UGA_star**2/(2.0*M - 2.0*P*UGA_star**2 + 4.0*P*UGA_star - 2.0*P - 2.0*R*UGA_star**2 + 2.0*S*UGA_star**2 - 2.0*S*UGA_star + 2.0*T*UGA_star**2 - 2.0*T*UGA_star) - 2.0*S*UGA_star/(2.0*M - 2.0*P*UGA_star**2 + 4.0*P*UGA_star - 2.0*P - 2.0*R*UGA_star**2 + 2.0*S*UGA_star**2 - 2.0*S*UGA_star + 2.0*T*UGA_star**2 - 2.0*T*UGA_star)) - 1.0*S**2*UGA_star**4 + 2.0*S**2*UGA_star**3 - 1.0*S**2*UGA_star**2 - 2.0*S*T*UGA_star**4 + 4.0*S*T*UGA_star**3 - 2.0*S*T*UGA_star**2 - 1.0*T**2*UGA_star**4 + 2.0*T**2*UGA_star**3 - 1.0*T**2*UGA_star**2)/(1.0*M - 1.0*P*UGA_star**2 + 2.0*P*UGA_star - 1.0*P - 1.0*R*UGA_star**2 + 1.0*S*UGA_star**2 - 1.0*S*UGA_star + 1.0*T*UGA_star**2 - 1.0*T*UGA_star)**2"
      ]
     },
     "execution_count": 30,
     "metadata": {},
     "output_type": "execute_result"
    }
   ],
   "source": [
    "sym.factor(sym.cancel(sym.together(evaluated_f_jac)))"
   ]
  },
  {
   "cell_type": "code",
   "execution_count": 31,
   "metadata": {
    "collapsed": true,
    "jupyter": {
     "outputs_hidden": true
    }
   },
   "outputs": [],
   "source": [
    "# the above expression can be reduce to a ratio of two, two-dimensional polynomial functions in U and U'...\n",
    "numerator, denominator = sym.fraction(sym.factor(sym.cancel(sym.together(evaluated_f_jac))))"
   ]
  },
  {
   "cell_type": "markdown",
   "metadata": {},
   "source": [
    "Can we prove that the denominator is strictly positive? If so, then we have reduced the problem of finding the sign of the Jacobian to finding the sign of the expression in the numerator. Yes!"
   ]
  },
  {
   "cell_type": "code",
   "execution_count": 32,
   "metadata": {},
   "outputs": [
    {
     "data": {
      "text/plain": [
       "1.0*(1.0*M - 1.0*P*UGA_star**2 + 2.0*P*UGA_star - 1.0*P - 1.0*R*UGA_star**2 + 1.0*S*UGA_star**2 - 1.0*S*UGA_star + 1.0*T*UGA_star**2 - 1.0*T*UGA_star)**2"
      ]
     },
     "execution_count": 32,
     "metadata": {},
     "output_type": "execute_result"
    }
   ],
   "source": [
    "sym.factor(denominator)"
   ]
  },
  {
   "cell_type": "markdown",
   "metadata": {},
   "source": [
    "Now we can solve the numerator for $U'_{GA}(x^*)$.  This will allow us to write the condition for which the Jacobian will be negative as an upper bound on $U'_{GA}(x^*)$."
   ]
  },
  {
   "cell_type": "code",
   "execution_count": 34,
   "metadata": {},
   "outputs": [
    {
     "ename": "ValueError",
     "evalue": "not enough values to unpack (expected 1, got 0)",
     "output_type": "error",
     "traceback": [
      "\u001b[0;31m---------------------------------------------------------------------------\u001b[0m",
      "\u001b[0;31mValueError\u001b[0m                                Traceback (most recent call last)",
      "\u001b[0;32m<ipython-input-34-544b63827706>\u001b[0m in \u001b[0;36m<module>\u001b[0;34m()\u001b[0m\n\u001b[0;32m----> 1\u001b[0;31m \u001b[0mupper_bound\u001b[0m\u001b[0;34m,\u001b[0m \u001b[0;34m=\u001b[0m \u001b[0msym\u001b[0m\u001b[0;34m.\u001b[0m\u001b[0msolve\u001b[0m\u001b[0;34m(\u001b[0m\u001b[0mnumerator\u001b[0m\u001b[0;34m,\u001b[0m \u001b[0mUGA_prime_star\u001b[0m\u001b[0;34m)\u001b[0m\u001b[0;34m\u001b[0m\u001b[0m\n\u001b[0m",
      "\u001b[0;31mValueError\u001b[0m: not enough values to unpack (expected 1, got 0)"
     ]
    }
   ],
   "source": [
    "upper_bound, = sym.solve(numerator, UGA_prime_star)"
   ]
  },
  {
   "cell_type": "code",
   "execution_count": null,
   "metadata": {},
   "outputs": [],
   "source": [
    "sym.factor(upper_bound)"
   ]
  },
  {
   "cell_type": "markdown",
   "metadata": {},
   "source": [
    "After fiddling around with the above expression we arrive at the following condition for a negative Jacobian and a stable interior equilibrium at $0 < x^* < 1$.\n",
    "\n",
    "\\begin{align}\n",
    "   % U'_{GA}(x^*) <& \\frac{(M - PU_{GA}^{*2} + 2PU_{GA}^* - P - RU_{GA}^{*2} + SU_{GA}^{*2} - SU_{GA}^* + TU_{GA}^{*2} - TU_{GA}^*)^2}{(M^2 + MPU_{GA}^{*2} - MP + MRU_{GA}^{*2} - 2MRU_{GA}^* - MSU_{GA}^{*2} + 2MSU_{GA}^* - MS - MTU_{GA}^{*2} - 2PRU_{GA}^{*2} + 2PRU_{GA}^* + PSU_{GA}^{*2} - 2PSU_{GA}^* + PS + RTU_{GA}^{*2})} \\\\\n",
    "   % U'_{GA}(x^*) <& \\frac{\\bigg(-1(-M + PU_{GA}^{*2} - 2PU_{GA}^* + P + RU_{GA}^{*2} - SU_{GA}^{*2} + SU_{GA}^* - TU_{GA}^{*2} + TU_{GA}^*)\\bigg)^2}{(M^2 + MPU_{GA}^{*2} - MP + MRU_{GA}^{*2} - 2MRU_{GA}^* - MSU_{GA}^{*2} + 2MSU_{GA}^* - MS - MTU_{GA}^{*2} - 2PRU_{GA}^{*2} + 2PRU_{GA}^* + PSU_{GA}^{*2} - 2PSU_{GA}^* + PS + RTU_{GA}^{*2})} \\\\\n",
    "   % U'_{GA}(x^*) <& \\frac{\\bigg(\\big((R + P) - (T + S)\\big)U_{GA}^{*2} + \\big((T + S) - 2P\\big)U_{GA}^* + \\big(P - M\\big)\\bigg)^2}{MRU_{GA}^{*2} + MPU_{GA}^{*2} - MSU_{GA}^{*2} - MTU_{GA}^{*2} - 2PRU_{GA}^{*2} + PSU_{GA}^{*2} + RTU_{GA}^{*2} - 2MRU_{GA}^* + 2MSU_{GA}^* + 2PRU_{GA}^* - 2PSU_{GA}^* + PS - MS - MP + M^2 }\\\\\n",
    "   % U'_{GA}(x^*) <& \\frac{\\bigg(\\big((R + P) - (T + S)\\big)U_{GA}^{*2} + \\big((T + S) - 2P\\big)U_{GA}^* + \\big(P - M\\big)\\bigg)^2}{\\bigg(M\\big((R + P) - (T + S)\\big) + \\big(TR + PS - 2RP\\big)\\bigg)U_{GA}^{*2} + 2(R - S)(P - M)U_{GA}^* + \\big(PS - M(P + S) + M^2\\big) }\\\\\n",
    "    U'_{GA}(x^*) <& \\frac{\\bigg(\\big((R + P) - (T + S)\\big)U_{GA}^{*2} + \\big((T + S) - 2P\\big)U_{GA}^* + \\big(P - M\\big)\\bigg)^2}{\\bigg(M\\big((R + P) - (T + S)\\big) + \\big(TR + PS - 2RP\\big)\\bigg)U_{GA}^{*2} + 2(R - S)(P - M)U_{GA}^* + (P - M)(S - M)}\\\\\n",
    "\\end{align}\n",
    "\n",
    "We should be able to recover the stability conditions for the corner equilibria as a special case of the above condition. Recall that $U_{GA}(0) = 0$ and $U_{GA}(1)=1$. When $x^*=0$ the condition reduces to $U'_{GA}(0) < \\frac{P - M}{S - M}$ and when $x^*=1$ the condition reduces to $U'_{GA}(1) < \\frac{R - M}{T - M}$.\n",
    "\n",
    "Can also use a graphical approach to check the correctness of the above condition.  The above condition should be the zero contour in a contour plot of the value of the Jacobian as a function of $U_{GA}$ and $U'_{GA}$."
   ]
  },
  {
   "cell_type": "code",
   "execution_count": null,
   "metadata": {
    "collapsed": true,
    "jupyter": {
     "outputs_hidden": true
    }
   },
   "outputs": [],
   "source": [
    "# vectorized numerical function created from our symbolic expression\n",
    "_numeric_f_jac = sym.lambdify((UGA_star, UGA_prime_star, T, R, P, S, M), evaluated_f_jac, modules=\"numpy\")"
   ]
  },
  {
   "cell_type": "code",
   "execution_count": null,
   "metadata": {
    "collapsed": true,
    "jupyter": {
     "outputs_hidden": true
    }
   },
   "outputs": [],
   "source": [
    "def plot_jacobian(T, R, P, S, M):\n",
    "\n",
    "    fig, ax = plt.subplots(1, 1, figsize=(20, 10))\n",
    "    ax.set_ylabel(r\"$U_{GA}^*$\", fontsize=20, rotation=\"horizontal\")\n",
    "    ax.set_xlabel(r\"$U_{GA}^{'*}$\", fontsize=20)\n",
    "    ax.set_title(r\"Negative values of $\\frac{\\partial \\dot{x}_1}{\\partial x_1}$ indicate stability!\", fontsize=25)\n",
    "    ax.grid(\"off\")\n",
    "\n",
    "    equilibrium_selection_probs = np.linspace(0, 1, 100).reshape(-1, 1)\n",
    "    equilibrium_selection_derivs = np.linspace(0, 10, 1000).reshape(1, -1) # sensible UGA'(0) >= 1\n",
    "    Z = _numeric_f_jac(equilibrium_selection_probs, equilibrium_selection_derivs, T, R, P, S, M)\n",
    "    cax = ax.imshow(Z, origin=\"lower\", aspect=\"auto\", vmin=-0.5, vmax=1.0)\n",
    "\n",
    "    levels = np.arange(-0.25, 1.25, 0.25)\n",
    "    contours = ax.contour(Z, levels=levels, colors='w', origin='lower')\n",
    "    ax.clabel(contours, contours.levels, inline=True, fontsize=10)\n",
    "    \n",
    "    # adjust the tick labels\n",
    "    locs, _ = plt.xticks()\n",
    "    plt.xticks(locs[1:], np.linspace(0, 10, locs.size-1))\n",
    "    locs, _ = plt.yticks()\n",
    "    plt.yticks(locs[1:], np.linspace(0, 1, locs.size-1))\n",
    "\n",
    "    plt.show()"
   ]
  },
  {
   "cell_type": "code",
   "execution_count": null,
   "metadata": {},
   "outputs": [],
   "source": [
    "mpld3.disable_notebook()  # don't need interactive plotting for this!\n",
    "\n",
    "# sliders used to control the Prisoner's Dilemma Payoffs\n",
    "T_slider = widgets.FloatSlider(value=25, min=0, max=100, step=0.1, description=r\"$T$\")\n",
    "R_slider = widgets.FloatSlider(value=3, min=0, max=100, step=0.1, description=r\"$R$\")\n",
    "P_slider = widgets.FloatSlider(value=2, min=0, max=100, step=0.1, description=r\"$P$\")\n",
    "S_slider = widgets.FloatSlider(value=1, min=0, max=100, step=0.1, description=r\"$S$\")\n",
    "\n",
    "M_slider = widgets.FloatSlider(value=1, min=0, max=100, step=0.1, description=r\"$M$\")\n",
    "\n",
    "w = widgets.interactive(plot_jacobian, T=T_slider, R=R_slider, P=P_slider, S=S_slider, M=M_slider)\n",
    "display(w)"
   ]
  },
  {
   "cell_type": "markdown",
   "metadata": {},
   "source": [
    "# Invadability\n",
    "\n",
    "Restrict the full model to obtain a monomorphic $\\gamma$ equilibrium, add a small amount of individuals carrying the $g$ allele of the $\\gamma$ gene and simulate."
   ]
  },
  {
   "cell_type": "code",
   "execution_count": 128,
   "metadata": {},
   "outputs": [],
   "source": [
    "W = models.generalized_sexual_selection(x, UGA, UgA, payoff_kernel, 0, 0, 0)\n",
    "(f1,), (f2,), (f3,), _ = models.offspring_genotypes_evolution(W, x)"
   ]
  },
  {
   "cell_type": "code",
   "execution_count": 129,
   "metadata": {},
   "outputs": [],
   "source": [
    "F = sym.Matrix([f1, f2, f3])"
   ]
  },
  {
   "cell_type": "code",
   "execution_count": null,
   "metadata": {},
   "outputs": [],
   "source": []
  },
  {
   "cell_type": "code",
   "execution_count": 142,
   "metadata": {},
   "outputs": [],
   "source": [
    "equilibrium_x1, = sym.solve(sym.factor(f1.subs({x2: 1 - x1, x3: 0}), UGA(x1), x1), x1, implicit=True)"
   ]
  },
  {
   "cell_type": "code",
   "execution_count": 143,
   "metadata": {},
   "outputs": [],
   "source": [
    "F_jac = F.jacobian([x1, x2, x3]).subs({x2: 1 - x1, x3: 0}).subs({x1: equilibrium_x1}).doit()"
   ]
  },
  {
   "cell_type": "code",
   "execution_count": null,
   "metadata": {},
   "outputs": [],
   "source": []
  },
  {
   "cell_type": "code",
   "execution_count": 144,
   "metadata": {},
   "outputs": [
    {
     "data": {
      "text/plain": [
       "(0.5*(2*R*UGA((R*UGA(x1)**2 - S*UGA(x1)**2 + S*UGA(x1))/(P*UGA(x1)**2 - 2.0*P*UGA(x1) + P + R*UGA(x1)**2 - S*UGA(x1)**2 + S*UGA(x1) - T*UGA(x1)**2 + T*UGA(x1))) + 2*S*(-UGA((R*UGA(x1)**2 - S*UGA(x1)**2 + S*UGA(x1))/(P*UGA(x1)**2 - 2.0*P*UGA(x1) + P + R*UGA(x1)**2 - S*UGA(x1)**2 + S*UGA(x1) - T*UGA(x1)**2 + T*UGA(x1))) + 1))*(-(R*UGA(x1)**2 - S*UGA(x1)**2 + S*UGA(x1))/(P*UGA(x1)**2 - 2.0*P*UGA(x1) + P + R*UGA(x1)**2 - S*UGA(x1)**2 + S*UGA(x1) - T*UGA(x1)**2 + T*UGA(x1)) + 1)*UGA((R*UGA(x1)**2 - S*UGA(x1)**2 + S*UGA(x1))/(P*UGA(x1)**2 - 2.0*P*UGA(x1) + P + R*UGA(x1)**2 - S*UGA(x1)**2 + S*UGA(x1) - T*UGA(x1)**2 + T*UGA(x1))) + (0.5*(2*P*(-UGA((R*UGA(x1)**2 - S*UGA(x1)**2 + S*UGA(x1))/(P*UGA(x1)**2 - 2.0*P*UGA(x1) + P + R*UGA(x1)**2 - S*UGA(x1)**2 + S*UGA(x1) - T*UGA(x1)**2 + T*UGA(x1))) + 1) + 2*T*UGA((R*UGA(x1)**2 - S*UGA(x1)**2 + S*UGA(x1))/(P*UGA(x1)**2 - 2.0*P*UGA(x1) + P + R*UGA(x1)**2 - S*UGA(x1)**2 + S*UGA(x1) - T*UGA(x1)**2 + T*UGA(x1))))*(-UGA((R*UGA(x1)**2 - S*UGA(x1)**2 + S*UGA(x1))/(P*UGA(x1)**2 - 2.0*P*UGA(x1) + P + R*UGA(x1)**2 - S*UGA(x1)**2 + S*UGA(x1) - T*UGA(x1)**2 + T*UGA(x1))) + 1) + 1.0*(2*R*UGA((R*UGA(x1)**2 - S*UGA(x1)**2 + S*UGA(x1))/(P*UGA(x1)**2 - 2.0*P*UGA(x1) + P + R*UGA(x1)**2 - S*UGA(x1)**2 + S*UGA(x1) - T*UGA(x1)**2 + T*UGA(x1))) + 2*S*(-UGA((R*UGA(x1)**2 - S*UGA(x1)**2 + S*UGA(x1))/(P*UGA(x1)**2 - 2.0*P*UGA(x1) + P + R*UGA(x1)**2 - S*UGA(x1)**2 + S*UGA(x1) - T*UGA(x1)**2 + T*UGA(x1))) + 1))*UGA((R*UGA(x1)**2 - S*UGA(x1)**2 + S*UGA(x1))/(P*UGA(x1)**2 - 2.0*P*UGA(x1) + P + R*UGA(x1)**2 - S*UGA(x1)**2 + S*UGA(x1) - T*UGA(x1)**2 + T*UGA(x1))))*(R*UGA(x1)**2 - S*UGA(x1)**2 + S*UGA(x1))/(P*UGA(x1)**2 - 2.0*P*UGA(x1) + P + R*UGA(x1)**2 - S*UGA(x1)**2 + S*UGA(x1) - T*UGA(x1)**2 + T*UGA(x1)))*(-0.5*(2*P*(-UGA((R*UGA(x1)**2 - S*UGA(x1)**2 + S*UGA(x1))/(P*UGA(x1)**2 - 2.0*P*UGA(x1) + P + R*UGA(x1)**2 - S*UGA(x1)**2 + S*UGA(x1) - T*UGA(x1)**2 + T*UGA(x1))) + 1) + 2*T*UGA((R*UGA(x1)**2 - S*UGA(x1)**2 + S*UGA(x1))/(P*UGA(x1)**2 - 2.0*P*UGA(x1) + P + R*UGA(x1)**2 - S*UGA(x1)**2 + S*UGA(x1) - T*UGA(x1)**2 + T*UGA(x1))))*(-UGA((R*UGA(x1)**2 - S*UGA(x1)**2 + S*UGA(x1))/(P*UGA(x1)**2 - 2.0*P*UGA(x1) + P + R*UGA(x1)**2 - S*UGA(x1)**2 + S*UGA(x1) - T*UGA(x1)**2 + T*UGA(x1))) + 1) + 0.5*(2*P*(-UGA((R*UGA(x1)**2 - S*UGA(x1)**2 + S*UGA(x1))/(P*UGA(x1)**2 - 2.0*P*UGA(x1) + P + R*UGA(x1)**2 - S*UGA(x1)**2 + S*UGA(x1) - T*UGA(x1)**2 + T*UGA(x1))) + 1) + 2*T*UGA((R*UGA(x1)**2 - S*UGA(x1)**2 + S*UGA(x1))/(P*UGA(x1)**2 - 2.0*P*UGA(x1) + P + R*UGA(x1)**2 - S*UGA(x1)**2 + S*UGA(x1) - T*UGA(x1)**2 + T*UGA(x1))))*(-UGA((R*UGA(x1)**2 - S*UGA(x1)**2 + S*UGA(x1))/(P*UGA(x1)**2 - 2.0*P*UGA(x1) + P + R*UGA(x1)**2 - S*UGA(x1)**2 + S*UGA(x1) - T*UGA(x1)**2 + T*UGA(x1))) + 1)*(R*UGA(x1)**2 - S*UGA(x1)**2 + S*UGA(x1))/((-(R*UGA(x1)**2 - S*UGA(x1)**2 + S*UGA(x1))/(P*UGA(x1)**2 - 2.0*P*UGA(x1) + P + R*UGA(x1)**2 - S*UGA(x1)**2 + S*UGA(x1) - T*UGA(x1)**2 + T*UGA(x1)) + 1)*(P*UGA(x1)**2 - 2.0*P*UGA(x1) + P + R*UGA(x1)**2 - S*UGA(x1)**2 + S*UGA(x1) - T*UGA(x1)**2 + T*UGA(x1))) + 1.0*(2*P*(-UgA((R*UGA(x1)**2 - S*UGA(x1)**2 + S*UGA(x1))/(P*UGA(x1)**2 - 2.0*P*UGA(x1) + P + R*UGA(x1)**2 - S*UGA(x1)**2 + S*UGA(x1) - T*UGA(x1)**2 + T*UGA(x1))) + 1) + 2*T*UgA((R*UGA(x1)**2 - S*UGA(x1)**2 + S*UGA(x1))/(P*UGA(x1)**2 - 2.0*P*UGA(x1) + P + R*UGA(x1)**2 - S*UGA(x1)**2 + S*UGA(x1) - T*UGA(x1)**2 + T*UGA(x1))))*(-UgA((R*UGA(x1)**2 - S*UGA(x1)**2 + S*UGA(x1))/(P*UGA(x1)**2 - 2.0*P*UGA(x1) + P + R*UGA(x1)**2 - S*UGA(x1)**2 + S*UGA(x1) - T*UGA(x1)**2 + T*UGA(x1))) + 1) - 1.0*(2*R*UGA((R*UGA(x1)**2 - S*UGA(x1)**2 + S*UGA(x1))/(P*UGA(x1)**2 - 2.0*P*UGA(x1) + P + R*UGA(x1)**2 - S*UGA(x1)**2 + S*UGA(x1) - T*UGA(x1)**2 + T*UGA(x1))) + 2*S*(-UGA((R*UGA(x1)**2 - S*UGA(x1)**2 + S*UGA(x1))/(P*UGA(x1)**2 - 2.0*P*UGA(x1) + P + R*UGA(x1)**2 - S*UGA(x1)**2 + S*UGA(x1) - T*UGA(x1)**2 + T*UGA(x1))) + 1))*UGA((R*UGA(x1)**2 - S*UGA(x1)**2 + S*UGA(x1))/(P*UGA(x1)**2 - 2.0*P*UGA(x1) + P + R*UGA(x1)**2 - S*UGA(x1)**2 + S*UGA(x1) - T*UGA(x1)**2 + T*UGA(x1))) + 1.0*(2*R*UgA((R*UGA(x1)**2 - S*UGA(x1)**2 + S*UGA(x1))/(P*UGA(x1)**2 - 2.0*P*UGA(x1) + P + R*UGA(x1)**2 - S*UGA(x1)**2 + S*UGA(x1) - T*UGA(x1)**2 + T*UGA(x1))) + 2*S*(-UgA((R*UGA(x1)**2 - S*UGA(x1)**2 + S*UGA(x1))/(P*UGA(x1)**2 - 2.0*P*UGA(x1) + P + R*UGA(x1)**2 - S*UGA(x1)**2 + S*UGA(x1) - T*UGA(x1)**2 + T*UGA(x1))) + 1))*UgA((R*UGA(x1)**2 - S*UGA(x1)**2 + S*UGA(x1))/(P*UGA(x1)**2 - 2.0*P*UGA(x1) + P + R*UGA(x1)**2 - S*UGA(x1)**2 + S*UGA(x1) - T*UGA(x1)**2 + T*UGA(x1))) - (0.5*(2*R*UGA((R*UGA(x1)**2 - S*UGA(x1)**2 + S*UGA(x1))/(P*UGA(x1)**2 - 2.0*P*UGA(x1) + P + R*UGA(x1)**2 - S*UGA(x1)**2 + S*UGA(x1) - T*UGA(x1)**2 + T*UGA(x1))) + 2*S*(-UGA((R*UGA(x1)**2 - S*UGA(x1)**2 + S*UGA(x1))/(P*UGA(x1)**2 - 2.0*P*UGA(x1) + P + R*UGA(x1)**2 - S*UGA(x1)**2 + S*UGA(x1) - T*UGA(x1)**2 + T*UGA(x1))) + 1))*Subs(Derivative(UGA(_xi_1), _xi_1), (_xi_1,), ((R*UGA(x1)**2 - S*UGA(x1)**2 + S*UGA(x1))/(P*UGA(x1)**2 - 2.0*P*UGA(x1) + P + R*UGA(x1)**2 - S*UGA(x1)**2 + S*UGA(x1) - T*UGA(x1)**2 + T*UGA(x1)),)) + 0.5*(2*R*Subs(Derivative(UGA(_xi_1), _xi_1), (_xi_1,), ((R*UGA(x1)**2 - S*UGA(x1)**2 + S*UGA(x1))/(P*UGA(x1)**2 - 2.0*P*UGA(x1) + P + R*UGA(x1)**2 - S*UGA(x1)**2 + S*UGA(x1) - T*UGA(x1)**2 + T*UGA(x1)),)) - 2*S*Subs(Derivative(UGA(_xi_1), _xi_1), (_xi_1,), ((R*UGA(x1)**2 - S*UGA(x1)**2 + S*UGA(x1))/(P*UGA(x1)**2 - 2.0*P*UGA(x1) + P + R*UGA(x1)**2 - S*UGA(x1)**2 + S*UGA(x1) - T*UGA(x1)**2 + T*UGA(x1)),)))*UGA((R*UGA(x1)**2 - S*UGA(x1)**2 + S*UGA(x1))/(P*UGA(x1)**2 - 2.0*P*UGA(x1) + P + R*UGA(x1)**2 - S*UGA(x1)**2 + S*UGA(x1) - T*UGA(x1)**2 + T*UGA(x1))))*(-(R*UGA(x1)**2 - S*UGA(x1)**2 + S*UGA(x1))/(P*UGA(x1)**2 - 2.0*P*UGA(x1) + P + R*UGA(x1)**2 - S*UGA(x1)**2 + S*UGA(x1) - T*UGA(x1)**2 + T*UGA(x1)) + 1) - (-(R*UGA(x1)**2 - S*UGA(x1)**2 + S*UGA(x1))/(P*UGA(x1)**2 - 2.0*P*UGA(x1) + P + R*UGA(x1)**2 - S*UGA(x1)**2 + S*UGA(x1) - T*UGA(x1)**2 + T*UGA(x1)) + 1)*(-1.0*(2*P*(-UGA((R*UGA(x1)**2 - S*UGA(x1)**2 + S*UGA(x1))/(P*UGA(x1)**2 - 2.0*P*UGA(x1) + P + R*UGA(x1)**2 - S*UGA(x1)**2 + S*UGA(x1) - T*UGA(x1)**2 + T*UGA(x1))) + 1) + 2*T*UGA((R*UGA(x1)**2 - S*UGA(x1)**2 + S*UGA(x1))/(P*UGA(x1)**2 - 2.0*P*UGA(x1) + P + R*UGA(x1)**2 - S*UGA(x1)**2 + S*UGA(x1) - T*UGA(x1)**2 + T*UGA(x1))))*Subs(Derivative(UGA(_xi_1), _xi_1), (_xi_1,), ((R*UGA(x1)**2 - S*UGA(x1)**2 + S*UGA(x1))/(P*UGA(x1)**2 - 2.0*P*UGA(x1) + P + R*UGA(x1)**2 - S*UGA(x1)**2 + S*UGA(x1) - T*UGA(x1)**2 + T*UGA(x1)),)) + 0.5*(2*P*(-UGA((R*UGA(x1)**2 - S*UGA(x1)**2 + S*UGA(x1))/(P*UGA(x1)**2 - 2.0*P*UGA(x1) + P + R*UGA(x1)**2 - S*UGA(x1)**2 + S*UGA(x1) - T*UGA(x1)**2 + T*UGA(x1))) + 1) + 2*T*UGA((R*UGA(x1)**2 - S*UGA(x1)**2 + S*UGA(x1))/(P*UGA(x1)**2 - 2.0*P*UGA(x1) + P + R*UGA(x1)**2 - S*UGA(x1)**2 + S*UGA(x1) - T*UGA(x1)**2 + T*UGA(x1))))*(-UGA((R*UGA(x1)**2 - S*UGA(x1)**2 + S*UGA(x1))/(P*UGA(x1)**2 - 2.0*P*UGA(x1) + P + R*UGA(x1)**2 - S*UGA(x1)**2 + S*UGA(x1) - T*UGA(x1)**2 + T*UGA(x1))) + 1)/(-(R*UGA(x1)**2 - S*UGA(x1)**2 + S*UGA(x1))/(P*UGA(x1)**2 - 2.0*P*UGA(x1) + P + R*UGA(x1)**2 - S*UGA(x1)**2 + S*UGA(x1) - T*UGA(x1)**2 + T*UGA(x1)) + 1) + 1.0*(-2*P*Subs(Derivative(UGA(_xi_1), _xi_1), (_xi_1,), ((R*UGA(x1)**2 - S*UGA(x1)**2 + S*UGA(x1))/(P*UGA(x1)**2 - 2.0*P*UGA(x1) + P + R*UGA(x1)**2 - S*UGA(x1)**2 + S*UGA(x1) - T*UGA(x1)**2 + T*UGA(x1)),)) + 2*T*Subs(Derivative(UGA(_xi_1), _xi_1), (_xi_1,), ((R*UGA(x1)**2 - S*UGA(x1)**2 + S*UGA(x1))/(P*UGA(x1)**2 - 2.0*P*UGA(x1) + P + R*UGA(x1)**2 - S*UGA(x1)**2 + S*UGA(x1) - T*UGA(x1)**2 + T*UGA(x1)),)))*(-UGA((R*UGA(x1)**2 - S*UGA(x1)**2 + S*UGA(x1))/(P*UGA(x1)**2 - 2.0*P*UGA(x1) + P + R*UGA(x1)**2 - S*UGA(x1)**2 + S*UGA(x1) - T*UGA(x1)**2 + T*UGA(x1))) + 1) + 0.5*(2*R*UGA((R*UGA(x1)**2 - S*UGA(x1)**2 + S*UGA(x1))/(P*UGA(x1)**2 - 2.0*P*UGA(x1) + P + R*UGA(x1)**2 - S*UGA(x1)**2 + S*UGA(x1) - T*UGA(x1)**2 + T*UGA(x1))) + 2*S*(-UGA((R*UGA(x1)**2 - S*UGA(x1)**2 + S*UGA(x1))/(P*UGA(x1)**2 - 2.0*P*UGA(x1) + P + R*UGA(x1)**2 - S*UGA(x1)**2 + S*UGA(x1) - T*UGA(x1)**2 + T*UGA(x1))) + 1))*Subs(Derivative(UGA(_xi_1), _xi_1), (_xi_1,), ((R*UGA(x1)**2 - S*UGA(x1)**2 + S*UGA(x1))/(P*UGA(x1)**2 - 2.0*P*UGA(x1) + P + R*UGA(x1)**2 - S*UGA(x1)**2 + S*UGA(x1) - T*UGA(x1)**2 + T*UGA(x1)),)) + 0.5*(2*R*Subs(Derivative(UGA(_xi_1), _xi_1), (_xi_1,), ((R*UGA(x1)**2 - S*UGA(x1)**2 + S*UGA(x1))/(P*UGA(x1)**2 - 2.0*P*UGA(x1) + P + R*UGA(x1)**2 - S*UGA(x1)**2 + S*UGA(x1) - T*UGA(x1)**2 + T*UGA(x1)),)) - 2*S*Subs(Derivative(UGA(_xi_1), _xi_1), (_xi_1,), ((R*UGA(x1)**2 - S*UGA(x1)**2 + S*UGA(x1))/(P*UGA(x1)**2 - 2.0*P*UGA(x1) + P + R*UGA(x1)**2 - S*UGA(x1)**2 + S*UGA(x1) - T*UGA(x1)**2 + T*UGA(x1)),)))*UGA((R*UGA(x1)**2 - S*UGA(x1)**2 + S*UGA(x1))/(P*UGA(x1)**2 - 2.0*P*UGA(x1) + P + R*UGA(x1)**2 - S*UGA(x1)**2 + S*UGA(x1) - T*UGA(x1)**2 + T*UGA(x1)))) - (R*UGA(x1)**2 - S*UGA(x1)**2 + S*UGA(x1))*(-0.5*(2*P*(-UGA((R*UGA(x1)**2 - S*UGA(x1)**2 + S*UGA(x1))/(P*UGA(x1)**2 - 2.0*P*UGA(x1) + P + R*UGA(x1)**2 - S*UGA(x1)**2 + S*UGA(x1) - T*UGA(x1)**2 + T*UGA(x1))) + 1) + 2*T*UGA((R*UGA(x1)**2 - S*UGA(x1)**2 + S*UGA(x1))/(P*UGA(x1)**2 - 2.0*P*UGA(x1) + P + R*UGA(x1)**2 - S*UGA(x1)**2 + S*UGA(x1) - T*UGA(x1)**2 + T*UGA(x1))))*Subs(Derivative(UGA(_xi_1), _xi_1), (_xi_1,), ((R*UGA(x1)**2 - S*UGA(x1)**2 + S*UGA(x1))/(P*UGA(x1)**2 - 2.0*P*UGA(x1) + P + R*UGA(x1)**2 - S*UGA(x1)**2 + S*UGA(x1) - T*UGA(x1)**2 + T*UGA(x1)),)) + 0.25*(2*P*(-UGA((R*UGA(x1)**2 - S*UGA(x1)**2 + S*UGA(x1))/(P*UGA(x1)**2 - 2.0*P*UGA(x1) + P + R*UGA(x1)**2 - S*UGA(x1)**2 + S*UGA(x1) - T*UGA(x1)**2 + T*UGA(x1))) + 1) + 2*T*UGA((R*UGA(x1)**2 - S*UGA(x1)**2 + S*UGA(x1))/(P*UGA(x1)**2 - 2.0*P*UGA(x1) + P + R*UGA(x1)**2 - S*UGA(x1)**2 + S*UGA(x1) - T*UGA(x1)**2 + T*UGA(x1))))*(-UGA((R*UGA(x1)**2 - S*UGA(x1)**2 + S*UGA(x1))/(P*UGA(x1)**2 - 2.0*P*UGA(x1) + P + R*UGA(x1)**2 - S*UGA(x1)**2 + S*UGA(x1) - T*UGA(x1)**2 + T*UGA(x1))) + 1)/(-(R*UGA(x1)**2 - S*UGA(x1)**2 + S*UGA(x1))/(P*UGA(x1)**2 - 2.0*P*UGA(x1) + P + R*UGA(x1)**2 - S*UGA(x1)**2 + S*UGA(x1) - T*UGA(x1)**2 + T*UGA(x1)) + 1) + 0.5*(-2*P*Subs(Derivative(UGA(_xi_1), _xi_1), (_xi_1,), ((R*UGA(x1)**2 - S*UGA(x1)**2 + S*UGA(x1))/(P*UGA(x1)**2 - 2.0*P*UGA(x1) + P + R*UGA(x1)**2 - S*UGA(x1)**2 + S*UGA(x1) - T*UGA(x1)**2 + T*UGA(x1)),)) + 2*T*Subs(Derivative(UGA(_xi_1), _xi_1), (_xi_1,), ((R*UGA(x1)**2 - S*UGA(x1)**2 + S*UGA(x1))/(P*UGA(x1)**2 - 2.0*P*UGA(x1) + P + R*UGA(x1)**2 - S*UGA(x1)**2 + S*UGA(x1) - T*UGA(x1)**2 + T*UGA(x1)),)))*(-UGA((R*UGA(x1)**2 - S*UGA(x1)**2 + S*UGA(x1))/(P*UGA(x1)**2 - 2.0*P*UGA(x1) + P + R*UGA(x1)**2 - S*UGA(x1)**2 + S*UGA(x1) - T*UGA(x1)**2 + T*UGA(x1))) + 1))/(P*UGA(x1)**2 - 2.0*P*UGA(x1) + P + R*UGA(x1)**2 - S*UGA(x1)**2 + S*UGA(x1) - T*UGA(x1)**2 + T*UGA(x1)) - (R*UGA(x1)**2 - S*UGA(x1)**2 + S*UGA(x1))*(-0.5*(2*P*(-UGA((R*UGA(x1)**2 - S*UGA(x1)**2 + S*UGA(x1))/(P*UGA(x1)**2 - 2.0*P*UGA(x1) + P + R*UGA(x1)**2 - S*UGA(x1)**2 + S*UGA(x1) - T*UGA(x1)**2 + T*UGA(x1))) + 1) + 2*T*UGA((R*UGA(x1)**2 - S*UGA(x1)**2 + S*UGA(x1))/(P*UGA(x1)**2 - 2.0*P*UGA(x1) + P + R*UGA(x1)**2 - S*UGA(x1)**2 + S*UGA(x1) - T*UGA(x1)**2 + T*UGA(x1))))*Subs(Derivative(UGA(_xi_1), _xi_1), (_xi_1,), ((R*UGA(x1)**2 - S*UGA(x1)**2 + S*UGA(x1))/(P*UGA(x1)**2 - 2.0*P*UGA(x1) + P + R*UGA(x1)**2 - S*UGA(x1)**2 + S*UGA(x1) - T*UGA(x1)**2 + T*UGA(x1)),)) + 0.25*(2*P*(-UGA((R*UGA(x1)**2 - S*UGA(x1)**2 + S*UGA(x1))/(P*UGA(x1)**2 - 2.0*P*UGA(x1) + P + R*UGA(x1)**2 - S*UGA(x1)**2 + S*UGA(x1) - T*UGA(x1)**2 + T*UGA(x1))) + 1) + 2*T*UGA((R*UGA(x1)**2 - S*UGA(x1)**2 + S*UGA(x1))/(P*UGA(x1)**2 - 2.0*P*UGA(x1) + P + R*UGA(x1)**2 - S*UGA(x1)**2 + S*UGA(x1) - T*UGA(x1)**2 + T*UGA(x1))))*(-UGA((R*UGA(x1)**2 - S*UGA(x1)**2 + S*UGA(x1))/(P*UGA(x1)**2 - 2.0*P*UGA(x1) + P + R*UGA(x1)**2 - S*UGA(x1)**2 + S*UGA(x1) - T*UGA(x1)**2 + T*UGA(x1))) + 1)/(-(R*UGA(x1)**2 - S*UGA(x1)**2 + S*UGA(x1))/(P*UGA(x1)**2 - 2.0*P*UGA(x1) + P + R*UGA(x1)**2 - S*UGA(x1)**2 + S*UGA(x1) - T*UGA(x1)**2 + T*UGA(x1)) + 1) + 0.5*(-2*P*Subs(Derivative(UGA(_xi_1), _xi_1), (_xi_1,), ((R*UGA(x1)**2 - S*UGA(x1)**2 + S*UGA(x1))/(P*UGA(x1)**2 - 2.0*P*UGA(x1) + P + R*UGA(x1)**2 - S*UGA(x1)**2 + S*UGA(x1) - T*UGA(x1)**2 + T*UGA(x1)),)) + 2*T*Subs(Derivative(UGA(_xi_1), _xi_1), (_xi_1,), ((R*UGA(x1)**2 - S*UGA(x1)**2 + S*UGA(x1))/(P*UGA(x1)**2 - 2.0*P*UGA(x1) + P + R*UGA(x1)**2 - S*UGA(x1)**2 + S*UGA(x1) - T*UGA(x1)**2 + T*UGA(x1)),)))*(-UGA((R*UGA(x1)**2 - S*UGA(x1)**2 + S*UGA(x1))/(P*UGA(x1)**2 - 2.0*P*UGA(x1) + P + R*UGA(x1)**2 - S*UGA(x1)**2 + S*UGA(x1) - T*UGA(x1)**2 + T*UGA(x1))) + 1) + 1.0*(2*R*UGA((R*UGA(x1)**2 - S*UGA(x1)**2 + S*UGA(x1))/(P*UGA(x1)**2 - 2.0*P*UGA(x1) + P + R*UGA(x1)**2 - S*UGA(x1)**2 + S*UGA(x1) - T*UGA(x1)**2 + T*UGA(x1))) + 2*S*(-UGA((R*UGA(x1)**2 - S*UGA(x1)**2 + S*UGA(x1))/(P*UGA(x1)**2 - 2.0*P*UGA(x1) + P + R*UGA(x1)**2 - S*UGA(x1)**2 + S*UGA(x1) - T*UGA(x1)**2 + T*UGA(x1))) + 1))*Subs(Derivative(UGA(_xi_1), _xi_1), (_xi_1,), ((R*UGA(x1)**2 - S*UGA(x1)**2 + S*UGA(x1))/(P*UGA(x1)**2 - 2.0*P*UGA(x1) + P + R*UGA(x1)**2 - S*UGA(x1)**2 + S*UGA(x1) - T*UGA(x1)**2 + T*UGA(x1)),)) + 1.0*(2*R*Subs(Derivative(UGA(_xi_1), _xi_1), (_xi_1,), ((R*UGA(x1)**2 - S*UGA(x1)**2 + S*UGA(x1))/(P*UGA(x1)**2 - 2.0*P*UGA(x1) + P + R*UGA(x1)**2 - S*UGA(x1)**2 + S*UGA(x1) - T*UGA(x1)**2 + T*UGA(x1)),)) - 2*S*Subs(Derivative(UGA(_xi_1), _xi_1), (_xi_1,), ((R*UGA(x1)**2 - S*UGA(x1)**2 + S*UGA(x1))/(P*UGA(x1)**2 - 2.0*P*UGA(x1) + P + R*UGA(x1)**2 - S*UGA(x1)**2 + S*UGA(x1) - T*UGA(x1)**2 + T*UGA(x1)),)))*UGA((R*UGA(x1)**2 - S*UGA(x1)**2 + S*UGA(x1))/(P*UGA(x1)**2 - 2.0*P*UGA(x1) + P + R*UGA(x1)**2 - S*UGA(x1)**2 + S*UGA(x1) - T*UGA(x1)**2 + T*UGA(x1))))/(P*UGA(x1)**2 - 2.0*P*UGA(x1) + P + R*UGA(x1)**2 - S*UGA(x1)**2 + S*UGA(x1) - T*UGA(x1)**2 + T*UGA(x1)))/(0.5*(2*P*(-UGA((R*UGA(x1)**2 - S*UGA(x1)**2 + S*UGA(x1))/(P*UGA(x1)**2 - 2.0*P*UGA(x1) + P + R*UGA(x1)**2 - S*UGA(x1)**2 + S*UGA(x1) - T*UGA(x1)**2 + T*UGA(x1))) + 1) + 2*T*UGA((R*UGA(x1)**2 - S*UGA(x1)**2 + S*UGA(x1))/(P*UGA(x1)**2 - 2.0*P*UGA(x1) + P + R*UGA(x1)**2 - S*UGA(x1)**2 + S*UGA(x1) - T*UGA(x1)**2 + T*UGA(x1))))*(-UGA((R*UGA(x1)**2 - S*UGA(x1)**2 + S*UGA(x1))/(P*UGA(x1)**2 - 2.0*P*UGA(x1) + P + R*UGA(x1)**2 - S*UGA(x1)**2 + S*UGA(x1) - T*UGA(x1)**2 + T*UGA(x1))) + 1)*(R*UGA(x1)**2 - S*UGA(x1)**2 + S*UGA(x1))/(P*UGA(x1)**2 - 2.0*P*UGA(x1) + P + R*UGA(x1)**2 - S*UGA(x1)**2 + S*UGA(x1) - T*UGA(x1)**2 + T*UGA(x1)) + 0.5*(2*R*UGA((R*UGA(x1)**2 - S*UGA(x1)**2 + S*UGA(x1))/(P*UGA(x1)**2 - 2.0*P*UGA(x1) + P + R*UGA(x1)**2 - S*UGA(x1)**2 + S*UGA(x1) - T*UGA(x1)**2 + T*UGA(x1))) + 2*S*(-UGA((R*UGA(x1)**2 - S*UGA(x1)**2 + S*UGA(x1))/(P*UGA(x1)**2 - 2.0*P*UGA(x1) + P + R*UGA(x1)**2 - S*UGA(x1)**2 + S*UGA(x1) - T*UGA(x1)**2 + T*UGA(x1))) + 1))*(-(R*UGA(x1)**2 - S*UGA(x1)**2 + S*UGA(x1))/(P*UGA(x1)**2 - 2.0*P*UGA(x1) + P + R*UGA(x1)**2 - S*UGA(x1)**2 + S*UGA(x1) - T*UGA(x1)**2 + T*UGA(x1)) + 1)*UGA((R*UGA(x1)**2 - S*UGA(x1)**2 + S*UGA(x1))/(P*UGA(x1)**2 - 2.0*P*UGA(x1) + P + R*UGA(x1)**2 - S*UGA(x1)**2 + S*UGA(x1) - T*UGA(x1)**2 + T*UGA(x1))) + (0.5*(2*P*(-UGA((R*UGA(x1)**2 - S*UGA(x1)**2 + S*UGA(x1))/(P*UGA(x1)**2 - 2.0*P*UGA(x1) + P + R*UGA(x1)**2 - S*UGA(x1)**2 + S*UGA(x1) - T*UGA(x1)**2 + T*UGA(x1))) + 1) + 2*T*UGA((R*UGA(x1)**2 - S*UGA(x1)**2 + S*UGA(x1))/(P*UGA(x1)**2 - 2.0*P*UGA(x1) + P + R*UGA(x1)**2 - S*UGA(x1)**2 + S*UGA(x1) - T*UGA(x1)**2 + T*UGA(x1))))*(-UGA((R*UGA(x1)**2 - S*UGA(x1)**2 + S*UGA(x1))/(P*UGA(x1)**2 - 2.0*P*UGA(x1) + P + R*UGA(x1)**2 - S*UGA(x1)**2 + S*UGA(x1) - T*UGA(x1)**2 + T*UGA(x1))) + 1) + 1.0*(2*R*UGA((R*UGA(x1)**2 - S*UGA(x1)**2 + S*UGA(x1))/(P*UGA(x1)**2 - 2.0*P*UGA(x1) + P + R*UGA(x1)**2 - S*UGA(x1)**2 + S*UGA(x1) - T*UGA(x1)**2 + T*UGA(x1))) + 2*S*(-UGA((R*UGA(x1)**2 - S*UGA(x1)**2 + S*UGA(x1))/(P*UGA(x1)**2 - 2.0*P*UGA(x1) + P + R*UGA(x1)**2 - S*UGA(x1)**2 + S*UGA(x1) - T*UGA(x1)**2 + T*UGA(x1))) + 1))*UGA((R*UGA(x1)**2 - S*UGA(x1)**2 + S*UGA(x1))/(P*UGA(x1)**2 - 2.0*P*UGA(x1) + P + R*UGA(x1)**2 - S*UGA(x1)**2 + S*UGA(x1) - T*UGA(x1)**2 + T*UGA(x1))))*(R*UGA(x1)**2 - S*UGA(x1)**2 + S*UGA(x1))/(P*UGA(x1)**2 - 2.0*P*UGA(x1) + P + R*UGA(x1)**2 - S*UGA(x1)**2 + S*UGA(x1) - T*UGA(x1)**2 + T*UGA(x1)) + (1.0*(2*P*(-UGA((R*UGA(x1)**2 - S*UGA(x1)**2 + S*UGA(x1))/(P*UGA(x1)**2 - 2.0*P*UGA(x1) + P + R*UGA(x1)**2 - S*UGA(x1)**2 + S*UGA(x1) - T*UGA(x1)**2 + T*UGA(x1))) + 1) + 2*T*UGA((R*UGA(x1)**2 - S*UGA(x1)**2 + S*UGA(x1))/(P*UGA(x1)**2 - 2.0*P*UGA(x1) + P + R*UGA(x1)**2 - S*UGA(x1)**2 + S*UGA(x1) - T*UGA(x1)**2 + T*UGA(x1))))*(-UGA((R*UGA(x1)**2 - S*UGA(x1)**2 + S*UGA(x1))/(P*UGA(x1)**2 - 2.0*P*UGA(x1) + P + R*UGA(x1)**2 - S*UGA(x1)**2 + S*UGA(x1) - T*UGA(x1)**2 + T*UGA(x1))) + 1) + 0.5*(2*R*UGA((R*UGA(x1)**2 - S*UGA(x1)**2 + S*UGA(x1))/(P*UGA(x1)**2 - 2.0*P*UGA(x1) + P + R*UGA(x1)**2 - S*UGA(x1)**2 + S*UGA(x1) - T*UGA(x1)**2 + T*UGA(x1))) + 2*S*(-UGA((R*UGA(x1)**2 - S*UGA(x1)**2 + S*UGA(x1))/(P*UGA(x1)**2 - 2.0*P*UGA(x1) + P + R*UGA(x1)**2 - S*UGA(x1)**2 + S*UGA(x1) - T*UGA(x1)**2 + T*UGA(x1))) + 1))*UGA((R*UGA(x1)**2 - S*UGA(x1)**2 + S*UGA(x1))/(P*UGA(x1)**2 - 2.0*P*UGA(x1) + P + R*UGA(x1)**2 - S*UGA(x1)**2 + S*UGA(x1) - T*UGA(x1)**2 + T*UGA(x1))))*(-(R*UGA(x1)**2 - S*UGA(x1)**2 + S*UGA(x1))/(P*UGA(x1)**2 - 2.0*P*UGA(x1) + P + R*UGA(x1)**2 - S*UGA(x1)**2 + S*UGA(x1) - T*UGA(x1)**2 + T*UGA(x1)) + 1))**2 - 1 + (0.5*(2*P*(-UGA((R*UGA(x1)**2 - S*UGA(x1)**2 + S*UGA(x1))/(P*UGA(x1)**2 - 2.0*P*UGA(x1) + P + R*UGA(x1)**2 - S*UGA(x1)**2 + S*UGA(x1) - T*UGA(x1)**2 + T*UGA(x1))) + 1) + 2*T*UGA((R*UGA(x1)**2 - S*UGA(x1)**2 + S*UGA(x1))/(P*UGA(x1)**2 - 2.0*P*UGA(x1) + P + R*UGA(x1)**2 - S*UGA(x1)**2 + S*UGA(x1) - T*UGA(x1)**2 + T*UGA(x1))))*(-UGA((R*UGA(x1)**2 - S*UGA(x1)**2 + S*UGA(x1))/(P*UGA(x1)**2 - 2.0*P*UGA(x1) + P + R*UGA(x1)**2 - S*UGA(x1)**2 + S*UGA(x1) - T*UGA(x1)**2 + T*UGA(x1))) + 1) + 1.0*(2*R*UGA((R*UGA(x1)**2 - S*UGA(x1)**2 + S*UGA(x1))/(P*UGA(x1)**2 - 2.0*P*UGA(x1) + P + R*UGA(x1)**2 - S*UGA(x1)**2 + S*UGA(x1) - T*UGA(x1)**2 + T*UGA(x1))) + 2*S*(-UGA((R*UGA(x1)**2 - S*UGA(x1)**2 + S*UGA(x1))/(P*UGA(x1)**2 - 2.0*P*UGA(x1) + P + R*UGA(x1)**2 - S*UGA(x1)**2 + S*UGA(x1) - T*UGA(x1)**2 + T*UGA(x1))) + 1))*UGA((R*UGA(x1)**2 - S*UGA(x1)**2 + S*UGA(x1))/(P*UGA(x1)**2 - 2.0*P*UGA(x1) + P + R*UGA(x1)**2 - S*UGA(x1)**2 + S*UGA(x1) - T*UGA(x1)**2 + T*UGA(x1))) - 0.25*(2*R*UgA((R*UGA(x1)**2 - S*UGA(x1)**2 + S*UGA(x1))/(P*UGA(x1)**2 - 2.0*P*UGA(x1) + P + R*UGA(x1)**2 - S*UGA(x1)**2 + S*UGA(x1) - T*UGA(x1)**2 + T*UGA(x1))) + 2*S*(-UgA((R*UGA(x1)**2 - S*UGA(x1)**2 + S*UGA(x1))/(P*UGA(x1)**2 - 2.0*P*UGA(x1) + P + R*UGA(x1)**2 - S*UGA(x1)**2 + S*UGA(x1) - T*UGA(x1)**2 + T*UGA(x1))) + 1))*UgA((R*UGA(x1)**2 - S*UGA(x1)**2 + S*UGA(x1))/(P*UGA(x1)**2 - 2.0*P*UGA(x1) + P + R*UGA(x1)**2 - S*UGA(x1)**2 + S*UGA(x1) - T*UGA(x1)**2 + T*UGA(x1))) + (0.5*(2*R*UGA((R*UGA(x1)**2 - S*UGA(x1)**2 + S*UGA(x1))/(P*UGA(x1)**2 - 2.0*P*UGA(x1) + P + R*UGA(x1)**2 - S*UGA(x1)**2 + S*UGA(x1) - T*UGA(x1)**2 + T*UGA(x1))) + 2*S*(-UGA((R*UGA(x1)**2 - S*UGA(x1)**2 + S*UGA(x1))/(P*UGA(x1)**2 - 2.0*P*UGA(x1) + P + R*UGA(x1)**2 - S*UGA(x1)**2 + S*UGA(x1) - T*UGA(x1)**2 + T*UGA(x1))) + 1))*Subs(Derivative(UGA(_xi_1), _xi_1), (_xi_1,), ((R*UGA(x1)**2 - S*UGA(x1)**2 + S*UGA(x1))/(P*UGA(x1)**2 - 2.0*P*UGA(x1) + P + R*UGA(x1)**2 - S*UGA(x1)**2 + S*UGA(x1) - T*UGA(x1)**2 + T*UGA(x1)),)) + 0.5*(2*R*Subs(Derivative(UGA(_xi_1), _xi_1), (_xi_1,), ((R*UGA(x1)**2 - S*UGA(x1)**2 + S*UGA(x1))/(P*UGA(x1)**2 - 2.0*P*UGA(x1) + P + R*UGA(x1)**2 - S*UGA(x1)**2 + S*UGA(x1) - T*UGA(x1)**2 + T*UGA(x1)),)) - 2*S*Subs(Derivative(UGA(_xi_1), _xi_1), (_xi_1,), ((R*UGA(x1)**2 - S*UGA(x1)**2 + S*UGA(x1))/(P*UGA(x1)**2 - 2.0*P*UGA(x1) + P + R*UGA(x1)**2 - S*UGA(x1)**2 + S*UGA(x1) - T*UGA(x1)**2 + T*UGA(x1)),)))*UGA((R*UGA(x1)**2 - S*UGA(x1)**2 + S*UGA(x1))/(P*UGA(x1)**2 - 2.0*P*UGA(x1) + P + R*UGA(x1)**2 - S*UGA(x1)**2 + S*UGA(x1) - T*UGA(x1)**2 + T*UGA(x1))))*(-(R*UGA(x1)**2 - S*UGA(x1)**2 + S*UGA(x1))/(P*UGA(x1)**2 - 2.0*P*UGA(x1) + P + R*UGA(x1)**2 - S*UGA(x1)**2 + S*UGA(x1) - T*UGA(x1)**2 + T*UGA(x1)) + 1) + (R*UGA(x1)**2 - S*UGA(x1)**2 + S*UGA(x1))*(-0.5*(2*P*(-UGA((R*UGA(x1)**2 - S*UGA(x1)**2 + S*UGA(x1))/(P*UGA(x1)**2 - 2.0*P*UGA(x1) + P + R*UGA(x1)**2 - S*UGA(x1)**2 + S*UGA(x1) - T*UGA(x1)**2 + T*UGA(x1))) + 1) + 2*T*UGA((R*UGA(x1)**2 - S*UGA(x1)**2 + S*UGA(x1))/(P*UGA(x1)**2 - 2.0*P*UGA(x1) + P + R*UGA(x1)**2 - S*UGA(x1)**2 + S*UGA(x1) - T*UGA(x1)**2 + T*UGA(x1))))*Subs(Derivative(UGA(_xi_1), _xi_1), (_xi_1,), ((R*UGA(x1)**2 - S*UGA(x1)**2 + S*UGA(x1))/(P*UGA(x1)**2 - 2.0*P*UGA(x1) + P + R*UGA(x1)**2 - S*UGA(x1)**2 + S*UGA(x1) - T*UGA(x1)**2 + T*UGA(x1)),)) + 0.25*(2*P*(-UGA((R*UGA(x1)**2 - S*UGA(x1)**2 + S*UGA(x1))/(P*UGA(x1)**2 - 2.0*P*UGA(x1) + P + R*UGA(x1)**2 - S*UGA(x1)**2 + S*UGA(x1) - T*UGA(x1)**2 + T*UGA(x1))) + 1) + 2*T*UGA((R*UGA(x1)**2 - S*UGA(x1)**2 + S*UGA(x1))/(P*UGA(x1)**2 - 2.0*P*UGA(x1) + P + R*UGA(x1)**2 - S*UGA(x1)**2 + S*UGA(x1) - T*UGA(x1)**2 + T*UGA(x1))))*(-UGA((R*UGA(x1)**2 - S*UGA(x1)**2 + S*UGA(x1))/(P*UGA(x1)**2 - 2.0*P*UGA(x1) + P + R*UGA(x1)**2 - S*UGA(x1)**2 + S*UGA(x1) - T*UGA(x1)**2 + T*UGA(x1))) + 1)/(-(R*UGA(x1)**2 - S*UGA(x1)**2 + S*UGA(x1))/(P*UGA(x1)**2 - 2.0*P*UGA(x1) + P + R*UGA(x1)**2 - S*UGA(x1)**2 + S*UGA(x1) - T*UGA(x1)**2 + T*UGA(x1)) + 1) + 0.5*(-2*P*Subs(Derivative(UGA(_xi_1), _xi_1), (_xi_1,), ((R*UGA(x1)**2 - S*UGA(x1)**2 + S*UGA(x1))/(P*UGA(x1)**2 - 2.0*P*UGA(x1) + P + R*UGA(x1)**2 - S*UGA(x1)**2 + S*UGA(x1) - T*UGA(x1)**2 + T*UGA(x1)),)) + 2*T*Subs(Derivative(UGA(_xi_1), _xi_1), (_xi_1,), ((R*UGA(x1)**2 - S*UGA(x1)**2 + S*UGA(x1))/(P*UGA(x1)**2 - 2.0*P*UGA(x1) + P + R*UGA(x1)**2 - S*UGA(x1)**2 + S*UGA(x1) - T*UGA(x1)**2 + T*UGA(x1)),)))*(-UGA((R*UGA(x1)**2 - S*UGA(x1)**2 + S*UGA(x1))/(P*UGA(x1)**2 - 2.0*P*UGA(x1) + P + R*UGA(x1)**2 - S*UGA(x1)**2 + S*UGA(x1) - T*UGA(x1)**2 + T*UGA(x1))) + 1) + 1.0*(2*R*UGA((R*UGA(x1)**2 - S*UGA(x1)**2 + S*UGA(x1))/(P*UGA(x1)**2 - 2.0*P*UGA(x1) + P + R*UGA(x1)**2 - S*UGA(x1)**2 + S*UGA(x1) - T*UGA(x1)**2 + T*UGA(x1))) + 2*S*(-UGA((R*UGA(x1)**2 - S*UGA(x1)**2 + S*UGA(x1))/(P*UGA(x1)**2 - 2.0*P*UGA(x1) + P + R*UGA(x1)**2 - S*UGA(x1)**2 + S*UGA(x1) - T*UGA(x1)**2 + T*UGA(x1))) + 1))*Subs(Derivative(UGA(_xi_1), _xi_1), (_xi_1,), ((R*UGA(x1)**2 - S*UGA(x1)**2 + S*UGA(x1))/(P*UGA(x1)**2 - 2.0*P*UGA(x1) + P + R*UGA(x1)**2 - S*UGA(x1)**2 + S*UGA(x1) - T*UGA(x1)**2 + T*UGA(x1)),)) + 1.0*(2*R*Subs(Derivative(UGA(_xi_1), _xi_1), (_xi_1,), ((R*UGA(x1)**2 - S*UGA(x1)**2 + S*UGA(x1))/(P*UGA(x1)**2 - 2.0*P*UGA(x1) + P + R*UGA(x1)**2 - S*UGA(x1)**2 + S*UGA(x1) - T*UGA(x1)**2 + T*UGA(x1)),)) - 2*S*Subs(Derivative(UGA(_xi_1), _xi_1), (_xi_1,), ((R*UGA(x1)**2 - S*UGA(x1)**2 + S*UGA(x1))/(P*UGA(x1)**2 - 2.0*P*UGA(x1) + P + R*UGA(x1)**2 - S*UGA(x1)**2 + S*UGA(x1) - T*UGA(x1)**2 + T*UGA(x1)),)))*UGA((R*UGA(x1)**2 - S*UGA(x1)**2 + S*UGA(x1))/(P*UGA(x1)**2 - 2.0*P*UGA(x1) + P + R*UGA(x1)**2 - S*UGA(x1)**2 + S*UGA(x1) - T*UGA(x1)**2 + T*UGA(x1))))/(P*UGA(x1)**2 - 2.0*P*UGA(x1) + P + R*UGA(x1)**2 - S*UGA(x1)**2 + S*UGA(x1) - T*UGA(x1)**2 + T*UGA(x1)))/(0.5*(2*P*(-UGA((R*UGA(x1)**2 - S*UGA(x1)**2 + S*UGA(x1))/(P*UGA(x1)**2 - 2.0*P*UGA(x1) + P + R*UGA(x1)**2 - S*UGA(x1)**2 + S*UGA(x1) - T*UGA(x1)**2 + T*UGA(x1))) + 1) + 2*T*UGA((R*UGA(x1)**2 - S*UGA(x1)**2 + S*UGA(x1))/(P*UGA(x1)**2 - 2.0*P*UGA(x1) + P + R*UGA(x1)**2 - S*UGA(x1)**2 + S*UGA(x1) - T*UGA(x1)**2 + T*UGA(x1))))*(-UGA((R*UGA(x1)**2 - S*UGA(x1)**2 + S*UGA(x1))/(P*UGA(x1)**2 - 2.0*P*UGA(x1) + P + R*UGA(x1)**2 - S*UGA(x1)**2 + S*UGA(x1) - T*UGA(x1)**2 + T*UGA(x1))) + 1)*(R*UGA(x1)**2 - S*UGA(x1)**2 + S*UGA(x1))/(P*UGA(x1)**2 - 2.0*P*UGA(x1) + P + R*UGA(x1)**2 - S*UGA(x1)**2 + S*UGA(x1) - T*UGA(x1)**2 + T*UGA(x1)) + 0.5*(2*R*UGA((R*UGA(x1)**2 - S*UGA(x1)**2 + S*UGA(x1))/(P*UGA(x1)**2 - 2.0*P*UGA(x1) + P + R*UGA(x1)**2 - S*UGA(x1)**2 + S*UGA(x1) - T*UGA(x1)**2 + T*UGA(x1))) + 2*S*(-UGA((R*UGA(x1)**2 - S*UGA(x1)**2 + S*UGA(x1))/(P*UGA(x1)**2 - 2.0*P*UGA(x1) + P + R*UGA(x1)**2 - S*UGA(x1)**2 + S*UGA(x1) - T*UGA(x1)**2 + T*UGA(x1))) + 1))*(-(R*UGA(x1)**2 - S*UGA(x1)**2 + S*UGA(x1))/(P*UGA(x1)**2 - 2.0*P*UGA(x1) + P + R*UGA(x1)**2 - S*UGA(x1)**2 + S*UGA(x1) - T*UGA(x1)**2 + T*UGA(x1)) + 1)*UGA((R*UGA(x1)**2 - S*UGA(x1)**2 + S*UGA(x1))/(P*UGA(x1)**2 - 2.0*P*UGA(x1) + P + R*UGA(x1)**2 - S*UGA(x1)**2 + S*UGA(x1) - T*UGA(x1)**2 + T*UGA(x1))) + (0.5*(2*P*(-UGA((R*UGA(x1)**2 - S*UGA(x1)**2 + S*UGA(x1))/(P*UGA(x1)**2 - 2.0*P*UGA(x1) + P + R*UGA(x1)**2 - S*UGA(x1)**2 + S*UGA(x1) - T*UGA(x1)**2 + T*UGA(x1))) + 1) + 2*T*UGA((R*UGA(x1)**2 - S*UGA(x1)**2 + S*UGA(x1))/(P*UGA(x1)**2 - 2.0*P*UGA(x1) + P + R*UGA(x1)**2 - S*UGA(x1)**2 + S*UGA(x1) - T*UGA(x1)**2 + T*UGA(x1))))*(-UGA((R*UGA(x1)**2 - S*UGA(x1)**2 + S*UGA(x1))/(P*UGA(x1)**2 - 2.0*P*UGA(x1) + P + R*UGA(x1)**2 - S*UGA(x1)**2 + S*UGA(x1) - T*UGA(x1)**2 + T*UGA(x1))) + 1) + 1.0*(2*R*UGA((R*UGA(x1)**2 - S*UGA(x1)**2 + S*UGA(x1))/(P*UGA(x1)**2 - 2.0*P*UGA(x1) + P + R*UGA(x1)**2 - S*UGA(x1)**2 + S*UGA(x1) - T*UGA(x1)**2 + T*UGA(x1))) + 2*S*(-UGA((R*UGA(x1)**2 - S*UGA(x1)**2 + S*UGA(x1))/(P*UGA(x1)**2 - 2.0*P*UGA(x1) + P + R*UGA(x1)**2 - S*UGA(x1)**2 + S*UGA(x1) - T*UGA(x1)**2 + T*UGA(x1))) + 1))*UGA((R*UGA(x1)**2 - S*UGA(x1)**2 + S*UGA(x1))/(P*UGA(x1)**2 - 2.0*P*UGA(x1) + P + R*UGA(x1)**2 - S*UGA(x1)**2 + S*UGA(x1) - T*UGA(x1)**2 + T*UGA(x1))))*(R*UGA(x1)**2 - S*UGA(x1)**2 + S*UGA(x1))/(P*UGA(x1)**2 - 2.0*P*UGA(x1) + P + R*UGA(x1)**2 - S*UGA(x1)**2 + S*UGA(x1) - T*UGA(x1)**2 + T*UGA(x1)) + (1.0*(2*P*(-UGA((R*UGA(x1)**2 - S*UGA(x1)**2 + S*UGA(x1))/(P*UGA(x1)**2 - 2.0*P*UGA(x1) + P + R*UGA(x1)**2 - S*UGA(x1)**2 + S*UGA(x1) - T*UGA(x1)**2 + T*UGA(x1))) + 1) + 2*T*UGA((R*UGA(x1)**2 - S*UGA(x1)**2 + S*UGA(x1))/(P*UGA(x1)**2 - 2.0*P*UGA(x1) + P + R*UGA(x1)**2 - S*UGA(x1)**2 + S*UGA(x1) - T*UGA(x1)**2 + T*UGA(x1))))*(-UGA((R*UGA(x1)**2 - S*UGA(x1)**2 + S*UGA(x1))/(P*UGA(x1)**2 - 2.0*P*UGA(x1) + P + R*UGA(x1)**2 - S*UGA(x1)**2 + S*UGA(x1) - T*UGA(x1)**2 + T*UGA(x1))) + 1) + 0.5*(2*R*UGA((R*UGA(x1)**2 - S*UGA(x1)**2 + S*UGA(x1))/(P*UGA(x1)**2 - 2.0*P*UGA(x1) + P + R*UGA(x1)**2 - S*UGA(x1)**2 + S*UGA(x1) - T*UGA(x1)**2 + T*UGA(x1))) + 2*S*(-UGA((R*UGA(x1)**2 - S*UGA(x1)**2 + S*UGA(x1))/(P*UGA(x1)**2 - 2.0*P*UGA(x1) + P + R*UGA(x1)**2 - S*UGA(x1)**2 + S*UGA(x1) - T*UGA(x1)**2 + T*UGA(x1))) + 1))*UGA((R*UGA(x1)**2 - S*UGA(x1)**2 + S*UGA(x1))/(P*UGA(x1)**2 - 2.0*P*UGA(x1) + P + R*UGA(x1)**2 - S*UGA(x1)**2 + S*UGA(x1) - T*UGA(x1)**2 + T*UGA(x1))))*(-(R*UGA(x1)**2 - S*UGA(x1)**2 + S*UGA(x1))/(P*UGA(x1)**2 - 2.0*P*UGA(x1) + P + R*UGA(x1)**2 - S*UGA(x1)**2 + S*UGA(x1) - T*UGA(x1)**2 + T*UGA(x1)) + 1))"
      ]
     },
     "execution_count": 144,
     "metadata": {},
     "output_type": "execute_result"
    }
   ],
   "source": [
    "F_jac[0, 0]"
   ]
  },
  {
   "cell_type": "code",
   "execution_count": 186,
   "metadata": {},
   "outputs": [],
   "source": [
    "F = sym.Matrix([(sym.factor(sym.together(f1 + x1), UGA(x1 + x3), UgA(x1 + x3), x1, x2, x3, epsilon)\n",
    "                    .subs({(-0.5*M*x1 - 0.5*M*x2 + 0.5*P + x1*(-1.0*P + 0.5*S + 0.5*T)*UGA(x1 + x3) + x1*(1.0*P - 0.5*S - 0.5*T)*UgA(x1 + x3) + x1*(-0.5*P - 0.5*R + 0.5*S + 0.5*T)*UgA(x1 + x3)**2 + x1*(0.5*P + 0.5*R - 0.5*S - 0.5*T)*UGA(x1 + x3)**2 + x2*(-1.0*P + 0.5*S + 0.5*T)*UGA(x1 + x3) + x2*(1.0*P - 0.5*S - 0.5*T)*UgA(x1 + x3) + x2*(-0.5*P - 0.5*R + 0.5*S + 0.5*T)*UgA(x1 + x3)**2 + x2*(0.5*P + 0.5*R - 0.5*S - 0.5*T)*UGA(x1 + x3)**2 + (-1.0*P + 0.5*S + 0.5*T)*UgA(x1 + x3) + (0.5*P + 0.5*R - 0.5*S - 0.5*T)*UgA(x1 + x3)**2): 0.25 * N(x1, x2, x3)}) - x1),\n",
    "                (sym.factor(sym.together(f2 + x2), UGA(x1 + x3), UgA(x1 + x3), x1, x2, x3, epsilon)\n",
    "                    .subs({(-0.5*M*x1 - 0.5*M*x2 + 0.5*P + x1*(-1.0*P + 0.5*S + 0.5*T)*UGA(x1 + x3) + x1*(1.0*P - 0.5*S - 0.5*T)*UgA(x1 + x3) + x1*(-0.5*P - 0.5*R + 0.5*S + 0.5*T)*UgA(x1 + x3)**2 + x1*(0.5*P + 0.5*R - 0.5*S - 0.5*T)*UGA(x1 + x3)**2 + x2*(-1.0*P + 0.5*S + 0.5*T)*UGA(x1 + x3) + x2*(1.0*P - 0.5*S - 0.5*T)*UgA(x1 + x3) + x2*(-0.5*P - 0.5*R + 0.5*S + 0.5*T)*UgA(x1 + x3)**2 + x2*(0.5*P + 0.5*R - 0.5*S - 0.5*T)*UGA(x1 + x3)**2 + (-1.0*P + 0.5*S + 0.5*T)*UgA(x1 + x3) + (0.5*P + 0.5*R - 0.5*S - 0.5*T)*UgA(x1 + x3)**2): 0.25 * N(x1, x2, x3)}) - x2),\n",
    "                (sym.factor(sym.together(f3 + x3), UGA(x1 + x3), UgA(x1 + x3), x1, x2, x3, epsilon)\n",
    "                    .subs({(-0.5*M*x1 - 0.5*M*x2 + 0.5*P + x1*(-1.0*P + 0.5*S + 0.5*T)*UGA(x1 + x3) + x1*(1.0*P - 0.5*S - 0.5*T)*UgA(x1 + x3) + x1*(-0.5*P - 0.5*R + 0.5*S + 0.5*T)*UgA(x1 + x3)**2 + x1*(0.5*P + 0.5*R - 0.5*S - 0.5*T)*UGA(x1 + x3)**2 + x2*(-1.0*P + 0.5*S + 0.5*T)*UGA(x1 + x3) + x2*(1.0*P - 0.5*S - 0.5*T)*UgA(x1 + x3) + x2*(-0.5*P - 0.5*R + 0.5*S + 0.5*T)*UgA(x1 + x3)**2 + x2*(0.5*P + 0.5*R - 0.5*S - 0.5*T)*UGA(x1 + x3)**2 + (-1.0*P + 0.5*S + 0.5*T)*UgA(x1 + x3) + (0.5*P + 0.5*R - 0.5*S - 0.5*T)*UgA(x1 + x3)**2): 0.25 * N(x1, x2, x3)}) - x3)])"
   ]
  },
  {
   "cell_type": "code",
   "execution_count": 200,
   "metadata": {},
   "outputs": [],
   "source": [
    "N_star = sym.symbols(\"N_star\", real=True, positive=True)"
   ]
  },
  {
   "cell_type": "code",
   "execution_count": 202,
   "metadata": {},
   "outputs": [
    {
     "data": {
      "text/plain": [
       "2.0*(2.0*M*U_star*epsilon - M*U_star - 2.0*M*epsilon + 2.0*P*U_star**2*epsilon - 4.0*P*U_star*epsilon + 2.0*P*epsilon + R*U_star**2 - S*U_star**2 + S*U_star - 2.0*T*U_star**2*epsilon + 2.0*T*U_star*epsilon)/(N_star*(2.0*epsilon + 1.0))"
      ]
     },
     "execution_count": 202,
     "metadata": {},
     "output_type": "execute_result"
    }
   ],
   "source": [
    "x1_star.subs({(-M + P*U_star**2 - 2.0*P*U_star + P + R*U_star**2 - S*U_star**2 + S*U_star - T*U_star**2 + T*U_star): 0.5 * N_star})"
   ]
  },
  {
   "cell_type": "code",
   "execution_count": 203,
   "metadata": {},
   "outputs": [],
   "source": [
    "F_jac = (F.jacobian([x1, x2, x3])\n",
    "          .subs({N(x1, x2, x3): N_star})\n",
    "          .subs({x2: 1 - x1, x3: 0})\n",
    "          .subs({UGA(x1): UGA_star, UgA(x1): UgA_star})\n",
    "          .doit()\n",
    "          .subs({sym.Derivative(UGA(x1), x1): UGA_prime_star})\n",
    "          .subs({x1: x1_star.subs({(-M + P*U_star**2 - 2.0*P*U_star + P + R*U_star**2 - S*U_star**2 + S*U_star - T*U_star**2 + T*U_star): 0.5 * N_star}).subs({U_star: UGA_star})}))"
   ]
  },
  {
   "cell_type": "code",
   "execution_count": 205,
   "metadata": {},
   "outputs": [
    {
     "data": {
      "text/plain": [
       "1.0*(128.0*M**2*N_star*UGA_prime_star*UGA_star*epsilon**3 - 64.0*M**2*N_star*UGA_prime_star*UGA_star*epsilon**2 - 32.0*M**2*N_star*UGA_prime_star*UGA_star*epsilon + 16.0*M**2*N_star*UGA_prime_star*UGA_star - 128.0*M**2*N_star*UGA_prime_star*epsilon**3 + 32.0*M**2*N_star*UGA_prime_star*epsilon + 192.0*M**2*N_star*UGA_star**2*epsilon**3 - 96.0*M**2*N_star*UGA_star**2*epsilon**2 - 48.0*M**2*N_star*UGA_star**2*epsilon + 24.0*M**2*N_star*UGA_star**2 - 256.0*M**2*N_star*UGA_star*epsilon**3 - 32.0*M**2*N_star*UGA_star*epsilon**2 + 64.0*M**2*N_star*UGA_star*epsilon + 8.0*M**2*N_star*UGA_star + 64.0*M**2*N_star*epsilon**3 + 64.0*M**2*N_star*epsilon**2 + 16.0*M**2*N_star*epsilon - 512.0*M**2*P*UGA_prime_star*UGA_star**3*epsilon**3 + 768.0*M**2*P*UGA_prime_star*UGA_star**3*epsilon**2 - 384.0*M**2*P*UGA_prime_star*UGA_star**3*epsilon + 64.0*M**2*P*UGA_prime_star*UGA_star**3 + 1536.0*M**2*P*UGA_prime_star*UGA_star**2*epsilon**3 - 1792.0*M**2*P*UGA_prime_star*UGA_star**2*epsilon**2 + 640.0*M**2*P*UGA_prime_star*UGA_star**2*epsilon - 64.0*M**2*P*UGA_prime_star*UGA_star**2 - 1536.0*M**2*P*UGA_prime_star*UGA_star*epsilon**3 + 1280.0*M**2*P*UGA_prime_star*UGA_star*epsilon**2 - 256.0*M**2*P*UGA_prime_star*UGA_star*epsilon + 512.0*M**2*P*UGA_prime_star*epsilon**3 - 256.0*M**2*P*UGA_prime_star*epsilon**2 - 512.0*M**2*R*UGA_prime_star*UGA_star**3*epsilon**3 + 768.0*M**2*R*UGA_prime_star*UGA_star**3*epsilon**2 - 384.0*M**2*R*UGA_prime_star*UGA_star**3*epsilon + 64.0*M**2*R*UGA_prime_star*UGA_star**3 + 1024.0*M**2*R*UGA_prime_star*UGA_star**2*epsilon**3 - 1024.0*M**2*R*UGA_prime_star*UGA_star**2*epsilon**2 + 256.0*M**2*R*UGA_prime_star*UGA_star**2*epsilon - 512.0*M**2*R*UGA_prime_star*UGA_star*epsilon**3 + 256.0*M**2*R*UGA_prime_star*UGA_star*epsilon**2 + 512.0*M**2*S*UGA_prime_star*UGA_star**3*epsilon**3 - 768.0*M**2*S*UGA_prime_star*UGA_star**3*epsilon**2 + 384.0*M**2*S*UGA_prime_star*UGA_star**3*epsilon - 64.0*M**2*S*UGA_prime_star*UGA_star**3 - 1280.0*M**2*S*UGA_prime_star*UGA_star**2*epsilon**3 + 1408.0*M**2*S*UGA_prime_star*UGA_star**2*epsilon**2 - 448.0*M**2*S*UGA_prime_star*UGA_star**2*epsilon + 32.0*M**2*S*UGA_prime_star*UGA_star**2 + 1024.0*M**2*S*UGA_prime_star*UGA_star*epsilon**3 - 768.0*M**2*S*UGA_prime_star*UGA_star*epsilon**2 + 128.0*M**2*S*UGA_prime_star*UGA_star*epsilon - 256.0*M**2*S*UGA_prime_star*epsilon**3 + 128.0*M**2*S*UGA_prime_star*epsilon**2 + 512.0*M**2*T*UGA_prime_star*UGA_star**3*epsilon**3 - 768.0*M**2*T*UGA_prime_star*UGA_star**3*epsilon**2 + 384.0*M**2*T*UGA_prime_star*UGA_star**3*epsilon - 64.0*M**2*T*UGA_prime_star*UGA_star**3 - 1280.0*M**2*T*UGA_prime_star*UGA_star**2*epsilon**3 + 1408.0*M**2*T*UGA_prime_star*UGA_star**2*epsilon**2 - 448.0*M**2*T*UGA_prime_star*UGA_star**2*epsilon + 32.0*M**2*T*UGA_prime_star*UGA_star**2 + 1024.0*M**2*T*UGA_prime_star*UGA_star*epsilon**3 - 768.0*M**2*T*UGA_prime_star*UGA_star*epsilon**2 + 128.0*M**2*T*UGA_prime_star*UGA_star*epsilon - 256.0*M**2*T*UGA_prime_star*epsilon**3 + 128.0*M**2*T*UGA_prime_star*epsilon**2 - 64.0*M*N_star**2*UGA_prime_star*epsilon**3 - 32.0*M*N_star**2*UGA_prime_star*epsilon**2 + 16.0*M*N_star**2*UGA_prime_star*epsilon + 8.0*M*N_star**2*UGA_prime_star - 96.0*M*N_star**2*UGA_star*epsilon**3 - 128.0*M*N_star**2*UGA_star*epsilon**2 + 8.0*M*N_star**2*UGA_star*epsilon + 24.0*M*N_star**2*UGA_star + 32.0*M*N_star**2*epsilon**3 + 128.0*M*N_star**2*epsilon**2 + 72.0*M*N_star**2*epsilon + 8.0*M*N_star**2 + 640.0*M*N_star*P*UGA_prime_star*UGA_star**2*epsilon**3 - 128.0*M*N_star*P*UGA_prime_star*UGA_star**2*epsilon**2 - 160.0*M*N_star*P*UGA_prime_star*UGA_star**2*epsilon + 32.0*M*N_star*P*UGA_prime_star*UGA_star**2 - 1280.0*M*N_star*P*UGA_prime_star*UGA_star*epsilon**3 + 256.0*M*N_star*P*UGA_prime_star*UGA_star*epsilon - 32.0*M*N_star*P*UGA_prime_star*UGA_star + 640.0*M*N_star*P*UGA_prime_star*epsilon**3 + 128.0*M*N_star*P*UGA_prime_star*epsilon**2 - 96.0*M*N_star*P*UGA_prime_star*epsilon + 256.0*M*N_star*P*UGA_star**3*epsilon**3 + 32.0*M*N_star*P*UGA_star**3*epsilon**2 - 64.0*M*N_star*P*UGA_star**3*epsilon - 8.0*M*N_star*P*UGA_star**3 - 640.0*M*N_star*P*UGA_star**2*epsilon**3 - 192.0*M*N_star*P*UGA_star**2*epsilon**2 + 96.0*M*N_star*P*UGA_star**2*epsilon + 16.0*M*N_star*P*UGA_star**2 - 64.0*M*N_star*P*UGA_star*UgA_star**2*epsilon**3 + 16.0*M*N_star*P*UGA_star*UgA_star**2*epsilon + 128.0*M*N_star*P*UGA_star*UgA_star*epsilon**3 - 32.0*M*N_star*P*UGA_star*UgA_star*epsilon + 448.0*M*N_star*P*UGA_star*epsilon**3 + 288.0*M*N_star*P*UGA_star*epsilon**2 + 16.0*M*N_star*P*UGA_star*epsilon - 8.0*M*N_star*P*UGA_star + 64.0*M*N_star*P*UgA_star**2*epsilon**3 + 32.0*M*N_star*P*UgA_star**2*epsilon**2 - 128.0*M*N_star*P*UgA_star*epsilon**3 - 64.0*M*N_star*P*UgA_star*epsilon**2 - 64.0*M*N_star*P*epsilon**3 - 96.0*M*N_star*P*epsilon**2 - 32.0*M*N_star*P*epsilon + 256.0*M*N_star*R*UGA_prime_star*UGA_star**2*epsilon**3 + 64.0*M*N_star*R*UGA_prime_star*UGA_star**2*epsilon**2 - 64.0*M*N_star*R*UGA_prime_star*UGA_star**2*epsilon - 16.0*M*N_star*R*UGA_prime_star*UGA_star**2 - 256.0*M*N_star*R*UGA_prime_star*UGA_star*epsilon**3 - 128.0*M*N_star*R*UGA_prime_star*UGA_star*epsilon**2 - 128.0*M*N_star*R*UGA_star**3*epsilon**3 + 224.0*M*N_star*R*UGA_star**3*epsilon**2 + 32.0*M*N_star*R*UGA_star**3*epsilon - 56.0*M*N_star*R*UGA_star**3 + 128.0*M*N_star*R*UGA_star**2*epsilon**3 - 96.0*M*N_star*R*UGA_star**2*epsilon**2 - 96.0*M*N_star*R*UGA_star**2*epsilon - 8.0*M*N_star*R*UGA_star**2 - 32.0*M*N_star*R*UGA_star*UgA_star**2*epsilon**2 + 8.0*M*N_star*R*UGA_star*UgA_star**2 + 32.0*M*N_star*R*UgA_star**2*epsilon**2 + 16.0*M*N_star*R*UgA_star**2*epsilon - 256.0*M*N_star*S*UGA_prime_star*UGA_star**2*epsilon**3 - 64.0*M*N_star*S*UGA_prime_star*UGA_star**2*epsilon**2 + 64.0*M*N_star*S*UGA_prime_star*UGA_star**2*epsilon + 16.0*M*N_star*S*UGA_prime_star*UGA_star**2 + 384.0*M*N_star*S*UGA_prime_star*UGA_star*epsilon**3 + 192.0*M*N_star*S*UGA_prime_star*UGA_star*epsilon**2 - 32.0*M*N_star*S*UGA_prime_star*UGA_star*epsilon - 16.0*M*N_star*S*UGA_prime_star*UGA_star - 128.0*M*N_star*S*UGA_prime_star*epsilon**3 - 64.0*M*N_star*S*UGA_prime_star*epsilon**2 + 128.0*M*N_star*S*UGA_star**3*epsilon**3 - 224.0*M*N_star*S*UGA_star**3*epsilon**2 - 32.0*M*N_star*S*UGA_star**3*epsilon + 56.0*M*N_star*S*UGA_star**3 - 256.0*M*N_star*S*UGA_star**2*epsilon**3 + 320.0*M*N_star*S*UGA_star**2*epsilon**2 + 128.0*M*N_star*S*UGA_star**2*epsilon - 48.0*M*N_star*S*UGA_star**2 + 32.0*M*N_star*S*UGA_star*UgA_star**2*epsilon**2 - 8.0*M*N_star*S*UGA_star*UgA_star**2 - 32.0*M*N_star*S*UGA_star*UgA_star*epsilon**2 + 8.0*M*N_star*S*UGA_star*UgA_star + 128.0*M*N_star*S*UGA_star*epsilon**3 - 96.0*M*N_star*S*UGA_star*epsilon**2 - 96.0*M*N_star*S*UGA_star*epsilon - 8.0*M*N_star*S*UGA_star - 32.0*M*N_star*S*UgA_star**2*epsilon**2 - 16.0*M*N_star*S*UgA_star**2*epsilon + 32.0*M*N_star*S*UgA_star*epsilon**2 + 16.0*M*N_star*S*UgA_star*epsilon - 640.0*M*N_star*T*UGA_prime_star*UGA_star**2*epsilon**3 + 128.0*M*N_star*T*UGA_prime_star*UGA_star**2*epsilon**2 + 160.0*M*N_star*T*UGA_prime_star*UGA_star**2*epsilon - 32.0*M*N_star*T*UGA_prime_star*UGA_star**2 + 896.0*M*N_star*T*UGA_prime_star*UGA_star*epsilon**3 + 64.0*M*N_star*T*UGA_prime_star*UGA_star*epsilon**2 - 160.0*M*N_star*T*UGA_prime_star*UGA_star*epsilon + 16.0*M*N_star*T*UGA_prime_star*UGA_star - 256.0*M*N_star*T*UGA_prime_star*epsilon**3 - 64.0*M*N_star*T*UGA_prime_star*epsilon**2 + 32.0*M*N_star*T*UGA_prime_star*epsilon - 256.0*M*N_star*T*UGA_star**3*epsilon**3 - 32.0*M*N_star*T*UGA_star**3*epsilon**2 + 64.0*M*N_star*T*UGA_star**3*epsilon + 8.0*M*N_star*T*UGA_star**3 + 384.0*M*N_star*T*UGA_star**2*epsilon**3 + 160.0*M*N_star*T*UGA_star**2*epsilon**2 - 32.0*M*N_star*T*UGA_star**2*epsilon - 8.0*M*N_star*T*UGA_star**2 + 64.0*M*N_star*T*UGA_star*UgA_star**2*epsilon**3 - 16.0*M*N_star*T*UGA_star*UgA_star**2*epsilon - 64.0*M*N_star*T*UGA_star*UgA_star*epsilon**3 + 16.0*M*N_star*T*UGA_star*UgA_star*epsilon - 128.0*M*N_star*T*UGA_star*epsilon**3 - 128.0*M*N_star*T*UGA_star*epsilon**2 - 32.0*M*N_star*T*UGA_star*epsilon - 64.0*M*N_star*T*UgA_star**2*epsilon**3 - 32.0*M*N_star*T*UgA_star**2*epsilon**2 + 64.0*M*N_star*T*UgA_star*epsilon**3 + 32.0*M*N_star*T*UgA_star*epsilon**2 - 1024.0*M*P**2*UGA_prime_star*UGA_star**4*epsilon**3 + 1024.0*M*P**2*UGA_prime_star*UGA_star**4*epsilon**2 - 256.0*M*P**2*UGA_prime_star*UGA_star**4*epsilon + 4096.0*M*P**2*UGA_prime_star*UGA_star**3*epsilon**3 - 3584.0*M*P**2*UGA_prime_star*UGA_star**3*epsilon**2 + 768.0*M*P**2*UGA_prime_star*UGA_star**3*epsilon - 6144.0*M*P**2*UGA_prime_star*UGA_star**2*epsilon**3 + 4608.0*M*P**2*UGA_prime_star*UGA_star**2*epsilon**2 - 768.0*M*P**2*UGA_prime_star*UGA_star**2*epsilon + 4096.0*M*P**2*UGA_prime_star*UGA_star*epsilon**3 - 2560.0*M*P**2*UGA_prime_star*UGA_star*epsilon**2 + 256.0*M*P**2*UGA_prime_star*UGA_star*epsilon - 1024.0*M*P**2*UGA_prime_star*epsilon**3 + 512.0*M*P**2*UGA_prime_star*epsilon**2 - 1024.0*M*P*R*UGA_prime_star*UGA_star**4*epsilon**3 + 512.0*M*P*R*UGA_prime_star*UGA_star**4*epsilon**2 + 256.0*M*P*R*UGA_prime_star*UGA_star**4*epsilon - 128.0*M*P*R*UGA_prime_star*UGA_star**4 + 3072.0*M*P*R*UGA_prime_star*UGA_star**3*epsilon**3 - 1536.0*M*P*R*UGA_prime_star*UGA_star**3*epsilon**2 - 256.0*M*P*R*UGA_prime_star*UGA_star**3*epsilon + 128.0*M*P*R*UGA_prime_star*UGA_star**3 - 3072.0*M*P*R*UGA_prime_star*UGA_star**2*epsilon**3 + 1536.0*M*P*R*UGA_prime_star*UGA_star**2*epsilon**2 + 1024.0*M*P*R*UGA_prime_star*UGA_star*epsilon**3 - 512.0*M*P*R*UGA_prime_star*UGA_star*epsilon**2 + 1024.0*M*P*S*UGA_prime_star*UGA_star**4*epsilon**3 - 512.0*M*P*S*UGA_prime_star*UGA_star**4*epsilon**2 - 256.0*M*P*S*UGA_prime_star*UGA_star**4*epsilon + 128.0*M*P*S*UGA_prime_star*UGA_star**4 - 3584.0*M*P*S*UGA_prime_star*UGA_star**3*epsilon**3 + 1536.0*M*P*S*UGA_prime_star*UGA_star**3*epsilon**2 + 640.0*M*P*S*UGA_prime_star*UGA_star**3*epsilon - 256.0*M*P*S*UGA_prime_star*UGA_star**3 + 4608.0*M*P*S*UGA_prime_star*UGA_star**2*epsilon**3 - 1792.0*M*P*S*UGA_prime_star*UGA_star**2*epsilon**2 - 512.0*M*P*S*UGA_prime_star*UGA_star**2*epsilon + 128.0*M*P*S*UGA_prime_star*UGA_star**2 - 2560.0*M*P*S*UGA_prime_star*UGA_star*epsilon**3 + 1024.0*M*P*S*UGA_prime_star*UGA_star*epsilon**2 + 128.0*M*P*S*UGA_prime_star*UGA_star*epsilon + 512.0*M*P*S*UGA_prime_star*epsilon**3 - 256.0*M*P*S*UGA_prime_star*epsilon**2 + 2048.0*M*P*T*UGA_prime_star*UGA_star**4*epsilon**3 - 2048.0*M*P*T*UGA_prime_star*UGA_star**4*epsilon**2 + 512.0*M*P*T*UGA_prime_star*UGA_star**4*epsilon - 6656.0*M*P*T*UGA_prime_star*UGA_star**3*epsilon**3 + 5632.0*M*P*T*UGA_prime_star*UGA_star**3*epsilon**2 - 1152.0*M*P*T*UGA_prime_star*UGA_star**3*epsilon + 7680.0*M*P*T*UGA_prime_star*UGA_star**2*epsilon**3 - 5376.0*M*P*T*UGA_prime_star*UGA_star**2*epsilon**2 + 768.0*M*P*T*UGA_prime_star*UGA_star**2*epsilon - 3584.0*M*P*T*UGA_prime_star*UGA_star*epsilon**3 + 2048.0*M*P*T*UGA_prime_star*UGA_star*epsilon**2 - 128.0*M*P*T*UGA_prime_star*UGA_star*epsilon + 512.0*M*P*T*UGA_prime_star*epsilon**3 - 256.0*M*P*T*UGA_prime_star*epsilon**2 - 512.0*M*R**2*UGA_prime_star*UGA_star**4*epsilon**2 + 512.0*M*R**2*UGA_prime_star*UGA_star**4*epsilon - 128.0*M*R**2*UGA_prime_star*UGA_star**4 + 512.0*M*R**2*UGA_prime_star*UGA_star**3*epsilon**2 - 256.0*M*R**2*UGA_prime_star*UGA_star**3*epsilon + 1024.0*M*R*S*UGA_prime_star*UGA_star**4*epsilon**2 - 1024.0*M*R*S*UGA_prime_star*UGA_star**4*epsilon + 256.0*M*R*S*UGA_prime_star*UGA_star**4 - 1792.0*M*R*S*UGA_prime_star*UGA_star**3*epsilon**2 + 1280.0*M*R*S*UGA_prime_star*UGA_star**3*epsilon - 192.0*M*R*S*UGA_prime_star*UGA_star**3 + 768.0*M*R*S*UGA_prime_star*UGA_star**2*epsilon**2 - 384.0*M*R*S*UGA_prime_star*UGA_star**2*epsilon + 1024.0*M*R*T*UGA_prime_star*UGA_star**4*epsilon**3 - 512.0*M*R*T*UGA_prime_star*UGA_star**4*epsilon**2 - 256.0*M*R*T*UGA_prime_star*UGA_star**4*epsilon + 128.0*M*R*T*UGA_prime_star*UGA_star**4 - 2048.0*M*R*T*UGA_prime_star*UGA_star**3*epsilon**3 + 768.0*M*R*T*UGA_prime_star*UGA_star**3*epsilon**2 + 256.0*M*R*T*UGA_prime_star*UGA_star**3*epsilon - 64.0*M*R*T*UGA_prime_star*UGA_star**3 + 1024.0*M*R*T*UGA_prime_star*UGA_star**2*epsilon**3 - 256.0*M*R*T*UGA_prime_star*UGA_star**2*epsilon**2 - 128.0*M*R*T*UGA_prime_star*UGA_star**2*epsilon - 512.0*M*S**2*UGA_prime_star*UGA_star**4*epsilon**2 + 512.0*M*S**2*UGA_prime_star*UGA_star**4*epsilon - 128.0*M*S**2*UGA_prime_star*UGA_star**4 + 1280.0*M*S**2*UGA_prime_star*UGA_star**3*epsilon**2 - 1024.0*M*S**2*UGA_prime_star*UGA_star**3*epsilon + 192.0*M*S**2*UGA_prime_star*UGA_star**3 - 1024.0*M*S**2*UGA_prime_star*UGA_star**2*epsilon**2 + 640.0*M*S**2*UGA_prime_star*UGA_star**2*epsilon - 64.0*M*S**2*UGA_prime_star*UGA_star**2 + 256.0*M*S**2*UGA_prime_star*UGA_star*epsilon**2 - 128.0*M*S**2*UGA_prime_star*UGA_star*epsilon - 1024.0*M*S*T*UGA_prime_star*UGA_star**4*epsilon**3 + 512.0*M*S*T*UGA_prime_star*UGA_star**4*epsilon**2 + 256.0*M*S*T*UGA_prime_star*UGA_star**4*epsilon - 128.0*M*S*T*UGA_prime_star*UGA_star**4 + 2560.0*M*S*T*UGA_prime_star*UGA_star**3*epsilon**3 - 768.0*M*S*T*UGA_prime_star*UGA_star**3*epsilon**2 - 640.0*M*S*T*UGA_prime_star*UGA_star**3*epsilon + 192.0*M*S*T*UGA_prime_star*UGA_star**3 - 2048.0*M*S*T*UGA_prime_star*UGA_star**2*epsilon**3 + 256.0*M*S*T*UGA_prime_star*UGA_star**2*epsilon**2 + 512.0*M*S*T*UGA_prime_star*UGA_star**2*epsilon - 64.0*M*S*T*UGA_prime_star*UGA_star**2 + 512.0*M*S*T*UGA_prime_star*UGA_star*epsilon**3 - 128.0*M*S*T*UGA_prime_star*UGA_star*epsilon - 1024.0*M*T**2*UGA_prime_star*UGA_star**4*epsilon**3 + 1024.0*M*T**2*UGA_prime_star*UGA_star**4*epsilon**2 - 256.0*M*T**2*UGA_prime_star*UGA_star**4*epsilon + 2560.0*M*T**2*UGA_prime_star*UGA_star**3*epsilon**3 - 2048.0*M*T**2*UGA_prime_star*UGA_star**3*epsilon**2 + 384.0*M*T**2*UGA_prime_star*UGA_star**3*epsilon - 2048.0*M*T**2*UGA_prime_star*UGA_star**2*epsilon**3 + 1280.0*M*T**2*UGA_prime_star*UGA_star**2*epsilon**2 - 128.0*M*T**2*UGA_prime_star*UGA_star**2*epsilon + 512.0*M*T**2*UGA_prime_star*UGA_star*epsilon**3 - 256.0*M*T**2*UGA_prime_star*UGA_star*epsilon**2 + 32.0*N_star**3*epsilon**2 + 32.0*N_star**3*epsilon + 8.0*N_star**3 - 128.0*N_star**2*P*UGA_prime_star*UGA_star*epsilon**3 - 128.0*N_star**2*P*UGA_prime_star*UGA_star*epsilon**2 - 32.0*N_star**2*P*UGA_prime_star*UGA_star*epsilon + 128.0*N_star**2*P*UGA_prime_star*epsilon**3 + 128.0*N_star**2*P*UGA_prime_star*epsilon**2 + 32.0*N_star**2*P*UGA_prime_star*epsilon - 32.0*N_star**2*P*UGA_star**2*epsilon**3 - 128.0*N_star**2*P*UGA_star**2*epsilon**2 - 72.0*N_star**2*P*UGA_star**2*epsilon - 8.0*N_star**2*P*UGA_star**2 + 64.0*N_star**2*P*UGA_star*epsilon**3 + 256.0*N_star**2*P*UGA_star*epsilon**2 + 144.0*N_star**2*P*UGA_star*epsilon + 16.0*N_star**2*P*UGA_star + 32.0*N_star**2*P*UgA_star**2*epsilon**3 + 32.0*N_star**2*P*UgA_star**2*epsilon**2 + 8.0*N_star**2*P*UgA_star**2*epsilon - 64.0*N_star**2*P*UgA_star*epsilon**3 - 64.0*N_star**2*P*UgA_star*epsilon**2 - 16.0*N_star**2*P*UgA_star*epsilon - 96.0*N_star**2*P*epsilon**2 - 64.0*N_star**2*P*epsilon - 8.0*N_star**2*P - 64.0*N_star**2*R*UGA_prime_star*UGA_star*epsilon**2 - 64.0*N_star**2*R*UGA_prime_star*UGA_star*epsilon - 16.0*N_star**2*R*UGA_prime_star*UGA_star + 64.0*N_star**2*R*UGA_star**2*epsilon**3 - 80.0*N_star**2*R*UGA_star**2*epsilon - 32.0*N_star**2*R*UGA_star**2 + 16.0*N_star**2*R*UgA_star**2*epsilon**2 + 16.0*N_star**2*R*UgA_star**2*epsilon + 4.0*N_star**2*R*UgA_star**2 + 64.0*N_star**2*S*UGA_prime_star*UGA_star*epsilon**2 + 64.0*N_star**2*S*UGA_prime_star*UGA_star*epsilon + 16.0*N_star**2*S*UGA_prime_star*UGA_star - 32.0*N_star**2*S*UGA_prime_star*epsilon**2 - 32.0*N_star**2*S*UGA_prime_star*epsilon - 8.0*N_star**2*S*UGA_prime_star - 64.0*N_star**2*S*UGA_star**2*epsilon**3 + 80.0*N_star**2*S*UGA_star**2*epsilon + 32.0*N_star**2*S*UGA_star**2 + 64.0*N_star**2*S*UGA_star*epsilon**3 - 80.0*N_star**2*S*UGA_star*epsilon - 32.0*N_star**2*S*UGA_star - 16.0*N_star**2*S*UgA_star**2*epsilon**2 - 16.0*N_star**2*S*UgA_star**2*epsilon - 4.0*N_star**2*S*UgA_star**2 + 16.0*N_star**2*S*UgA_star*epsilon**2 + 16.0*N_star**2*S*UgA_star*epsilon + 4.0*N_star**2*S*UgA_star + 128.0*N_star**2*T*UGA_prime_star*UGA_star*epsilon**3 + 128.0*N_star**2*T*UGA_prime_star*UGA_star*epsilon**2 + 32.0*N_star**2*T*UGA_prime_star*UGA_star*epsilon - 64.0*N_star**2*T*UGA_prime_star*epsilon**3 - 64.0*N_star**2*T*UGA_prime_star*epsilon**2 - 16.0*N_star**2*T*UGA_prime_star*epsilon + 32.0*N_star**2*T*UGA_star**2*epsilon**3 + 128.0*N_star**2*T*UGA_star**2*epsilon**2 + 72.0*N_star**2*T*UGA_star**2*epsilon + 8.0*N_star**2*T*UGA_star**2 - 32.0*N_star**2*T*UGA_star*epsilon**3 - 128.0*N_star**2*T*UGA_star*epsilon**2 - 72.0*N_star**2*T*UGA_star*epsilon - 8.0*N_star**2*T*UGA_star - 32.0*N_star**2*T*UgA_star**2*epsilon**3 - 32.0*N_star**2*T*UgA_star**2*epsilon**2 - 8.0*N_star**2*T*UgA_star**2*epsilon + 32.0*N_star**2*T*UgA_star*epsilon**3 + 32.0*N_star**2*T*UgA_star*epsilon**2 + 8.0*N_star**2*T*UgA_star*epsilon + 512.0*N_star*P**2*UGA_prime_star*UGA_star**3*epsilon**3 + 128.0*N_star*P**2*UGA_prime_star*UGA_star**3*epsilon**2 - 64.0*N_star*P**2*UGA_prime_star*UGA_star**3*epsilon - 1536.0*N_star*P**2*UGA_prime_star*UGA_star**2*epsilon**3 - 384.0*N_star*P**2*UGA_prime_star*UGA_star**2*epsilon**2 + 192.0*N_star*P**2*UGA_prime_star*UGA_star**2*epsilon + 1536.0*N_star*P**2*UGA_prime_star*UGA_star*epsilon**3 + 384.0*N_star*P**2*UGA_prime_star*UGA_star*epsilon**2 - 192.0*N_star*P**2*UGA_prime_star*UGA_star*epsilon - 512.0*N_star*P**2*UGA_prime_star*epsilon**3 - 128.0*N_star*P**2*UGA_prime_star*epsilon**2 + 64.0*N_star*P**2*UGA_prime_star*epsilon + 64.0*N_star*P**2*UGA_star**4*epsilon**3 + 64.0*N_star*P**2*UGA_star**4*epsilon**2 + 16.0*N_star*P**2*UGA_star**4*epsilon - 256.0*N_star*P**2*UGA_star**3*epsilon**3 - 256.0*N_star*P**2*UGA_star**3*epsilon**2 - 64.0*N_star*P**2*UGA_star**3*epsilon - 64.0*N_star*P**2*UGA_star**2*UgA_star**2*epsilon**3 - 32.0*N_star*P**2*UGA_star**2*UgA_star**2*epsilon**2 + 128.0*N_star*P**2*UGA_star**2*UgA_star*epsilon**3 + 64.0*N_star*P**2*UGA_star**2*UgA_star*epsilon**2 + 320.0*N_star*P**2*UGA_star**2*epsilon**3 + 352.0*N_star*P**2*UGA_star**2*epsilon**2 + 96.0*N_star*P**2*UGA_star**2*epsilon + 128.0*N_star*P**2*UGA_star*UgA_star**2*epsilon**3 + 64.0*N_star*P**2*UGA_star*UgA_star**2*epsilon**2 - 256.0*N_star*P**2*UGA_star*UgA_star*epsilon**3 - 128.0*N_star*P**2*UGA_star*UgA_star*epsilon**2 - 128.0*N_star*P**2*UGA_star*epsilon**3 - 192.0*N_star*P**2*UGA_star*epsilon**2 - 64.0*N_star*P**2*UGA_star*epsilon - 64.0*N_star*P**2*UgA_star**2*epsilon**3 - 32.0*N_star*P**2*UgA_star**2*epsilon**2 + 128.0*N_star*P**2*UgA_star*epsilon**3 + 64.0*N_star*P**2*UgA_star*epsilon**2 + 32.0*N_star*P**2*epsilon**2 + 16.0*N_star*P**2*epsilon + 256.0*N_star*P*R*UGA_prime_star*UGA_star**3*epsilon**3 + 384.0*N_star*P*R*UGA_prime_star*UGA_star**3*epsilon**2 + 64.0*N_star*P*R*UGA_prime_star*UGA_star**3*epsilon - 32.0*N_star*P*R*UGA_prime_star*UGA_star**3 - 512.0*N_star*P*R*UGA_prime_star*UGA_star**2*epsilon**3 - 512.0*N_star*P*R*UGA_prime_star*UGA_star**2*epsilon**2 - 64.0*N_star*P*R*UGA_prime_star*UGA_star**2*epsilon + 32.0*N_star*P*R*UGA_prime_star*UGA_star**2 + 256.0*N_star*P*R*UGA_prime_star*UGA_star*epsilon**3 + 128.0*N_star*P*R*UGA_prime_star*UGA_star*epsilon**2 - 128.0*N_star*P*R*UGA_star**4*epsilon**3 + 96.0*N_star*P*R*UGA_star**4*epsilon**2 + 96.0*N_star*P*R*UGA_star**4*epsilon + 8.0*N_star*P*R*UGA_star**4 + 256.0*N_star*P*R*UGA_star**3*epsilon**3 - 192.0*N_star*P*R*UGA_star**3*epsilon**2 - 192.0*N_star*P*R*UGA_star**3*epsilon - 16.0*N_star*P*R*UGA_star**3 - 64.0*N_star*P*R*UGA_star**2*UgA_star**2*epsilon**2 - 32.0*N_star*P*R*UGA_star**2*UgA_star**2*epsilon + 64.0*N_star*P*R*UGA_star**2*UgA_star*epsilon**2 + 32.0*N_star*P*R*UGA_star**2*UgA_star*epsilon - 128.0*N_star*P*R*UGA_star**2*epsilon**3 + 64.0*N_star*P*R*UGA_star**2*epsilon**2 + 80.0*N_star*P*R*UGA_star**2*epsilon + 8.0*N_star*P*R*UGA_star**2 + 64.0*N_star*P*R*UGA_star*UgA_star**2*epsilon**2 + 32.0*N_star*P*R*UGA_star*UgA_star**2*epsilon - 32.0*N_star*P*R*UgA_star**2*epsilon**2 - 16.0*N_star*P*R*UgA_star**2*epsilon - 256.0*N_star*P*S*UGA_prime_star*UGA_star**3*epsilon**3 - 384.0*N_star*P*S*UGA_prime_star*UGA_star**3*epsilon**2 - 64.0*N_star*P*S*UGA_prime_star*UGA_star**3*epsilon + 32.0*N_star*P*S*UGA_prime_star*UGA_star**3 + 640.0*N_star*P*S*UGA_prime_star*UGA_star**2*epsilon**3 + 832.0*N_star*P*S*UGA_prime_star*UGA_star**2*epsilon**2 + 128.0*N_star*P*S*UGA_prime_star*UGA_star**2*epsilon - 64.0*N_star*P*S*UGA_prime_star*UGA_star**2 - 512.0*N_star*P*S*UGA_prime_star*UGA_star*epsilon**3 - 512.0*N_star*P*S*UGA_prime_star*UGA_star*epsilon**2 - 64.0*N_star*P*S*UGA_prime_star*UGA_star*epsilon + 32.0*N_star*P*S*UGA_prime_star*UGA_star + 128.0*N_star*P*S*UGA_prime_star*epsilon**3 + 64.0*N_star*P*S*UGA_prime_star*epsilon**2 + 128.0*N_star*P*S*UGA_star**4*epsilon**3 - 96.0*N_star*P*S*UGA_star**4*epsilon**2 - 96.0*N_star*P*S*UGA_star**4*epsilon - 8.0*N_star*P*S*UGA_star**4 - 384.0*N_star*P*S*UGA_star**3*epsilon**3 + 288.0*N_star*P*S*UGA_star**3*epsilon**2 + 288.0*N_star*P*S*UGA_star**3*epsilon + 24.0*N_star*P*S*UGA_star**3 + 64.0*N_star*P*S*UGA_star**2*UgA_star**2*epsilon**2 + 32.0*N_star*P*S*UGA_star**2*UgA_star**2*epsilon - 96.0*N_star*P*S*UGA_star**2*UgA_star*epsilon**2 - 48.0*N_star*P*S*UGA_star**2*UgA_star*epsilon + 384.0*N_star*P*S*UGA_star**2*epsilon**3 - 256.0*N_star*P*S*UGA_star**2*epsilon**2 - 272.0*N_star*P*S*UGA_star**2*epsilon - 24.0*N_star*P*S*UGA_star**2 - 96.0*N_star*P*S*UGA_star*UgA_star**2*epsilon**2 - 48.0*N_star*P*S*UGA_star*UgA_star**2*epsilon + 128.0*N_star*P*S*UGA_star*UgA_star*epsilon**2 + 64.0*N_star*P*S*UGA_star*UgA_star*epsilon - 128.0*N_star*P*S*UGA_star*epsilon**3 + 64.0*N_star*P*S*UGA_star*epsilon**2 + 80.0*N_star*P*S*UGA_star*epsilon + 8.0*N_star*P*S*UGA_star + 32.0*N_star*P*S*UgA_star**2*epsilon**2 + 16.0*N_star*P*S*UgA_star**2*epsilon - 32.0*N_star*P*S*UgA_star*epsilon**2 - 16.0*N_star*P*S*UgA_star*epsilon - 1024.0*N_star*P*T*UGA_prime_star*UGA_star**3*epsilon**3 - 256.0*N_star*P*T*UGA_prime_star*UGA_star**3*epsilon**2 + 128.0*N_star*P*T*UGA_prime_star*UGA_star**3*epsilon + 2304.0*N_star*P*T*UGA_prime_star*UGA_star**2*epsilon**3 + 576.0*N_star*P*T*UGA_prime_star*UGA_star**2*epsilon**2 - 288.0*N_star*P*T*UGA_prime_star*UGA_star**2*epsilon - 1536.0*N_star*P*T*UGA_prime_star*UGA_star*epsilon**3 - 384.0*N_star*P*T*UGA_prime_star*UGA_star*epsilon**2 + 192.0*N_star*P*T*UGA_prime_star*UGA_star*epsilon + 256.0*N_star*P*T*UGA_prime_star*epsilon**3 + 64.0*N_star*P*T*UGA_prime_star*epsilon**2 - 32.0*N_star*P*T*UGA_prime_star*epsilon - 128.0*N_star*P*T*UGA_star**4*epsilon**3 - 128.0*N_star*P*T*UGA_star**4*epsilon**2 - 32.0*N_star*P*T*UGA_star**4*epsilon + 384.0*N_star*P*T*UGA_star**3*epsilon**3 + 384.0*N_star*P*T*UGA_star**3*epsilon**2 + 96.0*N_star*P*T*UGA_star**3*epsilon + 128.0*N_star*P*T*UGA_star**2*UgA_star**2*epsilon**3 + 64.0*N_star*P*T*UGA_star**2*UgA_star**2*epsilon**2 - 192.0*N_star*P*T*UGA_star**2*UgA_star*epsilon**3 - 96.0*N_star*P*T*UGA_star**2*UgA_star*epsilon**2 - 320.0*N_star*P*T*UGA_star**2*epsilon**3 - 352.0*N_star*P*T*UGA_star**2*epsilon**2 - 96.0*N_star*P*T*UGA_star**2*epsilon - 192.0*N_star*P*T*UGA_star*UgA_star**2*epsilon**3 - 96.0*N_star*P*T*UGA_star*UgA_star**2*epsilon**2 + 256.0*N_star*P*T*UGA_star*UgA_star*epsilon**3 + 128.0*N_star*P*T*UGA_star*UgA_star*epsilon**2 + 64.0*N_star*P*T*UGA_star*epsilon**3 + 96.0*N_star*P*T*UGA_star*epsilon**2 + 32.0*N_star*P*T*UGA_star*epsilon + 64.0*N_star*P*T*UgA_star**2*epsilon**3 + 32.0*N_star*P*T*UgA_star**2*epsilon**2 - 64.0*N_star*P*T*UgA_star*epsilon**3 - 32.0*N_star*P*T*UgA_star*epsilon**2 + 128.0*N_star*R**2*UGA_prime_star*UGA_star**3*epsilon**2 + 64.0*N_star*R**2*UGA_prime_star*UGA_star**3*epsilon - 64.0*N_star*R**2*UGA_star**4*epsilon**2 + 32.0*N_star*R**2*UGA_star**4*epsilon + 32.0*N_star*R**2*UGA_star**4 - 16.0*N_star*R**2*UGA_star**2*UgA_star**2*epsilon - 8.0*N_star*R**2*UGA_star**2*UgA_star**2 - 256.0*N_star*R*S*UGA_prime_star*UGA_star**3*epsilon**2 - 128.0*N_star*R*S*UGA_prime_star*UGA_star**3*epsilon + 192.0*N_star*R*S*UGA_prime_star*UGA_star**2*epsilon**2 + 96.0*N_star*R*S*UGA_prime_star*UGA_star**2*epsilon + 128.0*N_star*R*S*UGA_star**4*epsilon**2 - 64.0*N_star*R*S*UGA_star**4*epsilon - 64.0*N_star*R*S*UGA_star**4 - 128.0*N_star*R*S*UGA_star**3*epsilon**2 + 64.0*N_star*R*S*UGA_star**3*epsilon + 64.0*N_star*R*S*UGA_star**3 + 32.0*N_star*R*S*UGA_star**2*UgA_star**2*epsilon + 16.0*N_star*R*S*UGA_star**2*UgA_star**2 - 16.0*N_star*R*S*UGA_star**2*UgA_star*epsilon - 8.0*N_star*R*S*UGA_star**2*UgA_star - 16.0*N_star*R*S*UGA_star*UgA_star**2*epsilon - 8.0*N_star*R*S*UGA_star*UgA_star**2 - 256.0*N_star*R*T*UGA_prime_star*UGA_star**3*epsilon**3 - 384.0*N_star*R*T*UGA_prime_star*UGA_star**3*epsilon**2 - 64.0*N_star*R*T*UGA_prime_star*UGA_star**3*epsilon + 32.0*N_star*R*T*UGA_prime_star*UGA_star**3 + 256.0*N_star*R*T*UGA_prime_star*UGA_star**2*epsilon**3 + 256.0*N_star*R*T*UGA_prime_star*UGA_star**2*epsilon**2 + 32.0*N_star*R*T*UGA_prime_star*UGA_star**2*epsilon - 16.0*N_star*R*T*UGA_prime_star*UGA_star**2 + 128.0*N_star*R*T*UGA_star**4*epsilon**3 - 96.0*N_star*R*T*UGA_star**4*epsilon**2 - 96.0*N_star*R*T*UGA_star**4*epsilon - 8.0*N_star*R*T*UGA_star**4 - 128.0*N_star*R*T*UGA_star**3*epsilon**3 + 96.0*N_star*R*T*UGA_star**3*epsilon**2 + 96.0*N_star*R*T*UGA_star**3*epsilon + 8.0*N_star*R*T*UGA_star**3 + 64.0*N_star*R*T*UGA_star**2*UgA_star**2*epsilon**2 + 32.0*N_star*R*T*UGA_star**2*UgA_star**2*epsilon - 32.0*N_star*R*T*UGA_star**2*UgA_star*epsilon**2 - 16.0*N_star*R*T*UGA_star**2*UgA_star*epsilon - 32.0*N_star*R*T*UGA_star*UgA_star**2*epsilon**2 - 16.0*N_star*R*T*UGA_star*UgA_star**2*epsilon + 128.0*N_star*S**2*UGA_prime_star*UGA_star**3*epsilon**2 + 64.0*N_star*S**2*UGA_prime_star*UGA_star**3*epsilon - 192.0*N_star*S**2*UGA_prime_star*UGA_star**2*epsilon**2 - 96.0*N_star*S**2*UGA_prime_star*UGA_star**2*epsilon + 64.0*N_star*S**2*UGA_prime_star*UGA_star*epsilon**2 + 32.0*N_star*S**2*UGA_prime_star*UGA_star*epsilon - 64.0*N_star*S**2*UGA_star**4*epsilon**2 + 32.0*N_star*S**2*UGA_star**4*epsilon + 32.0*N_star*S**2*UGA_star**4 + 128.0*N_star*S**2*UGA_star**3*epsilon**2 - 64.0*N_star*S**2*UGA_star**3*epsilon - 64.0*N_star*S**2*UGA_star**3 - 16.0*N_star*S**2*UGA_star**2*UgA_star**2*epsilon - 8.0*N_star*S**2*UGA_star**2*UgA_star**2 + 16.0*N_star*S**2*UGA_star**2*UgA_star*epsilon + 8.0*N_star*S**2*UGA_star**2*UgA_star - 64.0*N_star*S**2*UGA_star**2*epsilon**2 + 32.0*N_star*S**2*UGA_star**2*epsilon + 32.0*N_star*S**2*UGA_star**2 + 16.0*N_star*S**2*UGA_star*UgA_star**2*epsilon + 8.0*N_star*S**2*UGA_star*UgA_star**2 - 16.0*N_star*S**2*UGA_star*UgA_star*epsilon - 8.0*N_star*S**2*UGA_star*UgA_star + 256.0*N_star*S*T*UGA_prime_star*UGA_star**3*epsilon**3 + 384.0*N_star*S*T*UGA_prime_star*UGA_star**3*epsilon**2 + 64.0*N_star*S*T*UGA_prime_star*UGA_star**3*epsilon - 32.0*N_star*S*T*UGA_prime_star*UGA_star**3 - 384.0*N_star*S*T*UGA_prime_star*UGA_star**2*epsilon**3 - 576.0*N_star*S*T*UGA_prime_star*UGA_star**2*epsilon**2 - 96.0*N_star*S*T*UGA_prime_star*UGA_star**2*epsilon + 48.0*N_star*S*T*UGA_prime_star*UGA_star**2 + 128.0*N_star*S*T*UGA_prime_star*UGA_star*epsilon**3 + 192.0*N_star*S*T*UGA_prime_star*UGA_star*epsilon**2 + 32.0*N_star*S*T*UGA_prime_star*UGA_star*epsilon - 16.0*N_star*S*T*UGA_prime_star*UGA_star - 128.0*N_star*S*T*UGA_star**4*epsilon**3 + 96.0*N_star*S*T*UGA_star**4*epsilon**2 + 96.0*N_star*S*T*UGA_star**4*epsilon + 8.0*N_star*S*T*UGA_star**4 + 256.0*N_star*S*T*UGA_star**3*epsilon**3 - 192.0*N_star*S*T*UGA_star**3*epsilon**2 - 192.0*N_star*S*T*UGA_star**3*epsilon - 16.0*N_star*S*T*UGA_star**3 - 64.0*N_star*S*T*UGA_star**2*UgA_star**2*epsilon**2 - 32.0*N_star*S*T*UGA_star**2*UgA_star**2*epsilon + 64.0*N_star*S*T*UGA_star**2*UgA_star*epsilon**2 + 32.0*N_star*S*T*UGA_star**2*UgA_star*epsilon - 128.0*N_star*S*T*UGA_star**2*epsilon**3 + 96.0*N_star*S*T*UGA_star**2*epsilon**2 + 96.0*N_star*S*T*UGA_star**2*epsilon + 8.0*N_star*S*T*UGA_star**2 + 64.0*N_star*S*T*UGA_star*UgA_star**2*epsilon**2 + 32.0*N_star*S*T*UGA_star*UgA_star**2*epsilon - 64.0*N_star*S*T*UGA_star*UgA_star*epsilon**2 - 32.0*N_star*S*T*UGA_star*UgA_star*epsilon + 512.0*N_star*T**2*UGA_prime_star*UGA_star**3*epsilon**3 + 128.0*N_star*T**2*UGA_prime_star*UGA_star**3*epsilon**2 - 64.0*N_star*T**2*UGA_prime_star*UGA_star**3*epsilon - 768.0*N_star*T**2*UGA_prime_star*UGA_star**2*epsilon**3 - 192.0*N_star*T**2*UGA_prime_star*UGA_star**2*epsilon**2 + 96.0*N_star*T**2*UGA_prime_star*UGA_star**2*epsilon + 256.0*N_star*T**2*UGA_prime_star*UGA_star*epsilon**3 + 64.0*N_star*T**2*UGA_prime_star*UGA_star*epsilon**2 - 32.0*N_star*T**2*UGA_prime_star*UGA_star*epsilon + 64.0*N_star*T**2*UGA_star**4*epsilon**3 + 64.0*N_star*T**2*UGA_star**4*epsilon**2 + 16.0*N_star*T**2*UGA_star**4*epsilon - 128.0*N_star*T**2*UGA_star**3*epsilon**3 - 128.0*N_star*T**2*UGA_star**3*epsilon**2 - 32.0*N_star*T**2*UGA_star**3*epsilon - 64.0*N_star*T**2*UGA_star**2*UgA_star**2*epsilon**3 - 32.0*N_star*T**2*UGA_star**2*UgA_star**2*epsilon**2 + 64.0*N_star*T**2*UGA_star**2*UgA_star*epsilon**3 + 32.0*N_star*T**2*UGA_star**2*UgA_star*epsilon**2 + 64.0*N_star*T**2*UGA_star**2*epsilon**3 + 64.0*N_star*T**2*UGA_star**2*epsilon**2 + 16.0*N_star*T**2*UGA_star**2*epsilon + 64.0*N_star*T**2*UGA_star*UgA_star**2*epsilon**3 + 32.0*N_star*T**2*UGA_star*UgA_star**2*epsilon**2 - 64.0*N_star*T**2*UGA_star*UgA_star*epsilon**3 - 32.0*N_star*T**2*UGA_star*UgA_star*epsilon**2 - 512.0*P**3*UGA_prime_star*UGA_star**5*epsilon**3 + 256.0*P**3*UGA_prime_star*UGA_star**5*epsilon**2 + 2560.0*P**3*UGA_prime_star*UGA_star**4*epsilon**3 - 1280.0*P**3*UGA_prime_star*UGA_star**4*epsilon**2 - 5120.0*P**3*UGA_prime_star*UGA_star**3*epsilon**3 + 2560.0*P**3*UGA_prime_star*UGA_star**3*epsilon**2 + 5120.0*P**3*UGA_prime_star*UGA_star**2*epsilon**3 - 2560.0*P**3*UGA_prime_star*UGA_star**2*epsilon**2 - 2560.0*P**3*UGA_prime_star*UGA_star*epsilon**3 + 1280.0*P**3*UGA_prime_star*UGA_star*epsilon**2 + 512.0*P**3*UGA_prime_star*epsilon**3 - 256.0*P**3*UGA_prime_star*epsilon**2 - 512.0*P**2*R*UGA_prime_star*UGA_star**5*epsilon**3 - 256.0*P**2*R*UGA_prime_star*UGA_star**5*epsilon**2 + 256.0*P**2*R*UGA_prime_star*UGA_star**5*epsilon + 2048.0*P**2*R*UGA_prime_star*UGA_star**4*epsilon**3 + 512.0*P**2*R*UGA_prime_star*UGA_star**4*epsilon**2 - 768.0*P**2*R*UGA_prime_star*UGA_star**4*epsilon - 3072.0*P**2*R*UGA_prime_star*UGA_star**3*epsilon**3 + 768.0*P**2*R*UGA_prime_star*UGA_star**3*epsilon + 2048.0*P**2*R*UGA_prime_star*UGA_star**2*epsilon**3 - 512.0*P**2*R*UGA_prime_star*UGA_star**2*epsilon**2 - 256.0*P**2*R*UGA_prime_star*UGA_star**2*epsilon - 512.0*P**2*R*UGA_prime_star*UGA_star*epsilon**3 + 256.0*P**2*R*UGA_prime_star*UGA_star*epsilon**2 + 512.0*P**2*S*UGA_prime_star*UGA_star**5*epsilon**3 + 256.0*P**2*S*UGA_prime_star*UGA_star**5*epsilon**2 - 256.0*P**2*S*UGA_prime_star*UGA_star**5*epsilon - 2304.0*P**2*S*UGA_prime_star*UGA_star**4*epsilon**3 - 896.0*P**2*S*UGA_prime_star*UGA_star**4*epsilon**2 + 1024.0*P**2*S*UGA_prime_star*UGA_star**4*epsilon + 4096.0*P**2*S*UGA_prime_star*UGA_star**3*epsilon**3 + 1024.0*P**2*S*UGA_prime_star*UGA_star**3*epsilon**2 - 1536.0*P**2*S*UGA_prime_star*UGA_star**3*epsilon - 3584.0*P**2*S*UGA_prime_star*UGA_star**2*epsilon**3 - 256.0*P**2*S*UGA_prime_star*UGA_star**2*epsilon**2 + 1024.0*P**2*S*UGA_prime_star*UGA_star**2*epsilon + 1536.0*P**2*S*UGA_prime_star*UGA_star*epsilon**3 - 256.0*P**2*S*UGA_prime_star*UGA_star*epsilon**2 - 256.0*P**2*S*UGA_prime_star*UGA_star*epsilon - 256.0*P**2*S*UGA_prime_star*epsilon**3 + 128.0*P**2*S*UGA_prime_star*epsilon**2 + 1536.0*P**2*T*UGA_prime_star*UGA_star**5*epsilon**3 - 768.0*P**2*T*UGA_prime_star*UGA_star**5*epsilon**2 - 6400.0*P**2*T*UGA_prime_star*UGA_star**4*epsilon**3 + 3200.0*P**2*T*UGA_prime_star*UGA_star**4*epsilon**2 + 10240.0*P**2*T*UGA_prime_star*UGA_star**3*epsilon**3 - 5120.0*P**2*T*UGA_prime_star*UGA_star**3*epsilon**2 - 7680.0*P**2*T*UGA_prime_star*UGA_star**2*epsilon**3 + 3840.0*P**2*T*UGA_prime_star*UGA_star**2*epsilon**2 + 2560.0*P**2*T*UGA_prime_star*UGA_star*epsilon**3 - 1280.0*P**2*T*UGA_prime_star*UGA_star*epsilon**2 - 256.0*P**2*T*UGA_prime_star*epsilon**3 + 128.0*P**2*T*UGA_prime_star*epsilon**2 - 512.0*P*R**2*UGA_prime_star*UGA_star**5*epsilon**2 + 128.0*P*R**2*UGA_prime_star*UGA_star**5*epsilon + 64.0*P*R**2*UGA_prime_star*UGA_star**5 + 1024.0*P*R**2*UGA_prime_star*UGA_star**4*epsilon**2 - 384.0*P*R**2*UGA_prime_star*UGA_star**4*epsilon - 64.0*P*R**2*UGA_prime_star*UGA_star**4 - 512.0*P*R**2*UGA_prime_star*UGA_star**3*epsilon**2 + 256.0*P*R**2*UGA_prime_star*UGA_star**3*epsilon + 1024.0*P*R*S*UGA_prime_star*UGA_star**5*epsilon**2 - 256.0*P*R*S*UGA_prime_star*UGA_star**5*epsilon - 128.0*P*R*S*UGA_prime_star*UGA_star**5 - 2816.0*P*R*S*UGA_prime_star*UGA_star**4*epsilon**2 + 896.0*P*R*S*UGA_prime_star*UGA_star**4*epsilon + 256.0*P*R*S*UGA_prime_star*UGA_star**4 + 2560.0*P*R*S*UGA_prime_star*UGA_star**3*epsilon**2 - 1024.0*P*R*S*UGA_prime_star*UGA_star**3*epsilon - 128.0*P*R*S*UGA_prime_star*UGA_star**3 - 768.0*P*R*S*UGA_prime_star*UGA_star**2*epsilon**2 + 384.0*P*R*S*UGA_prime_star*UGA_star**2*epsilon + 1024.0*P*R*T*UGA_prime_star*UGA_star**5*epsilon**3 + 512.0*P*R*T*UGA_prime_star*UGA_star**5*epsilon**2 - 512.0*P*R*T*UGA_prime_star*UGA_star**5*epsilon - 3072.0*P*R*T*UGA_prime_star*UGA_star**4*epsilon**3 - 768.0*P*R*T*UGA_prime_star*UGA_star**4*epsilon**2 + 1152.0*P*R*T*UGA_prime_star*UGA_star**4*epsilon + 3072.0*P*R*T*UGA_prime_star*UGA_star**3*epsilon**3 - 768.0*P*R*T*UGA_prime_star*UGA_star**3*epsilon - 1024.0*P*R*T*UGA_prime_star*UGA_star**2*epsilon**3 + 256.0*P*R*T*UGA_prime_star*UGA_star**2*epsilon**2 + 128.0*P*R*T*UGA_prime_star*UGA_star**2*epsilon - 512.0*P*S**2*UGA_prime_star*UGA_star**5*epsilon**2 + 128.0*P*S**2*UGA_prime_star*UGA_star**5*epsilon + 64.0*P*S**2*UGA_prime_star*UGA_star**5 + 1792.0*P*S**2*UGA_prime_star*UGA_star**4*epsilon**2 - 512.0*P*S**2*UGA_prime_star*UGA_star**4*epsilon - 192.0*P*S**2*UGA_prime_star*UGA_star**4 - 2304.0*P*S**2*UGA_prime_star*UGA_star**3*epsilon**2 + 768.0*P*S**2*UGA_prime_star*UGA_star**3*epsilon + 192.0*P*S**2*UGA_prime_star*UGA_star**3 + 1280.0*P*S**2*UGA_prime_star*UGA_star**2*epsilon**2 - 512.0*P*S**2*UGA_prime_star*UGA_star**2*epsilon - 64.0*P*S**2*UGA_prime_star*UGA_star**2 - 256.0*P*S**2*UGA_prime_star*UGA_star*epsilon**2 + 128.0*P*S**2*UGA_prime_star*UGA_star*epsilon - 1024.0*P*S*T*UGA_prime_star*UGA_star**5*epsilon**3 - 512.0*P*S*T*UGA_prime_star*UGA_star**5*epsilon**2 + 512.0*P*S*T*UGA_prime_star*UGA_star**5*epsilon + 3584.0*P*S*T*UGA_prime_star*UGA_star**4*epsilon**3 + 1536.0*P*S*T*UGA_prime_star*UGA_star**4*epsilon**2 - 1664.0*P*S*T*UGA_prime_star*UGA_star**4*epsilon - 4608.0*P*S*T*UGA_prime_star*UGA_star**3*epsilon**3 - 1536.0*P*S*T*UGA_prime_star*UGA_star**3*epsilon**2 + 1920.0*P*S*T*UGA_prime_star*UGA_star**3*epsilon + 2560.0*P*S*T*UGA_prime_star*UGA_star**2*epsilon**3 + 512.0*P*S*T*UGA_prime_star*UGA_star**2*epsilon**2 - 896.0*P*S*T*UGA_prime_star*UGA_star**2*epsilon - 512.0*P*S*T*UGA_prime_star*UGA_star*epsilon**3 + 128.0*P*S*T*UGA_prime_star*UGA_star*epsilon - 1536.0*P*T**2*UGA_prime_star*UGA_star**5*epsilon**3 + 768.0*P*T**2*UGA_prime_star*UGA_star**5*epsilon**2 + 5120.0*P*T**2*UGA_prime_star*UGA_star**4*epsilon**3 - 2560.0*P*T**2*UGA_prime_star*UGA_star**4*epsilon**2 - 6144.0*P*T**2*UGA_prime_star*UGA_star**3*epsilon**3 + 3072.0*P*T**2*UGA_prime_star*UGA_star**3*epsilon**2 + 3072.0*P*T**2*UGA_prime_star*UGA_star**2*epsilon**3 - 1536.0*P*T**2*UGA_prime_star*UGA_star**2*epsilon**2 - 512.0*P*T**2*UGA_prime_star*UGA_star*epsilon**3 + 256.0*P*T**2*UGA_prime_star*UGA_star*epsilon**2 - 128.0*R**3*UGA_prime_star*UGA_star**5*epsilon + 64.0*R**3*UGA_prime_star*UGA_star**5 + 384.0*R**2*S*UGA_prime_star*UGA_star**5*epsilon - 192.0*R**2*S*UGA_prime_star*UGA_star**5 - 320.0*R**2*S*UGA_prime_star*UGA_star**4*epsilon + 160.0*R**2*S*UGA_prime_star*UGA_star**4 + 512.0*R**2*T*UGA_prime_star*UGA_star**5*epsilon**2 - 128.0*R**2*T*UGA_prime_star*UGA_star**5*epsilon - 64.0*R**2*T*UGA_prime_star*UGA_star**5 - 512.0*R**2*T*UGA_prime_star*UGA_star**4*epsilon**2 + 192.0*R**2*T*UGA_prime_star*UGA_star**4*epsilon + 32.0*R**2*T*UGA_prime_star*UGA_star**4 - 384.0*R*S**2*UGA_prime_star*UGA_star**5*epsilon + 192.0*R*S**2*UGA_prime_star*UGA_star**5 + 640.0*R*S**2*UGA_prime_star*UGA_star**4*epsilon - 320.0*R*S**2*UGA_prime_star*UGA_star**4 - 256.0*R*S**2*UGA_prime_star*UGA_star**3*epsilon + 128.0*R*S**2*UGA_prime_star*UGA_star**3 - 1024.0*R*S*T*UGA_prime_star*UGA_star**5*epsilon**2 + 256.0*R*S*T*UGA_prime_star*UGA_star**5*epsilon + 128.0*R*S*T*UGA_prime_star*UGA_star**5 + 1792.0*R*S*T*UGA_prime_star*UGA_star**4*epsilon**2 - 512.0*R*S*T*UGA_prime_star*UGA_star**4*epsilon - 192.0*R*S*T*UGA_prime_star*UGA_star**4 - 768.0*R*S*T*UGA_prime_star*UGA_star**3*epsilon**2 + 256.0*R*S*T*UGA_prime_star*UGA_star**3*epsilon + 64.0*R*S*T*UGA_prime_star*UGA_star**3 - 512.0*R*T**2*UGA_prime_star*UGA_star**5*epsilon**3 - 256.0*R*T**2*UGA_prime_star*UGA_star**5*epsilon**2 + 256.0*R*T**2*UGA_prime_star*UGA_star**5*epsilon + 1024.0*R*T**2*UGA_prime_star*UGA_star**4*epsilon**3 + 256.0*R*T**2*UGA_prime_star*UGA_star**4*epsilon**2 - 384.0*R*T**2*UGA_prime_star*UGA_star**4*epsilon - 512.0*R*T**2*UGA_prime_star*UGA_star**3*epsilon**3 + 128.0*R*T**2*UGA_prime_star*UGA_star**3*epsilon + 128.0*S**3*UGA_prime_star*UGA_star**5*epsilon - 64.0*S**3*UGA_prime_star*UGA_star**5 - 320.0*S**3*UGA_prime_star*UGA_star**4*epsilon + 160.0*S**3*UGA_prime_star*UGA_star**4 + 256.0*S**3*UGA_prime_star*UGA_star**3*epsilon - 128.0*S**3*UGA_prime_star*UGA_star**3 - 64.0*S**3*UGA_prime_star*UGA_star**2*epsilon + 32.0*S**3*UGA_prime_star*UGA_star**2 + 512.0*S**2*T*UGA_prime_star*UGA_star**5*epsilon**2 - 128.0*S**2*T*UGA_prime_star*UGA_star**5*epsilon - 64.0*S**2*T*UGA_prime_star*UGA_star**5 - 1280.0*S**2*T*UGA_prime_star*UGA_star**4*epsilon**2 + 320.0*S**2*T*UGA_prime_star*UGA_star**4*epsilon + 160.0*S**2*T*UGA_prime_star*UGA_star**4 + 1024.0*S**2*T*UGA_prime_star*UGA_star**3*epsilon**2 - 256.0*S**2*T*UGA_prime_star*UGA_star**3*epsilon - 128.0*S**2*T*UGA_prime_star*UGA_star**3 - 256.0*S**2*T*UGA_prime_star*UGA_star**2*epsilon**2 + 64.0*S**2*T*UGA_prime_star*UGA_star**2*epsilon + 32.0*S**2*T*UGA_prime_star*UGA_star**2 + 512.0*S*T**2*UGA_prime_star*UGA_star**5*epsilon**3 + 256.0*S*T**2*UGA_prime_star*UGA_star**5*epsilon**2 - 256.0*S*T**2*UGA_prime_star*UGA_star**5*epsilon - 1280.0*S*T**2*UGA_prime_star*UGA_star**4*epsilon**3 - 640.0*S*T**2*UGA_prime_star*UGA_star**4*epsilon**2 + 640.0*S*T**2*UGA_prime_star*UGA_star**4*epsilon + 1024.0*S*T**2*UGA_prime_star*UGA_star**3*epsilon**3 + 512.0*S*T**2*UGA_prime_star*UGA_star**3*epsilon**2 - 512.0*S*T**2*UGA_prime_star*UGA_star**3*epsilon - 256.0*S*T**2*UGA_prime_star*UGA_star**2*epsilon**3 - 128.0*S*T**2*UGA_prime_star*UGA_star**2*epsilon**2 + 128.0*S*T**2*UGA_prime_star*UGA_star**2*epsilon + 512.0*T**3*UGA_prime_star*UGA_star**5*epsilon**3 - 256.0*T**3*UGA_prime_star*UGA_star**5*epsilon**2 - 1280.0*T**3*UGA_prime_star*UGA_star**4*epsilon**3 + 640.0*T**3*UGA_prime_star*UGA_star**4*epsilon**2 + 1024.0*T**3*UGA_prime_star*UGA_star**3*epsilon**3 - 512.0*T**3*UGA_prime_star*UGA_star**3*epsilon**2 - 256.0*T**3*UGA_prime_star*UGA_star**2*epsilon**3 + 128.0*T**3*UGA_prime_star*UGA_star**2*epsilon**2)/(N_star**2*(64.0*M*UGA_star*epsilon**2 - 16.0*M*UGA_star - 64.0*M*epsilon**2 - 32.0*M*epsilon - 32.0*N_star*epsilon**2 - 32.0*N_star*epsilon - 8.0*N_star + 64.0*P*UGA_star**2*epsilon**2 + 32.0*P*UGA_star**2*epsilon - 128.0*P*UGA_star*epsilon**2 - 64.0*P*UGA_star*epsilon + 64.0*P*epsilon**2 + 32.0*P*epsilon + 32.0*R*UGA_star**2*epsilon + 16.0*R*UGA_star**2 - 32.0*S*UGA_star**2*epsilon - 16.0*S*UGA_star**2 + 32.0*S*UGA_star*epsilon + 16.0*S*UGA_star - 64.0*T*UGA_star**2*epsilon**2 - 32.0*T*UGA_star**2*epsilon + 64.0*T*UGA_star*epsilon**2 + 32.0*T*UGA_star*epsilon))"
      ]
     },
     "execution_count": 205,
     "metadata": {},
     "output_type": "execute_result"
    }
   ],
   "source": [
    "F_jac[0,0].simplify()"
   ]
  },
  {
   "cell_type": "code",
   "execution_count": 127,
   "metadata": {},
   "outputs": [
    {
     "data": {
      "text/plain": [
       "(-0.5*x1 - 0.5*x3)*(0.25*M*x1**2 - 0.25*M*x1*x2 + 0.25*M*x1*x3 - 0.25*M*x1 - 0.25*P*x1**2 + 0.25*P*x1*x2 - 0.25*P*x1*x3 + 0.25*P*x1 + 0.25*P*x2*x3 + epsilon*(0.5*M*x1*x2 - 0.5*M*x2**2 + 0.5*M*x2*x3 - 0.5*M*x2 - 1.0*P*x1*x2 - 1.0*P*x2*x3 + 1.0*P*x2))"
      ]
     },
     "execution_count": 127,
     "metadata": {},
     "output_type": "execute_result"
    }
   ],
   "source": [
    "sym.factor(-0.25*M*epsilon*x1**2*x2 + 0.25*M*epsilon*x1*x2**2 - 0.5*M*epsilon*x1*x2*x3 + 0.25*M*epsilon*x1*x2 + 0.25*M*epsilon*x2**2*x3 - 0.25*M*epsilon*x2*x3**2 + 0.25*M*epsilon*x2*x3 - 0.125*M*x1**3 + 0.125*M*x1**2*x2 - 0.25*M*x1**2*x3 + 0.125*M*x1**2 + 0.125*M*x1*x2*x3 - 0.125*M*x1*x3**2 + 0.125*M*x1*x3 + 0.5*P*epsilon*x1**2*x2 + 1.0*P*epsilon*x1*x2*x3 - 0.5*P*epsilon*x1*x2 + 0.5*P*epsilon*x2*x3**2 - 0.5*P*epsilon*x2*x3 + 0.125*P*x1**3 - 0.125*P*x1**2*x2 + 0.25*P*x1**2*x3 - 0.125*P*x1**2 - 0.25*P*x1*x2*x3 + 0.125*P*x1*x3**2 - 0.125*P*x1*x3 - 0.125*P*x2*x3**2, epsilon)"
   ]
  },
  {
   "cell_type": "code",
   "execution_count": 122,
   "metadata": {},
   "outputs": [
    {
     "data": {
      "text/plain": [
       "1.0*(epsilon*x1**3*(0.5*M - 0.5*S) + epsilon*x1**2*x2*(0.25*M - 0.5*P + 0.25*T) + epsilon*x1**2*x3*(0.75*M - 0.75*S) + epsilon*x1**2*(-0.5*M + 0.5*S) + epsilon*x1*x2**2*(-0.25*M + 0.5*P - 0.25*T) + epsilon*x1*x2*x3*(0.5*M - 1.0*P + 0.5*T) + epsilon*x1*x2*(-0.25*M + 0.5*P - 0.25*T) + epsilon*x1*x3**2*(0.25*M - 0.25*S) + epsilon*x1*x3*(-0.25*M + 0.25*S) + epsilon*x2**2*x3*(-0.25*M + 0.5*P - 0.25*T) + epsilon*x2*x3**2*(0.25*M - 0.5*P + 0.25*T) + epsilon*x2*x3*(-0.25*M + 0.5*P - 0.25*T) + x1**3*(-0.375*M - 0.25*P + 0.5*S + 0.125*T) + x1**2*x2*(-0.375*M + 0.25*P + 0.25*S - 0.125*T) + x1**2*x3*(-0.5*M - 0.5*P + 0.75*S + 0.25*T) + x1**2*(0.375*M + 0.25*P - 0.5*S - 0.125*T) + x1*x2*x3*(-0.5*M + 0.25*P + 0.375*S - 0.125*T) + x1*x2*(0.25*M - 0.25*S) + x1*x3**2*(-0.125*M - 0.25*P + 0.25*S + 0.125*T) + x1*x3*(0.125*M + 0.25*P - 0.25*S - 0.125*T) + x2*x3**2*(-0.125*M + 0.125*S) + x2*x3*(0.125*M - 0.125*S))"
      ]
     },
     "execution_count": 122,
     "metadata": {},
     "output_type": "execute_result"
    }
   ],
   "source": [
    "sym.factor(0.5*M*epsilon*x1**3 + 0.25*M*epsilon*x1**2*x2 + 0.75*M*epsilon*x1**2*x3 - 0.5*M*epsilon*x1**2 - 0.25*M*epsilon*x1*x2**2 + 0.5*M*epsilon*x1*x2*x3 - 0.25*M*epsilon*x1*x2 + 0.25*M*epsilon*x1*x3**2 - 0.25*M*epsilon*x1*x3 - 0.25*M*epsilon*x2**2*x3 + 0.25*M*epsilon*x2*x3**2 - 0.25*M*epsilon*x2*x3 - 0.375*M*x1**3 - 0.375*M*x1**2*x2 - 0.5*M*x1**2*x3 + 0.375*M*x1**2 - 0.5*M*x1*x2*x3 + 0.25*M*x1*x2 - 0.125*M*x1*x3**2 + 0.125*M*x1*x3 - 0.125*M*x2*x3**2 + 0.125*M*x2*x3 - 0.5*P*epsilon*x1**2*x2 + 0.5*P*epsilon*x1*x2**2 - 1.0*P*epsilon*x1*x2*x3 + 0.5*P*epsilon*x1*x2 + 0.5*P*epsilon*x2**2*x3 - 0.5*P*epsilon*x2*x3**2 + 0.5*P*epsilon*x2*x3 - 0.25*P*x1**3 + 0.25*P*x1**2*x2 - 0.5*P*x1**2*x3 + 0.25*P*x1**2 + 0.25*P*x1*x2*x3 - 0.25*P*x1*x3**2 + 0.25*P*x1*x3 - 0.5*S*epsilon*x1**3 - 0.75*S*epsilon*x1**2*x3 + 0.5*S*epsilon*x1**2 - 0.25*S*epsilon*x1*x3**2 + 0.25*S*epsilon*x1*x3 + 0.5*S*x1**3 + 0.25*S*x1**2*x2 + 0.75*S*x1**2*x3 - 0.5*S*x1**2 + 0.375*S*x1*x2*x3 - 0.25*S*x1*x2 + 0.25*S*x1*x3**2 - 0.25*S*x1*x3 + 0.125*S*x2*x3**2 - 0.125*S*x2*x3 + 0.25*T*epsilon*x1**2*x2 - 0.25*T*epsilon*x1*x2**2 + 0.5*T*epsilon*x1*x2*x3 - 0.25*T*epsilon*x1*x2 - 0.25*T*epsilon*x2**2*x3 + 0.25*T*epsilon*x2*x3**2 - 0.25*T*epsilon*x2*x3 + 0.125*T*x1**3 - 0.125*T*x1**2*x2 + 0.25*T*x1**2*x3 - 0.125*T*x1**2 - 0.125*T*x1*x2*x3 + 0.125*T*x1*x3**2 - 0.125*T*x1*x3, epsilon, x1, x2, x3)"
   ]
  },
  {
   "cell_type": "code",
   "execution_count": 117,
   "metadata": {},
   "outputs": [
    {
     "data": {
      "text/plain": [
       "-4.0*(1.0*x1 + 1.0*x3)*(1.0*x1 + 1.0*x3 - 1.0)"
      ]
     },
     "execution_count": 117,
     "metadata": {},
     "output_type": "execute_result"
    }
   ],
   "source": [
    "sym.factor((-4.0*x1**2 - 8.0*x1*x3 + 4.0*x1 - 4.0*x3**2 + 4.0*x3))"
   ]
  },
  {
   "cell_type": "code",
   "execution_count": 133,
   "metadata": {},
   "outputs": [],
   "source": [
    "f1 = (sym.factor(sym.together(f1), UGA(x1 + x3), UgA(x1 + x3))\n",
    "         .subs({-0.5*M*x1 - 0.5*M*x2 + 0.5*P + (-1.0*P*x1 - 1.0*P*x2 + 0.5*S*x1 + 0.5*S*x2 + 0.5*T*x1 + 0.5*T*x2)*UGA(x1 + x3) + (0.5*P*x1 + 0.5*P*x2 + 0.5*R*x1 + 0.5*R*x2 - 0.5*S*x1 - 0.5*S*x2 - 0.5*T*x1 - 0.5*T*x2)*UGA(x1 + x3)**2 + (1.0*P*x1 + 1.0*P*x2 - 1.0*P - 0.5*S*x1 - 0.5*S*x2 + 0.5*S - 0.5*T*x1 - 0.5*T*x2 + 0.5*T)*UgA(x1 + x3) + (-0.5*P*x1 - 0.5*P*x2 + 0.5*P - 0.5*R*x1 - 0.5*R*x2 + 0.5*R + 0.5*S*x1 + 0.5*S*x2 - 0.5*S + 0.5*T*x1 + 0.5*T*x2 - 0.5*T)*UgA(x1 + x3)**2: N}))\n",
    "f2 = (sym.factor(sym.together(f2), UGA(x1 + x3), UgA(x1 + x3))\n",
    "         .subs({-0.5*M*x1 - 0.5*M*x2 + 0.5*P + (-1.0*P*x1 - 1.0*P*x2 + 0.5*S*x1 + 0.5*S*x2 + 0.5*T*x1 + 0.5*T*x2)*UGA(x1 + x3) + (0.5*P*x1 + 0.5*P*x2 + 0.5*R*x1 + 0.5*R*x2 - 0.5*S*x1 - 0.5*S*x2 - 0.5*T*x1 - 0.5*T*x2)*UGA(x1 + x3)**2 + (1.0*P*x1 + 1.0*P*x2 - 1.0*P - 0.5*S*x1 - 0.5*S*x2 + 0.5*S - 0.5*T*x1 - 0.5*T*x2 + 0.5*T)*UgA(x1 + x3) + (-0.5*P*x1 - 0.5*P*x2 + 0.5*P - 0.5*R*x1 - 0.5*R*x2 + 0.5*R + 0.5*S*x1 + 0.5*S*x2 - 0.5*S + 0.5*T*x1 + 0.5*T*x2 - 0.5*T)*UgA(x1 + x3)**2: N}))\n",
    "f3 = (sym.factor(sym.together(f3), UGA(x1 + x3), UgA(x1 + x3))\n",
    "         .subs({-0.5*M*x1 - 0.5*M*x2 + 0.5*P + (-1.0*P*x1 - 1.0*P*x2 + 0.5*S*x1 + 0.5*S*x2 + 0.5*T*x1 + 0.5*T*x2)*UGA(x1 + x3) + (0.5*P*x1 + 0.5*P*x2 + 0.5*R*x1 + 0.5*R*x2 - 0.5*S*x1 - 0.5*S*x2 - 0.5*T*x1 - 0.5*T*x2)*UGA(x1 + x3)**2 + (1.0*P*x1 + 1.0*P*x2 - 1.0*P - 0.5*S*x1 - 0.5*S*x2 + 0.5*S - 0.5*T*x1 - 0.5*T*x2 + 0.5*T)*UgA(x1 + x3) + (-0.5*P*x1 - 0.5*P*x2 + 0.5*P - 0.5*R*x1 - 0.5*R*x2 + 0.5*R + 0.5*S*x1 + 0.5*S*x2 - 0.5*S + 0.5*T*x1 + 0.5*T*x2 - 0.5*T)*UgA(x1 + x3)**2: N}))\n"
   ]
  },
  {
   "cell_type": "code",
   "execution_count": 131,
   "metadata": {},
   "outputs": [],
   "source": [
    "N = sym.function('N')\n",
    "f1 = f1.subs({-0.5*M*x1 - 0.5*M*x2 + 0.5*P + (-1.0*P*x1 - 1.0*P*x2 + 0.5*S*x1 + 0.5*S*x2 + 0.5*T*x1 + 0.5*T*x2)*UGA(x1 + x3) + (0.5*P*x1 + 0.5*P*x2 + 0.5*R*x1 + 0.5*R*x2 - 0.5*S*x1 - 0.5*S*x2 - 0.5*T*x1 - 0.5*T*x2)*UGA(x1 + x3)**2 + (1.0*P*x1 + 1.0*P*x2 - 1.0*P - 0.5*S*x1 - 0.5*S*x2 + 0.5*S - 0.5*T*x1 - 0.5*T*x2 + 0.5*T)*UgA(x1 + x3) + (-0.5*P*x1 - 0.5*P*x2 + 0.5*P - 0.5*R*x1 - 0.5*R*x2 + 0.5*R + 0.5*S*x1 + 0.5*S*x2 - 0.5*S + 0.5*T*x1 + 0.5*T*x2 - 0.5*T)*UgA(x1 + x3)**2: N})\n",
    "f2 = f2.subs({-0.5*M*x1 - 0.5*M*x2 + 0.5*P + (-1.0*P*x1 - 1.0*P*x2 + 0.5*S*x1 + 0.5*S*x2 + 0.5*T*x1 + 0.5*T*x2)*UGA(x1 + x3) + (0.5*P*x1 + 0.5*P*x2 + 0.5*R*x1 + 0.5*R*x2 - 0.5*S*x1 - 0.5*S*x2 - 0.5*T*x1 - 0.5*T*x2)*UGA(x1 + x3)**2 + (1.0*P*x1 + 1.0*P*x2 - 1.0*P - 0.5*S*x1 - 0.5*S*x2 + 0.5*S - 0.5*T*x1 - 0.5*T*x2 + 0.5*T)*UgA(x1 + x3) + (-0.5*P*x1 - 0.5*P*x2 + 0.5*P - 0.5*R*x1 - 0.5*R*x2 + 0.5*R + 0.5*S*x1 + 0.5*S*x2 - 0.5*S + 0.5*T*x1 + 0.5*T*x2 - 0.5*T)*UgA(x1 + x3)**2: N})\n",
    "f3 = f3.subs({-0.5*M*x1 - 0.5*M*x2 + 0.5*P + (-1.0*P*x1 - 1.0*P*x2 + 0.5*S*x1 + 0.5*S*x2 + 0.5*T*x1 + 0.5*T*x2)*UGA(x1 + x3) + (0.5*P*x1 + 0.5*P*x2 + 0.5*R*x1 + 0.5*R*x2 - 0.5*S*x1 - 0.5*S*x2 - 0.5*T*x1 - 0.5*T*x2)*UGA(x1 + x3)**2 + (1.0*P*x1 + 1.0*P*x2 - 1.0*P - 0.5*S*x1 - 0.5*S*x2 + 0.5*S - 0.5*T*x1 - 0.5*T*x2 + 0.5*T)*UgA(x1 + x3) + (-0.5*P*x1 - 0.5*P*x2 + 0.5*P - 0.5*R*x1 - 0.5*R*x2 + 0.5*R + 0.5*S*x1 + 0.5*S*x2 - 0.5*S + 0.5*T*x1 + 0.5*T*x2 - 0.5*T)*UgA(x1 + x3)**2: N})\n"
   ]
  },
  {
   "cell_type": "code",
   "execution_count": 135,
   "metadata": {},
   "outputs": [],
   "source": [
    "sym.function?"
   ]
  },
  {
   "cell_type": "code",
   "execution_count": 108,
   "metadata": {},
   "outputs": [
    {
     "data": {
      "text/plain": [
       "-3.0*(-0.0833333333333333*M*epsilon*x2**2*x3 + 0.0833333333333333*M*epsilon*x2*x3**2 - 0.0833333333333333*M*epsilon*x2*x3 - 0.166666666666667*M*x1**4 - 0.166666666666667*P*epsilon*x2*x3**2 + 0.166666666666667*P*epsilon*x2*x3 + 0.0416666666666667*P*x2*x3**2 + x1**4*(-0.333333333333333*P + 0.166666666666667*S + 0.166666666666667*T)*UGA(x1 + x3) + x1**4*(0.333333333333333*P - 0.166666666666667*S - 0.166666666666667*T)*UgA(x1 + x3) + x1**4*(-0.166666666666667*P - 0.166666666666667*R + 0.166666666666667*S + 0.166666666666667*T)*UgA(x1 + x3)**2 + x1**4*(0.166666666666667*P + 0.166666666666667*R - 0.166666666666667*S - 0.166666666666667*T)*UGA(x1 + x3)**2 + x1**3*(-0.166666666666667*M*x2 - 0.333333333333333*M*x3 + 0.208333333333333*M + 0.125*P) + x1**3*(0.333333333333333*P*x2 + 0.666666666666667*P*x3 - 0.666666666666667*P - 0.166666666666667*S*x2 - 0.333333333333333*S*x3 + 0.375*S - 0.166666666666667*T*x2 - 0.333333333333333*T*x3 + 0.333333333333333*T)*UgA(x1 + x3) + x1**3*(-0.166666666666667*M*epsilon + 0.125*M - 0.333333333333333*P*x2 - 0.666666666666667*P*x3 + 0.416666666666667*P + 0.166666666666667*S*epsilon + 0.166666666666667*S*x2 + 0.333333333333333*S*x3 - 0.333333333333333*S + 0.166666666666667*T*x2 + 0.333333333333333*T*x3 - 0.208333333333333*T)*UGA(x1 + x3) + x1**3*(-0.166666666666667*P*x2 - 0.333333333333333*P*x3 + 0.333333333333333*P - 0.166666666666667*R*x2 - 0.333333333333333*R*x3 + 0.375*R + 0.166666666666667*S*x2 + 0.333333333333333*S*x3 - 0.375*S + 0.166666666666667*T*x2 + 0.333333333333333*T*x3 - 0.333333333333333*T)*UgA(x1 + x3)**2 + x1**3*(0.166666666666667*P*x2 + 0.333333333333333*P*x3 - 0.208333333333333*P + 0.166666666666667*R*epsilon + 0.166666666666667*R*x2 + 0.333333333333333*R*x3 - 0.333333333333333*R - 0.166666666666667*S*epsilon - 0.166666666666667*S*x2 - 0.333333333333333*S*x3 + 0.333333333333333*S - 0.166666666666667*T*x2 - 0.333333333333333*T*x3 + 0.208333333333333*T)*UGA(x1 + x3)**2 + x1**2*(0.0833333333333333*M*epsilon*x2 - 0.333333333333333*M*x2*x3 + 0.125*M*x2 - 0.166666666666667*M*x3**2 + 0.25*M*x3 - 0.0416666666666667*M - 0.166666666666667*P*epsilon*x2 + 0.0416666666666667*P*x2 + 0.25*P*x3 - 0.125*P) + x1**2*(0.166666666666667*P*epsilon*x2 + 0.666666666666667*P*x2*x3 - 0.333333333333333*P*x2 + 0.333333333333333*P*x3**2 - 1.0*P*x3 + 0.333333333333333*P + 0.0833333333333333*S*epsilon*x3 - 0.333333333333333*S*x2*x3 + 0.208333333333333*S*x2 - 0.166666666666667*S*x3**2 + 0.5*S*x3 - 0.25*S - 0.0833333333333333*T*epsilon*x2 - 0.333333333333333*T*x2*x3 + 0.166666666666667*T*x2 - 0.166666666666667*T*x3**2 + 0.5*T*x3 - 0.166666666666667*T)*UgA(x1 + x3) + x1**2*(-0.0833333333333333*P*epsilon*x2 - 0.333333333333333*P*x2*x3 + 0.166666666666667*P*x2 - 0.166666666666667*P*x3**2 + 0.5*P*x3 - 0.166666666666667*P + 0.0833333333333333*R*epsilon*x3 - 0.333333333333333*R*x2*x3 + 0.208333333333333*R*x2 - 0.166666666666667*R*x3**2 + 0.5*R*x3 - 0.25*R - 0.0833333333333333*S*epsilon*x3 + 0.333333333333333*S*x2*x3 - 0.208333333333333*S*x2 + 0.166666666666667*S*x3**2 - 0.5*S*x3 + 0.25*S + 0.0833333333333333*T*epsilon*x2 + 0.333333333333333*T*x2*x3 - 0.166666666666667*T*x2 + 0.166666666666667*T*x3**2 - 0.5*T*x3 + 0.166666666666667*T)*UgA(x1 + x3)**2 + x1**2*(-0.0833333333333333*M*epsilon*x2 - 0.25*M*epsilon*x3 + 0.166666666666667*M*epsilon + 0.125*M*x2 + 0.166666666666667*M*x3 - 0.125*M + 0.166666666666667*P*epsilon*x2 - 0.666666666666667*P*x2*x3 + 0.25*P*x2 - 0.333333333333333*P*x3**2 + 0.5*P*x3 - 0.0833333333333333*P + 0.25*S*epsilon*x3 - 0.166666666666667*S*epsilon + 0.333333333333333*S*x2*x3 - 0.25*S*x2 + 0.166666666666667*S*x3**2 - 0.416666666666667*S*x3 + 0.166666666666667*S - 0.0833333333333333*T*epsilon*x2 + 0.333333333333333*T*x2*x3 - 0.125*T*x2 + 0.166666666666667*T*x3**2 - 0.25*T*x3 + 0.0416666666666667*T)*UGA(x1 + x3) + x1**2*(-0.0833333333333333*P*epsilon*x2 + 0.333333333333333*P*x2*x3 - 0.125*P*x2 + 0.166666666666667*P*x3**2 - 0.25*P*x3 + 0.0416666666666667*P + 0.25*R*epsilon*x3 - 0.166666666666667*R*epsilon + 0.333333333333333*R*x2*x3 - 0.25*R*x2 + 0.166666666666667*R*x3**2 - 0.416666666666667*R*x3 + 0.166666666666667*R - 0.25*S*epsilon*x3 + 0.166666666666667*S*epsilon - 0.333333333333333*S*x2*x3 + 0.25*S*x2 - 0.166666666666667*S*x3**2 + 0.416666666666667*S*x3 - 0.166666666666667*S + 0.0833333333333333*T*epsilon*x2 - 0.333333333333333*T*x2*x3 + 0.125*T*x2 - 0.166666666666667*T*x3**2 + 0.25*T*x3 - 0.0416666666666667*T)*UGA(x1 + x3)**2 + x1*(-0.0833333333333333*M*epsilon*x2**2 + 0.166666666666667*M*epsilon*x2*x3 - 0.0833333333333333*M*epsilon*x2 - 0.166666666666667*M*x2*x3**2 + 0.125*M*x2*x3 + 0.0416666666666667*M*x3**2 - 0.0416666666666667*M*x3 - 0.333333333333333*P*epsilon*x2*x3 + 0.166666666666667*P*epsilon*x2 + 0.0833333333333333*P*x2*x3 + 0.125*P*x3**2 - 0.125*P*x3) + x1*(0.166666666666667*P*epsilon*x2**2 + 0.333333333333333*P*epsilon*x2*x3 - 0.166666666666667*P*epsilon*x2 + 0.333333333333333*P*x2*x3**2 - 0.416666666666667*P*x2*x3 - 0.333333333333333*P*x3**2 + 0.333333333333333*P*x3 + 0.0833333333333333*S*epsilon*x3**2 - 0.0833333333333333*S*epsilon*x3 - 0.166666666666667*S*x2*x3**2 + 0.208333333333333*S*x2*x3 - 0.0416666666666667*S*x2 + 0.125*S*x3**2 - 0.166666666666667*S*x3 + 0.0416666666666667*S - 0.0833333333333333*T*epsilon*x2**2 - 0.166666666666667*T*epsilon*x2*x3 + 0.0833333333333333*T*epsilon*x2 - 0.166666666666667*T*x2*x3**2 + 0.208333333333333*T*x2*x3 + 0.166666666666667*T*x3**2 - 0.166666666666667*T*x3)*UgA(x1 + x3) + x1*(0.0833333333333333*P*epsilon*x2**2 - 0.166666666666667*P*epsilon*x2*x3 + 0.0833333333333333*P*epsilon*x2 + 0.166666666666667*P*x2*x3**2 - 0.125*P*x2*x3 - 0.0416666666666667*P*x3**2 + 0.0416666666666667*P*x3 + 0.0833333333333333*R*epsilon*x3**2 - 0.0833333333333333*R*epsilon*x3 + 0.166666666666667*R*x2*x3**2 - 0.291666666666667*R*x2*x3 + 0.0833333333333333*R*x2 - 0.0833333333333333*R*x3**2 + 0.0833333333333333*R*x3 - 0.0833333333333333*S*epsilon*x3**2 + 0.0833333333333333*S*epsilon*x3 - 0.166666666666667*S*x2*x3**2 + 0.291666666666667*S*x2*x3 - 0.0833333333333333*S*x2 + 0.0833333333333333*S*x3**2 - 0.0833333333333333*S*x3 - 0.0833333333333333*T*epsilon*x2**2 + 0.166666666666667*T*epsilon*x2*x3 - 0.0833333333333333*T*epsilon*x2 - 0.166666666666667*T*x2*x3**2 + 0.125*T*x2*x3 + 0.0416666666666667*T*x3**2 - 0.0416666666666667*T*x3)*UGA(x1 + x3)**2 + x1*(0.0833333333333333*M*epsilon*x2**2 - 0.166666666666667*M*epsilon*x2*x3 + 0.0833333333333333*M*epsilon*x2 - 0.0833333333333333*M*epsilon*x3**2 + 0.0833333333333333*M*epsilon*x3 + 0.166666666666667*M*x2*x3 - 0.0833333333333333*M*x2 + 0.0416666666666667*M*x3**2 - 0.0416666666666667*M*x3 - 0.166666666666667*P*epsilon*x2**2 + 0.333333333333333*P*epsilon*x2*x3 - 0.166666666666667*P*epsilon*x2 - 0.333333333333333*P*x2*x3**2 + 0.25*P*x2*x3 + 0.0833333333333333*P*x3**2 - 0.0833333333333333*P*x3 + 0.0833333333333333*S*epsilon*x3**2 - 0.0833333333333333*S*epsilon*x3 + 0.166666666666667*S*x2*x3**2 - 0.291666666666667*S*x2*x3 + 0.0833333333333333*S*x2 - 0.0833333333333333*S*x3**2 + 0.0833333333333333*S*x3 + 0.0833333333333333*T*epsilon*x2**2 - 0.166666666666667*T*epsilon*x2*x3 + 0.0833333333333333*T*epsilon*x2 + 0.166666666666667*T*x2*x3**2 - 0.125*T*x2*x3 - 0.0416666666666667*T*x3**2 + 0.0416666666666667*T*x3)*UGA(x1 + x3) + x1*(-0.0833333333333333*P*epsilon*x2**2 - 0.166666666666667*P*epsilon*x2*x3 + 0.0833333333333333*P*epsilon*x2 - 0.166666666666667*P*x2*x3**2 + 0.208333333333333*P*x2*x3 + 0.166666666666667*P*x3**2 - 0.166666666666667*P*x3 + 0.0833333333333333*R*epsilon*x3**2 - 0.0833333333333333*R*epsilon*x3 - 0.166666666666667*R*x2*x3**2 + 0.208333333333333*R*x2*x3 - 0.0416666666666667*R*x2 + 0.125*R*x3**2 - 0.166666666666667*R*x3 + 0.0416666666666667*R - 0.0833333333333333*S*epsilon*x3**2 + 0.0833333333333333*S*epsilon*x3 + 0.166666666666667*S*x2*x3**2 - 0.208333333333333*S*x2*x3 + 0.0416666666666667*S*x2 - 0.125*S*x3**2 + 0.166666666666667*S*x3 - 0.0416666666666667*S + 0.0833333333333333*T*epsilon*x2**2 + 0.166666666666667*T*epsilon*x2*x3 - 0.0833333333333333*T*epsilon*x2 + 0.166666666666667*T*x2*x3**2 - 0.208333333333333*T*x2*x3 - 0.166666666666667*T*x3**2 + 0.166666666666667*T*x3)*UgA(x1 + x3)**2 + (-0.0833333333333333*P*epsilon*x2**2*x3 - 0.0833333333333333*P*epsilon*x2*x3**2 + 0.0833333333333333*P*epsilon*x2*x3 + 0.0416666666666667*P*x2*x3**2 + 0.0833333333333333*T*epsilon*x2**2*x3 + 0.0833333333333333*T*epsilon*x2*x3**2 - 0.0833333333333333*T*epsilon*x2*x3 - 0.0416666666666667*T*x2*x3**2)*UgA(x1 + x3)**2 + (0.166666666666667*P*epsilon*x2**2*x3 + 0.166666666666667*P*epsilon*x2*x3**2 - 0.166666666666667*P*epsilon*x2*x3 - 0.0833333333333333*P*x2*x3**2 - 0.0833333333333333*T*epsilon*x2**2*x3 - 0.0833333333333333*T*epsilon*x2*x3**2 + 0.0833333333333333*T*epsilon*x2*x3 + 0.0416666666666667*T*x2*x3**2)*UgA(x1 + x3) + (0.0833333333333333*P*epsilon*x2**2*x3 - 0.0833333333333333*P*epsilon*x2*x3**2 + 0.0833333333333333*P*epsilon*x2*x3 - 0.0416666666666667*R*x2*x3**2 + 0.0416666666666667*R*x2*x3 + 0.0416666666666667*S*x2*x3**2 - 0.0416666666666667*S*x2*x3 - 0.0833333333333333*T*epsilon*x2**2*x3 + 0.0833333333333333*T*epsilon*x2*x3**2 - 0.0833333333333333*T*epsilon*x2*x3)*UGA(x1 + x3)**2 + (0.0833333333333333*M*epsilon*x2**2*x3 - 0.0833333333333333*M*epsilon*x2*x3**2 + 0.0833333333333333*M*epsilon*x2*x3 + 0.0416666666666667*M*x2*x3**2 - 0.0416666666666667*M*x2*x3 - 0.166666666666667*P*epsilon*x2**2*x3 + 0.166666666666667*P*epsilon*x2*x3**2 - 0.166666666666667*P*epsilon*x2*x3 - 0.0416666666666667*S*x2*x3**2 + 0.0416666666666667*S*x2*x3 + 0.0833333333333333*T*epsilon*x2**2*x3 - 0.0833333333333333*T*epsilon*x2*x3**2 + 0.0833333333333333*T*epsilon*x2*x3)*UGA(x1 + x3))/(N*(1.0*x1 + 1.0*x3)*(1.0*x1 + 1.0*x3 - 1.0))"
      ]
     },
     "execution_count": 108,
     "metadata": {},
     "output_type": "execute_result"
    }
   ],
   "source": [
    "sym.factor(f1, UGA(x1 + x3), UgA(x1 + x3), x1)"
   ]
  },
  {
   "cell_type": "code",
   "execution_count": 105,
   "metadata": {},
   "outputs": [
    {
     "data": {
      "text/plain": [
       "12.0*(-0.166666666666667*M*x1**4 - 0.166666666666667*M*x1**3*x2 - 0.333333333333333*M*x1**3*x3 + 0.208333333333333*M*x1**3 - 0.333333333333333*M*x1**2*x2*x3 + 0.125*M*x1**2*x2 - 0.166666666666667*M*x1**2*x3**2 + 0.25*M*x1**2*x3 - 0.0416666666666667*M*x1**2 - 0.166666666666667*M*x1*x2*x3**2 + 0.125*M*x1*x2*x3 + 0.0416666666666667*M*x1*x3**2 - 0.0416666666666667*M*x1*x3 + 0.125*P*x1**3 + 0.0416666666666667*P*x1**2*x2 + 0.25*P*x1**2*x3 - 0.125*P*x1**2 + 0.0833333333333333*P*x1*x2*x3 + 0.125*P*x1*x3**2 - 0.125*P*x1*x3 + 0.0416666666666667*P*x2*x3**2 + epsilon*(0.0833333333333333*M*x1**2*x2 - 0.0833333333333333*M*x1*x2**2 + 0.166666666666667*M*x1*x2*x3 - 0.0833333333333333*M*x1*x2 - 0.0833333333333333*M*x2**2*x3 + 0.0833333333333333*M*x2*x3**2 - 0.0833333333333333*M*x2*x3 - 0.166666666666667*P*x1**2*x2 - 0.333333333333333*P*x1*x2*x3 + 0.166666666666667*P*x1*x2 - 0.166666666666667*P*x2*x3**2 + 0.166666666666667*P*x2*x3) + epsilon*(0.166666666666667*P*x1**2*x2 + 0.166666666666667*P*x1*x2**2 + 0.333333333333333*P*x1*x2*x3 - 0.166666666666667*P*x1*x2 + 0.166666666666667*P*x2**2*x3 + 0.166666666666667*P*x2*x3**2 - 0.166666666666667*P*x2*x3 + 0.0833333333333333*S*x1**2*x3 + 0.0833333333333333*S*x1*x3**2 - 0.0833333333333333*S*x1*x3 - 0.0833333333333333*T*x1**2*x2 - 0.0833333333333333*T*x1*x2**2 - 0.166666666666667*T*x1*x2*x3 + 0.0833333333333333*T*x1*x2 - 0.0833333333333333*T*x2**2*x3 - 0.0833333333333333*T*x2*x3**2 + 0.0833333333333333*T*x2*x3)*UgA(x1 + x3) + epsilon*(-0.0833333333333333*P*x1**2*x2 - 0.0833333333333333*P*x1*x2**2 - 0.166666666666667*P*x1*x2*x3 + 0.0833333333333333*P*x1*x2 - 0.0833333333333333*P*x2**2*x3 - 0.0833333333333333*P*x2*x3**2 + 0.0833333333333333*P*x2*x3 + 0.0833333333333333*R*x1**2*x3 + 0.0833333333333333*R*x1*x3**2 - 0.0833333333333333*R*x1*x3 - 0.0833333333333333*S*x1**2*x3 - 0.0833333333333333*S*x1*x3**2 + 0.0833333333333333*S*x1*x3 + 0.0833333333333333*T*x1**2*x2 + 0.0833333333333333*T*x1*x2**2 + 0.166666666666667*T*x1*x2*x3 - 0.0833333333333333*T*x1*x2 + 0.0833333333333333*T*x2**2*x3 + 0.0833333333333333*T*x2*x3**2 - 0.0833333333333333*T*x2*x3)*UgA(x1 + x3)**2 + epsilon*(-0.0833333333333333*P*x1**2*x2 + 0.0833333333333333*P*x1*x2**2 - 0.166666666666667*P*x1*x2*x3 + 0.0833333333333333*P*x1*x2 + 0.0833333333333333*P*x2**2*x3 - 0.0833333333333333*P*x2*x3**2 + 0.0833333333333333*P*x2*x3 + 0.166666666666667*R*x1**3 + 0.25*R*x1**2*x3 - 0.166666666666667*R*x1**2 + 0.0833333333333333*R*x1*x3**2 - 0.0833333333333333*R*x1*x3 - 0.166666666666667*S*x1**3 - 0.25*S*x1**2*x3 + 0.166666666666667*S*x1**2 - 0.0833333333333333*S*x1*x3**2 + 0.0833333333333333*S*x1*x3 + 0.0833333333333333*T*x1**2*x2 - 0.0833333333333333*T*x1*x2**2 + 0.166666666666667*T*x1*x2*x3 - 0.0833333333333333*T*x1*x2 - 0.0833333333333333*T*x2**2*x3 + 0.0833333333333333*T*x2*x3**2 - 0.0833333333333333*T*x2*x3)*UGA(x1 + x3)**2 + epsilon*(-0.166666666666667*M*x1**3 - 0.0833333333333333*M*x1**2*x2 - 0.25*M*x1**2*x3 + 0.166666666666667*M*x1**2 + 0.0833333333333333*M*x1*x2**2 - 0.166666666666667*M*x1*x2*x3 + 0.0833333333333333*M*x1*x2 - 0.0833333333333333*M*x1*x3**2 + 0.0833333333333333*M*x1*x3 + 0.0833333333333333*M*x2**2*x3 - 0.0833333333333333*M*x2*x3**2 + 0.0833333333333333*M*x2*x3 + 0.166666666666667*P*x1**2*x2 - 0.166666666666667*P*x1*x2**2 + 0.333333333333333*P*x1*x2*x3 - 0.166666666666667*P*x1*x2 - 0.166666666666667*P*x2**2*x3 + 0.166666666666667*P*x2*x3**2 - 0.166666666666667*P*x2*x3 + 0.166666666666667*S*x1**3 + 0.25*S*x1**2*x3 - 0.166666666666667*S*x1**2 + 0.0833333333333333*S*x1*x3**2 - 0.0833333333333333*S*x1*x3 - 0.0833333333333333*T*x1**2*x2 + 0.0833333333333333*T*x1*x2**2 - 0.166666666666667*T*x1*x2*x3 + 0.0833333333333333*T*x1*x2 + 0.0833333333333333*T*x2**2*x3 - 0.0833333333333333*T*x2*x3**2 + 0.0833333333333333*T*x2*x3)*UGA(x1 + x3) + (0.333333333333333*P*x1**4 + 0.333333333333333*P*x1**3*x2 + 0.666666666666667*P*x1**3*x3 - 0.666666666666667*P*x1**3 + 0.666666666666667*P*x1**2*x2*x3 - 0.333333333333333*P*x1**2*x2 + 0.333333333333333*P*x1**2*x3**2 - 1.0*P*x1**2*x3 + 0.333333333333333*P*x1**2 + 0.333333333333333*P*x1*x2*x3**2 - 0.416666666666667*P*x1*x2*x3 - 0.333333333333333*P*x1*x3**2 + 0.333333333333333*P*x1*x3 - 0.0833333333333333*P*x2*x3**2 - 0.166666666666667*S*x1**4 - 0.166666666666667*S*x1**3*x2 - 0.333333333333333*S*x1**3*x3 + 0.375*S*x1**3 - 0.333333333333333*S*x1**2*x2*x3 + 0.208333333333333*S*x1**2*x2 - 0.166666666666667*S*x1**2*x3**2 + 0.5*S*x1**2*x3 - 0.25*S*x1**2 - 0.166666666666667*S*x1*x2*x3**2 + 0.208333333333333*S*x1*x2*x3 - 0.0416666666666667*S*x1*x2 + 0.125*S*x1*x3**2 - 0.166666666666667*S*x1*x3 + 0.0416666666666667*S*x1 - 0.166666666666667*T*x1**4 - 0.166666666666667*T*x1**3*x2 - 0.333333333333333*T*x1**3*x3 + 0.333333333333333*T*x1**3 - 0.333333333333333*T*x1**2*x2*x3 + 0.166666666666667*T*x1**2*x2 - 0.166666666666667*T*x1**2*x3**2 + 0.5*T*x1**2*x3 - 0.166666666666667*T*x1**2 - 0.166666666666667*T*x1*x2*x3**2 + 0.208333333333333*T*x1*x2*x3 + 0.166666666666667*T*x1*x3**2 - 0.166666666666667*T*x1*x3 + 0.0416666666666667*T*x2*x3**2)*UgA(x1 + x3) + (0.125*M*x1**3 + 0.125*M*x1**2*x2 + 0.166666666666667*M*x1**2*x3 - 0.125*M*x1**2 + 0.166666666666667*M*x1*x2*x3 - 0.0833333333333333*M*x1*x2 + 0.0416666666666667*M*x1*x3**2 - 0.0416666666666667*M*x1*x3 + 0.0416666666666667*M*x2*x3**2 - 0.0416666666666667*M*x2*x3 - 0.333333333333333*P*x1**4 - 0.333333333333333*P*x1**3*x2 - 0.666666666666667*P*x1**3*x3 + 0.416666666666667*P*x1**3 - 0.666666666666667*P*x1**2*x2*x3 + 0.25*P*x1**2*x2 - 0.333333333333333*P*x1**2*x3**2 + 0.5*P*x1**2*x3 - 0.0833333333333333*P*x1**2 - 0.333333333333333*P*x1*x2*x3**2 + 0.25*P*x1*x2*x3 + 0.0833333333333333*P*x1*x3**2 - 0.0833333333333333*P*x1*x3 + 0.166666666666667*S*x1**4 + 0.166666666666667*S*x1**3*x2 + 0.333333333333333*S*x1**3*x3 - 0.333333333333333*S*x1**3 + 0.333333333333333*S*x1**2*x2*x3 - 0.25*S*x1**2*x2 + 0.166666666666667*S*x1**2*x3**2 - 0.416666666666667*S*x1**2*x3 + 0.166666666666667*S*x1**2 + 0.166666666666667*S*x1*x2*x3**2 - 0.291666666666667*S*x1*x2*x3 + 0.0833333333333333*S*x1*x2 - 0.0833333333333333*S*x1*x3**2 + 0.0833333333333333*S*x1*x3 - 0.0416666666666667*S*x2*x3**2 + 0.0416666666666667*S*x2*x3 + 0.166666666666667*T*x1**4 + 0.166666666666667*T*x1**3*x2 + 0.333333333333333*T*x1**3*x3 - 0.208333333333333*T*x1**3 + 0.333333333333333*T*x1**2*x2*x3 - 0.125*T*x1**2*x2 + 0.166666666666667*T*x1**2*x3**2 - 0.25*T*x1**2*x3 + 0.0416666666666667*T*x1**2 + 0.166666666666667*T*x1*x2*x3**2 - 0.125*T*x1*x2*x3 - 0.0416666666666667*T*x1*x3**2 + 0.0416666666666667*T*x1*x3)*UGA(x1 + x3) + (-0.166666666666667*P*x1**4 - 0.166666666666667*P*x1**3*x2 - 0.333333333333333*P*x1**3*x3 + 0.333333333333333*P*x1**3 - 0.333333333333333*P*x1**2*x2*x3 + 0.166666666666667*P*x1**2*x2 - 0.166666666666667*P*x1**2*x3**2 + 0.5*P*x1**2*x3 - 0.166666666666667*P*x1**2 - 0.166666666666667*P*x1*x2*x3**2 + 0.208333333333333*P*x1*x2*x3 + 0.166666666666667*P*x1*x3**2 - 0.166666666666667*P*x1*x3 + 0.0416666666666667*P*x2*x3**2 - 0.166666666666667*R*x1**4 - 0.166666666666667*R*x1**3*x2 - 0.333333333333333*R*x1**3*x3 + 0.375*R*x1**3 - 0.333333333333333*R*x1**2*x2*x3 + 0.208333333333333*R*x1**2*x2 - 0.166666666666667*R*x1**2*x3**2 + 0.5*R*x1**2*x3 - 0.25*R*x1**2 - 0.166666666666667*R*x1*x2*x3**2 + 0.208333333333333*R*x1*x2*x3 - 0.0416666666666667*R*x1*x2 + 0.125*R*x1*x3**2 - 0.166666666666667*R*x1*x3 + 0.0416666666666667*R*x1 + 0.166666666666667*S*x1**4 + 0.166666666666667*S*x1**3*x2 + 0.333333333333333*S*x1**3*x3 - 0.375*S*x1**3 + 0.333333333333333*S*x1**2*x2*x3 - 0.208333333333333*S*x1**2*x2 + 0.166666666666667*S*x1**2*x3**2 - 0.5*S*x1**2*x3 + 0.25*S*x1**2 + 0.166666666666667*S*x1*x2*x3**2 - 0.208333333333333*S*x1*x2*x3 + 0.0416666666666667*S*x1*x2 - 0.125*S*x1*x3**2 + 0.166666666666667*S*x1*x3 - 0.0416666666666667*S*x1 + 0.166666666666667*T*x1**4 + 0.166666666666667*T*x1**3*x2 + 0.333333333333333*T*x1**3*x3 - 0.333333333333333*T*x1**3 + 0.333333333333333*T*x1**2*x2*x3 - 0.166666666666667*T*x1**2*x2 + 0.166666666666667*T*x1**2*x3**2 - 0.5*T*x1**2*x3 + 0.166666666666667*T*x1**2 + 0.166666666666667*T*x1*x2*x3**2 - 0.208333333333333*T*x1*x2*x3 - 0.166666666666667*T*x1*x3**2 + 0.166666666666667*T*x1*x3 - 0.0416666666666667*T*x2*x3**2)*UgA(x1 + x3)**2 + (0.166666666666667*P*x1**4 + 0.166666666666667*P*x1**3*x2 + 0.333333333333333*P*x1**3*x3 - 0.208333333333333*P*x1**3 + 0.333333333333333*P*x1**2*x2*x3 - 0.125*P*x1**2*x2 + 0.166666666666667*P*x1**2*x3**2 - 0.25*P*x1**2*x3 + 0.0416666666666667*P*x1**2 + 0.166666666666667*P*x1*x2*x3**2 - 0.125*P*x1*x2*x3 - 0.0416666666666667*P*x1*x3**2 + 0.0416666666666667*P*x1*x3 + 0.166666666666667*R*x1**4 + 0.166666666666667*R*x1**3*x2 + 0.333333333333333*R*x1**3*x3 - 0.333333333333333*R*x1**3 + 0.333333333333333*R*x1**2*x2*x3 - 0.25*R*x1**2*x2 + 0.166666666666667*R*x1**2*x3**2 - 0.416666666666667*R*x1**2*x3 + 0.166666666666667*R*x1**2 + 0.166666666666667*R*x1*x2*x3**2 - 0.291666666666667*R*x1*x2*x3 + 0.0833333333333333*R*x1*x2 - 0.0833333333333333*R*x1*x3**2 + 0.0833333333333333*R*x1*x3 - 0.0416666666666667*R*x2*x3**2 + 0.0416666666666667*R*x2*x3 - 0.166666666666667*S*x1**4 - 0.166666666666667*S*x1**3*x2 - 0.333333333333333*S*x1**3*x3 + 0.333333333333333*S*x1**3 - 0.333333333333333*S*x1**2*x2*x3 + 0.25*S*x1**2*x2 - 0.166666666666667*S*x1**2*x3**2 + 0.416666666666667*S*x1**2*x3 - 0.166666666666667*S*x1**2 - 0.166666666666667*S*x1*x2*x3**2 + 0.291666666666667*S*x1*x2*x3 - 0.0833333333333333*S*x1*x2 + 0.0833333333333333*S*x1*x3**2 - 0.0833333333333333*S*x1*x3 + 0.0416666666666667*S*x2*x3**2 - 0.0416666666666667*S*x2*x3 - 0.166666666666667*T*x1**4 - 0.166666666666667*T*x1**3*x2 - 0.333333333333333*T*x1**3*x3 + 0.208333333333333*T*x1**3 - 0.333333333333333*T*x1**2*x2*x3 + 0.125*T*x1**2*x2 - 0.166666666666667*T*x1**2*x3**2 + 0.25*T*x1**2*x3 - 0.0416666666666667*T*x1**2 - 0.166666666666667*T*x1*x2*x3**2 + 0.125*T*x1*x2*x3 + 0.0416666666666667*T*x1*x3**2 - 0.0416666666666667*T*x1*x3)*UGA(x1 + x3)**2)/(N*(-4.0*x1**2 - 8.0*x1*x3 + 4.0*x1 - 4.0*x3**2 + 4.0*x3))"
      ]
     },
     "execution_count": 105,
     "metadata": {},
     "output_type": "execute_result"
    }
   ],
   "source": [
    "sym.factor(f1, UGA(x1 + x3), UgA(x1 + x3), epsilon)"
   ]
  },
  {
   "cell_type": "code",
   "execution_count": 134,
   "metadata": {},
   "outputs": [
    {
     "data": {
      "text/plain": [
       "9.0*(-0.111111111111111*M*epsilon*x1**2*(-x1 + 1) + 0.111111111111111*M*epsilon*x1*(-x1 + 1)**2 + 0.111111111111111*M*epsilon*x1*(-x1 + 1) - 0.222222222222222*M*x1**3*(-x1 + 1) + 0.0555555555555556*M*x1**3 - 0.222222222222222*M*x1**2*(-x1 + 1)**2 + 0.277777777777778*M*x1**2*(-x1 + 1) - 0.0555555555555556*M*x1**2 + 0.111111111111111*M*x1*(-x1 + 1)**2 - 0.111111111111111*M*x1*(-x1 + 1) + 0.222222222222222*P*epsilon*x1**2*(-x1 + 1) - 0.222222222222222*P*epsilon*x1*(-x1 + 1) - 0.0555555555555556*P*x1**3 + 0.0555555555555556*P*x1**2*(-x1 + 1) + 0.0555555555555556*P*x1**2 + (-0.222222222222222*P*epsilon*x1**2*(-x1 + 1) - 0.222222222222222*P*epsilon*x1*(-x1 + 1)**2 + 0.222222222222222*P*epsilon*x1*(-x1 + 1) + 0.444444444444444*P*x1**3*(-x1 + 1) + 0.444444444444444*P*x1**2*(-x1 + 1)**2 - 0.666666666666667*P*x1**2*(-x1 + 1) - 0.222222222222222*P*x1*(-x1 + 1)**2 + 0.222222222222222*P*x1*(-x1 + 1) - 0.222222222222222*S*x1**3*(-x1 + 1) + 0.0555555555555556*S*x1**3 - 0.222222222222222*S*x1**2*(-x1 + 1)**2 + 0.5*S*x1**2*(-x1 + 1) - 0.111111111111111*S*x1**2 + 0.222222222222222*S*x1*(-x1 + 1)**2 - 0.277777777777778*S*x1*(-x1 + 1) + 0.0555555555555556*S*x1 + 0.111111111111111*T*epsilon*x1**2*(-x1 + 1) + 0.111111111111111*T*epsilon*x1*(-x1 + 1)**2 - 0.111111111111111*T*epsilon*x1*(-x1 + 1) - 0.222222222222222*T*x1**3*(-x1 + 1) - 0.222222222222222*T*x1**2*(-x1 + 1)**2 + 0.333333333333333*T*x1**2*(-x1 + 1) + 0.111111111111111*T*x1*(-x1 + 1)**2 - 0.111111111111111*T*x1*(-x1 + 1))*UgA(x1) + (0.111111111111111*P*epsilon*x1**2*(-x1 + 1) + 0.111111111111111*P*epsilon*x1*(-x1 + 1)**2 - 0.111111111111111*P*epsilon*x1*(-x1 + 1) - 0.222222222222222*P*x1**3*(-x1 + 1) - 0.222222222222222*P*x1**2*(-x1 + 1)**2 + 0.333333333333333*P*x1**2*(-x1 + 1) + 0.111111111111111*P*x1*(-x1 + 1)**2 - 0.111111111111111*P*x1*(-x1 + 1) - 0.222222222222222*R*x1**3*(-x1 + 1) + 0.0555555555555556*R*x1**3 - 0.222222222222222*R*x1**2*(-x1 + 1)**2 + 0.5*R*x1**2*(-x1 + 1) - 0.111111111111111*R*x1**2 + 0.222222222222222*R*x1*(-x1 + 1)**2 - 0.277777777777778*R*x1*(-x1 + 1) + 0.0555555555555556*R*x1 + 0.222222222222222*S*x1**3*(-x1 + 1) - 0.0555555555555556*S*x1**3 + 0.222222222222222*S*x1**2*(-x1 + 1)**2 - 0.5*S*x1**2*(-x1 + 1) + 0.111111111111111*S*x1**2 - 0.222222222222222*S*x1*(-x1 + 1)**2 + 0.277777777777778*S*x1*(-x1 + 1) - 0.0555555555555556*S*x1 - 0.111111111111111*T*epsilon*x1**2*(-x1 + 1) - 0.111111111111111*T*epsilon*x1*(-x1 + 1)**2 + 0.111111111111111*T*epsilon*x1*(-x1 + 1) + 0.222222222222222*T*x1**3*(-x1 + 1) + 0.222222222222222*T*x1**2*(-x1 + 1)**2 - 0.333333333333333*T*x1**2*(-x1 + 1) - 0.111111111111111*T*x1*(-x1 + 1)**2 + 0.111111111111111*T*x1*(-x1 + 1))*UgA(x1)**2 + (0.111111111111111*P*epsilon*x1**2*(-x1 + 1) - 0.111111111111111*P*epsilon*x1*(-x1 + 1)**2 - 0.111111111111111*P*epsilon*x1*(-x1 + 1) + 0.222222222222222*P*x1**3*(-x1 + 1) - 0.0555555555555556*P*x1**3 + 0.222222222222222*P*x1**2*(-x1 + 1)**2 - 0.277777777777778*P*x1**2*(-x1 + 1) + 0.0555555555555556*P*x1**2 - 0.111111111111111*P*x1*(-x1 + 1)**2 + 0.111111111111111*P*x1*(-x1 + 1) - 0.222222222222222*R*epsilon*x1**3 + 0.222222222222222*R*epsilon*x1**2 + 0.222222222222222*R*x1**3*(-x1 + 1) + 0.222222222222222*R*x1**2*(-x1 + 1)**2 - 0.333333333333333*R*x1**2*(-x1 + 1) - 0.222222222222222*R*x1*(-x1 + 1)**2 + 0.111111111111111*R*x1*(-x1 + 1) + 0.222222222222222*S*epsilon*x1**3 - 0.222222222222222*S*epsilon*x1**2 - 0.222222222222222*S*x1**3*(-x1 + 1) - 0.222222222222222*S*x1**2*(-x1 + 1)**2 + 0.333333333333333*S*x1**2*(-x1 + 1) + 0.222222222222222*S*x1*(-x1 + 1)**2 - 0.111111111111111*S*x1*(-x1 + 1) - 0.111111111111111*T*epsilon*x1**2*(-x1 + 1) + 0.111111111111111*T*epsilon*x1*(-x1 + 1)**2 + 0.111111111111111*T*epsilon*x1*(-x1 + 1) - 0.222222222222222*T*x1**3*(-x1 + 1) + 0.0555555555555556*T*x1**3 - 0.222222222222222*T*x1**2*(-x1 + 1)**2 + 0.277777777777778*T*x1**2*(-x1 + 1) - 0.0555555555555556*T*x1**2 + 0.111111111111111*T*x1*(-x1 + 1)**2 - 0.111111111111111*T*x1*(-x1 + 1))*UGA(x1)**2 + (0.222222222222222*M*epsilon*x1**3 + 0.111111111111111*M*epsilon*x1**2*(-x1 + 1) - 0.222222222222222*M*epsilon*x1**2 - 0.111111111111111*M*epsilon*x1*(-x1 + 1)**2 - 0.111111111111111*M*epsilon*x1*(-x1 + 1) - 0.0555555555555556*M*x1**3 + 0.0555555555555556*M*x1**2*(-x1 + 1) + 0.0555555555555556*M*x1**2 + 0.111111111111111*M*x1*(-x1 + 1)**2 - 0.222222222222222*P*epsilon*x1**2*(-x1 + 1) + 0.222222222222222*P*epsilon*x1*(-x1 + 1)**2 + 0.222222222222222*P*epsilon*x1*(-x1 + 1) - 0.444444444444444*P*x1**3*(-x1 + 1) + 0.111111111111111*P*x1**3 - 0.444444444444444*P*x1**2*(-x1 + 1)**2 + 0.555555555555556*P*x1**2*(-x1 + 1) - 0.111111111111111*P*x1**2 + 0.222222222222222*P*x1*(-x1 + 1)**2 - 0.222222222222222*P*x1*(-x1 + 1) - 0.222222222222222*S*epsilon*x1**3 + 0.222222222222222*S*epsilon*x1**2 + 0.222222222222222*S*x1**3*(-x1 + 1) + 0.222222222222222*S*x1**2*(-x1 + 1)**2 - 0.333333333333333*S*x1**2*(-x1 + 1) - 0.222222222222222*S*x1*(-x1 + 1)**2 + 0.111111111111111*S*x1*(-x1 + 1) + 0.111111111111111*T*epsilon*x1**2*(-x1 + 1) - 0.111111111111111*T*epsilon*x1*(-x1 + 1)**2 - 0.111111111111111*T*epsilon*x1*(-x1 + 1) + 0.222222222222222*T*x1**3*(-x1 + 1) - 0.0555555555555556*T*x1**3 + 0.222222222222222*T*x1**2*(-x1 + 1)**2 - 0.277777777777778*T*x1**2*(-x1 + 1) + 0.0555555555555556*T*x1**2 - 0.111111111111111*T*x1*(-x1 + 1)**2 + 0.111111111111111*T*x1*(-x1 + 1))*UGA(x1))/(N*(-4.0*x1**2 + 4.0*x1))"
      ]
     },
     "execution_count": 134,
     "metadata": {},
     "output_type": "execute_result"
    }
   ],
   "source": [
    "f2.subs({x2: 1 - x1, x3:0 })"
   ]
  },
  {
   "cell_type": "code",
   "execution_count": 48,
   "metadata": {},
   "outputs": [],
   "source": [
    "F = sym.Matrix([f1, f2, f3])"
   ]
  },
  {
   "cell_type": "code",
   "execution_count": 49,
   "metadata": {},
   "outputs": [],
   "source": [
    "F_jac = F.jacobian([x1, x2, x3])"
   ]
  },
  {
   "cell_type": "code",
   "execution_count": 50,
   "metadata": {},
   "outputs": [],
   "source": [
    "UGA_star, UgA_star = sym.symbols(\"UGA_star, UgA_star\", nonnegative=True, real=True)\n",
    "UGA_prime_star = sym.symbols(\"UGA_prime_star\", real=True)\n",
    "\n",
    "evaluated_F_jac = (F_jac.subs({x2: 1 - x1, x3: 0})\n",
    "                        .subs({UGA(x1): UGA_star, UgA(x1): UgA_star})\n",
    "                        .doit()\n",
    "                        .subs({sym.Derivative(UGA(x1), x1): UGA_prime_star})\n",
    "                        .subs({x1: x1_star.subs({U_star: UGA_star})}))"
   ]
  },
  {
   "cell_type": "code",
   "execution_count": 58,
   "metadata": {},
   "outputs": [],
   "source": [
    "N_G = sym.symbols(\"N_G\", nonnegative=True, real=True)"
   ]
  },
  {
   "cell_type": "code",
   "execution_count": 61,
   "metadata": {},
   "outputs": [
    {
     "data": {
      "text/plain": [
       "4.0*(-0.5*M*epsilon + 0.5*P*epsilon + UGA_star**2*(0.5*P*epsilon + 0.25*R - 0.25*S - 0.5*T*epsilon) + UGA_star*(0.5*M*epsilon - 0.25*M - 1.0*P*epsilon + 0.25*S + 0.5*T*epsilon))"
      ]
     },
     "execution_count": 61,
     "metadata": {},
     "output_type": "execute_result"
    }
   ],
   "source": [
    "sym.factor(2.0*M*UGA_star*epsilon - M*UGA_star - 2.0*M*epsilon + 2.0*P*UGA_star**2*epsilon - 4.0*P*UGA_star*epsilon + 2.0*P*epsilon + R*UGA_star**2 - S*UGA_star**2 + S*UGA_star - 2.0*T*UGA_star**2*epsilon + 2.0*T*UGA_star*epsilon, UGA_star)"
   ]
  },
  {
   "cell_type": "code",
   "execution_count": 63,
   "metadata": {},
   "outputs": [],
   "source": [
    "n, d = sym.fraction(sym.together(evaluated_F_jac[0,0].subs({(-M + P*UGA_star**2 - 2.0*P*UGA_star + P + R*UGA_star**2 - S*UGA_star**2 + S*UGA_star - T*UGA_star**2 + T*UGA_star): 0.5 * N_G})))"
   ]
  },
  {
   "cell_type": "code",
   "execution_count": 72,
   "metadata": {},
   "outputs": [
    {
     "data": {
      "text/plain": [
       "N_G*(-20736.0*epsilon - 10368.0)*(0.00617283950617284*M**4*epsilon**3 - 0.00308641975308642*M**4*epsilon**2 - 0.0185185185185185*M**3*P*epsilon**3 + 0.00925925925925926*M**3*P*epsilon**2 + 0.0185185185185185*M**2*P**2*epsilon**3 - 0.00925925925925926*M**2*P**2*epsilon**2 - 0.00617283950617284*M*P**3*epsilon**3 + 0.00308641975308642*M*P**3*epsilon**2 + N_G**2*UGA_star**4*(0.000771604938271605*P**2*epsilon**3 + 0.00154320987654321*P**2*epsilon**2 + 0.000964506172839506*P**2*epsilon + 0.000192901234567901*P**2 + 0.00231481481481481*P*R*epsilon**3 + 0.00385802469135802*P*R*epsilon**2 + 0.00212191358024691*P*R*epsilon + 0.000385802469135802*P*R - 0.00231481481481481*P*S*epsilon**3 - 0.00385802469135802*P*S*epsilon**2 - 0.00212191358024691*P*S*epsilon - 0.000385802469135802*P*S - 0.00154320987654321*P*T*epsilon**3 - 0.00308641975308642*P*T*epsilon**2 - 0.00192901234567901*P*T*epsilon - 0.000385802469135802*P*T + 0.00154320987654321*R**2*epsilon**3 + 0.00231481481481481*R**2*epsilon**2 + 0.00115740740740741*R**2*epsilon + 0.000192901234567901*R**2 - 0.00308641975308642*R*S*epsilon**3 - 0.00462962962962963*R*S*epsilon**2 - 0.00231481481481481*R*S*epsilon - 0.000385802469135802*R*S - 0.00231481481481481*R*T*epsilon**3 - 0.00385802469135802*R*T*epsilon**2 - 0.00212191358024691*R*T*epsilon - 0.000385802469135802*R*T + 0.00154320987654321*S**2*epsilon**3 + 0.00231481481481481*S**2*epsilon**2 + 0.00115740740740741*S**2*epsilon + 0.000192901234567901*S**2 + 0.00231481481481481*S*T*epsilon**3 + 0.00385802469135802*S*T*epsilon**2 + 0.00212191358024691*S*T*epsilon + 0.000385802469135802*S*T + 0.000771604938271605*T**2*epsilon**3 + 0.00154320987654321*T**2*epsilon**2 + 0.000964506172839506*T**2*epsilon + 0.000192901234567901*T**2) + N_G**2*UGA_star**3*(-0.000771604938271605*M*P*epsilon**3 - 0.000771604938271605*M*P*epsilon**2 - 0.000192901234567901*M*P*epsilon - 0.000771604938271605*M*R*epsilon**3 - 0.000771604938271605*M*R*epsilon**2 - 0.000192901234567901*M*R*epsilon + 0.000771604938271605*M*S*epsilon**3 + 0.000771604938271605*M*S*epsilon**2 + 0.000192901234567901*M*S*epsilon + 0.000771604938271605*M*T*epsilon**3 + 0.000771604938271605*M*T*epsilon**2 + 0.000192901234567901*M*T*epsilon - 0.00308641975308642*P**2*epsilon**3 - 0.00617283950617284*P**2*epsilon**2 - 0.00385802469135802*P**2*epsilon - 0.000771604938271605*P**2 - 0.00462962962962963*P*R*epsilon**3 - 0.00771604938271605*P*R*epsilon**2 - 0.00424382716049383*P*R*epsilon - 0.000771604938271605*P*R + 0.00694444444444444*P*S*epsilon**3 + 0.0115740740740741*P*S*epsilon**2 + 0.00636574074074074*P*S*epsilon + 0.00115740740740741*P*S + 0.00462962962962963*P*T*epsilon**3 + 0.00925925925925926*P*T*epsilon**2 + 0.00578703703703704*P*T*epsilon + 0.00115740740740741*P*T + 0.00308641975308642*R*S*epsilon**3 + 0.00462962962962963*R*S*epsilon**2 + 0.00231481481481481*R*S*epsilon + 0.000385802469135802*R*S + 0.00231481481481481*R*T*epsilon**3 + 0.00385802469135802*R*T*epsilon**2 + 0.00212191358024691*R*T*epsilon + 0.000385802469135802*R*T - 0.00308641975308642*S**2*epsilon**3 - 0.00462962962962963*S**2*epsilon**2 - 0.00231481481481481*S**2*epsilon - 0.000385802469135802*S**2 - 0.00462962962962963*S*T*epsilon**3 - 0.00771604938271605*S*T*epsilon**2 - 0.00424382716049383*S*T*epsilon - 0.000771604938271605*S*T - 0.00154320987654321*T**2*epsilon**3 - 0.00308641975308642*T**2*epsilon**2 - 0.00192901234567901*T**2*epsilon - 0.000385802469135802*T**2) + N_G**2*UGA_star**2*UgA_star**2*(-0.000771604938271605*P**2*epsilon**3 - 0.000771604938271605*P**2*epsilon**2 - 0.000192901234567901*P**2*epsilon - 0.000771604938271605*P*R*epsilon**3 - 0.00115740740740741*P*R*epsilon**2 - 0.000578703703703704*P*R*epsilon - 9.64506172839506e-5*P*R + 0.000771604938271605*P*S*epsilon**3 + 0.00115740740740741*P*S*epsilon**2 + 0.000578703703703704*P*S*epsilon + 9.64506172839506e-5*P*S + 0.00154320987654321*P*T*epsilon**3 + 0.00154320987654321*P*T*epsilon**2 + 0.000385802469135802*P*T*epsilon - 0.000385802469135802*R**2*epsilon**2 - 0.000385802469135802*R**2*epsilon - 9.64506172839506e-5*R**2 + 0.000771604938271605*R*S*epsilon**2 + 0.000771604938271605*R*S*epsilon + 0.000192901234567901*R*S + 0.000771604938271605*R*T*epsilon**3 + 0.00115740740740741*R*T*epsilon**2 + 0.000578703703703704*R*T*epsilon + 9.64506172839506e-5*R*T - 0.000385802469135802*S**2*epsilon**2 - 0.000385802469135802*S**2*epsilon - 9.64506172839506e-5*S**2 - 0.000771604938271605*S*T*epsilon**3 - 0.00115740740740741*S*T*epsilon**2 - 0.000578703703703704*S*T*epsilon - 9.64506172839506e-5*S*T - 0.000771604938271605*T**2*epsilon**3 - 0.000771604938271605*T**2*epsilon**2 - 0.000192901234567901*T**2*epsilon) + N_G**2*UGA_star**2*UgA_star*(0.00154320987654321*P**2*epsilon**3 + 0.00154320987654321*P**2*epsilon**2 + 0.000385802469135802*P**2*epsilon - 0.00154320987654321*P*R*epsilon**3 + 0.00115740740740741*P*R*epsilon + 0.000385802469135802*P*R - 0.00115740740740741*P*S*epsilon**2 - 0.00115740740740741*P*S*epsilon - 0.000289351851851852*P*S - 0.00231481481481481*P*T*epsilon**3 - 0.00231481481481481*P*T*epsilon**2 - 0.000578703703703704*P*T*epsilon - 0.000385802469135802*R*S*epsilon**2 - 0.000385802469135802*R*S*epsilon - 9.64506172839506e-5*R*S + 0.000771604938271605*R*T*epsilon**3 - 0.000578703703703704*R*T*epsilon - 0.000192901234567901*R*T + 0.000385802469135802*S**2*epsilon**2 + 0.000385802469135802*S**2*epsilon + 9.64506172839506e-5*S**2 + 0.000771604938271605*S*T*epsilon**3 + 0.00115740740740741*S*T*epsilon**2 + 0.000578703703703704*S*T*epsilon + 9.64506172839506e-5*S*T + 0.000771604938271605*T**2*epsilon**3 + 0.000771604938271605*T**2*epsilon**2 + 0.000192901234567901*T**2*epsilon) + N_G**2*UGA_star**2*(0.00154320987654321*M*P*UGA_prime_star*epsilon**3 + 0.000771604938271605*M*P*UGA_prime_star*epsilon**2 - 0.000385802469135802*M*P*UGA_prime_star*epsilon - 0.000192901234567901*M*P*UGA_prime_star - 0.00154320987654321*M*P*epsilon**2 - 0.00154320987654321*M*P*epsilon - 0.000385802469135802*M*P + 0.00154320987654321*M*R*UGA_prime_star*epsilon**3 + 0.000771604938271605*M*R*UGA_prime_star*epsilon**2 - 0.000385802469135802*M*R*UGA_prime_star*epsilon - 0.000192901234567901*M*R*UGA_prime_star - 0.00231481481481481*M*R*epsilon**3 - 0.00385802469135802*M*R*epsilon**2 - 0.00212191358024691*M*R*epsilon - 0.000385802469135802*M*R - 0.00154320987654321*M*S*UGA_prime_star*epsilon**3 - 0.000771604938271605*M*S*UGA_prime_star*epsilon**2 + 0.000385802469135802*M*S*UGA_prime_star*epsilon + 0.000192901234567901*M*S*UGA_prime_star + 0.00154320987654321*M*S*epsilon**3 + 0.00308641975308642*M*S*epsilon**2 + 0.00192901234567901*M*S*epsilon + 0.000385802469135802*M*S - 0.00154320987654321*M*T*UGA_prime_star*epsilon**3 - 0.000771604938271605*M*T*UGA_prime_star*epsilon**2 + 0.000385802469135802*M*T*UGA_prime_star*epsilon + 0.000192901234567901*M*T*UGA_prime_star + 0.000771604938271605*M*T*epsilon**3 + 0.00231481481481481*M*T*epsilon**2 + 0.00173611111111111*M*T*epsilon + 0.000385802469135802*M*T + 0.00385802469135802*P**2*epsilon**3 + 0.00848765432098765*P**2*epsilon**2 + 0.00559413580246914*P**2*epsilon + 0.00115740740740741*P**2 - 0.00308641975308642*P*R*UGA_prime_star*epsilon**3 - 0.00154320987654321*P*R*UGA_prime_star*epsilon**2 + 0.000771604938271605*P*R*UGA_prime_star*epsilon + 0.000385802469135802*P*R*UGA_prime_star + 0.00308641975308642*P*R*epsilon**3 + 0.00385802469135802*P*R*epsilon**2 + 0.00154320987654321*P*R*epsilon + 0.000192901234567901*P*R + 0.00154320987654321*P*S*UGA_prime_star*epsilon**3 + 0.000771604938271605*P*S*UGA_prime_star*epsilon**2 - 0.000385802469135802*P*S*UGA_prime_star*epsilon - 0.000192901234567901*P*S*UGA_prime_star - 0.00771604938271605*P*S*epsilon**3 - 0.0115740740740741*P*S*epsilon**2 - 0.00578703703703704*P*S*epsilon - 0.000964506172839506*P*S - 0.00385802469135802*P*T*epsilon**3 - 0.00848765432098765*P*T*epsilon**2 - 0.00559413580246914*P*T*epsilon - 0.00115740740740741*P*T + 0.00154320987654321*R*T*UGA_prime_star*epsilon**3 + 0.000771604938271605*R*T*UGA_prime_star*epsilon**2 - 0.000385802469135802*R*T*UGA_prime_star*epsilon - 0.000192901234567901*R*T*UGA_prime_star + 0.00154320987654321*S**2*epsilon**3 + 0.00231481481481481*S**2*epsilon**2 + 0.00115740740740741*S**2*epsilon + 0.000192901234567901*S**2 + 0.00231481481481481*S*T*epsilon**3 + 0.00385802469135802*S*T*epsilon**2 + 0.00212191358024691*S*T*epsilon + 0.000385802469135802*S*T + 0.000771604938271605*T**2*epsilon**3 + 0.00154320987654321*T**2*epsilon**2 + 0.000964506172839506*T**2*epsilon + 0.000192901234567901*T**2) + N_G**2*UGA_star*UgA_star**2*(-0.00154320987654321*M*P*epsilon**3 - 0.000771604938271605*M*P*epsilon**2 + 0.000385802469135802*M*P*epsilon + 0.000192901234567901*M*P - 0.00154320987654321*M*R*epsilon**3 - 0.000771604938271605*M*R*epsilon**2 + 0.000385802469135802*M*R*epsilon + 0.000192901234567901*M*R + 0.00154320987654321*M*S*epsilon**3 + 0.000771604938271605*M*S*epsilon**2 - 0.000385802469135802*M*S*epsilon - 0.000192901234567901*M*S + 0.00154320987654321*M*T*epsilon**3 + 0.000771604938271605*M*T*epsilon**2 - 0.000385802469135802*M*T*epsilon - 0.000192901234567901*M*T + 0.00154320987654321*P**2*epsilon**3 + 0.00154320987654321*P**2*epsilon**2 + 0.000385802469135802*P**2*epsilon + 0.00308641975308642*P*R*epsilon**3 + 0.00231481481481481*P*R*epsilon**2 - 0.000192901234567901*P*R - 0.00231481481481481*P*S*epsilon**3 - 0.00231481481481481*P*S*epsilon**2 - 0.000578703703703704*P*S*epsilon - 0.00231481481481481*P*T*epsilon**3 - 0.00231481481481481*P*T*epsilon**2 - 0.000578703703703704*P*T*epsilon - 0.000385802469135802*R*S*epsilon**2 - 0.000385802469135802*R*S*epsilon - 9.64506172839506e-5*R*S - 0.00154320987654321*R*T*epsilon**3 - 0.00115740740740741*R*T*epsilon**2 + 9.64506172839506e-5*R*T + 0.000385802469135802*S**2*epsilon**2 + 0.000385802469135802*S**2*epsilon + 9.64506172839506e-5*S**2 + 0.000771604938271605*S*T*epsilon**3 + 0.00115740740740741*S*T*epsilon**2 + 0.000578703703703704*S*T*epsilon + 9.64506172839506e-5*S*T + 0.000771604938271605*T**2*epsilon**3 + 0.000771604938271605*T**2*epsilon**2 + 0.000192901234567901*T**2*epsilon) + N_G**2*UGA_star*UgA_star*(0.00308641975308642*M*P*epsilon**3 + 0.00154320987654321*M*P*epsilon**2 - 0.000771604938271605*M*P*epsilon - 0.000385802469135802*M*P - 0.00154320987654321*M*S*epsilon**3 - 0.000771604938271605*M*S*epsilon**2 + 0.000385802469135802*M*S*epsilon + 0.000192901234567901*M*S - 0.00154320987654321*M*T*epsilon**3 - 0.000771604938271605*M*T*epsilon**2 + 0.000385802469135802*M*T*epsilon + 0.000192901234567901*M*T - 0.00308641975308642*P**2*epsilon**3 - 0.00308641975308642*P**2*epsilon**2 - 0.000771604938271605*P**2*epsilon + 0.00154320987654321*P*S*epsilon**3 + 0.00231481481481481*P*S*epsilon**2 + 0.00115740740740741*P*S*epsilon + 0.000192901234567901*P*S + 0.00308641975308642*P*T*epsilon**3 + 0.00308641975308642*P*T*epsilon**2 + 0.000771604938271605*P*T*epsilon - 0.000385802469135802*S**2*epsilon**2 - 0.000385802469135802*S**2*epsilon - 9.64506172839506e-5*S**2 - 0.000771604938271605*S*T*epsilon**3 - 0.00115740740740741*S*T*epsilon**2 - 0.000578703703703704*S*T*epsilon - 9.64506172839506e-5*S*T - 0.000771604938271605*T**2*epsilon**3 - 0.000771604938271605*T**2*epsilon**2 - 0.000192901234567901*T**2*epsilon) + N_G**2*UGA_star*(0.000771604938271605*M**2*epsilon**3 + 0.000771604938271605*M**2*epsilon**2 + 0.000192901234567901*M**2*epsilon + 0.000771604938271605*M*P*epsilon**3 + 0.00462962962962963*M*P*epsilon**2 + 0.00405092592592593*M*P*epsilon + 0.000964506172839506*M*P - 0.00308641975308642*M*R*UGA_prime_star*epsilon**3 - 0.00154320987654321*M*R*UGA_prime_star*epsilon**2 + 0.000771604938271605*M*R*UGA_prime_star*epsilon + 0.000385802469135802*M*R*UGA_prime_star + 0.00308641975308642*M*S*UGA_prime_star*epsilon**3 + 0.00154320987654321*M*S*UGA_prime_star*epsilon**2 - 0.000771604938271605*M*S*UGA_prime_star*epsilon - 0.000385802469135802*M*S*UGA_prime_star - 0.00231481481481481*M*S*epsilon**3 - 0.00385802469135802*M*S*epsilon**2 - 0.00212191358024691*M*S*epsilon - 0.000385802469135802*M*S - 0.00154320987654321*M*T*epsilon**3 - 0.00308641975308642*M*T*epsilon**2 - 0.00192901234567901*M*T*epsilon - 0.000385802469135802*M*T - 0.00154320987654321*P**2*epsilon**3 - 0.00462962962962963*P**2*epsilon**2 - 0.00347222222222222*P**2*epsilon - 0.000771604938271605*P**2 + 0.00308641975308642*P*R*UGA_prime_star*epsilon**3 + 0.00154320987654321*P*R*UGA_prime_star*epsilon**2 - 0.000771604938271605*P*R*UGA_prime_star*epsilon - 0.000385802469135802*P*R*UGA_prime_star - 0.00308641975308642*P*S*UGA_prime_star*epsilon**3 - 0.00154320987654321*P*S*UGA_prime_star*epsilon**2 + 0.000771604938271605*P*S*UGA_prime_star*epsilon + 0.000385802469135802*P*S*UGA_prime_star + 0.00308641975308642*P*S*epsilon**3 + 0.00385802469135802*P*S*epsilon**2 + 0.00154320987654321*P*S*epsilon + 0.000192901234567901*P*S + 0.000771604938271605*P*T*epsilon**3 + 0.00231481481481481*P*T*epsilon**2 + 0.00173611111111111*P*T*epsilon + 0.000385802469135802*P*T) + N_G**2*UgA_star**2*(0.000771604938271605*M*P*epsilon**3 + 0.000771604938271605*M*P*epsilon**2 + 0.000192901234567901*M*P*epsilon + 0.00154320987654321*M*R*epsilon**3 + 0.00115740740740741*M*R*epsilon**2 - 9.64506172839506e-5*M*R - 0.00154320987654321*M*S*epsilon**3 - 0.00115740740740741*M*S*epsilon**2 + 9.64506172839506e-5*M*S - 0.000771604938271605*M*T*epsilon**3 - 0.000771604938271605*M*T*epsilon**2 - 0.000192901234567901*M*T*epsilon - 0.000771604938271605*P**2*epsilon**3 - 0.000771604938271605*P**2*epsilon**2 - 0.000192901234567901*P**2*epsilon - 0.00154320987654321*P*R*epsilon**3 - 0.00115740740740741*P*R*epsilon**2 + 9.64506172839506e-5*P*R + 0.00154320987654321*P*S*epsilon**3 + 0.00115740740740741*P*S*epsilon**2 - 9.64506172839506e-5*P*S + 0.000771604938271605*P*T*epsilon**3 + 0.000771604938271605*P*T*epsilon**2 + 0.000192901234567901*P*T*epsilon) + N_G**2*UgA_star*(-0.00154320987654321*M*P*epsilon**3 - 0.00154320987654321*M*P*epsilon**2 - 0.000385802469135802*M*P*epsilon + 0.00154320987654321*M*S*epsilon**3 + 0.00115740740740741*M*S*epsilon**2 - 9.64506172839506e-5*M*S + 0.000771604938271605*M*T*epsilon**3 + 0.000771604938271605*M*T*epsilon**2 + 0.000192901234567901*M*T*epsilon + 0.00154320987654321*P**2*epsilon**3 + 0.00154320987654321*P**2*epsilon**2 + 0.000385802469135802*P**2*epsilon - 0.00154320987654321*P*S*epsilon**3 - 0.00115740740740741*P*S*epsilon**2 + 9.64506172839506e-5*P*S - 0.000771604938271605*P*T*epsilon**3 - 0.000771604938271605*P*T*epsilon**2 - 0.000192901234567901*P*T*epsilon) + N_G**2*(0.00154320987654321*M**2*UGA_prime_star*epsilon**3 + 0.000771604938271605*M**2*UGA_prime_star*epsilon**2 - 0.000385802469135802*M**2*UGA_prime_star*epsilon - 0.000192901234567901*M**2*UGA_prime_star + 0.000771604938271605*M**2*epsilon**3 + 0.00154320987654321*M**2*epsilon**2 + 0.000964506172839506*M**2*epsilon + 0.000192901234567901*M**2 - 0.00154320987654321*M*P*UGA_prime_star*epsilon**3 - 0.000771604938271605*M*P*UGA_prime_star*epsilon**2 + 0.000385802469135802*M*P*UGA_prime_star*epsilon + 0.000192901234567901*M*P*UGA_prime_star - 0.000771604938271605*M*P*epsilon**3 - 0.00231481481481481*M*P*epsilon**2 - 0.00173611111111111*M*P*epsilon - 0.000385802469135802*M*P - 0.00154320987654321*M*S*UGA_prime_star*epsilon**3 - 0.000771604938271605*M*S*UGA_prime_star*epsilon**2 + 0.000385802469135802*M*S*UGA_prime_star*epsilon + 0.000192901234567901*M*S*UGA_prime_star + 0.000771604938271605*P**2*epsilon**2 + 0.000771604938271605*P**2*epsilon + 0.000192901234567901*P**2 + 0.00154320987654321*P*S*UGA_prime_star*epsilon**3 + 0.000771604938271605*P*S*UGA_prime_star*epsilon**2 - 0.000385802469135802*P*S*UGA_prime_star*epsilon - 0.000192901234567901*P*S*UGA_prime_star) + N_G*UGA_star**6*(-0.00462962962962963*P**3*epsilon**3 - 0.00308641975308642*P**3*epsilon**2 - 0.000385802469135802*P**3*epsilon - 0.0108024691358025*P**2*R*epsilon**3 - 0.00848765432098765*P**2*R*epsilon**2 - 0.00192901234567901*P**2*R*epsilon - 0.000192901234567901*P**2*R + 0.0108024691358025*P**2*S*epsilon**3 + 0.00848765432098765*P**2*S*epsilon**2 + 0.00192901234567901*P**2*S*epsilon + 0.000192901234567901*P**2*S + 0.0138888888888889*P**2*T*epsilon**3 + 0.00925925925925926*P**2*T*epsilon**2 + 0.00115740740740741*P**2*T*epsilon - 0.00617283950617284*P*R**2*epsilon**3 - 0.00848765432098765*P*R**2*epsilon**2 - 0.00308641975308642*P*R**2*epsilon - 0.000192901234567901*P*R**2 + 0.0123456790123457*P*R*S*epsilon**3 + 0.0169753086419753*P*R*S*epsilon**2 + 0.00617283950617284*P*R*S*epsilon + 0.000385802469135802*P*R*S + 0.0216049382716049*P*R*T*epsilon**3 + 0.0169753086419753*P*R*T*epsilon**2 + 0.00385802469135802*P*R*T*epsilon + 0.000385802469135802*P*R*T - 0.00617283950617284*P*S**2*epsilon**3 - 0.00848765432098765*P*S**2*epsilon**2 - 0.00308641975308642*P*S**2*epsilon - 0.000192901234567901*P*S**2 - 0.0216049382716049*P*S*T*epsilon**3 - 0.0169753086419753*P*S*T*epsilon**2 - 0.00385802469135802*P*S*T*epsilon - 0.000385802469135802*P*S*T - 0.0138888888888889*P*T**2*epsilon**3 - 0.00925925925925926*P*T**2*epsilon**2 - 0.00115740740740741*P*T**2*epsilon - 0.00308641975308642*R**3*epsilon**2 - 0.00154320987654321*R**3*epsilon + 0.00925925925925926*R**2*S*epsilon**2 + 0.00462962962962963*R**2*S*epsilon + 0.00617283950617284*R**2*T*epsilon**3 + 0.00848765432098765*R**2*T*epsilon**2 + 0.00308641975308642*R**2*T*epsilon + 0.000192901234567901*R**2*T - 0.00925925925925926*R*S**2*epsilon**2 - 0.00462962962962963*R*S**2*epsilon - 0.0123456790123457*R*S*T*epsilon**3 - 0.0169753086419753*R*S*T*epsilon**2 - 0.00617283950617284*R*S*T*epsilon - 0.000385802469135802*R*S*T - 0.0108024691358025*R*T**2*epsilon**3 - 0.00848765432098765*R*T**2*epsilon**2 - 0.00192901234567901*R*T**2*epsilon - 0.000192901234567901*R*T**2 + 0.00308641975308642*S**3*epsilon**2 + 0.00154320987654321*S**3*epsilon + 0.00617283950617284*S**2*T*epsilon**3 + 0.00848765432098765*S**2*T*epsilon**2 + 0.00308641975308642*S**2*T*epsilon + 0.000192901234567901*S**2*T + 0.0108024691358025*S*T**2*epsilon**3 + 0.00848765432098765*S*T**2*epsilon**2 + 0.00192901234567901*S*T**2*epsilon + 0.000192901234567901*S*T**2 + 0.00462962962962963*T**3*epsilon**3 + 0.00308641975308642*T**3*epsilon**2 + 0.000385802469135802*T**3*epsilon) + N_G*UGA_star**5*(-0.00308641975308642*M*P**2*epsilon**3 - 0.000771604938271605*M*P**2*epsilon**2 + 0.000771604938271605*M*P**2*epsilon + 0.000192901234567901*M*P**2 - 0.00925925925925926*M*P*R*epsilon**3 + 0.00231481481481481*M*P*R*epsilon + 0.00925925925925926*M*P*S*epsilon**3 - 0.00231481481481481*M*P*S*epsilon + 0.00617283950617284*M*P*T*epsilon**3 + 0.00154320987654321*M*P*T*epsilon**2 - 0.00154320987654321*M*P*T*epsilon - 0.000385802469135802*M*P*T - 0.00617283950617284*M*R**2*epsilon**3 + 0.000771604938271605*M*R**2*epsilon**2 + 0.00154320987654321*M*R**2*epsilon - 0.000192901234567901*M*R**2 + 0.0123456790123457*M*R*S*epsilon**3 - 0.00154320987654321*M*R*S*epsilon**2 - 0.00308641975308642*M*R*S*epsilon + 0.000385802469135802*M*R*S + 0.00925925925925926*M*R*T*epsilon**3 - 0.00231481481481481*M*R*T*epsilon - 0.00617283950617284*M*S**2*epsilon**3 + 0.000771604938271605*M*S**2*epsilon**2 + 0.00154320987654321*M*S**2*epsilon - 0.000192901234567901*M*S**2 - 0.00925925925925926*M*S*T*epsilon**3 + 0.00231481481481481*M*S*T*epsilon - 0.00308641975308642*M*T**2*epsilon**3 - 0.000771604938271605*M*T**2*epsilon**2 + 0.000771604938271605*M*T**2*epsilon + 0.000192901234567901*M*T**2 + 0.0277777777777778*P**3*epsilon**3 + 0.0185185185185185*P**3*epsilon**2 + 0.00231481481481481*P**3*epsilon + 0.0432098765432099*P**2*R*epsilon**3 + 0.0339506172839506*P**2*R*epsilon**2 + 0.00771604938271605*P**2*R*epsilon + 0.000771604938271605*P**2*R - 0.0540123456790123*P**2*S*epsilon**3 - 0.0424382716049383*P**2*S*epsilon**2 - 0.00964506172839506*P**2*S*epsilon - 0.000964506172839506*P**2*S - 0.0694444444444444*P**2*T*epsilon**3 - 0.0462962962962963*P**2*T*epsilon**2 - 0.00578703703703704*P**2*T*epsilon + 0.0123456790123457*P*R**2*epsilon**3 + 0.0169753086419753*P*R**2*epsilon**2 + 0.00617283950617284*P*R**2*epsilon + 0.000385802469135802*P*R**2 - 0.037037037037037*P*R*S*epsilon**3 - 0.0509259259259259*P*R*S*epsilon**2 - 0.0185185185185185*P*R*S*epsilon - 0.00115740740740741*P*R*S - 0.0648148148148148*P*R*T*epsilon**3 - 0.0509259259259259*P*R*T*epsilon**2 - 0.0115740740740741*P*R*T*epsilon - 0.00115740740740741*P*R*T + 0.0246913580246914*P*S**2*epsilon**3 + 0.0339506172839506*P*S**2*epsilon**2 + 0.0123456790123457*P*S**2*epsilon + 0.000771604938271605*P*S**2 + 0.0864197530864197*P*S*T*epsilon**3 + 0.0679012345679012*P*S*T*epsilon**2 + 0.0154320987654321*P*S*T*epsilon + 0.00154320987654321*P*S*T + 0.0555555555555556*P*T**2*epsilon**3 + 0.037037037037037*P*T**2*epsilon**2 + 0.00462962962962963*P*T**2*epsilon - 0.00925925925925926*R**2*S*epsilon**2 - 0.00462962962962963*R**2*S*epsilon - 0.00617283950617284*R**2*T*epsilon**3 - 0.00848765432098765*R**2*T*epsilon**2 - 0.00308641975308642*R**2*T*epsilon - 0.000192901234567901*R**2*T + 0.0185185185185185*R*S**2*epsilon**2 + 0.00925925925925926*R*S**2*epsilon + 0.0246913580246914*R*S*T*epsilon**3 + 0.0339506172839506*R*S*T*epsilon**2 + 0.0123456790123457*R*S*T*epsilon + 0.000771604938271605*R*S*T + 0.0216049382716049*R*T**2*epsilon**3 + 0.0169753086419753*R*T**2*epsilon**2 + 0.00385802469135802*R*T**2*epsilon + 0.000385802469135802*R*T**2 - 0.00925925925925926*S**3*epsilon**2 - 0.00462962962962963*S**3*epsilon - 0.0185185185185185*S**2*T*epsilon**3 - 0.025462962962963*S**2*T*epsilon**2 - 0.00925925925925926*S**2*T*epsilon - 0.000578703703703704*S**2*T - 0.0324074074074074*S*T**2*epsilon**3 - 0.025462962962963*S*T**2*epsilon**2 - 0.00578703703703704*S*T**2*epsilon - 0.000578703703703704*S*T**2 - 0.0138888888888889*T**3*epsilon**3 - 0.00925925925925926*T**3*epsilon**2 - 0.00115740740740741*T**3*epsilon) + N_G*UGA_star**4*UgA_star**2*(0.00462962962962963*P**3*epsilon**3 + 0.000771604938271605*P**3*epsilon**2 - 0.000771604938271605*P**3*epsilon + 0.00771604938271605*P**2*R*epsilon**3 + 0.00385802469135802*P**2*R*epsilon**2 - 0.000771604938271605*P**2*R*epsilon - 0.000385802469135802*P**2*R - 0.00771604938271605*P**2*S*epsilon**3 - 0.00385802469135802*P**2*S*epsilon**2 + 0.000771604938271605*P**2*S*epsilon + 0.000385802469135802*P**2*S - 0.0138888888888889*P**2*T*epsilon**3 - 0.00231481481481481*P**2*T*epsilon**2 + 0.00231481481481481*P**2*T*epsilon + 0.00308641975308642*P*R**2*epsilon**3 + 0.00462962962962963*P*R**2*epsilon**2 + 0.000385802469135802*P*R**2*epsilon - 0.000578703703703704*P*R**2 - 0.00617283950617284*P*R*S*epsilon**3 - 0.00925925925925926*P*R*S*epsilon**2 - 0.000771604938271605*P*R*S*epsilon + 0.00115740740740741*P*R*S - 0.0154320987654321*P*R*T*epsilon**3 - 0.00771604938271605*P*R*T*epsilon**2 + 0.00154320987654321*P*R*T*epsilon + 0.000771604938271605*P*R*T + 0.00308641975308642*P*S**2*epsilon**3 + 0.00462962962962963*P*S**2*epsilon**2 + 0.000385802469135802*P*S**2*epsilon - 0.000578703703703704*P*S**2 + 0.0154320987654321*P*S*T*epsilon**3 + 0.00771604938271605*P*S*T*epsilon**2 - 0.00154320987654321*P*S*T*epsilon - 0.000771604938271605*P*S*T + 0.0138888888888889*P*T**2*epsilon**3 + 0.00231481481481481*P*T**2*epsilon**2 - 0.00231481481481481*P*T**2*epsilon + 0.00154320987654321*R**3*epsilon**2 + 0.000385802469135802*R**3*epsilon - 0.000192901234567901*R**3 - 0.00462962962962963*R**2*S*epsilon**2 - 0.00115740740740741*R**2*S*epsilon + 0.000578703703703704*R**2*S - 0.00308641975308642*R**2*T*epsilon**3 - 0.00462962962962963*R**2*T*epsilon**2 - 0.000385802469135802*R**2*T*epsilon + 0.000578703703703704*R**2*T + 0.00462962962962963*R*S**2*epsilon**2 + 0.00115740740740741*R*S**2*epsilon - 0.000578703703703704*R*S**2 + 0.00617283950617284*R*S*T*epsilon**3 + 0.00925925925925926*R*S*T*epsilon**2 + 0.000771604938271605*R*S*T*epsilon - 0.00115740740740741*R*S*T + 0.00771604938271605*R*T**2*epsilon**3 + 0.00385802469135802*R*T**2*epsilon**2 - 0.000771604938271605*R*T**2*epsilon - 0.000385802469135802*R*T**2 - 0.00154320987654321*S**3*epsilon**2 - 0.000385802469135802*S**3*epsilon + 0.000192901234567901*S**3 - 0.00308641975308642*S**2*T*epsilon**3 - 0.00462962962962963*S**2*T*epsilon**2 - 0.000385802469135802*S**2*T*epsilon + 0.000578703703703704*S**2*T - 0.00771604938271605*S*T**2*epsilon**3 - 0.00385802469135802*S*T**2*epsilon**2 + 0.000771604938271605*S*T**2*epsilon + 0.000385802469135802*S*T**2 - 0.00462962962962963*T**3*epsilon**3 - 0.000771604938271605*T**3*epsilon**2 + 0.000771604938271605*T**3*epsilon) + N_G*UGA_star**4*UgA_star*(-0.00925925925925926*P**3*epsilon**3 - 0.00154320987654321*P**3*epsilon**2 + 0.00154320987654321*P**3*epsilon - 0.00308641975308642*P**2*R*epsilon**3 - 0.00617283950617284*P**2*R*epsilon**2 - 0.000771604938271605*P**2*R*epsilon + 0.000771604938271605*P**2*R + 0.00925925925925926*P**2*S*epsilon**3 + 0.00694444444444444*P**2*S*epsilon**2 - 0.000385802469135802*P**2*S*epsilon - 0.000771604938271605*P**2*S + 0.0231481481481481*P**2*T*epsilon**3 + 0.00385802469135802*P**2*T*epsilon**2 - 0.00385802469135802*P**2*T*epsilon - 0.00154320987654321*P*R**2*epsilon**2 - 0.000771604938271605*P*R**2*epsilon + 0.00308641975308642*P*R*S*epsilon**3 + 0.00694444444444444*P*R*S*epsilon**2 + 0.00154320987654321*P*R*S*epsilon - 0.000578703703703704*P*R*S + 0.00462962962962963*P*R*T*epsilon**3 + 0.00925925925925926*P*R*T*epsilon**2 + 0.00115740740740741*P*R*T*epsilon - 0.00115740740740741*P*R*T - 0.00308641975308642*P*S**2*epsilon**3 - 0.00540123456790123*P*S**2*epsilon**2 - 0.000771604938271605*P*S**2*epsilon + 0.000578703703703704*P*S**2 - 0.0169753086419753*P*S*T*epsilon**3 - 0.0108024691358025*P*S*T*epsilon**2 + 0.00115740740740741*P*S*T*epsilon + 0.00115740740740741*P*S*T - 0.0185185185185185*P*T**2*epsilon**3 - 0.00308641975308642*P*T**2*epsilon**2 + 0.00308641975308642*P*T**2*epsilon + 0.00154320987654321*R**2*S*epsilon**2 + 0.000385802469135802*R**2*S*epsilon - 0.000192901234567901*R**2*S + 0.000771604938271605*R**2*T*epsilon**2 + 0.000385802469135802*R**2*T*epsilon - 0.00308641975308642*R*S**2*epsilon**2 - 0.000771604938271605*R*S**2*epsilon + 0.000385802469135802*R*S**2 - 0.00308641975308642*R*S*T*epsilon**3 - 0.00540123456790123*R*S*T*epsilon**2 - 0.000771604938271605*R*S*T*epsilon + 0.000578703703703704*R*S*T - 0.00154320987654321*R*T**2*epsilon**3 - 0.00308641975308642*R*T**2*epsilon**2 - 0.000385802469135802*R*T**2*epsilon + 0.000385802469135802*R*T**2 + 0.00154320987654321*S**3*epsilon**2 + 0.000385802469135802*S**3*epsilon - 0.000192901234567901*S**3 + 0.00308641975308642*S**2*T*epsilon**3 + 0.00462962962962963*S**2*T*epsilon**2 + 0.000385802469135802*S**2*T*epsilon - 0.000578703703703704*S**2*T + 0.00771604938271605*S*T**2*epsilon**3 + 0.00385802469135802*S*T**2*epsilon**2 - 0.000771604938271605*S*T**2*epsilon - 0.000385802469135802*S*T**2 + 0.00462962962962963*T**3*epsilon**3 + 0.000771604938271605*T**3*epsilon**2 - 0.000771604938271605*T**3*epsilon) + N_G*UGA_star**4*(0.00154320987654321*M**2*P*epsilon**3 - 0.000771604938271605*M**2*P*epsilon**2 - 0.000385802469135802*M**2*P*epsilon + 0.000192901234567901*M**2*P + 0.00154320987654321*M**2*R*epsilon**3 - 0.000771604938271605*M**2*R*epsilon**2 - 0.000385802469135802*M**2*R*epsilon + 0.000192901234567901*M**2*R - 0.00154320987654321*M**2*S*epsilon**3 + 0.000771604938271605*M**2*S*epsilon**2 + 0.000385802469135802*M**2*S*epsilon - 0.000192901234567901*M**2*S - 0.00154320987654321*M**2*T*epsilon**3 + 0.000771604938271605*M**2*T*epsilon**2 + 0.000385802469135802*M**2*T*epsilon - 0.000192901234567901*M**2*T - 0.00308641975308642*M*P**2*UGA_prime_star*epsilon**3 + 0.000771604938271605*M*P**2*UGA_prime_star*epsilon + 0.0262345679012346*M*P**2*epsilon**3 + 0.0123456790123457*M*P**2*epsilon**2 - 0.00192901234567901*M*P**2*epsilon - 0.000771604938271605*M*P**2 - 0.00308641975308642*M*P*R*UGA_prime_star*epsilon**3 - 0.00154320987654321*M*P*R*UGA_prime_star*epsilon**2 + 0.000771604938271605*M*P*R*UGA_prime_star*epsilon + 0.000385802469135802*M*P*R*UGA_prime_star + 0.0401234567901235*M*P*R*epsilon**3 + 0.0169753086419753*M*P*R*epsilon**2 - 0.000771604938271605*M*P*R*epsilon + 0.000385802469135802*M*P*R + 0.00308641975308642*M*P*S*UGA_prime_star*epsilon**3 + 0.00154320987654321*M*P*S*UGA_prime_star*epsilon**2 - 0.000771604938271605*M*P*S*UGA_prime_star*epsilon - 0.000385802469135802*M*P*S*UGA_prime_star - 0.0493827160493827*M*P*S*epsilon**3 - 0.0169753086419753*M*P*S*epsilon**2 + 0.00308641975308642*M*P*S*epsilon - 0.000385802469135802*M*P*S + 0.00617283950617284*M*P*T*UGA_prime_star*epsilon**3 - 0.00154320987654321*M*P*T*UGA_prime_star*epsilon - 0.0462962962962963*M*P*T*epsilon**3 - 0.0231481481481481*M*P*T*epsilon**2 + 0.00231481481481481*M*P*T*epsilon + 0.00115740740740741*M*P*T - 0.00154320987654321*M*R**2*UGA_prime_star*epsilon**2 + 0.000385802469135802*M*R**2*UGA_prime_star + 0.00617283950617284*M*R**2*epsilon**3 + 0.00848765432098765*M*R**2*epsilon**2 + 0.00308641975308642*M*R**2*epsilon + 0.000192901234567901*M*R**2 + 0.00308641975308642*M*R*S*UGA_prime_star*epsilon**2 - 0.000771604938271605*M*R*S*UGA_prime_star - 0.0246913580246914*M*R*S*epsilon**3 - 0.0154320987654321*M*R*S*epsilon**2 - 0.00308641975308642*M*R*S*epsilon - 0.000771604938271605*M*R*S + 0.00308641975308642*M*R*T*UGA_prime_star*epsilon**3 + 0.00154320987654321*M*R*T*UGA_prime_star*epsilon**2 - 0.000771604938271605*M*R*T*UGA_prime_star*epsilon - 0.000385802469135802*M*R*T*UGA_prime_star - 0.0308641975308642*M*R*T*epsilon**3 - 0.0169753086419753*M*R*T*epsilon**2 - 0.00154320987654321*M*R*T*epsilon - 0.000385802469135802*M*R*T - 0.00154320987654321*M*S**2*UGA_prime_star*epsilon**2 + 0.000385802469135802*M*S**2*UGA_prime_star + 0.0185185185185185*M*S**2*epsilon**3 + 0.00694444444444444*M*S**2*epsilon**2 + 0.000578703703703704*M*S**2 - 0.00308641975308642*M*S*T*UGA_prime_star*epsilon**3 - 0.00154320987654321*M*S*T*UGA_prime_star*epsilon**2 + 0.000771604938271605*M*S*T*UGA_prime_star*epsilon + 0.000385802469135802*M*S*T*UGA_prime_star + 0.0401234567901235*M*S*T*epsilon**3 + 0.0169753086419753*M*S*T*epsilon**2 - 0.000771604938271605*M*S*T*epsilon + 0.000385802469135802*M*S*T - 0.00308641975308642*M*T**2*UGA_prime_star*epsilon**3 + 0.000771604938271605*M*T**2*UGA_prime_star*epsilon + 0.0200617283950617*M*T**2*epsilon**3 + 0.0108024691358025*M*T**2*epsilon**2 - 0.000385802469135802*M*T**2*epsilon - 0.000385802469135802*M*T**2 - 0.0648148148148148*P**3*epsilon**3 - 0.0455246913580247*P**3*epsilon**2 - 0.00655864197530864*P**3*epsilon + 0.00617283950617284*P**2*R*UGA_prime_star*epsilon**3 - 0.00154320987654321*P**2*R*UGA_prime_star*epsilon - 0.0632716049382716*P**2*R*epsilon**3 - 0.0478395061728395*P**2*R*epsilon**2 - 0.0111882716049383*P**2*R*epsilon - 0.00154320987654321*P**2*R - 0.00308641975308642*P**2*S*UGA_prime_star*epsilon**3 + 0.000771604938271605*P**2*S*UGA_prime_star*epsilon + 0.106481481481481*P**2*S*epsilon**3 + 0.0817901234567901*P**2*S*epsilon**2 + 0.0189043209876543*P**2*S*epsilon + 0.00231481481481481*P**2*S + 0.12962962962963*P**2*T*epsilon**3 + 0.0910493827160494*P**2*T*epsilon**2 + 0.0131172839506173*P**2*T*epsilon + 0.00308641975308642*P*R**2*UGA_prime_star*epsilon**2 - 0.000771604938271605*P*R**2*UGA_prime_star - 0.00617283950617284*P*R**2*epsilon**3 - 0.00771604938271605*P*R**2*epsilon**2 - 0.00270061728395062*P*R**2*epsilon - 0.000192901234567901*P*R**2 - 0.00462962962962963*P*R*S*UGA_prime_star*epsilon**2 + 0.00115740740740741*P*R*S*UGA_prime_star + 0.037037037037037*P*R*S*epsilon**3 + 0.0493827160493827*P*R*S*epsilon**2 + 0.0177469135802469*P*R*S*epsilon + 0.00115740740740741*P*R*S - 0.00925925925925926*P*R*T*UGA_prime_star*epsilon**3 + 0.00231481481481481*P*R*T*UGA_prime_star*epsilon + 0.0632716049382716*P*R*T*epsilon**3 + 0.0478395061728395*P*R*T*epsilon**2 + 0.0111882716049383*P*R*T*epsilon + 0.00154320987654321*P*R*T + 0.00154320987654321*P*S**2*UGA_prime_star*epsilon**2 - 0.000385802469135802*P*S**2*UGA_prime_star - 0.037037037037037*P*S**2*epsilon**3 - 0.0501543209876543*P*S**2*epsilon**2 - 0.0181327160493827*P*S**2*epsilon - 0.00115740740740741*P*S**2 + 0.00308641975308642*P*S*T*UGA_prime_star*epsilon**3 - 0.000771604938271605*P*S*T*UGA_prime_star*epsilon - 0.128086419753086*P*S*T*epsilon**3 - 0.0987654320987654*P*S*T*epsilon**2 - 0.0227623456790123*P*S*T*epsilon - 0.00270061728395062*P*S*T - 0.0787037037037037*P*T**2*epsilon**3 - 0.054783950617284*P*T**2*epsilon**2 - 0.00771604938271605*P*T**2*epsilon - 0.00154320987654321*R**2*T*UGA_prime_star*epsilon**2 + 0.000385802469135802*R**2*T*UGA_prime_star - 0.00925925925925926*R*S**2*epsilon**2 - 0.00462962962962963*R*S**2*epsilon + 0.00154320987654321*R*S*T*UGA_prime_star*epsilon**2 - 0.000385802469135802*R*S*T*UGA_prime_star - 0.0123456790123457*R*S*T*epsilon**3 - 0.0169753086419753*R*S*T*epsilon**2 - 0.00617283950617284*R*S*T*epsilon - 0.000385802469135802*R*S*T + 0.00308641975308642*R*T**2*UGA_prime_star*epsilon**3 - 0.000771604938271605*R*T**2*UGA_prime_star*epsilon - 0.0108024691358025*R*T**2*epsilon**3 - 0.00848765432098765*R*T**2*epsilon**2 - 0.00192901234567901*R*T**2*epsilon - 0.000192901234567901*R*T**2 + 0.00925925925925926*S**3*epsilon**2 + 0.00462962962962963*S**3*epsilon + 0.0185185185185185*S**2*T*epsilon**3 + 0.025462962962963*S**2*T*epsilon**2 + 0.00925925925925926*S**2*T*epsilon + 0.000578703703703704*S**2*T + 0.0324074074074074*S*T**2*epsilon**3 + 0.025462962962963*S*T**2*epsilon**2 + 0.00578703703703704*S*T**2*epsilon + 0.000578703703703704*S*T**2 + 0.0138888888888889*T**3*epsilon**3 + 0.00925925925925926*T**3*epsilon**2 + 0.00115740740740741*T**3*epsilon) + N_G*UGA_star**3*UgA_star**2*(0.00771604938271605*M*P**2*epsilon**3 - 0.00154320987654321*M*P**2*epsilon**2 - 0.00192901234567901*M*P**2*epsilon + 0.000385802469135802*M*P**2 + 0.0108024691358025*M*P*R*epsilon**3 - 0.000771604938271605*M*P*R*epsilon**2 - 0.00270061728395062*M*P*R*epsilon + 0.000192901234567901*M*P*R - 0.0108024691358025*M*P*S*epsilon**3 + 0.000771604938271605*M*P*S*epsilon**2 + 0.00270061728395062*M*P*S*epsilon - 0.000192901234567901*M*P*S - 0.0154320987654321*M*P*T*epsilon**3 + 0.00308641975308642*M*P*T*epsilon**2 + 0.00385802469135802*M*P*T*epsilon - 0.000771604938271605*M*P*T + 0.00308641975308642*M*R**2*epsilon**3 + 0.000771604938271605*M*R**2*epsilon**2 - 0.000771604938271605*M*R**2*epsilon - 0.000192901234567901*M*R**2 - 0.00617283950617284*M*R*S*epsilon**3 - 0.00154320987654321*M*R*S*epsilon**2 + 0.00154320987654321*M*R*S*epsilon + 0.000385802469135802*M*R*S - 0.0108024691358025*M*R*T*epsilon**3 + 0.000771604938271605*M*R*T*epsilon**2 + 0.00270061728395062*M*R*T*epsilon - 0.000192901234567901*M*R*T + 0.00308641975308642*M*S**2*epsilon**3 + 0.000771604938271605*M*S**2*epsilon**2 - 0.000771604938271605*M*S**2*epsilon - 0.000192901234567901*M*S**2 + 0.0108024691358025*M*S*T*epsilon**3 - 0.000771604938271605*M*S*T*epsilon**2 - 0.00270061728395062*M*S*T*epsilon + 0.000192901234567901*M*S*T + 0.00771604938271605*M*T**2*epsilon**3 - 0.00154320987654321*M*T**2*epsilon**2 - 0.00192901234567901*M*T**2*epsilon + 0.000385802469135802*M*T**2 - 0.0185185185185185*P**3*epsilon**3 - 0.00308641975308642*P**3*epsilon**2 + 0.00308641975308642*P**3*epsilon - 0.0277777777777778*P**2*R*epsilon**3 - 0.00925925925925926*P**2*R*epsilon**2 + 0.00385802469135802*P**2*R*epsilon + 0.000771604938271605*P**2*R + 0.029320987654321*P**2*S*epsilon**3 + 0.0123456790123457*P**2*S*epsilon**2 - 0.00347222222222222*P**2*S*epsilon - 0.00115740740740741*P**2*S + 0.0462962962962963*P**2*T*epsilon**3 + 0.00771604938271605*P**2*T*epsilon**2 - 0.00771604938271605*P**2*T*epsilon - 0.00617283950617284*P*R**2*epsilon**3 - 0.00771604938271605*P*R**2*epsilon**2 + 0.00115740740740741*P*R**2 + 0.0154320987654321*P*R*S*epsilon**3 + 0.0208333333333333*P*R*S*epsilon**2 + 0.000771604938271605*P*R*S*epsilon - 0.00289351851851852*P*R*S + 0.0416666666666667*P*R*T*epsilon**3 + 0.0138888888888889*P*R*T*epsilon**2 - 0.00578703703703704*P*R*T*epsilon - 0.00115740740740741*P*R*T - 0.00925925925925926*P*S**2*epsilon**3 - 0.0131172839506173*P*S**2*epsilon**2 - 0.000771604938271605*P*S**2*epsilon + 0.00173611111111111*P*S**2 - 0.0447530864197531*P*S*T*epsilon**3 - 0.0200617283950617*P*S*T*epsilon**2 + 0.00501543209876543*P*S*T*epsilon + 0.00192901234567901*P*S*T - 0.037037037037037*P*T**2*epsilon**3 - 0.00617283950617284*P*T**2*epsilon**2 + 0.00617283950617284*P*T**2*epsilon + 0.00308641975308642*R**2*S*epsilon**2 + 0.000771604938271605*R**2*S*epsilon - 0.000385802469135802*R**2*S + 0.00308641975308642*R**2*T*epsilon**3 + 0.00385802469135802*R**2*T*epsilon**2 - 0.000578703703703704*R**2*T - 0.00617283950617284*R*S**2*epsilon**2 - 0.00154320987654321*R*S**2*epsilon + 0.000771604938271605*R*S**2 - 0.00925925925925926*R*S*T*epsilon**3 - 0.0131172839506173*R*S*T*epsilon**2 - 0.000771604938271605*R*S*T*epsilon + 0.00173611111111111*R*S*T - 0.0138888888888889*R*T**2*epsilon**3 - 0.00462962962962963*R*T**2*epsilon**2 + 0.00192901234567901*R*T**2*epsilon + 0.000385802469135802*R*T**2 + 0.00308641975308642*S**3*epsilon**2 + 0.000771604938271605*S**3*epsilon - 0.000385802469135802*S**3 + 0.00617283950617284*S**2*T*epsilon**3 + 0.00925925925925926*S**2*T*epsilon**2 + 0.000771604938271605*S**2*T*epsilon - 0.00115740740740741*S**2*T + 0.0154320987654321*S*T**2*epsilon**3 + 0.00771604938271605*S*T**2*epsilon**2 - 0.00154320987654321*S*T**2*epsilon - 0.000771604938271605*S*T**2 + 0.00925925925925926*T**3*epsilon**3 + 0.00154320987654321*T**3*epsilon**2 - 0.00154320987654321*T**3*epsilon) + N_G*UGA_star**3*UgA_star*(-0.0154320987654321*M*P**2*epsilon**3 + 0.00308641975308642*M*P**2*epsilon**2 + 0.00385802469135802*M*P**2*epsilon - 0.000771604938271605*M*P**2 - 0.00308641975308642*M*P*R*epsilon**3 - 0.00308641975308642*M*P*R*epsilon**2 + 0.000771604938271605*M*P*R*epsilon + 0.000771604938271605*M*P*R + 0.0123456790123457*M*P*S*epsilon**3 + 0.000771604938271605*M*P*S*epsilon**2 - 0.00308641975308642*M*P*S*epsilon - 0.000192901234567901*M*P*S + 0.0231481481481481*M*P*T*epsilon**3 - 0.00462962962962963*M*P*T*epsilon**2 - 0.00578703703703704*M*P*T*epsilon + 0.00115740740740741*M*P*T + 0.00308641975308642*M*R*S*epsilon**3 + 0.000771604938271605*M*R*S*epsilon**2 - 0.000771604938271605*M*R*S*epsilon - 0.000192901234567901*M*R*S + 0.00154320987654321*M*R*T*epsilon**3 + 0.00154320987654321*M*R*T*epsilon**2 - 0.000385802469135802*M*R*T*epsilon - 0.000385802469135802*M*R*T - 0.00308641975308642*M*S**2*epsilon**3 - 0.000771604938271605*M*S**2*epsilon**2 + 0.000771604938271605*M*S**2*epsilon + 0.000192901234567901*M*S**2 - 0.0108024691358025*M*S*T*epsilon**3 + 0.000771604938271605*M*S*T*epsilon**2 + 0.00270061728395062*M*S*T*epsilon - 0.000192901234567901*M*S*T - 0.00771604938271605*M*T**2*epsilon**3 + 0.00154320987654321*M*T**2*epsilon**2 + 0.00192901234567901*M*T**2*epsilon - 0.000385802469135802*M*T**2 + 0.037037037037037*P**3*epsilon**3 + 0.00617283950617284*P**3*epsilon**2 - 0.00617283950617284*P**3*epsilon + 0.00617283950617284*P**2*R*epsilon**3 + 0.0123456790123457*P**2*R*epsilon**2 + 0.00154320987654321*P**2*R*epsilon - 0.00154320987654321*P**2*R - 0.0339506172839506*P**2*S*epsilon**3 - 0.0216049382716049*P**2*S*epsilon**2 + 0.00231481481481481*P**2*S*epsilon + 0.00231481481481481*P**2*S - 0.0740740740740741*P**2*T*epsilon**3 - 0.0123456790123457*P**2*T*epsilon**2 + 0.0123456790123457*P**2*T*epsilon - 0.00617283950617284*P*R*S*epsilon**3 - 0.0108024691358025*P*R*S*epsilon**2 - 0.00154320987654321*P*R*S*epsilon + 0.00115740740740741*P*R*S - 0.00617283950617284*P*R*T*epsilon**3 - 0.0123456790123457*P*R*T*epsilon**2 - 0.00154320987654321*P*R*T*epsilon + 0.00154320987654321*P*R*T + 0.00925925925925926*P*S**2*epsilon**3 + 0.0146604938271605*P*S**2*epsilon**2 + 0.00154320987654321*P*S**2*epsilon - 0.00173611111111111*P*S**2 + 0.0478395061728395*P*S*T*epsilon**3 + 0.0262345679012346*P*S*T*epsilon**2 - 0.00424382716049383*P*S*T*epsilon - 0.00270061728395062*P*S*T + 0.0462962962962963*P*T**2*epsilon**3 + 0.00771604938271605*P*T**2*epsilon**2 - 0.00771604938271605*P*T**2*epsilon + 0.00308641975308642*R*S**2*epsilon**2 + 0.000771604938271605*R*S**2*epsilon - 0.000385802469135802*R*S**2 + 0.00308641975308642*R*S*T*epsilon**3 + 0.00540123456790123*R*S*T*epsilon**2 + 0.000771604938271605*R*S*T*epsilon - 0.000578703703703704*R*S*T + 0.00154320987654321*R*T**2*epsilon**3 + 0.00308641975308642*R*T**2*epsilon**2 + 0.000385802469135802*R*T**2*epsilon - 0.000385802469135802*R*T**2 - 0.00308641975308642*S**3*epsilon**2 - 0.000771604938271605*S**3*epsilon + 0.000385802469135802*S**3 - 0.00617283950617284*S**2*T*epsilon**3 - 0.00925925925925926*S**2*T*epsilon**2 - 0.000771604938271605*S**2*T*epsilon + 0.00115740740740741*S**2*T - 0.0154320987654321*S*T**2*epsilon**3 - 0.00771604938271605*S*T**2*epsilon**2 + 0.00154320987654321*S*T**2*epsilon + 0.000771604938271605*S*T**2 - 0.00925925925925926*T**3*epsilon**3 - 0.00154320987654321*T**3*epsilon**2 + 0.00154320987654321*T**3*epsilon) + N_G*UGA_star**3*(-0.00308641975308642*M**2*P*UGA_prime_star*epsilon**3 + 0.00154320987654321*M**2*P*UGA_prime_star*epsilon**2 + 0.000771604938271605*M**2*P*UGA_prime_star*epsilon - 0.000385802469135802*M**2*P*UGA_prime_star + 0.00308641975308642*M**2*P*epsilon**3 + 0.00308641975308642*M**2*P*epsilon**2 - 0.000771604938271605*M**2*P*epsilon - 0.000771604938271605*M**2*P - 0.00308641975308642*M**2*R*UGA_prime_star*epsilon**3 + 0.00154320987654321*M**2*R*UGA_prime_star*epsilon**2 + 0.000771604938271605*M**2*R*UGA_prime_star*epsilon - 0.000385802469135802*M**2*R*UGA_prime_star + 0.00925925925925926*M**2*R*epsilon**3 - 0.00231481481481481*M**2*R*epsilon + 0.00308641975308642*M**2*S*UGA_prime_star*epsilon**3 - 0.00154320987654321*M**2*S*UGA_prime_star*epsilon**2 - 0.000771604938271605*M**2*S*UGA_prime_star*epsilon + 0.000385802469135802*M**2*S*UGA_prime_star - 0.00771604938271605*M**2*S*epsilon**3 - 0.000771604938271605*M**2*S*epsilon**2 + 0.00192901234567901*M**2*S*epsilon + 0.000192901234567901*M**2*S + 0.00308641975308642*M**2*T*UGA_prime_star*epsilon**3 - 0.00154320987654321*M**2*T*UGA_prime_star*epsilon**2 - 0.000771604938271605*M**2*T*UGA_prime_star*epsilon + 0.000385802469135802*M**2*T*UGA_prime_star - 0.00462962962962963*M**2*T*epsilon**3 - 0.00231481481481481*M**2*T*epsilon**2 + 0.00115740740740741*M**2*T*epsilon + 0.000578703703703704*M**2*T + 0.00617283950617284*M*P**2*UGA_prime_star*epsilon**3 - 0.00154320987654321*M*P**2*UGA_prime_star*epsilon - 0.066358024691358*M*P**2*epsilon**3 - 0.0432098765432099*M*P**2*epsilon**2 - 0.00192901234567901*M*P**2*epsilon + 0.00154320987654321*M*P**2 + 0.0185185185185185*M*P*R*UGA_prime_star*epsilon**3 - 0.00308641975308642*M*P*R*UGA_prime_star*epsilon**2 - 0.00462962962962963*M*P*R*UGA_prime_star*epsilon + 0.000771604938271605*M*P*R*UGA_prime_star - 0.0509259259259259*M*P*R*epsilon**3 - 0.0324074074074074*M*P*R*epsilon**2 - 0.00578703703703704*M*P*R*epsilon - 0.00115740740740741*M*P*R - 0.0154320987654321*M*P*S*UGA_prime_star*epsilon**3 + 0.00385802469135802*M*P*S*UGA_prime_star*epsilon + 0.0910493827160494*M*P*S*epsilon**3 + 0.0493827160493827*M*P*S*epsilon**2 + 0.00501543209876543*M*P*S*epsilon + 0.00154320987654321*M*P*S - 0.00925925925925926*M*P*T*UGA_prime_star*epsilon**3 + 0.00231481481481481*M*P*T*UGA_prime_star*epsilon + 0.0941358024691358*M*P*T*epsilon**3 + 0.0617283950617284*M*P*T*epsilon**2 + 0.00424382716049383*M*P*T*epsilon - 0.00154320987654321*M*P*T + 0.00308641975308642*M*R**2*UGA_prime_star*epsilon**2 - 0.000771604938271605*M*R**2*UGA_prime_star - 0.00771604938271605*M*R*S*UGA_prime_star*epsilon**2 + 0.00192901234567901*M*R*S*UGA_prime_star + 0.0123456790123457*M*R*S*epsilon**3 + 0.0169753086419753*M*R*S*epsilon**2 + 0.00617283950617284*M*R*S*epsilon + 0.000385802469135802*M*R*S - 0.0123456790123457*M*R*T*UGA_prime_star*epsilon**3 + 0.00154320987654321*M*R*T*UGA_prime_star*epsilon**2 + 0.00308641975308642*M*R*T*UGA_prime_star*epsilon - 0.000385802469135802*M*R*T*UGA_prime_star + 0.0216049382716049*M*R*T*epsilon**3 + 0.0169753086419753*M*R*T*epsilon**2 + 0.00385802469135802*M*R*T*epsilon + 0.000385802469135802*M*R*T + 0.00462962962962963*M*S**2*UGA_prime_star*epsilon**2 - 0.00115740740740741*M*S**2*UGA_prime_star - 0.0185185185185185*M*S**2*epsilon**3 - 0.0162037037037037*M*S**2*epsilon**2 - 0.00462962962962963*M*S**2*epsilon - 0.000578703703703704*M*S**2 + 0.00925925925925926*M*S*T*UGA_prime_star*epsilon**3 + 0.00154320987654321*M*S*T*UGA_prime_star*epsilon**2 - 0.00231481481481481*M*S*T*UGA_prime_star*epsilon - 0.000385802469135802*M*S*T*UGA_prime_star - 0.0524691358024691*M*S*T*epsilon**3 - 0.0339506172839506*M*S*T*epsilon**2 - 0.00540123456790123*M*S*T*epsilon - 0.000771604938271605*M*S*T + 0.00308641975308642*M*T**2*UGA_prime_star*epsilon**3 - 0.000771604938271605*M*T**2*UGA_prime_star*epsilon - 0.0308641975308642*M*T**2*epsilon**3 - 0.0192901234567901*M*T**2*epsilon**2 - 0.00154320987654321*M*T**2*epsilon + 0.000192901234567901*M*T**2 + 0.0740740740740741*P**3*epsilon**3 + 0.058641975308642*P**3*epsilon**2 + 0.0108024691358025*P**3*epsilon - 0.0185185185185185*P**2*R*UGA_prime_star*epsilon**3 + 0.00462962962962963*P**2*R*UGA_prime_star*epsilon + 0.0401234567901235*P**2*R*epsilon**3 + 0.0277777777777778*P**2*R*epsilon**2 + 0.00694444444444444*P**2*R*epsilon + 0.00154320987654321*P**2*R + 0.0123456790123457*P**2*S*UGA_prime_star*epsilon**3 - 0.00308641975308642*P**2*S*UGA_prime_star*epsilon - 0.103395061728395*P**2*S*epsilon**3 - 0.0756172839506173*P**2*S*epsilon**2 - 0.0181327160493827*P**2*S*epsilon - 0.00308641975308642*P**2*S - 0.111111111111111*P**2*T*epsilon**3 - 0.087962962962963*P**2*T*epsilon**2 - 0.0162037037037037*P**2*T*epsilon - 0.00308641975308642*P*R**2*UGA_prime_star*epsilon**2 + 0.000771604938271605*P*R**2*UGA_prime_star + 0.00925925925925926*P*R*S*UGA_prime_star*epsilon**2 - 0.00231481481481481*P*R*S*UGA_prime_star - 0.0123456790123457*P*R*S*epsilon**3 - 0.0154320987654321*P*R*S*epsilon**2 - 0.00540123456790123*P*R*S*epsilon - 0.000385802469135802*P*R*S + 0.0185185185185185*P*R*T*UGA_prime_star*epsilon**3 - 0.00462962962962963*P*R*T*UGA_prime_star*epsilon - 0.0200617283950617*P*R*T*epsilon**3 - 0.0138888888888889*P*R*T*epsilon**2 - 0.00347222222222222*P*R*T*epsilon - 0.000771604938271605*P*R*T - 0.00462962962962963*P*S**2*UGA_prime_star*epsilon**2 + 0.00115740740740741*P*S**2*UGA_prime_star + 0.0246913580246914*P*S**2*epsilon**3 + 0.0324074074074074*P*S**2*epsilon**2 + 0.0115740740740741*P*S**2*epsilon + 0.000771604938271605*P*S**2 - 0.00925925925925926*P*S*T*UGA_prime_star*epsilon**3 + 0.00231481481481481*P*S*T*UGA_prime_star*epsilon + 0.0833333333333333*P*S*T*epsilon**3 + 0.0617283950617284*P*S*T*epsilon**2 + 0.0146604938271605*P*S*T*epsilon + 0.00231481481481481*P*S*T + 0.0462962962962963*P*T**2*epsilon**3 + 0.0354938271604938*P*T**2*epsilon**2 + 0.00617283950617284*P*T**2*epsilon - 0.00154320987654321*R*S*T*UGA_prime_star*epsilon**2 + 0.000385802469135802*R*S*T*UGA_prime_star - 0.00308641975308642*R*T**2*UGA_prime_star*epsilon**3 + 0.000771604938271605*R*T**2*UGA_prime_star*epsilon - 0.00308641975308642*S**3*epsilon**2 - 0.00154320987654321*S**3*epsilon - 0.00617283950617284*S**2*T*epsilon**3 - 0.00848765432098765*S**2*T*epsilon**2 - 0.00308641975308642*S**2*T*epsilon - 0.000192901234567901*S**2*T - 0.0108024691358025*S*T**2*epsilon**3 - 0.00848765432098765*S*T**2*epsilon**2 - 0.00192901234567901*S*T**2*epsilon - 0.000192901234567901*S*T**2 - 0.00462962962962963*T**3*epsilon**3 - 0.00308641975308642*T**3*epsilon**2 - 0.000385802469135802*T**3*epsilon) + N_G*UGA_star**2*UgA_star**2*(0.00308641975308642*M**2*P*epsilon**3 - 0.00154320987654321*M**2*P*epsilon**2 - 0.000771604938271605*M**2*P*epsilon + 0.000385802469135802*M**2*P + 0.00308641975308642*M**2*R*epsilon**3 - 0.00154320987654321*M**2*R*epsilon**2 - 0.000771604938271605*M**2*R*epsilon + 0.000385802469135802*M**2*R - 0.00308641975308642*M**2*S*epsilon**3 + 0.00154320987654321*M**2*S*epsilon**2 + 0.000771604938271605*M**2*S*epsilon - 0.000385802469135802*M**2*S - 0.00308641975308642*M**2*T*epsilon**3 + 0.00154320987654321*M**2*T*epsilon**2 + 0.000771604938271605*M**2*T*epsilon - 0.000385802469135802*M**2*T - 0.0246913580246914*M*P**2*epsilon**3 + 0.00154320987654321*M*P**2*epsilon**2 + 0.00540123456790123*M*P**2*epsilon - 0.000771604938271605*M*P**2 - 0.0324074074074074*M*P*R*epsilon**3 + 0.00655864197530864*M*P*R*epsilon - 0.000771604938271605*M*P*R + 0.0339506172839506*M*P*S*epsilon**3 + 0.00154320987654321*M*P*S*epsilon**2 - 0.00694444444444444*M*P*S*epsilon + 0.000385802469135802*M*P*S + 0.0416666666666667*M*P*T*epsilon**3 - 0.00154320987654321*M*P*T*epsilon**2 - 0.00887345679012346*M*P*T*epsilon + 0.00115740740740741*M*P*T - 0.00308641975308642*M*R**2*epsilon**3 - 0.00385802469135802*M*R**2*epsilon**2 + 0.000578703703703704*M*R**2 + 0.00925925925925926*M*R*S*epsilon**3 + 0.00848765432098765*M*R*S*epsilon**2 - 0.000771604938271605*M*R*S*epsilon - 0.00135030864197531*M*R*S + 0.0231481481481481*M*R*T*epsilon**3 + 0.00231481481481481*M*R*T*epsilon**2 - 0.00424382716049383*M*R*T*epsilon + 0.000192901234567901*M*R*T - 0.00617283950617284*M*S**2*epsilon**3 - 0.00462962962962963*M*S**2*epsilon**2 + 0.000771604938271605*M*S**2*epsilon + 0.000771604938271605*M*S**2 - 0.0246913580246914*M*S*T*epsilon**3 - 0.00385802469135802*M*S*T*epsilon**2 + 0.00462962962962963*M*S*T*epsilon + 0.000192901234567901*M*S*T - 0.0169753086419753*M*T**2*epsilon**3 + 0.00347222222222222*M*T**2*epsilon - 0.000385802469135802*M*T**2 + 0.0277777777777778*P**3*epsilon**3 + 0.00462962962962963*P**3*epsilon**2 - 0.00462962962962963*P**3*epsilon + 0.0385802469135802*P**2*R*epsilon**3 + 0.00771604938271605*P**2*R*epsilon**2 - 0.00655864197530864*P**2*R*epsilon - 0.000385802469135802*P**2*R - 0.0416666666666667*P**2*S*epsilon**3 - 0.0138888888888889*P**2*S*epsilon**2 + 0.00578703703703704*P**2*S*epsilon + 0.00115740740740741*P**2*S - 0.0555555555555556*P**2*T*epsilon**3 - 0.00925925925925926*P**2*T*epsilon**2 + 0.00925925925925926*P**2*T*epsilon + 0.00308641975308642*P*R**2*epsilon**3 + 0.00385802469135802*P*R**2*epsilon**2 - 0.000578703703703704*P*R**2 - 0.0123456790123457*P*R*S*epsilon**3 - 0.0154320987654321*P*R*S*epsilon**2 + 0.00231481481481481*P*R*S - 0.0385802469135802*P*R*T*epsilon**3 - 0.00771604938271605*P*R*T*epsilon**2 + 0.00655864197530864*P*R*T*epsilon + 0.000385802469135802*P*R*T + 0.00925925925925926*P*S**2*epsilon**3 + 0.0123456790123457*P*S**2*epsilon**2 + 0.000385802469135802*P*S**2*epsilon - 0.00173611111111111*P*S**2 + 0.0432098765432099*P*S*T*epsilon**3 + 0.0169753086419753*P*S*T*epsilon**2 - 0.00540123456790123*P*S*T*epsilon - 0.00154320987654321*P*S*T + 0.0324074074074074*P*T**2*epsilon**3 + 0.00540123456790123*P*T**2*epsilon**2 - 0.00540123456790123*P*T**2*epsilon + 0.00154320987654321*R*S**2*epsilon**2 + 0.000385802469135802*R*S**2*epsilon - 0.000192901234567901*R*S**2 + 0.00308641975308642*R*S*T*epsilon**3 + 0.00385802469135802*R*S*T*epsilon**2 - 0.000578703703703704*R*S*T + 0.00617283950617284*R*T**2*epsilon**3 + 0.000771604938271605*R*T**2*epsilon**2 - 0.00115740740740741*R*T**2*epsilon - 0.00154320987654321*S**3*epsilon**2 - 0.000385802469135802*S**3*epsilon + 0.000192901234567901*S**3 - 0.00308641975308642*S**2*T*epsilon**3 - 0.00462962962962963*S**2*T*epsilon**2 - 0.000385802469135802*S**2*T*epsilon + 0.000578703703703704*S**2*T - 0.00771604938271605*S*T**2*epsilon**3 - 0.00385802469135802*S*T**2*epsilon**2 + 0.000771604938271605*S*T**2*epsilon + 0.000385802469135802*S*T**2 - 0.00462962962962963*T**3*epsilon**3 - 0.000771604938271605*T**3*epsilon**2 + 0.000771604938271605*T**3*epsilon) + N_G*UGA_star**2*UgA_star*(-0.00617283950617284*M**2*P*epsilon**3 + 0.00308641975308642*M**2*P*epsilon**2 + 0.00154320987654321*M**2*P*epsilon - 0.000771604938271605*M**2*P + 0.00308641975308642*M**2*S*epsilon**3 - 0.00154320987654321*M**2*S*epsilon**2 - 0.000771604938271605*M**2*S*epsilon + 0.000385802469135802*M**2*S + 0.00308641975308642*M**2*T*epsilon**3 - 0.00154320987654321*M**2*T*epsilon**2 - 0.000771604938271605*M**2*T*epsilon + 0.000385802469135802*M**2*T + 0.0493827160493827*M*P**2*epsilon**3 - 0.00308641975308642*M*P**2*epsilon**2 - 0.0108024691358025*M*P**2*epsilon + 0.00154320987654321*M*P**2 + 0.00308641975308642*M*P*R*epsilon**3 + 0.00617283950617284*M*P*R*epsilon**2 + 0.000771604938271605*M*P*R*epsilon - 0.000771604938271605*M*P*R - 0.037037037037037*M*P*S*epsilon**3 - 0.00617283950617284*M*P*S*epsilon**2 + 0.00694444444444444*M*P*S*epsilon + 0.000385802469135802*M*P*S - 0.058641975308642*M*P*T*epsilon**3 + 0.00154320987654321*M*P*T*epsilon**2 + 0.0123456790123457*M*P*T*epsilon - 0.00154320987654321*M*P*T - 0.00308641975308642*M*R*S*epsilon**3 - 0.00385802469135802*M*R*S*epsilon**2 + 0.000578703703703704*M*R*S - 0.00154320987654321*M*R*T*epsilon**3 - 0.00308641975308642*M*R*T*epsilon**2 - 0.000385802469135802*M*R*T*epsilon + 0.000385802469135802*M*R*T + 0.00617283950617284*M*S**2*epsilon**3 + 0.00462962962962963*M*S**2*epsilon**2 - 0.000771604938271605*M*S**2*epsilon - 0.000771604938271605*M*S**2 + 0.0246913580246914*M*S*T*epsilon**3 + 0.00385802469135802*M*S*T*epsilon**2 - 0.00462962962962963*M*S*T*epsilon - 0.000192901234567901*M*S*T + 0.0169753086419753*M*T**2*epsilon**3 - 0.00347222222222222*M*T**2*epsilon + 0.000385802469135802*M*T**2 - 0.0555555555555556*P**3*epsilon**3 - 0.00925925925925926*P**3*epsilon**2 + 0.00925925925925926*P**3*epsilon - 0.00308641975308642*P**2*R*epsilon**3 - 0.00617283950617284*P**2*R*epsilon**2 - 0.000771604938271605*P**2*R*epsilon + 0.000771604938271605*P**2*R + 0.0462962962962963*P**2*S*epsilon**3 + 0.0231481481481481*P**2*S*epsilon**2 - 0.00462962962962963*P**2*S*epsilon - 0.00231481481481481*P**2*S + 0.0833333333333333*P**2*T*epsilon**3 + 0.0138888888888889*P**2*T*epsilon**2 - 0.0138888888888889*P**2*T*epsilon + 0.00308641975308642*P*R*S*epsilon**3 + 0.00385802469135802*P*R*S*epsilon**2 - 0.000578703703703704*P*R*S + 0.00154320987654321*P*R*T*epsilon**3 + 0.00308641975308642*P*R*T*epsilon**2 + 0.000385802469135802*P*R*T*epsilon - 0.000385802469135802*P*R*T - 0.00925925925925926*P*S**2*epsilon**3 - 0.0131172839506173*P*S**2*epsilon**2 - 0.000771604938271605*P*S**2*epsilon + 0.00173611111111111*P*S**2 - 0.0447530864197531*P*S*T*epsilon**3 - 0.0200617283950617*P*S*T*epsilon**2 + 0.00501543209876543*P*S*T*epsilon + 0.00192901234567901*P*S*T - 0.037037037037037*P*T**2*epsilon**3 - 0.00617283950617284*P*T**2*epsilon**2 + 0.00617283950617284*P*T**2*epsilon + 0.00154320987654321*S**3*epsilon**2 + 0.000385802469135802*S**3*epsilon - 0.000192901234567901*S**3 + 0.00308641975308642*S**2*T*epsilon**3 + 0.00462962962962963*S**2*T*epsilon**2 + 0.000385802469135802*S**2*T*epsilon - 0.000578703703703704*S**2*T + 0.00771604938271605*S*T**2*epsilon**3 + 0.00385802469135802*S*T**2*epsilon**2 - 0.000771604938271605*S*T**2*epsilon - 0.000385802469135802*S*T**2 + 0.00462962962962963*T**3*epsilon**3 + 0.000771604938271605*T**3*epsilon**2 - 0.000771604938271605*T**3*epsilon) + N_G*UGA_star**2*(-0.00154320987654321*M**3*epsilon**3 + 0.000771604938271605*M**3*epsilon**2 + 0.000385802469135802*M**3*epsilon - 0.000192901234567901*M**3 - 0.0216049382716049*M**2*P*epsilon**3 - 0.0146604938271605*M**2*P*epsilon**2 + 0.000771604938271605*M**2*P*epsilon + 0.00135030864197531*M**2*P + 0.00925925925925926*M**2*R*UGA_prime_star*epsilon**3 - 0.00462962962962963*M**2*R*UGA_prime_star*epsilon**2 - 0.00231481481481481*M**2*R*UGA_prime_star*epsilon + 0.00115740740740741*M**2*R*UGA_prime_star - 0.0108024691358025*M**2*R*epsilon**3 - 0.00848765432098765*M**2*R*epsilon**2 - 0.00192901234567901*M**2*R*epsilon - 0.000192901234567901*M**2*R - 0.00925925925925926*M**2*S*UGA_prime_star*epsilon**3 + 0.00462962962962963*M**2*S*UGA_prime_star*epsilon**2 + 0.00231481481481481*M**2*S*UGA_prime_star*epsilon - 0.00115740740740741*M**2*S*UGA_prime_star + 0.0200617283950617*M**2*S*epsilon**3 + 0.00848765432098765*M**2*S*epsilon**2 - 0.000385802469135802*M**2*S*epsilon + 0.000192901234567901*M**2*S + 0.0200617283950617*M**2*T*epsilon**3 + 0.0108024691358025*M**2*T*epsilon**2 - 0.000385802469135802*M**2*T*epsilon - 0.000385802469135802*M**2*T + 0.0709876543209877*M*P**2*epsilon**3 + 0.0601851851851852*M*P**2*epsilon**2 + 0.00925925925925926*M*P**2*epsilon - 0.00154320987654321*M*P**2 - 0.0277777777777778*M*P*R*UGA_prime_star*epsilon**3 + 0.00462962962962963*M*P*R*UGA_prime_star*epsilon**2 + 0.00694444444444444*M*P*R*UGA_prime_star*epsilon - 0.00115740740740741*M*P*R*UGA_prime_star + 0.0200617283950617*M*P*R*epsilon**3 + 0.0138888888888889*M*P*R*epsilon**2 + 0.00347222222222222*M*P*R*epsilon + 0.000771604938271605*M*P*R + 0.0277777777777778*M*P*S*UGA_prime_star*epsilon**3 - 0.00462962962962963*M*P*S*UGA_prime_star*epsilon**2 - 0.00694444444444444*M*P*S*UGA_prime_star*epsilon + 0.00115740740740741*M*P*S*UGA_prime_star - 0.0709876543209877*M*P*S*epsilon**3 - 0.0462962962962963*M*P*S*epsilon**2 - 0.00925925925925926*M*P*S*epsilon - 0.00192901234567901*M*P*S - 0.0725308641975309*M*P*T*epsilon**3 - 0.0570987654320988*M*P*T*epsilon**2 - 0.00887345679012346*M*P*T*epsilon + 0.000771604938271605*M*P*T + 0.00462962962962963*M*R*S*UGA_prime_star*epsilon**2 - 0.00115740740740741*M*R*S*UGA_prime_star + 0.00925925925925926*M*R*T*UGA_prime_star*epsilon**3 - 0.00231481481481481*M*R*T*UGA_prime_star*epsilon - 0.00462962962962963*M*S**2*UGA_prime_star*epsilon**2 + 0.00115740740740741*M*S**2*UGA_prime_star + 0.00617283950617284*M*S**2*epsilon**3 + 0.00848765432098765*M*S**2*epsilon**2 + 0.00308641975308642*M*S**2*epsilon + 0.000192901234567901*M*S**2 - 0.00925925925925926*M*S*T*UGA_prime_star*epsilon**3 + 0.00231481481481481*M*S*T*UGA_prime_star*epsilon + 0.0216049382716049*M*S*T*epsilon**3 + 0.0169753086419753*M*S*T*epsilon**2 + 0.00385802469135802*M*S*T*epsilon + 0.000385802469135802*M*S*T + 0.0138888888888889*M*T**2*epsilon**3 + 0.00925925925925926*M*T**2*epsilon**2 + 0.00115740740740741*M*T**2*epsilon - 0.0416666666666667*P**3*epsilon**3 - 0.0416666666666667*P**3*epsilon**2 - 0.0104166666666667*P**3*epsilon + 0.0185185185185185*P**2*R*UGA_prime_star*epsilon**3 - 0.00462962962962963*P**2*R*UGA_prime_star*epsilon - 0.00925925925925926*P**2*R*epsilon**3 - 0.00540123456790123*P**2*R*epsilon**2 - 0.00154320987654321*P**2*R*epsilon - 0.000578703703703704*P**2*R - 0.0185185185185185*P**2*S*UGA_prime_star*epsilon**3 + 0.00462962962962963*P**2*S*UGA_prime_star*epsilon + 0.0493827160493827*P**2*S*epsilon**3 + 0.033179012345679*P**2*S*epsilon**2 + 0.00848765432098765*P**2*S*epsilon + 0.00212191358024691*P**2*S + 0.0416666666666667*P**2*T*epsilon**3 + 0.0416666666666667*P**2*T*epsilon**2 + 0.0104166666666667*P**2*T*epsilon - 0.00462962962962963*P*R*S*UGA_prime_star*epsilon**2 + 0.00115740740740741*P*R*S*UGA_prime_star - 0.00925925925925926*P*R*T*UGA_prime_star*epsilon**3 + 0.00231481481481481*P*R*T*UGA_prime_star*epsilon + 0.00462962962962963*P*S**2*UGA_prime_star*epsilon**2 - 0.00115740740740741*P*S**2*UGA_prime_star - 0.00617283950617284*P*S**2*epsilon**3 - 0.00771604938271605*P*S**2*epsilon**2 - 0.00270061728395062*P*S**2*epsilon - 0.000192901234567901*P*S**2 + 0.00925925925925926*P*S*T*UGA_prime_star*epsilon**3 - 0.00231481481481481*P*S*T*UGA_prime_star*epsilon - 0.0200617283950617*P*S*T*epsilon**3 - 0.0138888888888889*P*S*T*epsilon**2 - 0.00347222222222222*P*S*T*epsilon - 0.000771604938271605*P*S*T - 0.00925925925925926*P*T**2*epsilon**3 - 0.00848765432098765*P*T**2*epsilon**2 - 0.00192901234567901*P*T**2*epsilon) + N_G*UGA_star*UgA_star**2*(-0.00771604938271605*M**2*P*epsilon**3 + 0.00154320987654321*M**2*P*epsilon**2 + 0.00192901234567901*M**2*P*epsilon - 0.000385802469135802*M**2*P - 0.00925925925925926*M**2*R*epsilon**3 + 0.00231481481481481*M**2*R*epsilon**2 + 0.00231481481481481*M**2*R*epsilon - 0.000578703703703704*M**2*R + 0.00925925925925926*M**2*S*epsilon**3 - 0.00231481481481481*M**2*S*epsilon**2 - 0.00231481481481481*M**2*S*epsilon + 0.000578703703703704*M**2*S + 0.00771604938271605*M**2*T*epsilon**3 - 0.00154320987654321*M**2*T*epsilon**2 - 0.00192901234567901*M**2*T*epsilon + 0.000385802469135802*M**2*T + 0.0262345679012346*M*P**2*epsilon**3 + 0.00154320987654321*M*P**2*epsilon**2 - 0.00501543209876543*M*P**2*epsilon + 0.000385802469135802*M*P**2 + 0.0339506172839506*M*P*R*epsilon**3 + 0.000771604938271605*M*P*R*epsilon**2 - 0.00694444444444444*M*P*R*epsilon + 0.000578703703703704*M*P*R - 0.0354938271604938*M*P*S*epsilon**3 - 0.00385802469135802*M*P*S*epsilon**2 + 0.00655864197530864*M*P*S*epsilon - 0.000192901234567901*M*P*S - 0.0354938271604938*M*P*T*epsilon**3 - 0.00308641975308642*M*P*T*epsilon**2 + 0.00655864197530864*M*P*T*epsilon - 0.000385802469135802*M*P*T - 0.00308641975308642*M*R*S*epsilon**3 - 0.00385802469135802*M*R*S*epsilon**2 + 0.000578703703703704*M*R*S - 0.0123456790123457*M*R*T*epsilon**3 - 0.00154320987654321*M*R*T*epsilon**2 + 0.00231481481481481*M*R*T*epsilon + 0.00308641975308642*M*S**2*epsilon**3 + 0.00385802469135802*M*S**2*epsilon**2 - 0.000578703703703704*M*S**2 + 0.0138888888888889*M*S*T*epsilon**3 + 0.00462962962962963*M*S*T*epsilon**2 - 0.00192901234567901*M*S*T*epsilon - 0.000385802469135802*M*S*T + 0.00925925925925926*M*T**2*epsilon**3 + 0.00154320987654321*M*T**2*epsilon**2 - 0.00154320987654321*M*T**2*epsilon - 0.0185185185185185*P**3*epsilon**3 - 0.00308641975308642*P**3*epsilon**2 + 0.00308641975308642*P**3*epsilon - 0.0246913580246914*P**2*R*epsilon**3 - 0.00308641975308642*P**2*R*epsilon**2 + 0.00462962962962963*P**2*R*epsilon + 0.0262345679012346*P**2*S*epsilon**3 + 0.00617283950617284*P**2*S*epsilon**2 - 0.00424382716049383*P**2*S*epsilon - 0.000385802469135802*P**2*S + 0.0277777777777778*P**2*T*epsilon**3 + 0.00462962962962963*P**2*T*epsilon**2 - 0.00462962962962963*P**2*T*epsilon + 0.00308641975308642*P*R*S*epsilon**3 + 0.00385802469135802*P*R*S*epsilon**2 - 0.000578703703703704*P*R*S + 0.0123456790123457*P*R*T*epsilon**3 + 0.00154320987654321*P*R*T*epsilon**2 - 0.00231481481481481*P*R*T*epsilon - 0.00308641975308642*P*S**2*epsilon**3 - 0.00385802469135802*P*S**2*epsilon**2 + 0.000578703703703704*P*S**2 - 0.0138888888888889*P*S*T*epsilon**3 - 0.00462962962962963*P*S*T*epsilon**2 + 0.00192901234567901*P*S*T*epsilon + 0.000385802469135802*P*S*T - 0.00925925925925926*P*T**2*epsilon**3 - 0.00154320987654321*P*T**2*epsilon**2 + 0.00154320987654321*P*T**2*epsilon) + N_G*UGA_star*UgA_star*(0.0154320987654321*M**2*P*epsilon**3 - 0.00308641975308642*M**2*P*epsilon**2 - 0.00385802469135802*M**2*P*epsilon + 0.000771604938271605*M**2*P - 0.00925925925925926*M**2*S*epsilon**3 + 0.00231481481481481*M**2*S*epsilon**2 + 0.00231481481481481*M**2*S*epsilon - 0.000578703703703704*M**2*S - 0.00771604938271605*M**2*T*epsilon**3 + 0.00154320987654321*M**2*T*epsilon**2 + 0.00192901234567901*M**2*T*epsilon - 0.000385802469135802*M**2*T - 0.0524691358024691*M*P**2*epsilon**3 - 0.00308641975308642*M*P**2*epsilon**2 + 0.0100308641975309*M*P**2*epsilon - 0.000771604938271605*M*P**2 + 0.037037037037037*M*P*S*epsilon**3 + 0.00694444444444444*M*P*S*epsilon**2 - 0.00617283950617284*M*P*S*epsilon - 0.000192901234567901*M*P*S + 0.0447530864197531*M*P*T*epsilon**3 + 0.00462962962962963*M*P*T*epsilon**2 - 0.00810185185185185*M*P*T*epsilon + 0.000385802469135802*M*P*T - 0.00308641975308642*M*S**2*epsilon**3 - 0.00385802469135802*M*S**2*epsilon**2 + 0.000578703703703704*M*S**2 - 0.0138888888888889*M*S*T*epsilon**3 - 0.00462962962962963*M*S*T*epsilon**2 + 0.00192901234567901*M*S*T*epsilon + 0.000385802469135802*M*S*T - 0.00925925925925926*M*T**2*epsilon**3 - 0.00154320987654321*M*T**2*epsilon**2 + 0.00154320987654321*M*T**2*epsilon + 0.037037037037037*P**3*epsilon**3 + 0.00617283950617284*P**3*epsilon**2 - 0.00617283950617284*P**3*epsilon - 0.0277777777777778*P**2*S*epsilon**3 - 0.00925925925925926*P**2*S*epsilon**2 + 0.00385802469135802*P**2*S*epsilon + 0.000771604938271605*P**2*S - 0.037037037037037*P**2*T*epsilon**3 - 0.00617283950617284*P**2*T*epsilon**2 + 0.00617283950617284*P**2*T*epsilon + 0.00308641975308642*P*S**2*epsilon**3 + 0.00385802469135802*P*S**2*epsilon**2 - 0.000578703703703704*P*S**2 + 0.0138888888888889*P*S*T*epsilon**3 + 0.00462962962962963*P*S*T*epsilon**2 - 0.00192901234567901*P*S*T*epsilon - 0.000385802469135802*P*S*T + 0.00925925925925926*P*T**2*epsilon**3 + 0.00154320987654321*P*T**2*epsilon**2 - 0.00154320987654321*P*T**2*epsilon) + N_G*UGA_star*(-0.00308641975308642*M**3*UGA_prime_star*epsilon**3 + 0.00154320987654321*M**3*UGA_prime_star*epsilon**2 + 0.000771604938271605*M**3*UGA_prime_star*epsilon - 0.000385802469135802*M**3*UGA_prime_star - 0.00308641975308642*M**3*epsilon**3 - 0.000771604938271605*M**3*epsilon**2 + 0.000771604938271605*M**3*epsilon + 0.000192901234567901*M**3 + 0.00925925925925926*M**2*P*UGA_prime_star*epsilon**3 - 0.00154320987654321*M**2*P*UGA_prime_star*epsilon**2 - 0.00231481481481481*M**2*P*UGA_prime_star*epsilon + 0.000385802469135802*M**2*P*UGA_prime_star + 0.0262345679012346*M**2*P*epsilon**3 + 0.0216049382716049*M**2*P*epsilon**2 + 0.00270061728395062*M**2*P*epsilon - 0.000771604938271605*M**2*P - 0.00617283950617284*M**2*R*UGA_prime_star*epsilon**3 + 0.00154320987654321*M**2*R*UGA_prime_star*epsilon + 0.00925925925925926*M**2*S*UGA_prime_star*epsilon**3 - 0.00308641975308642*M**2*S*UGA_prime_star*epsilon**2 - 0.00231481481481481*M**2*S*UGA_prime_star*epsilon + 0.000771604938271605*M**2*S*UGA_prime_star - 0.0108024691358025*M**2*S*epsilon**3 - 0.00848765432098765*M**2*S*epsilon**2 - 0.00192901234567901*M**2*S*epsilon - 0.000192901234567901*M**2*S - 0.00308641975308642*M**2*T*UGA_prime_star*epsilon**3 + 0.000771604938271605*M**2*T*UGA_prime_star*epsilon - 0.0138888888888889*M**2*T*epsilon**3 - 0.00925925925925926*M**2*T*epsilon**2 - 0.00115740740740741*M**2*T*epsilon - 0.00617283950617284*M*P**2*UGA_prime_star*epsilon**3 + 0.00154320987654321*M*P**2*UGA_prime_star*epsilon - 0.0324074074074074*M*P**2*epsilon**3 - 0.0362654320987654*M*P**2*epsilon**2 - 0.00887345679012346*M*P**2*epsilon + 0.000578703703703704*M*P**2 + 0.0123456790123457*M*P*R*UGA_prime_star*epsilon**3 - 0.00308641975308642*M*P*R*UGA_prime_star*epsilon - 0.0216049382716049*M*P*S*UGA_prime_star*epsilon**3 + 0.00308641975308642*M*P*S*UGA_prime_star*epsilon**2 + 0.00540123456790123*M*P*S*UGA_prime_star*epsilon - 0.000771604938271605*M*P*S*UGA_prime_star + 0.0200617283950617*M*P*S*epsilon**3 + 0.0138888888888889*M*P*S*epsilon**2 + 0.00347222222222222*M*P*S*epsilon + 0.000771604938271605*M*P*S + 0.00308641975308642*M*P*T*UGA_prime_star*epsilon**3 - 0.000771604938271605*M*P*T*UGA_prime_star*epsilon + 0.0185185185185185*M*P*T*epsilon**3 + 0.0169753086419753*M*P*T*epsilon**2 + 0.00385802469135802*M*P*T*epsilon + 0.00154320987654321*M*S**2*UGA_prime_star*epsilon**2 - 0.000385802469135802*M*S**2*UGA_prime_star + 0.00308641975308642*M*S*T*UGA_prime_star*epsilon**3 - 0.000771604938271605*M*S*T*UGA_prime_star*epsilon + 0.00925925925925926*P**3*epsilon**3 + 0.0154320987654321*P**3*epsilon**2 + 0.00540123456790123*P**3*epsilon - 0.00617283950617284*P**2*R*UGA_prime_star*epsilon**3 + 0.00154320987654321*P**2*R*UGA_prime_star*epsilon + 0.0123456790123457*P**2*S*UGA_prime_star*epsilon**3 - 0.00308641975308642*P**2*S*UGA_prime_star*epsilon - 0.00925925925925926*P**2*S*epsilon**3 - 0.00540123456790123*P**2*S*epsilon**2 - 0.00154320987654321*P**2*S*epsilon - 0.000578703703703704*P**2*S - 0.00462962962962963*P**2*T*epsilon**3 - 0.00771604938271605*P**2*T*epsilon**2 - 0.00270061728395062*P**2*T*epsilon - 0.00154320987654321*P*S**2*UGA_prime_star*epsilon**2 + 0.000385802469135802*P*S**2*UGA_prime_star - 0.00308641975308642*P*S*T*UGA_prime_star*epsilon**3 + 0.000771604938271605*P*S*T*UGA_prime_star*epsilon) + N_G*UgA_star**2*(0.00462962962962963*M**2*P*epsilon**3 + 0.000771604938271605*M**2*P*epsilon**2 - 0.000771604938271605*M**2*P*epsilon + 0.00617283950617284*M**2*R*epsilon**3 + 0.000771604938271605*M**2*R*epsilon**2 - 0.00115740740740741*M**2*R*epsilon - 0.00617283950617284*M**2*S*epsilon**3 - 0.000771604938271605*M**2*S*epsilon**2 + 0.00115740740740741*M**2*S*epsilon - 0.00462962962962963*M**2*T*epsilon**3 - 0.000771604938271605*M**2*T*epsilon**2 + 0.000771604938271605*M**2*T*epsilon - 0.00925925925925926*M*P**2*epsilon**3 - 0.00154320987654321*M*P**2*epsilon**2 + 0.00154320987654321*M*P**2*epsilon - 0.0123456790123457*M*P*R*epsilon**3 - 0.00154320987654321*M*P*R*epsilon**2 + 0.00231481481481481*M*P*R*epsilon + 0.0123456790123457*M*P*S*epsilon**3 + 0.00154320987654321*M*P*S*epsilon**2 - 0.00231481481481481*M*P*S*epsilon + 0.00925925925925926*M*P*T*epsilon**3 + 0.00154320987654321*M*P*T*epsilon**2 - 0.00154320987654321*M*P*T*epsilon + 0.00462962962962963*P**3*epsilon**3 + 0.000771604938271605*P**3*epsilon**2 - 0.000771604938271605*P**3*epsilon + 0.00617283950617284*P**2*R*epsilon**3 + 0.000771604938271605*P**2*R*epsilon**2 - 0.00115740740740741*P**2*R*epsilon - 0.00617283950617284*P**2*S*epsilon**3 - 0.000771604938271605*P**2*S*epsilon**2 + 0.00115740740740741*P**2*S*epsilon - 0.00462962962962963*P**2*T*epsilon**3 - 0.000771604938271605*P**2*T*epsilon**2 + 0.000771604938271605*P**2*T*epsilon) + N_G*UgA_star*(-0.00925925925925926*M**2*P*epsilon**3 - 0.00154320987654321*M**2*P*epsilon**2 + 0.00154320987654321*M**2*P*epsilon + 0.00617283950617284*M**2*S*epsilon**3 + 0.000771604938271605*M**2*S*epsilon**2 - 0.00115740740740741*M**2*S*epsilon + 0.00462962962962963*M**2*T*epsilon**3 + 0.000771604938271605*M**2*T*epsilon**2 - 0.000771604938271605*M**2*T*epsilon + 0.0185185185185185*M*P**2*epsilon**3 + 0.00308641975308642*M*P**2*epsilon**2 - 0.00308641975308642*M*P**2*epsilon - 0.0123456790123457*M*P*S*epsilon**3 - 0.00154320987654321*M*P*S*epsilon**2 + 0.00231481481481481*M*P*S*epsilon - 0.00925925925925926*M*P*T*epsilon**3 - 0.00154320987654321*M*P*T*epsilon**2 + 0.00154320987654321*M*P*T*epsilon - 0.00925925925925926*P**3*epsilon**3 - 0.00154320987654321*P**3*epsilon**2 + 0.00154320987654321*P**3*epsilon + 0.00617283950617284*P**2*S*epsilon**3 + 0.000771604938271605*P**2*S*epsilon**2 - 0.00115740740740741*P**2*S*epsilon + 0.00462962962962963*P**2*T*epsilon**3 + 0.000771604938271605*P**2*T*epsilon**2 - 0.000771604938271605*P**2*T*epsilon) + N_G*(0.00308641975308642*M**3*UGA_prime_star*epsilon**3 - 0.000771604938271605*M**3*UGA_prime_star*epsilon + 0.00462962962962963*M**3*epsilon**3 + 0.00308641975308642*M**3*epsilon**2 + 0.000385802469135802*M**3*epsilon - 0.00617283950617284*M**2*P*UGA_prime_star*epsilon**3 + 0.00154320987654321*M**2*P*UGA_prime_star*epsilon - 0.00925925925925926*M**2*P*epsilon**3 - 0.00848765432098765*M**2*P*epsilon**2 - 0.00192901234567901*M**2*P*epsilon - 0.00308641975308642*M**2*S*UGA_prime_star*epsilon**3 + 0.000771604938271605*M**2*S*UGA_prime_star*epsilon + 0.00308641975308642*M*P**2*UGA_prime_star*epsilon**3 - 0.000771604938271605*M*P**2*UGA_prime_star*epsilon + 0.00462962962962963*M*P**2*epsilon**3 + 0.00771604938271605*M*P**2*epsilon**2 + 0.00270061728395062*M*P**2*epsilon + 0.00617283950617284*M*P*S*UGA_prime_star*epsilon**3 - 0.00154320987654321*M*P*S*UGA_prime_star*epsilon - 0.00231481481481481*P**3*epsilon**2 - 0.00115740740740741*P**3*epsilon - 0.00308641975308642*P**2*S*UGA_prime_star*epsilon**3 + 0.000771604938271605*P**2*S*UGA_prime_star*epsilon) + UGA_star**8*(0.00617283950617284*P**4*epsilon**3 - 0.00308641975308642*P**4*epsilon**2 + 0.0123456790123457*P**3*R*epsilon**3 - 0.00308641975308642*P**3*R*epsilon - 0.0123456790123457*P**3*S*epsilon**3 + 0.00308641975308642*P**3*S*epsilon - 0.0246913580246914*P**3*T*epsilon**3 + 0.0123456790123457*P**3*T*epsilon**2 + 0.00617283950617284*P**2*R**2*epsilon**3 + 0.00925925925925926*P**2*R**2*epsilon**2 - 0.00462962962962963*P**2*R**2*epsilon - 0.000771604938271605*P**2*R**2 - 0.0123456790123457*P**2*R*S*epsilon**3 - 0.0185185185185185*P**2*R*S*epsilon**2 + 0.00925925925925926*P**2*R*S*epsilon + 0.00154320987654321*P**2*R*S - 0.037037037037037*P**2*R*T*epsilon**3 + 0.00925925925925926*P**2*R*T*epsilon + 0.00617283950617284*P**2*S**2*epsilon**3 + 0.00925925925925926*P**2*S**2*epsilon**2 - 0.00462962962962963*P**2*S**2*epsilon - 0.000771604938271605*P**2*S**2 + 0.037037037037037*P**2*S*T*epsilon**3 - 0.00925925925925926*P**2*S*T*epsilon + 0.037037037037037*P**2*T**2*epsilon**3 - 0.0185185185185185*P**2*T**2*epsilon**2 + 0.00617283950617284*P*R**3*epsilon**2 - 0.00154320987654321*P*R**3 - 0.0185185185185185*P*R**2*S*epsilon**2 + 0.00462962962962963*P*R**2*S - 0.0123456790123457*P*R**2*T*epsilon**3 - 0.0185185185185185*P*R**2*T*epsilon**2 + 0.00925925925925926*P*R**2*T*epsilon + 0.00154320987654321*P*R**2*T + 0.0185185185185185*P*R*S**2*epsilon**2 - 0.00462962962962963*P*R*S**2 + 0.0246913580246914*P*R*S*T*epsilon**3 + 0.037037037037037*P*R*S*T*epsilon**2 - 0.0185185185185185*P*R*S*T*epsilon - 0.00308641975308642*P*R*S*T + 0.037037037037037*P*R*T**2*epsilon**3 - 0.00925925925925926*P*R*T**2*epsilon - 0.00617283950617284*P*S**3*epsilon**2 + 0.00154320987654321*P*S**3 - 0.0123456790123457*P*S**2*T*epsilon**3 - 0.0185185185185185*P*S**2*T*epsilon**2 + 0.00925925925925926*P*S**2*T*epsilon + 0.00154320987654321*P*S**2*T - 0.037037037037037*P*S*T**2*epsilon**3 + 0.00925925925925926*P*S*T**2*epsilon - 0.0246913580246914*P*T**3*epsilon**3 + 0.0123456790123457*P*T**3*epsilon**2 + 0.00154320987654321*R**4*epsilon - 0.000771604938271605*R**4 - 0.00617283950617284*R**3*S*epsilon + 0.00308641975308642*R**3*S - 0.00617283950617284*R**3*T*epsilon**2 + 0.00154320987654321*R**3*T + 0.00925925925925926*R**2*S**2*epsilon - 0.00462962962962963*R**2*S**2 + 0.0185185185185185*R**2*S*T*epsilon**2 - 0.00462962962962963*R**2*S*T + 0.00617283950617284*R**2*T**2*epsilon**3 + 0.00925925925925926*R**2*T**2*epsilon**2 - 0.00462962962962963*R**2*T**2*epsilon - 0.000771604938271605*R**2*T**2 - 0.00617283950617284*R*S**3*epsilon + 0.00308641975308642*R*S**3 - 0.0185185185185185*R*S**2*T*epsilon**2 + 0.00462962962962963*R*S**2*T - 0.0123456790123457*R*S*T**2*epsilon**3 - 0.0185185185185185*R*S*T**2*epsilon**2 + 0.00925925925925926*R*S*T**2*epsilon + 0.00154320987654321*R*S*T**2 - 0.0123456790123457*R*T**3*epsilon**3 + 0.00308641975308642*R*T**3*epsilon + 0.00154320987654321*S**4*epsilon - 0.000771604938271605*S**4 + 0.00617283950617284*S**3*T*epsilon**2 - 0.00154320987654321*S**3*T + 0.00617283950617284*S**2*T**2*epsilon**3 + 0.00925925925925926*S**2*T**2*epsilon**2 - 0.00462962962962963*S**2*T**2*epsilon - 0.000771604938271605*S**2*T**2 + 0.0123456790123457*S*T**3*epsilon**3 - 0.00308641975308642*S*T**3*epsilon + 0.00617283950617284*T**4*epsilon**3 - 0.00308641975308642*T**4*epsilon**2) + UGA_star**7*(0.0123456790123457*M*P**3*epsilon**3 - 0.0123456790123457*M*P**3*epsilon**2 + 0.00308641975308642*M*P**3*epsilon + 0.0246913580246914*M*P**2*R*epsilon**3 - 0.0185185185185185*M*P**2*R*epsilon**2 + 0.00154320987654321*M*P**2*R - 0.0246913580246914*M*P**2*S*epsilon**3 + 0.0185185185185185*M*P**2*S*epsilon**2 - 0.00154320987654321*M*P**2*S - 0.037037037037037*M*P**2*T*epsilon**3 + 0.037037037037037*M*P**2*T*epsilon**2 - 0.00925925925925926*M*P**2*T*epsilon + 0.0123456790123457*M*P*R**2*epsilon**3 - 0.00925925925925926*M*P*R**2*epsilon + 0.00308641975308642*M*P*R**2 - 0.0246913580246914*M*P*R*S*epsilon**3 + 0.0185185185185185*M*P*R*S*epsilon - 0.00617283950617284*M*P*R*S - 0.0493827160493827*M*P*R*T*epsilon**3 + 0.037037037037037*M*P*R*T*epsilon**2 - 0.00308641975308642*M*P*R*T + 0.0123456790123457*M*P*S**2*epsilon**3 - 0.00925925925925926*M*P*S**2*epsilon + 0.00308641975308642*M*P*S**2 + 0.0493827160493827*M*P*S*T*epsilon**3 - 0.037037037037037*M*P*S*T*epsilon**2 + 0.00308641975308642*M*P*S*T + 0.037037037037037*M*P*T**2*epsilon**3 - 0.037037037037037*M*P*T**2*epsilon**2 + 0.00925925925925926*M*P*T**2*epsilon + 0.00617283950617284*M*R**3*epsilon**2 - 0.00617283950617284*M*R**3*epsilon + 0.00154320987654321*M*R**3 - 0.0185185185185185*M*R**2*S*epsilon**2 + 0.0185185185185185*M*R**2*S*epsilon - 0.00462962962962963*M*R**2*S - 0.0123456790123457*M*R**2*T*epsilon**3 + 0.00925925925925926*M*R**2*T*epsilon - 0.00308641975308642*M*R**2*T + 0.0185185185185185*M*R*S**2*epsilon**2 - 0.0185185185185185*M*R*S**2*epsilon + 0.00462962962962963*M*R*S**2 + 0.0246913580246914*M*R*S*T*epsilon**3 - 0.0185185185185185*M*R*S*T*epsilon + 0.00617283950617284*M*R*S*T + 0.0246913580246914*M*R*T**2*epsilon**3 - 0.0185185185185185*M*R*T**2*epsilon**2 + 0.00154320987654321*M*R*T**2 - 0.00617283950617284*M*S**3*epsilon**2 + 0.00617283950617284*M*S**3*epsilon - 0.00154320987654321*M*S**3 - 0.0123456790123457*M*S**2*T*epsilon**3 + 0.00925925925925926*M*S**2*T*epsilon - 0.00308641975308642*M*S**2*T - 0.0246913580246914*M*S*T**2*epsilon**3 + 0.0185185185185185*M*S*T**2*epsilon**2 - 0.00154320987654321*M*S*T**2 - 0.0123456790123457*M*T**3*epsilon**3 + 0.0123456790123457*M*T**3*epsilon**2 - 0.00308641975308642*M*T**3*epsilon - 0.0493827160493827*P**4*epsilon**3 + 0.0246913580246914*P**4*epsilon**2 - 0.0740740740740741*P**3*R*epsilon**3 + 0.0185185185185185*P**3*R*epsilon + 0.0864197530864197*P**3*S*epsilon**3 - 0.0216049382716049*P**3*S*epsilon + 0.172839506172839*P**3*T*epsilon**3 - 0.0864197530864197*P**3*T*epsilon**2 - 0.0246913580246914*P**2*R**2*epsilon**3 - 0.037037037037037*P**2*R**2*epsilon**2 + 0.0185185185185185*P**2*R**2*epsilon + 0.00308641975308642*P**2*R**2 + 0.0617283950617284*P**2*R*S*epsilon**3 + 0.0925925925925926*P**2*R*S*epsilon**2 - 0.0462962962962963*P**2*R*S*epsilon - 0.00771604938271605*P**2*R*S + 0.185185185185185*P**2*R*T*epsilon**3 - 0.0462962962962963*P**2*R*T*epsilon - 0.037037037037037*P**2*S**2*epsilon**3 - 0.0555555555555556*P**2*S**2*epsilon**2 + 0.0277777777777778*P**2*S**2*epsilon + 0.00462962962962963*P**2*S**2 - 0.222222222222222*P**2*S*T*epsilon**3 + 0.0555555555555556*P**2*S*T*epsilon - 0.222222222222222*P**2*T**2*epsilon**3 + 0.111111111111111*P**2*T**2*epsilon**2 - 0.0123456790123457*P*R**3*epsilon**2 + 0.00308641975308642*P*R**3 + 0.0555555555555556*P*R**2*S*epsilon**2 - 0.0138888888888889*P*R**2*S + 0.037037037037037*P*R**2*T*epsilon**3 + 0.0555555555555556*P*R**2*T*epsilon**2 - 0.0277777777777778*P*R**2*T*epsilon - 0.00462962962962963*P*R**2*T - 0.0740740740740741*P*R*S**2*epsilon**2 + 0.0185185185185185*P*R*S**2 - 0.0987654320987654*P*R*S*T*epsilon**3 - 0.148148148148148*P*R*S*T*epsilon**2 + 0.0740740740740741*P*R*S*T*epsilon + 0.0123456790123457*P*R*S*T - 0.148148148148148*P*R*T**2*epsilon**3 + 0.037037037037037*P*R*T**2*epsilon + 0.0308641975308642*P*S**3*epsilon**2 - 0.00771604938271605*P*S**3 + 0.0617283950617284*P*S**2*T*epsilon**3 + 0.0925925925925926*P*S**2*T*epsilon**2 - 0.0462962962962963*P*S**2*T*epsilon - 0.00771604938271605*P*S**2*T + 0.185185185185185*P*S*T**2*epsilon**3 - 0.0462962962962963*P*S*T**2*epsilon + 0.123456790123457*P*T**3*epsilon**3 - 0.0617283950617284*P*T**3*epsilon**2 + 0.00617283950617284*R**3*S*epsilon - 0.00308641975308642*R**3*S + 0.00617283950617284*R**3*T*epsilon**2 - 0.00154320987654321*R**3*T - 0.0185185185185185*R**2*S**2*epsilon + 0.00925925925925926*R**2*S**2 - 0.037037037037037*R**2*S*T*epsilon**2 + 0.00925925925925926*R**2*S*T - 0.0123456790123457*R**2*T**2*epsilon**3 - 0.0185185185185185*R**2*T**2*epsilon**2 + 0.00925925925925926*R**2*T**2*epsilon + 0.00154320987654321*R**2*T**2 + 0.0185185185185185*R*S**3*epsilon - 0.00925925925925926*R*S**3 + 0.0555555555555556*R*S**2*T*epsilon**2 - 0.0138888888888889*R*S**2*T + 0.037037037037037*R*S*T**2*epsilon**3 + 0.0555555555555556*R*S*T**2*epsilon**2 - 0.0277777777777778*R*S*T**2*epsilon - 0.00462962962962963*R*S*T**2 + 0.037037037037037*R*T**3*epsilon**3 - 0.00925925925925926*R*T**3*epsilon - 0.00617283950617284*S**4*epsilon + 0.00308641975308642*S**4 - 0.0246913580246914*S**3*T*epsilon**2 + 0.00617283950617284*S**3*T - 0.0246913580246914*S**2*T**2*epsilon**3 - 0.037037037037037*S**2*T**2*epsilon**2 + 0.0185185185185185*S**2*T**2*epsilon + 0.00308641975308642*S**2*T**2 - 0.0493827160493827*S*T**3*epsilon**3 + 0.0123456790123457*S*T**3*epsilon - 0.0246913580246914*T**4*epsilon**3 + 0.0123456790123457*T**4*epsilon**2) + UGA_star**6*UgA_star**2*(-0.00617283950617284*P**4*epsilon**3 + 0.00308641975308642*P**4*epsilon**2 - 0.0123456790123457*P**3*R*epsilon**3 + 0.00308641975308642*P**3*R*epsilon + 0.0123456790123457*P**3*S*epsilon**3 - 0.00308641975308642*P**3*S*epsilon + 0.0246913580246914*P**3*T*epsilon**3 - 0.0123456790123457*P**3*T*epsilon**2 - 0.00617283950617284*P**2*R**2*epsilon**3 - 0.00925925925925926*P**2*R**2*epsilon**2 + 0.00462962962962963*P**2*R**2*epsilon + 0.000771604938271605*P**2*R**2 + 0.0123456790123457*P**2*R*S*epsilon**3 + 0.0185185185185185*P**2*R*S*epsilon**2 - 0.00925925925925926*P**2*R*S*epsilon - 0.00154320987654321*P**2*R*S + 0.037037037037037*P**2*R*T*epsilon**3 - 0.00925925925925926*P**2*R*T*epsilon - 0.00617283950617284*P**2*S**2*epsilon**3 - 0.00925925925925926*P**2*S**2*epsilon**2 + 0.00462962962962963*P**2*S**2*epsilon + 0.000771604938271605*P**2*S**2 - 0.037037037037037*P**2*S*T*epsilon**3 + 0.00925925925925926*P**2*S*T*epsilon - 0.037037037037037*P**2*T**2*epsilon**3 + 0.0185185185185185*P**2*T**2*epsilon**2 - 0.00617283950617284*P*R**3*epsilon**2 + 0.00154320987654321*P*R**3 + 0.0185185185185185*P*R**2*S*epsilon**2 - 0.00462962962962963*P*R**2*S + 0.0123456790123457*P*R**2*T*epsilon**3 + 0.0185185185185185*P*R**2*T*epsilon**2 - 0.00925925925925926*P*R**2*T*epsilon - 0.00154320987654321*P*R**2*T - 0.0185185185185185*P*R*S**2*epsilon**2 + 0.00462962962962963*P*R*S**2 - 0.0246913580246914*P*R*S*T*epsilon**3 - 0.037037037037037*P*R*S*T*epsilon**2 + 0.0185185185185185*P*R*S*T*epsilon + 0.00308641975308642*P*R*S*T - 0.037037037037037*P*R*T**2*epsilon**3 + 0.00925925925925926*P*R*T**2*epsilon + 0.00617283950617284*P*S**3*epsilon**2 - 0.00154320987654321*P*S**3 + 0.0123456790123457*P*S**2*T*epsilon**3 + 0.0185185185185185*P*S**2*T*epsilon**2 - 0.00925925925925926*P*S**2*T*epsilon - 0.00154320987654321*P*S**2*T + 0.037037037037037*P*S*T**2*epsilon**3 - 0.00925925925925926*P*S*T**2*epsilon + 0.0246913580246914*P*T**3*epsilon**3 - 0.0123456790123457*P*T**3*epsilon**2 - 0.00154320987654321*R**4*epsilon + 0.000771604938271605*R**4 + 0.00617283950617284*R**3*S*epsilon - 0.00308641975308642*R**3*S + 0.00617283950617284*R**3*T*epsilon**2 - 0.00154320987654321*R**3*T - 0.00925925925925926*R**2*S**2*epsilon + 0.00462962962962963*R**2*S**2 - 0.0185185185185185*R**2*S*T*epsilon**2 + 0.00462962962962963*R**2*S*T - 0.00617283950617284*R**2*T**2*epsilon**3 - 0.00925925925925926*R**2*T**2*epsilon**2 + 0.00462962962962963*R**2*T**2*epsilon + 0.000771604938271605*R**2*T**2 + 0.00617283950617284*R*S**3*epsilon - 0.00308641975308642*R*S**3 + 0.0185185185185185*R*S**2*T*epsilon**2 - 0.00462962962962963*R*S**2*T + 0.0123456790123457*R*S*T**2*epsilon**3 + 0.0185185185185185*R*S*T**2*epsilon**2 - 0.00925925925925926*R*S*T**2*epsilon - 0.00154320987654321*R*S*T**2 + 0.0123456790123457*R*T**3*epsilon**3 - 0.00308641975308642*R*T**3*epsilon - 0.00154320987654321*S**4*epsilon + 0.000771604938271605*S**4 - 0.00617283950617284*S**3*T*epsilon**2 + 0.00154320987654321*S**3*T - 0.00617283950617284*S**2*T**2*epsilon**3 - 0.00925925925925926*S**2*T**2*epsilon**2 + 0.00462962962962963*S**2*T**2*epsilon + 0.000771604938271605*S**2*T**2 - 0.0123456790123457*S*T**3*epsilon**3 + 0.00308641975308642*S*T**3*epsilon - 0.00617283950617284*T**4*epsilon**3 + 0.00308641975308642*T**4*epsilon**2) + UGA_star**6*UgA_star*(0.0123456790123457*P**4*epsilon**3 - 0.00617283950617284*P**4*epsilon**2 + 0.0123456790123457*P**3*R*epsilon**3 + 0.00617283950617284*P**3*R*epsilon**2 - 0.00617283950617284*P**3*R*epsilon - 0.0185185185185185*P**3*S*epsilon**3 - 0.00308641975308642*P**3*S*epsilon**2 + 0.00617283950617284*P**3*S*epsilon - 0.0432098765432099*P**3*T*epsilon**3 + 0.0216049382716049*P**3*T*epsilon**2 + 0.0123456790123457*P**2*R**2*epsilon**2 - 0.00308641975308642*P**2*R**2*epsilon - 0.00154320987654321*P**2*R**2 - 0.00617283950617284*P**2*R*S*epsilon**3 - 0.0277777777777778*P**2*R*S*epsilon**2 + 0.00925925925925926*P**2*R*S*epsilon + 0.00308641975308642*P**2*R*S - 0.0308641975308642*P**2*R*T*epsilon**3 - 0.0154320987654321*P**2*R*T*epsilon**2 + 0.0154320987654321*P**2*R*T*epsilon + 0.00617283950617284*P**2*S**2*epsilon**3 + 0.0154320987654321*P**2*S**2*epsilon**2 - 0.00617283950617284*P**2*S**2*epsilon - 0.00154320987654321*P**2*S**2 + 0.0493827160493827*P**2*S*T*epsilon**3 + 0.00617283950617284*P**2*S*T*epsilon**2 - 0.0154320987654321*P**2*S*T*epsilon + 0.0555555555555556*P**2*T**2*epsilon**3 - 0.0277777777777778*P**2*T**2*epsilon**2 + 0.00308641975308642*P*R**3*epsilon - 0.00154320987654321*P*R**3 - 0.00617283950617284*P*R**2*S*epsilon**2 - 0.00771604938271605*P*R**2*S*epsilon + 0.00540123456790123*P*R**2*S - 0.0185185185185185*P*R**2*T*epsilon**2 + 0.00462962962962963*P*R**2*T*epsilon + 0.00231481481481481*P*R**2*T + 0.0123456790123457*P*R*S**2*epsilon**2 + 0.00617283950617284*P*R*S**2*epsilon - 0.00617283950617284*P*R*S**2 + 0.0123456790123457*P*R*S*T*epsilon**3 + 0.0432098765432099*P*R*S*T*epsilon**2 - 0.0154320987654321*P*R*S*T*epsilon - 0.00462962962962963*P*R*S*T + 0.0246913580246914*P*R*T**2*epsilon**3 + 0.0123456790123457*P*R*T**2*epsilon**2 - 0.0123456790123457*P*R*T**2*epsilon - 0.00617283950617284*P*S**3*epsilon**2 - 0.00154320987654321*P*S**3*epsilon + 0.00231481481481481*P*S**3 - 0.0123456790123457*P*S**2*T*epsilon**3 - 0.0246913580246914*P*S**2*T*epsilon**2 + 0.0108024691358025*P*S**2*T*epsilon + 0.00231481481481481*P*S**2*T - 0.0432098765432099*P*S*T**2*epsilon**3 - 0.00308641975308642*P*S*T**2*epsilon**2 + 0.0123456790123457*P*S*T**2*epsilon - 0.0308641975308642*P*T**3*epsilon**3 + 0.0154320987654321*P*T**3*epsilon**2 - 0.00154320987654321*R**3*S*epsilon + 0.000771604938271605*R**3*S - 0.00154320987654321*R**3*T*epsilon + 0.000771604938271605*R**3*T + 0.00462962962962963*R**2*S**2*epsilon - 0.00231481481481481*R**2*S**2 + 0.00617283950617284*R**2*S*T*epsilon**2 + 0.00308641975308642*R**2*S*T*epsilon - 0.00308641975308642*R**2*S*T + 0.00617283950617284*R**2*T**2*epsilon**2 - 0.00154320987654321*R**2*T**2*epsilon - 0.000771604938271605*R**2*T**2 - 0.00462962962962963*R*S**3*epsilon + 0.00231481481481481*R*S**3 - 0.0123456790123457*R*S**2*T*epsilon**2 - 0.00154320987654321*R*S**2*T*epsilon + 0.00385802469135802*R*S**2*T - 0.00617283950617284*R*S*T**2*epsilon**3 - 0.0154320987654321*R*S*T**2*epsilon**2 + 0.00617283950617284*R*S*T**2*epsilon + 0.00154320987654321*R*S*T**2 - 0.00617283950617284*R*T**3*epsilon**3 - 0.00308641975308642*R*T**3*epsilon**2 + 0.00308641975308642*R*T**3*epsilon + 0.00154320987654321*S**4*epsilon - 0.000771604938271605*S**4 + 0.00617283950617284*S**3*T*epsilon**2 - 0.00154320987654321*S**3*T + 0.00617283950617284*S**2*T**2*epsilon**3 + 0.00925925925925926*S**2*T**2*epsilon**2 - 0.00462962962962963*S**2*T**2*epsilon - 0.000771604938271605*S**2*T**2 + 0.0123456790123457*S*T**3*epsilon**3 - 0.00308641975308642*S*T**3*epsilon + 0.00617283950617284*T**4*epsilon**3 - 0.00308641975308642*T**4*epsilon**2) + UGA_star**6*(0.00617283950617284*M**2*P**2*epsilon**3 - 0.00925925925925926*M**2*P**2*epsilon**2 + 0.00462962962962963*M**2*P**2*epsilon - 0.000771604938271605*M**2*P**2 + 0.0123456790123457*M**2*P*R*epsilon**3 - 0.0185185185185185*M**2*P*R*epsilon**2 + 0.00925925925925926*M**2*P*R*epsilon - 0.00154320987654321*M**2*P*R - 0.0123456790123457*M**2*P*S*epsilon**3 + 0.0185185185185185*M**2*P*S*epsilon**2 - 0.00925925925925926*M**2*P*S*epsilon + 0.00154320987654321*M**2*P*S - 0.0123456790123457*M**2*P*T*epsilon**3 + 0.0185185185185185*M**2*P*T*epsilon**2 - 0.00925925925925926*M**2*P*T*epsilon + 0.00154320987654321*M**2*P*T + 0.00617283950617284*M**2*R**2*epsilon**3 - 0.00925925925925926*M**2*R**2*epsilon**2 + 0.00462962962962963*M**2*R**2*epsilon - 0.000771604938271605*M**2*R**2 - 0.0123456790123457*M**2*R*S*epsilon**3 + 0.0185185185185185*M**2*R*S*epsilon**2 - 0.00925925925925926*M**2*R*S*epsilon + 0.00154320987654321*M**2*R*S - 0.0123456790123457*M**2*R*T*epsilon**3 + 0.0185185185185185*M**2*R*T*epsilon**2 - 0.00925925925925926*M**2*R*T*epsilon + 0.00154320987654321*M**2*R*T + 0.00617283950617284*M**2*S**2*epsilon**3 - 0.00925925925925926*M**2*S**2*epsilon**2 + 0.00462962962962963*M**2*S**2*epsilon - 0.000771604938271605*M**2*S**2 + 0.0123456790123457*M**2*S*T*epsilon**3 - 0.0185185185185185*M**2*S*T*epsilon**2 + 0.00925925925925926*M**2*S*T*epsilon - 0.00154320987654321*M**2*S*T + 0.00617283950617284*M**2*T**2*epsilon**3 - 0.00925925925925926*M**2*T**2*epsilon**2 + 0.00462962962962963*M**2*T**2*epsilon - 0.000771604938271605*M**2*T**2 - 0.0987654320987654*M*P**3*epsilon**3 + 0.0864197530864197*M*P**3*epsilon**2 - 0.0185185185185185*M*P**3*epsilon - 0.135802469135802*M*P**2*R*epsilon**3 + 0.0740740740740741*M*P**2*R*epsilon**2 + 0.00925925925925926*M*P**2*R*epsilon - 0.00617283950617284*M*P**2*R + 0.160493827160494*M*P**2*S*epsilon**3 - 0.0925925925925926*M*P**2*S*epsilon**2 - 0.00925925925925926*M*P**2*S*epsilon + 0.00771604938271605*M*P**2*S + 0.259259259259259*M*P**2*T*epsilon**3 - 0.222222222222222*M*P**2*T*epsilon**2 + 0.0462962962962963*M*P**2*T*epsilon - 0.037037037037037*M*P*R**2*epsilon**3 - 0.0185185185185185*M*P*R**2*epsilon**2 + 0.0277777777777778*M*P*R**2*epsilon - 0.00462962962962963*M*P*R**2 + 0.0987654320987654*M*P*R*S*epsilon**3 + 0.037037037037037*M*P*R*S*epsilon**2 - 0.0740740740740741*M*P*R*S*epsilon + 0.0154320987654321*M*P*R*S + 0.222222222222222*M*P*R*T*epsilon**3 - 0.111111111111111*M*P*R*T*epsilon**2 - 0.0185185185185185*M*P*R*T*epsilon + 0.00925925925925926*M*P*R*T - 0.0617283950617284*M*P*S**2*epsilon**3 - 0.0185185185185185*M*P*S**2*epsilon**2 + 0.0462962962962963*M*P*S**2*epsilon - 0.0108024691358025*M*P*S**2 - 0.271604938271605*M*P*S*T*epsilon**3 + 0.148148148148148*M*P*S*T*epsilon**2 + 0.0185185185185185*M*P*S*T*epsilon - 0.0123456790123457*M*P*S*T - 0.222222222222222*M*P*T**2*epsilon**3 + 0.185185185185185*M*P*T**2*epsilon**2 - 0.037037037037037*M*P*T**2*epsilon - 0.00617283950617284*M*R**3*epsilon**2 + 0.00154320987654321*M*R**3 + 0.037037037037037*M*R**2*S*epsilon**2 - 0.0185185185185185*M*R**2*S*epsilon + 0.0246913580246914*M*R**2*T*epsilon**3 + 0.0185185185185185*M*R**2*T*epsilon**2 - 0.0185185185185185*M*R**2*T*epsilon + 0.00154320987654321*M*R**2*T - 0.0555555555555556*M*R*S**2*epsilon**2 + 0.037037037037037*M*R*S**2*epsilon - 0.00462962962962963*M*R*S**2 - 0.0740740740740741*M*R*S*T*epsilon**3 - 0.037037037037037*M*R*S*T*epsilon**2 + 0.0555555555555556*M*R*S*T*epsilon - 0.00925925925925926*M*R*S*T - 0.0864197530864197*M*R*T**2*epsilon**3 + 0.037037037037037*M*R*T**2*epsilon**2 + 0.00925925925925926*M*R*T**2*epsilon - 0.00308641975308642*M*R*T**2 + 0.0246913580246914*M*S**3*epsilon**2 - 0.0185185185185185*M*S**3*epsilon + 0.00308641975308642*M*S**3 + 0.0493827160493827*M*S**2*T*epsilon**3 + 0.0185185185185185*M*S**2*T*epsilon**2 - 0.037037037037037*M*S**2*T*epsilon + 0.00771604938271605*M*S**2*T + 0.111111111111111*M*S*T**2*epsilon**3 - 0.0555555555555556*M*S*T**2*epsilon**2 - 0.00925925925925926*M*S*T**2*epsilon + 0.00462962962962963*M*S*T**2 + 0.0617283950617284*M*T**3*epsilon**3 - 0.0493827160493827*M*T**3*epsilon**2 + 0.00925925925925926*M*T**3*epsilon + 0.166666666666667*P**4*epsilon**3 - 0.0833333333333333*P**4*epsilon**2 + 0.179012345679012*P**3*R*epsilon**3 - 0.00308641975308642*P**3*R*epsilon**2 - 0.0432098765432099*P**3*R*epsilon - 0.253086419753086*P**3*S*epsilon**3 + 0.00308641975308642*P**3*S*epsilon**2 + 0.0617283950617284*P**3*S*epsilon - 0.5*P**3*T*epsilon**3 + 0.25*P**3*T*epsilon**2 + 0.037037037037037*P**2*R**2*epsilon**3 + 0.0493827160493827*P**2*R**2*epsilon**2 - 0.0262345679012346*P**2*R**2*epsilon - 0.00385802469135802*P**2*R**2 - 0.123456790123457*P**2*R*S*epsilon**3 - 0.172839506172839*P**2*R*S*epsilon**2 + 0.0895061728395062*P**2*R*S*epsilon + 0.0138888888888889*P**2*R*S - 0.358024691358025*P**2*R*T*epsilon**3 + 0.00617283950617284*P**2*R*T*epsilon**2 + 0.0864197530864197*P**2*R*T*epsilon + 0.0925925925925926*P**2*S**2*epsilon**3 + 0.132716049382716*P**2*S**2*epsilon**2 - 0.0679012345679012*P**2*S**2*epsilon - 0.0108024691358025*P**2*S**2 + 0.54320987654321*P**2*S*T*epsilon**3 - 0.00617283950617284*P**2*S*T*epsilon**2 - 0.132716049382716*P**2*S*T*epsilon + 0.537037037037037*P**2*T**2*epsilon**3 - 0.268518518518519*P**2*T**2*epsilon**2 + 0.00617283950617284*P*R**3*epsilon**2 - 0.00154320987654321*P*R**3*epsilon - 0.000771604938271605*P*R**3 - 0.0555555555555556*P*R**2*S*epsilon**2 + 0.00462962962962963*P*R**2*S*epsilon + 0.0115740740740741*P*R**2*S - 0.037037037037037*P*R**2*T*epsilon**3 - 0.0493827160493827*P*R**2*T*epsilon**2 + 0.0262345679012346*P*R**2*T*epsilon + 0.00385802469135802*P*R**2*T + 0.111111111111111*P*R*S**2*epsilon**2 - 0.00462962962962963*P*R*S**2*epsilon - 0.025462962962963*P*R*S**2 + 0.148148148148148*P*R*S*T*epsilon**3 + 0.209876543209877*P*R*S*T*epsilon**2 - 0.108024691358025*P*R*S*T*epsilon - 0.0169753086419753*P*R*S*T + 0.216049382716049*P*R*T**2*epsilon**3 - 0.00308641975308642*P*R*T**2*epsilon**2 - 0.0524691358024691*P*R*T**2*epsilon - 0.0617283950617284*P*S**3*epsilon**2 + 0.00154320987654321*P*S**3*epsilon + 0.0146604938271605*P*S**3 - 0.123456790123457*P*S**2*T*epsilon**3 - 0.179012345679012*P*S**2*T*epsilon**2 + 0.0910493827160494*P*S**2*T*epsilon + 0.0146604938271605*P*S**2*T - 0.364197530864198*P*S*T**2*epsilon**3 + 0.00308641975308642*P*S*T**2*epsilon**2 + 0.0895061728395062*P*S*T**2*epsilon - 0.240740740740741*P*T**3*epsilon**3 + 0.12037037037037*P*T**3*epsilon**2 + 0.00925925925925926*R**2*S**2*epsilon - 0.00462962962962963*R**2*S**2 + 0.0185185185185185*R**2*S*T*epsilon**2 - 0.00462962962962963*R**2*S*T + 0.00617283950617284*R**2*T**2*epsilon**3 + 0.00925925925925926*R**2*T**2*epsilon**2 - 0.00462962962962963*R**2*T**2*epsilon - 0.000771604938271605*R**2*T**2 - 0.0185185185185185*R*S**3*epsilon + 0.00925925925925926*R*S**3 - 0.0555555555555556*R*S**2*T*epsilon**2 + 0.0138888888888889*R*S**2*T - 0.037037037037037*R*S*T**2*epsilon**3 - 0.0555555555555556*R*S*T**2*epsilon**2 + 0.0277777777777778*R*S*T**2*epsilon + 0.00462962962962963*R*S*T**2 - 0.037037037037037*R*T**3*epsilon**3 + 0.00925925925925926*R*T**3*epsilon + 0.00925925925925926*S**4*epsilon - 0.00462962962962963*S**4 + 0.037037037037037*S**3*T*epsilon**2 - 0.00925925925925926*S**3*T + 0.037037037037037*S**2*T**2*epsilon**3 + 0.0555555555555556*S**2*T**2*epsilon**2 - 0.0277777777777778*S**2*T**2*epsilon - 0.00462962962962963*S**2*T**2 + 0.0740740740740741*S*T**3*epsilon**3 - 0.0185185185185185*S*T**3*epsilon + 0.037037037037037*T**4*epsilon**3 - 0.0185185185185185*T**4*epsilon**2) + UGA_star**5*UgA_star**2*(-0.0123456790123457*M*P**3*epsilon**3 + 0.0123456790123457*M*P**3*epsilon**2 - 0.00308641975308642*M*P**3*epsilon - 0.0246913580246914*M*P**2*R*epsilon**3 + 0.0185185185185185*M*P**2*R*epsilon**2 - 0.00154320987654321*M*P**2*R + 0.0246913580246914*M*P**2*S*epsilon**3 - 0.0185185185185185*M*P**2*S*epsilon**2 + 0.00154320987654321*M*P**2*S + 0.037037037037037*M*P**2*T*epsilon**3 - 0.037037037037037*M*P**2*T*epsilon**2 + 0.00925925925925926*M*P**2*T*epsilon - 0.0123456790123457*M*P*R**2*epsilon**3 + 0.00925925925925926*M*P*R**2*epsilon - 0.00308641975308642*M*P*R**2 + 0.0246913580246914*M*P*R*S*epsilon**3 - 0.0185185185185185*M*P*R*S*epsilon + 0.00617283950617284*M*P*R*S + 0.0493827160493827*M*P*R*T*epsilon**3 - 0.037037037037037*M*P*R*T*epsilon**2 + 0.00308641975308642*M*P*R*T - 0.0123456790123457*M*P*S**2*epsilon**3 + 0.00925925925925926*M*P*S**2*epsilon - 0.00308641975308642*M*P*S**2 - 0.0493827160493827*M*P*S*T*epsilon**3 + 0.037037037037037*M*P*S*T*epsilon**2 - 0.00308641975308642*M*P*S*T - 0.037037037037037*M*P*T**2*epsilon**3 + 0.037037037037037*M*P*T**2*epsilon**2 - 0.00925925925925926*M*P*T**2*epsilon - 0.00617283950617284*M*R**3*epsilon**2 + 0.00617283950617284*M*R**3*epsilon - 0.00154320987654321*M*R**3 + 0.0185185185185185*M*R**2*S*epsilon**2 - 0.0185185185185185*M*R**2*S*epsilon + 0.00462962962962963*M*R**2*S + 0.0123456790123457*M*R**2*T*epsilon**3 - 0.00925925925925926*M*R**2*T*epsilon + 0.00308641975308642*M*R**2*T - 0.0185185185185185*M*R*S**2*epsilon**2 + 0.0185185185185185*M*R*S**2*epsilon - 0.00462962962962963*M*R*S**2 - 0.0246913580246914*M*R*S*T*epsilon**3 + 0.0185185185185185*M*R*S*T*epsilon - 0.00617283950617284*M*R*S*T - 0.0246913580246914*M*R*T**2*epsilon**3 + 0.0185185185185185*M*R*T**2*epsilon**2 - 0.00154320987654321*M*R*T**2 + 0.00617283950617284*M*S**3*epsilon**2 - 0.00617283950617284*M*S**3*epsilon + 0.00154320987654321*M*S**3 + 0.0123456790123457*M*S**2*T*epsilon**3 - 0.00925925925925926*M*S**2*T*epsilon + 0.00308641975308642*M*S**2*T + 0.0246913580246914*M*S*T**2*epsilon**3 - 0.0185185185185185*M*S*T**2*epsilon**2 + 0.00154320987654321*M*S*T**2 + 0.0123456790123457*M*T**3*epsilon**3 - 0.0123456790123457*M*T**3*epsilon**2 + 0.00308641975308642*M*T**3*epsilon + 0.037037037037037*P**4*epsilon**3 - 0.0185185185185185*P**4*epsilon**2 + 0.0617283950617284*P**3*R*epsilon**3 - 0.00617283950617284*P**3*R*epsilon**2 - 0.0123456790123457*P**3*R*epsilon - 0.0679012345679012*P**3*S*epsilon**3 + 0.00308641975308642*P**3*S*epsilon**2 + 0.0154320987654321*P**3*S*epsilon - 0.12962962962963*P**3*T*epsilon**3 + 0.0648148148148148*P**3*T*epsilon**2 + 0.0246913580246914*P**2*R**2*epsilon**3 + 0.0246913580246914*P**2*R**2*epsilon**2 - 0.0154320987654321*P**2*R**2*epsilon - 0.00154320987654321*P**2*R**2 - 0.0555555555555556*P**2*R*S*epsilon**3 - 0.0648148148148148*P**2*R*S*epsilon**2 + 0.037037037037037*P**2*R*S*epsilon + 0.00462962962962963*P**2*R*S - 0.154320987654321*P**2*R*T*epsilon**3 + 0.0154320987654321*P**2*R*T*epsilon**2 + 0.0308641975308642*P**2*R*T*epsilon + 0.0308641975308642*P**2*S**2*epsilon**3 + 0.0401234567901235*P**2*S**2*epsilon**2 - 0.0216049382716049*P**2*S**2*epsilon - 0.00308641975308642*P**2*S**2 + 0.172839506172839*P**2*S*T*epsilon**3 - 0.00617283950617284*P**2*S*T*epsilon**2 - 0.0401234567901235*P**2*S*T*epsilon + 0.166666666666667*P**2*T**2*epsilon**3 - 0.0833333333333333*P**2*T**2*epsilon**2 + 0.0123456790123457*P*R**3*epsilon**2 - 0.00308641975308642*P*R**3*epsilon - 0.00154320987654321*P*R**3 - 0.0493827160493827*P*R**2*S*epsilon**2 + 0.00771604938271605*P*R**2*S*epsilon + 0.00848765432098765*P*R**2*S - 0.037037037037037*P*R**2*T*epsilon**3 - 0.037037037037037*P*R**2*T*epsilon**2 + 0.0231481481481481*P*R**2*T*epsilon + 0.00231481481481481*P*R**2*T + 0.0617283950617284*P*R*S**2*epsilon**2 - 0.00617283950617284*P*R*S**2*epsilon - 0.0123456790123457*P*R*S**2 + 0.0864197530864197*P*R*S*T*epsilon**3 + 0.104938271604938*P*R*S*T*epsilon**2 - 0.058641975308642*P*R*S*T*epsilon - 0.00771604938271605*P*R*S*T + 0.123456790123457*P*R*T**2*epsilon**3 - 0.0123456790123457*P*R*T**2*epsilon**2 - 0.0246913580246914*P*R*T**2*epsilon - 0.0246913580246914*P*S**3*epsilon**2 + 0.00154320987654321*P*S**3*epsilon + 0.00540123456790123*P*S**3 - 0.0493827160493827*P*S**2*T*epsilon**3 - 0.0679012345679012*P*S**2*T*epsilon**2 + 0.0354938271604938*P*S**2*T*epsilon + 0.00540123456790123*P*S**2*T - 0.141975308641975*P*S*T**2*epsilon**3 + 0.00308641975308642*P*S*T**2*epsilon**2 + 0.0339506172839506*P*S*T**2*epsilon - 0.0925925925925926*P*T**3*epsilon**3 + 0.0462962962962963*P*T**3*epsilon**2 - 0.00462962962962963*R**3*S*epsilon + 0.00231481481481481*R**3*S - 0.00617283950617284*R**3*T*epsilon**2 + 0.00154320987654321*R**3*T*epsilon + 0.000771604938271605*R**3*T + 0.0138888888888889*R**2*S**2*epsilon - 0.00694444444444444*R**2*S**2 + 0.0308641975308642*R**2*S*T*epsilon**2 - 0.00308641975308642*R**2*S*T*epsilon - 0.00617283950617284*R**2*S*T + 0.0123456790123457*R**2*T**2*epsilon**3 + 0.0123456790123457*R**2*T**2*epsilon**2 - 0.00771604938271605*R**2*T**2*epsilon - 0.000771604938271605*R**2*T**2 - 0.0138888888888889*R*S**3*epsilon + 0.00694444444444444*R*S**3 - 0.0432098765432099*R*S**2*T*epsilon**2 + 0.00154320987654321*R*S**2*T*epsilon + 0.0100308641975309*R*S**2*T - 0.0308641975308642*R*S*T**2*epsilon**3 - 0.0401234567901235*R*S*T**2*epsilon**2 + 0.0216049382716049*R*S*T**2*epsilon + 0.00308641975308642*R*S*T**2 - 0.0308641975308642*R*T**3*epsilon**3 + 0.00308641975308642*R*T**3*epsilon**2 + 0.00617283950617284*R*T**3*epsilon + 0.00462962962962963*S**4*epsilon - 0.00231481481481481*S**4 + 0.0185185185185185*S**3*T*epsilon**2 - 0.00462962962962963*S**3*T + 0.0185185185185185*S**2*T**2*epsilon**3 + 0.0277777777777778*S**2*T**2*epsilon**2 - 0.0138888888888889*S**2*T**2*epsilon - 0.00231481481481481*S**2*T**2 + 0.037037037037037*S*T**3*epsilon**3 - 0.00925925925925926*S*T**3*epsilon + 0.0185185185185185*T**4*epsilon**3 - 0.00925925925925926*T**4*epsilon**2) + UGA_star**5*UgA_star*(0.0246913580246914*M*P**3*epsilon**3 - 0.0246913580246914*M*P**3*epsilon**2 + 0.00617283950617284*M*P**3*epsilon + 0.0246913580246914*M*P**2*R*epsilon**3 - 0.0123456790123457*M*P**2*R*epsilon**2 - 0.00617283950617284*M*P**2*R*epsilon + 0.00308641975308642*M*P**2*R - 0.037037037037037*M*P**2*S*epsilon**3 + 0.0246913580246914*M*P**2*S*epsilon**2 + 0.00308641975308642*M*P**2*S*epsilon - 0.00308641975308642*M*P**2*S - 0.0617283950617284*M*P**2*T*epsilon**3 + 0.0617283950617284*M*P**2*T*epsilon**2 - 0.0154320987654321*M*P**2*T*epsilon + 0.0123456790123457*M*P*R**2*epsilon**2 - 0.0123456790123457*M*P*R**2*epsilon + 0.00308641975308642*M*P*R**2 - 0.0123456790123457*M*P*R*S*epsilon**3 - 0.0185185185185185*M*P*R*S*epsilon**2 + 0.0277777777777778*M*P*R*S*epsilon - 0.00771604938271605*M*P*R*S - 0.037037037037037*M*P*R*T*epsilon**3 + 0.0185185185185185*M*P*R*T*epsilon**2 + 0.00925925925925926*M*P*R*T*epsilon - 0.00462962962962963*M*P*R*T + 0.0123456790123457*M*P*S**2*epsilon**3 + 0.00617283950617284*M*P*S**2*epsilon**2 - 0.0154320987654321*M*P*S**2*epsilon + 0.00462962962962963*M*P*S**2 + 0.0617283950617284*M*P*S*T*epsilon**3 - 0.0432098765432099*M*P*S*T*epsilon**2 - 0.00308641975308642*M*P*S*T*epsilon + 0.00462962962962963*M*P*S*T + 0.0493827160493827*M*P*T**2*epsilon**3 - 0.0493827160493827*M*P*T**2*epsilon**2 + 0.0123456790123457*M*P*T**2*epsilon - 0.00617283950617284*M*R**2*S*epsilon**2 + 0.00617283950617284*M*R**2*S*epsilon - 0.00154320987654321*M*R**2*S - 0.00617283950617284*M*R**2*T*epsilon**2 + 0.00617283950617284*M*R**2*T*epsilon - 0.00154320987654321*M*R**2*T + 0.0123456790123457*M*R*S**2*epsilon**2 - 0.0123456790123457*M*R*S**2*epsilon + 0.00308641975308642*M*R*S**2 + 0.0123456790123457*M*R*S*T*epsilon**3 + 0.00617283950617284*M*R*S*T*epsilon**2 - 0.0154320987654321*M*R*S*T*epsilon + 0.00462962962962963*M*R*S*T + 0.0123456790123457*M*R*T**2*epsilon**3 - 0.00617283950617284*M*R*T**2*epsilon**2 - 0.00308641975308642*M*R*T**2*epsilon + 0.00154320987654321*M*R*T**2 - 0.00617283950617284*M*S**3*epsilon**2 + 0.00617283950617284*M*S**3*epsilon - 0.00154320987654321*M*S**3 - 0.0123456790123457*M*S**2*T*epsilon**3 + 0.00925925925925926*M*S**2*T*epsilon - 0.00308641975308642*M*S**2*T - 0.0246913580246914*M*S*T**2*epsilon**3 + 0.0185185185185185*M*S*T**2*epsilon**2 - 0.00154320987654321*M*S*T**2 - 0.0123456790123457*M*T**3*epsilon**3 + 0.0123456790123457*M*T**3*epsilon**2 - 0.00308641975308642*M*T**3*epsilon - 0.0740740740740741*P**4*epsilon**3 + 0.037037037037037*P**4*epsilon**2 - 0.0493827160493827*P**3*R*epsilon**3 - 0.0246913580246914*P**3*R*epsilon**2 + 0.0246913580246914*P**3*R*epsilon + 0.0987654320987654*P**3*S*epsilon**3 + 0.0123456790123457*P**3*S*epsilon**2 - 0.0308641975308642*P**3*S*epsilon + 0.222222222222222*P**3*T*epsilon**3 - 0.111111111111111*P**3*T*epsilon**2 - 0.0246913580246914*P**2*R**2*epsilon**2 + 0.00617283950617284*P**2*R**2*epsilon + 0.00308641975308642*P**2*R**2 + 0.0246913580246914*P**2*R*S*epsilon**3 + 0.0864197530864197*P**2*R*S*epsilon**2 - 0.0308641975308642*P**2*R*S*epsilon - 0.00925925925925926*P**2*R*S + 0.0987654320987654*P**2*R*T*epsilon**3 + 0.0493827160493827*P**2*R*T*epsilon**2 - 0.0493827160493827*P**2*R*T*epsilon - 0.0308641975308642*P**2*S**2*epsilon**3 - 0.0648148148148148*P**2*S**2*epsilon**2 + 0.0277777777777778*P**2*S**2*epsilon + 0.00617283950617284*P**2*S**2 - 0.222222222222222*P**2*S*T*epsilon**3 - 0.0185185185185185*P**2*S*T*epsilon**2 + 0.0648148148148148*P**2*S*T*epsilon - 0.240740740740741*P**2*T**2*epsilon**3 + 0.12037037037037*P**2*T**2*epsilon**2 + 0.0123456790123457*P*R**2*S*epsilon**2 + 0.00617283950617284*P*R**2*S*epsilon - 0.00617283950617284*P*R**2*S + 0.0246913580246914*P*R**2*T*epsilon**2 - 0.00617283950617284*P*R**2*T*epsilon - 0.00308641975308642*P*R**2*T - 0.037037037037037*P*R*S**2*epsilon**2 - 0.00925925925925926*P*R*S**2*epsilon + 0.0138888888888889*P*R*S**2 - 0.037037037037037*P*R*S*T*epsilon**3 - 0.104938271604938*P*R*S*T*epsilon**2 + 0.0401234567901235*P*R*S*T*epsilon + 0.0108024691358025*P*R*S*T - 0.0617283950617284*P*R*T**2*epsilon**3 - 0.0308641975308642*P*R*T**2*epsilon**2 + 0.0308641975308642*P*R*T**2*epsilon + 0.0246913580246914*P*S**3*epsilon**2 + 0.00308641975308642*P*S**3*epsilon - 0.00771604938271605*P*S**3 + 0.0493827160493827*P*S**2*T*epsilon**3 + 0.0864197530864197*P*S**2*T*epsilon**2 - 0.0401234567901235*P*S**2*T*epsilon - 0.00771604938271605*P*S**2*T + 0.160493827160494*P*S*T**2*epsilon**3 + 0.00617283950617284*P*S*T**2*epsilon**2 - 0.0432098765432099*P*S*T**2*epsilon + 0.111111111111111*P*T**3*epsilon**3 - 0.0555555555555556*P*T**3*epsilon**2 - 0.00462962962962963*R**2*S**2*epsilon + 0.00231481481481481*R**2*S**2 - 0.00617283950617284*R**2*S*T*epsilon**2 - 0.00308641975308642*R**2*S*T*epsilon + 0.00308641975308642*R**2*S*T - 0.00617283950617284*R**2*T**2*epsilon**2 + 0.00154320987654321*R**2*T**2*epsilon + 0.000771604938271605*R**2*T**2 + 0.00925925925925926*R*S**3*epsilon - 0.00462962962962963*R*S**3 + 0.0246913580246914*R*S**2*T*epsilon**2 + 0.00308641975308642*R*S**2*T*epsilon - 0.00771604938271605*R*S**2*T + 0.0123456790123457*R*S*T**2*epsilon**3 + 0.0308641975308642*R*S*T**2*epsilon**2 - 0.0123456790123457*R*S*T**2*epsilon - 0.00308641975308642*R*S*T**2 + 0.0123456790123457*R*T**3*epsilon**3 + 0.00617283950617284*R*T**3*epsilon**2 - 0.00617283950617284*R*T**3*epsilon - 0.00462962962962963*S**4*epsilon + 0.00231481481481481*S**4 - 0.0185185185185185*S**3*T*epsilon**2 + 0.00462962962962963*S**3*T - 0.0185185185185185*S**2*T**2*epsilon**3 - 0.0277777777777778*S**2*T**2*epsilon**2 + 0.0138888888888889*S**2*T**2*epsilon + 0.00231481481481481*S**2*T**2 - 0.037037037037037*S*T**3*epsilon**3 + 0.00925925925925926*S*T**3*epsilon - 0.0185185185185185*T**4*epsilon**3 + 0.00925925925925926*T**4*epsilon**2) + UGA_star**5*(-0.0617283950617284*M**2*P**2*epsilon**3 + 0.0740740740740741*M**2*P**2*epsilon**2 - 0.0277777777777778*M**2*P**2*epsilon + 0.00308641975308642*M**2*P**2 - 0.0740740740740741*M**2*P*R*epsilon**3 + 0.0740740740740741*M**2*P*R*epsilon**2 - 0.0185185185185185*M**2*P*R*epsilon + 0.0864197530864197*M**2*P*S*epsilon**3 - 0.0925925925925926*M**2*P*S*epsilon**2 + 0.0277777777777778*M**2*P*S*epsilon - 0.00154320987654321*M**2*P*S + 0.111111111111111*M**2*P*T*epsilon**3 - 0.12962962962963*M**2*P*T*epsilon**2 + 0.0462962962962963*M**2*P*T*epsilon - 0.00462962962962963*M**2*P*T - 0.0123456790123457*M**2*R**2*epsilon**3 + 0.00925925925925926*M**2*R**2*epsilon - 0.00308641975308642*M**2*R**2 + 0.037037037037037*M**2*R*S*epsilon**3 - 0.0185185185185185*M**2*R*S*epsilon**2 - 0.00925925925925926*M**2*R*S*epsilon + 0.00462962962962963*M**2*R*S + 0.0617283950617284*M**2*R*T*epsilon**3 - 0.0555555555555556*M**2*R*T*epsilon**2 + 0.00925925925925926*M**2*R*T*epsilon + 0.00154320987654321*M**2*R*T - 0.0246913580246914*M**2*S**2*epsilon**3 + 0.0185185185185185*M**2*S**2*epsilon**2 - 0.00154320987654321*M**2*S**2 - 0.0740740740740741*M**2*S*T*epsilon**3 + 0.0740740740740741*M**2*S*T*epsilon**2 - 0.0185185185185185*M**2*S*T*epsilon - 0.0493827160493827*M**2*T**2*epsilon**3 + 0.0555555555555556*M**2*T**2*epsilon**2 - 0.0185185185185185*M**2*T**2*epsilon + 0.00154320987654321*M**2*T**2 + 0.320987654320988*M*P**3*epsilon**3 - 0.246913580246914*M*P**3*epsilon**2 + 0.0432098765432099*M*P**3*epsilon + 0.283950617283951*M*P**2*R*epsilon**3 - 0.104938271604938*M*P**2*R*epsilon**2 - 0.0339506172839506*M*P**2*R*epsilon + 0.00771604938271605*M*P**2*R - 0.419753086419753*M*P**2*S*epsilon**3 + 0.179012345679012*M*P**2*S*epsilon**2 + 0.0432098765432099*M*P**2*S*epsilon - 0.0138888888888889*M*P**2*S - 0.716049382716049*M*P**2*T*epsilon**3 + 0.530864197530864*M*P**2*T*epsilon**2 - 0.0864197530864197*M*P**2*T*epsilon + 0.037037037037037*M*P*R**2*epsilon**3 + 0.0308641975308642*M*P*R**2*epsilon**2 - 0.0216049382716049*M*P*R**2*epsilon - 0.00154320987654321*M*P*R**2 - 0.148148148148148*M*P*R*S*epsilon**3 - 0.0987654320987654*M*P*R*S*epsilon**2 + 0.0987654320987654*M*P*R*S*epsilon - 0.00617283950617284*M*P*R*S - 0.358024691358025*M*P*R*T*epsilon**3 + 0.104938271604938*M*P*R*T*epsilon**2 + 0.0524691358024691*M*P*R*T*epsilon - 0.00771604938271605*M*P*R*T + 0.123456790123457*M*P*S**2*epsilon**3 + 0.0679012345679012*M*P*S**2*epsilon**2 - 0.0864197530864197*M*P*S**2*epsilon + 0.0108024691358025*M*P*S**2 + 0.580246913580247*M*P*S*T*epsilon**3 - 0.216049382716049*M*P*S*T*epsilon**2 - 0.0709876543209877*M*P*S*T*epsilon + 0.0169753086419753*M*P*S*T + 0.506172839506173*M*P*T**2*epsilon**3 - 0.358024691358025*M*P*T**2*epsilon**2 + 0.0524691358024691*M*P*T**2*epsilon - 0.0185185185185185*M*R**2*S*epsilon**2 + 0.00462962962962963*M*R**2*S - 0.0123456790123457*M*R**2*T*epsilon**3 - 0.0185185185185185*M*R**2*T*epsilon**2 + 0.00925925925925926*M*R**2*T*epsilon + 0.00154320987654321*M*R**2*T + 0.0555555555555556*M*R*S**2*epsilon**2 - 0.0185185185185185*M*R*S**2*epsilon - 0.00462962962962963*M*R*S**2 + 0.0740740740740741*M*R*S*T*epsilon**3 + 0.0740740740740741*M*R*S*T*epsilon**2 - 0.0555555555555556*M*R*S*T*epsilon + 0.0987654320987654*M*R*T**2*epsilon**3 - 0.0185185185185185*M*R*T**2*epsilon**2 - 0.0185185185185185*M*R*T**2*epsilon + 0.00154320987654321*M*R*T**2 - 0.037037037037037*M*S**3*epsilon**2 + 0.0185185185185185*M*S**3*epsilon - 0.0740740740740741*M*S**2*T*epsilon**3 - 0.0555555555555556*M*S**2*T*epsilon**2 + 0.0555555555555556*M*S**2*T*epsilon - 0.00462962962962963*M*S**2*T - 0.185185185185185*M*S*T**2*epsilon**3 + 0.0555555555555556*M*S*T**2*epsilon**2 + 0.0277777777777778*M*S*T**2*epsilon - 0.00462962962962963*M*S*T**2 - 0.111111111111111*M*T**3*epsilon**3 + 0.0740740740740741*M*T**3*epsilon**2 - 0.00925925925925926*M*T**3*epsilon - 0.308641975308642*P**4*epsilon**3 + 0.154320987654321*P**4*epsilon**2 - 0.222222222222222*P**3*R*epsilon**3 + 0.0123456790123457*P**3*R*epsilon**2 + 0.0493827160493827*P**3*R*epsilon + 0.401234567901235*P**3*S*epsilon**3 - 0.0154320987654321*P**3*S*epsilon**2 - 0.0925925925925926*P**3*S*epsilon + 0.771604938271605*P**3*T*epsilon**3 - 0.385802469135802*P**3*T*epsilon**2 - 0.0246913580246914*P**2*R**2*epsilon**3 - 0.0246913580246914*P**2*R**2*epsilon**2 + 0.0154320987654321*P**2*R**2*epsilon + 0.00154320987654321*P**2*R**2 + 0.123456790123457*P**2*R*S*epsilon**3 + 0.148148148148148*P**2*R*S*epsilon**2 - 0.0833333333333333*P**2*R*S*epsilon - 0.0108024691358025*P**2*R*S + 0.333333333333333*P**2*R*T*epsilon**3 - 0.0185185185185185*P**2*R*T*epsilon**2 - 0.0740740740740741*P**2*R*T*epsilon - 0.123456790123457*P**2*S**2*epsilon**3 - 0.160493827160494*P**2*S**2*epsilon**2 + 0.0864197530864197*P**2*S**2*epsilon + 0.0123456790123457*P**2*S**2 - 0.691358024691358*P**2*S*T*epsilon**3 + 0.0246913580246914*P**2*S*T*epsilon**2 + 0.160493827160494*P**2*S*T*epsilon - 0.666666666666667*P**2*T**2*epsilon**3 + 0.333333333333333*P**2*T**2*epsilon**2 + 0.0185185185185185*P*R**2*S*epsilon**2 - 0.00462962962962963*P*R**2*S*epsilon - 0.00231481481481481*P*R**2*S + 0.0123456790123457*P*R**2*T*epsilon**3 + 0.0123456790123457*P*R**2*T*epsilon**2 - 0.00771604938271605*P*R**2*T*epsilon - 0.000771604938271605*P*R**2*T - 0.0740740740740741*P*R*S**2*epsilon**2 + 0.00925925925925926*P*R*S**2*epsilon + 0.0138888888888889*P*R*S**2 - 0.0987654320987654*P*R*S*T*epsilon**3 - 0.123456790123457*P*R*S*T*epsilon**2 + 0.0679012345679012*P*R*S*T*epsilon + 0.00925925925925926*P*R*S*T - 0.135802469135802*P*R*T**2*epsilon**3 + 0.00617283950617284*P*R*T**2*epsilon**2 + 0.0308641975308642*P*R*T**2*epsilon + 0.0617283950617284*P*S**3*epsilon**2 - 0.00462962962962963*P*S**3*epsilon - 0.0131172839506173*P*S**3 + 0.123456790123457*P*S**2*T*epsilon**3 + 0.166666666666667*P*S**2*T*epsilon**2 - 0.087962962962963*P*S**2*T*epsilon - 0.0131172839506173*P*S**2*T + 0.351851851851852*P*S*T**2*epsilon**3 - 0.00925925925925926*P*S*T**2*epsilon**2 - 0.0833333333333333*P*S*T**2*epsilon + 0.228395061728395*P*T**3*epsilon**3 - 0.114197530864198*P*T**3*epsilon**2 + 0.00617283950617284*R*S**3*epsilon - 0.00308641975308642*R*S**3 + 0.0185185185185185*R*S**2*T*epsilon**2 - 0.00462962962962963*R*S**2*T + 0.0123456790123457*R*S*T**2*epsilon**3 + 0.0185185185185185*R*S*T**2*epsilon**2 - 0.00925925925925926*R*S*T**2*epsilon - 0.00154320987654321*R*S*T**2 + 0.0123456790123457*R*T**3*epsilon**3 - 0.00308641975308642*R*T**3*epsilon - 0.00617283950617284*S**4*epsilon + 0.00308641975308642*S**4 - 0.0246913580246914*S**3*T*epsilon**2 + 0.00617283950617284*S**3*T - 0.0246913580246914*S**2*T**2*epsilon**3 - 0.037037037037037*S**2*T**2*epsilon**2 + 0.0185185185185185*S**2*T**2*epsilon + 0.00308641975308642*S**2*T**2 - 0.0493827160493827*S*T**3*epsilon**3 + 0.0123456790123457*S*T**3*epsilon - 0.0246913580246914*T**4*epsilon**3 + 0.0123456790123457*T**4*epsilon**2) + UGA_star**4*UgA_star**2*(-0.00617283950617284*M**2*P**2*epsilon**3 + 0.00925925925925926*M**2*P**2*epsilon**2 - 0.00462962962962963*M**2*P**2*epsilon + 0.000771604938271605*M**2*P**2 - 0.0123456790123457*M**2*P*R*epsilon**3 + 0.0185185185185185*M**2*P*R*epsilon**2 - 0.00925925925925926*M**2*P*R*epsilon + 0.00154320987654321*M**2*P*R + 0.0123456790123457*M**2*P*S*epsilon**3 - 0.0185185185185185*M**2*P*S*epsilon**2 + 0.00925925925925926*M**2*P*S*epsilon - 0.00154320987654321*M**2*P*S + 0.0123456790123457*M**2*P*T*epsilon**3 - 0.0185185185185185*M**2*P*T*epsilon**2 + 0.00925925925925926*M**2*P*T*epsilon - 0.00154320987654321*M**2*P*T - 0.00617283950617284*M**2*R**2*epsilon**3 + 0.00925925925925926*M**2*R**2*epsilon**2 - 0.00462962962962963*M**2*R**2*epsilon + 0.000771604938271605*M**2*R**2 + 0.0123456790123457*M**2*R*S*epsilon**3 - 0.0185185185185185*M**2*R*S*epsilon**2 + 0.00925925925925926*M**2*R*S*epsilon - 0.00154320987654321*M**2*R*S + 0.0123456790123457*M**2*R*T*epsilon**3 - 0.0185185185185185*M**2*R*T*epsilon**2 + 0.00925925925925926*M**2*R*T*epsilon - 0.00154320987654321*M**2*R*T - 0.00617283950617284*M**2*S**2*epsilon**3 + 0.00925925925925926*M**2*S**2*epsilon**2 - 0.00462962962962963*M**2*S**2*epsilon + 0.000771604938271605*M**2*S**2 - 0.0123456790123457*M**2*S*T*epsilon**3 + 0.0185185185185185*M**2*S*T*epsilon**2 - 0.00925925925925926*M**2*S*T*epsilon + 0.00154320987654321*M**2*S*T - 0.00617283950617284*M**2*T**2*epsilon**3 + 0.00925925925925926*M**2*T**2*epsilon**2 - 0.00462962962962963*M**2*T**2*epsilon + 0.000771604938271605*M**2*T**2 + 0.0679012345679012*M*P**3*epsilon**3 - 0.058641975308642*M*P**3*epsilon**2 + 0.0123456790123457*M*P**3*epsilon + 0.104938271604938*M*P**2*R*epsilon**3 - 0.0648148148148148*M*P**2*R*epsilon**2 + 0.00308641975308642*M*P**2*R - 0.117283950617284*M*P**2*S*epsilon**3 + 0.0709876543209877*M*P**2*S*epsilon**2 + 0.00308641975308642*M*P**2*S*epsilon - 0.00462962962962963*M*P**2*S - 0.179012345679012*M*P**2*T*epsilon**3 + 0.151234567901235*M*P**2*T*epsilon**2 - 0.0308641975308642*M*P**2*T*epsilon + 0.037037037037037*M*P*R**2*epsilon**3 - 0.0138888888888889*M*P*R**2*epsilon + 0.00231481481481481*M*P*R**2 - 0.0864197530864197*M*P*R*S*epsilon**3 - 0.00617283950617284*M*P*R*S*epsilon**2 + 0.0432098765432099*M*P*R*S*epsilon - 0.00925925925925926*M*P*R*S - 0.172839506172839*M*P*R*T*epsilon**3 + 0.0987654320987654*M*P*R*T*epsilon**2 + 0.00308641975308642*M*P*R*T*epsilon - 0.00462962962962963*M*P*R*T + 0.0493827160493827*M*P*S**2*epsilon**3 + 0.00617283950617284*M*P*S**2*epsilon**2 - 0.029320987654321*M*P*S**2*epsilon + 0.00694444444444444*M*P*S**2 + 0.197530864197531*M*P*S*T*epsilon**3 - 0.111111111111111*M*P*S*T*epsilon**2 - 0.00925925925925926*M*P*S*T*epsilon + 0.00771604938271605*M*P*S*T + 0.154320987654321*M*P*T**2*epsilon**3 - 0.126543209876543*M*P*T**2*epsilon**2 + 0.0246913580246914*M*P*T**2*epsilon + 0.00617283950617284*M*R**3*epsilon**2 - 0.00154320987654321*M*R**3*epsilon - 0.000771604938271605*M*R**3 - 0.0308641975308642*M*R**2*S*epsilon**2 + 0.0169753086419753*M*R**2*S*epsilon - 0.000771604938271605*M*R**2*S - 0.0246913580246914*M*R**2*T*epsilon**3 - 0.00617283950617284*M*R**2*T*epsilon**2 + 0.0108024691358025*M*R**2*T*epsilon - 0.000771604938271605*M*R**2*T + 0.0432098765432099*M*R*S**2*epsilon**2 - 0.029320987654321*M*R*S**2*epsilon + 0.00385802469135802*M*R*S**2 + 0.0617283950617284*M*R*S*T*epsilon**3 + 0.0185185185185185*M*R*S*T*epsilon**2 - 0.037037037037037*M*R*S*T*epsilon + 0.00617283950617284*M*R*S*T + 0.0679012345679012*M*R*T**2*epsilon**3 - 0.0339506172839506*M*R*T**2*epsilon**2 - 0.00308641975308642*M*R*T**2*epsilon + 0.00154320987654321*M*R*T**2 - 0.0185185185185185*M*S**3*epsilon**2 + 0.0138888888888889*M*S**3*epsilon - 0.00231481481481481*M*S**3 - 0.037037037037037*M*S**2*T*epsilon**3 - 0.0123456790123457*M*S**2*T*epsilon**2 + 0.0262345679012346*M*S**2*T*epsilon - 0.00540123456790123*M*S**2*T - 0.0802469135802469*M*S*T**2*epsilon**3 + 0.0401234567901235*M*S*T**2*epsilon**2 + 0.00617283950617284*M*S*T**2*epsilon - 0.00308641975308642*M*S*T**2 - 0.0432098765432099*M*T**3*epsilon**3 + 0.0339506172839506*M*T**3*epsilon**2 - 0.00617283950617284*M*T**3*epsilon - 0.0925925925925926*P**4*epsilon**3 + 0.0462962962962963*P**4*epsilon**2 - 0.12962962962963*P**3*R*epsilon**3 + 0.0277777777777778*P**3*R*epsilon**2 + 0.0185185185185185*P**3*R*epsilon + 0.154320987654321*P**3*S*epsilon**3 - 0.0154320987654321*P**3*S*epsilon**2 - 0.0308641975308642*P**3*S*epsilon + 0.277777777777778*P**3*T*epsilon**3 - 0.138888888888889*P**3*T*epsilon**2 - 0.037037037037037*P**2*R**2*epsilon**3 - 0.0246913580246914*P**2*R**2*epsilon**2 + 0.0200617283950617*P**2*R**2*epsilon + 0.000771604938271605*P**2*R**2 + 0.0987654320987654*P**2*R*S*epsilon**3 + 0.0864197530864197*P**2*R*S*epsilon**2 - 0.058641975308642*P**2*R*S*epsilon - 0.00462962962962963*P**2*R*S + 0.259259259259259*P**2*R*T*epsilon**3 - 0.0555555555555556*P**2*R*T*epsilon**2 - 0.037037037037037*P**2*R*T*epsilon - 0.0617283950617284*P**2*S**2*epsilon**3 - 0.0679012345679012*P**2*S**2*epsilon**2 + 0.0401234567901235*P**2*S**2*epsilon + 0.00462962962962963*P**2*S**2 - 0.320987654320988*P**2*S*T*epsilon**3 + 0.0246913580246914*P**2*S*T*epsilon**2 + 0.0679012345679012*P**2*S*T*epsilon - 0.296296296296296*P**2*T**2*epsilon**3 + 0.148148148148148*P**2*T**2*epsilon**2 - 0.00617283950617284*P*R**3*epsilon**2 + 0.00154320987654321*P*R**3*epsilon + 0.000771604938271605*P*R**3 + 0.0432098765432099*P*R**2*S*epsilon**2 - 0.0108024691358025*P*R**2*S*epsilon - 0.00540123456790123*P*R**2*S + 0.037037037037037*P*R**2*T*epsilon**3 + 0.0246913580246914*P*R**2*T*epsilon**2 - 0.0200617283950617*P*R**2*T*epsilon - 0.000771604938271605*P*R**2*T - 0.0740740740740741*P*R*S**2*epsilon**2 + 0.0138888888888889*P*R*S**2*epsilon + 0.0115740740740741*P*R*S**2 - 0.111111111111111*P*R*S*T*epsilon**3 - 0.104938271604938*P*R*S*T*epsilon**2 + 0.0679012345679012*P*R*S*T*epsilon + 0.00617283950617284*P*R*S*T - 0.154320987654321*P*R*T**2*epsilon**3 + 0.0339506172839506*P*R*T**2*epsilon**2 + 0.0216049382716049*P*R*T**2*epsilon + 0.037037037037037*P*S**3*epsilon**2 - 0.00462962962962963*P*S**3*epsilon - 0.00694444444444444*P*S**3 + 0.0740740740740741*P*S**2*T*epsilon**3 + 0.0925925925925926*P*S**2*T*epsilon**2 - 0.0509259259259259*P*S**2*T*epsilon - 0.00694444444444444*P*S**2*T + 0.203703703703704*P*S*T**2*epsilon**3 - 0.00925925925925926*P*S*T**2*epsilon**2 - 0.0462962962962963*P*S*T**2*epsilon + 0.12962962962963*P*T**3*epsilon**3 - 0.0648148148148148*P*T**3*epsilon**2 - 0.00462962962962963*R**2*S**2*epsilon + 0.00231481481481481*R**2*S**2 - 0.0123456790123457*R**2*S*T*epsilon**2 + 0.00308641975308642*R**2*S*T*epsilon + 0.00154320987654321*R**2*S*T - 0.00617283950617284*R**2*T**2*epsilon**3 - 0.00308641975308642*R**2*T**2*epsilon**2 + 0.00308641975308642*R**2*T**2*epsilon + 0.00925925925925926*R*S**3*epsilon - 0.00462962962962963*R*S**3 + 0.0308641975308642*R*S**2*T*epsilon**2 - 0.00308641975308642*R*S**2*T*epsilon - 0.00617283950617284*R*S**2*T + 0.0246913580246914*R*S*T**2*epsilon**3 + 0.0246913580246914*R*S*T**2*epsilon**2 - 0.0154320987654321*R*S*T**2*epsilon - 0.00154320987654321*R*S*T**2 + 0.0246913580246914*R*T**3*epsilon**3 - 0.00617283950617284*R*T**3*epsilon**2 - 0.00308641975308642*R*T**3*epsilon - 0.00462962962962963*S**4*epsilon + 0.00231481481481481*S**4 - 0.0185185185185185*S**3*T*epsilon**2 + 0.00462962962962963*S**3*T - 0.0185185185185185*S**2*T**2*epsilon**3 - 0.0277777777777778*S**2*T**2*epsilon**2 + 0.0138888888888889*S**2*T**2*epsilon + 0.00231481481481481*S**2*T**2 - 0.037037037037037*S*T**3*epsilon**3 + 0.00925925925925926*S*T**3*epsilon - 0.0185185185185185*T**4*epsilon**3 + 0.00925925925925926*T**4*epsilon**2) + UGA_star**4*UgA_star*(0.0123456790123457*M**2*P**2*epsilon**3 - 0.0185185185185185*M**2*P**2*epsilon**2 + 0.00925925925925926*M**2*P**2*epsilon - 0.00154320987654321*M**2*P**2 + 0.0123456790123457*M**2*P*R*epsilon**3 - 0.0185185185185185*M**2*P*R*epsilon**2 + 0.00925925925925926*M**2*P*R*epsilon - 0.00154320987654321*M**2*P*R - 0.0185185185185185*M**2*P*S*epsilon**3 + 0.0277777777777778*M**2*P*S*epsilon**2 - 0.0138888888888889*M**2*P*S*epsilon + 0.00231481481481481*M**2*P*S - 0.0185185185185185*M**2*P*T*epsilon**3 + 0.0277777777777778*M**2*P*T*epsilon**2 - 0.0138888888888889*M**2*P*T*epsilon + 0.00231481481481481*M**2*P*T - 0.00617283950617284*M**2*R*S*epsilon**3 + 0.00925925925925926*M**2*R*S*epsilon**2 - 0.00462962962962963*M**2*R*S*epsilon + 0.000771604938271605*M**2*R*S - 0.00617283950617284*M**2*R*T*epsilon**3 + 0.00925925925925926*M**2*R*T*epsilon**2 - 0.00462962962962963*M**2*R*T*epsilon + 0.000771604938271605*M**2*R*T + 0.00617283950617284*M**2*S**2*epsilon**3 - 0.00925925925925926*M**2*S**2*epsilon**2 + 0.00462962962962963*M**2*S**2*epsilon - 0.000771604938271605*M**2*S**2 + 0.0123456790123457*M**2*S*T*epsilon**3 - 0.0185185185185185*M**2*S*T*epsilon**2 + 0.00925925925925926*M**2*S*T*epsilon - 0.00154320987654321*M**2*S*T + 0.00617283950617284*M**2*T**2*epsilon**3 - 0.00925925925925926*M**2*T**2*epsilon**2 + 0.00462962962962963*M**2*T**2*epsilon - 0.000771604938271605*M**2*T**2 - 0.135802469135802*M*P**3*epsilon**3 + 0.117283950617284*M*P**3*epsilon**2 - 0.0246913580246914*M*P**3*epsilon - 0.0740740740740741*M*P**2*R*epsilon**3 + 0.0123456790123457*M*P**2*R*epsilon**2 + 0.0246913580246914*M*P**2*R*epsilon - 0.00617283950617284*M*P**2*R + 0.166666666666667*M*P**2*S*epsilon**3 - 0.0833333333333333*M*P**2*S*epsilon**2 - 0.0185185185185185*M*P**2*S*epsilon + 0.00925925925925926*M*P**2*S + 0.290123456790123*M*P**2*T*epsilon**3 - 0.243827160493827*M*P**2*T*epsilon**2 + 0.0493827160493827*M*P**2*T*epsilon - 0.0123456790123457*M*P*R**2*epsilon**2 + 0.00308641975308642*M*P*R**2*epsilon + 0.00154320987654321*M*P*R**2 + 0.037037037037037*M*P*R*S*epsilon**3 + 0.0432098765432099*M*P*R*S*epsilon**2 - 0.0432098765432099*M*P*R*S*epsilon + 0.00617283950617284*M*P*R*S + 0.0864197530864197*M*P*R*T*epsilon**3 - 0.00617283950617284*M*P*R*T*epsilon**2 - 0.0308641975308642*M*P*R*T*epsilon + 0.00617283950617284*M*P*R*T - 0.0493827160493827*M*P*S**2*epsilon**3 - 0.0246913580246914*M*P*S**2*epsilon**2 + 0.0432098765432099*M*P*S**2*epsilon - 0.00925925925925926*M*P*S**2 - 0.234567901234568*M*P*S*T*epsilon**3 + 0.117283950617284*M*P*S*T*epsilon**2 + 0.0216049382716049*M*P*S*T*epsilon - 0.0108024691358025*M*P*S*T - 0.197530864197531*M*P*T**2*epsilon**3 + 0.160493827160494*M*P*T**2*epsilon**2 - 0.0308641975308642*M*P*T**2*epsilon + 0.00617283950617284*M*R**2*S*epsilon**2 - 0.00154320987654321*M*R**2*S*epsilon - 0.000771604938271605*M*R**2*S + 0.00617283950617284*M*R**2*T*epsilon**2 - 0.00154320987654321*M*R**2*T*epsilon - 0.000771604938271605*M*R**2*T - 0.0246913580246914*M*R*S**2*epsilon**2 + 0.0154320987654321*M*R*S**2*epsilon - 0.00154320987654321*M*R*S**2 - 0.0246913580246914*M*R*S*T*epsilon**3 - 0.0246913580246914*M*R*S*T*epsilon**2 + 0.0246913580246914*M*R*S*T*epsilon - 0.00308641975308642*M*R*S*T - 0.0246913580246914*M*R*T**2*epsilon**3 + 0.00925925925925926*M*R*T**2*epsilon - 0.00154320987654321*M*R*T**2 + 0.0185185185185185*M*S**3*epsilon**2 - 0.0138888888888889*M*S**3*epsilon + 0.00231481481481481*M*S**3 + 0.037037037037037*M*S**2*T*epsilon**3 + 0.0123456790123457*M*S**2*T*epsilon**2 - 0.0262345679012346*M*S**2*T*epsilon + 0.00540123456790123*M*S**2*T + 0.0802469135802469*M*S*T**2*epsilon**3 - 0.0401234567901235*M*S*T**2*epsilon**2 - 0.00617283950617284*M*S*T**2*epsilon + 0.00308641975308642*M*S*T**2 + 0.0432098765432099*M*T**3*epsilon**3 - 0.0339506172839506*M*T**3*epsilon**2 + 0.00617283950617284*M*T**3*epsilon + 0.185185185185185*P**4*epsilon**3 - 0.0925925925925926*P**4*epsilon**2 + 0.0740740740740741*P**3*R*epsilon**3 + 0.037037037037037*P**3*R*epsilon**2 - 0.037037037037037*P**3*R*epsilon - 0.216049382716049*P**3*S*epsilon**3 - 0.0154320987654321*P**3*S*epsilon**2 + 0.0617283950617284*P**3*S*epsilon - 0.462962962962963*P**3*T*epsilon**3 + 0.231481481481481*P**3*T*epsilon**2 + 0.0123456790123457*P**2*R**2*epsilon**2 - 0.00308641975308642*P**2*R**2*epsilon - 0.00154320987654321*P**2*R**2 - 0.037037037037037*P**2*R*S*epsilon**3 - 0.0925925925925926*P**2*R*S*epsilon**2 + 0.037037037037037*P**2*R*S*epsilon + 0.00925925925925926*P**2*R*S - 0.111111111111111*P**2*R*T*epsilon**3 - 0.0555555555555556*P**2*R*T*epsilon**2 + 0.0555555555555556*P**2*R*T*epsilon + 0.0617283950617284*P**2*S**2*epsilon**3 + 0.104938271604938*P**2*S**2*epsilon**2 - 0.0493827160493827*P**2*S**2*epsilon - 0.00925925925925926*P**2*S**2 + 0.395061728395062*P**2*S*T*epsilon**3 + 0.0123456790123457*P**2*S*T*epsilon**2 - 0.104938271604938*P**2*S*T*epsilon + 0.407407407407407*P**2*T**2*epsilon**3 - 0.203703703703704*P**2*T**2*epsilon**2 - 0.00617283950617284*P*R**2*S*epsilon**2 + 0.00154320987654321*P*R**2*S*epsilon + 0.000771604938271605*P*R**2*S - 0.00617283950617284*P*R**2*T*epsilon**2 + 0.00154320987654321*P*R**2*T*epsilon + 0.000771604938271605*P*R**2*T + 0.037037037037037*P*R*S**2*epsilon**2 - 0.00925925925925926*P*R*S**2 + 0.037037037037037*P*R*S*T*epsilon**3 + 0.0802469135802469*P*R*S*T*epsilon**2 - 0.0339506172839506*P*R*S*T*epsilon - 0.00771604938271605*P*R*S*T + 0.0493827160493827*P*R*T**2*epsilon**3 + 0.0246913580246914*P*R*T**2*epsilon**2 - 0.0246913580246914*P*R*T**2*epsilon - 0.037037037037037*P*S**3*epsilon**2 + 0.00925925925925926*P*S**3 - 0.0740740740740741*P*S**2*T*epsilon**3 - 0.111111111111111*P*S**2*T*epsilon**2 + 0.0555555555555556*P*S**2*T*epsilon + 0.00925925925925926*P*S**2*T - 0.222222222222222*P*S*T**2*epsilon**3 + 0.0555555555555556*P*S*T**2*epsilon - 0.148148148148148*P*T**3*epsilon**3 + 0.0740740740740741*P*T**3*epsilon**2 - 0.00462962962962963*R*S**3*epsilon + 0.00231481481481481*R*S**3 - 0.0123456790123457*R*S**2*T*epsilon**2 - 0.00154320987654321*R*S**2*T*epsilon + 0.00385802469135802*R*S**2*T - 0.00617283950617284*R*S*T**2*epsilon**3 - 0.0154320987654321*R*S*T**2*epsilon**2 + 0.00617283950617284*R*S*T**2*epsilon + 0.00154320987654321*R*S*T**2 - 0.00617283950617284*R*T**3*epsilon**3 - 0.00308641975308642*R*T**3*epsilon**2 + 0.00308641975308642*R*T**3*epsilon + 0.00462962962962963*S**4*epsilon - 0.00231481481481481*S**4 + 0.0185185185185185*S**3*T*epsilon**2 - 0.00462962962962963*S**3*T + 0.0185185185185185*S**2*T**2*epsilon**3 + 0.0277777777777778*S**2*T**2*epsilon**2 - 0.0138888888888889*S**2*T**2*epsilon - 0.00231481481481481*S**2*T**2 + 0.037037037037037*S*T**3*epsilon**3 - 0.00925925925925926*S*T**3*epsilon + 0.0185185185185185*T**4*epsilon**3 - 0.00925925925925926*T**4*epsilon**2) + UGA_star**4*(-0.0123456790123457*M**3*P*epsilon**3 + 0.0185185185185185*M**3*P*epsilon**2 - 0.00925925925925926*M**3*P*epsilon + 0.00154320987654321*M**3*P - 0.0123456790123457*M**3*R*epsilon**3 + 0.0185185185185185*M**3*R*epsilon**2 - 0.00925925925925926*M**3*R*epsilon + 0.00154320987654321*M**3*R + 0.0123456790123457*M**3*S*epsilon**3 - 0.0185185185185185*M**3*S*epsilon**2 + 0.00925925925925926*M**3*S*epsilon - 0.00154320987654321*M**3*S + 0.0123456790123457*M**3*T*epsilon**3 - 0.0185185185185185*M**3*T*epsilon**2 + 0.00925925925925926*M**3*T*epsilon - 0.00154320987654321*M**3*T + 0.216049382716049*M**2*P**2*epsilon**3 - 0.212962962962963*M**2*P**2*epsilon**2 + 0.0601851851851852*M**2*P**2*epsilon - 0.00385802469135802*M**2*P**2 + 0.141975308641975*M**2*P*R*epsilon**3 - 0.0833333333333333*M**2*P*R*epsilon**2 - 0.00462962962962963*M**2*P*R*epsilon + 0.00540123456790123*M**2*P*R - 0.216049382716049*M**2*P*S*epsilon**3 + 0.157407407407407*M**2*P*S*epsilon**2 - 0.0138888888888889*M**2*P*S*epsilon - 0.00540123456790123*M**2*P*S - 0.327160493827161*M**2*P*T*epsilon**3 + 0.305555555555556*M**2*P*T*epsilon**2 - 0.0787037037037037*M**2*P*T*epsilon + 0.00385802469135802*M**2*P*T + 0.00617283950617284*M**2*R**2*epsilon**3 + 0.00925925925925926*M**2*R**2*epsilon**2 - 0.00462962962962963*M**2*R**2*epsilon - 0.000771604938271605*M**2*R**2 - 0.037037037037037*M**2*R*S*epsilon**3 - 0.0185185185185185*M**2*R*S*epsilon**2 + 0.0277777777777778*M**2*R*S*epsilon - 0.00462962962962963*M**2*R*S - 0.0864197530864197*M**2*R*T*epsilon**3 + 0.037037037037037*M**2*R*T*epsilon**2 + 0.00925925925925926*M**2*R*T*epsilon - 0.00308641975308642*M**2*R*T + 0.037037037037037*M**2*S**2*epsilon**3 - 0.0185185185185185*M**2*S**2*epsilon + 0.00462962962962963*M**2*S**2 + 0.148148148148148*M**2*S*T*epsilon**3 - 0.0925925925925926*M**2*S*T*epsilon**2 + 0.00462962962962963*M**2*S*T + 0.117283950617284*M**2*T**2*epsilon**3 - 0.101851851851852*M**2*T**2*epsilon**2 + 0.0231481481481481*M**2*T**2*epsilon - 0.000771604938271605*M**2*T**2 - 0.549382716049383*M*P**3*epsilon**3 + 0.373456790123457*M*P**3*epsilon**2 - 0.0493827160493827*M*P**3*epsilon - 0.283950617283951*M*P**2*R*epsilon**3 + 0.0679012345679012*M*P**2*R*epsilon**2 + 0.0432098765432099*M*P**2*R*epsilon - 0.00308641975308642*M*P**2*R + 0.567901234567901*M*P**2*S*epsilon**3 - 0.172839506172839*M*P**2*S*epsilon**2 - 0.0771604938271605*M*P**2*S*epsilon + 0.0108024691358025*M*P**2*S + 1.0*M*P**2*T*epsilon**3 - 0.648148148148148*M*P**2*T*epsilon**2 + 0.0740740740740741*M*P**2*T*epsilon - 0.0123456790123457*M*P*R**2*epsilon**3 - 0.0123456790123457*M*P*R**2*epsilon**2 + 0.00771604938271605*M*P*R**2*epsilon + 0.000771604938271605*M*P*R**2 + 0.0987654320987654*M*P*R*S*epsilon**3 + 0.0864197530864197*M*P*R*S*epsilon**2 - 0.058641975308642*M*P*R*S*epsilon - 0.00462962962962963*M*P*R*S + 0.246913580246914*M*P*R*T*epsilon**3 - 0.037037037037037*M*P*R*T*epsilon**2 - 0.0462962962962963*M*P*R*T*epsilon + 0.00154320987654321*M*P*R*T - 0.123456790123457*M*P*S**2*epsilon**3 - 0.0925925925925926*M*P*S**2*epsilon**2 + 0.0787037037037037*M*P*S**2*epsilon - 0.000771604938271605*M*P*S**2 - 0.604938271604938*M*P*S*T*epsilon**3 + 0.141975308641975*M*P*S*T*epsilon**2 + 0.0987654320987654*M*P*S*T*epsilon - 0.00925925925925926*M*P*S*T - 0.549382716049383*M*P*T**2*epsilon**3 + 0.33641975308642*M*P*T**2*epsilon**2 - 0.0308641975308642*M*P*T**2*epsilon - 0.0185185185185185*M*R*S**2*epsilon**2 + 0.00462962962962963*M*R*S**2 - 0.0246913580246914*M*R*S*T*epsilon**3 - 0.037037037037037*M*R*S*T*epsilon**2 + 0.0185185185185185*M*R*S*T*epsilon + 0.00308641975308642*M*R*S*T - 0.037037037037037*M*R*T**2*epsilon**3 + 0.00925925925925926*M*R*T**2*epsilon + 0.0246913580246914*M*S**3*epsilon**2 - 0.00617283950617284*M*S**3*epsilon - 0.00308641975308642*M*S**3 + 0.0493827160493827*M*S**2*T*epsilon**3 + 0.0555555555555556*M*S**2*T*epsilon**2 - 0.037037037037037*M*S**2*T*epsilon - 0.00154320987654321*M*S**2*T + 0.135802469135802*M*S*T**2*epsilon**3 - 0.0185185185185185*M*S*T**2*epsilon**2 - 0.0277777777777778*M*S*T**2*epsilon + 0.00154320987654321*M*S*T**2 + 0.0864197530864197*M*T**3*epsilon**3 - 0.0493827160493827*M*T**3*epsilon**2 + 0.00308641975308642*M*T**3*epsilon + 0.339506172839506*P**4*epsilon**3 - 0.169753086419753*P**4*epsilon**2 + 0.148148148148148*P**3*R*epsilon**3 - 0.0185185185185185*P**3*R*epsilon**2 - 0.0277777777777778*P**3*R*epsilon - 0.37037037037037*P**3*S*epsilon**3 + 0.0308641975308642*P**3*S*epsilon**2 + 0.0771604938271605*P**3*S*epsilon - 0.679012345679012*P**3*T*epsilon**3 + 0.339506172839506*P**3*T*epsilon**2 + 0.00617283950617284*P**2*R**2*epsilon**3 + 0.00308641975308642*P**2*R**2*epsilon**2 - 0.00308641975308642*P**2*R**2*epsilon - 0.0617283950617284*P**2*R*S*epsilon**3 - 0.0555555555555556*P**2*R*S*epsilon**2 + 0.037037037037037*P**2*R*S*epsilon + 0.00308641975308642*P**2*R*S - 0.148148148148148*P**2*R*T*epsilon**3 + 0.0185185185185185*P**2*R*T*epsilon**2 + 0.0277777777777778*P**2*R*T*epsilon + 0.0925925925925926*P**2*S**2*epsilon**3 + 0.101851851851852*P**2*S**2*epsilon**2 - 0.0601851851851852*P**2*S**2*epsilon - 0.00694444444444444*P**2*S**2 + 0.481481481481481*P**2*S*T*epsilon**3 - 0.037037037037037*P**2*S*T*epsilon**2 - 0.101851851851852*P**2*S*T*epsilon + 0.444444444444444*P**2*T**2*epsilon**3 - 0.222222222222222*P**2*T**2*epsilon**2 + 0.0185185185185185*P*R*S**2*epsilon**2 - 0.00462962962962963*P*R*S**2*epsilon - 0.00231481481481481*P*R*S**2 + 0.0246913580246914*P*R*S*T*epsilon**3 + 0.0246913580246914*P*R*S*T*epsilon**2 - 0.0154320987654321*P*R*S*T*epsilon - 0.00154320987654321*P*R*S*T + 0.0308641975308642*P*R*T**2*epsilon**3 - 0.00308641975308642*P*R*T**2*epsilon**2 - 0.00617283950617284*P*R*T**2*epsilon - 0.0308641975308642*P*S**3*epsilon**2 + 0.00462962962962963*P*S**3*epsilon + 0.00540123456790123*P*S**3 - 0.0617283950617284*P*S**2*T*epsilon**3 - 0.0740740740740741*P*S**2*T*epsilon**2 + 0.0416666666666667*P*S**2*T*epsilon + 0.00540123456790123*P*S**2*T - 0.166666666666667*P*S*T**2*epsilon**3 + 0.00925925925925926*P*S*T**2*epsilon**2 + 0.037037037037037*P*S*T**2*epsilon - 0.104938271604938*P*T**3*epsilon**3 + 0.0524691358024691*P*T**3*epsilon**2 + 0.00154320987654321*S**4*epsilon - 0.000771604938271605*S**4 + 0.00617283950617284*S**3*T*epsilon**2 - 0.00154320987654321*S**3*T + 0.00617283950617284*S**2*T**2*epsilon**3 + 0.00925925925925926*S**2*T**2*epsilon**2 - 0.00462962962962963*S**2*T**2*epsilon - 0.000771604938271605*S**2*T**2 + 0.0123456790123457*S*T**3*epsilon**3 - 0.00308641975308642*S*T**3*epsilon + 0.00617283950617284*T**4*epsilon**3 - 0.00308641975308642*T**4*epsilon**2) + UGA_star**3*UgA_star**2*(0.037037037037037*M**2*P**2*epsilon**3 - 0.0432098765432099*M**2*P**2*epsilon**2 + 0.0154320987654321*M**2*P**2*epsilon - 0.00154320987654321*M**2*P**2 + 0.0493827160493827*M**2*P*R*epsilon**3 - 0.0493827160493827*M**2*P*R*epsilon**2 + 0.0123456790123457*M**2*P*R*epsilon - 0.0555555555555556*M**2*P*S*epsilon**3 + 0.058641975308642*M**2*P*S*epsilon**2 - 0.0169753086419753*M**2*P*S*epsilon + 0.000771604938271605*M**2*P*S - 0.0679012345679012*M**2*P*T*epsilon**3 + 0.0771604938271605*M**2*P*T*epsilon**2 - 0.0262345679012346*M**2*P*T*epsilon + 0.00231481481481481*M**2*P*T + 0.0123456790123457*M**2*R**2*epsilon**3 - 0.00617283950617284*M**2*R**2*epsilon**2 - 0.00308641975308642*M**2*R**2*epsilon + 0.00154320987654321*M**2*R**2 - 0.0308641975308642*M**2*R*S*epsilon**3 + 0.0216049382716049*M**2*R*S*epsilon**2 + 0.00154320987654321*M**2*R*S*epsilon - 0.00231481481481481*M**2*R*S - 0.0432098765432099*M**2*R*T*epsilon**3 + 0.0401234567901235*M**2*R*T*epsilon**2 - 0.00771604938271605*M**2*R*T*epsilon - 0.000771604938271605*M**2*R*T + 0.0185185185185185*M**2*S**2*epsilon**3 - 0.0154320987654321*M**2*S**2*epsilon**2 + 0.00154320987654321*M**2*S**2*epsilon + 0.000771604938271605*M**2*S**2 + 0.0493827160493827*M**2*S*T*epsilon**3 - 0.0493827160493827*M**2*S*T*epsilon**2 + 0.0123456790123457*M**2*S*T*epsilon + 0.0308641975308642*M**2*T**2*epsilon**3 - 0.0339506172839506*M**2*T**2*epsilon**2 + 0.0108024691358025*M**2*T**2*epsilon - 0.000771604938271605*M**2*T**2 - 0.148148148148148*M*P**3*epsilon**3 + 0.111111111111111*M*P**3*epsilon**2 - 0.0185185185185185*M*P**3*epsilon - 0.185185185185185*M*P**2*R*epsilon**3 + 0.104938271604938*M*P**2*R*epsilon**2 - 0.00308641975308642*M*P**2*R*epsilon - 0.00154320987654321*M*P**2*R + 0.222222222222222*M*P**2*S*epsilon**3 - 0.111111111111111*M*P**2*S*epsilon**2 - 0.00925925925925926*M*P**2*S*epsilon + 0.00462962962962963*M*P**2*S + 0.333333333333333*M*P**2*T*epsilon**3 - 0.240740740740741*M*P**2*T*epsilon**2 + 0.037037037037037*M*P**2*T*epsilon - 0.037037037037037*M*P*R**2*epsilon**3 - 0.00617283950617284*M*P*R**2*epsilon**2 + 0.0154320987654321*M*P*R**2*epsilon - 0.00154320987654321*M*P*R**2 + 0.111111111111111*M*P*R*S*epsilon**3 + 0.0185185185185185*M*P*R*S*epsilon**2 - 0.0462962962962963*M*P*R*S*epsilon + 0.00462962962962963*M*P*R*S + 0.234567901234568*M*P*R*T*epsilon**3 - 0.117283950617284*M*P*R*T*epsilon**2 - 0.00308641975308642*M*P*R*T*epsilon + 0.00154320987654321*M*P*R*T - 0.0740740740740741*M*P*S**2*epsilon**3 - 0.0185185185185185*M*P*S**2*epsilon**2 + 0.037037037037037*M*P*S**2*epsilon - 0.00462962962962963*M*P*S**2 - 0.296296296296296*M*P*S*T*epsilon**3 + 0.123456790123457*M*P*S*T*epsilon**2 + 0.0246913580246914*M*P*S*T*epsilon - 0.00617283950617284*M*P*S*T - 0.234567901234568*M*P*T**2*epsilon**3 + 0.160493827160494*M*P*T**2*epsilon**2 - 0.0216049382716049*M*P*T**2*epsilon + 0.0123456790123457*M*R**2*S*epsilon**2 - 0.00308641975308642*M*R**2*S*epsilon - 0.00154320987654321*M*R**2*S + 0.0123456790123457*M*R**2*T*epsilon**3 + 0.00617283950617284*M*R**2*T*epsilon**2 - 0.00617283950617284*M*R**2*T*epsilon - 0.0308641975308642*M*R*S**2*epsilon**2 + 0.0123456790123457*M*R*S**2*epsilon + 0.00154320987654321*M*R*S**2 - 0.0493827160493827*M*R*S*T*epsilon**3 - 0.0246913580246914*M*R*S*T*epsilon**2 + 0.0246913580246914*M*R*S*T*epsilon - 0.0617283950617284*M*R*T**2*epsilon**3 + 0.0246913580246914*M*R*T**2*epsilon**2 + 0.00308641975308642*M*R*T**2*epsilon + 0.0185185185185185*M*S**3*epsilon**2 - 0.00925925925925926*M*S**3*epsilon + 0.037037037037037*M*S**2*T*epsilon**3 + 0.0246913580246914*M*S**2*T*epsilon**2 - 0.0246913580246914*M*S**2*T*epsilon + 0.00154320987654321*M*S**2*T + 0.0864197530864197*M*S*T**2*epsilon**3 - 0.0246913580246914*M*S*T**2*epsilon**2 - 0.0123456790123457*M*S*T**2*epsilon + 0.00154320987654321*M*S*T**2 + 0.0493827160493827*M*T**3*epsilon**3 - 0.0308641975308642*M*T**3*epsilon**2 + 0.00308641975308642*M*T**3*epsilon + 0.123456790123457*P**4*epsilon**3 - 0.0617283950617284*P**4*epsilon**2 + 0.148148148148148*P**3*R*epsilon**3 - 0.0493827160493827*P**3*R*epsilon**2 - 0.0123456790123457*P**3*R*epsilon - 0.185185185185185*P**3*S*epsilon**3 + 0.0308641975308642*P**3*S*epsilon**2 + 0.0308641975308642*P**3*S*epsilon - 0.308641975308642*P**3*T*epsilon**3 + 0.154320987654321*P**3*T*epsilon**2 + 0.0246913580246914*P**2*R**2*epsilon**3 + 0.0123456790123457*P**2*R**2*epsilon**2 - 0.0123456790123457*P**2*R**2*epsilon - 0.0864197530864197*P**2*R*S*epsilon**3 - 0.0555555555555556*P**2*R*S*epsilon**2 + 0.0462962962962963*P**2*R*S*epsilon + 0.00154320987654321*P**2*R*S - 0.222222222222222*P**2*R*T*epsilon**3 + 0.0740740740740741*P**2*R*T*epsilon**2 + 0.0185185185185185*P**2*R*T*epsilon + 0.0617283950617284*P**2*S**2*epsilon**3 + 0.0555555555555556*P**2*S**2*epsilon**2 - 0.037037037037037*P**2*S**2*epsilon - 0.00308641975308642*P**2*S**2 + 0.296296296296296*P**2*S*T*epsilon**3 - 0.037037037037037*P**2*S*T*epsilon**2 - 0.0555555555555556*P**2*S*T*epsilon + 0.259259259259259*P**2*T**2*epsilon**3 - 0.12962962962963*P**2*T**2*epsilon**2 - 0.0123456790123457*P*R**2*S*epsilon**2 + 0.00308641975308642*P*R**2*S*epsilon + 0.00154320987654321*P*R**2*S - 0.0123456790123457*P*R**2*T*epsilon**3 - 0.00617283950617284*P*R**2*T*epsilon**2 + 0.00617283950617284*P*R**2*T*epsilon + 0.037037037037037*P*R*S**2*epsilon**2 - 0.00925925925925926*P*R*S**2*epsilon - 0.00462962962962963*P*R*S**2 + 0.0617283950617284*P*R*S*T*epsilon**3 + 0.0432098765432099*P*R*S*T*epsilon**2 - 0.0339506172839506*P*R*S*T*epsilon - 0.00154320987654321*P*R*S*T + 0.0864197530864197*P*R*T**2*epsilon**3 - 0.0308641975308642*P*R*T**2*epsilon**2 - 0.00617283950617284*P*R*T**2*epsilon - 0.0246913580246914*P*S**3*epsilon**2 + 0.00462962962962963*P*S**3*epsilon + 0.00385802469135802*P*S**3 - 0.0493827160493827*P*S**2*T*epsilon**3 - 0.0555555555555556*P*S**2*T*epsilon**2 + 0.0324074074074074*P*S**2*T*epsilon + 0.00385802469135802*P*S**2*T - 0.12962962962963*P*S*T**2*epsilon**3 + 0.00925925925925926*P*S*T**2*epsilon**2 + 0.0277777777777778*P*S*T**2*epsilon - 0.0802469135802469*P*T**3*epsilon**3 + 0.0401234567901235*P*T**3*epsilon**2 - 0.00154320987654321*R*S**3*epsilon + 0.000771604938271605*R*S**3 - 0.00617283950617284*R*S**2*T*epsilon**2 + 0.00154320987654321*R*S**2*T*epsilon + 0.000771604938271605*R*S**2*T - 0.00617283950617284*R*S*T**2*epsilon**3 - 0.00308641975308642*R*S*T**2*epsilon**2 + 0.00308641975308642*R*S*T**2*epsilon - 0.00617283950617284*R*T**3*epsilon**3 + 0.00308641975308642*R*T**3*epsilon**2 + 0.00154320987654321*S**4*epsilon - 0.000771604938271605*S**4 + 0.00617283950617284*S**3*T*epsilon**2 - 0.00154320987654321*S**3*T + 0.00617283950617284*S**2*T**2*epsilon**3 + 0.00925925925925926*S**2*T**2*epsilon**2 - 0.00462962962962963*S**2*T**2*epsilon - 0.000771604938271605*S**2*T**2 + 0.0123456790123457*S*T**3*epsilon**3 - 0.00308641975308642*S*T**3*epsilon + 0.00617283950617284*T**4*epsilon**3 - 0.00308641975308642*T**4*epsilon**2) + UGA_star**3*UgA_star*(-0.0740740740740741*M**2*P**2*epsilon**3 + 0.0864197530864197*M**2*P**2*epsilon**2 - 0.0308641975308642*M**2*P**2*epsilon + 0.00308641975308642*M**2*P**2 - 0.0246913580246914*M**2*P*R*epsilon**3 + 0.0123456790123457*M**2*P*R*epsilon**2 + 0.00617283950617284*M**2*P*R*epsilon - 0.00308641975308642*M**2*P*R + 0.0740740740740741*M**2*P*S*epsilon**3 - 0.0740740740740741*M**2*P*S*epsilon**2 + 0.0185185185185185*M**2*P*S*epsilon + 0.0987654320987654*M**2*P*T*epsilon**3 - 0.111111111111111*M**2*P*T*epsilon**2 + 0.037037037037037*M**2*P*T*epsilon - 0.00308641975308642*M**2*P*T + 0.0123456790123457*M**2*R*S*epsilon**3 - 0.00617283950617284*M**2*R*S*epsilon**2 - 0.00308641975308642*M**2*R*S*epsilon + 0.00154320987654321*M**2*R*S + 0.0123456790123457*M**2*R*T*epsilon**3 - 0.00617283950617284*M**2*R*T*epsilon**2 - 0.00308641975308642*M**2*R*T*epsilon + 0.00154320987654321*M**2*R*T - 0.0185185185185185*M**2*S**2*epsilon**3 + 0.0154320987654321*M**2*S**2*epsilon**2 - 0.00154320987654321*M**2*S**2*epsilon - 0.000771604938271605*M**2*S**2 - 0.0493827160493827*M**2*S*T*epsilon**3 + 0.0493827160493827*M**2*S*T*epsilon**2 - 0.0123456790123457*M**2*S*T*epsilon - 0.0308641975308642*M**2*T**2*epsilon**3 + 0.0339506172839506*M**2*T**2*epsilon**2 - 0.0108024691358025*M**2*T**2*epsilon + 0.000771604938271605*M**2*T**2 + 0.296296296296296*M*P**3*epsilon**3 - 0.222222222222222*M*P**3*epsilon**2 + 0.037037037037037*M*P**3*epsilon + 0.0740740740740741*M*P**2*R*epsilon**3 + 0.0123456790123457*M*P**2*R*epsilon**2 - 0.0308641975308642*M*P**2*R*epsilon + 0.00308641975308642*M*P**2*R - 0.296296296296296*M*P**2*S*epsilon**3 + 0.111111111111111*M*P**2*S*epsilon**2 + 0.037037037037037*M*P**2*S*epsilon - 0.00925925925925926*M*P**2*S - 0.518518518518518*M*P**2*T*epsilon**3 + 0.37037037037037*M*P**2*T*epsilon**2 - 0.0555555555555556*M*P**2*T*epsilon - 0.037037037037037*M*P*R*S*epsilon**3 - 0.0308641975308642*M*P*R*S*epsilon**2 + 0.0216049382716049*M*P*R*S*epsilon + 0.00154320987654321*M*P*R*S - 0.0617283950617284*M*P*R*T*epsilon**3 - 0.0185185185185185*M*P*R*T*epsilon**2 + 0.0277777777777778*M*P*R*T*epsilon - 0.00154320987654321*M*P*R*T + 0.0740740740740741*M*P*S**2*epsilon**3 + 0.037037037037037*M*P*S**2*epsilon**2 - 0.0462962962962963*M*P*S**2*epsilon + 0.00462962962962963*M*P*S**2 + 0.333333333333333*M*P*S*T*epsilon**3 - 0.117283950617284*M*P*S*T*epsilon**2 - 0.0401234567901235*M*P*S*T*epsilon + 0.00771604938271605*M*P*S*T + 0.283950617283951*M*P*T**2*epsilon**3 - 0.191358024691358*M*P*T**2*epsilon**2 + 0.0246913580246914*M*P*T**2*epsilon + 0.0123456790123457*M*R*S**2*epsilon**2 - 0.00308641975308642*M*R*S**2*epsilon - 0.00154320987654321*M*R*S**2 + 0.0123456790123457*M*R*S*T*epsilon**3 + 0.0185185185185185*M*R*S*T*epsilon**2 - 0.00925925925925926*M*R*S*T*epsilon - 0.00154320987654321*M*R*S*T + 0.0123456790123457*M*R*T**2*epsilon**3 + 0.00617283950617284*M*R*T**2*epsilon**2 - 0.00617283950617284*M*R*T**2*epsilon - 0.0185185185185185*M*S**3*epsilon**2 + 0.00925925925925926*M*S**3*epsilon - 0.037037037037037*M*S**2*T*epsilon**3 - 0.0246913580246914*M*S**2*T*epsilon**2 + 0.0246913580246914*M*S**2*T*epsilon - 0.00154320987654321*M*S**2*T - 0.0864197530864197*M*S*T**2*epsilon**3 + 0.0246913580246914*M*S*T**2*epsilon**2 + 0.0123456790123457*M*S*T**2*epsilon - 0.00154320987654321*M*S*T**2 - 0.0493827160493827*M*T**3*epsilon**3 + 0.0308641975308642*M*T**3*epsilon**2 - 0.00308641975308642*M*T**3*epsilon - 0.246913580246914*P**4*epsilon**3 + 0.123456790123457*P**4*epsilon**2 - 0.0493827160493827*P**3*R*epsilon**3 - 0.0246913580246914*P**3*R*epsilon**2 + 0.0246913580246914*P**3*R*epsilon + 0.246913580246914*P**3*S*epsilon**3 - 0.0617283950617284*P**3*S*epsilon + 0.493827160493827*P**3*T*epsilon**3 - 0.246913580246914*P**3*T*epsilon**2 + 0.0246913580246914*P**2*R*S*epsilon**3 + 0.037037037037037*P**2*R*S*epsilon**2 - 0.0185185185185185*P**2*R*S*epsilon - 0.00308641975308642*P**2*R*S + 0.0493827160493827*P**2*R*T*epsilon**3 + 0.0246913580246914*P**2*R*T*epsilon**2 - 0.0246913580246914*P**2*R*T*epsilon - 0.0617283950617284*P**2*S**2*epsilon**3 - 0.0802469135802469*P**2*S**2*epsilon**2 + 0.0432098765432099*P**2*S**2*epsilon + 0.00617283950617284*P**2*S**2 - 0.345679012345679*P**2*S*T*epsilon**3 + 0.0123456790123457*P**2*S*T*epsilon**2 + 0.0802469135802469*P**2*S*T*epsilon - 0.333333333333333*P**2*T**2*epsilon**3 + 0.166666666666667*P**2*T**2*epsilon**2 - 0.0123456790123457*P*R*S**2*epsilon**2 + 0.00308641975308642*P*R*S**2*epsilon + 0.00154320987654321*P*R*S**2 - 0.0123456790123457*P*R*S*T*epsilon**3 - 0.0185185185185185*P*R*S*T*epsilon**2 + 0.00925925925925926*P*R*S*T*epsilon + 0.00154320987654321*P*R*S*T - 0.0123456790123457*P*R*T**2*epsilon**3 - 0.00617283950617284*P*R*T**2*epsilon**2 + 0.00617283950617284*P*R*T**2*epsilon + 0.0246913580246914*P*S**3*epsilon**2 - 0.00308641975308642*P*S**3*epsilon - 0.00462962962962963*P*S**3 + 0.0493827160493827*P*S**2*T*epsilon**3 + 0.0617283950617284*P*S**2*T*epsilon**2 - 0.0339506172839506*P*S**2*T*epsilon - 0.00462962962962963*P*S**2*T + 0.135802469135802*P*S*T**2*epsilon**3 - 0.00617283950617284*P*S*T**2*epsilon**2 - 0.0308641975308642*P*S*T**2*epsilon + 0.0864197530864197*P*T**3*epsilon**3 - 0.0432098765432099*P*T**3*epsilon**2 - 0.00154320987654321*S**4*epsilon + 0.000771604938271605*S**4 - 0.00617283950617284*S**3*T*epsilon**2 + 0.00154320987654321*S**3*T - 0.00617283950617284*S**2*T**2*epsilon**3 - 0.00925925925925926*S**2*T**2*epsilon**2 + 0.00462962962962963*S**2*T**2*epsilon + 0.000771604938271605*S**2*T**2 - 0.0123456790123457*S*T**3*epsilon**3 + 0.00308641975308642*S*T**3*epsilon - 0.00617283950617284*T**4*epsilon**3 + 0.00308641975308642*T**4*epsilon**2) + UGA_star**3*(0.0617283950617284*M**3*P*epsilon**3 - 0.0740740740740741*M**3*P*epsilon**2 + 0.0277777777777778*M**3*P*epsilon - 0.00308641975308642*M**3*P + 0.0246913580246914*M**3*R*epsilon**3 - 0.0185185185185185*M**3*R*epsilon**2 + 0.00154320987654321*M**3*R - 0.037037037037037*M**3*S*epsilon**3 + 0.037037037037037*M**3*S*epsilon**2 - 0.00925925925925926*M**3*S*epsilon - 0.0493827160493827*M**3*T*epsilon**3 + 0.0555555555555556*M**3*T*epsilon**2 - 0.0185185185185185*M**3*T*epsilon + 0.00154320987654321*M**3*T - 0.358024691358025*M**2*P**2*epsilon**3 + 0.290123456790123*M**2*P**2*epsilon**2 - 0.058641975308642*M**2*P**2*epsilon + 0.00154320987654321*M**2*P**2 - 0.111111111111111*M**2*P*R*epsilon**3 + 0.0308641975308642*M**2*P*R*epsilon**2 + 0.0154320987654321*M**2*P*R*epsilon - 0.00154320987654321*M**2*P*R + 0.253086419753086*M**2*P*S*epsilon**3 - 0.114197530864198*M**2*P*S*epsilon**2 - 0.0200617283950617*M**2*P*S*epsilon + 0.00694444444444444*M**2*P*S + 0.425925925925926*M**2*P*T*epsilon**3 - 0.317901234567901*M**2*P*T*epsilon**2 + 0.0540123456790123*M**2*P*T*epsilon - 0.000771604938271605*M**2*P*T + 0.0123456790123457*M**2*R*S*epsilon**3 + 0.0185185185185185*M**2*R*S*epsilon**2 - 0.00925925925925926*M**2*R*S*epsilon - 0.00154320987654321*M**2*R*S + 0.037037037037037*M**2*R*T*epsilon**3 - 0.00925925925925926*M**2*R*T*epsilon - 0.0246913580246914*M**2*S**2*epsilon**3 - 0.0185185185185185*M**2*S**2*epsilon**2 + 0.0185185185185185*M**2*S**2*epsilon - 0.00154320987654321*M**2*S**2 - 0.123456790123457*M**2*S*T*epsilon**3 + 0.037037037037037*M**2*S*T*epsilon**2 + 0.0185185185185185*M**2*S*T*epsilon - 0.00308641975308642*M**2*S*T - 0.111111111111111*M**2*T**2*epsilon**3 + 0.0740740740740741*M**2*T**2*epsilon**2 - 0.00925925925925926*M**2*T**2*epsilon + 0.530864197530864*M*P**3*epsilon**3 - 0.320987654320988*M*P**3*epsilon**2 + 0.0277777777777778*M*P**3*epsilon + 0.135802469135802*M*P**2*R*epsilon**3 - 0.0246913580246914*M*P**2*R*epsilon**2 - 0.0216049382716049*M*P**2*R*epsilon - 0.419753086419753*M*P**2*S*epsilon**3 + 0.0925925925925926*M*P**2*S*epsilon**2 + 0.0648148148148148*M*P**2*S*epsilon - 0.00308641975308642*M*P**2*S - 0.740740740740741*M*P**2*T*epsilon**3 + 0.425925925925926*M*P**2*T*epsilon**2 - 0.0277777777777778*M*P**2*T*epsilon - 0.0246913580246914*M*P*R*S*epsilon**3 - 0.0246913580246914*M*P*R*S*epsilon**2 + 0.0154320987654321*M*P*R*S*epsilon + 0.00154320987654321*M*P*R*S - 0.0617283950617284*M*P*R*T*epsilon**3 + 0.00617283950617284*M*P*R*T*epsilon**2 + 0.0123456790123457*M*P*R*T*epsilon + 0.0617283950617284*M*P*S**2*epsilon**3 + 0.0555555555555556*M*P*S**2*epsilon**2 - 0.037037037037037*M*P*S**2*epsilon - 0.00308641975308642*M*P*S**2 + 0.308641975308642*M*P*S*T*epsilon**3 - 0.0432098765432099*M*P*S*T*epsilon**2 - 0.058641975308642*M*P*S*T*epsilon + 0.00154320987654321*M*P*S*T + 0.283950617283951*M*P*T**2*epsilon**3 - 0.154320987654321*M*P*T**2*epsilon**2 + 0.00617283950617284*M*P*T**2*epsilon - 0.00617283950617284*M*S**3*epsilon**2 + 0.00154320987654321*M*S**3 - 0.0123456790123457*M*S**2*T*epsilon**3 - 0.0185185185185185*M*S**2*T*epsilon**2 + 0.00925925925925926*M*S**2*T*epsilon + 0.00154320987654321*M*S**2*T - 0.037037037037037*M*S*T**2*epsilon**3 + 0.00925925925925926*M*S*T**2*epsilon - 0.0246913580246914*M*T**3*epsilon**3 + 0.0123456790123457*M*T**3*epsilon**2 - 0.222222222222222*P**4*epsilon**3 + 0.111111111111111*P**4*epsilon**2 - 0.0493827160493827*P**3*R*epsilon**3 + 0.0123456790123457*P**3*R*epsilon**2 + 0.00617283950617284*P**3*R*epsilon + 0.197530864197531*P**3*S*epsilon**3 - 0.0308641975308642*P**3*S*epsilon**2 - 0.0339506172839506*P**3*S*epsilon + 0.333333333333333*P**3*T*epsilon**3 - 0.166666666666667*P**3*T*epsilon**2 + 0.0123456790123457*P**2*R*S*epsilon**3 + 0.00617283950617284*P**2*R*S*epsilon**2 - 0.00617283950617284*P**2*R*S*epsilon + 0.0246913580246914*P**2*R*T*epsilon**3 - 0.00617283950617284*P**2*R*T*epsilon**2 - 0.00308641975308642*P**2*R*T*epsilon - 0.037037037037037*P**2*S**2*epsilon**3 - 0.0308641975308642*P**2*S**2*epsilon**2 + 0.0216049382716049*P**2*S**2*epsilon + 0.00154320987654321*P**2*S**2 - 0.172839506172839*P**2*S*T*epsilon**3 + 0.0246913580246914*P**2*S*T*epsilon**2 + 0.0308641975308642*P**2*S*T*epsilon - 0.148148148148148*P**2*T**2*epsilon**3 + 0.0740740740740741*P**2*T**2*epsilon**2 + 0.00617283950617284*P*S**3*epsilon**2 - 0.00154320987654321*P*S**3*epsilon - 0.000771604938271605*P*S**3 + 0.0123456790123457*P*S**2*T*epsilon**3 + 0.0123456790123457*P*S**2*T*epsilon**2 - 0.00771604938271605*P*S**2*T*epsilon - 0.000771604938271605*P*S**2*T + 0.0308641975308642*P*S*T**2*epsilon**3 - 0.00308641975308642*P*S*T**2*epsilon**2 - 0.00617283950617284*P*S*T**2*epsilon + 0.0185185185185185*P*T**3*epsilon**3 - 0.00925925925925926*P*T**3*epsilon**2) + UGA_star**2*UgA_star**2*(0.00617283950617284*M**3*P*epsilon**3 - 0.00925925925925926*M**3*P*epsilon**2 + 0.00462962962962963*M**3*P*epsilon - 0.000771604938271605*M**3*P + 0.00617283950617284*M**3*R*epsilon**3 - 0.00925925925925926*M**3*R*epsilon**2 + 0.00462962962962963*M**3*R*epsilon - 0.000771604938271605*M**3*R - 0.00617283950617284*M**3*S*epsilon**3 + 0.00925925925925926*M**3*S*epsilon**2 - 0.00462962962962963*M**3*S*epsilon + 0.000771604938271605*M**3*S - 0.00617283950617284*M**3*T*epsilon**3 + 0.00925925925925926*M**3*T*epsilon**2 - 0.00462962962962963*M**3*T*epsilon + 0.000771604938271605*M**3*T - 0.0740740740740741*M**2*P**2*epsilon**3 + 0.0679012345679012*M**2*P**2*epsilon**2 - 0.0169753086419753*M**2*P**2*epsilon + 0.000771604938271605*M**2*P**2 - 0.0802469135802469*M**2*P*R*epsilon**3 + 0.0648148148148148*M**2*P*R*epsilon**2 - 0.0138888888888889*M**2*P*R*epsilon + 0.000771604938271605*M**2*P*R + 0.0925925925925926*M**2*P*S*epsilon**3 - 0.0709876543209877*M**2*P*S*epsilon**2 + 0.0108024691358025*M**2*P*S*epsilon + 0.000771604938271605*M**2*P*S + 0.117283950617284*M**2*P*T*epsilon**3 - 0.101851851851852*M**2*P*T*epsilon**2 + 0.0231481481481481*M**2*P*T*epsilon - 0.000771604938271605*M**2*P*T - 0.00617283950617284*M**2*R**2*epsilon**3 - 0.00308641975308642*M**2*R**2*epsilon**2 + 0.00308641975308642*M**2*R**2*epsilon + 0.0246913580246914*M**2*R*S*epsilon**3 - 0.00925925925925926*M**2*R*S*epsilon + 0.00154320987654321*M**2*R*S + 0.0493827160493827*M**2*R*T*epsilon**3 - 0.0308641975308642*M**2*R*T*epsilon**2 + 0.00308641975308642*M**2*R*T*epsilon - 0.0185185185185185*M**2*S**2*epsilon**3 + 0.00308641975308642*M**2*S**2*epsilon**2 + 0.00617283950617284*M**2*S**2*epsilon - 0.00154320987654321*M**2*S**2 - 0.0617283950617284*M**2*S*T*epsilon**3 + 0.037037037037037*M**2*S*T*epsilon**2 - 0.00154320987654321*M**2*S*T - 0.0432098765432099*M**2*T**2*epsilon**3 + 0.0339506172839506*M**2*T**2*epsilon**2 - 0.00617283950617284*M**2*T**2*epsilon + 0.160493827160494*M*P**3*epsilon**3 - 0.104938271604938*M*P**3*epsilon**2 + 0.0123456790123457*M*P**3*epsilon + 0.172839506172839*M*P**2*R*epsilon**3 - 0.0987654320987654*M*P**2*R*epsilon**2 + 0.00617283950617284*M*P**2*R*epsilon - 0.209876543209877*M*P**2*S*epsilon**3 + 0.0925925925925926*M*P**2*S*epsilon**2 + 0.00925925925925926*M*P**2*S*epsilon - 0.00154320987654321*M*P**2*S - 0.296296296296296*M*P**2*T*epsilon**3 + 0.185185185185185*M*P**2*T*epsilon**2 - 0.0185185185185185*M*P**2*T*epsilon + 0.0123456790123457*M*P*R**2*epsilon**3 + 0.00617283950617284*M*P*R**2*epsilon**2 - 0.00617283950617284*M*P*R**2*epsilon - 0.0617283950617284*M*P*R*S*epsilon**3 - 0.0185185185185185*M*P*R*S*epsilon**2 + 0.0277777777777778*M*P*R*S*epsilon - 0.00154320987654321*M*P*R*S - 0.148148148148148*M*P*R*T*epsilon**3 + 0.0740740740740741*M*P*R*T*epsilon**2 + 0.0493827160493827*M*P*S**2*epsilon**3 + 0.0185185185185185*M*P*S**2*epsilon**2 - 0.0231481481481481*M*P*S**2*epsilon + 0.000771604938271605*M*P*S**2 + 0.197530864197531*M*P*S*T*epsilon**3 - 0.0617283950617284*M*P*S*T*epsilon**2 - 0.0216049382716049*M*P*S*T*epsilon + 0.00154320987654321*M*P*S*T + 0.154320987654321*M*P*T**2*epsilon**3 - 0.0895061728395062*M*P*T**2*epsilon**2 + 0.00617283950617284*M*P*T**2*epsilon + 0.00617283950617284*M*R*S**2*epsilon**2 - 0.00154320987654321*M*R*S**2*epsilon - 0.000771604938271605*M*R*S**2 + 0.0123456790123457*M*R*S*T*epsilon**3 + 0.00617283950617284*M*R*S*T*epsilon**2 - 0.00617283950617284*M*R*S*T*epsilon + 0.0185185185185185*M*R*T**2*epsilon**3 - 0.00925925925925926*M*R*T**2*epsilon**2 - 0.00617283950617284*M*S**3*epsilon**2 + 0.00154320987654321*M*S**3*epsilon + 0.000771604938271605*M*S**3 - 0.0123456790123457*M*S**2*T*epsilon**3 - 0.0123456790123457*M*S**2*T*epsilon**2 + 0.00771604938271605*M*S**2*T*epsilon + 0.000771604938271605*M*S**2*T - 0.0308641975308642*M*S*T**2*epsilon**3 + 0.00308641975308642*M*S*T**2*epsilon**2 + 0.00617283950617284*M*S*T**2*epsilon - 0.0185185185185185*M*T**3*epsilon**3 + 0.00925925925925926*M*T**3*epsilon**2 - 0.0925925925925926*P**4*epsilon**3 + 0.0462962962962963*P**4*epsilon**2 - 0.0987654320987654*P**3*R*epsilon**3 + 0.0432098765432099*P**3*R*epsilon**2 + 0.00308641975308642*P**3*R*epsilon + 0.123456790123457*P**3*S*epsilon**3 - 0.0308641975308642*P**3*S*epsilon**2 - 0.0154320987654321*P**3*S*epsilon + 0.185185185185185*P**3*T*epsilon**3 - 0.0925925925925926*P**3*T*epsilon**2 - 0.00617283950617284*P**2*R**2*epsilon**3 - 0.00308641975308642*P**2*R**2*epsilon**2 + 0.00308641975308642*P**2*R**2*epsilon + 0.037037037037037*P**2*R*S*epsilon**3 + 0.0185185185185185*P**2*R*S*epsilon**2 - 0.0185185185185185*P**2*R*S*epsilon + 0.0987654320987654*P**2*R*T*epsilon**3 - 0.0432098765432099*P**2*R*T*epsilon**2 - 0.00308641975308642*P**2*R*T*epsilon - 0.0308641975308642*P**2*S**2*epsilon**3 - 0.0216049382716049*P**2*S**2*epsilon**2 + 0.0169753086419753*P**2*S**2*epsilon + 0.000771604938271605*P**2*S**2 - 0.135802469135802*P**2*S*T*epsilon**3 + 0.0246913580246914*P**2*S*T*epsilon**2 + 0.0216049382716049*P**2*S*T*epsilon - 0.111111111111111*P**2*T**2*epsilon**3 + 0.0555555555555556*P**2*T**2*epsilon**2 - 0.00617283950617284*P*R*S**2*epsilon**2 + 0.00154320987654321*P*R*S**2*epsilon + 0.000771604938271605*P*R*S**2 - 0.0123456790123457*P*R*S*T*epsilon**3 - 0.00617283950617284*P*R*S*T*epsilon**2 + 0.00617283950617284*P*R*S*T*epsilon - 0.0185185185185185*P*R*T**2*epsilon**3 + 0.00925925925925926*P*R*T**2*epsilon**2 + 0.00617283950617284*P*S**3*epsilon**2 - 0.00154320987654321*P*S**3*epsilon - 0.000771604938271605*P*S**3 + 0.0123456790123457*P*S**2*T*epsilon**3 + 0.0123456790123457*P*S**2*T*epsilon**2 - 0.00771604938271605*P*S**2*T*epsilon - 0.000771604938271605*P*S**2*T + 0.0308641975308642*P*S*T**2*epsilon**3 - 0.00308641975308642*P*S*T**2*epsilon**2 - 0.00617283950617284*P*S*T**2*epsilon + 0.0185185185185185*P*T**3*epsilon**3 - 0.00925925925925926*P*T**3*epsilon**2) + UGA_star**2*UgA_star*(-0.0123456790123457*M**3*P*epsilon**3 + 0.0185185185185185*M**3*P*epsilon**2 - 0.00925925925925926*M**3*P*epsilon + 0.00154320987654321*M**3*P + 0.00617283950617284*M**3*S*epsilon**3 - 0.00925925925925926*M**3*S*epsilon**2 + 0.00462962962962963*M**3*S*epsilon - 0.000771604938271605*M**3*S + 0.00617283950617284*M**3*T*epsilon**3 - 0.00925925925925926*M**3*T*epsilon**2 + 0.00462962962962963*M**3*T*epsilon - 0.000771604938271605*M**3*T + 0.148148148148148*M**2*P**2*epsilon**3 - 0.135802469135802*M**2*P**2*epsilon**2 + 0.0339506172839506*M**2*P**2*epsilon - 0.00154320987654321*M**2*P**2 + 0.0123456790123457*M**2*P*R*epsilon**3 + 0.00617283950617284*M**2*P*R*epsilon**2 - 0.00617283950617284*M**2*P*R*epsilon - 0.111111111111111*M**2*P*S*epsilon**3 + 0.0740740740740741*M**2*P*S*epsilon**2 - 0.00462962962962963*M**2*P*S*epsilon - 0.00231481481481481*M**2*P*S - 0.160493827160494*M**2*P*T*epsilon**3 + 0.135802469135802*M**2*P*T*epsilon**2 - 0.029320987654321*M**2*P*T*epsilon + 0.000771604938271605*M**2*P*T - 0.00617283950617284*M**2*R*S*epsilon**3 - 0.00308641975308642*M**2*R*S*epsilon**2 + 0.00308641975308642*M**2*R*S*epsilon - 0.00617283950617284*M**2*R*T*epsilon**3 - 0.00308641975308642*M**2*R*T*epsilon**2 + 0.00308641975308642*M**2*R*T*epsilon + 0.0185185185185185*M**2*S**2*epsilon**3 - 0.00308641975308642*M**2*S**2*epsilon**2 - 0.00617283950617284*M**2*S**2*epsilon + 0.00154320987654321*M**2*S**2 + 0.0617283950617284*M**2*S*T*epsilon**3 - 0.037037037037037*M**2*S*T*epsilon**2 + 0.00154320987654321*M**2*S*T + 0.0432098765432099*M**2*T**2*epsilon**3 - 0.0339506172839506*M**2*T**2*epsilon**2 + 0.00617283950617284*M**2*T**2*epsilon - 0.320987654320988*M*P**3*epsilon**3 + 0.209876543209877*M*P**3*epsilon**2 - 0.0246913580246914*M*P**3*epsilon - 0.0246913580246914*M*P**2*R*epsilon**3 - 0.0123456790123457*M*P**2*R*epsilon**2 + 0.0123456790123457*M*P**2*R*epsilon + 0.259259259259259*M*P**2*S*epsilon**3 - 0.0802469135802469*M*P**2*S*epsilon**2 - 0.0308641975308642*M*P**2*S*epsilon + 0.00308641975308642*M*P**2*S + 0.432098765432099*M*P**2*T*epsilon**3 - 0.265432098765432*M*P**2*T*epsilon**2 + 0.0246913580246914*M*P**2*T*epsilon + 0.0123456790123457*M*P*R*S*epsilon**3 + 0.00617283950617284*M*P*R*S*epsilon**2 - 0.00617283950617284*M*P*R*S*epsilon + 0.0123456790123457*M*P*R*T*epsilon**3 + 0.00617283950617284*M*P*R*T*epsilon**2 - 0.00617283950617284*M*P*R*T*epsilon - 0.0493827160493827*M*P*S**2*epsilon**3 - 0.0246913580246914*M*P*S**2*epsilon**2 + 0.0246913580246914*M*P*S**2*epsilon - 0.209876543209877*M*P*S*T*epsilon**3 + 0.0555555555555556*M*P*S*T*epsilon**2 + 0.0277777777777778*M*P*S*T*epsilon - 0.00154320987654321*M*P*S*T - 0.172839506172839*M*P*T**2*epsilon**3 + 0.0987654320987654*M*P*T**2*epsilon**2 - 0.00617283950617284*M*P*T**2*epsilon + 0.00617283950617284*M*S**3*epsilon**2 - 0.00154320987654321*M*S**3*epsilon - 0.000771604938271605*M*S**3 + 0.0123456790123457*M*S**2*T*epsilon**3 + 0.0123456790123457*M*S**2*T*epsilon**2 - 0.00771604938271605*M*S**2*T*epsilon - 0.000771604938271605*M*S**2*T + 0.0308641975308642*M*S*T**2*epsilon**3 - 0.00308641975308642*M*S*T**2*epsilon**2 - 0.00617283950617284*M*S*T**2*epsilon + 0.0185185185185185*M*T**3*epsilon**3 - 0.00925925925925926*M*T**3*epsilon**2 + 0.185185185185185*P**4*epsilon**3 - 0.0925925925925926*P**4*epsilon**2 + 0.0123456790123457*P**3*R*epsilon**3 + 0.00617283950617284*P**3*R*epsilon**2 - 0.00617283950617284*P**3*R*epsilon - 0.154320987654321*P**3*S*epsilon**3 + 0.0154320987654321*P**3*S*epsilon**2 + 0.0308641975308642*P**3*S*epsilon - 0.277777777777778*P**3*T*epsilon**3 + 0.138888888888889*P**3*T*epsilon**2 - 0.00617283950617284*P**2*R*S*epsilon**3 - 0.00308641975308642*P**2*R*S*epsilon**2 + 0.00308641975308642*P**2*R*S*epsilon - 0.00617283950617284*P**2*R*T*epsilon**3 - 0.00308641975308642*P**2*R*T*epsilon**2 + 0.00308641975308642*P**2*R*T*epsilon + 0.0308641975308642*P**2*S**2*epsilon**3 + 0.0277777777777778*P**2*S**2*epsilon**2 - 0.0185185185185185*P**2*S**2*epsilon - 0.00154320987654321*P**2*S**2 + 0.148148148148148*P**2*S*T*epsilon**3 - 0.0185185185185185*P**2*S*T*epsilon**2 - 0.0277777777777778*P**2*S*T*epsilon + 0.12962962962963*P**2*T**2*epsilon**3 - 0.0648148148148148*P**2*T**2*epsilon**2 - 0.00617283950617284*P*S**3*epsilon**2 + 0.00154320987654321*P*S**3*epsilon + 0.000771604938271605*P*S**3 - 0.0123456790123457*P*S**2*T*epsilon**3 - 0.0123456790123457*P*S**2*T*epsilon**2 + 0.00771604938271605*P*S**2*T*epsilon + 0.000771604938271605*P*S**2*T - 0.0308641975308642*P*S*T**2*epsilon**3 + 0.00308641975308642*P*S*T**2*epsilon**2 + 0.00617283950617284*P*S*T**2*epsilon - 0.0185185185185185*P*T**3*epsilon**3 + 0.00925925925925926*P*T**3*epsilon**2) + UGA_star**2*(0.00617283950617284*M**4*epsilon**3 - 0.00925925925925926*M**4*epsilon**2 + 0.00462962962962963*M**4*epsilon - 0.000771604938271605*M**4 - 0.104938271604938*M**3*P*epsilon**3 + 0.095679012345679*M**3*P*epsilon**2 - 0.0231481481481481*M**3*P*epsilon + 0.000771604938271605*M**3*P - 0.0123456790123457*M**3*R*epsilon**3 + 0.00308641975308642*M**3*R*epsilon + 0.037037037037037*M**3*S*epsilon**3 - 0.0185185185185185*M**3*S*epsilon**2 - 0.00308641975308642*M**3*S*epsilon + 0.00154320987654321*M**3*S + 0.0617283950617284*M**3*T*epsilon**3 - 0.0493827160493827*M**3*T*epsilon**2 + 0.00925925925925926*M**3*T*epsilon + 0.302469135802469*M**2*P**2*epsilon**3 - 0.200617283950617*M**2*P**2*epsilon**2 + 0.0246913580246914*M**2*P**2*epsilon + 0.0308641975308642*M**2*P*R*epsilon**3 - 0.00308641975308642*M**2*P*R*epsilon**2 - 0.00617283950617284*M**2*P*R*epsilon - 0.141975308641975*M**2*P*S*epsilon**3 + 0.0339506172839506*M**2*P*S*epsilon**2 + 0.0216049382716049*M**2*P*S*epsilon - 0.00154320987654321*M**2*P*S - 0.253086419753086*M**2*P*T*epsilon**3 + 0.151234567901235*M**2*P*T*epsilon**2 - 0.0123456790123457*M**2*P*T*epsilon + 0.00617283950617284*M**2*S**2*epsilon**3 + 0.00925925925925926*M**2*S**2*epsilon**2 - 0.00462962962962963*M**2*S**2*epsilon - 0.000771604938271605*M**2*S**2 + 0.037037037037037*M**2*S*T*epsilon**3 - 0.00925925925925926*M**2*S*T*epsilon + 0.037037037037037*M**2*T**2*epsilon**3 - 0.0185185185185185*M**2*T**2*epsilon**2 - 0.283950617283951*M*P**3*epsilon**3 + 0.154320987654321*M*P**3*epsilon**2 - 0.00617283950617284*M*P**3*epsilon - 0.0246913580246914*M*P**2*R*epsilon**3 + 0.00617283950617284*M*P**2*R*epsilon**2 + 0.00308641975308642*M*P**2*R*epsilon + 0.160493827160494*M*P**2*S*epsilon**3 - 0.0308641975308642*M*P**2*S*epsilon**2 - 0.0246913580246914*M*P**2*S*epsilon + 0.271604938271605*M*P**2*T*epsilon**3 - 0.141975308641975*M*P**2*T*epsilon**2 + 0.00308641975308642*M*P**2*T*epsilon - 0.0123456790123457*M*P*S**2*epsilon**3 - 0.0123456790123457*M*P*S**2*epsilon**2 + 0.00771604938271605*M*P*S**2*epsilon + 0.000771604938271605*M*P*S**2 - 0.0617283950617284*M*P*S*T*epsilon**3 + 0.00617283950617284*M*P*S*T*epsilon**2 + 0.0123456790123457*M*P*S*T*epsilon - 0.0555555555555556*M*P*T**2*epsilon**3 + 0.0277777777777778*M*P*T**2*epsilon**2 + 0.0802469135802469*P**4*epsilon**3 - 0.0401234567901235*P**4*epsilon**2 + 0.00617283950617284*P**3*R*epsilon**3 - 0.00308641975308642*P**3*R*epsilon**2 - 0.0555555555555556*P**3*S*epsilon**3 + 0.0154320987654321*P**3*S*epsilon**2 + 0.00617283950617284*P**3*S*epsilon - 0.0802469135802469*P**3*T*epsilon**3 + 0.0401234567901235*P**3*T*epsilon**2 + 0.00617283950617284*P**2*S**2*epsilon**3 + 0.00308641975308642*P**2*S**2*epsilon**2 - 0.00308641975308642*P**2*S**2*epsilon + 0.0246913580246914*P**2*S*T*epsilon**3 - 0.00617283950617284*P**2*S*T*epsilon**2 - 0.00308641975308642*P**2*S*T*epsilon + 0.0185185185185185*P**2*T**2*epsilon**3 - 0.00925925925925926*P**2*T**2*epsilon**2) + UGA_star*UgA_star**2*(-0.0123456790123457*M**3*P*epsilon**3 + 0.0123456790123457*M**3*P*epsilon**2 - 0.00308641975308642*M**3*P*epsilon - 0.0123456790123457*M**3*R*epsilon**3 + 0.0123456790123457*M**3*R*epsilon**2 - 0.00308641975308642*M**3*R*epsilon + 0.0123456790123457*M**3*S*epsilon**3 - 0.0123456790123457*M**3*S*epsilon**2 + 0.00308641975308642*M**3*S*epsilon + 0.0123456790123457*M**3*T*epsilon**3 - 0.0123456790123457*M**3*T*epsilon**2 + 0.00308641975308642*M**3*T*epsilon + 0.0617283950617284*M**2*P**2*epsilon**3 - 0.0432098765432099*M**2*P**2*epsilon**2 + 0.00617283950617284*M**2*P**2*epsilon + 0.0617283950617284*M**2*P*R*epsilon**3 - 0.0432098765432099*M**2*P*R*epsilon**2 + 0.00617283950617284*M**2*P*R*epsilon - 0.0679012345679012*M**2*P*S*epsilon**3 + 0.0401234567901235*M**2*P*S*epsilon**2 - 0.00308641975308642*M**2*P*S*epsilon - 0.0802469135802469*M**2*P*T*epsilon**3 + 0.0524691358024691*M**2*P*T*epsilon**2 - 0.00617283950617284*M**2*P*T*epsilon - 0.00617283950617284*M**2*R*S*epsilon**3 - 0.00308641975308642*M**2*R*S*epsilon**2 + 0.00308641975308642*M**2*R*S*epsilon - 0.0185185185185185*M**2*R*T*epsilon**3 + 0.00925925925925926*M**2*R*T*epsilon**2 + 0.00617283950617284*M**2*S**2*epsilon**3 + 0.00308641975308642*M**2*S**2*epsilon**2 - 0.00308641975308642*M**2*S**2*epsilon + 0.0246913580246914*M**2*S*T*epsilon**3 - 0.00617283950617284*M**2*S*T*epsilon**2 - 0.00308641975308642*M**2*S*T*epsilon + 0.0185185185185185*M**2*T**2*epsilon**3 - 0.00925925925925926*M**2*T**2*epsilon**2 - 0.0864197530864197*M*P**3*epsilon**3 + 0.0493827160493827*M*P**3*epsilon**2 - 0.00308641975308642*M*P**3*epsilon - 0.0864197530864197*M*P**2*R*epsilon**3 + 0.0493827160493827*M*P**2*R*epsilon**2 - 0.00308641975308642*M*P**2*R*epsilon + 0.0987654320987654*M*P**2*S*epsilon**3 - 0.0432098765432099*M*P**2*S*epsilon**2 - 0.00308641975308642*M*P**2*S*epsilon + 0.123456790123457*M*P**2*T*epsilon**3 - 0.0679012345679012*M*P**2*T*epsilon**2 + 0.00308641975308642*M*P**2*T*epsilon + 0.0123456790123457*M*P*R*S*epsilon**3 + 0.00617283950617284*M*P*R*S*epsilon**2 - 0.00617283950617284*M*P*R*S*epsilon + 0.037037037037037*M*P*R*T*epsilon**3 - 0.0185185185185185*M*P*R*T*epsilon**2 - 0.0123456790123457*M*P*S**2*epsilon**3 - 0.00617283950617284*M*P*S**2*epsilon**2 + 0.00617283950617284*M*P*S**2*epsilon - 0.0493827160493827*M*P*S*T*epsilon**3 + 0.0123456790123457*M*P*S*T*epsilon**2 + 0.00617283950617284*M*P*S*T*epsilon - 0.037037037037037*M*P*T**2*epsilon**3 + 0.0185185185185185*M*P*T**2*epsilon**2 + 0.037037037037037*P**4*epsilon**3 - 0.0185185185185185*P**4*epsilon**2 + 0.037037037037037*P**3*R*epsilon**3 - 0.0185185185185185*P**3*R*epsilon**2 - 0.0432098765432099*P**3*S*epsilon**3 + 0.0154320987654321*P**3*S*epsilon**2 + 0.00308641975308642*P**3*S*epsilon - 0.0555555555555556*P**3*T*epsilon**3 + 0.0277777777777778*P**3*T*epsilon**2 - 0.00617283950617284*P**2*R*S*epsilon**3 - 0.00308641975308642*P**2*R*S*epsilon**2 + 0.00308641975308642*P**2*R*S*epsilon - 0.0185185185185185*P**2*R*T*epsilon**3 + 0.00925925925925926*P**2*R*T*epsilon**2 + 0.00617283950617284*P**2*S**2*epsilon**3 + 0.00308641975308642*P**2*S**2*epsilon**2 - 0.00308641975308642*P**2*S**2*epsilon + 0.0246913580246914*P**2*S*T*epsilon**3 - 0.00617283950617284*P**2*S*T*epsilon**2 - 0.00308641975308642*P**2*S*T*epsilon + 0.0185185185185185*P**2*T**2*epsilon**3 - 0.00925925925925926*P**2*T**2*epsilon**2) + UGA_star*UgA_star*(0.0246913580246914*M**3*P*epsilon**3 - 0.0246913580246914*M**3*P*epsilon**2 + 0.00617283950617284*M**3*P*epsilon - 0.0123456790123457*M**3*S*epsilon**3 + 0.0123456790123457*M**3*S*epsilon**2 - 0.00308641975308642*M**3*S*epsilon - 0.0123456790123457*M**3*T*epsilon**3 + 0.0123456790123457*M**3*T*epsilon**2 - 0.00308641975308642*M**3*T*epsilon - 0.123456790123457*M**2*P**2*epsilon**3 + 0.0864197530864197*M**2*P**2*epsilon**2 - 0.0123456790123457*M**2*P**2*epsilon + 0.0740740740740741*M**2*P*S*epsilon**3 - 0.037037037037037*M**2*P*S*epsilon**2 + 0.0987654320987654*M**2*P*T*epsilon**3 - 0.0617283950617284*M**2*P*T*epsilon**2 + 0.00617283950617284*M**2*P*T*epsilon - 0.00617283950617284*M**2*S**2*epsilon**3 - 0.00308641975308642*M**2*S**2*epsilon**2 + 0.00308641975308642*M**2*S**2*epsilon - 0.0246913580246914*M**2*S*T*epsilon**3 + 0.00617283950617284*M**2*S*T*epsilon**2 + 0.00308641975308642*M**2*S*T*epsilon - 0.0185185185185185*M**2*T**2*epsilon**3 + 0.00925925925925926*M**2*T**2*epsilon**2 + 0.172839506172839*M*P**3*epsilon**3 - 0.0987654320987654*M*P**3*epsilon**2 + 0.00617283950617284*M*P**3*epsilon - 0.111111111111111*M*P**2*S*epsilon**3 + 0.037037037037037*M*P**2*S*epsilon**2 + 0.00925925925925926*M*P**2*S*epsilon - 0.160493827160494*M*P**2*T*epsilon**3 + 0.0864197530864197*M*P**2*T*epsilon**2 - 0.00308641975308642*M*P**2*T*epsilon + 0.0123456790123457*M*P*S**2*epsilon**3 + 0.00617283950617284*M*P*S**2*epsilon**2 - 0.00617283950617284*M*P*S**2*epsilon + 0.0493827160493827*M*P*S*T*epsilon**3 - 0.0123456790123457*M*P*S*T*epsilon**2 - 0.00617283950617284*M*P*S*T*epsilon + 0.037037037037037*M*P*T**2*epsilon**3 - 0.0185185185185185*M*P*T**2*epsilon**2 - 0.0740740740740741*P**4*epsilon**3 + 0.037037037037037*P**4*epsilon**2 + 0.0493827160493827*P**3*S*epsilon**3 - 0.0123456790123457*P**3*S*epsilon**2 - 0.00617283950617284*P**3*S*epsilon + 0.0740740740740741*P**3*T*epsilon**3 - 0.037037037037037*P**3*T*epsilon**2 - 0.00617283950617284*P**2*S**2*epsilon**3 - 0.00308641975308642*P**2*S**2*epsilon**2 + 0.00308641975308642*P**2*S**2*epsilon - 0.0246913580246914*P**2*S*T*epsilon**3 + 0.00617283950617284*P**2*S*T*epsilon**2 + 0.00308641975308642*P**2*S*T*epsilon - 0.0185185185185185*P**2*T**2*epsilon**3 + 0.00925925925925926*P**2*T**2*epsilon**2) + UGA_star*(-0.0123456790123457*M**4*epsilon**3 + 0.0123456790123457*M**4*epsilon**2 - 0.00308641975308642*M**4*epsilon + 0.0740740740740741*M**3*P*epsilon**3 - 0.0493827160493827*M**3*P*epsilon**2 + 0.00617283950617284*M**3*P*epsilon - 0.0123456790123457*M**3*S*epsilon**3 + 0.00308641975308642*M**3*S*epsilon - 0.0246913580246914*M**3*T*epsilon**3 + 0.0123456790123457*M**3*T*epsilon**2 - 0.123456790123457*M**2*P**2*epsilon**3 + 0.0679012345679012*M**2*P**2*epsilon**2 - 0.00308641975308642*M**2*P**2*epsilon + 0.0308641975308642*M**2*P*S*epsilon**3 - 0.00308641975308642*M**2*P*S*epsilon**2 - 0.00617283950617284*M**2*P*S*epsilon + 0.0555555555555556*M**2*P*T*epsilon**3 - 0.0277777777777778*M**2*P*T*epsilon**2 + 0.0740740740740741*M*P**3*epsilon**3 - 0.037037037037037*M*P**3*epsilon**2 - 0.0246913580246914*M*P**2*S*epsilon**3 + 0.00617283950617284*M*P**2*S*epsilon**2 + 0.00308641975308642*M*P**2*S*epsilon - 0.037037037037037*M*P**2*T*epsilon**3 + 0.0185185185185185*M*P**2*T*epsilon**2 - 0.0123456790123457*P**4*epsilon**3 + 0.00617283950617284*P**4*epsilon**2 + 0.00617283950617284*P**3*S*epsilon**3 - 0.00308641975308642*P**3*S*epsilon**2 + 0.00617283950617284*P**3*T*epsilon**3 - 0.00308641975308642*P**3*T*epsilon**2) + UgA_star**2*(0.00617283950617284*M**3*P*epsilon**3 - 0.00308641975308642*M**3*P*epsilon**2 + 0.00617283950617284*M**3*R*epsilon**3 - 0.00308641975308642*M**3*R*epsilon**2 - 0.00617283950617284*M**3*S*epsilon**3 + 0.00308641975308642*M**3*S*epsilon**2 - 0.00617283950617284*M**3*T*epsilon**3 + 0.00308641975308642*M**3*T*epsilon**2 - 0.0185185185185185*M**2*P**2*epsilon**3 + 0.00925925925925926*M**2*P**2*epsilon**2 - 0.0185185185185185*M**2*P*R*epsilon**3 + 0.00925925925925926*M**2*P*R*epsilon**2 + 0.0185185185185185*M**2*P*S*epsilon**3 - 0.00925925925925926*M**2*P*S*epsilon**2 + 0.0185185185185185*M**2*P*T*epsilon**3 - 0.00925925925925926*M**2*P*T*epsilon**2 + 0.0185185185185185*M*P**3*epsilon**3 - 0.00925925925925926*M*P**3*epsilon**2 + 0.0185185185185185*M*P**2*R*epsilon**3 - 0.00925925925925926*M*P**2*R*epsilon**2 - 0.0185185185185185*M*P**2*S*epsilon**3 + 0.00925925925925926*M*P**2*S*epsilon**2 - 0.0185185185185185*M*P**2*T*epsilon**3 + 0.00925925925925926*M*P**2*T*epsilon**2 - 0.00617283950617284*P**4*epsilon**3 + 0.00308641975308642*P**4*epsilon**2 - 0.00617283950617284*P**3*R*epsilon**3 + 0.00308641975308642*P**3*R*epsilon**2 + 0.00617283950617284*P**3*S*epsilon**3 - 0.00308641975308642*P**3*S*epsilon**2 + 0.00617283950617284*P**3*T*epsilon**3 - 0.00308641975308642*P**3*T*epsilon**2) + UgA_star*(-0.0123456790123457*M**3*P*epsilon**3 + 0.00617283950617284*M**3*P*epsilon**2 + 0.00617283950617284*M**3*S*epsilon**3 - 0.00308641975308642*M**3*S*epsilon**2 + 0.00617283950617284*M**3*T*epsilon**3 - 0.00308641975308642*M**3*T*epsilon**2 + 0.037037037037037*M**2*P**2*epsilon**3 - 0.0185185185185185*M**2*P**2*epsilon**2 - 0.0185185185185185*M**2*P*S*epsilon**3 + 0.00925925925925926*M**2*P*S*epsilon**2 - 0.0185185185185185*M**2*P*T*epsilon**3 + 0.00925925925925926*M**2*P*T*epsilon**2 - 0.037037037037037*M*P**3*epsilon**3 + 0.0185185185185185*M*P**3*epsilon**2 + 0.0185185185185185*M*P**2*S*epsilon**3 - 0.00925925925925926*M*P**2*S*epsilon**2 + 0.0185185185185185*M*P**2*T*epsilon**3 - 0.00925925925925926*M*P**2*T*epsilon**2 + 0.0123456790123457*P**4*epsilon**3 - 0.00617283950617284*P**4*epsilon**2 - 0.00617283950617284*P**3*S*epsilon**3 + 0.00308641975308642*P**3*S*epsilon**2 - 0.00617283950617284*P**3*T*epsilon**3 + 0.00308641975308642*P**3*T*epsilon**2))"
      ]
     },
     "execution_count": 72,
     "metadata": {},
     "output_type": "execute_result"
    }
   ],
   "source": [
    "sym.factor(sym.expand(n), N_G, UGA_star, UgA_star)"
   ]
  },
  {
   "cell_type": "code",
   "execution_count": 69,
   "metadata": {},
   "outputs": [
    {
     "data": {
      "text/plain": [
       "N_G**2*(-512.0*epsilon**2 - 512.0*epsilon - 128.0)*(-0.5*M + 0.5*P + UGA_star**2*(0.5*P + 0.5*R - 0.5*S - 0.5*T) + UGA_star*(-1.0*P + 0.5*S + 0.5*T))**2*(-0.5*M*epsilon - 0.25*N_G*epsilon - 0.125*N_G + 0.5*P*epsilon + UGA_star**2*(0.5*P*epsilon + 0.25*R - 0.25*S - 0.5*T*epsilon) + UGA_star*(0.5*M*epsilon - 0.25*M - 1.0*P*epsilon + 0.25*S + 0.5*T*epsilon))"
      ]
     },
     "execution_count": 69,
     "metadata": {},
     "output_type": "execute_result"
    }
   ],
   "source": [
    "sym.factor(sym.expand(d), UGA_star)"
   ]
  },
  {
   "cell_type": "code",
   "execution_count": null,
   "metadata": {},
   "outputs": [],
   "source": []
  },
  {
   "cell_type": "code",
   "execution_count": 56,
   "metadata": {},
   "outputs": [
    {
     "ename": "KeyboardInterrupt",
     "evalue": "",
     "output_type": "error",
     "traceback": [
      "\u001b[0;31m---------------------------------------------------------------------------\u001b[0m",
      "\u001b[0;31mKeyboardInterrupt\u001b[0m                         Traceback (most recent call last)",
      "\u001b[0;32m<ipython-input-56-ffaacff58f58>\u001b[0m in \u001b[0;36m<module>\u001b[0;34m()\u001b[0m\n\u001b[0;32m----> 1\u001b[0;31m \u001b[0mresult\u001b[0m \u001b[0;34m=\u001b[0m \u001b[0msym\u001b[0m\u001b[0;34m.\u001b[0m\u001b[0mfactor\u001b[0m\u001b[0;34m(\u001b[0m\u001b[0msym\u001b[0m\u001b[0;34m.\u001b[0m\u001b[0mexpand\u001b[0m\u001b[0;34m(\u001b[0m\u001b[0msym\u001b[0m\u001b[0;34m.\u001b[0m\u001b[0mtogether\u001b[0m\u001b[0;34m(\u001b[0m\u001b[0mevaluated_F_jac\u001b[0m\u001b[0;34m[\u001b[0m\u001b[0;36m0\u001b[0m\u001b[0;34m,\u001b[0m\u001b[0;36m0\u001b[0m\u001b[0;34m]\u001b[0m\u001b[0;34m)\u001b[0m\u001b[0;34m)\u001b[0m\u001b[0;34m,\u001b[0m \u001b[0mUGA_star\u001b[0m\u001b[0;34m,\u001b[0m \u001b[0mUgA_star\u001b[0m\u001b[0;34m)\u001b[0m\u001b[0;34m\u001b[0m\u001b[0m\n\u001b[0m",
      "\u001b[0;32m~/anaconda3/lib/python3.6/site-packages/sympy/core/function.py\u001b[0m in \u001b[0;36mexpand\u001b[0;34m(e, deep, modulus, power_base, power_exp, mul, log, multinomial, basic, **hints)\u001b[0m\n\u001b[1;32m   2321\u001b[0m     \u001b[0mhints\u001b[0m\u001b[0;34m[\u001b[0m\u001b[0;34m'multinomial'\u001b[0m\u001b[0;34m]\u001b[0m \u001b[0;34m=\u001b[0m \u001b[0mmultinomial\u001b[0m\u001b[0;34m\u001b[0m\u001b[0m\n\u001b[1;32m   2322\u001b[0m     \u001b[0mhints\u001b[0m\u001b[0;34m[\u001b[0m\u001b[0;34m'basic'\u001b[0m\u001b[0;34m]\u001b[0m \u001b[0;34m=\u001b[0m \u001b[0mbasic\u001b[0m\u001b[0;34m\u001b[0m\u001b[0m\n\u001b[0;32m-> 2323\u001b[0;31m     \u001b[0;32mreturn\u001b[0m \u001b[0msympify\u001b[0m\u001b[0;34m(\u001b[0m\u001b[0me\u001b[0m\u001b[0;34m)\u001b[0m\u001b[0;34m.\u001b[0m\u001b[0mexpand\u001b[0m\u001b[0;34m(\u001b[0m\u001b[0mdeep\u001b[0m\u001b[0;34m=\u001b[0m\u001b[0mdeep\u001b[0m\u001b[0;34m,\u001b[0m \u001b[0mmodulus\u001b[0m\u001b[0;34m=\u001b[0m\u001b[0mmodulus\u001b[0m\u001b[0;34m,\u001b[0m \u001b[0;34m**\u001b[0m\u001b[0mhints\u001b[0m\u001b[0;34m)\u001b[0m\u001b[0;34m\u001b[0m\u001b[0m\n\u001b[0m\u001b[1;32m   2324\u001b[0m \u001b[0;34m\u001b[0m\u001b[0m\n\u001b[1;32m   2325\u001b[0m \u001b[0;31m# This is a special application of two hints\u001b[0m\u001b[0;34m\u001b[0m\u001b[0;34m\u001b[0m\u001b[0m\n",
      "\u001b[0;32m~/anaconda3/lib/python3.6/site-packages/sympy/core/expr.py\u001b[0m in \u001b[0;36mexpand\u001b[0;34m(self, deep, modulus, power_base, power_exp, mul, log, multinomial, basic, **hints)\u001b[0m\n\u001b[1;32m   3122\u001b[0m             \u001b[0;32mif\u001b[0m \u001b[0muse_hint\u001b[0m\u001b[0;34m:\u001b[0m\u001b[0;34m\u001b[0m\u001b[0m\n\u001b[1;32m   3123\u001b[0m                 \u001b[0mhint\u001b[0m \u001b[0;34m=\u001b[0m \u001b[0;34m'_eval_expand_'\u001b[0m \u001b[0;34m+\u001b[0m \u001b[0mhint\u001b[0m\u001b[0;34m\u001b[0m\u001b[0m\n\u001b[0;32m-> 3124\u001b[0;31m                 \u001b[0mexpr\u001b[0m\u001b[0;34m,\u001b[0m \u001b[0mhit\u001b[0m \u001b[0;34m=\u001b[0m \u001b[0mExpr\u001b[0m\u001b[0;34m.\u001b[0m\u001b[0m_expand_hint\u001b[0m\u001b[0;34m(\u001b[0m\u001b[0mexpr\u001b[0m\u001b[0;34m,\u001b[0m \u001b[0mhint\u001b[0m\u001b[0;34m,\u001b[0m \u001b[0mdeep\u001b[0m\u001b[0;34m=\u001b[0m\u001b[0mdeep\u001b[0m\u001b[0;34m,\u001b[0m \u001b[0;34m**\u001b[0m\u001b[0mhints\u001b[0m\u001b[0;34m)\u001b[0m\u001b[0;34m\u001b[0m\u001b[0m\n\u001b[0m\u001b[1;32m   3125\u001b[0m \u001b[0;34m\u001b[0m\u001b[0m\n\u001b[1;32m   3126\u001b[0m         \u001b[0;32mwhile\u001b[0m \u001b[0;32mTrue\u001b[0m\u001b[0;34m:\u001b[0m\u001b[0;34m\u001b[0m\u001b[0m\n",
      "\u001b[0;32m~/anaconda3/lib/python3.6/site-packages/sympy/core/expr.py\u001b[0m in \u001b[0;36m_expand_hint\u001b[0;34m(expr, hint, deep, **hints)\u001b[0m\n\u001b[1;32m   3055\u001b[0m             \u001b[0msargs\u001b[0m \u001b[0;34m=\u001b[0m \u001b[0;34m[\u001b[0m\u001b[0;34m]\u001b[0m\u001b[0;34m\u001b[0m\u001b[0m\n\u001b[1;32m   3056\u001b[0m             \u001b[0;32mfor\u001b[0m \u001b[0marg\u001b[0m \u001b[0;32min\u001b[0m \u001b[0mexpr\u001b[0m\u001b[0;34m.\u001b[0m\u001b[0margs\u001b[0m\u001b[0;34m:\u001b[0m\u001b[0;34m\u001b[0m\u001b[0m\n\u001b[0;32m-> 3057\u001b[0;31m                 \u001b[0marg\u001b[0m\u001b[0;34m,\u001b[0m \u001b[0marghit\u001b[0m \u001b[0;34m=\u001b[0m \u001b[0mExpr\u001b[0m\u001b[0;34m.\u001b[0m\u001b[0m_expand_hint\u001b[0m\u001b[0;34m(\u001b[0m\u001b[0marg\u001b[0m\u001b[0;34m,\u001b[0m \u001b[0mhint\u001b[0m\u001b[0;34m,\u001b[0m \u001b[0;34m**\u001b[0m\u001b[0mhints\u001b[0m\u001b[0;34m)\u001b[0m\u001b[0;34m\u001b[0m\u001b[0m\n\u001b[0m\u001b[1;32m   3058\u001b[0m                 \u001b[0mhit\u001b[0m \u001b[0;34m|=\u001b[0m \u001b[0marghit\u001b[0m\u001b[0;34m\u001b[0m\u001b[0m\n\u001b[1;32m   3059\u001b[0m                 \u001b[0msargs\u001b[0m\u001b[0;34m.\u001b[0m\u001b[0mappend\u001b[0m\u001b[0;34m(\u001b[0m\u001b[0marg\u001b[0m\u001b[0;34m)\u001b[0m\u001b[0;34m\u001b[0m\u001b[0m\n",
      "\u001b[0;32m~/anaconda3/lib/python3.6/site-packages/sympy/core/expr.py\u001b[0m in \u001b[0;36m_expand_hint\u001b[0;34m(expr, hint, deep, **hints)\u001b[0m\n\u001b[1;32m   3055\u001b[0m             \u001b[0msargs\u001b[0m \u001b[0;34m=\u001b[0m \u001b[0;34m[\u001b[0m\u001b[0;34m]\u001b[0m\u001b[0;34m\u001b[0m\u001b[0m\n\u001b[1;32m   3056\u001b[0m             \u001b[0;32mfor\u001b[0m \u001b[0marg\u001b[0m \u001b[0;32min\u001b[0m \u001b[0mexpr\u001b[0m\u001b[0;34m.\u001b[0m\u001b[0margs\u001b[0m\u001b[0;34m:\u001b[0m\u001b[0;34m\u001b[0m\u001b[0m\n\u001b[0;32m-> 3057\u001b[0;31m                 \u001b[0marg\u001b[0m\u001b[0;34m,\u001b[0m \u001b[0marghit\u001b[0m \u001b[0;34m=\u001b[0m \u001b[0mExpr\u001b[0m\u001b[0;34m.\u001b[0m\u001b[0m_expand_hint\u001b[0m\u001b[0;34m(\u001b[0m\u001b[0marg\u001b[0m\u001b[0;34m,\u001b[0m \u001b[0mhint\u001b[0m\u001b[0;34m,\u001b[0m \u001b[0;34m**\u001b[0m\u001b[0mhints\u001b[0m\u001b[0;34m)\u001b[0m\u001b[0;34m\u001b[0m\u001b[0m\n\u001b[0m\u001b[1;32m   3058\u001b[0m                 \u001b[0mhit\u001b[0m \u001b[0;34m|=\u001b[0m \u001b[0marghit\u001b[0m\u001b[0;34m\u001b[0m\u001b[0m\n\u001b[1;32m   3059\u001b[0m                 \u001b[0msargs\u001b[0m\u001b[0;34m.\u001b[0m\u001b[0mappend\u001b[0m\u001b[0;34m(\u001b[0m\u001b[0marg\u001b[0m\u001b[0;34m)\u001b[0m\u001b[0;34m\u001b[0m\u001b[0m\n",
      "\u001b[0;32m~/anaconda3/lib/python3.6/site-packages/sympy/core/expr.py\u001b[0m in \u001b[0;36m_expand_hint\u001b[0;34m(expr, hint, deep, **hints)\u001b[0m\n\u001b[1;32m   3055\u001b[0m             \u001b[0msargs\u001b[0m \u001b[0;34m=\u001b[0m \u001b[0;34m[\u001b[0m\u001b[0;34m]\u001b[0m\u001b[0;34m\u001b[0m\u001b[0m\n\u001b[1;32m   3056\u001b[0m             \u001b[0;32mfor\u001b[0m \u001b[0marg\u001b[0m \u001b[0;32min\u001b[0m \u001b[0mexpr\u001b[0m\u001b[0;34m.\u001b[0m\u001b[0margs\u001b[0m\u001b[0;34m:\u001b[0m\u001b[0;34m\u001b[0m\u001b[0m\n\u001b[0;32m-> 3057\u001b[0;31m                 \u001b[0marg\u001b[0m\u001b[0;34m,\u001b[0m \u001b[0marghit\u001b[0m \u001b[0;34m=\u001b[0m \u001b[0mExpr\u001b[0m\u001b[0;34m.\u001b[0m\u001b[0m_expand_hint\u001b[0m\u001b[0;34m(\u001b[0m\u001b[0marg\u001b[0m\u001b[0;34m,\u001b[0m \u001b[0mhint\u001b[0m\u001b[0;34m,\u001b[0m \u001b[0;34m**\u001b[0m\u001b[0mhints\u001b[0m\u001b[0;34m)\u001b[0m\u001b[0;34m\u001b[0m\u001b[0m\n\u001b[0m\u001b[1;32m   3058\u001b[0m                 \u001b[0mhit\u001b[0m \u001b[0;34m|=\u001b[0m \u001b[0marghit\u001b[0m\u001b[0;34m\u001b[0m\u001b[0m\n\u001b[1;32m   3059\u001b[0m                 \u001b[0msargs\u001b[0m\u001b[0;34m.\u001b[0m\u001b[0mappend\u001b[0m\u001b[0;34m(\u001b[0m\u001b[0marg\u001b[0m\u001b[0;34m)\u001b[0m\u001b[0;34m\u001b[0m\u001b[0m\n",
      "\u001b[0;32m~/anaconda3/lib/python3.6/site-packages/sympy/core/expr.py\u001b[0m in \u001b[0;36m_expand_hint\u001b[0;34m(expr, hint, deep, **hints)\u001b[0m\n\u001b[1;32m   3055\u001b[0m             \u001b[0msargs\u001b[0m \u001b[0;34m=\u001b[0m \u001b[0;34m[\u001b[0m\u001b[0;34m]\u001b[0m\u001b[0;34m\u001b[0m\u001b[0m\n\u001b[1;32m   3056\u001b[0m             \u001b[0;32mfor\u001b[0m \u001b[0marg\u001b[0m \u001b[0;32min\u001b[0m \u001b[0mexpr\u001b[0m\u001b[0;34m.\u001b[0m\u001b[0margs\u001b[0m\u001b[0;34m:\u001b[0m\u001b[0;34m\u001b[0m\u001b[0m\n\u001b[0;32m-> 3057\u001b[0;31m                 \u001b[0marg\u001b[0m\u001b[0;34m,\u001b[0m \u001b[0marghit\u001b[0m \u001b[0;34m=\u001b[0m \u001b[0mExpr\u001b[0m\u001b[0;34m.\u001b[0m\u001b[0m_expand_hint\u001b[0m\u001b[0;34m(\u001b[0m\u001b[0marg\u001b[0m\u001b[0;34m,\u001b[0m \u001b[0mhint\u001b[0m\u001b[0;34m,\u001b[0m \u001b[0;34m**\u001b[0m\u001b[0mhints\u001b[0m\u001b[0;34m)\u001b[0m\u001b[0;34m\u001b[0m\u001b[0m\n\u001b[0m\u001b[1;32m   3058\u001b[0m                 \u001b[0mhit\u001b[0m \u001b[0;34m|=\u001b[0m \u001b[0marghit\u001b[0m\u001b[0;34m\u001b[0m\u001b[0m\n\u001b[1;32m   3059\u001b[0m                 \u001b[0msargs\u001b[0m\u001b[0;34m.\u001b[0m\u001b[0mappend\u001b[0m\u001b[0;34m(\u001b[0m\u001b[0marg\u001b[0m\u001b[0;34m)\u001b[0m\u001b[0;34m\u001b[0m\u001b[0m\n",
      "\u001b[0;32m~/anaconda3/lib/python3.6/site-packages/sympy/core/expr.py\u001b[0m in \u001b[0;36m_expand_hint\u001b[0;34m(expr, hint, deep, **hints)\u001b[0m\n\u001b[1;32m   3055\u001b[0m             \u001b[0msargs\u001b[0m \u001b[0;34m=\u001b[0m \u001b[0;34m[\u001b[0m\u001b[0;34m]\u001b[0m\u001b[0;34m\u001b[0m\u001b[0m\n\u001b[1;32m   3056\u001b[0m             \u001b[0;32mfor\u001b[0m \u001b[0marg\u001b[0m \u001b[0;32min\u001b[0m \u001b[0mexpr\u001b[0m\u001b[0;34m.\u001b[0m\u001b[0margs\u001b[0m\u001b[0;34m:\u001b[0m\u001b[0;34m\u001b[0m\u001b[0m\n\u001b[0;32m-> 3057\u001b[0;31m                 \u001b[0marg\u001b[0m\u001b[0;34m,\u001b[0m \u001b[0marghit\u001b[0m \u001b[0;34m=\u001b[0m \u001b[0mExpr\u001b[0m\u001b[0;34m.\u001b[0m\u001b[0m_expand_hint\u001b[0m\u001b[0;34m(\u001b[0m\u001b[0marg\u001b[0m\u001b[0;34m,\u001b[0m \u001b[0mhint\u001b[0m\u001b[0;34m,\u001b[0m \u001b[0;34m**\u001b[0m\u001b[0mhints\u001b[0m\u001b[0;34m)\u001b[0m\u001b[0;34m\u001b[0m\u001b[0m\n\u001b[0m\u001b[1;32m   3058\u001b[0m                 \u001b[0mhit\u001b[0m \u001b[0;34m|=\u001b[0m \u001b[0marghit\u001b[0m\u001b[0;34m\u001b[0m\u001b[0m\n\u001b[1;32m   3059\u001b[0m                 \u001b[0msargs\u001b[0m\u001b[0;34m.\u001b[0m\u001b[0mappend\u001b[0m\u001b[0;34m(\u001b[0m\u001b[0marg\u001b[0m\u001b[0;34m)\u001b[0m\u001b[0;34m\u001b[0m\u001b[0m\n",
      "\u001b[0;32m~/anaconda3/lib/python3.6/site-packages/sympy/core/expr.py\u001b[0m in \u001b[0;36m_expand_hint\u001b[0;34m(expr, hint, deep, **hints)\u001b[0m\n\u001b[1;32m   3063\u001b[0m \u001b[0;34m\u001b[0m\u001b[0m\n\u001b[1;32m   3064\u001b[0m         \u001b[0;32mif\u001b[0m \u001b[0mhasattr\u001b[0m\u001b[0;34m(\u001b[0m\u001b[0mexpr\u001b[0m\u001b[0;34m,\u001b[0m \u001b[0mhint\u001b[0m\u001b[0;34m)\u001b[0m\u001b[0;34m:\u001b[0m\u001b[0;34m\u001b[0m\u001b[0m\n\u001b[0;32m-> 3065\u001b[0;31m             \u001b[0mnewexpr\u001b[0m \u001b[0;34m=\u001b[0m \u001b[0mgetattr\u001b[0m\u001b[0;34m(\u001b[0m\u001b[0mexpr\u001b[0m\u001b[0;34m,\u001b[0m \u001b[0mhint\u001b[0m\u001b[0;34m)\u001b[0m\u001b[0;34m(\u001b[0m\u001b[0;34m**\u001b[0m\u001b[0mhints\u001b[0m\u001b[0;34m)\u001b[0m\u001b[0;34m\u001b[0m\u001b[0m\n\u001b[0m\u001b[1;32m   3066\u001b[0m             \u001b[0;32mif\u001b[0m \u001b[0mnewexpr\u001b[0m \u001b[0;34m!=\u001b[0m \u001b[0mexpr\u001b[0m\u001b[0;34m:\u001b[0m\u001b[0;34m\u001b[0m\u001b[0m\n\u001b[1;32m   3067\u001b[0m                 \u001b[0;32mreturn\u001b[0m \u001b[0;34m(\u001b[0m\u001b[0mnewexpr\u001b[0m\u001b[0;34m,\u001b[0m \u001b[0;32mTrue\u001b[0m\u001b[0;34m)\u001b[0m\u001b[0;34m\u001b[0m\u001b[0m\n",
      "\u001b[0;32m~/anaconda3/lib/python3.6/site-packages/sympy/core/power.py\u001b[0m in \u001b[0;36m_eval_expand_power_base\u001b[0;34m(self, **hints)\u001b[0m\n\u001b[1;32m    834\u001b[0m         \u001b[0;32mreturn\u001b[0m \u001b[0mself\u001b[0m\u001b[0;34m.\u001b[0m\u001b[0mfunc\u001b[0m\u001b[0;34m(\u001b[0m\u001b[0mb\u001b[0m\u001b[0;34m,\u001b[0m \u001b[0me\u001b[0m\u001b[0;34m)\u001b[0m\u001b[0;34m\u001b[0m\u001b[0m\n\u001b[1;32m    835\u001b[0m \u001b[0;34m\u001b[0m\u001b[0m\n\u001b[0;32m--> 836\u001b[0;31m     \u001b[0;32mdef\u001b[0m \u001b[0m_eval_expand_power_base\u001b[0m\u001b[0;34m(\u001b[0m\u001b[0mself\u001b[0m\u001b[0;34m,\u001b[0m \u001b[0;34m**\u001b[0m\u001b[0mhints\u001b[0m\u001b[0;34m)\u001b[0m\u001b[0;34m:\u001b[0m\u001b[0;34m\u001b[0m\u001b[0m\n\u001b[0m\u001b[1;32m    837\u001b[0m         \u001b[0;34m\"\"\"(a*b)**n -> a**n * b**n\"\"\"\u001b[0m\u001b[0;34m\u001b[0m\u001b[0m\n\u001b[1;32m    838\u001b[0m         \u001b[0mforce\u001b[0m \u001b[0;34m=\u001b[0m \u001b[0mhints\u001b[0m\u001b[0;34m.\u001b[0m\u001b[0mget\u001b[0m\u001b[0;34m(\u001b[0m\u001b[0;34m'force'\u001b[0m\u001b[0;34m,\u001b[0m \u001b[0;32mFalse\u001b[0m\u001b[0;34m)\u001b[0m\u001b[0;34m\u001b[0m\u001b[0m\n",
      "\u001b[0;31mKeyboardInterrupt\u001b[0m: "
     ]
    }
   ],
   "source": [
    "result = sym.factor(sym.expand(sym.together(evaluated_F_jac[0,0]))"
   ]
  },
  {
   "cell_type": "code",
   "execution_count": 56,
   "metadata": {},
   "outputs": [
    {
     "name": "stdout",
     "output_type": "stream",
     "text": [
      "Finished with element 0,0!\n",
      "Finished with element 0,1!\n",
      "Finished with element 0,2!\n",
      "Finished with element 1,0!\n",
      "Finished with element 1,1!\n",
      "Finished with element 1,2!\n",
      "Finished with element 2,0!\n",
      "Finished with element 2,1!\n",
      "Finished with element 2,2!\n"
     ]
    }
   ],
   "source": [
    "simplified_F_jac = sym.zeros(3, 3)\n",
    "\n",
    "for i in range(3):\n",
    "    for j in range(3):\n",
    "        simplified_F_jac[i, j] = sym.factor(sym.cancel(sym.together(evaluated_F_jac[i, j])))\n",
    "        print(\"Finished with element {},{}!\".format(i,j))\n",
    "        "
   ]
  },
  {
   "cell_type": "code",
   "execution_count": 57,
   "metadata": {},
   "outputs": [
    {
     "ename": "KeyboardInterrupt",
     "evalue": "",
     "output_type": "error",
     "traceback": [
      "\u001b[0;31m---------------------------------------------------------------------------\u001b[0m",
      "\u001b[0;31mKeyboardInterrupt\u001b[0m                         Traceback (most recent call last)",
      "\u001b[0;32m<ipython-input-57-e9ab42944c6b>\u001b[0m in \u001b[0;36m<module>\u001b[0;34m()\u001b[0m\n\u001b[0;32m----> 1\u001b[0;31m \u001b[0meigenvals\u001b[0m \u001b[0;34m=\u001b[0m \u001b[0msimplified_F_jac\u001b[0m\u001b[0;34m.\u001b[0m\u001b[0meigenvals\u001b[0m\u001b[0;34m(\u001b[0m\u001b[0;34m)\u001b[0m\u001b[0;34m\u001b[0m\u001b[0m\n\u001b[0m",
      "\u001b[0;32m~/anaconda3/lib/python3.6/site-packages/sympy/matrices/matrices.py\u001b[0m in \u001b[0;36meigenvals\u001b[0;34m(self, error_when_incomplete, **flags)\u001b[0m\n\u001b[1;32m   1127\u001b[0m \u001b[0;34m\u001b[0m\u001b[0m\n\u001b[1;32m   1128\u001b[0m         \u001b[0mflags\u001b[0m\u001b[0;34m.\u001b[0m\u001b[0mpop\u001b[0m\u001b[0;34m(\u001b[0m\u001b[0;34m'simplify'\u001b[0m\u001b[0;34m,\u001b[0m \u001b[0;32mNone\u001b[0m\u001b[0;34m)\u001b[0m  \u001b[0;31m# pop unsupported flag\u001b[0m\u001b[0;34m\u001b[0m\u001b[0m\n\u001b[0;32m-> 1129\u001b[0;31m         \u001b[0meigs\u001b[0m \u001b[0;34m=\u001b[0m \u001b[0mroots\u001b[0m\u001b[0;34m(\u001b[0m\u001b[0mmat\u001b[0m\u001b[0;34m.\u001b[0m\u001b[0mcharpoly\u001b[0m\u001b[0;34m(\u001b[0m\u001b[0mx\u001b[0m\u001b[0;34m=\u001b[0m\u001b[0mDummy\u001b[0m\u001b[0;34m(\u001b[0m\u001b[0;34m'x'\u001b[0m\u001b[0;34m)\u001b[0m\u001b[0;34m)\u001b[0m\u001b[0;34m,\u001b[0m \u001b[0;34m**\u001b[0m\u001b[0mflags\u001b[0m\u001b[0;34m)\u001b[0m\u001b[0;34m\u001b[0m\u001b[0m\n\u001b[0m\u001b[1;32m   1130\u001b[0m \u001b[0;34m\u001b[0m\u001b[0m\n\u001b[1;32m   1131\u001b[0m         \u001b[0;31m# make sure the algebraic multiplicty sums to the\u001b[0m\u001b[0;34m\u001b[0m\u001b[0;34m\u001b[0m\u001b[0m\n",
      "\u001b[0;32m~/anaconda3/lib/python3.6/site-packages/sympy/matrices/matrices.py\u001b[0m in \u001b[0;36mcharpoly\u001b[0;34m(self, x, simplify)\u001b[0m\n\u001b[1;32m    348\u001b[0m         \u001b[0mberk_vector\u001b[0m \u001b[0;34m=\u001b[0m \u001b[0mself\u001b[0m\u001b[0;34m.\u001b[0m\u001b[0m_eval_berkowitz_vector\u001b[0m\u001b[0;34m(\u001b[0m\u001b[0;34m)\u001b[0m\u001b[0;34m\u001b[0m\u001b[0m\n\u001b[1;32m    349\u001b[0m         \u001b[0mx\u001b[0m \u001b[0;34m=\u001b[0m \u001b[0m_uniquely_named_symbol\u001b[0m\u001b[0;34m(\u001b[0m\u001b[0mx\u001b[0m\u001b[0;34m,\u001b[0m \u001b[0mberk_vector\u001b[0m\u001b[0;34m)\u001b[0m\u001b[0;34m\u001b[0m\u001b[0m\n\u001b[0;32m--> 350\u001b[0;31m         \u001b[0;32mreturn\u001b[0m \u001b[0mPurePoly\u001b[0m\u001b[0;34m(\u001b[0m\u001b[0;34m[\u001b[0m\u001b[0msimplify\u001b[0m\u001b[0;34m(\u001b[0m\u001b[0ma\u001b[0m\u001b[0;34m)\u001b[0m \u001b[0;32mfor\u001b[0m \u001b[0ma\u001b[0m \u001b[0;32min\u001b[0m \u001b[0mberk_vector\u001b[0m\u001b[0;34m]\u001b[0m\u001b[0;34m,\u001b[0m \u001b[0mx\u001b[0m\u001b[0;34m)\u001b[0m\u001b[0;34m\u001b[0m\u001b[0m\n\u001b[0m\u001b[1;32m    351\u001b[0m \u001b[0;34m\u001b[0m\u001b[0m\n\u001b[1;32m    352\u001b[0m     \u001b[0;32mdef\u001b[0m \u001b[0mcofactor\u001b[0m\u001b[0;34m(\u001b[0m\u001b[0mself\u001b[0m\u001b[0;34m,\u001b[0m \u001b[0mi\u001b[0m\u001b[0;34m,\u001b[0m \u001b[0mj\u001b[0m\u001b[0;34m,\u001b[0m \u001b[0mmethod\u001b[0m\u001b[0;34m=\u001b[0m\u001b[0;34m\"berkowitz\"\u001b[0m\u001b[0;34m)\u001b[0m\u001b[0;34m:\u001b[0m\u001b[0;34m\u001b[0m\u001b[0m\n",
      "\u001b[0;32m~/anaconda3/lib/python3.6/site-packages/sympy/matrices/matrices.py\u001b[0m in \u001b[0;36m<listcomp>\u001b[0;34m(.0)\u001b[0m\n\u001b[1;32m    348\u001b[0m         \u001b[0mberk_vector\u001b[0m \u001b[0;34m=\u001b[0m \u001b[0mself\u001b[0m\u001b[0;34m.\u001b[0m\u001b[0m_eval_berkowitz_vector\u001b[0m\u001b[0;34m(\u001b[0m\u001b[0;34m)\u001b[0m\u001b[0;34m\u001b[0m\u001b[0m\n\u001b[1;32m    349\u001b[0m         \u001b[0mx\u001b[0m \u001b[0;34m=\u001b[0m \u001b[0m_uniquely_named_symbol\u001b[0m\u001b[0;34m(\u001b[0m\u001b[0mx\u001b[0m\u001b[0;34m,\u001b[0m \u001b[0mberk_vector\u001b[0m\u001b[0;34m)\u001b[0m\u001b[0;34m\u001b[0m\u001b[0m\n\u001b[0;32m--> 350\u001b[0;31m         \u001b[0;32mreturn\u001b[0m \u001b[0mPurePoly\u001b[0m\u001b[0;34m(\u001b[0m\u001b[0;34m[\u001b[0m\u001b[0msimplify\u001b[0m\u001b[0;34m(\u001b[0m\u001b[0ma\u001b[0m\u001b[0;34m)\u001b[0m \u001b[0;32mfor\u001b[0m \u001b[0ma\u001b[0m \u001b[0;32min\u001b[0m \u001b[0mberk_vector\u001b[0m\u001b[0;34m]\u001b[0m\u001b[0;34m,\u001b[0m \u001b[0mx\u001b[0m\u001b[0;34m)\u001b[0m\u001b[0;34m\u001b[0m\u001b[0m\n\u001b[0m\u001b[1;32m    351\u001b[0m \u001b[0;34m\u001b[0m\u001b[0m\n\u001b[1;32m    352\u001b[0m     \u001b[0;32mdef\u001b[0m \u001b[0mcofactor\u001b[0m\u001b[0;34m(\u001b[0m\u001b[0mself\u001b[0m\u001b[0;34m,\u001b[0m \u001b[0mi\u001b[0m\u001b[0;34m,\u001b[0m \u001b[0mj\u001b[0m\u001b[0;34m,\u001b[0m \u001b[0mmethod\u001b[0m\u001b[0;34m=\u001b[0m\u001b[0;34m\"berkowitz\"\u001b[0m\u001b[0;34m)\u001b[0m\u001b[0;34m:\u001b[0m\u001b[0;34m\u001b[0m\u001b[0m\n",
      "\u001b[0;32m~/anaconda3/lib/python3.6/site-packages/sympy/simplify/simplify.py\u001b[0m in \u001b[0;36msimplify\u001b[0;34m(expr, ratio, measure, rational, inverse)\u001b[0m\n\u001b[1;32m    564\u001b[0m     \u001b[0mexpr\u001b[0m \u001b[0;34m=\u001b[0m \u001b[0mMul\u001b[0m\u001b[0;34m(\u001b[0m\u001b[0;34m*\u001b[0m\u001b[0mpowsimp\u001b[0m\u001b[0;34m(\u001b[0m\u001b[0mexpr\u001b[0m\u001b[0;34m)\u001b[0m\u001b[0;34m.\u001b[0m\u001b[0mas_content_primitive\u001b[0m\u001b[0;34m(\u001b[0m\u001b[0;34m)\u001b[0m\u001b[0;34m)\u001b[0m\u001b[0;34m\u001b[0m\u001b[0m\n\u001b[1;32m    565\u001b[0m     \u001b[0m_e\u001b[0m \u001b[0;34m=\u001b[0m \u001b[0mcancel\u001b[0m\u001b[0;34m(\u001b[0m\u001b[0mexpr\u001b[0m\u001b[0;34m)\u001b[0m\u001b[0;34m\u001b[0m\u001b[0m\n\u001b[0;32m--> 566\u001b[0;31m     \u001b[0mexpr1\u001b[0m \u001b[0;34m=\u001b[0m \u001b[0mshorter\u001b[0m\u001b[0;34m(\u001b[0m\u001b[0m_e\u001b[0m\u001b[0;34m,\u001b[0m \u001b[0m_mexpand\u001b[0m\u001b[0;34m(\u001b[0m\u001b[0m_e\u001b[0m\u001b[0;34m)\u001b[0m\u001b[0;34m.\u001b[0m\u001b[0mcancel\u001b[0m\u001b[0;34m(\u001b[0m\u001b[0;34m)\u001b[0m\u001b[0;34m)\u001b[0m  \u001b[0;31m# issue 6829\u001b[0m\u001b[0;34m\u001b[0m\u001b[0m\n\u001b[0m\u001b[1;32m    567\u001b[0m     \u001b[0mexpr2\u001b[0m \u001b[0;34m=\u001b[0m \u001b[0mshorter\u001b[0m\u001b[0;34m(\u001b[0m\u001b[0mtogether\u001b[0m\u001b[0;34m(\u001b[0m\u001b[0mexpr\u001b[0m\u001b[0;34m,\u001b[0m \u001b[0mdeep\u001b[0m\u001b[0;34m=\u001b[0m\u001b[0;32mTrue\u001b[0m\u001b[0;34m)\u001b[0m\u001b[0;34m,\u001b[0m \u001b[0mtogether\u001b[0m\u001b[0;34m(\u001b[0m\u001b[0mexpr1\u001b[0m\u001b[0;34m,\u001b[0m \u001b[0mdeep\u001b[0m\u001b[0;34m=\u001b[0m\u001b[0;32mTrue\u001b[0m\u001b[0;34m)\u001b[0m\u001b[0;34m)\u001b[0m\u001b[0;34m\u001b[0m\u001b[0m\n\u001b[1;32m    568\u001b[0m \u001b[0;34m\u001b[0m\u001b[0m\n",
      "\u001b[0;32m~/anaconda3/lib/python3.6/site-packages/sympy/core/expr.py\u001b[0m in \u001b[0;36mcancel\u001b[0;34m(self, *gens, **args)\u001b[0m\n\u001b[1;32m   3243\u001b[0m         \u001b[0;34m\"\"\"See the cancel function in sympy.polys\"\"\"\u001b[0m\u001b[0;34m\u001b[0m\u001b[0m\n\u001b[1;32m   3244\u001b[0m         \u001b[0;32mfrom\u001b[0m \u001b[0msympy\u001b[0m\u001b[0;34m.\u001b[0m\u001b[0mpolys\u001b[0m \u001b[0;32mimport\u001b[0m \u001b[0mcancel\u001b[0m\u001b[0;34m\u001b[0m\u001b[0m\n\u001b[0;32m-> 3245\u001b[0;31m         \u001b[0;32mreturn\u001b[0m \u001b[0mcancel\u001b[0m\u001b[0;34m(\u001b[0m\u001b[0mself\u001b[0m\u001b[0;34m,\u001b[0m \u001b[0;34m*\u001b[0m\u001b[0mgens\u001b[0m\u001b[0;34m,\u001b[0m \u001b[0;34m**\u001b[0m\u001b[0margs\u001b[0m\u001b[0;34m)\u001b[0m\u001b[0;34m\u001b[0m\u001b[0m\n\u001b[0m\u001b[1;32m   3246\u001b[0m \u001b[0;34m\u001b[0m\u001b[0m\n\u001b[1;32m   3247\u001b[0m     \u001b[0;32mdef\u001b[0m \u001b[0minvert\u001b[0m\u001b[0;34m(\u001b[0m\u001b[0mself\u001b[0m\u001b[0;34m,\u001b[0m \u001b[0mg\u001b[0m\u001b[0;34m,\u001b[0m \u001b[0;34m*\u001b[0m\u001b[0mgens\u001b[0m\u001b[0;34m,\u001b[0m \u001b[0;34m**\u001b[0m\u001b[0margs\u001b[0m\u001b[0;34m)\u001b[0m\u001b[0;34m:\u001b[0m\u001b[0;34m\u001b[0m\u001b[0m\n",
      "\u001b[0;32m~/anaconda3/lib/python3.6/site-packages/sympy/polys/polytools.py\u001b[0m in \u001b[0;36mcancel\u001b[0;34m(f, *gens, **args)\u001b[0m\n\u001b[1;32m   6581\u001b[0m         \u001b[0;32mif\u001b[0m \u001b[0mf\u001b[0m\u001b[0;34m.\u001b[0m\u001b[0mis_Number\u001b[0m \u001b[0;32mor\u001b[0m \u001b[0misinstance\u001b[0m\u001b[0;34m(\u001b[0m\u001b[0mf\u001b[0m\u001b[0;34m,\u001b[0m \u001b[0mRelational\u001b[0m\u001b[0;34m)\u001b[0m \u001b[0;32mor\u001b[0m \u001b[0;32mnot\u001b[0m \u001b[0misinstance\u001b[0m\u001b[0;34m(\u001b[0m\u001b[0mf\u001b[0m\u001b[0;34m,\u001b[0m \u001b[0mExpr\u001b[0m\u001b[0;34m)\u001b[0m\u001b[0;34m:\u001b[0m\u001b[0;34m\u001b[0m\u001b[0m\n\u001b[1;32m   6582\u001b[0m             \u001b[0;32mreturn\u001b[0m \u001b[0mf\u001b[0m\u001b[0;34m\u001b[0m\u001b[0m\n\u001b[0;32m-> 6583\u001b[0;31m         \u001b[0mf\u001b[0m \u001b[0;34m=\u001b[0m \u001b[0mfactor_terms\u001b[0m\u001b[0;34m(\u001b[0m\u001b[0mf\u001b[0m\u001b[0;34m,\u001b[0m \u001b[0mradical\u001b[0m\u001b[0;34m=\u001b[0m\u001b[0;32mTrue\u001b[0m\u001b[0;34m)\u001b[0m\u001b[0;34m\u001b[0m\u001b[0m\n\u001b[0m\u001b[1;32m   6584\u001b[0m         \u001b[0mp\u001b[0m\u001b[0;34m,\u001b[0m \u001b[0mq\u001b[0m \u001b[0;34m=\u001b[0m \u001b[0mf\u001b[0m\u001b[0;34m.\u001b[0m\u001b[0mas_numer_denom\u001b[0m\u001b[0;34m(\u001b[0m\u001b[0;34m)\u001b[0m\u001b[0;34m\u001b[0m\u001b[0m\n\u001b[1;32m   6585\u001b[0m \u001b[0;34m\u001b[0m\u001b[0m\n",
      "\u001b[0;32m~/anaconda3/lib/python3.6/site-packages/sympy/core/exprtools.py\u001b[0m in \u001b[0;36mfactor_terms\u001b[0;34m(expr, radical, clear, fraction, sign)\u001b[0m\n\u001b[1;32m   1199\u001b[0m         \u001b[0;32mreturn\u001b[0m \u001b[0mrv\u001b[0m\u001b[0;34m\u001b[0m\u001b[0m\n\u001b[1;32m   1200\u001b[0m     \u001b[0mexpr\u001b[0m \u001b[0;34m=\u001b[0m \u001b[0msympify\u001b[0m\u001b[0;34m(\u001b[0m\u001b[0mexpr\u001b[0m\u001b[0;34m)\u001b[0m\u001b[0;34m\u001b[0m\u001b[0m\n\u001b[0;32m-> 1201\u001b[0;31m     \u001b[0;32mreturn\u001b[0m \u001b[0mdo\u001b[0m\u001b[0;34m(\u001b[0m\u001b[0mexpr\u001b[0m\u001b[0;34m)\u001b[0m\u001b[0;34m\u001b[0m\u001b[0m\n\u001b[0m\u001b[1;32m   1202\u001b[0m \u001b[0;34m\u001b[0m\u001b[0m\n\u001b[1;32m   1203\u001b[0m \u001b[0;34m\u001b[0m\u001b[0m\n",
      "\u001b[0;32m~/anaconda3/lib/python3.6/site-packages/sympy/core/exprtools.py\u001b[0m in \u001b[0;36mdo\u001b[0;34m(expr)\u001b[0m\n\u001b[1;32m   1173\u001b[0m             \u001b[0;32mreturn\u001b[0m \u001b[0mfactor_sum\u001b[0m\u001b[0;34m(\u001b[0m\u001b[0mexpr\u001b[0m\u001b[0;34m,\u001b[0m \u001b[0mradical\u001b[0m\u001b[0;34m=\u001b[0m\u001b[0mradical\u001b[0m\u001b[0;34m,\u001b[0m \u001b[0mclear\u001b[0m\u001b[0;34m=\u001b[0m\u001b[0mclear\u001b[0m\u001b[0;34m,\u001b[0m \u001b[0mfraction\u001b[0m\u001b[0;34m=\u001b[0m\u001b[0mfraction\u001b[0m\u001b[0;34m,\u001b[0m \u001b[0msign\u001b[0m\u001b[0;34m=\u001b[0m\u001b[0msign\u001b[0m\u001b[0;34m)\u001b[0m\u001b[0;34m\u001b[0m\u001b[0m\n\u001b[1;32m   1174\u001b[0m \u001b[0;34m\u001b[0m\u001b[0m\n\u001b[0;32m-> 1175\u001b[0;31m         \u001b[0mcont\u001b[0m\u001b[0;34m,\u001b[0m \u001b[0mp\u001b[0m \u001b[0;34m=\u001b[0m \u001b[0mexpr\u001b[0m\u001b[0;34m.\u001b[0m\u001b[0mas_content_primitive\u001b[0m\u001b[0;34m(\u001b[0m\u001b[0mradical\u001b[0m\u001b[0;34m=\u001b[0m\u001b[0mradical\u001b[0m\u001b[0;34m,\u001b[0m \u001b[0mclear\u001b[0m\u001b[0;34m=\u001b[0m\u001b[0mclear\u001b[0m\u001b[0;34m)\u001b[0m\u001b[0;34m\u001b[0m\u001b[0m\n\u001b[0m\u001b[1;32m   1176\u001b[0m         \u001b[0;32mif\u001b[0m \u001b[0mp\u001b[0m\u001b[0;34m.\u001b[0m\u001b[0mis_Add\u001b[0m\u001b[0;34m:\u001b[0m\u001b[0;34m\u001b[0m\u001b[0m\n\u001b[1;32m   1177\u001b[0m             \u001b[0mlist_args\u001b[0m \u001b[0;34m=\u001b[0m \u001b[0;34m[\u001b[0m\u001b[0mdo\u001b[0m\u001b[0;34m(\u001b[0m\u001b[0ma\u001b[0m\u001b[0;34m)\u001b[0m \u001b[0;32mfor\u001b[0m \u001b[0ma\u001b[0m \u001b[0;32min\u001b[0m \u001b[0mAdd\u001b[0m\u001b[0;34m.\u001b[0m\u001b[0mmake_args\u001b[0m\u001b[0;34m(\u001b[0m\u001b[0mp\u001b[0m\u001b[0;34m)\u001b[0m\u001b[0;34m]\u001b[0m\u001b[0;34m\u001b[0m\u001b[0m\n",
      "\u001b[0;32m~/anaconda3/lib/python3.6/site-packages/sympy/core/add.py\u001b[0m in \u001b[0;36mas_content_primitive\u001b[0;34m(self, radical, clear)\u001b[0m\n\u001b[1;32m    977\u001b[0m         \"\"\"\n\u001b[1;32m    978\u001b[0m         con, prim = self.func(*[_keep_coeff(*a.as_content_primitive(\n\u001b[0;32m--> 979\u001b[0;31m             radical=radical, clear=clear)) for a in self.args]).primitive()\n\u001b[0m\u001b[1;32m    980\u001b[0m         \u001b[0;32mif\u001b[0m \u001b[0;32mnot\u001b[0m \u001b[0mclear\u001b[0m \u001b[0;32mand\u001b[0m \u001b[0;32mnot\u001b[0m \u001b[0mcon\u001b[0m\u001b[0;34m.\u001b[0m\u001b[0mis_Integer\u001b[0m \u001b[0;32mand\u001b[0m \u001b[0mprim\u001b[0m\u001b[0;34m.\u001b[0m\u001b[0mis_Add\u001b[0m\u001b[0;34m:\u001b[0m\u001b[0;34m\u001b[0m\u001b[0m\n\u001b[1;32m    981\u001b[0m             \u001b[0mcon\u001b[0m\u001b[0;34m,\u001b[0m \u001b[0md\u001b[0m \u001b[0;34m=\u001b[0m \u001b[0mcon\u001b[0m\u001b[0;34m.\u001b[0m\u001b[0mas_numer_denom\u001b[0m\u001b[0;34m(\u001b[0m\u001b[0;34m)\u001b[0m\u001b[0;34m\u001b[0m\u001b[0m\n",
      "\u001b[0;32m~/anaconda3/lib/python3.6/site-packages/sympy/core/add.py\u001b[0m in \u001b[0;36m<listcomp>\u001b[0;34m(.0)\u001b[0m\n\u001b[1;32m    977\u001b[0m         \"\"\"\n\u001b[1;32m    978\u001b[0m         con, prim = self.func(*[_keep_coeff(*a.as_content_primitive(\n\u001b[0;32m--> 979\u001b[0;31m             radical=radical, clear=clear)) for a in self.args]).primitive()\n\u001b[0m\u001b[1;32m    980\u001b[0m         \u001b[0;32mif\u001b[0m \u001b[0;32mnot\u001b[0m \u001b[0mclear\u001b[0m \u001b[0;32mand\u001b[0m \u001b[0;32mnot\u001b[0m \u001b[0mcon\u001b[0m\u001b[0;34m.\u001b[0m\u001b[0mis_Integer\u001b[0m \u001b[0;32mand\u001b[0m \u001b[0mprim\u001b[0m\u001b[0;34m.\u001b[0m\u001b[0mis_Add\u001b[0m\u001b[0;34m:\u001b[0m\u001b[0;34m\u001b[0m\u001b[0m\n\u001b[1;32m    981\u001b[0m             \u001b[0mcon\u001b[0m\u001b[0;34m,\u001b[0m \u001b[0md\u001b[0m \u001b[0;34m=\u001b[0m \u001b[0mcon\u001b[0m\u001b[0;34m.\u001b[0m\u001b[0mas_numer_denom\u001b[0m\u001b[0;34m(\u001b[0m\u001b[0;34m)\u001b[0m\u001b[0;34m\u001b[0m\u001b[0m\n",
      "\u001b[0;32m~/anaconda3/lib/python3.6/site-packages/sympy/core/mul.py\u001b[0m in \u001b[0;36mas_content_primitive\u001b[0;34m(self, radical, clear)\u001b[0m\n\u001b[1;32m   1690\u001b[0m         \u001b[0margs\u001b[0m \u001b[0;34m=\u001b[0m \u001b[0;34m[\u001b[0m\u001b[0;34m]\u001b[0m\u001b[0;34m\u001b[0m\u001b[0m\n\u001b[1;32m   1691\u001b[0m         \u001b[0;32mfor\u001b[0m \u001b[0mi\u001b[0m\u001b[0;34m,\u001b[0m \u001b[0ma\u001b[0m \u001b[0;32min\u001b[0m \u001b[0menumerate\u001b[0m\u001b[0;34m(\u001b[0m\u001b[0mself\u001b[0m\u001b[0;34m.\u001b[0m\u001b[0margs\u001b[0m\u001b[0;34m)\u001b[0m\u001b[0;34m:\u001b[0m\u001b[0;34m\u001b[0m\u001b[0m\n\u001b[0;32m-> 1692\u001b[0;31m             \u001b[0mc\u001b[0m\u001b[0;34m,\u001b[0m \u001b[0mp\u001b[0m \u001b[0;34m=\u001b[0m \u001b[0ma\u001b[0m\u001b[0;34m.\u001b[0m\u001b[0mas_content_primitive\u001b[0m\u001b[0;34m(\u001b[0m\u001b[0mradical\u001b[0m\u001b[0;34m=\u001b[0m\u001b[0mradical\u001b[0m\u001b[0;34m,\u001b[0m \u001b[0mclear\u001b[0m\u001b[0;34m=\u001b[0m\u001b[0mclear\u001b[0m\u001b[0;34m)\u001b[0m\u001b[0;34m\u001b[0m\u001b[0m\n\u001b[0m\u001b[1;32m   1693\u001b[0m             \u001b[0mcoef\u001b[0m \u001b[0;34m*=\u001b[0m \u001b[0mc\u001b[0m\u001b[0;34m\u001b[0m\u001b[0m\n\u001b[1;32m   1694\u001b[0m             \u001b[0;32mif\u001b[0m \u001b[0mp\u001b[0m \u001b[0;32mis\u001b[0m \u001b[0;32mnot\u001b[0m \u001b[0mS\u001b[0m\u001b[0;34m.\u001b[0m\u001b[0mOne\u001b[0m\u001b[0;34m:\u001b[0m\u001b[0;34m\u001b[0m\u001b[0m\n",
      "\u001b[0;32m~/anaconda3/lib/python3.6/site-packages/sympy/core/power.py\u001b[0m in \u001b[0;36mas_content_primitive\u001b[0;34m(self, radical, clear)\u001b[0m\n\u001b[1;32m   1598\u001b[0m \u001b[0;34m\u001b[0m\u001b[0m\n\u001b[1;32m   1599\u001b[0m         \u001b[0mb\u001b[0m\u001b[0;34m,\u001b[0m \u001b[0me\u001b[0m \u001b[0;34m=\u001b[0m \u001b[0mself\u001b[0m\u001b[0;34m.\u001b[0m\u001b[0mas_base_exp\u001b[0m\u001b[0;34m(\u001b[0m\u001b[0;34m)\u001b[0m\u001b[0;34m\u001b[0m\u001b[0m\n\u001b[0;32m-> 1600\u001b[0;31m         \u001b[0mb\u001b[0m \u001b[0;34m=\u001b[0m \u001b[0m_keep_coeff\u001b[0m\u001b[0;34m(\u001b[0m\u001b[0;34m*\u001b[0m\u001b[0mb\u001b[0m\u001b[0;34m.\u001b[0m\u001b[0mas_content_primitive\u001b[0m\u001b[0;34m(\u001b[0m\u001b[0mradical\u001b[0m\u001b[0;34m=\u001b[0m\u001b[0mradical\u001b[0m\u001b[0;34m,\u001b[0m \u001b[0mclear\u001b[0m\u001b[0;34m=\u001b[0m\u001b[0mclear\u001b[0m\u001b[0;34m)\u001b[0m\u001b[0;34m)\u001b[0m\u001b[0;34m\u001b[0m\u001b[0m\n\u001b[0m\u001b[1;32m   1601\u001b[0m         \u001b[0mce\u001b[0m\u001b[0;34m,\u001b[0m \u001b[0mpe\u001b[0m \u001b[0;34m=\u001b[0m \u001b[0me\u001b[0m\u001b[0;34m.\u001b[0m\u001b[0mas_content_primitive\u001b[0m\u001b[0;34m(\u001b[0m\u001b[0mradical\u001b[0m\u001b[0;34m=\u001b[0m\u001b[0mradical\u001b[0m\u001b[0;34m,\u001b[0m \u001b[0mclear\u001b[0m\u001b[0;34m=\u001b[0m\u001b[0mclear\u001b[0m\u001b[0;34m)\u001b[0m\u001b[0;34m\u001b[0m\u001b[0m\n\u001b[1;32m   1602\u001b[0m         \u001b[0;32mif\u001b[0m \u001b[0mb\u001b[0m\u001b[0;34m.\u001b[0m\u001b[0mis_Rational\u001b[0m\u001b[0;34m:\u001b[0m\u001b[0;34m\u001b[0m\u001b[0m\n",
      "\u001b[0;32m~/anaconda3/lib/python3.6/site-packages/sympy/core/add.py\u001b[0m in \u001b[0;36mas_content_primitive\u001b[0;34m(self, radical, clear)\u001b[0m\n\u001b[1;32m    977\u001b[0m         \"\"\"\n\u001b[1;32m    978\u001b[0m         con, prim = self.func(*[_keep_coeff(*a.as_content_primitive(\n\u001b[0;32m--> 979\u001b[0;31m             radical=radical, clear=clear)) for a in self.args]).primitive()\n\u001b[0m\u001b[1;32m    980\u001b[0m         \u001b[0;32mif\u001b[0m \u001b[0;32mnot\u001b[0m \u001b[0mclear\u001b[0m \u001b[0;32mand\u001b[0m \u001b[0;32mnot\u001b[0m \u001b[0mcon\u001b[0m\u001b[0;34m.\u001b[0m\u001b[0mis_Integer\u001b[0m \u001b[0;32mand\u001b[0m \u001b[0mprim\u001b[0m\u001b[0;34m.\u001b[0m\u001b[0mis_Add\u001b[0m\u001b[0;34m:\u001b[0m\u001b[0;34m\u001b[0m\u001b[0m\n\u001b[1;32m    981\u001b[0m             \u001b[0mcon\u001b[0m\u001b[0;34m,\u001b[0m \u001b[0md\u001b[0m \u001b[0;34m=\u001b[0m \u001b[0mcon\u001b[0m\u001b[0;34m.\u001b[0m\u001b[0mas_numer_denom\u001b[0m\u001b[0;34m(\u001b[0m\u001b[0;34m)\u001b[0m\u001b[0;34m\u001b[0m\u001b[0m\n",
      "\u001b[0;32m~/anaconda3/lib/python3.6/site-packages/sympy/core/operations.py\u001b[0m in \u001b[0;36m__new__\u001b[0;34m(cls, *args, **options)\u001b[0m\n\u001b[1;32m     43\u001b[0m             \u001b[0;32mreturn\u001b[0m \u001b[0margs\u001b[0m\u001b[0;34m[\u001b[0m\u001b[0;36m0\u001b[0m\u001b[0;34m]\u001b[0m\u001b[0;34m\u001b[0m\u001b[0m\n\u001b[1;32m     44\u001b[0m \u001b[0;34m\u001b[0m\u001b[0m\n\u001b[0;32m---> 45\u001b[0;31m         \u001b[0mc_part\u001b[0m\u001b[0;34m,\u001b[0m \u001b[0mnc_part\u001b[0m\u001b[0;34m,\u001b[0m \u001b[0morder_symbols\u001b[0m \u001b[0;34m=\u001b[0m \u001b[0mcls\u001b[0m\u001b[0;34m.\u001b[0m\u001b[0mflatten\u001b[0m\u001b[0;34m(\u001b[0m\u001b[0margs\u001b[0m\u001b[0;34m)\u001b[0m\u001b[0;34m\u001b[0m\u001b[0m\n\u001b[0m\u001b[1;32m     46\u001b[0m         \u001b[0mis_commutative\u001b[0m \u001b[0;34m=\u001b[0m \u001b[0;32mnot\u001b[0m \u001b[0mnc_part\u001b[0m\u001b[0;34m\u001b[0m\u001b[0m\n\u001b[1;32m     47\u001b[0m         \u001b[0mobj\u001b[0m \u001b[0;34m=\u001b[0m \u001b[0mcls\u001b[0m\u001b[0;34m.\u001b[0m\u001b[0m_from_args\u001b[0m\u001b[0;34m(\u001b[0m\u001b[0mc_part\u001b[0m \u001b[0;34m+\u001b[0m \u001b[0mnc_part\u001b[0m\u001b[0;34m,\u001b[0m \u001b[0mis_commutative\u001b[0m\u001b[0;34m)\u001b[0m\u001b[0;34m\u001b[0m\u001b[0m\n",
      "\u001b[0;32m~/anaconda3/lib/python3.6/site-packages/sympy/core/add.py\u001b[0m in \u001b[0;36mflatten\u001b[0;34m(cls, seq)\u001b[0m\n\u001b[1;32m    214\u001b[0m                     \u001b[0;31m# Mul, already keeps its arguments in perfect order.\u001b[0m\u001b[0;34m\u001b[0m\u001b[0;34m\u001b[0m\u001b[0m\n\u001b[1;32m    215\u001b[0m                     \u001b[0;31m# so we can simply put c in slot0 and go the fast way.\u001b[0m\u001b[0;34m\u001b[0m\u001b[0;34m\u001b[0m\u001b[0m\n\u001b[0;32m--> 216\u001b[0;31m                     \u001b[0mcs\u001b[0m \u001b[0;34m=\u001b[0m \u001b[0ms\u001b[0m\u001b[0;34m.\u001b[0m\u001b[0m_new_rawargs\u001b[0m\u001b[0;34m(\u001b[0m\u001b[0;34m*\u001b[0m\u001b[0;34m(\u001b[0m\u001b[0;34m(\u001b[0m\u001b[0mc\u001b[0m\u001b[0;34m,\u001b[0m\u001b[0;34m)\u001b[0m \u001b[0;34m+\u001b[0m \u001b[0ms\u001b[0m\u001b[0;34m.\u001b[0m\u001b[0margs\u001b[0m\u001b[0;34m)\u001b[0m\u001b[0;34m)\u001b[0m\u001b[0;34m\u001b[0m\u001b[0m\n\u001b[0m\u001b[1;32m    217\u001b[0m                     \u001b[0mnewseq\u001b[0m\u001b[0;34m.\u001b[0m\u001b[0mappend\u001b[0m\u001b[0;34m(\u001b[0m\u001b[0mcs\u001b[0m\u001b[0;34m)\u001b[0m\u001b[0;34m\u001b[0m\u001b[0m\n\u001b[1;32m    218\u001b[0m                 \u001b[0;32melif\u001b[0m \u001b[0ms\u001b[0m\u001b[0;34m.\u001b[0m\u001b[0mis_Add\u001b[0m\u001b[0;34m:\u001b[0m\u001b[0;34m\u001b[0m\u001b[0m\n",
      "\u001b[0;32m~/anaconda3/lib/python3.6/site-packages/sympy/core/operations.py\u001b[0m in \u001b[0;36m_new_rawargs\u001b[0;34m(self, *args, **kwargs)\u001b[0m\n\u001b[1;32m    112\u001b[0m         \u001b[0;32melse\u001b[0m\u001b[0;34m:\u001b[0m\u001b[0;34m\u001b[0m\u001b[0m\n\u001b[1;32m    113\u001b[0m             \u001b[0mis_commutative\u001b[0m \u001b[0;34m=\u001b[0m \u001b[0mself\u001b[0m\u001b[0;34m.\u001b[0m\u001b[0mis_commutative\u001b[0m\u001b[0;34m\u001b[0m\u001b[0m\n\u001b[0;32m--> 114\u001b[0;31m         \u001b[0;32mreturn\u001b[0m \u001b[0mself\u001b[0m\u001b[0;34m.\u001b[0m\u001b[0m_from_args\u001b[0m\u001b[0;34m(\u001b[0m\u001b[0margs\u001b[0m\u001b[0;34m,\u001b[0m \u001b[0mis_commutative\u001b[0m\u001b[0;34m)\u001b[0m\u001b[0;34m\u001b[0m\u001b[0m\n\u001b[0m\u001b[1;32m    115\u001b[0m \u001b[0;34m\u001b[0m\u001b[0m\n\u001b[1;32m    116\u001b[0m     \u001b[0;34m@\u001b[0m\u001b[0mclassmethod\u001b[0m\u001b[0;34m\u001b[0m\u001b[0m\n",
      "\u001b[0;32m~/anaconda3/lib/python3.6/site-packages/sympy/core/operations.py\u001b[0m in \u001b[0;36m_from_args\u001b[0;34m(cls, args, is_commutative)\u001b[0m\n\u001b[1;32m     60\u001b[0m             \u001b[0;32mreturn\u001b[0m \u001b[0margs\u001b[0m\u001b[0;34m[\u001b[0m\u001b[0;36m0\u001b[0m\u001b[0;34m]\u001b[0m\u001b[0;34m\u001b[0m\u001b[0m\n\u001b[1;32m     61\u001b[0m \u001b[0;34m\u001b[0m\u001b[0m\n\u001b[0;32m---> 62\u001b[0;31m         \u001b[0mobj\u001b[0m \u001b[0;34m=\u001b[0m \u001b[0msuper\u001b[0m\u001b[0;34m(\u001b[0m\u001b[0mAssocOp\u001b[0m\u001b[0;34m,\u001b[0m \u001b[0mcls\u001b[0m\u001b[0;34m)\u001b[0m\u001b[0;34m.\u001b[0m\u001b[0m__new__\u001b[0m\u001b[0;34m(\u001b[0m\u001b[0mcls\u001b[0m\u001b[0;34m,\u001b[0m \u001b[0;34m*\u001b[0m\u001b[0margs\u001b[0m\u001b[0;34m)\u001b[0m\u001b[0;34m\u001b[0m\u001b[0m\n\u001b[0m\u001b[1;32m     63\u001b[0m         \u001b[0;32mif\u001b[0m \u001b[0mis_commutative\u001b[0m \u001b[0;32mis\u001b[0m \u001b[0;32mNone\u001b[0m\u001b[0;34m:\u001b[0m\u001b[0;34m\u001b[0m\u001b[0m\n\u001b[1;32m     64\u001b[0m             \u001b[0mis_commutative\u001b[0m \u001b[0;34m=\u001b[0m \u001b[0mfuzzy_and\u001b[0m\u001b[0;34m(\u001b[0m\u001b[0ma\u001b[0m\u001b[0;34m.\u001b[0m\u001b[0mis_commutative\u001b[0m \u001b[0;32mfor\u001b[0m \u001b[0ma\u001b[0m \u001b[0;32min\u001b[0m \u001b[0margs\u001b[0m\u001b[0;34m)\u001b[0m\u001b[0;34m\u001b[0m\u001b[0m\n",
      "\u001b[0;31mKeyboardInterrupt\u001b[0m: "
     ]
    }
   ],
   "source": [
    "eigenvals = simplified_F_jac.eigenvals()"
   ]
  },
  {
   "cell_type": "code",
   "execution_count": null,
   "metadata": {},
   "outputs": [],
   "source": [
    "e1, e2, e3 = eigenvals.keys()"
   ]
  },
  {
   "cell_type": "code",
   "execution_count": null,
   "metadata": {},
   "outputs": [],
   "source": [
    "e1"
   ]
  },
  {
   "cell_type": "code",
   "execution_count": null,
   "metadata": {},
   "outputs": [],
   "source": [
    "sym.factor(e1)"
   ]
  },
  {
   "cell_type": "markdown",
   "metadata": {},
   "source": [
    "First eigenvalue can be written as a hyperbola in $U_{gA}^*,U_{GA}^*$ plane.\n",
    "\n",
    "$$ e_1 = \\left(\\frac{\\big((R + P) - (T + S)\\big)U_{gA}^{*2} + \\big((T + S) - 2P\\big)U_{gA}^*}{N^*}\\right) - \\left(\\frac{\\big((R + P) - (T + S)\\big)U_{GA}^{*2} + \\big((T + S) - 2P\\big)U_{GA}^*}{N^*}\\right) $$\n",
    "\n",
    "### Completing the square\n",
    "\n",
    "To write this hyperbola in standard form we need to [complete the square](https://en.wikipedia.org/wiki/Completing_the_square). Completing the square for the quadratic polynomial in $U_{GA}(x^*)$ yields the following.\n",
    "\n",
    "\\begin{align}\n",
    "    \\big((R + P) - (T + S)\\big)\\left(U_{GA}^* - \\bar{U}_{GA}^*\\right)^2 - \\frac{1}{2}\\big(\\bar{N}^* - 2P\\big) \\\\\n",
    "\\end{align}\n",
    "\n",
    "where $\\bar{U}_{GA}^*$ is the value of $U_{GA}^*$ that maximizes total offspring $N$ derived above. Completing the square for the quadratic polynomial in $U_{gA}(x^*)$ yields a similar expression.\n",
    "\n",
    "\\begin{align}\n",
    "    \\big((R + P) - (T + S)\\big)\\left(U_{gA}^* - \\bar{U}_{GA}^*\\right)^2 - \\frac{1}{2}\\big(\\bar{N}^* - 2P\\big) \\\\\n",
    "\\end{align}\n",
    "\n",
    "Substituting these results into the expression for the eigenvalue yields the following.\n",
    "\n",
    "$$ e_1 = \\left(\\frac{\\big(U_{gA}^* - \\bar{U}_{GA}^*\\big)^{2}}{\\frac{N^*}{\\big((R + P) - (T + S)\\big)}}\\right) - \\left(\\frac{\\big(U_{GA}^* - \\bar{U}_{GA}^*\\big)^{2}}{\\frac{N^*}{\\big((R + P) - (T + S)\\big)}}\\right) $$\n",
    "\n",
    "\n",
    "### Conditions for negative eigenvalue\n",
    "\n",
    "Non-invadability requires that this eigenvalue is strictly negative.\n",
    "\n",
    "$$ \\left(\\frac{\\big(U_{gA}^* - \\bar{U}_{GA}^*\\big)^{2}}{\\frac{N^*}{\\big((R + P) - (T + S)\\big)}}\\right) - \\left(\\frac{\\big(U_{GA}^* - \\bar{U}_{GA}^*\\big)^{2}}{\\frac{N^*}{\\big((R + P) - (T + S)\\big)}}\\right) < 0$$\n",
    "\n",
    "#### Case: (R + P) < (T + S)\n",
    "In this case the inequality simplifies to the following.\n",
    "\n",
    "$$ \\big(U_{gA}^* - \\bar{U}_{GA}^*\\big)^{2} - \\big(U_{GA}^* - \\bar{U}_{GA}^*\\big)^{2} > 0 $$\n",
    "\n",
    "This implies that we have four sub-cases to consider.\n",
    "\n",
    "\\begin{align}\n",
    "    \\big(U_{gA}^* - \\bar{U}_{GA}^*\\big) >& \\big(U_{GA}^* - \\bar{U}_{GA}^*\\big) \\\\\n",
    "    \\big(U_{gA}^* - \\bar{U}_{GA}^*\\big) >& -\\big(U_{GA}^* - \\bar{U}_{GA}^*\\big) \\\\\n",
    "    -\\big(U_{gA}^* - \\bar{U}_{GA}^*\\big) >& \\big(U_{GA}^* - \\bar{U}_{GA}^*\\big) \\\\\n",
    "    -\\big(U_{gA}^* - \\bar{U}_{GA}^*\\big) >& -\\big(U_{GA}^* - \\bar{U}_{GA}^*\\big)\n",
    "\\end{align}\n",
    "\n",
    "These four sub-cases define the following two regions of the $U_{gA}^*,U_{GA}^*$ plane where the eigenvalue is negative.\n",
    "\n",
    "\\begin{align}\n",
    "   & 2\\big(\\bar{U}_{GA}^* - U_{gA}^*\\big) < U_{GA}^* - U_{gA}^* < 0\\\\\n",
    "   & 0 < U_{GA}^* - U_{gA}^* < 2\\big(\\bar{U}_{GA}^* - U_{gA}\\big)\n",
    "\\end{align}\n",
    "\n",
    "#### Case: (R + P) > (T + S)\n",
    "In this case the inequality simplifies to the following.\n",
    "\n",
    "$$ \\big(U_{gA}^* - \\bar{U}_{GA}^*\\big)^{2} - \\big(U_{GA}^* - \\bar{U}_{GA}^*\\big)^{2} < 0 $$\n",
    "\n",
    "This implies that we again have four sub-cases to consider.\n",
    "\n",
    "\\begin{align}\n",
    "    \\big(U_{gA}^* - \\bar{U}_{GA}^*\\big) <& \\big(U_{GA}^* - \\bar{U}_{GA}^*\\big) \\\\\n",
    "    \\big(U_{gA}^* - \\bar{U}_{GA}^*\\big) <& -\\big(U_{GA}^* - \\bar{U}_{GA}^*\\big) \\\\\n",
    "    -\\big(U_{gA}^* - \\bar{U}_{GA}^*\\big) <& \\big(U_{GA}^* - \\bar{U}_{GA}^*\\big) \\\\\n",
    "    -\\big(U_{gA}^* - \\bar{U}_{GA}^*\\big) <& -\\big(U_{GA}^* - \\bar{U}_{GA}^*\\big)\n",
    "\\end{align}\n",
    "\n",
    "These four sub-cases define the following two regions of the $U_{gA}^*,U_{GA}^*$ plane where the eigenvalue is negative.\n",
    "\n",
    "\\begin{align}\n",
    "   & 2\\big(\\bar{U}_{GA}^* - U_{gA}^*\\big) < U_{GA}^* - U_{gA}^* < 0\\\\\n",
    "   & 0 < U_{GA}^* - U_{gA}^* < 2\\big(\\bar{U}_{GA}^* - U_{gA}\\big)\n",
    "\\end{align}\n",
    "\n",
    "\n",
    "### Asymptotes \n",
    "\n",
    "Asymptotes of this hyperbola can be defined as follows.\n",
    "\n",
    "$$ U_{GA}^* - \\bar{U}_{GA}^* = \\pm\\big(U_{gA}^* - \\bar{U}_{GA}^*\\big) $$\n",
    "\n",
    "The above can be written as linear equations in $U_{gA}^*,U_{GA}^*$ plane.\n",
    "\n",
    "\\begin{align}\n",
    "    U_{GA}^* =& U_{gA}^* \\\\\n",
    "    U_{GA}^* =& 2\\bar{U}_{GA}^* - U_{gA}^*\n",
    "\\end{align}\n",
    "\n",
    "Note that the asymptotes of this hyperbola correspond to the locus of points for which the value of the first eigenvalue is exactly zero.\n",
    "\n",
    "#### Discussion\n",
    "\n",
    "Suppose $U_{GA}^* = \\bar{U}_{GA}^*$, then both of the sets of inequalities will hold for any value of $U_{gA}^*$. This implies that the eigenvalue will be negative for any value of $U_{gA}^*$."
   ]
  },
  {
   "cell_type": "code",
   "execution_count": null,
   "metadata": {
    "collapsed": true,
    "jupyter": {
     "outputs_hidden": true
    }
   },
   "outputs": [],
   "source": [
    "# vectorized numeric repr for the eigenvalue\n",
    "_numeric_e1 = sym.lambdify((UGA_star, UGA_prime_star, T, R, P, S, M), e1, modules=\"numpy\")"
   ]
  },
  {
   "cell_type": "code",
   "execution_count": null,
   "metadata": {
    "collapsed": true,
    "jupyter": {
     "outputs_hidden": true
    }
   },
   "outputs": [],
   "source": [
    "def plot_first_eigenvalue(T, R, P, S, M):\n",
    "\n",
    "    fig, ax = plt.subplots(1, 1, figsize=(10, 10))\n",
    "    ax.set_ylabel(r\"$U_{GA}^*$\", fontsize=20, rotation=\"horizontal\")\n",
    "    ax.set_xlabel(r\"$U_{GA}^{'*}$\", fontsize=20)\n",
    "    ax.set_title(r\"Eigenvalue, $e_1$\", fontsize=25)\n",
    "    ax.grid(\"off\")\n",
    "\n",
    "    equilibrium_selection_probs = np.linspace(0, 1, 100).reshape(-1, 1)\n",
    "    equilibrium_selection_derivs = np.linspace(0, 10, 1000).reshape(1, -1) # sensible UGA'(0) >= 1\n",
    "    Z = _numeric_e1(equilibrium_selection_probs, equilibrium_selection_derivs, T, R, P, S, M)\n",
    "    cax = ax.imshow(Z, origin=\"lower\", aspect=\"auto\", vmin=-0.5, vmax=1.0)\n",
    "\n",
    "    levels = np.arange(-0.25, 1.25, 0.25)\n",
    "    contours = ax.contour(Z, levels=levels, colors='w', origin='lower')\n",
    "    ax.clabel(contours, contours.levels, inline=True, fontsize=10)\n",
    "    \n",
    "    # adjust the tick labels\n",
    "    locs, _ = plt.xticks()\n",
    "    plt.xticks(locs[1:], np.linspace(0, 10, locs.size-1))\n",
    "    locs, _ = plt.yticks()\n",
    "    plt.yticks(locs[1:], np.linspace(0, 1, locs.size-1))\n",
    "\n",
    "    plt.show()"
   ]
  },
  {
   "cell_type": "code",
   "execution_count": null,
   "metadata": {},
   "outputs": [],
   "source": [
    "mpld3.disable_notebook()  # don't need interactive plotting for this!\n",
    "\n",
    "# sliders used to control the Prisoner's Dilemma Payoffs\n",
    "T_slider = widgets.FloatSlider(value=25, min=0, max=100, step=0.1, description=r\"$T$\")\n",
    "R_slider = widgets.FloatSlider(value=3, min=0, max=100, step=0.1, description=r\"$R$\")\n",
    "P_slider = widgets.FloatSlider(value=2, min=0, max=100, step=0.1, description=r\"$P$\")\n",
    "S_slider = widgets.FloatSlider(value=1, min=0, max=100, step=0.1, description=r\"$S$\")\n",
    "\n",
    "M_slider = widgets.FloatSlider(value=1, min=0, max=100, step=0.1, description=r\"$M$\")\n",
    "\n",
    "w = widgets.interactive(plot_first_eigenvalue, T=T_slider, R=R_slider, P=P_slider, S=S_slider, M=M_slider)\n",
    "display(w)"
   ]
  },
  {
   "cell_type": "code",
   "execution_count": null,
   "metadata": {
    "collapsed": true,
    "jupyter": {
     "outputs_hidden": true
    }
   },
   "outputs": [],
   "source": [
    "UGA_prime_star, = sym.solve(numerator, UGA_prime_star)"
   ]
  },
  {
   "cell_type": "code",
   "execution_count": null,
   "metadata": {},
   "outputs": [],
   "source": [
    "sym.factor(UGA_prime_star)"
   ]
  },
  {
   "cell_type": "markdown",
   "metadata": {},
   "source": [
    "After a bit of fiddling, we arrive at the same stability condition derived above."
   ]
  },
  {
   "cell_type": "markdown",
   "metadata": {},
   "source": [
    "\\begin{align}\n",
    "   % U'_{GA}(x^*) < -\\frac{(PU_{GA}(x^*)^2 - 2PU_{GA}(x^*) + P + RU_{GA}(x^*)^2 - SU_{GA}(x^*)^2 + SU_{GA}(x^*) - TU_{GA}(x^*)^2 + TU_{GA}(x^*))^2}{(2PRU_{GA}(x^*)^2 - 2PRU_{GA}(x^*) - PSU_{GA}(x^*)^2 + 2PSU_{GA}(x^*) - PS - RTU_{GA}(x^*)^2)} \\\\\n",
    "    U'_{GA}(x^*) < \\frac{\\bigg(\\big((R + P) - (T + S)\\big)U_{GA}(x^*)^2 + \\big((T + S) - 2P\\big)U_{GA}(x^*) + P\\bigg)^2}{\\big(R(T-2P) + PS\\big)U_{GA}(x^*)^2 + 2P(R - S)U_{GA}(x^*) + PS}\n",
    "\\end{align}"
   ]
  },
  {
   "cell_type": "code",
   "execution_count": null,
   "metadata": {},
   "outputs": [],
   "source": [
    "e2"
   ]
  },
  {
   "cell_type": "markdown",
   "metadata": {},
   "source": [
    "$$ e_2 = \\left(\\frac{\\big((R + P) - (T + S)\\big)U_{gA}^{*2} + \\big((T + S) - 2P\\big)U_{gA}^* + P}{4N^*}\\right) - \\frac{3}{4} $$\n",
    "\n",
    "### Completing the square\n",
    "\n",
    "Completing the square for the quadratic polynomial in $U_{gA}(x^*)$ yields the following expression.\n",
    "\n",
    "\\begin{align}\n",
    "    \\big((R + P) - (T + S)\\big)\\left(U_{gA}^* - \\bar{U}_{GA}^*\\right)^2 + \\frac{1}{2}\\bar{N}^* \\\\\n",
    "\\end{align}"
   ]
  },
  {
   "cell_type": "markdown",
   "metadata": {},
   "source": [
    "Finally we need to find conditions under which the third eigenvalue is strictly negative."
   ]
  },
  {
   "cell_type": "code",
   "execution_count": 14,
   "metadata": {},
   "outputs": [
    {
     "ename": "NameError",
     "evalue": "name 'UgA_star' is not defined",
     "output_type": "error",
     "traceback": [
      "\u001b[0;31m---------------------------------------------------------------------------\u001b[0m",
      "\u001b[0;31mNameError\u001b[0m                                 Traceback (most recent call last)",
      "\u001b[0;32m<ipython-input-14-e310acacc8ef>\u001b[0m in \u001b[0;36m<module>\u001b[0;34m()\u001b[0m\n\u001b[1;32m      1\u001b[0m \u001b[0;31m# vectorized numeric repr for the eigenvalue\u001b[0m\u001b[0;34m\u001b[0m\u001b[0;34m\u001b[0m\u001b[0m\n\u001b[0;32m----> 2\u001b[0;31m \u001b[0m_numeric_e2\u001b[0m \u001b[0;34m=\u001b[0m \u001b[0msym\u001b[0m\u001b[0;34m.\u001b[0m\u001b[0mlambdify\u001b[0m\u001b[0;34m(\u001b[0m\u001b[0;34m(\u001b[0m\u001b[0mUGA_star\u001b[0m\u001b[0;34m,\u001b[0m \u001b[0mUgA_star\u001b[0m\u001b[0;34m,\u001b[0m \u001b[0mT\u001b[0m\u001b[0;34m,\u001b[0m \u001b[0mR\u001b[0m\u001b[0;34m,\u001b[0m \u001b[0mP\u001b[0m\u001b[0;34m,\u001b[0m \u001b[0mS\u001b[0m\u001b[0;34m,\u001b[0m \u001b[0mM\u001b[0m\u001b[0;34m,\u001b[0m \u001b[0mm\u001b[0m\u001b[0;34m)\u001b[0m\u001b[0;34m,\u001b[0m \u001b[0me2\u001b[0m\u001b[0;34m,\u001b[0m \u001b[0mmodules\u001b[0m\u001b[0;34m=\u001b[0m\u001b[0;34m\"numpy\"\u001b[0m\u001b[0;34m)\u001b[0m\u001b[0;34m\u001b[0m\u001b[0m\n\u001b[0m",
      "\u001b[0;31mNameError\u001b[0m: name 'UgA_star' is not defined"
     ]
    }
   ],
   "source": [
    "# vectorized numeric repr for the eigenvalue\n",
    "_numeric_e2 = sym.lambdify((UGA_star, UgA_star, T, R, P, S, M, m), e2, modules=\"numpy\")"
   ]
  },
  {
   "cell_type": "code",
   "execution_count": null,
   "metadata": {
    "collapsed": true,
    "jupyter": {
     "outputs_hidden": true
    }
   },
   "outputs": [],
   "source": [
    "def plot_second_eigenvalue(T, R, P, S, M, m):\n",
    "\n",
    "    fig, ax = plt.subplots(1, 1, figsize=(10, 10))\n",
    "    ax.set_ylabel(r\"$U_{GA}^*$\", fontsize=20, rotation=\"horizontal\")\n",
    "    ax.set_xlabel(r\"$U_{gA}^{*}$\", fontsize=20)\n",
    "    ax.set_title(r\"Eigenvalue, $e_2$\", fontsize=25)\n",
    "    ax.grid(\"off\")\n",
    "\n",
    "    equilibrium_selection_probs = np.linspace(0, 1, 100)\n",
    "    UgAs, UGAs = np.meshgrid(equilibrium_selection_probs, equilibrium_selection_probs)\n",
    "    Z = _numeric_e2(UGAs, UgAs, T, R, P, S, M, m)\n",
    "    cax = ax.imshow(Z, origin=\"lower\")\n",
    "    contours = ax.contour(Z, colors='w', origin='lower')\n",
    "    ax.clabel(contours, contours.levels, inline=True, fontsize=10)\n",
    "    \n",
    "    # adjust the tick labels\n",
    "    locs, _ = plt.xticks()\n",
    "    plt.xticks(locs[1:], np.linspace(0, 1, locs.size-1))\n",
    "    locs, _ = plt.yticks()\n",
    "    plt.yticks(locs[1:], np.linspace(0, 1, locs.size-1))\n",
    "\n",
    "    plt.show()"
   ]
  },
  {
   "cell_type": "code",
   "execution_count": null,
   "metadata": {},
   "outputs": [],
   "source": [
    "mpld3.disable_notebook()  # don't need interactive plotting for this!\n",
    "\n",
    "# sliders used to control the Prisoner's Dilemma Payoffs\n",
    "T_slider = widgets.FloatSlider(value=25, min=0, max=100, step=0.1, description=r\"$T$\")\n",
    "R_slider = widgets.FloatSlider(value=3, min=0, max=100, step=0.1, description=r\"$R$\")\n",
    "P_slider = widgets.FloatSlider(value=2, min=0, max=100, step=0.1, description=r\"$P$\")\n",
    "S_slider = widgets.FloatSlider(value=1, min=0, max=100, step=0.1, description=r\"$S$\")\n",
    "\n",
    "M_slider = widgets.FloatSlider(value=1, min=0, max=100, step=0.1, description=r\"$M$\")\n",
    "m_slider = widgets.FloatSlider(value=0, min=0, max=100, step=0.1, description=r\"$m$\")\n",
    "\n",
    "w = widgets.interactive(plot_second_eigenvalue, T=T_slider, R=R_slider, P=P_slider, S=S_slider, M=M_slider, m=m_slider)\n",
    "display(w)"
   ]
  },
  {
   "cell_type": "code",
   "execution_count": null,
   "metadata": {},
   "outputs": [],
   "source": [
    "e3"
   ]
  },
  {
   "cell_type": "code",
   "execution_count": null,
   "metadata": {
    "collapsed": true,
    "jupyter": {
     "outputs_hidden": true
    }
   },
   "outputs": [],
   "source": [
    "# vectorized numeric repr for the eigenvalue\n",
    "_numeric_e3 = sym.lambdify((UGA_star, UgA_star, T, R, P, S, M, m), e3, modules=\"numpy\")"
   ]
  },
  {
   "cell_type": "code",
   "execution_count": null,
   "metadata": {
    "collapsed": true,
    "jupyter": {
     "outputs_hidden": true
    }
   },
   "outputs": [],
   "source": [
    "def plot_third_eigenvalue(T, R, P, S, M, m):\n",
    "\n",
    "    fig, ax = plt.subplots(1, 1, figsize=(10, 10))\n",
    "    ax.set_ylabel(r\"$U_{GA}^*$\", fontsize=20, rotation=\"horizontal\")\n",
    "    ax.set_xlabel(r\"$U_{gA}^{*}$\", fontsize=20)\n",
    "    ax.set_title(r\"Eigenvalue, $e_3$\", fontsize=25)\n",
    "    ax.grid(\"off\")\n",
    "\n",
    "    equilibrium_selection_probs = np.linspace(0, 1, 100)\n",
    "    UgAs, UGAs = np.meshgrid(equilibrium_selection_probs, equilibrium_selection_probs)\n",
    "    Z = _numeric_e3(UGAs, UgAs, T, R, P, S, M, m)\n",
    "    cax = ax.imshow(Z, origin=\"lower\")\n",
    "    contours = ax.contour(Z, colors='w', origin='lower')\n",
    "    ax.clabel(contours, contours.levels, inline=True, fontsize=10)\n",
    "    \n",
    "    # adjust the tick labels\n",
    "    locs, _ = plt.xticks()\n",
    "    plt.xticks(locs[1:], np.linspace(0, 1, locs.size-1))\n",
    "    locs, _ = plt.yticks()\n",
    "    plt.yticks(locs[1:], np.linspace(0, 1, locs.size-1))\n",
    "\n",
    "    plt.show()"
   ]
  },
  {
   "cell_type": "code",
   "execution_count": null,
   "metadata": {},
   "outputs": [],
   "source": [
    "mpld3.disable_notebook()  # don't need interactive plotting for this!\n",
    "\n",
    "# sliders used to control the Prisoner's Dilemma Payoffs\n",
    "T_slider = widgets.FloatSlider(value=25, min=0, max=100, step=0.1, description=r\"$T$\")\n",
    "R_slider = widgets.FloatSlider(value=3, min=0, max=100, step=0.1, description=r\"$R$\")\n",
    "P_slider = widgets.FloatSlider(value=2, min=0, max=100, step=0.1, description=r\"$P$\")\n",
    "S_slider = widgets.FloatSlider(value=1, min=0, max=100, step=0.1, description=r\"$S$\")\n",
    "\n",
    "M_slider = widgets.FloatSlider(value=1, min=0, max=100, step=0.1, description=r\"$M$\")\n",
    "m_slider = widgets.FloatSlider(value=0, min=0, max=100, step=0.1, description=r\"$m$\")\n",
    "\n",
    "w = widgets.interactive(plot_third_eigenvalue, T=T_slider, R=R_slider, P=P_slider, S=S_slider, M=M_slider, m=m_slider)\n",
    "display(w)"
   ]
  },
  {
   "cell_type": "markdown",
   "metadata": {},
   "source": [
    "## When is the fitness-maximizing interior equilibrium un-invadable by randomista?"
   ]
  },
  {
   "cell_type": "code",
   "execution_count": null,
   "metadata": {
    "collapsed": true,
    "jupyter": {
     "outputs_hidden": true
    }
   },
   "outputs": [],
   "source": [
    "evaluated_e3 = e3.subs({UGA_star: optimal_UGA_star, UgA_star: optimal_x1_star, m: 0})\n",
    "simplified_e3 = sym.factor(sym.cancel(sym.together(evaluated_e3)))"
   ]
  },
  {
   "cell_type": "code",
   "execution_count": null,
   "metadata": {
    "collapsed": true,
    "jupyter": {
     "outputs_hidden": true
    }
   },
   "outputs": [],
   "source": [
    "numerator, denominator = sym.fraction(simplified_e3)"
   ]
  },
  {
   "cell_type": "code",
   "execution_count": null,
   "metadata": {},
   "outputs": [],
   "source": [
    "numerator"
   ]
  },
  {
   "cell_type": "markdown",
   "metadata": {},
   "source": [
    "\\begin{align}\n",
    "    4\\bigg(-\\big(P^3 + 3P^2R + 3PR^2 + R^3\\big) - \\big(P^3 - 3P^2S + 3PS^2 + S^3\\big) + \\big(-P^3 + 3P^2T - 3PT^2 + T^3\\big) - \\big(R^3 - 3R^2S + 3RS^2 - S^3\\big) + \\big(T^3 - 3RT^2 + 3R^2T - R^3\\big) + 2P^3 + 2R^3 + 8PRS + 8PRT - 8PST - 8RST - 2T^3 + \\big(S^3 + 3S^2T + 3ST^2 + T^3\\big)\\bigg)M^3 + 2\\big(4P^3R + 8P^2R^2 - 8P^2RS - 8P^2RT - P^2S^2 - 2P^2ST - P^2T^2 + 4PR^3 - 8PR^2S - 8PR^2T + 2PRS^2 + 4PRST + 2PRT^2 + 2PS^3 + 6PS^2T + 6PST^2 + 2PT^3 - R^2S^2 - 2R^2ST - R^2T^2 + 2RS^3 + 6RS^2T + 6RST^2 + 2RT^3 - S^4 - 4S^3T - 6S^2T^2 - 4ST^3 - T^4\\big)M^2 + \\big(- 4P^3R^2 - 4P^2R^3 + 4P^2R^2S + 4P^2R^2T + 2P^2RS^2 + 4P^2RST + 2P^2RT^2 + 2PR^2S^2 + 4PR^2ST + 2PR^2T^2 - 2PRS^3 - 6PRS^2T - 6PRST^2 - 2PRT^3 - 0.25PS^4 -PS^3T - 1.5PS^2T^2 - PST^3 - 0.25PT^4 - 0.25RS^4 - RS^3T - 1.5RS^2T^2 - RST^3 - 0.25RT^4 + 0.25S^5 + 1.25S^4T + 2.5S^3T^2 + 2.5S^2T^3 + 1.25ST^4 + 0.25T^5\\big)M + \\big(- P^2R^2S^2 + 2P^2R^2ST - P^2R^2T^2 + P^2RS^3 - P^2RS^2T - P^2RST^2 + P^2RT^3 - 0.25P^2S^4 + 0.5P^2S^2T^2 - 0.25P^2T^4 + PR^2S^3 - PR^2S^2T - PR^2ST^2 + PR^2T^3 - PRS^4 + 2PRS^2T^2 - PRT^4 + 0.25PS^5 + 0.25PS^4T - 0.5PS^3T^2 - 0.5PS^2T^3 + 0.25PST^4 + 0.25PT^5 - 0.25R^2S^4 + 0.5R^2S^2T^2 - 0.25R^2T^4 + 0.25RS^5 + 0.25RS^4T - 0.5RS^3T^2 - 0.5RS^2T^3 + 0.25RST^4 + 0.25RT^5 - 0.0625S^6 - 0.125S^5T + 0.0625S^4T^2 + 0.25S^3T^3 + 0.0625S^2T^4 - 0.125ST^5 - 0.0625T^6\\big) \\\\\n",
    "    4\\bigg(-\\big(R + P\\big)^3 - \\big(P - S\\big)^3 + \\big(T - P\\big)^3 - \\big(R - S\\big)^3 + \\big(T - R\\big)^3 + 2P^3 + 2R^3 + 8PRS + 8PRT - 8PST - 8RST - 2T^3 + \\big(T + S\\big)^3\\bigg)M^3 + 2\\big(4P^3R + 8P^2R^2 - 8P^2RS - 8P^2RT - P^2S^2 - 2P^2ST - P^2T^2 + 4PR^3 - 8PR^2S - 8PR^2T + 2PRS^2 + 4PRST + 2PRT^2 + 2PS^3 + 6PS^2T + 6PST^2 + 2PT^3 - R^2S^2 - 2R^2ST - R^2T^2 + 2RS^3 + 6RS^2T + 6RST^2 + 2RT^3 - S^4 - 4S^3T - 6S^2T^2 - 4ST^3 - T^4\\big)M^2 + \\big(- 4P^3R^2 - 4P^2R^3 + 4P^2R^2S + 4P^2R^2T + 2P^2RS^2 + 4P^2RST + 2P^2RT^2 + 2PR^2S^2 + 4PR^2ST + 2PR^2T^2 - 2PRS^3 - 6PRS^2T - 6PRST^2 - 2PRT^3 - 0.25PS^4 -PS^3T - 1.5PS^2T^2 - PST^3 - 0.25PT^4 - 0.25RS^4 - RS^3T - 1.5RS^2T^2 - RST^3 - 0.25RT^4 + 0.25S^5 + 1.25S^4T + 2.5S^3T^2 + 2.5S^2T^3 + 1.25ST^4 + 0.25T^5\\big)M + \\big(- P^2R^2S^2 + 2P^2R^2ST - P^2R^2T^2 + P^2RS^3 - P^2RS^2T - P^2RST^2 + P^2RT^3 - 0.25P^2S^4 + 0.5P^2S^2T^2 - 0.25P^2T^4 + PR^2S^3 - PR^2S^2T - PR^2ST^2 + PR^2T^3 - PRS^4 + 2PRS^2T^2 - PRT^4 + 0.25PS^5 + 0.25PS^4T - 0.5PS^3T^2 - 0.5PS^2T^3 + 0.25PST^4 + 0.25PT^5 - 0.25R^2S^4 + 0.5R^2S^2T^2 - 0.25R^2T^4 + 0.25RS^5 + 0.25RS^4T - 0.5RS^3T^2 - 0.5RS^2T^3 + 0.25RST^4 + 0.25RT^5 - 0.0625S^6 - 0.125S^5T + 0.0625S^4T^2 + 0.25S^3T^3 + 0.0625S^2T^4 - 0.125ST^5 - 0.0625T^6\\big) \\\\\n",
    "\\end{align}"
   ]
  },
  {
   "cell_type": "code",
   "execution_count": null,
   "metadata": {
    "collapsed": true,
    "jupyter": {
     "outputs_hidden": true
    }
   },
   "outputs": [],
   "source": [
    "(S - R)(S^2 - 2SR + R^2) = S^3 - 3RS^2 + 3SR^2 - R^3"
   ]
  },
  {
   "cell_type": "code",
   "execution_count": null,
   "metadata": {},
   "outputs": [],
   "source": [
    "sym.factor(-P**3 - 3*P**2*R + 3*P**2*S + 3*P**2*T - 3*P*R**2 + 8*P*R*S + 8*P*R*T - 3*P*S**2 - 8*P*S*T - 3*P*T**2 - R**3 + 3*R**2*S + 3*R**2*T - 3*R*S**2 - 8*R*S*T - 3*R*T**2 + S**3 + 3*S**2*T + 3*S*T**2 + T**3)"
   ]
  },
  {
   "cell_type": "code",
   "execution_count": null,
   "metadata": {
    "collapsed": true,
    "jupyter": {
     "outputs_hidden": true
    }
   },
   "outputs": [],
   "source": [
    "r1, r2, r3 = sym.solve(numerator, M)"
   ]
  },
  {
   "cell_type": "code",
   "execution_count": null,
   "metadata": {
    "collapsed": true,
    "jupyter": {
     "outputs_hidden": true
    }
   },
   "outputs": [],
   "source": [
    "sym.cancel(sym.together(r1))"
   ]
  },
  {
   "cell_type": "code",
   "execution_count": null,
   "metadata": {},
   "outputs": [],
   "source": [
    "denominator"
   ]
  },
  {
   "cell_type": "markdown",
   "metadata": {},
   "source": [
    "Denominator will be negative if and only if...\n",
    "\n",
    "\\begin{align}\n",
    "    % 4MP + 4MR - 4MS - 4MT - 4PR + S^2 + 2ST + T^2 < 0 \\\\\n",
    "    % 4M\\big((R + P) - (T + S)\\big) - 4PR + (T + S)^2< 0 \\\\\n",
    "    % 4M\\big((R + P) - (T + S)\\big) < 4RP - (T + S)^2 \\\\\n",
    "    M < \\frac{1}{4}\\frac{4RP - (T + S)^2}{(R + P) - (T + S)} \\\\\n",
    "    M < \\frac{RP - \\left(\\frac{T + S}{2}\\right)^2}{(R + P) - (T + S)} \\\\\n",
    "\\end{align}\n",
    "\n",
    "...since we are looking at interior equilibrium the RHS of the above inequality will be positive."
   ]
  },
  {
   "cell_type": "code",
   "execution_count": null,
   "metadata": {
    "collapsed": true,
    "jupyter": {
     "outputs_hidden": true
    }
   },
   "outputs": [],
   "source": [
    "_f = sym.lambdify((T, R, P, S, M), evaluated_e3, modules = \"numpy\")\n",
    "\n",
    "def plot_non_invadable_by_randomista(T, R, P, S):\n",
    "    fig, ax = plt.subplots(1, 1, figsize=(10,6))\n",
    "    Ms = np.linspace(0, min(0.5 * (T + S), P), 100)\n",
    "    ax.plot(Ms, _f(T, R, P, S, Ms))\n",
    "    ax.set_xlabel(r\"$M$\", fontsize=15)\n",
    "    ax.set_ylabel(r\"$e_3$\", rotation=\"horizontal\", fontsize=15)\n",
    "    plt.show()"
   ]
  },
  {
   "cell_type": "code",
   "execution_count": null,
   "metadata": {},
   "outputs": [],
   "source": [
    "# sliders used to control the Prisoner's Dilemma Payoffs\n",
    "T_slider = widgets.FloatSlider(value=10, min=0, max=100, step=0.1, description=r\"$T$\")\n",
    "R_slider = widgets.FloatSlider(value=8, min=0, max=100, step=0.1, description=r\"$R$\")\n",
    "P_slider = widgets.FloatSlider(value=6, min=0, max=100, step=0.1, description=r\"$P$\")\n",
    "S_slider = widgets.FloatSlider(value=4, min=0, max=100, step=0.1, description=r\"$S$\")\n",
    "\n",
    "w = widgets.interactive(plot_non_invadable_by_randomista, T=T_slider, R=R_slider, P=P_slider, S=S_slider)\n",
    "display(w)"
   ]
  },
  {
   "cell_type": "code",
   "execution_count": null,
   "metadata": {},
   "outputs": [],
   "source": [
    "solutions = sym.solve(simplified_e3, M)"
   ]
  },
  {
   "cell_type": "code",
   "execution_count": null,
   "metadata": {
    "collapsed": true,
    "jupyter": {
     "outputs_hidden": true
    }
   },
   "outputs": [],
   "source": []
  }
 ],
 "metadata": {
  "kernelspec": {
   "display_name": "Python 3",
   "language": "python",
   "name": "python3"
  },
  "language_info": {
   "codemirror_mode": {
    "name": "ipython",
    "version": 3
   },
   "file_extension": ".py",
   "mimetype": "text/x-python",
   "name": "python",
   "nbconvert_exporter": "python",
   "pygments_lexer": "ipython3",
   "version": "3.6.10"
  }
 },
 "nbformat": 4,
 "nbformat_minor": 4
}
