{
 "cells": [
  {
   "cell_type": "code",
   "execution_count": 28,
   "metadata": {},
   "outputs": [],
   "source": [
    "import matplotlib.pyplot as plt\n",
    "import numpy as np\n",
    "import sympy as sym"
   ]
  },
  {
   "cell_type": "code",
   "execution_count": 29,
   "metadata": {},
   "outputs": [],
   "source": [
    "%matplotlib notebook"
   ]
  },
  {
   "cell_type": "code",
   "execution_count": 52,
   "metadata": {},
   "outputs": [],
   "source": [
    "def average_fecundity(U, T, R, P, S):\n",
    "    return 2 * ((R + P - T - S) * U**2 + (T + S - 2 * P) * U + P)\n",
    "\n",
    "def equilibrium_coordinators_share(U, T, R, P, S):\n",
    "    F = average_fecundity(U, T, R, P, S)\n",
    "    return 2 * ((R - S) * U**2 + S * U) / F"
   ]
  },
  {
   "cell_type": "code",
   "execution_count": 53,
   "metadata": {},
   "outputs": [],
   "source": [
    "U = sym.symbols('U', real=True, nonnegative=True)\n",
    "T, R, P, S = sym.symbols('T, R, P, S', real=True, positive=True)\n",
    "x = equilibrium_coordinators_share(U, T, R, P, S)"
   ]
  },
  {
   "cell_type": "code",
   "execution_count": 54,
   "metadata": {},
   "outputs": [],
   "source": [
    "first_derivative = sym.lambdify((U, T, R, P, S), sym.diff(x, U, 1), modules=[\"numpy\"])\n",
    "second_derivative = sym.lambdify((U, T, R, P, S), sym.diff(x, U, 2), modules=[\"numpy\"])"
   ]
  },
  {
   "cell_type": "code",
   "execution_count": 138,
   "metadata": {},
   "outputs": [
    {
     "data": {
      "application/javascript": [
       "/* Put everything inside the global mpl namespace */\n",
       "window.mpl = {};\n",
       "\n",
       "\n",
       "mpl.get_websocket_type = function() {\n",
       "    if (typeof(WebSocket) !== 'undefined') {\n",
       "        return WebSocket;\n",
       "    } else if (typeof(MozWebSocket) !== 'undefined') {\n",
       "        return MozWebSocket;\n",
       "    } else {\n",
       "        alert('Your browser does not have WebSocket support.' +\n",
       "              'Please try Chrome, Safari or Firefox ≥ 6. ' +\n",
       "              'Firefox 4 and 5 are also supported but you ' +\n",
       "              'have to enable WebSockets in about:config.');\n",
       "    };\n",
       "}\n",
       "\n",
       "mpl.figure = function(figure_id, websocket, ondownload, parent_element) {\n",
       "    this.id = figure_id;\n",
       "\n",
       "    this.ws = websocket;\n",
       "\n",
       "    this.supports_binary = (this.ws.binaryType != undefined);\n",
       "\n",
       "    if (!this.supports_binary) {\n",
       "        var warnings = document.getElementById(\"mpl-warnings\");\n",
       "        if (warnings) {\n",
       "            warnings.style.display = 'block';\n",
       "            warnings.textContent = (\n",
       "                \"This browser does not support binary websocket messages. \" +\n",
       "                    \"Performance may be slow.\");\n",
       "        }\n",
       "    }\n",
       "\n",
       "    this.imageObj = new Image();\n",
       "\n",
       "    this.context = undefined;\n",
       "    this.message = undefined;\n",
       "    this.canvas = undefined;\n",
       "    this.rubberband_canvas = undefined;\n",
       "    this.rubberband_context = undefined;\n",
       "    this.format_dropdown = undefined;\n",
       "\n",
       "    this.image_mode = 'full';\n",
       "\n",
       "    this.root = $('<div/>');\n",
       "    this._root_extra_style(this.root)\n",
       "    this.root.attr('style', 'display: inline-block');\n",
       "\n",
       "    $(parent_element).append(this.root);\n",
       "\n",
       "    this._init_header(this);\n",
       "    this._init_canvas(this);\n",
       "    this._init_toolbar(this);\n",
       "\n",
       "    var fig = this;\n",
       "\n",
       "    this.waiting = false;\n",
       "\n",
       "    this.ws.onopen =  function () {\n",
       "            fig.send_message(\"supports_binary\", {value: fig.supports_binary});\n",
       "            fig.send_message(\"send_image_mode\", {});\n",
       "            if (mpl.ratio != 1) {\n",
       "                fig.send_message(\"set_dpi_ratio\", {'dpi_ratio': mpl.ratio});\n",
       "            }\n",
       "            fig.send_message(\"refresh\", {});\n",
       "        }\n",
       "\n",
       "    this.imageObj.onload = function() {\n",
       "            if (fig.image_mode == 'full') {\n",
       "                // Full images could contain transparency (where diff images\n",
       "                // almost always do), so we need to clear the canvas so that\n",
       "                // there is no ghosting.\n",
       "                fig.context.clearRect(0, 0, fig.canvas.width, fig.canvas.height);\n",
       "            }\n",
       "            fig.context.drawImage(fig.imageObj, 0, 0);\n",
       "        };\n",
       "\n",
       "    this.imageObj.onunload = function() {\n",
       "        fig.ws.close();\n",
       "    }\n",
       "\n",
       "    this.ws.onmessage = this._make_on_message_function(this);\n",
       "\n",
       "    this.ondownload = ondownload;\n",
       "}\n",
       "\n",
       "mpl.figure.prototype._init_header = function() {\n",
       "    var titlebar = $(\n",
       "        '<div class=\"ui-dialog-titlebar ui-widget-header ui-corner-all ' +\n",
       "        'ui-helper-clearfix\"/>');\n",
       "    var titletext = $(\n",
       "        '<div class=\"ui-dialog-title\" style=\"width: 100%; ' +\n",
       "        'text-align: center; padding: 3px;\"/>');\n",
       "    titlebar.append(titletext)\n",
       "    this.root.append(titlebar);\n",
       "    this.header = titletext[0];\n",
       "}\n",
       "\n",
       "\n",
       "\n",
       "mpl.figure.prototype._canvas_extra_style = function(canvas_div) {\n",
       "\n",
       "}\n",
       "\n",
       "\n",
       "mpl.figure.prototype._root_extra_style = function(canvas_div) {\n",
       "\n",
       "}\n",
       "\n",
       "mpl.figure.prototype._init_canvas = function() {\n",
       "    var fig = this;\n",
       "\n",
       "    var canvas_div = $('<div/>');\n",
       "\n",
       "    canvas_div.attr('style', 'position: relative; clear: both; outline: 0');\n",
       "\n",
       "    function canvas_keyboard_event(event) {\n",
       "        return fig.key_event(event, event['data']);\n",
       "    }\n",
       "\n",
       "    canvas_div.keydown('key_press', canvas_keyboard_event);\n",
       "    canvas_div.keyup('key_release', canvas_keyboard_event);\n",
       "    this.canvas_div = canvas_div\n",
       "    this._canvas_extra_style(canvas_div)\n",
       "    this.root.append(canvas_div);\n",
       "\n",
       "    var canvas = $('<canvas/>');\n",
       "    canvas.addClass('mpl-canvas');\n",
       "    canvas.attr('style', \"left: 0; top: 0; z-index: 0; outline: 0\")\n",
       "\n",
       "    this.canvas = canvas[0];\n",
       "    this.context = canvas[0].getContext(\"2d\");\n",
       "\n",
       "    var backingStore = this.context.backingStorePixelRatio ||\n",
       "\tthis.context.webkitBackingStorePixelRatio ||\n",
       "\tthis.context.mozBackingStorePixelRatio ||\n",
       "\tthis.context.msBackingStorePixelRatio ||\n",
       "\tthis.context.oBackingStorePixelRatio ||\n",
       "\tthis.context.backingStorePixelRatio || 1;\n",
       "\n",
       "    mpl.ratio = (window.devicePixelRatio || 1) / backingStore;\n",
       "\n",
       "    var rubberband = $('<canvas/>');\n",
       "    rubberband.attr('style', \"position: absolute; left: 0; top: 0; z-index: 1;\")\n",
       "\n",
       "    var pass_mouse_events = true;\n",
       "\n",
       "    canvas_div.resizable({\n",
       "        start: function(event, ui) {\n",
       "            pass_mouse_events = false;\n",
       "        },\n",
       "        resize: function(event, ui) {\n",
       "            fig.request_resize(ui.size.width, ui.size.height);\n",
       "        },\n",
       "        stop: function(event, ui) {\n",
       "            pass_mouse_events = true;\n",
       "            fig.request_resize(ui.size.width, ui.size.height);\n",
       "        },\n",
       "    });\n",
       "\n",
       "    function mouse_event_fn(event) {\n",
       "        if (pass_mouse_events)\n",
       "            return fig.mouse_event(event, event['data']);\n",
       "    }\n",
       "\n",
       "    rubberband.mousedown('button_press', mouse_event_fn);\n",
       "    rubberband.mouseup('button_release', mouse_event_fn);\n",
       "    // Throttle sequential mouse events to 1 every 20ms.\n",
       "    rubberband.mousemove('motion_notify', mouse_event_fn);\n",
       "\n",
       "    rubberband.mouseenter('figure_enter', mouse_event_fn);\n",
       "    rubberband.mouseleave('figure_leave', mouse_event_fn);\n",
       "\n",
       "    canvas_div.on(\"wheel\", function (event) {\n",
       "        event = event.originalEvent;\n",
       "        event['data'] = 'scroll'\n",
       "        if (event.deltaY < 0) {\n",
       "            event.step = 1;\n",
       "        } else {\n",
       "            event.step = -1;\n",
       "        }\n",
       "        mouse_event_fn(event);\n",
       "    });\n",
       "\n",
       "    canvas_div.append(canvas);\n",
       "    canvas_div.append(rubberband);\n",
       "\n",
       "    this.rubberband = rubberband;\n",
       "    this.rubberband_canvas = rubberband[0];\n",
       "    this.rubberband_context = rubberband[0].getContext(\"2d\");\n",
       "    this.rubberband_context.strokeStyle = \"#000000\";\n",
       "\n",
       "    this._resize_canvas = function(width, height) {\n",
       "        // Keep the size of the canvas, canvas container, and rubber band\n",
       "        // canvas in synch.\n",
       "        canvas_div.css('width', width)\n",
       "        canvas_div.css('height', height)\n",
       "\n",
       "        canvas.attr('width', width * mpl.ratio);\n",
       "        canvas.attr('height', height * mpl.ratio);\n",
       "        canvas.attr('style', 'width: ' + width + 'px; height: ' + height + 'px;');\n",
       "\n",
       "        rubberband.attr('width', width);\n",
       "        rubberband.attr('height', height);\n",
       "    }\n",
       "\n",
       "    // Set the figure to an initial 600x600px, this will subsequently be updated\n",
       "    // upon first draw.\n",
       "    this._resize_canvas(600, 600);\n",
       "\n",
       "    // Disable right mouse context menu.\n",
       "    $(this.rubberband_canvas).bind(\"contextmenu\",function(e){\n",
       "        return false;\n",
       "    });\n",
       "\n",
       "    function set_focus () {\n",
       "        canvas.focus();\n",
       "        canvas_div.focus();\n",
       "    }\n",
       "\n",
       "    window.setTimeout(set_focus, 100);\n",
       "}\n",
       "\n",
       "mpl.figure.prototype._init_toolbar = function() {\n",
       "    var fig = this;\n",
       "\n",
       "    var nav_element = $('<div/>')\n",
       "    nav_element.attr('style', 'width: 100%');\n",
       "    this.root.append(nav_element);\n",
       "\n",
       "    // Define a callback function for later on.\n",
       "    function toolbar_event(event) {\n",
       "        return fig.toolbar_button_onclick(event['data']);\n",
       "    }\n",
       "    function toolbar_mouse_event(event) {\n",
       "        return fig.toolbar_button_onmouseover(event['data']);\n",
       "    }\n",
       "\n",
       "    for(var toolbar_ind in mpl.toolbar_items) {\n",
       "        var name = mpl.toolbar_items[toolbar_ind][0];\n",
       "        var tooltip = mpl.toolbar_items[toolbar_ind][1];\n",
       "        var image = mpl.toolbar_items[toolbar_ind][2];\n",
       "        var method_name = mpl.toolbar_items[toolbar_ind][3];\n",
       "\n",
       "        if (!name) {\n",
       "            // put a spacer in here.\n",
       "            continue;\n",
       "        }\n",
       "        var button = $('<button/>');\n",
       "        button.addClass('ui-button ui-widget ui-state-default ui-corner-all ' +\n",
       "                        'ui-button-icon-only');\n",
       "        button.attr('role', 'button');\n",
       "        button.attr('aria-disabled', 'false');\n",
       "        button.click(method_name, toolbar_event);\n",
       "        button.mouseover(tooltip, toolbar_mouse_event);\n",
       "\n",
       "        var icon_img = $('<span/>');\n",
       "        icon_img.addClass('ui-button-icon-primary ui-icon');\n",
       "        icon_img.addClass(image);\n",
       "        icon_img.addClass('ui-corner-all');\n",
       "\n",
       "        var tooltip_span = $('<span/>');\n",
       "        tooltip_span.addClass('ui-button-text');\n",
       "        tooltip_span.html(tooltip);\n",
       "\n",
       "        button.append(icon_img);\n",
       "        button.append(tooltip_span);\n",
       "\n",
       "        nav_element.append(button);\n",
       "    }\n",
       "\n",
       "    var fmt_picker_span = $('<span/>');\n",
       "\n",
       "    var fmt_picker = $('<select/>');\n",
       "    fmt_picker.addClass('mpl-toolbar-option ui-widget ui-widget-content');\n",
       "    fmt_picker_span.append(fmt_picker);\n",
       "    nav_element.append(fmt_picker_span);\n",
       "    this.format_dropdown = fmt_picker[0];\n",
       "\n",
       "    for (var ind in mpl.extensions) {\n",
       "        var fmt = mpl.extensions[ind];\n",
       "        var option = $(\n",
       "            '<option/>', {selected: fmt === mpl.default_extension}).html(fmt);\n",
       "        fmt_picker.append(option)\n",
       "    }\n",
       "\n",
       "    // Add hover states to the ui-buttons\n",
       "    $( \".ui-button\" ).hover(\n",
       "        function() { $(this).addClass(\"ui-state-hover\");},\n",
       "        function() { $(this).removeClass(\"ui-state-hover\");}\n",
       "    );\n",
       "\n",
       "    var status_bar = $('<span class=\"mpl-message\"/>');\n",
       "    nav_element.append(status_bar);\n",
       "    this.message = status_bar[0];\n",
       "}\n",
       "\n",
       "mpl.figure.prototype.request_resize = function(x_pixels, y_pixels) {\n",
       "    // Request matplotlib to resize the figure. Matplotlib will then trigger a resize in the client,\n",
       "    // which will in turn request a refresh of the image.\n",
       "    this.send_message('resize', {'width': x_pixels, 'height': y_pixels});\n",
       "}\n",
       "\n",
       "mpl.figure.prototype.send_message = function(type, properties) {\n",
       "    properties['type'] = type;\n",
       "    properties['figure_id'] = this.id;\n",
       "    this.ws.send(JSON.stringify(properties));\n",
       "}\n",
       "\n",
       "mpl.figure.prototype.send_draw_message = function() {\n",
       "    if (!this.waiting) {\n",
       "        this.waiting = true;\n",
       "        this.ws.send(JSON.stringify({type: \"draw\", figure_id: this.id}));\n",
       "    }\n",
       "}\n",
       "\n",
       "\n",
       "mpl.figure.prototype.handle_save = function(fig, msg) {\n",
       "    var format_dropdown = fig.format_dropdown;\n",
       "    var format = format_dropdown.options[format_dropdown.selectedIndex].value;\n",
       "    fig.ondownload(fig, format);\n",
       "}\n",
       "\n",
       "\n",
       "mpl.figure.prototype.handle_resize = function(fig, msg) {\n",
       "    var size = msg['size'];\n",
       "    if (size[0] != fig.canvas.width || size[1] != fig.canvas.height) {\n",
       "        fig._resize_canvas(size[0], size[1]);\n",
       "        fig.send_message(\"refresh\", {});\n",
       "    };\n",
       "}\n",
       "\n",
       "mpl.figure.prototype.handle_rubberband = function(fig, msg) {\n",
       "    var x0 = msg['x0'] / mpl.ratio;\n",
       "    var y0 = (fig.canvas.height - msg['y0']) / mpl.ratio;\n",
       "    var x1 = msg['x1'] / mpl.ratio;\n",
       "    var y1 = (fig.canvas.height - msg['y1']) / mpl.ratio;\n",
       "    x0 = Math.floor(x0) + 0.5;\n",
       "    y0 = Math.floor(y0) + 0.5;\n",
       "    x1 = Math.floor(x1) + 0.5;\n",
       "    y1 = Math.floor(y1) + 0.5;\n",
       "    var min_x = Math.min(x0, x1);\n",
       "    var min_y = Math.min(y0, y1);\n",
       "    var width = Math.abs(x1 - x0);\n",
       "    var height = Math.abs(y1 - y0);\n",
       "\n",
       "    fig.rubberband_context.clearRect(\n",
       "        0, 0, fig.canvas.width, fig.canvas.height);\n",
       "\n",
       "    fig.rubberband_context.strokeRect(min_x, min_y, width, height);\n",
       "}\n",
       "\n",
       "mpl.figure.prototype.handle_figure_label = function(fig, msg) {\n",
       "    // Updates the figure title.\n",
       "    fig.header.textContent = msg['label'];\n",
       "}\n",
       "\n",
       "mpl.figure.prototype.handle_cursor = function(fig, msg) {\n",
       "    var cursor = msg['cursor'];\n",
       "    switch(cursor)\n",
       "    {\n",
       "    case 0:\n",
       "        cursor = 'pointer';\n",
       "        break;\n",
       "    case 1:\n",
       "        cursor = 'default';\n",
       "        break;\n",
       "    case 2:\n",
       "        cursor = 'crosshair';\n",
       "        break;\n",
       "    case 3:\n",
       "        cursor = 'move';\n",
       "        break;\n",
       "    }\n",
       "    fig.rubberband_canvas.style.cursor = cursor;\n",
       "}\n",
       "\n",
       "mpl.figure.prototype.handle_message = function(fig, msg) {\n",
       "    fig.message.textContent = msg['message'];\n",
       "}\n",
       "\n",
       "mpl.figure.prototype.handle_draw = function(fig, msg) {\n",
       "    // Request the server to send over a new figure.\n",
       "    fig.send_draw_message();\n",
       "}\n",
       "\n",
       "mpl.figure.prototype.handle_image_mode = function(fig, msg) {\n",
       "    fig.image_mode = msg['mode'];\n",
       "}\n",
       "\n",
       "mpl.figure.prototype.updated_canvas_event = function() {\n",
       "    // Called whenever the canvas gets updated.\n",
       "    this.send_message(\"ack\", {});\n",
       "}\n",
       "\n",
       "// A function to construct a web socket function for onmessage handling.\n",
       "// Called in the figure constructor.\n",
       "mpl.figure.prototype._make_on_message_function = function(fig) {\n",
       "    return function socket_on_message(evt) {\n",
       "        if (evt.data instanceof Blob) {\n",
       "            /* FIXME: We get \"Resource interpreted as Image but\n",
       "             * transferred with MIME type text/plain:\" errors on\n",
       "             * Chrome.  But how to set the MIME type?  It doesn't seem\n",
       "             * to be part of the websocket stream */\n",
       "            evt.data.type = \"image/png\";\n",
       "\n",
       "            /* Free the memory for the previous frames */\n",
       "            if (fig.imageObj.src) {\n",
       "                (window.URL || window.webkitURL).revokeObjectURL(\n",
       "                    fig.imageObj.src);\n",
       "            }\n",
       "\n",
       "            fig.imageObj.src = (window.URL || window.webkitURL).createObjectURL(\n",
       "                evt.data);\n",
       "            fig.updated_canvas_event();\n",
       "            fig.waiting = false;\n",
       "            return;\n",
       "        }\n",
       "        else if (typeof evt.data === 'string' && evt.data.slice(0, 21) == \"data:image/png;base64\") {\n",
       "            fig.imageObj.src = evt.data;\n",
       "            fig.updated_canvas_event();\n",
       "            fig.waiting = false;\n",
       "            return;\n",
       "        }\n",
       "\n",
       "        var msg = JSON.parse(evt.data);\n",
       "        var msg_type = msg['type'];\n",
       "\n",
       "        // Call the  \"handle_{type}\" callback, which takes\n",
       "        // the figure and JSON message as its only arguments.\n",
       "        try {\n",
       "            var callback = fig[\"handle_\" + msg_type];\n",
       "        } catch (e) {\n",
       "            console.log(\"No handler for the '\" + msg_type + \"' message type: \", msg);\n",
       "            return;\n",
       "        }\n",
       "\n",
       "        if (callback) {\n",
       "            try {\n",
       "                // console.log(\"Handling '\" + msg_type + \"' message: \", msg);\n",
       "                callback(fig, msg);\n",
       "            } catch (e) {\n",
       "                console.log(\"Exception inside the 'handler_\" + msg_type + \"' callback:\", e, e.stack, msg);\n",
       "            }\n",
       "        }\n",
       "    };\n",
       "}\n",
       "\n",
       "// from http://stackoverflow.com/questions/1114465/getting-mouse-location-in-canvas\n",
       "mpl.findpos = function(e) {\n",
       "    //this section is from http://www.quirksmode.org/js/events_properties.html\n",
       "    var targ;\n",
       "    if (!e)\n",
       "        e = window.event;\n",
       "    if (e.target)\n",
       "        targ = e.target;\n",
       "    else if (e.srcElement)\n",
       "        targ = e.srcElement;\n",
       "    if (targ.nodeType == 3) // defeat Safari bug\n",
       "        targ = targ.parentNode;\n",
       "\n",
       "    // jQuery normalizes the pageX and pageY\n",
       "    // pageX,Y are the mouse positions relative to the document\n",
       "    // offset() returns the position of the element relative to the document\n",
       "    var x = e.pageX - $(targ).offset().left;\n",
       "    var y = e.pageY - $(targ).offset().top;\n",
       "\n",
       "    return {\"x\": x, \"y\": y};\n",
       "};\n",
       "\n",
       "/*\n",
       " * return a copy of an object with only non-object keys\n",
       " * we need this to avoid circular references\n",
       " * http://stackoverflow.com/a/24161582/3208463\n",
       " */\n",
       "function simpleKeys (original) {\n",
       "  return Object.keys(original).reduce(function (obj, key) {\n",
       "    if (typeof original[key] !== 'object')\n",
       "        obj[key] = original[key]\n",
       "    return obj;\n",
       "  }, {});\n",
       "}\n",
       "\n",
       "mpl.figure.prototype.mouse_event = function(event, name) {\n",
       "    var canvas_pos = mpl.findpos(event)\n",
       "\n",
       "    if (name === 'button_press')\n",
       "    {\n",
       "        this.canvas.focus();\n",
       "        this.canvas_div.focus();\n",
       "    }\n",
       "\n",
       "    var x = canvas_pos.x * mpl.ratio;\n",
       "    var y = canvas_pos.y * mpl.ratio;\n",
       "\n",
       "    this.send_message(name, {x: x, y: y, button: event.button,\n",
       "                             step: event.step,\n",
       "                             guiEvent: simpleKeys(event)});\n",
       "\n",
       "    /* This prevents the web browser from automatically changing to\n",
       "     * the text insertion cursor when the button is pressed.  We want\n",
       "     * to control all of the cursor setting manually through the\n",
       "     * 'cursor' event from matplotlib */\n",
       "    event.preventDefault();\n",
       "    return false;\n",
       "}\n",
       "\n",
       "mpl.figure.prototype._key_event_extra = function(event, name) {\n",
       "    // Handle any extra behaviour associated with a key event\n",
       "}\n",
       "\n",
       "mpl.figure.prototype.key_event = function(event, name) {\n",
       "\n",
       "    // Prevent repeat events\n",
       "    if (name == 'key_press')\n",
       "    {\n",
       "        if (event.which === this._key)\n",
       "            return;\n",
       "        else\n",
       "            this._key = event.which;\n",
       "    }\n",
       "    if (name == 'key_release')\n",
       "        this._key = null;\n",
       "\n",
       "    var value = '';\n",
       "    if (event.ctrlKey && event.which != 17)\n",
       "        value += \"ctrl+\";\n",
       "    if (event.altKey && event.which != 18)\n",
       "        value += \"alt+\";\n",
       "    if (event.shiftKey && event.which != 16)\n",
       "        value += \"shift+\";\n",
       "\n",
       "    value += 'k';\n",
       "    value += event.which.toString();\n",
       "\n",
       "    this._key_event_extra(event, name);\n",
       "\n",
       "    this.send_message(name, {key: value,\n",
       "                             guiEvent: simpleKeys(event)});\n",
       "    return false;\n",
       "}\n",
       "\n",
       "mpl.figure.prototype.toolbar_button_onclick = function(name) {\n",
       "    if (name == 'download') {\n",
       "        this.handle_save(this, null);\n",
       "    } else {\n",
       "        this.send_message(\"toolbar_button\", {name: name});\n",
       "    }\n",
       "};\n",
       "\n",
       "mpl.figure.prototype.toolbar_button_onmouseover = function(tooltip) {\n",
       "    this.message.textContent = tooltip;\n",
       "};\n",
       "mpl.toolbar_items = [[\"Home\", \"Reset original view\", \"fa fa-home icon-home\", \"home\"], [\"Back\", \"Back to  previous view\", \"fa fa-arrow-left icon-arrow-left\", \"back\"], [\"Forward\", \"Forward to next view\", \"fa fa-arrow-right icon-arrow-right\", \"forward\"], [\"\", \"\", \"\", \"\"], [\"Pan\", \"Pan axes with left mouse, zoom with right\", \"fa fa-arrows icon-move\", \"pan\"], [\"Zoom\", \"Zoom to rectangle\", \"fa fa-square-o icon-check-empty\", \"zoom\"], [\"\", \"\", \"\", \"\"], [\"Download\", \"Download plot\", \"fa fa-floppy-o icon-save\", \"download\"]];\n",
       "\n",
       "mpl.extensions = [\"eps\", \"jpeg\", \"pdf\", \"png\", \"ps\", \"raw\", \"svg\", \"tif\"];\n",
       "\n",
       "mpl.default_extension = \"png\";var comm_websocket_adapter = function(comm) {\n",
       "    // Create a \"websocket\"-like object which calls the given IPython comm\n",
       "    // object with the appropriate methods. Currently this is a non binary\n",
       "    // socket, so there is still some room for performance tuning.\n",
       "    var ws = {};\n",
       "\n",
       "    ws.close = function() {\n",
       "        comm.close()\n",
       "    };\n",
       "    ws.send = function(m) {\n",
       "        //console.log('sending', m);\n",
       "        comm.send(m);\n",
       "    };\n",
       "    // Register the callback with on_msg.\n",
       "    comm.on_msg(function(msg) {\n",
       "        //console.log('receiving', msg['content']['data'], msg);\n",
       "        // Pass the mpl event to the overridden (by mpl) onmessage function.\n",
       "        ws.onmessage(msg['content']['data'])\n",
       "    });\n",
       "    return ws;\n",
       "}\n",
       "\n",
       "mpl.mpl_figure_comm = function(comm, msg) {\n",
       "    // This is the function which gets called when the mpl process\n",
       "    // starts-up an IPython Comm through the \"matplotlib\" channel.\n",
       "\n",
       "    var id = msg.content.data.id;\n",
       "    // Get hold of the div created by the display call when the Comm\n",
       "    // socket was opened in Python.\n",
       "    var element = $(\"#\" + id);\n",
       "    var ws_proxy = comm_websocket_adapter(comm)\n",
       "\n",
       "    function ondownload(figure, format) {\n",
       "        window.open(figure.imageObj.src);\n",
       "    }\n",
       "\n",
       "    var fig = new mpl.figure(id, ws_proxy,\n",
       "                           ondownload,\n",
       "                           element.get(0));\n",
       "\n",
       "    // Call onopen now - mpl needs it, as it is assuming we've passed it a real\n",
       "    // web socket which is closed, not our websocket->open comm proxy.\n",
       "    ws_proxy.onopen();\n",
       "\n",
       "    fig.parent_element = element.get(0);\n",
       "    fig.cell_info = mpl.find_output_cell(\"<div id='\" + id + \"'></div>\");\n",
       "    if (!fig.cell_info) {\n",
       "        console.error(\"Failed to find cell for figure\", id, fig);\n",
       "        return;\n",
       "    }\n",
       "\n",
       "    var output_index = fig.cell_info[2]\n",
       "    var cell = fig.cell_info[0];\n",
       "\n",
       "};\n",
       "\n",
       "mpl.figure.prototype.handle_close = function(fig, msg) {\n",
       "    var width = fig.canvas.width/mpl.ratio\n",
       "    fig.root.unbind('remove')\n",
       "\n",
       "    // Update the output cell to use the data from the current canvas.\n",
       "    fig.push_to_output();\n",
       "    var dataURL = fig.canvas.toDataURL();\n",
       "    // Re-enable the keyboard manager in IPython - without this line, in FF,\n",
       "    // the notebook keyboard shortcuts fail.\n",
       "    IPython.keyboard_manager.enable()\n",
       "    $(fig.parent_element).html('<img src=\"' + dataURL + '\" width=\"' + width + '\">');\n",
       "    fig.close_ws(fig, msg);\n",
       "}\n",
       "\n",
       "mpl.figure.prototype.close_ws = function(fig, msg){\n",
       "    fig.send_message('closing', msg);\n",
       "    // fig.ws.close()\n",
       "}\n",
       "\n",
       "mpl.figure.prototype.push_to_output = function(remove_interactive) {\n",
       "    // Turn the data on the canvas into data in the output cell.\n",
       "    var width = this.canvas.width/mpl.ratio\n",
       "    var dataURL = this.canvas.toDataURL();\n",
       "    this.cell_info[1]['text/html'] = '<img src=\"' + dataURL + '\" width=\"' + width + '\">';\n",
       "}\n",
       "\n",
       "mpl.figure.prototype.updated_canvas_event = function() {\n",
       "    // Tell IPython that the notebook contents must change.\n",
       "    IPython.notebook.set_dirty(true);\n",
       "    this.send_message(\"ack\", {});\n",
       "    var fig = this;\n",
       "    // Wait a second, then push the new image to the DOM so\n",
       "    // that it is saved nicely (might be nice to debounce this).\n",
       "    setTimeout(function () { fig.push_to_output() }, 1000);\n",
       "}\n",
       "\n",
       "mpl.figure.prototype._init_toolbar = function() {\n",
       "    var fig = this;\n",
       "\n",
       "    var nav_element = $('<div/>')\n",
       "    nav_element.attr('style', 'width: 100%');\n",
       "    this.root.append(nav_element);\n",
       "\n",
       "    // Define a callback function for later on.\n",
       "    function toolbar_event(event) {\n",
       "        return fig.toolbar_button_onclick(event['data']);\n",
       "    }\n",
       "    function toolbar_mouse_event(event) {\n",
       "        return fig.toolbar_button_onmouseover(event['data']);\n",
       "    }\n",
       "\n",
       "    for(var toolbar_ind in mpl.toolbar_items){\n",
       "        var name = mpl.toolbar_items[toolbar_ind][0];\n",
       "        var tooltip = mpl.toolbar_items[toolbar_ind][1];\n",
       "        var image = mpl.toolbar_items[toolbar_ind][2];\n",
       "        var method_name = mpl.toolbar_items[toolbar_ind][3];\n",
       "\n",
       "        if (!name) { continue; };\n",
       "\n",
       "        var button = $('<button class=\"btn btn-default\" href=\"#\" title=\"' + name + '\"><i class=\"fa ' + image + ' fa-lg\"></i></button>');\n",
       "        button.click(method_name, toolbar_event);\n",
       "        button.mouseover(tooltip, toolbar_mouse_event);\n",
       "        nav_element.append(button);\n",
       "    }\n",
       "\n",
       "    // Add the status bar.\n",
       "    var status_bar = $('<span class=\"mpl-message\" style=\"text-align:right; float: right;\"/>');\n",
       "    nav_element.append(status_bar);\n",
       "    this.message = status_bar[0];\n",
       "\n",
       "    // Add the close button to the window.\n",
       "    var buttongrp = $('<div class=\"btn-group inline pull-right\"></div>');\n",
       "    var button = $('<button class=\"btn btn-mini btn-primary\" href=\"#\" title=\"Stop Interaction\"><i class=\"fa fa-power-off icon-remove icon-large\"></i></button>');\n",
       "    button.click(function (evt) { fig.handle_close(fig, {}); } );\n",
       "    button.mouseover('Stop Interaction', toolbar_mouse_event);\n",
       "    buttongrp.append(button);\n",
       "    var titlebar = this.root.find($('.ui-dialog-titlebar'));\n",
       "    titlebar.prepend(buttongrp);\n",
       "}\n",
       "\n",
       "mpl.figure.prototype._root_extra_style = function(el){\n",
       "    var fig = this\n",
       "    el.on(\"remove\", function(){\n",
       "\tfig.close_ws(fig, {});\n",
       "    });\n",
       "}\n",
       "\n",
       "mpl.figure.prototype._canvas_extra_style = function(el){\n",
       "    // this is important to make the div 'focusable\n",
       "    el.attr('tabindex', 0)\n",
       "    // reach out to IPython and tell the keyboard manager to turn it's self\n",
       "    // off when our div gets focus\n",
       "\n",
       "    // location in version 3\n",
       "    if (IPython.notebook.keyboard_manager) {\n",
       "        IPython.notebook.keyboard_manager.register_events(el);\n",
       "    }\n",
       "    else {\n",
       "        // location in version 2\n",
       "        IPython.keyboard_manager.register_events(el);\n",
       "    }\n",
       "\n",
       "}\n",
       "\n",
       "mpl.figure.prototype._key_event_extra = function(event, name) {\n",
       "    var manager = IPython.notebook.keyboard_manager;\n",
       "    if (!manager)\n",
       "        manager = IPython.keyboard_manager;\n",
       "\n",
       "    // Check for shift+enter\n",
       "    if (event.shiftKey && event.which == 13) {\n",
       "        this.canvas_div.blur();\n",
       "        event.shiftKey = false;\n",
       "        // Send a \"J\" for go to next cell\n",
       "        event.which = 74;\n",
       "        event.keyCode = 74;\n",
       "        manager.command_mode();\n",
       "        manager.handle_keydown(event);\n",
       "    }\n",
       "}\n",
       "\n",
       "mpl.figure.prototype.handle_save = function(fig, msg) {\n",
       "    fig.ondownload(fig, null);\n",
       "}\n",
       "\n",
       "\n",
       "mpl.find_output_cell = function(html_output) {\n",
       "    // Return the cell and output element which can be found *uniquely* in the notebook.\n",
       "    // Note - this is a bit hacky, but it is done because the \"notebook_saving.Notebook\"\n",
       "    // IPython event is triggered only after the cells have been serialised, which for\n",
       "    // our purposes (turning an active figure into a static one), is too late.\n",
       "    var cells = IPython.notebook.get_cells();\n",
       "    var ncells = cells.length;\n",
       "    for (var i=0; i<ncells; i++) {\n",
       "        var cell = cells[i];\n",
       "        if (cell.cell_type === 'code'){\n",
       "            for (var j=0; j<cell.output_area.outputs.length; j++) {\n",
       "                var data = cell.output_area.outputs[j];\n",
       "                if (data.data) {\n",
       "                    // IPython >= 3 moved mimebundle to data attribute of output\n",
       "                    data = data.data;\n",
       "                }\n",
       "                if (data['text/html'] == html_output) {\n",
       "                    return [cell, data, j];\n",
       "                }\n",
       "            }\n",
       "        }\n",
       "    }\n",
       "}\n",
       "\n",
       "// Register the function which deals with the matplotlib target/channel.\n",
       "// The kernel may be null if the page has been refreshed.\n",
       "if (IPython.notebook.kernel != null) {\n",
       "    IPython.notebook.kernel.comm_manager.register_target('matplotlib', mpl.mpl_figure_comm);\n",
       "}\n"
      ],
      "text/plain": [
       "<IPython.core.display.Javascript object>"
      ]
     },
     "metadata": {},
     "output_type": "display_data"
    },
    {
     "data": {
      "text/html": [
       "<img src=\"data:image/png;base64,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\" width=\"640\">"
      ],
      "text/plain": [
       "<IPython.core.display.HTML object>"
      ]
     },
     "metadata": {},
     "output_type": "display_data"
    },
    {
     "data": {
      "text/plain": [
       "<matplotlib.legend.Legend at 0x14e991e80>"
      ]
     },
     "execution_count": 138,
     "metadata": {},
     "output_type": "execute_result"
    }
   ],
   "source": [
    "_, ax = plt.subplots(1,1)\n",
    "Us = np.logspace(-6, 0, 1000)\n",
    "payoffs = [6, 2, 4, 1]\n",
    "xs = equilibrium_coordinators_share(Us, *payoffs)\n",
    "x_primes = first_derivative(Us, *payoffs)\n",
    "x_prime_primes = second_derivative(Us, *payoffs)\n",
    "ax.plot([0,1], [0,1], \"k--\")\n",
    "ax.plot(xs, Us)\n",
    "ax.plot(xs, x_primes, label=r\"$\\frac{\\partial U}{\\partial x}$\")\n",
    "ax.plot(xs, x_prime_primes, label=r\"$\\frac{\\partial^2 U}{\\partial x^2}$\")\n",
    "ax.set_xlabel(r\"$x^*$\")\n",
    "ax.set_ylabel(r\"$U(x^*)$\", rotation=\"horizontal\")\n",
    "ax.set_title(\"T={}, R={}, P={}, S={}\".format(*payoffs))\n",
    "ax.legend()\n"
   ]
  },
  {
   "cell_type": "code",
   "execution_count": 77,
   "metadata": {},
   "outputs": [
    {
     "data": {
      "text/plain": [
       "(0.5, 1.3333333333333335)"
      ]
     },
     "execution_count": 77,
     "metadata": {},
     "output_type": "execute_result"
    }
   ],
   "source": [
    "first_derivative(0, *payoffs), first_derivative(1, *payoffs)"
   ]
  },
  {
   "cell_type": "code",
   "execution_count": 95,
   "metadata": {},
   "outputs": [
    {
     "data": {
      "text/plain": [
       "P/S"
      ]
     },
     "execution_count": 95,
     "metadata": {},
     "output_type": "execute_result"
    }
   ],
   "source": [
    "# slope of the L-locus at x=0, U=0\n",
    "1 / sym.diff(x, U).subs({U: 0})"
   ]
  },
  {
   "cell_type": "code",
   "execution_count": 96,
   "metadata": {},
   "outputs": [
    {
     "data": {
      "text/plain": [
       "R/T"
      ]
     },
     "execution_count": 96,
     "metadata": {},
     "output_type": "execute_result"
    }
   ],
   "source": [
    "# slope of the L-locus at x=1, U=1\n",
    "1 / sym.together(sym.diff(x, U).subs({U: 1}))"
   ]
  },
  {
   "cell_type": "code",
   "execution_count": 157,
   "metadata": {},
   "outputs": [
    {
     "data": {
      "text/plain": [
       "-(-P*S + U**2*(2*P*R - P*S - R*T) + U*(-2*P*R + 2*P*S))/(P + U**2*(P + R - S - T) + U*(-2*P + S + T))**2"
      ]
     },
     "execution_count": 157,
     "metadata": {},
     "output_type": "execute_result"
    }
   ],
   "source": [
    "sym.factor(sym.diff(x, U), U)"
   ]
  },
  {
   "cell_type": "code",
   "execution_count": 158,
   "metadata": {},
   "outputs": [],
   "source": [
    "numerator, denominator = sym.fraction(sym.factor(sym.diff(x, U), U))"
   ]
  },
  {
   "cell_type": "code",
   "execution_count": 159,
   "metadata": {},
   "outputs": [
    {
     "data": {
      "text/plain": [
       "(P + U**2*(P + R - S - T) + U*(-2*P + S + T))**2"
      ]
     },
     "execution_count": 159,
     "metadata": {},
     "output_type": "execute_result"
    }
   ],
   "source": [
    "# always positive!\n",
    "denominator"
   ]
  },
  {
   "cell_type": "code",
   "execution_count": 160,
   "metadata": {},
   "outputs": [
    {
     "data": {
      "text/plain": [
       "P*S - U**2*(2*P*R - P*S - R*T) - U*(-2*P*R + 2*P*S)"
      ]
     },
     "execution_count": 160,
     "metadata": {},
     "output_type": "execute_result"
    }
   ],
   "source": [
    "numerator"
   ]
  },
  {
   "cell_type": "markdown",
   "metadata": {},
   "source": [
    "Numerator polynomial opens up $\\iff PS + RT > 2 PR$ "
   ]
  },
  {
   "cell_type": "code",
   "execution_count": 161,
   "metadata": {},
   "outputs": [],
   "source": [
    "numerator_poly = sym.poly(numerator, U)"
   ]
  },
  {
   "cell_type": "code",
   "execution_count": 162,
   "metadata": {},
   "outputs": [
    {
     "data": {
      "text/plain": [
       "4*P*R*(P*R - S*T)"
      ]
     },
     "execution_count": 162,
     "metadata": {},
     "output_type": "execute_result"
    }
   ],
   "source": [
    "sym.factor(numerator_poly.discriminant())"
   ]
  },
  {
   "cell_type": "markdown",
   "metadata": {},
   "source": [
    "Discriminant of the numerator polynomial will be negative (implying polynomial has imaginary roots!) $\\iff$ $\\frac{P}{S} < \\frac{T}{R}$"
   ]
  },
  {
   "cell_type": "code",
   "execution_count": 163,
   "metadata": {},
   "outputs": [
    {
     "data": {
      "text/plain": [
       "[(sqrt(P)*sqrt(R)*sqrt(P*R - S*T) - P*(R - S))/(-2*P*R + P*S + R*T),\n",
       " -(sqrt(P)*sqrt(R)*sqrt(P*R - S*T) + P*(R - S))/(-2*P*R + P*S + R*T)]"
      ]
     },
     "execution_count": 163,
     "metadata": {},
     "output_type": "execute_result"
    }
   ],
   "source": [
    "sym.solve(numerator_poly, U)"
   ]
  },
  {
   "cell_type": "markdown",
   "metadata": {},
   "source": [
    "Sufficient conditions for first derivative to be strictly positive are that numerator polynomial opens up and discriminant of the polynomial is negative."
   ]
  },
  {
   "cell_type": "code",
   "execution_count": null,
   "metadata": {},
   "outputs": [],
   "source": []
  },
  {
   "cell_type": "code",
   "execution_count": 78,
   "metadata": {},
   "outputs": [
    {
     "data": {
      "text/plain": [
       "(1.5, 0.4444444444444445)"
      ]
     },
     "execution_count": 78,
     "metadata": {},
     "output_type": "execute_result"
    }
   ],
   "source": [
    "second_derivative(0, *payoffs), second_derivative(1, *payoffs)"
   ]
  },
  {
   "cell_type": "markdown",
   "metadata": {},
   "source": [
    "$$ (-U*(S + U*(R - S))*(-2*P + S + T + 2*U*(P + R - S - T)) + (S + 2*U*(R - S))*(P + U**2*(P + R - S - T) + U*(-2*P + S + T))) > 0$$"
   ]
  },
  {
   "cell_type": "code",
   "execution_count": 142,
   "metadata": {},
   "outputs": [
    {
     "data": {
      "text/plain": [
       "(2*P*(R - S) - 2*S*(-2*P + S + T))/P**2"
      ]
     },
     "execution_count": 142,
     "metadata": {},
     "output_type": "execute_result"
    }
   ],
   "source": [
    "sym.simplify(sym.diff(x, U, 2).subs({U: 0}))"
   ]
  },
  {
   "cell_type": "code",
   "execution_count": 143,
   "metadata": {},
   "outputs": [
    {
     "data": {
      "text/plain": [
       "(-2*P*R - 2*R*T + 2*S*T + 2*T**2)/R**2"
      ]
     },
     "execution_count": 143,
     "metadata": {},
     "output_type": "execute_result"
    }
   ],
   "source": [
    "sym.simplify(sym.diff(x, U, 2).subs({U: 1}))"
   ]
  },
  {
   "cell_type": "code",
   "execution_count": 145,
   "metadata": {},
   "outputs": [
    {
     "data": {
      "text/plain": [
       "2*(R*(P + U**2*(P + R - S - T) + U*(-2*P + S + T))**2 - S*(P + U**2*(P + R - S - T) + U*(-2*P + S + T))**2 - U*(S + U*(R - S))*(P + U**2*(P + R - S - T) + U*(-2*P + S + T))*(P + R - S - T) + U*(S + U*(R - S))*(-2*P + S + T + 2*U*(P + R - S - T))**2 - (S + 2*U*(R - S))*(P + U**2*(P + R - S - T) + U*(-2*P + S + T))*(-2*P + S + T + 2*U*(P + R - S - T)))/(P + U**2*(P + R - S - T) + U*(-2*P + S + T))**3"
      ]
     },
     "execution_count": 145,
     "metadata": {},
     "output_type": "execute_result"
    }
   ],
   "source": [
    "sym.together(sym.diff(x, U, 2))"
   ]
  },
  {
   "cell_type": "code",
   "execution_count": 146,
   "metadata": {},
   "outputs": [],
   "source": [
    "numerator, denominator = sym.fraction(sym.simplify(sym.diff(x, U, 2)))"
   ]
  },
  {
   "cell_type": "code",
   "execution_count": 147,
   "metadata": {},
   "outputs": [
    {
     "data": {
      "text/plain": [
       "(P + U**2*(P + R - S - T) + U*(-2*P + S + T))**3"
      ]
     },
     "execution_count": 147,
     "metadata": {},
     "output_type": "execute_result"
    }
   ],
   "source": [
    "# always positive!\n",
    "denominator"
   ]
  },
  {
   "cell_type": "code",
   "execution_count": 150,
   "metadata": {},
   "outputs": [],
   "source": [
    "numerator_poly = sym.poly(numerator, U)"
   ]
  },
  {
   "cell_type": "code",
   "execution_count": 156,
   "metadata": {},
   "outputs": [
    {
     "data": {
      "text/plain": [
       "432*P**2*R**2*(P*R - S*T)**2*(P + R - S - T)**2*(4*P*R - S**2 - 2*S*T - T**2)"
      ]
     },
     "execution_count": 156,
     "metadata": {},
     "output_type": "execute_result"
    }
   ],
   "source": [
    "sym.factor(numerator_poly.discriminant())"
   ]
  },
  {
   "cell_type": "code",
   "execution_count": 153,
   "metadata": {},
   "outputs": [
    {
     "data": {
      "text/plain": [
       "[-(-3*P*R + 3*P*S)/(3*(2*P*R - P*S - R*T)) - (9*P*S/(2*P*R - P*S - R*T) + (-3*P*R + 3*P*S)**2/(2*P*R - P*S - R*T)**2)/(3*(27*P*S*(-3*P*R + 3*P*S)/(2*(2*P*R - P*S - R*T)**2) + (-3*P*R + 3*P*S)**3/(2*P*R - P*S - R*T)**3 + sqrt(-4*(9*P*S/(2*P*R - P*S - R*T) + (-3*P*R + 3*P*S)**2/(2*P*R - P*S - R*T)**2)**3 + (27*P*S*(-3*P*R + 3*P*S)/(2*P*R - P*S - R*T)**2 + 2*(-3*P*R + 3*P*S)**3/(2*P*R - P*S - R*T)**3 + 27*(P**2*R + P**2*S - P*S**2 - P*S*T)/(2*P**2*R - P**2*S + 2*P*R**2 - 3*P*R*S - 3*P*R*T + P*S**2 + P*S*T - R**2*T + R*S*T + R*T**2))**2)/2 + 27*(P**2*R + P**2*S - P*S**2 - P*S*T)/(2*(2*P**2*R - P**2*S + 2*P*R**2 - 3*P*R*S - 3*P*R*T + P*S**2 + P*S*T - R**2*T + R*S*T + R*T**2)))**(1/3)) - (27*P*S*(-3*P*R + 3*P*S)/(2*(2*P*R - P*S - R*T)**2) + (-3*P*R + 3*P*S)**3/(2*P*R - P*S - R*T)**3 + sqrt(-4*(9*P*S/(2*P*R - P*S - R*T) + (-3*P*R + 3*P*S)**2/(2*P*R - P*S - R*T)**2)**3 + (27*P*S*(-3*P*R + 3*P*S)/(2*P*R - P*S - R*T)**2 + 2*(-3*P*R + 3*P*S)**3/(2*P*R - P*S - R*T)**3 + 27*(P**2*R + P**2*S - P*S**2 - P*S*T)/(2*P**2*R - P**2*S + 2*P*R**2 - 3*P*R*S - 3*P*R*T + P*S**2 + P*S*T - R**2*T + R*S*T + R*T**2))**2)/2 + 27*(P**2*R + P**2*S - P*S**2 - P*S*T)/(2*(2*P**2*R - P**2*S + 2*P*R**2 - 3*P*R*S - 3*P*R*T + P*S**2 + P*S*T - R**2*T + R*S*T + R*T**2)))**(1/3)/3,\n",
       " -(-3*P*R + 3*P*S)/(3*(2*P*R - P*S - R*T)) - (9*P*S/(2*P*R - P*S - R*T) + (-3*P*R + 3*P*S)**2/(2*P*R - P*S - R*T)**2)/(3*(-1/2 - sqrt(3)*I/2)*(27*P*S*(-3*P*R + 3*P*S)/(2*(2*P*R - P*S - R*T)**2) + (-3*P*R + 3*P*S)**3/(2*P*R - P*S - R*T)**3 + sqrt(-4*(9*P*S/(2*P*R - P*S - R*T) + (-3*P*R + 3*P*S)**2/(2*P*R - P*S - R*T)**2)**3 + (27*P*S*(-3*P*R + 3*P*S)/(2*P*R - P*S - R*T)**2 + 2*(-3*P*R + 3*P*S)**3/(2*P*R - P*S - R*T)**3 + 27*(P**2*R + P**2*S - P*S**2 - P*S*T)/(2*P**2*R - P**2*S + 2*P*R**2 - 3*P*R*S - 3*P*R*T + P*S**2 + P*S*T - R**2*T + R*S*T + R*T**2))**2)/2 + 27*(P**2*R + P**2*S - P*S**2 - P*S*T)/(2*(2*P**2*R - P**2*S + 2*P*R**2 - 3*P*R*S - 3*P*R*T + P*S**2 + P*S*T - R**2*T + R*S*T + R*T**2)))**(1/3)) - (-1/2 - sqrt(3)*I/2)*(27*P*S*(-3*P*R + 3*P*S)/(2*(2*P*R - P*S - R*T)**2) + (-3*P*R + 3*P*S)**3/(2*P*R - P*S - R*T)**3 + sqrt(-4*(9*P*S/(2*P*R - P*S - R*T) + (-3*P*R + 3*P*S)**2/(2*P*R - P*S - R*T)**2)**3 + (27*P*S*(-3*P*R + 3*P*S)/(2*P*R - P*S - R*T)**2 + 2*(-3*P*R + 3*P*S)**3/(2*P*R - P*S - R*T)**3 + 27*(P**2*R + P**2*S - P*S**2 - P*S*T)/(2*P**2*R - P**2*S + 2*P*R**2 - 3*P*R*S - 3*P*R*T + P*S**2 + P*S*T - R**2*T + R*S*T + R*T**2))**2)/2 + 27*(P**2*R + P**2*S - P*S**2 - P*S*T)/(2*(2*P**2*R - P**2*S + 2*P*R**2 - 3*P*R*S - 3*P*R*T + P*S**2 + P*S*T - R**2*T + R*S*T + R*T**2)))**(1/3)/3,\n",
       " -(-3*P*R + 3*P*S)/(3*(2*P*R - P*S - R*T)) - (9*P*S/(2*P*R - P*S - R*T) + (-3*P*R + 3*P*S)**2/(2*P*R - P*S - R*T)**2)/(3*(-1/2 + sqrt(3)*I/2)*(27*P*S*(-3*P*R + 3*P*S)/(2*(2*P*R - P*S - R*T)**2) + (-3*P*R + 3*P*S)**3/(2*P*R - P*S - R*T)**3 + sqrt(-4*(9*P*S/(2*P*R - P*S - R*T) + (-3*P*R + 3*P*S)**2/(2*P*R - P*S - R*T)**2)**3 + (27*P*S*(-3*P*R + 3*P*S)/(2*P*R - P*S - R*T)**2 + 2*(-3*P*R + 3*P*S)**3/(2*P*R - P*S - R*T)**3 + 27*(P**2*R + P**2*S - P*S**2 - P*S*T)/(2*P**2*R - P**2*S + 2*P*R**2 - 3*P*R*S - 3*P*R*T + P*S**2 + P*S*T - R**2*T + R*S*T + R*T**2))**2)/2 + 27*(P**2*R + P**2*S - P*S**2 - P*S*T)/(2*(2*P**2*R - P**2*S + 2*P*R**2 - 3*P*R*S - 3*P*R*T + P*S**2 + P*S*T - R**2*T + R*S*T + R*T**2)))**(1/3)) - (-1/2 + sqrt(3)*I/2)*(27*P*S*(-3*P*R + 3*P*S)/(2*(2*P*R - P*S - R*T)**2) + (-3*P*R + 3*P*S)**3/(2*P*R - P*S - R*T)**3 + sqrt(-4*(9*P*S/(2*P*R - P*S - R*T) + (-3*P*R + 3*P*S)**2/(2*P*R - P*S - R*T)**2)**3 + (27*P*S*(-3*P*R + 3*P*S)/(2*P*R - P*S - R*T)**2 + 2*(-3*P*R + 3*P*S)**3/(2*P*R - P*S - R*T)**3 + 27*(P**2*R + P**2*S - P*S**2 - P*S*T)/(2*P**2*R - P**2*S + 2*P*R**2 - 3*P*R*S - 3*P*R*T + P*S**2 + P*S*T - R**2*T + R*S*T + R*T**2))**2)/2 + 27*(P**2*R + P**2*S - P*S**2 - P*S*T)/(2*(2*P**2*R - P**2*S + 2*P*R**2 - 3*P*R*S - 3*P*R*T + P*S**2 + P*S*T - R**2*T + R*S*T + R*T**2)))**(1/3)/3]"
      ]
     },
     "execution_count": 153,
     "metadata": {},
     "output_type": "execute_result"
    }
   ],
   "source": [
    "sym.solve(numerator_poly, U)"
   ]
  },
  {
   "cell_type": "code",
   "execution_count": null,
   "metadata": {},
   "outputs": [],
   "source": []
  }
 ],
 "metadata": {
  "kernelspec": {
   "display_name": "Python 3",
   "language": "python",
   "name": "python3"
  },
  "language_info": {
   "codemirror_mode": {
    "name": "ipython",
    "version": 3
   },
   "file_extension": ".py",
   "mimetype": "text/x-python",
   "name": "python",
   "nbconvert_exporter": "python",
   "pygments_lexer": "ipython3",
   "version": "3.6.10"
  }
 },
 "nbformat": 4,
 "nbformat_minor": 4
}
