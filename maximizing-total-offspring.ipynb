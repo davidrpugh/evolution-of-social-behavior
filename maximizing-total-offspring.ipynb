{
 "cells": [
  {
   "cell_type": "code",
   "execution_count": 1,
   "metadata": {
    "collapsed": true
   },
   "outputs": [],
   "source": [
    "import ipywidgets as widgets\n",
    "import matplotlib.pyplot as plt\n",
    "import numpy as np\n",
    "import sympy as sym\n",
    "\n",
    "import symbolics"
   ]
  },
  {
   "cell_type": "code",
   "execution_count": 2,
   "metadata": {
    "collapsed": true
   },
   "outputs": [],
   "source": [
    "%matplotlib inline"
   ]
  },
  {
   "cell_type": "markdown",
   "metadata": {},
   "source": [
    "# Maximizing total offspring"
   ]
  },
  {
   "cell_type": "code",
   "execution_count": 29,
   "metadata": {
    "collapsed": true
   },
   "outputs": [],
   "source": [
    "x1, x2, x3, x4 = sym.symbols('x1, x2, x3, x4', real=True, nonnegative=True)\n",
    "T, R, P, S = sym.symbols('T, R, P, S', real=True, positive=True)\n",
    "\n",
    "UGA = symbolics.UGA\n",
    "UgA = symbolics.UgA\n",
    "\n",
    "total_offspring = symbolics.total_offspring(x1, x2, x3, UGA, UgA, T, R, P, S)"
   ]
  },
  {
   "cell_type": "markdown",
   "metadata": {},
   "source": [
    "## Substitute equilibrium values"
   ]
  },
  {
   "cell_type": "code",
   "execution_count": 30,
   "metadata": {},
   "outputs": [],
   "source": [
    "UGA_star, UgA_star, xG_star = sym.symbols(\"UGA_star, UgA_star, xG_star\")\n",
    "equilibrium_total_offspring = total_offspring.subs({UGA(x1+x3): UGA_star, UgA(x1+x3): UgA_star, x1+x2: xG_star})"
   ]
  },
  {
   "cell_type": "code",
   "execution_count": 31,
   "metadata": {},
   "outputs": [
    {
     "data": {
      "text/plain": [
       "2*P*(xG_star*(-UGA_star + 1)**2 + (-UgA_star + 1)**2*(-xG_star + 1)) + 2*R*(UGA_star**2*xG_star + UgA_star**2*(-xG_star + 1)) + (2*S + 2*T)*(UGA_star*xG_star*(-UGA_star + 1) + UgA_star*(-UgA_star + 1)*(-xG_star + 1))"
      ]
     },
     "execution_count": 31,
     "metadata": {},
     "output_type": "execute_result"
    }
   ],
   "source": [
    "equilibrium_total_offspring"
   ]
  },
  {
   "cell_type": "markdown",
   "metadata": {},
   "source": [
    "## Make an interactive plot"
   ]
  },
  {
   "cell_type": "code",
   "execution_count": 16,
   "metadata": {
    "collapsed": true
   },
   "outputs": [],
   "source": [
    "_equilibrium_total_offspring = sym.lambdify((xG_star, UGA_star, UgA_star, T, R, P, S),\n",
    "                                            equilibrium_total_offspring,\n",
    "                                            modules=\"numpy\")"
   ]
  },
  {
   "cell_type": "code",
   "execution_count": 32,
   "metadata": {
    "collapsed": true
   },
   "outputs": [],
   "source": [
    "def plot_total_offspring(xG_star, T, R, P, S):\n",
    "\n",
    "    fig, ax = plt.subplots(1, 1, figsize=(20, 10))\n",
    "    ax.set_ylabel(r\"$U_{GA}^*$\", fontsize=20, rotation=\"horizontal\")\n",
    "    ax.set_xlabel(r\"$U_{gA}^*$\", fontsize=20)\n",
    "    ax.set_title(r\"Equilibrium total offspring for $x_G^*$={}\".format(xG_star), fontsize=25)\n",
    "    ax.grid(\"off\")\n",
    "\n",
    "    equilibrium_selection_probs = np.linspace(0, 1, 100).reshape(-1, 1)\n",
    "    UGAs = equilibrium_selection_probs.reshape(-1, 1)\n",
    "    UgAs = equilibrium_selection_probs.reshape(1, -1)\n",
    "    Z = _equilibrium_total_offspring(xG_star, UGAs, UgAs, T, R, P, S)\n",
    "    cax = ax.imshow(Z, origin=\"lower\")\n",
    "\n",
    "    contours = ax.contour(Z, colors='w', origin='lower')\n",
    "    ax.clabel(contours, contours.levels, inline=True, fontsize=10)\n",
    "    \n",
    "    # adjust the tick labels\n",
    "    locs, _ = plt.xticks()\n",
    "    plt.xticks(locs[1:], np.linspace(0, 1, locs.size-1))\n",
    "    locs, _ = plt.yticks()\n",
    "    plt.yticks(locs[1:], np.linspace(0, 1, locs.size-1))\n",
    "\n",
    "    plt.show()"
   ]
  },
  {
   "cell_type": "code",
   "execution_count": 33,
   "metadata": {},
   "outputs": [
    {
     "data": {
      "application/vnd.jupyter.widget-view+json": {
       "model_id": "9f5e7d5cec534487a4244624230604da",
       "version_major": 2,
       "version_minor": 0
      },
      "text/plain": [
       "A Jupyter Widget"
      ]
     },
     "metadata": {},
     "output_type": "display_data"
    }
   ],
   "source": [
    "xG_slider = widgets.FloatSlider(value=0.5, min=0, max=1, step=0.01, description=r\"$x_G^*$\")\n",
    "\n",
    "# sliders used to control the Prisoner's Dilemma Payoffs\n",
    "T_slider = widgets.FloatSlider(value=10, min=0, max=100, step=0.1, description=r\"$T$\")\n",
    "R_slider = widgets.FloatSlider(value=3, min=0, max=100, step=0.1, description=r\"$R$\")\n",
    "P_slider = widgets.FloatSlider(value=2, min=0, max=100, step=0.1, description=r\"$P$\")\n",
    "S_slider = widgets.FloatSlider(value=1, min=0, max=100, step=0.1, description=r\"$S$\")\n",
    "\n",
    "w = widgets.interactive(plot_total_offspring, xG_star=xG_slider, T=T_slider, R=R_slider, P=P_slider, S=S_slider)\n",
    "display(w)"
   ]
  },
  {
   "cell_type": "code",
   "execution_count": null,
   "metadata": {
    "collapsed": true
   },
   "outputs": [],
   "source": []
  }
 ],
 "metadata": {
  "kernelspec": {
   "display_name": "Python 3",
   "language": "python",
   "name": "python3"
  },
  "language_info": {
   "codemirror_mode": {
    "name": "ipython",
    "version": 3
   },
   "file_extension": ".py",
   "mimetype": "text/x-python",
   "name": "python",
   "nbconvert_exporter": "python",
   "pygments_lexer": "ipython3",
   "version": "3.6.3"
  }
 },
 "nbformat": 4,
 "nbformat_minor": 2
}
