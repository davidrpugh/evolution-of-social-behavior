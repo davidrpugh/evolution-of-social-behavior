{
 "cells": [
  {
   "cell_type": "code",
   "execution_count": 1,
   "metadata": {
    "collapsed": true
   },
   "outputs": [],
   "source": [
    "import ipywidgets as widgets\n",
    "import matplotlib.pyplot as plt\n",
    "import numpy as np\n",
    "import sympy as sym\n",
    "\n",
    "import symbolics"
   ]
  },
  {
   "cell_type": "code",
   "execution_count": 2,
   "metadata": {
    "collapsed": true
   },
   "outputs": [],
   "source": [
    "%matplotlib inline"
   ]
  },
  {
   "cell_type": "markdown",
   "metadata": {},
   "source": [
    "# Maximizing equilibrium total offspring"
   ]
  },
  {
   "cell_type": "code",
   "execution_count": 29,
   "metadata": {
    "collapsed": true
   },
   "outputs": [],
   "source": [
    "x1, x2, x3, x4 = sym.symbols('x1, x2, x3, x4', real=True, nonnegative=True)\n",
    "T, R, P, S = sym.symbols('T, R, P, S', real=True, positive=True)\n",
    "\n",
    "UGA = symbolics.UGA\n",
    "UgA = symbolics.UgA\n",
    "\n",
    "total_offspring = symbolics.total_offspring(x1, x2, x3, UGA, UgA, T, R, P, S)"
   ]
  },
  {
   "cell_type": "markdown",
   "metadata": {},
   "source": [
    "## Substitute equilibrium values"
   ]
  },
  {
   "cell_type": "code",
   "execution_count": 30,
   "metadata": {},
   "outputs": [],
   "source": [
    "UGA_star, UgA_star, xG_star = sym.symbols(\"UGA_star, UgA_star, xG_star\")\n",
    "equilibrium_total_offspring = total_offspring.subs({UGA(x1+x3): UGA_star, UgA(x1+x3): UgA_star, x1+x2: xG_star})"
   ]
  },
  {
   "cell_type": "code",
   "execution_count": 31,
   "metadata": {},
   "outputs": [
    {
     "data": {
      "text/plain": [
       "2*P*(xG_star*(-UGA_star + 1)**2 + (-UgA_star + 1)**2*(-xG_star + 1)) + 2*R*(UGA_star**2*xG_star + UgA_star**2*(-xG_star + 1)) + (2*S + 2*T)*(UGA_star*xG_star*(-UGA_star + 1) + UgA_star*(-UgA_star + 1)*(-xG_star + 1))"
      ]
     },
     "execution_count": 31,
     "metadata": {},
     "output_type": "execute_result"
    }
   ],
   "source": [
    "equilibrium_total_offspring"
   ]
  },
  {
   "cell_type": "markdown",
   "metadata": {},
   "source": [
    "## Make an interactive plot"
   ]
  },
  {
   "cell_type": "code",
   "execution_count": 16,
   "metadata": {
    "collapsed": true
   },
   "outputs": [],
   "source": [
    "_equilibrium_total_offspring = sym.lambdify((xG_star, UGA_star, UgA_star, T, R, P, S),\n",
    "                                            equilibrium_total_offspring,\n",
    "                                            modules=\"numpy\")"
   ]
  },
  {
   "cell_type": "code",
   "execution_count": 32,
   "metadata": {
    "collapsed": true
   },
   "outputs": [],
   "source": [
    "def plot_total_offspring(xG_star, T, R, P, S):\n",
    "\n",
    "    fig, ax = plt.subplots(1, 1, figsize=(20, 10))\n",
    "    ax.set_ylabel(r\"$U_{GA}^*$\", fontsize=20, rotation=\"horizontal\")\n",
    "    ax.set_xlabel(r\"$U_{gA}^*$\", fontsize=20)\n",
    "    ax.set_title(r\"Equilibrium total offspring for $x_G^*$={}\".format(xG_star), fontsize=25)\n",
    "    ax.grid(\"off\")\n",
    "\n",
    "    equilibrium_selection_probs = np.linspace(0, 1, 100).reshape(-1, 1)\n",
    "    UGAs = equilibrium_selection_probs.reshape(-1, 1)\n",
    "    UgAs = equilibrium_selection_probs.reshape(1, -1)\n",
    "    Z = _equilibrium_total_offspring(xG_star, UGAs, UgAs, T, R, P, S)\n",
    "    cax = ax.imshow(Z, origin=\"lower\")\n",
    "\n",
    "    contours = ax.contour(Z, colors='w', origin='lower')\n",
    "    ax.clabel(contours, contours.levels, inline=True, fontsize=10)\n",
    "    \n",
    "    # adjust the tick labels\n",
    "    locs, _ = plt.xticks()\n",
    "    plt.xticks(locs[1:], np.linspace(0, 1, locs.size-1))\n",
    "    locs, _ = plt.yticks()\n",
    "    plt.yticks(locs[1:], np.linspace(0, 1, locs.size-1))\n",
    "\n",
    "    plt.show()"
   ]
  },
  {
   "cell_type": "code",
   "execution_count": 33,
   "metadata": {},
   "outputs": [
    {
     "data": {
      "application/vnd.jupyter.widget-view+json": {
       "model_id": "9f5e7d5cec534487a4244624230604da",
       "version_major": 2,
       "version_minor": 0
      },
      "text/plain": [
       "A Jupyter Widget"
      ]
     },
     "metadata": {},
     "output_type": "display_data"
    }
   ],
   "source": [
    "xG_slider = widgets.FloatSlider(value=0.5, min=0, max=1, step=0.01, description=r\"$x_G^*$\")\n",
    "\n",
    "# sliders used to control the Prisoner's Dilemma Payoffs\n",
    "T_slider = widgets.FloatSlider(value=10, min=0, max=100, step=0.1, description=r\"$T$\")\n",
    "R_slider = widgets.FloatSlider(value=3, min=0, max=100, step=0.1, description=r\"$R$\")\n",
    "P_slider = widgets.FloatSlider(value=2, min=0, max=100, step=0.1, description=r\"$P$\")\n",
    "S_slider = widgets.FloatSlider(value=1, min=0, max=100, step=0.1, description=r\"$S$\")\n",
    "\n",
    "w = widgets.interactive(plot_total_offspring, xG_star=xG_slider, T=T_slider, R=R_slider, P=P_slider, S=S_slider)\n",
    "display(w)"
   ]
  },
  {
   "cell_type": "markdown",
   "metadata": {},
   "source": [
    "## Find the optimal values of $x_G^*, U_{GA}^*, U_{gA}^*$.\n",
    "\n",
    "The number of total offspring can be written as a function of the equilibrium selection probability.\n",
    "\n",
    "$$ N\\big(x_G^*, U_{GA}^*, U_{gA}^*\\big) = 2\\bigg(\\big((R + P) - (T + S)\\big)x_G^*U_{GA}^{*2} + \\big((T + S) - 2P\\big)x_G^*U_{GA}^* + P - \\big((R + P) - (T + S)\\big)x_G^*U_{gA}^{*2} - \\big((T + S) - 2P\\big)x_G^*U_{gA}^* + \\big((R + P) - (T + S)\\big)U_{gA}^{*2} + \\big((T + S) - 2P\\big)U_{gA}^* \\bigg)$$\n",
    "\n",
    "\n",
    "To find the equilibrium selection probability that maximizes the number of total offspring we need to solve the following constrained optimization problem.\n",
    "\n",
    "$$ \\max_{x_G^*, U_{GA}^*, U_{gA}^*}\\ N\\big(x_G^*, U_{GA}^*, U_{gA}^*\\big)  $$\n",
    "\n",
    "subject to the following inequality constraints.\n",
    "\n",
    "\\begin{align}\n",
    "    -x_G^* \\le& 0 \\\\\n",
    "    x_G^* - 1 \\le& 0 \\\\\n",
    "    -U_{GA}^* \\le& 0 \\\\\n",
    "    U_{GA}^* - 1 \\le& 0 \\\\\n",
    "    -U_{gA}^* \\le& 0 \\\\\n",
    "    U_{gA}^* - 1 \\le& 0\n",
    "\\end{align}\n",
    "\n",
    "First-order conditions are as follows.\n",
    "\\begin{align}\n",
    "    2\\bigg(\\big((R + P) - (T + S)\\big)U_{GA}^{*2} + \\big((T + S) - 2P\\big)U_{GA}^* + P - \\big((R + P) - (T + S)\\big)U_{gA}^{*2} - \\big((T + S) - 2P\\big)U_{gA}^*\\bigg) =& -\\mu_{x_G^*, 0} + \\mu_{x_G^*,1} \\\\\n",
    "    2\\bigg(2\\big((R + P) - (T + S)\\big)x_G^*U_{GA}^* + \\big((T + S) - 2P\\big)x_G^*\\bigg) =& -\\mu_{U_{GA}^*, 0} + \\mu_{U_{GA}^*,1} \\\\\n",
    "    2\\bigg(-2\\big((R + P) - (T + S)\\big)x_G^*U_{gA}^* - \\big((T + S) - 2P\\big)x_G^* + 2\\big((R + P) - (T + S)\\big)U_{gA}^* + \\big((T + S) - 2P\\big) \\bigg) =& -\\mu_{U_{gA}^*, 0} + \\mu_{U_{gA}^*,1}\n",
    "\\end{align}\n",
    "\n",
    "Complementary slackness conditions are\n",
    "\n",
    "\\begin{align}\n",
    "    -\\mu_{x_G^*,0}x_G^* =& 0 \\\\\n",
    "    \\mu_{x_G^*,1}\\big(x_G^* - 1\\big) =& 0 \\\\\n",
    "    -\\mu_{U_{GA}^*,0}U_{GA}^* =& 0 \\\\\n",
    "    \\mu_{U_{GA}^*,1}\\big(U_{GA}^* - 1\\big) =& 0\n",
    "    -\\mu_{U_{gA}^*,0}U_{gA}^* =& 0 \\\\\n",
    "    \\mu_{U_{gA}^*,1}\\big(U_{gA}^* - 1\\big) =& 0\n",
    "\\end{align}\n",
    "\n",
    "where $\\mu_0, \\mu_1$ are Lagrange multipliers.\n",
    "\n",
    "### Case 1: interior equilibrium $(0 < x_G^* < 1, 0 < U_{GA}^* < 1, 0 < U_{gA}^* < 1)$\n",
    "\n",
    "In an interior equilibrium, complementary slackness conditions imply that all Lagrange multipliers are zero (i.e., $\\mu_{x_G^*, 0} =\\mu_{x_G^*, 1} =\\mu_{U_{GA}^*, 0} =\\mu_{U_{GA}^*, 0} =\\mu_{U_{gA}^*, 0} =\\mu_{U_{gA}^*, 0}=0$).\n",
    "\n",
    "Our first order conditions reduce to the following.\n",
    "\n",
    "\\begin{align}\n",
    "    2\\bigg(\\big((R + P) - (T + S)\\big)U_{GA}^{*2} + \\big((T + S) - 2P\\big)U_{GA}^* + P - \\big((R + P) - (T + S)\\big)U_{gA}^{*2} - \\big((T + S) - 2P\\big)U_{gA}^*\\bigg) =& 0 \\\\\n",
    "    2\\bigg(2\\big((R + P) - (T + S)\\big)x_G^*U_{GA}^* + \\big((T + S) - 2P\\big)x_G^*\\bigg) =& 0 \\\\\n",
    "    2\\bigg(-2\\big((R + P) - (T + S)\\big)x_G^*U_{gA}^* - \\big((T + S) - 2P\\big)x_G^* + 2\\big((R + P) - (T + S)\\big)U_{gA}^* + \\big((T + S) - 2P\\big) \\bigg) =& 0\n",
    "\\end{align}\n",
    "\n",
    "Rearranging the second first-order condition yields an expression for the optimal value of $U_{GA}^*$.\n",
    "\n",
    "$$ \\bar{U}_{GA}^* = \\frac{1}{2}\\left(\\frac{2P - (T + S)}{(R + P) - (T + S)}\\right) $$\n",
    "\n",
    "Substituting this result into the first first-order condition and rearranging yields an identical exprssion for the optimal value of $U_{gA}^*$.\n",
    "\n",
    "$$ \\bar{U}_{gA}^* = \\frac{1}{2}\\left(\\frac{2P - (T + S)}{(R + P) - (T + S)}\\right) $$\n",
    "\n",
    "Substituting this result into the third first-order condition yields a result which implies that the optimal value for $x_G^*$ is indeterminate (i.e., the objective is flat when holding $U_{GA}^*$ and $U_{gA}^*$ fixed). \n"
   ]
  },
  {
   "cell_type": "code",
   "execution_count": 40,
   "metadata": {},
   "outputs": [],
   "source": [
    "first_order_conditions = sym.Matrix([equilibrium_total_offspring.diff(xG_star, 1),\n",
    "                                     equilibrium_total_offspring.diff(UGA_star, 1),\n",
    "                                     equilibrium_total_offspring.diff(UgA_star, 1)])"
   ]
  },
  {
   "cell_type": "code",
   "execution_count": 45,
   "metadata": {},
   "outputs": [],
   "source": [
    "optimal_UGA_star, = sym.solve(first_order_conditions[1,0], UGA_star)"
   ]
  },
  {
   "cell_type": "code",
   "execution_count": 48,
   "metadata": {},
   "outputs": [],
   "source": [
    "optimal_UgA_star, = sym.solve(first_order_conditions[0,0].subs({UGA_star: optimal_UGA_star}), UgA_star)"
   ]
  },
  {
   "cell_type": "code",
   "execution_count": 52,
   "metadata": {},
   "outputs": [
    {
     "data": {
      "text/plain": [
       "0"
      ]
     },
     "execution_count": 52,
     "metadata": {},
     "output_type": "execute_result"
    }
   ],
   "source": [
    "# optimal value for xG_star is indeterminate!\n",
    "sym.simplify(first_order_conditions[2,0].subs({UGA_star: optimal_UGA_star, UgA_star: optimal_UgA_star}))"
   ]
  },
  {
   "cell_type": "code",
   "execution_count": 53,
   "metadata": {
    "collapsed": true
   },
   "outputs": [],
   "source": [
    "jacobian = first_order_conditions.jacobian([xG_star, UGA_star, UgA_star])\n",
    "simplified_jacobian = sym.simplify(jacobian.subs({UGA_star: optimal_UGA_star, UgA_star: optimal_UgA_star}))\n",
    "e1, e2, e3 = (simplified_jacobian.eigenvals()\n",
    "                                 .keys())"
   ]
  },
  {
   "cell_type": "code",
   "execution_count": 60,
   "metadata": {},
   "outputs": [
    {
     "data": {
      "text/plain": [
       "-4*P*xG_star + 4*P - 4*R*xG_star + 4*R + 4*S*xG_star - 4*S + 4*T*xG_star - 4*T"
      ]
     },
     "execution_count": 60,
     "metadata": {},
     "output_type": "execute_result"
    }
   ],
   "source": [
    "e1"
   ]
  },
  {
   "cell_type": "code",
   "execution_count": 61,
   "metadata": {},
   "outputs": [
    {
     "data": {
      "text/plain": [
       "4*P*xG_star + 4*R*xG_star - 4*S*xG_star - 4*T*xG_star"
      ]
     },
     "execution_count": 61,
     "metadata": {},
     "output_type": "execute_result"
    }
   ],
   "source": [
    "e2"
   ]
  },
  {
   "cell_type": "markdown",
   "metadata": {},
   "source": [
    "Requirement for total offspring to optimal a local maximum at the above values derived above is for the Hessian to be negative semi-definite. This requirement will be satisfied if and only if \n",
    "\n",
    "$$ R + P < T + S. $$"
   ]
  },
  {
   "cell_type": "markdown",
   "metadata": {},
   "source": [
    "### Case 2: equilibrium with $\\bar{x}_G^*=1$, $(0 < U_{GA}^* < 1, 0 < U_{gA}^* < 1)$\n",
    "\n",
    "In this equilibrium, complementary slackness conditions imply that all Lagrange multipliers are zero (i.e., $\\mu_{x_G^*, 0} =\\mu_{U_{GA}^*, 0} =\\mu_{U_{GA}^*, 0} =\\mu_{U_{gA}^*, 0} =\\mu_{U_{gA}^*, 0}=0$) except $\\mu_{x_G^*, 1}  > 0$.\n",
    "\n",
    "Our first order conditions reduce to the following.\n",
    "\n",
    "\\begin{align}\n",
    "    2\\bigg(\\big((R + P) - (T + S)\\big)U_{GA}^{*2} + \\big((T + S) - 2P\\big)U_{GA}^* + P - \\big((R + P) - (T + S)\\big)U_{gA}^{*2} - \\big((T + S) - 2P\\big)U_{gA}^*\\bigg) =& \\mu_{x_G^*, 1} \\\\\n",
    "    2\\bigg(2\\big((R + P) - (T + S)\\big)U_{GA}^* + \\big((T + S) - 2P\\big)\\bigg) =& 0 \\\\\n",
    "    2\\bigg(-2\\big((R + P) - (T + S)\\big)U_{gA}^* - \\big((T + S) - 2P\\big) + 2\\big((R + P) - (T + S)\\big)U_{gA}^* + \\big((T + S) - 2P\\big) \\bigg) =& 0\n",
    "\\end{align}\n",
    "\n",
    "Rearranging the second first-order condition yields an expression for the optimal value of $U_{GA}^*$.\n",
    "\n",
    "$$ \\bar{U}_{GA}^* = \\frac{1}{2}\\left(\\frac{2P - (T + S)}{(R + P) - (T + S)}\\right) $$\n",
    "\n",
    "Substituting this optimal value of $U_{GA}^*$ into the first first-order condition and rearranging we find that the inequality will hold so long as \n",
    "\n",
    "$$ \\big((R + P) - (T + S)\\big)\\big(U_{gA}^* - \\bar{U}_{GA}^*\\big)^2 + P > 0 $$\n",
    "\n",
    "which requires $R + P > T + S$. Finally, rearranging the third first-order condition implies that the optimal value for $U_{gA}^*$ is indeterminate: so long as $R + P > T + S$, then $\\bar{x}_G^*=1$ for any value of $U_{gA}^*$."
   ]
  },
  {
   "cell_type": "code",
   "execution_count": null,
   "metadata": {
    "collapsed": true
   },
   "outputs": [],
   "source": []
  }
 ],
 "metadata": {
  "kernelspec": {
   "display_name": "Python 3",
   "language": "python",
   "name": "python3"
  },
  "language_info": {
   "codemirror_mode": {
    "name": "ipython",
    "version": 3
   },
   "file_extension": ".py",
   "mimetype": "text/x-python",
   "name": "python",
   "nbconvert_exporter": "python",
   "pygments_lexer": "ipython3",
   "version": "3.6.3"
  }
 },
 "nbformat": 4,
 "nbformat_minor": 2
}
