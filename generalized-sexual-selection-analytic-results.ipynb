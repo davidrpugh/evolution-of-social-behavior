{
 "cells": [
  {
   "cell_type": "code",
   "execution_count": 2,
   "metadata": {
    "collapsed": true
   },
   "outputs": [],
   "source": [
    "import sympy as sym"
   ]
  },
  {
   "cell_type": "markdown",
   "metadata": {},
   "source": [
    "# Generalized Sexual Selection"
   ]
  },
  {
   "cell_type": "code",
   "execution_count": 9,
   "metadata": {},
   "outputs": [],
   "source": [
    "class U(sym.Function):\n",
    "    \"\"\"Generic matching function\"\"\"\n",
    "    \n",
    "    is_real = True\n",
    "    \n",
    "    @classmethod\n",
    "    def eval(cls, x):\n",
    "        \"\"\"We require the U(0)=0 and U(1)=1\"\"\"\n",
    "        if x.is_Number and x is sym.S.Zero:\n",
    "            return sym.S.Zero\n",
    "        elif x.is_Number and x is sym.S.One:\n",
    "            return sym.S.One\n",
    "\n",
    "        \n",
    "class UGA(U):\n",
    "    \"\"\"Matching function for G males.\"\"\"\n",
    "    \n",
    "\n",
    "class UgA(U):\n",
    "    \"\"\"Matching function for g males.\"\"\"\n"
   ]
  },
  {
   "cell_type": "code",
   "execution_count": 10,
   "metadata": {
    "collapsed": true
   },
   "outputs": [],
   "source": [
    "x0, x1, x2 = sym.symbols('x0, x1, x2')\n",
    "T, R, P, S = sym.symbols('T, R, P, S')"
   ]
  },
  {
   "cell_type": "code",
   "execution_count": 11,
   "metadata": {
    "collapsed": true
   },
   "outputs": [],
   "source": [
    "def N(x0, x1, x2, UGA, UgA, T, R, P, S):\n",
    "    out = (\n",
    "           2 * R *((x0 + x1) * UGA(x0 + x2)**2 + (1 - (x0 + x1)) * UgA(x0 + x2)**2) +\n",
    "           2 * P * ((x0 + x1) * (1 - UGA(x0 + x2))**2 + (1 - (x0 + x1)) * (1 - UgA(x0 + x2))**2) +\n",
    "           2 * (S + T) * ((x0 + x1) * UGA(x0 + x2) * (1 - UGA(x0 + x2)) + (1 - (x0 + x1)) * UgA(x0 + x2) * (1 - UgA(x0 + x2)))\n",
    "          )\n",
    "    return out"
   ]
  },
  {
   "cell_type": "code",
   "execution_count": 12,
   "metadata": {
    "collapsed": true
   },
   "outputs": [],
   "source": [
    "def equation_motion_GA_share(x0, x1, x2, UGA, UgA, T, R, P, S):\n",
    "    numerator = (\n",
    "                 x0 * UGA(x0 + x2)**2 * (1) * x0 / (x0 + x2) * 2*R +  # 2*R\n",
    "                 x0 * UGA(x0 + x2)**2 * (1/2) * x2 / (x0 + x2) * 2*R + # 0\n",
    "\n",
    "                 x0 * (1 - UGA(x0 + x2))**2 * (1/2) * x1 / (1 - x0 - x2) * 2*P + # 0\n",
    "                 x0 * (1 - UGA(x0 + x2))**2 * (1/4) * (1 - x0 - x1 - x2) / (1 - x0 - x2) * 2*P + # 0\n",
    "\n",
    "                 x0 * 2 * UGA(x0 + x2) * (1 - UGA(x0 + x2)) * (1) * x0 / (x0 + x2) * S + # 0\n",
    "                 x0 * 2 * UGA(x0 + x2) * (1 - UGA(x0 + x2)) * (1/2) * x2 / (x0 + x2) * S + # 0\n",
    "                 x0 * 2 * UGA(x0 + x2) * (1 - UGA(x0 + x2)) * (1/2) * x1 / (1 - x0 - x2) * T + # 0\n",
    "                 x0 * 2 * UGA(x0 + x2) * (1 - UGA(x0 + x2)) * (1/4) * (1 - x0 - x1 - x2) / (1 - x0 - x2) * T + # 0\n",
    "\n",
    "                 x1 * UGA(x0 + x2)**2 * (1/2) * x0 / (x0 + x2) * 2*R + # 0\n",
    "                 x1 * UGA(x0 + x2)**2 * (1/4) * x2 / (x0 + x2) * 2*R + # 0\n",
    "\n",
    "                 x1 * (1 - UGA(x0 + x2))**2 * (0) + # 0\n",
    "\n",
    "                 x1 * 2 * UGA(x0 + x2) * (1 - UGA(x0 + x2)) * (1/2) * x0 / (x0 + x2) * S + # 0\n",
    "                 x1 * 2 * UGA(x0 + x2) * (1 - UGA(x0 + x2)) * (1/4) * x2 / (x0 + x2) * S + # 0\n",
    "\n",
    "                 x2 * UgA(x0 + x2)**2 * (1/2) * x0 / (x0 + x2) * 2*R + # 0\n",
    "\n",
    "                 x2 * (1 - UgA(x0 + x2))**2 * (1/4) * x1 / (1 - x0 - x2) * 2* P + # 0\n",
    "\n",
    "                 x2 * 2 * UgA(x0 + x2) * (1 - UgA(x0 + x2)) * (1/2) * x0 / (x0 + x2) * S + # 0\n",
    "                 x2 * 2 * UgA(x0 + x2) * (1 - UgA(x0 + x2)) * (1/4) * x1 / (1 - x0 - x2) * T + # 0\n",
    "\n",
    "                 (1 - x0 - x1 - x2) * UgA(x0 + x2)**2 * (1/4) * x0 / (x0 + x2) * 2*R + # 0\n",
    "\n",
    "                 (1 - x0 - x1 - x2) * (1 - UgA(x0 + x2))**2 * (0) + # 0\n",
    "\n",
    "                 (1 - x0 - x1 - x2) * 2 * UgA(x0 + x2) * (1 - UgA(x0 + x2)) * (1/4) * x0 / (x0 + x2) * S # 0\n",
    "                 )\n",
    "\n",
    "    x0_dot = (numerator / N(x0, x1, x2, UGA, UgA, T, R, P, S)) - x0\n",
    "    return x0_dot\n",
    "\n",
    "def equation_motion_Ga_share(x0, x1, x2, UGA, UgA, T, R, P, S):\n",
    "    numerator = (\n",
    "                 x0 * UGA(x0 + x2)**2 * (0) +\n",
    "\n",
    "                 x0 * (1 - UGA(x0 + x2))**2 * (1/2) * x1 / (1 - x0 - x2) * 2*P +\n",
    "                 x0 * (1 - UGA(x0 + x2))**2 * (1/4) * (1 - x0 - x1 - x2) / (1 - x0 - x2) * 2*P +\n",
    "\n",
    "                 x0 * 2 * UGA(x0 + x2) * (1 - UGA(x0 + x2)) * (1/2) * x1 / (1 - x0 - x2) * T +\n",
    "                 x0 * 2 * UGA(x0 + x2) * (1 - UGA(x0 + x2)) * (1/4) * (1 - x0 - x1 - x2) / (1 - x0 - x2) * T +\n",
    "\n",
    "                 x1 * UGA(x0 + x2)**2 * (1/2) * x0 / (x0 + x2) * 2*R +\n",
    "                 x1 * UGA(x0 + x2)**2 * (1/4) * x2 / (x0 + x2) * 2*R +\n",
    "\n",
    "                 x1 * (1 - UGA(x0 + x2))**2 * (1) * x1 / (1 - x0 - x2) * 2*P +\n",
    "                 x1 * (1 - UGA(x0 + x2))**2 * (1/2) * (1 - x0 - x1 - x2) / (1 - x0 - x2) * 2*P +\n",
    "\n",
    "                 x1 * 2 * UGA(x0 + x2) * (1 - UGA(x0 + x2)) * (1/2) * x0 / (x0 + x2) * S +\n",
    "                 x1 * 2 * UGA(x0 + x2) * (1 - UGA(x0 + x2)) * (1/4) * x2 / (x0 + x2) * S +\n",
    "                 x1 * 2 * UGA(x0 + x2) * (1 - UGA(x0 + x2)) * (1) * x1 / (1 - x0 - x2) * T +\n",
    "                 x1 * 2 * UGA(x0 + x2) * (1 - UGA(x0 + x2)) * (1/2) * (1 - x0 - x1 - x2) / (1 - x0 - x2) * T +\n",
    "\n",
    "                 x2 * UgA(x0 + x2)**2 * (0) +\n",
    "\n",
    "                 x2 * (1 - UgA(x0 + x2))**2 * (1/4) * x1 / (1 - x0 - x2) * 2*P +\n",
    "\n",
    "                 x2 * 2 * UgA(x0 + x2) * (1 - UgA(x0 + x2)) * (1/4) * x1 / (1 - x0 - x2) * T +\n",
    "\n",
    "                 (1 - x0 - x1 - x2) * UgA(x0 + x2)**2 * (1/4) * x0 / (x0 + x2) * 2*R +\n",
    "\n",
    "                 (1 - x0 - x1 - x2) * (1 - UgA(x0 + x2))**2 * (1/2) * x1 / (1 - x0 - x2) * 2*P +\n",
    "\n",
    "                 (1 - x0 - x1 - x2) * 2 * UgA(x0 + x2) * (1 - UgA(x0 + x2)) * (1/4) * x0 / (x0 + x2) * S +\n",
    "                 (1 - x0 - x1 - x2) * 2 * UgA(x0 + x2) * (1 - UgA(x0 + x2)) * (1/2) * x1 / (1 - x0 - x2) * T\n",
    "\n",
    "                 )\n",
    "\n",
    "    x1_dot = (numerator / N(x0, x1, x2, UGA, UgA, T, R, P, S)) - x1\n",
    "    return x1_dot\n",
    "\n",
    "\n",
    "\n",
    "def equation_motion_gA_share(x0, x1, x2, UGA, UgA, T, R, P, S):\n",
    "    numerator = (\n",
    "                 x0 * UGA(x0 + x2)**2 * (1/2) * x2 / (x0 + x2) * 2*R +\n",
    "\n",
    "                 x0 * (1 - UGA(x0 + x2))**2 * (1/4) * (1 - x0 - x1 - x2) / (1 - x0 - x2) * 2*P +\n",
    "\n",
    "                 x0 * 2 * UGA(x0 + x2) * (1 - UGA(x0 + x2)) * (1/2) * x2 / (x0 + x2) * S +\n",
    "                 x0 * 2 * UGA(x0 + x2) * (1 - UGA(x0 + x2)) * (1/4) * (1 - x0 - x1 - x2) / (1 - x0 - x2) * T +\n",
    "\n",
    "                 x1 * UGA(x0 + x2)**2 * (1/4) * x2 / (x0 + x2) * 2*R +\n",
    "\n",
    "                 x1 * (1 - UGA(x0 + x2))**2 * (0) +\n",
    "\n",
    "                 x1 * 2 * UGA(x0 + x2) * (1 - UGA(x0 + x2)) * (1/4) * x2 / (x0 + x2) * S +\n",
    "\n",
    "                 x2 * UgA(x0 + x2)**2 * (1/2) * x0 / (x0 + x2) * 2*R +\n",
    "                 x2 * UgA(x0 + x2)**2 * (1) * x2 / (x0 + x2) * 2*R +\n",
    "\n",
    "                 x2 * (1 - UgA(x0 + x2))**2 * (1/4) * x1 / (1 - x0 - x2) * 2*P +\n",
    "                 x2 * (1 - UgA(x0 + x2))**2 * (1/2) * (1 - x0 - x1 - x2) / (1 - x0 - x2) * 2*P +\n",
    "\n",
    "                 x2 * 2 * UgA(x0 + x2) * (1 - UgA(x0 + x2)) * (1/2) * x0 / (x0 + x2) * S +\n",
    "                 x2 * 2 * UgA(x0 + x2) * (1 - UgA(x0 + x2)) * (1) * x2 / (x0 + x2) * S +\n",
    "                 x2 * 2 * UgA(x0 + x2) * (1 - UgA(x0 + x2)) * (1/4) * x1 / (1 - x0 - x2) * T +\n",
    "                 x2 * 2 * UgA(x0 + x2) * (1 - UgA(x0 + x2)) * (1/2) * (1 - x0 - x1 - x2) / (1 - x0 - x2) * T +\n",
    "\n",
    "                 (1 - x0 - x1 - x2) * UgA(x0 + x2)**2 * (1/4) * x0 / (x0 + x2) * 2*R +\n",
    "                 (1 - x0 - x1 - x2) * UgA(x0 + x2)**2 * (1/2) * x2 / (x0 + x2) * 2*R +\n",
    "\n",
    "                 (1 - x0 - x1 - x2) * (1 - UgA(x0 + x2))**2 * (0) +\n",
    "\n",
    "                 (1 - x0 - x1 - x2) * 2 * UgA(x0 + x2) * (1 - UgA(x0 + x2)) * (1/4) * x0 / (x0 + x2) * S +\n",
    "                 (1 - x0 - x1 - x2) * 2 * UgA(x0 + x2) * (1 - UgA(x0 + x2)) * (1/2) * x2 / (x0 + x2) * S\n",
    "\n",
    "                 )\n",
    "\n",
    "    x2_dot = (numerator / N(x0, x1, x2, UGA, UgA, T, R, P, S)) - x2\n",
    "    return x2_dot\n",
    "\n",
    "\n",
    "def equation_motion_ga_share(x0, x1, x2, UGA, UgA, T, R, P, S):\n",
    "    numerator = (\n",
    "                 x0 * UGA(x0 + x2)**2 * (0) +\n",
    "\n",
    "                 x0 * (1 - UGA(x0 + x2))**2 * (1/4) * (1 - x0 - x1 - x2) / (1 - x0 - x2) * 2*P +\n",
    "\n",
    "                 x0 * 2 * UGA(x0 + x2) * (1 - UGA(x0 + x2)) * (1/4) * (1 - x0 - x1 - x2) / (1 - x0 - x2) * T +\n",
    "\n",
    "                 x1 * UGA(x0 + x2)**2 * (1/4) * x2 / (x0 + x2) * 2*R +\n",
    "\n",
    "                 x1 * (1 - UGA(x0 + x2))**2 * (1/2) * (1 - x0 - x1 - x2) / (1 - x0 - x2) * 2*P +\n",
    "\n",
    "                 x1 * 2 * UGA(x0 + x2) * (1 - UGA(x0 + x2)) * (1/4) * x2 / (x0 + x2) * S +\n",
    "                 x1 * 2 * UGA(x0 + x2) * (1 - UGA(x0 + x2)) * (1/2) * (1 - x0 - x1 - x2) / (1 - x0 - x2) * T +\n",
    "\n",
    "                 x2 * UgA(x0 + x2)**2 * (0) +\n",
    "\n",
    "                 x2 * (1 - UgA(x0 + x2))**2 * (1/4) * x1 / (1 - x0 - x2) * 2*P +\n",
    "                 x2 * (1 - UgA(x0 + x2))**2 * (1/2) * (1 - x0 - x1 - x2) / (1 - x0 - x2) * 2*P +\n",
    "\n",
    "                 x2 * 2 * UgA(x0 + x2) * (1 - UgA(x0 + x2)) * (1/4) * x1 / (1 - x0 - x2) * T +\n",
    "                 x2 * 2 * UgA(x0 + x2) * (1 - UgA(x0 + x2)) * (1/2) * (1 - x0 - x1 - x2) / (1 - x0 - x2) * T +\n",
    "\n",
    "                 (1 - x0 - x1 - x2) * UgA(x0 + x2)**2 * (1/4) * x0 / (x0 + x2) * 2*R +\n",
    "                 (1 - x0 - x1 - x2) * UgA(x0 + x2)**2 * (1/2) * x2 / (x0 + x2) * 2*R +\n",
    "\n",
    "                 (1 - x0 - x1 - x2) * (1 - UgA(x0 + x2))**2 * (1/2) * x1 / (1 - x0 - x2) * 2*P +\n",
    "                 (1 - x0 - x1 - x2) * (1 - UgA(x0 + x2))**2 * (1) *(1 - x0 - x1 - x2) / (1 - x0 - x2) * 2*P +\n",
    "\n",
    "                 (1 - x0 - x1 - x2) * 2 * UgA(x0 + x2) * (1 - UgA(x0 + x2)) * (1/4) * x0 / (x0 + x2) * S +\n",
    "                 (1 - x0 - x1 - x2) * 2 * UgA(x0 + x2) * (1 - UgA(x0 + x2)) * (1/2) * x2 / (x0 + x2) * S +\n",
    "                 (1 - x0 - x1 - x2) * 2 * UgA(x0 + x2) * (1 - UgA(x0 + x2)) * (1/2) * x1 / (1 - x0 - x2) * T +\n",
    "                 (1 - x0 - x1 - x2) * 2 * UgA(x0 + x2) * (1 - UgA(x0 + x2)) * (1) * (1 - x0 - x1 - x2) / (1 - x0 - x2) * T\n",
    "                 )\n",
    "\n",
    "    x3_dot = (numerator / N(x0, x1, x2, UGA, UgA, T, R, P, S)) - (1 - x0 - x1 - x2)\n",
    "    return x3_dot\n"
   ]
  },
  {
   "cell_type": "code",
   "execution_count": null,
   "metadata": {
    "collapsed": true
   },
   "outputs": [],
   "source": [
    "epsilon * equation_motion_GA_share(x0, x1, x2, UGA, UgA, T, R, P, S) +\n",
    "(1 - epsilon) * "
   ]
  },
  {
   "cell_type": "markdown",
   "metadata": {},
   "source": [
    "## Tests!\n",
    "All of the following limits should exactly 0!"
   ]
  },
  {
   "cell_type": "code",
   "execution_count": 13,
   "metadata": {},
   "outputs": [
    {
     "data": {
      "text/plain": [
       "0"
      ]
     },
     "execution_count": 13,
     "metadata": {},
     "output_type": "execute_result"
    }
   ],
   "source": [
    "sym.limit(equation_motion_GA_share(x0, 0, 0, UGA, UgA, T, R, P, S), x0, 1)"
   ]
  },
  {
   "cell_type": "code",
   "execution_count": 14,
   "metadata": {},
   "outputs": [
    {
     "data": {
      "text/plain": [
       "0"
      ]
     },
     "execution_count": 14,
     "metadata": {},
     "output_type": "execute_result"
    }
   ],
   "source": [
    "sym.limit(equation_motion_GA_share(x0, 0, 0, UGA, UgA, T, R, P, S), x0, 0)"
   ]
  },
  {
   "cell_type": "code",
   "execution_count": 15,
   "metadata": {},
   "outputs": [
    {
     "data": {
      "text/plain": [
       "0"
      ]
     },
     "execution_count": 15,
     "metadata": {},
     "output_type": "execute_result"
    }
   ],
   "source": [
    "sym.limit(equation_motion_Ga_share(x0, 0, 0, UGA, UgA, T, R, P, S), x0, 1)"
   ]
  },
  {
   "cell_type": "code",
   "execution_count": 16,
   "metadata": {},
   "outputs": [
    {
     "data": {
      "text/plain": [
       "0"
      ]
     },
     "execution_count": 16,
     "metadata": {},
     "output_type": "execute_result"
    }
   ],
   "source": [
    "sym.limit(equation_motion_Ga_share(x0, 0, 0, UGA, UgA, T, R, P, S), x0, 0)"
   ]
  },
  {
   "cell_type": "code",
   "execution_count": 17,
   "metadata": {},
   "outputs": [
    {
     "data": {
      "text/plain": [
       "0"
      ]
     },
     "execution_count": 17,
     "metadata": {},
     "output_type": "execute_result"
    }
   ],
   "source": [
    "sym.limit(equation_motion_gA_share(x0, 0, 0, UGA, UgA, T, R, P, S), x0, 1)"
   ]
  },
  {
   "cell_type": "code",
   "execution_count": 18,
   "metadata": {},
   "outputs": [
    {
     "data": {
      "text/plain": [
       "0"
      ]
     },
     "execution_count": 18,
     "metadata": {},
     "output_type": "execute_result"
    }
   ],
   "source": [
    "sym.limit(equation_motion_gA_share(x0, 0, 0, UGA, UgA, T, R, P, S), x0, 0)"
   ]
  },
  {
   "cell_type": "code",
   "execution_count": 19,
   "metadata": {},
   "outputs": [
    {
     "data": {
      "text/plain": [
       "0"
      ]
     },
     "execution_count": 19,
     "metadata": {},
     "output_type": "execute_result"
    }
   ],
   "source": [
    "sym.limit(equation_motion_ga_share(x0, 0, 0, UGA, UgA, T, R, P, S), x0, 1)"
   ]
  },
  {
   "cell_type": "code",
   "execution_count": 20,
   "metadata": {},
   "outputs": [
    {
     "data": {
      "text/plain": [
       "0"
      ]
     },
     "execution_count": 20,
     "metadata": {},
     "output_type": "execute_result"
    }
   ],
   "source": [
    "sym.limit(equation_motion_ga_share(x0, 0, 0, UGA, UgA, T, R, P, S), x0, 0)"
   ]
  },
  {
   "cell_type": "markdown",
   "metadata": {},
   "source": [
    "The derivatives should sum to zero..."
   ]
  },
  {
   "cell_type": "code",
   "execution_count": 21,
   "metadata": {},
   "outputs": [
    {
     "data": {
      "text/plain": [
       "0"
      ]
     },
     "execution_count": 21,
     "metadata": {},
     "output_type": "execute_result"
    }
   ],
   "source": [
    "(equation_motion_GA_share(x0, x1, x2, UGA, UgA, T, R, P, S) +\n",
    " equation_motion_Ga_share(x0, x1, x2, UGA, UgA, T, R, P, S) + \n",
    " equation_motion_gA_share(x0, x1, x2, UGA, UgA, T, R, P, S) +\n",
    " equation_motion_ga_share(x0, x1, x2, UGA, UgA, T, R, P, S)).simplify()"
   ]
  },
  {
   "cell_type": "markdown",
   "metadata": {},
   "source": [
    "# Stability analysis"
   ]
  },
  {
   "cell_type": "code",
   "execution_count": 22,
   "metadata": {
    "collapsed": true
   },
   "outputs": [],
   "source": [
    "rhs = sym.Matrix([equation_motion_GA_share(x0, x1, x2, UGA, UgA, T, R, P, S),\n",
    "                  equation_motion_Ga_share(x0, x1, x2, UGA, UgA, T, R, P, S),\n",
    "                  equation_motion_gA_share(x0, x1, x2, UGA, UgA, T, R, P, S)])"
   ]
  },
  {
   "cell_type": "code",
   "execution_count": 23,
   "metadata": {
    "collapsed": true
   },
   "outputs": [],
   "source": [
    "rhs_jac = rhs.jacobian([x0, x1, x2])"
   ]
  },
  {
   "cell_type": "markdown",
   "metadata": {},
   "source": [
    "## GA corner equilibrium"
   ]
  },
  {
   "cell_type": "code",
   "execution_count": 24,
   "metadata": {
    "collapsed": true
   },
   "outputs": [],
   "source": [
    "evaluated_jac = sym.zeros(3, 3)\n",
    "\n",
    "for i in range(3):\n",
    "    for j in range(3):\n",
    "        tmp_expr = rhs_jac[i, j].subs({x0: 1, x1: 0, x2: 0})\n",
    "        if isinstance(tmp_expr, sym.numbers.NaN):\n",
    "            tmp_expr = sym.limit(rhs_jac[i, j].subs({x1: 0, x2: 0}), x0, 1)\n",
    "        evaluated_jac[i, j] = tmp_expr"
   ]
  },
  {
   "cell_type": "code",
   "execution_count": 25,
   "metadata": {},
   "outputs": [
    {
     "data": {
      "text/plain": [
       "{-(R - T*Subs(Derivative(UGA(_xi_1), _xi_1), (_xi_1,), (1,)))/(2*R): 1,\n",
       " -(3*R - T*Subs(Derivative(UGA(_xi_1), _xi_1), (_xi_1,), (1,)))/(4*R): 1,\n",
       " 0: 1}"
      ]
     },
     "execution_count": 25,
     "metadata": {},
     "output_type": "execute_result"
    }
   ],
   "source": [
    "evaluated_jac.eigenvals()"
   ]
  },
  {
   "cell_type": "markdown",
   "metadata": {},
   "source": [
    "Necessary conditions for stability are that both non-zero eigenvalues are strictly negative.  We can derive the following necessary conditions...\n",
    "\n",
    "\\begin{align}\n",
    "    U_{GA}'(1) < \\frac{3 R}{T}\n",
    "\\end{align}"
   ]
  },
  {
   "cell_type": "markdown",
   "metadata": {},
   "source": [
    "...and...\n",
    "\n",
    "\\begin{align}\n",
    "    U_{GA}'(1) < \\frac{R}{T} < 1\n",
    "\\end{align}\n",
    "\n",
    "...note that the second condition implies the first.\n",
    "\n",
    "Note that, since one of the above eigenvalues is zero, the above conditions are actually necessary and *sufficient* for the stability of a mixed $\\gamma$ pure $\\alpha=A$ equilibrium. In order to work out sufficient conditions for the stability of a pure $GA$ equilibrium we need to resort to other methods."
   ]
  },
  {
   "cell_type": "markdown",
   "metadata": {},
   "source": [
    "## Ga corner equilbrium\n"
   ]
  },
  {
   "cell_type": "code",
   "execution_count": 26,
   "metadata": {
    "collapsed": true
   },
   "outputs": [],
   "source": [
    "evaluated_jac = sym.zeros(3, 3)\n",
    "\n",
    "for i in range(3):\n",
    "    for j in range(3):\n",
    "        tmp_expr = rhs_jac[i, j].subs({x0: 0, x1: 1, x2: 0})\n",
    "        if isinstance(tmp_expr, sym.numbers.NaN):\n",
    "            tmp_expr = rhs_jac[i, j].subs({x0: 0, x1: 1}).simplify()\n",
    "            numer, denom = sym.fraction(tmp_expr)\n",
    "            evaluated_jac[i, j] = numer.diff(x2).subs({x2: 0}) / denom.diff(x2).subs({x2: 0})\n",
    "        else:\n",
    "            evaluated_jac[i, j] = tmp_expr"
   ]
  },
  {
   "cell_type": "code",
   "execution_count": 27,
   "metadata": {},
   "outputs": [
    {
     "data": {
      "text/plain": [
       "{-(P - S*Subs(Derivative(UGA(_xi_1), _xi_1), (_xi_1,), (0,)))/(2*P): 1,\n",
       " -(3*P - S*Subs(Derivative(UGA(_xi_1), _xi_1), (_xi_1,), (0,)))/(4*P): 1,\n",
       " 0: 1}"
      ]
     },
     "execution_count": 27,
     "metadata": {},
     "output_type": "execute_result"
    }
   ],
   "source": [
    "evaluated_jac.eigenvals()"
   ]
  },
  {
   "cell_type": "markdown",
   "metadata": {},
   "source": [
    "Necessary conditions for stability are that both non-zero eigenvalues are strictly negative.  We can derive the following necessary conditions...\n",
    "\n",
    "\\begin{align}\n",
    "    U'_{GA}(0) < \\frac{P}{S}\n",
    "\\end{align}\n",
    "\n",
    "...and...\n",
    "\n",
    "\\begin{align}\n",
    "    U'_{GA}(0) < \\frac{3P}{S}\n",
    "\\end{align}\n",
    "\n",
    "...note that the first inequality above implies the second.\n",
    "\n",
    "Note that, since one of the above eigenvalues is zero, the above conditions are actually necessary and *sufficient* for the stability of a mixed $\\gamma$ pure $\\alpha=a$ equilibrium. This is an example of neutral stability."
   ]
  },
  {
   "cell_type": "markdown",
   "metadata": {},
   "source": [
    "## gA corner equilbrium"
   ]
  },
  {
   "cell_type": "code",
   "execution_count": 28,
   "metadata": {
    "collapsed": true
   },
   "outputs": [],
   "source": [
    "evaluated_jac = sym.zeros(3, 3)\n",
    "\n",
    "for i in range(3):\n",
    "    for j in range(3):\n",
    "        tmp_expr = rhs_jac[i, j].subs({x0: 0, x1: 0, x2: 1})\n",
    "        if isinstance(tmp_expr, sym.numbers.NaN):\n",
    "            tmp_expr = sym.limit(rhs_jac[i, j].subs({x0: 0, x1: 0}), x2, 1)\n",
    "        evaluated_jac[i, j] = tmp_expr"
   ]
  },
  {
   "cell_type": "code",
   "execution_count": 29,
   "metadata": {},
   "outputs": [
    {
     "data": {
      "text/plain": [
       "{-(R - T*Subs(Derivative(UgA(_xi_1), _xi_1), (_xi_1,), (1,)))/(2*R): 1,\n",
       " -(3*R - T*Subs(Derivative(UgA(_xi_1), _xi_1), (_xi_1,), (1,)))/(4*R): 1,\n",
       " 0: 1}"
      ]
     },
     "execution_count": 29,
     "metadata": {},
     "output_type": "execute_result"
    }
   ],
   "source": [
    "evaluated_jac.eigenvals()"
   ]
  },
  {
   "cell_type": "markdown",
   "metadata": {},
   "source": [
    "Necessary conditions for stability are that both non-zero eigenvalues are strictly negative. This implies the following set of conditions...\n",
    "\n",
    "\\begin{align}\n",
    "    U_{gA}'(1) < \\frac{3 R}{T}\n",
    "\\end{align}\n",
    "\n",
    "\\begin{align}\n",
    "    U_{gA}'(1) < \\frac{R}{T} < 1\n",
    "\\end{align}\n",
    "\n",
    "...note that this second condition implies the first."
   ]
  },
  {
   "cell_type": "markdown",
   "metadata": {},
   "source": [
    "## ga corner equilbrium\n",
    "\n",
    "Still have issues trying to evaluate the appropriate limits..."
   ]
  },
  {
   "cell_type": "code",
   "execution_count": 30,
   "metadata": {
    "collapsed": true
   },
   "outputs": [],
   "source": [
    "evaluated_jac = sym.zeros(3, 3)\n",
    "\n",
    "for i in range(3):\n",
    "    for j in range(3):\n",
    "        tmp_expr = rhs_jac[i, j].subs({x0: 0, x1: 0, x2: 0})\n",
    "        if isinstance(tmp_expr, sym.numbers.NaN):\n",
    "            tmp_expr = rhs_jac[i, j].subs({x0: 0, x1: 0}).simplify()\n",
    "            numer, denom = sym.fraction(tmp_expr)\n",
    "            evaluated_jac[i, j] = numer.diff(x2).subs({x2: 0}) / denom.diff(x2).subs({x2: 0})\n",
    "        else:\n",
    "            evaluated_jac[i, j] = tmp_expr"
   ]
  },
  {
   "cell_type": "code",
   "execution_count": 31,
   "metadata": {},
   "outputs": [
    {
     "data": {
      "text/plain": [
       "{-(P - S*Subs(Derivative(UgA(_xi_1), _xi_1), (_xi_1,), (0,)))/(2*P): 1,\n",
       " -(3*P - S*Subs(Derivative(UgA(x2), x2), (x2,), (0,)))/(4*P): 1,\n",
       " 0: 1}"
      ]
     },
     "execution_count": 31,
     "metadata": {},
     "output_type": "execute_result"
    }
   ],
   "source": [
    "evaluated_jac.eigenvals()"
   ]
  },
  {
   "cell_type": "markdown",
   "metadata": {},
   "source": [
    "Necessary conditions for stability are that both non-zero eigenvalues are strictly negative.  We can derive the following necessary conditions...\n",
    "\n",
    "\\begin{align}\n",
    "    (3*S*Subs(Derivative(UgA(_xi_1), _xi_1), (_xi_1,), (0,)) - 5*P)/(8*P) + sqrt(P**2*(S*Subs(Derivative(UGA(_xi_1), _xi_1), (_xi_1,), (0,)) + P)**2)/(8*P**2) < 0 \\\\\n",
    "    (3*S*Subs(Derivative(UgA(_xi_1), _xi_1), (_xi_1,), (0,)) - 5*P) + sqrt(P**2*(S*Subs(Derivative(UGA(_xi_1), _xi_1), (_xi_1,), (0,)) + P)**2)/(P) < 0 \\\\\n",
    "    (3*S*Subs(Derivative(UgA(_xi_1), _xi_1), (_xi_1,), (0,)) - 5*P) + (P*(S*Subs(Derivative(UGA(_xi_1), _xi_1), (_xi_1,), (0,)) + P))/(P) < 0 \\\\\n",
    "    3*S*Subs(Derivative(UgA(_xi_1), _xi_1), (_xi_1,), (0,)) - 5*P + S*Subs(Derivative(UGA(_xi_1), _xi_1), (_xi_1,), (0,)) + P < 0 \\\\\n",
    "    4*S*Subs(Derivative(UgA(_xi_1), _xi_1), (_xi_1,), (0,)) - 4*P < 0 \\\\\n",
    "    S*Subs(Derivative(UgA(_xi_1), _xi_1), (_xi_1,), (0,)) < P \\\\\n",
    "    S'_{g}(0) < 1 < \\frac{\\Pi_{aa}}{\\Pi_{Aa}}\n",
    "\\end{align}\n",
    "\n",
    "...and...\n",
    "\n",
    "\\begin{align}\n",
    "    (3*S*Subs(Derivative(UgA(_xi_1), _xi_1), (_xi_1,), (0,)) - 5*P)/(8*P) - sqrt(P**2*(S*Subs(Derivative(UgA(_xi_1), _xi_1), (_xi_1,), (0,)) + P)**2)/(8*P**2) < 0 \\\\\n",
    "    (3*S*Subs(Derivative(UgA(_xi_1), _xi_1), (_xi_1,), (0,)) - 5*P) - sqrt(P**2*(S*Subs(Derivative(UgA(_xi_1), _xi_1), (_xi_1,), (0,)) + P)**2)/(P) < 0 \\\\\n",
    "    (3*S*Subs(Derivative(UgA(_xi_1), _xi_1), (_xi_1,), (0,)) - 5*P) - (P*(S*Subs(Derivative(UgA(_xi_1), _xi_1), (_xi_1,), (0,)) + P))/(P) < 0 \\\\\n",
    "    3*S*Subs(Derivative(UgA(_xi_1), _xi_1), (_xi_1,), (0,)) - 5*P - S*Subs(Derivative(UgA(_xi_1), _xi_1), (_xi_1,), (0,)) - P < 0 \\\\\n",
    "    2*S*Subs(Derivative(UgA(_xi_1), _xi_1), (_xi_1,), (0,)) - 6*P < 0 \\\\\n",
    "    2S*Subs(Derivative(UgA(_xi_1), _xi_1), (_xi_1,), (0,)) < 6*P \\\\\n",
    "    S'_{g}(0) < \\frac{3\\Pi_{aa}}{\\Pi_{Aa}}\n",
    "\\end{align}\n",
    "\n",
    "...note that the first inequality above implies the second.\n",
    "\n",
    "Note that, since one of the above eigenvalues is zero, the above conditions are actually necessary and *sufficient* for the stability of a mixed $\\gamma$ pure $\\alpha=a$ equilibrium. In order to work out sufficient conditions for the stability of a pure $ga$ equilibrium we need to resort to other methods. Finally, note that the first condition above is always satisfied for any \"sensible\" function $S_g$.  Therefore, since at least one eigenvalue is strictly positive, a mixed $\\gamma$ pure $\\alpha=a$ equilibrium is always stable."
   ]
  },
  {
   "cell_type": "code",
   "execution_count": null,
   "metadata": {
    "collapsed": true
   },
   "outputs": [],
   "source": []
  }
 ],
 "metadata": {
  "kernelspec": {
   "display_name": "Python 3",
   "language": "python",
   "name": "python3"
  },
  "language_info": {
   "codemirror_mode": {
    "name": "ipython",
    "version": 3
   },
   "file_extension": ".py",
   "mimetype": "text/x-python",
   "name": "python",
   "nbconvert_exporter": "python",
   "pygments_lexer": "ipython3",
   "version": "3.6.3"
  }
 },
 "nbformat": 4,
 "nbformat_minor": 1
}
