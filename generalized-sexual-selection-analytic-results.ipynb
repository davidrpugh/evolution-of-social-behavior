{
 "cells": [
  {
   "cell_type": "code",
   "execution_count": 40,
   "metadata": {},
   "outputs": [],
   "source": [
    "import numpy as np\n",
    "import sympy as sym\n",
    "\n",
    "import models\n",
    "import symbolics"
   ]
  },
  {
   "cell_type": "markdown",
   "metadata": {},
   "source": [
    "# Generalized Sexual Selection"
   ]
  },
  {
   "cell_type": "code",
   "execution_count": 138,
   "metadata": {},
   "outputs": [],
   "source": [
    "x1, x2, x3, x4 = sym.symbols('x1, x2, x3, x4', nonnegative=True, real=True)\n",
    "T, R, P, S = sym.symbols('T, R, P, S', nonnegative=True, real=True)\n",
    "\n",
    "M, m = sym.symbols(\"M, m\", nonnegative=True, real=True)\n",
    "\n",
    "UGA = symbolics.UGA\n",
    "UgA = symbolics.UgA"
   ]
  },
  {
   "cell_type": "code",
   "execution_count": 140,
   "metadata": {
    "collapsed": true
   },
   "outputs": [],
   "source": [
    "x = np.array([[x1], [x2], [x3], [1 - x1 - x2 - x3]])\n",
    "payoff_kernel = np.array([[R, S], [T, P]])\n",
    "W = models.generalized_sexual_selection(x, UGA, UgA, payoff_kernel, M, m)\n",
    "x_dot = models.offspring_genotypes_evolution(W, x)"
   ]
  },
  {
   "cell_type": "code",
   "execution_count": 45,
   "metadata": {},
   "outputs": [],
   "source": [
    "x1_star, x2_star, x3_star, x4_star = sym.symbols('x1_star, x2_star, x3_star, x4_star', nonnegative=True, real=True)\n",
    "UGA_star, UgA_star = sym.symbols(\"UGA_star, UgA_star\", nonnegative=True, real=True)\n",
    "equilibrium_system = system.subs({UGA(x1 + x3): UGA_star, UgA(x1 + x3): UgA_star, x1: x1_star, x2: x2_star, x3: x3_star})\n"
   ]
  },
  {
   "cell_type": "code",
   "execution_count": 141,
   "metadata": {},
   "outputs": [
    {
     "data": {
      "text/plain": [
       "(4, 1)"
      ]
     },
     "execution_count": 141,
     "metadata": {},
     "output_type": "execute_result"
    }
   ],
   "source": [
    "x_dot.shape"
   ]
  },
  {
   "cell_type": "code",
   "execution_count": null,
   "metadata": {
    "collapsed": true
   },
   "outputs": [],
   "source": []
  },
  {
   "cell_type": "code",
   "execution_count": 142,
   "metadata": {},
   "outputs": [],
   "source": [
    "system = sym.Matrix(x_dot[:-1, [0]])\n",
    "F_jac = system.jacobian((x1, x2, x3))"
   ]
  },
  {
   "cell_type": "code",
   "execution_count": 143,
   "metadata": {},
   "outputs": [
    {
     "data": {
      "text/plain": [
       "Matrix([\n",
       "[0],\n",
       "[0],\n",
       "[0]])"
      ]
     },
     "execution_count": 143,
     "metadata": {},
     "output_type": "execute_result"
    }
   ],
   "source": [
    "system.subs({x1:0, x2: 0, x3:1, m: 0})"
   ]
  },
  {
   "cell_type": "code",
   "execution_count": 144,
   "metadata": {},
   "outputs": [
    {
     "data": {
      "text/plain": [
       "Matrix([\n",
       "[                                                                                                                                                                                                                                                                                                                                                                                   -1 + 0.5*(-1.0*M + 2.0*R)/R, nan,                                                                                                                                                                                                                                                                                                                                                                                                   0],\n",
       "[                                                                                                                                                                                                                                                                                                                                                                                                             0, nan,                                                                                                                                                                                                                                                                                                                                                                                                   0],\n",
       "[0.5*(2.0*M - 4.0*R*Subs(Derivative(UgA(_xi_1), _xi_1), (_xi_1,), (1,)) + 2.0*S*Subs(Derivative(UgA(_xi_1), _xi_1), (_xi_1,), (1,)) + 2.0*T*Subs(Derivative(UgA(_xi_1), _xi_1), (_xi_1,), (1,)))/R + 0.5*(-1.0*M + 4.0*R*Subs(Derivative(UgA(_xi_1), _xi_1), (_xi_1,), (1,)) - 1.0*R - 2.0*S*Subs(Derivative(UgA(_xi_1), _xi_1), (_xi_1,), (1,)) - 1.0*T*Subs(Derivative(UgA(_xi_1), _xi_1), (_xi_1,), (1,)))/R, nan, -1 + 0.5*(-4.0*R*Subs(Derivative(UgA(_xi_1), _xi_1), (_xi_1,), (1,)) + 2.0*S*Subs(Derivative(UgA(_xi_1), _xi_1), (_xi_1,), (1,)) + 2.0*T*Subs(Derivative(UgA(_xi_1), _xi_1), (_xi_1,), (1,)))/R + 0.5*(4.0*R*Subs(Derivative(UgA(_xi_1), _xi_1), (_xi_1,), (1,)) + 1.0*R - 2.0*S*Subs(Derivative(UgA(_xi_1), _xi_1), (_xi_1,), (1,)) - 1.0*T*Subs(Derivative(UgA(_xi_1), _xi_1), (_xi_1,), (1,)))/R]])"
      ]
     },
     "execution_count": 144,
     "metadata": {},
     "output_type": "execute_result"
    }
   ],
   "source": [
    "F_jac.subs({x1: 0, x2: 0, x3: 1, m:0})"
   ]
  },
  {
   "cell_type": "code",
   "execution_count": 169,
   "metadata": {},
   "outputs": [],
   "source": [
    "UgA_prime_star = sym.symbols(\"UgA_prime_star\", nonnegative=True, real=True)\n",
    "\n",
    "evaluated_F_jac = (F_jac.subs({x1: 0, x2:0, m:0})\n",
    "                        .subs({UGA(x3): 1, UgA(x3): 1})\n",
    "                        .doit()\n",
    "                        .subs({sym.Derivative(UgA(x3), x3): 1})\n",
    "                        .subs({x3: 1}))"
   ]
  },
  {
   "cell_type": "code",
   "execution_count": 170,
   "metadata": {},
   "outputs": [
    {
     "data": {
      "text/plain": [
       "Matrix([\n",
       "[                                                   -1 + 0.5*(-1.0*M + 2.0*R)/R,           0.5*(-0.5*M + 0.5*R)/R,                                                                   0],\n",
       "[                                                                             0,      -1 + 0.5*(-0.5*M + 0.5*R)/R,                                                                   0],\n",
       "[0.5*(-1.0*M + 3.0*R - 2.0*S - 1.0*T)/R + 0.5*(2.0*M - 4.0*R + 2.0*S + 2.0*T)/R, 1.0*M/R + 0.5*(-0.5*M - 0.5*R)/R, -1 + 0.5*(-4.0*R + 2.0*S + 2.0*T)/R + 0.5*(5.0*R - 2.0*S - 1.0*T)/R]])"
      ]
     },
     "execution_count": 170,
     "metadata": {},
     "output_type": "execute_result"
    }
   ],
   "source": [
    "evaluated_F_jac"
   ]
  },
  {
   "cell_type": "code",
   "execution_count": 171,
   "metadata": {
    "collapsed": true
   },
   "outputs": [],
   "source": [
    "eigenvals = evaluated_F_jac.eigenvals()"
   ]
  },
  {
   "cell_type": "code",
   "execution_count": 172,
   "metadata": {
    "collapsed": true
   },
   "outputs": [],
   "source": [
    "e1, e2, e3 = eigenvals.keys()"
   ]
  },
  {
   "cell_type": "code",
   "execution_count": 173,
   "metadata": {},
   "outputs": [
    {
     "data": {
      "text/plain": [
       "-(R - T)/(2*R)"
      ]
     },
     "execution_count": 173,
     "metadata": {},
     "output_type": "execute_result"
    }
   ],
   "source": [
    "e1"
   ]
  },
  {
   "cell_type": "code",
   "execution_count": 174,
   "metadata": {},
   "outputs": [
    {
     "data": {
      "text/plain": [
       "-M/(2*R)"
      ]
     },
     "execution_count": 174,
     "metadata": {},
     "output_type": "execute_result"
    }
   ],
   "source": [
    "e2"
   ]
  },
  {
   "cell_type": "code",
   "execution_count": 175,
   "metadata": {},
   "outputs": [
    {
     "data": {
      "text/plain": [
       "-(M + 3*R)/(4*R)"
      ]
     },
     "execution_count": 175,
     "metadata": {},
     "output_type": "execute_result"
    }
   ],
   "source": [
    "e3"
   ]
  },
  {
   "cell_type": "code",
   "execution_count": 151,
   "metadata": {},
   "outputs": [
    {
     "name": "stdout",
     "output_type": "stream",
     "text": [
      "Done with entry 0,0\n",
      "Done with entry 0,1\n",
      "Done with entry 0,2\n",
      "Done with entry 1,0\n",
      "Done with entry 1,1\n",
      "Done with entry 1,2\n",
      "Done with entry 2,0\n",
      "Done with entry 2,1\n",
      "Done with entry 2,2\n"
     ]
    }
   ],
   "source": [
    "evaluated_jac = sym.zeros(3, 3)\n",
    "\n",
    "for i in range(3):\n",
    "    for j in range(3):\n",
    "        tmp_expr = (F_jac[i, j].subs({x1: 0, x2:0, m:0})\n",
    "                               .subs({UGA(x1): UGA_star, UgA(x1): UgA_star})\n",
    "                               .doit()\n",
    "                               .subs({sym.Derivative(UgA(x3), x3): 1})\n",
    "                               .subs({x3: 1}))\n",
    "        if isinstance(tmp_expr, sym.numbers.NaN):\n",
    "            tmp_expr = (F_jac[i, j].subs({x1:0, x3:1, m:0})\n",
    "                                   .subs({UGA(x3): UGA_star, UgA(x3): UgA_star})\n",
    "                                   .doit()\n",
    "                                   .subs({sym.Derivative(UgA(x3), x3): 1}))\n",
    "            tmp_expr = sym.limit(tmp_expr, x2, 0)\n",
    "        evaluated_jac[i, j] = tmp_expr\n",
    "        print(\"Done with entry {},{}\".format(i, j))"
   ]
  },
  {
   "cell_type": "code",
   "execution_count": 152,
   "metadata": {},
   "outputs": [
    {
     "data": {
      "text/plain": [
       "Matrix([\n",
       "[                                                   -1 + 0.5*(-1.0*M + 2.0*R)/R, nan,                                                                   0],\n",
       "[                                                                             0, nan,                                                                   0],\n",
       "[0.5*(-1.0*M + 3.0*R - 2.0*S - 1.0*T)/R + 0.5*(2.0*M - 4.0*R + 2.0*S + 2.0*T)/R, nan, -1 + 0.5*(-4.0*R + 2.0*S + 2.0*T)/R + 0.5*(5.0*R - 2.0*S - 1.0*T)/R]])"
      ]
     },
     "execution_count": 152,
     "metadata": {},
     "output_type": "execute_result"
    }
   ],
   "source": [
    "evaluated_jac"
   ]
  },
  {
   "cell_type": "code",
   "execution_count": 136,
   "metadata": {},
   "outputs": [
    {
     "data": {
      "text/plain": [
       "(3, 3)"
      ]
     },
     "execution_count": 136,
     "metadata": {},
     "output_type": "execute_result"
    }
   ],
   "source": [
    "evaluated_jac[:-1, :-1].shape"
   ]
  },
  {
   "cell_type": "code",
   "execution_count": 134,
   "metadata": {
    "collapsed": true
   },
   "outputs": [],
   "source": [
    "eigvals = evaluated_jac[:-1, :-1].eigenvals()"
   ]
  },
  {
   "cell_type": "code",
   "execution_count": 135,
   "metadata": {},
   "outputs": [
    {
     "ename": "ValueError",
     "evalue": "not enough values to unpack (expected 3, got 1)",
     "output_type": "error",
     "traceback": [
      "\u001b[0;31m---------------------------------------------------------------------------\u001b[0m",
      "\u001b[0;31mValueError\u001b[0m                                Traceback (most recent call last)",
      "\u001b[0;32m<ipython-input-135-0ea9a4eb612d>\u001b[0m in \u001b[0;36m<module>\u001b[0;34m()\u001b[0m\n\u001b[0;32m----> 1\u001b[0;31m \u001b[0me1\u001b[0m\u001b[0;34m,\u001b[0m \u001b[0me2\u001b[0m\u001b[0;34m,\u001b[0m \u001b[0me3\u001b[0m \u001b[0;34m=\u001b[0m \u001b[0meigvals\u001b[0m\u001b[0;34m.\u001b[0m\u001b[0mkeys\u001b[0m\u001b[0;34m(\u001b[0m\u001b[0;34m)\u001b[0m\u001b[0;34m\u001b[0m\u001b[0m\n\u001b[0m",
      "\u001b[0;31mValueError\u001b[0m: not enough values to unpack (expected 3, got 1)"
     ]
    }
   ],
   "source": [
    "e1, e2, e3 = eigvals.keys()"
   ]
  },
  {
   "cell_type": "code",
   "execution_count": 99,
   "metadata": {},
   "outputs": [
    {
     "data": {
      "text/plain": [
       "-1"
      ]
     },
     "execution_count": 99,
     "metadata": {},
     "output_type": "execute_result"
    }
   ],
   "source": [
    "e1"
   ]
  },
  {
   "cell_type": "code",
   "execution_count": 100,
   "metadata": {},
   "outputs": [
    {
     "data": {
      "text/plain": [
       "-(R - T)/(2*R)"
      ]
     },
     "execution_count": 100,
     "metadata": {},
     "output_type": "execute_result"
    }
   ],
   "source": [
    "e2"
   ]
  },
  {
   "cell_type": "code",
   "execution_count": 101,
   "metadata": {},
   "outputs": [
    {
     "data": {
      "text/plain": [
       "-M/(2*R)"
      ]
     },
     "execution_count": 101,
     "metadata": {},
     "output_type": "execute_result"
    }
   ],
   "source": [
    "e3"
   ]
  },
  {
   "cell_type": "code",
   "execution_count": 102,
   "metadata": {},
   "outputs": [
    {
     "data": {
      "text/plain": [
       "-(M + 3*R)/(4*R)"
      ]
     },
     "execution_count": 102,
     "metadata": {},
     "output_type": "execute_result"
    }
   ],
   "source": [
    "e4"
   ]
  },
  {
   "cell_type": "code",
   "execution_count": 127,
   "metadata": {},
   "outputs": [],
   "source": [
    "evaluated_F_jac = (F_jac.subs({x1: 0, x2: 0, x4: 1, m: 0})\n",
    "      .subs({UGA(x3): 0, UgA(x3): 0})\n",
    "      .doit()\n",
    "      .subs({sym.Derivative(UgA(x3)): 1})\n",
    "      .subs({x3: 0}))\n",
    "    \n",
    "        "
   ]
  },
  {
   "cell_type": "code",
   "execution_count": 128,
   "metadata": {
    "collapsed": true
   },
   "outputs": [],
   "source": [
    "eigvals = evaluated_F_jac.eigenvals()"
   ]
  },
  {
   "cell_type": "code",
   "execution_count": 129,
   "metadata": {
    "collapsed": true
   },
   "outputs": [],
   "source": [
    "e1, e2, e3, e4 = eigvals.keys()"
   ]
  },
  {
   "cell_type": "code",
   "execution_count": 130,
   "metadata": {},
   "outputs": [
    {
     "data": {
      "text/plain": [
       "-1"
      ]
     },
     "execution_count": 130,
     "metadata": {},
     "output_type": "execute_result"
    }
   ],
   "source": [
    "e1"
   ]
  },
  {
   "cell_type": "code",
   "execution_count": 131,
   "metadata": {},
   "outputs": [
    {
     "data": {
      "text/plain": [
       "-(P - S)/(2*P)"
      ]
     },
     "execution_count": 131,
     "metadata": {},
     "output_type": "execute_result"
    }
   ],
   "source": [
    "e2"
   ]
  },
  {
   "cell_type": "code",
   "execution_count": 132,
   "metadata": {},
   "outputs": [
    {
     "data": {
      "text/plain": [
       "-M/(2*P)"
      ]
     },
     "execution_count": 132,
     "metadata": {},
     "output_type": "execute_result"
    }
   ],
   "source": [
    "e3"
   ]
  },
  {
   "cell_type": "code",
   "execution_count": 133,
   "metadata": {},
   "outputs": [
    {
     "data": {
      "text/plain": [
       "-(M + 3*P)/(4*P)"
      ]
     },
     "execution_count": 133,
     "metadata": {},
     "output_type": "execute_result"
    }
   ],
   "source": [
    "e4"
   ]
  },
  {
   "cell_type": "code",
   "execution_count": 20,
   "metadata": {},
   "outputs": [],
   "source": []
  },
  {
   "cell_type": "code",
   "execution_count": 27,
   "metadata": {},
   "outputs": [],
   "source": [
    "x4_star = 1 - x1_star - x2_star - x3_star\n",
    "x_star = np.array([x1_star, x2_star, x3_star, x4_star])\n",
    "N = sym.symbols(\"N\", real=True, positive=True)\n",
    "F = sym.Matrix(W.sum(axis=2).dot(x_star) - N * x_star).subs({UGA(x1 + x3): UGA_star, UgA(x1 + x3): UgA_star})\n"
   ]
  },
  {
   "cell_type": "code",
   "execution_count": 34,
   "metadata": {},
   "outputs": [
    {
     "data": {
      "text/plain": [
       "(4, 1)"
      ]
     },
     "execution_count": 34,
     "metadata": {},
     "output_type": "execute_result"
    }
   ],
   "source": [
    "F.shape"
   ]
  },
  {
   "cell_type": "code",
   "execution_count": 39,
   "metadata": {},
   "outputs": [
    {
     "ename": "KeyboardInterrupt",
     "evalue": "",
     "output_type": "error",
     "traceback": [
      "\u001b[0;31m---------------------------------------------------------------------------\u001b[0m",
      "\u001b[0;31mKeyboardInterrupt\u001b[0m                         Traceback (most recent call last)",
      "\u001b[0;32m<ipython-input-39-8a6e04fbeceb>\u001b[0m in \u001b[0;36m<module>\u001b[0;34m()\u001b[0m\n\u001b[0;32m----> 1\u001b[0;31m \u001b[0msolution\u001b[0m \u001b[0;34m=\u001b[0m \u001b[0msym\u001b[0m\u001b[0;34m.\u001b[0m\u001b[0msolve\u001b[0m\u001b[0;34m(\u001b[0m\u001b[0mF\u001b[0m\u001b[0;34m[\u001b[0m\u001b[0;34m:\u001b[0m\u001b[0;34m-\u001b[0m\u001b[0;36m1\u001b[0m\u001b[0;34m,\u001b[0m\u001b[0;36m0\u001b[0m\u001b[0;34m]\u001b[0m\u001b[0;34m,\u001b[0m \u001b[0;34m(\u001b[0m\u001b[0mx1_star\u001b[0m\u001b[0;34m,\u001b[0m \u001b[0mx2_star\u001b[0m\u001b[0;34m,\u001b[0m \u001b[0mx3_star\u001b[0m\u001b[0;34m)\u001b[0m\u001b[0;34m)\u001b[0m\u001b[0;34m\u001b[0m\u001b[0m\n\u001b[0m",
      "\u001b[0;32m~/anaconda3/lib/python3.6/site-packages/sympy/solvers/solvers.py\u001b[0m in \u001b[0;36msolve\u001b[0;34m(f, *symbols, **flags)\u001b[0m\n\u001b[1;32m   1065\u001b[0m         \u001b[0msolution\u001b[0m \u001b[0;34m=\u001b[0m \u001b[0m_solve\u001b[0m\u001b[0;34m(\u001b[0m\u001b[0mf\u001b[0m\u001b[0;34m[\u001b[0m\u001b[0;36m0\u001b[0m\u001b[0;34m]\u001b[0m\u001b[0;34m,\u001b[0m \u001b[0;34m*\u001b[0m\u001b[0msymbols\u001b[0m\u001b[0;34m,\u001b[0m \u001b[0;34m**\u001b[0m\u001b[0mflags\u001b[0m\u001b[0;34m)\u001b[0m\u001b[0;34m\u001b[0m\u001b[0m\n\u001b[1;32m   1066\u001b[0m     \u001b[0;32melse\u001b[0m\u001b[0;34m:\u001b[0m\u001b[0;34m\u001b[0m\u001b[0m\n\u001b[0;32m-> 1067\u001b[0;31m         \u001b[0msolution\u001b[0m \u001b[0;34m=\u001b[0m \u001b[0m_solve_system\u001b[0m\u001b[0;34m(\u001b[0m\u001b[0mf\u001b[0m\u001b[0;34m,\u001b[0m \u001b[0msymbols\u001b[0m\u001b[0;34m,\u001b[0m \u001b[0;34m**\u001b[0m\u001b[0mflags\u001b[0m\u001b[0;34m)\u001b[0m\u001b[0;34m\u001b[0m\u001b[0m\n\u001b[0m\u001b[1;32m   1068\u001b[0m \u001b[0;34m\u001b[0m\u001b[0m\n\u001b[1;32m   1069\u001b[0m     \u001b[0;31m#\u001b[0m\u001b[0;34m\u001b[0m\u001b[0;34m\u001b[0m\u001b[0m\n",
      "\u001b[0;32m~/anaconda3/lib/python3.6/site-packages/sympy/solvers/solvers.py\u001b[0m in \u001b[0;36m_solve_system\u001b[0;34m(exprs, symbols, **flags)\u001b[0m\n\u001b[1;32m   1701\u001b[0m                 \u001b[0mresult\u001b[0m \u001b[0;34m=\u001b[0m \u001b[0mminsolve_linear_system\u001b[0m\u001b[0;34m(\u001b[0m\u001b[0mmatrix\u001b[0m\u001b[0;34m,\u001b[0m \u001b[0;34m*\u001b[0m\u001b[0msymbols\u001b[0m\u001b[0;34m,\u001b[0m \u001b[0;34m**\u001b[0m\u001b[0mflags\u001b[0m\u001b[0;34m)\u001b[0m\u001b[0;34m\u001b[0m\u001b[0m\n\u001b[1;32m   1702\u001b[0m             \u001b[0;32melse\u001b[0m\u001b[0;34m:\u001b[0m\u001b[0;34m\u001b[0m\u001b[0m\n\u001b[0;32m-> 1703\u001b[0;31m                 \u001b[0mresult\u001b[0m \u001b[0;34m=\u001b[0m \u001b[0msolve_linear_system\u001b[0m\u001b[0;34m(\u001b[0m\u001b[0mmatrix\u001b[0m\u001b[0;34m,\u001b[0m \u001b[0;34m*\u001b[0m\u001b[0msymbols\u001b[0m\u001b[0;34m,\u001b[0m \u001b[0;34m**\u001b[0m\u001b[0mflags\u001b[0m\u001b[0;34m)\u001b[0m\u001b[0;34m\u001b[0m\u001b[0m\n\u001b[0m\u001b[1;32m   1704\u001b[0m             \u001b[0;32mif\u001b[0m \u001b[0mfailed\u001b[0m\u001b[0;34m:\u001b[0m\u001b[0;34m\u001b[0m\u001b[0m\n\u001b[1;32m   1705\u001b[0m                 \u001b[0;32mif\u001b[0m \u001b[0mresult\u001b[0m\u001b[0;34m:\u001b[0m\u001b[0;34m\u001b[0m\u001b[0m\n",
      "\u001b[0;32m~/anaconda3/lib/python3.6/site-packages/sympy/solvers/solvers.py\u001b[0m in \u001b[0;36msolve_linear_system\u001b[0;34m(system, *symbols, **flags)\u001b[0m\n\u001b[1;32m   2167\u001b[0m             \u001b[0;32mif\u001b[0m \u001b[0mdo_simplify\u001b[0m\u001b[0;34m:\u001b[0m\u001b[0;34m\u001b[0m\u001b[0m\n\u001b[1;32m   2168\u001b[0m                 \u001b[0;32mfor\u001b[0m \u001b[0mk\u001b[0m\u001b[0;34m,\u001b[0m \u001b[0mv\u001b[0m \u001b[0;32min\u001b[0m \u001b[0mrv\u001b[0m\u001b[0;34m.\u001b[0m\u001b[0mitems\u001b[0m\u001b[0;34m(\u001b[0m\u001b[0;34m)\u001b[0m\u001b[0;34m:\u001b[0m\u001b[0;34m\u001b[0m\u001b[0m\n\u001b[0;32m-> 2169\u001b[0;31m                     \u001b[0mrv\u001b[0m\u001b[0;34m[\u001b[0m\u001b[0mk\u001b[0m\u001b[0;34m]\u001b[0m \u001b[0;34m=\u001b[0m \u001b[0msimplify\u001b[0m\u001b[0;34m(\u001b[0m\u001b[0mv\u001b[0m\u001b[0;34m)\u001b[0m\u001b[0;34m\u001b[0m\u001b[0m\n\u001b[0m\u001b[1;32m   2170\u001b[0m             \u001b[0;32mif\u001b[0m \u001b[0;32mnot\u001b[0m \u001b[0mall\u001b[0m\u001b[0;34m(\u001b[0m\u001b[0mi\u001b[0m\u001b[0;34m.\u001b[0m\u001b[0mis_zero\u001b[0m \u001b[0;32mfor\u001b[0m \u001b[0mi\u001b[0m \u001b[0;32min\u001b[0m \u001b[0mrv\u001b[0m\u001b[0;34m.\u001b[0m\u001b[0mvalues\u001b[0m\u001b[0;34m(\u001b[0m\u001b[0;34m)\u001b[0m\u001b[0;34m)\u001b[0m\u001b[0;34m:\u001b[0m\u001b[0;34m\u001b[0m\u001b[0m\n\u001b[1;32m   2171\u001b[0m                 \u001b[0;31m# non-trivial solution\u001b[0m\u001b[0;34m\u001b[0m\u001b[0;34m\u001b[0m\u001b[0m\n",
      "\u001b[0;32m~/anaconda3/lib/python3.6/site-packages/sympy/simplify/simplify.py\u001b[0m in \u001b[0;36msimplify\u001b[0;34m(expr, ratio, measure, fu)\u001b[0m\n\u001b[1;32m    582\u001b[0m \u001b[0;34m\u001b[0m\u001b[0m\n\u001b[1;32m    583\u001b[0m     \u001b[0mshort\u001b[0m \u001b[0;34m=\u001b[0m \u001b[0mshorter\u001b[0m\u001b[0;34m(\u001b[0m\u001b[0mpowsimp\u001b[0m\u001b[0;34m(\u001b[0m\u001b[0mexpr\u001b[0m\u001b[0;34m,\u001b[0m \u001b[0mcombine\u001b[0m\u001b[0;34m=\u001b[0m\u001b[0;34m'exp'\u001b[0m\u001b[0;34m,\u001b[0m \u001b[0mdeep\u001b[0m\u001b[0;34m=\u001b[0m\u001b[0;32mTrue\u001b[0m\u001b[0;34m)\u001b[0m\u001b[0;34m,\u001b[0m \u001b[0mpowsimp\u001b[0m\u001b[0;34m(\u001b[0m\u001b[0mexpr\u001b[0m\u001b[0;34m)\u001b[0m\u001b[0;34m,\u001b[0m \u001b[0mexpr\u001b[0m\u001b[0;34m)\u001b[0m\u001b[0;34m\u001b[0m\u001b[0m\n\u001b[0;32m--> 584\u001b[0;31m     \u001b[0mshort\u001b[0m \u001b[0;34m=\u001b[0m \u001b[0mshorter\u001b[0m\u001b[0;34m(\u001b[0m\u001b[0mshort\u001b[0m\u001b[0;34m,\u001b[0m \u001b[0mfactor_terms\u001b[0m\u001b[0;34m(\u001b[0m\u001b[0mshort\u001b[0m\u001b[0;34m)\u001b[0m\u001b[0;34m,\u001b[0m \u001b[0mexpand_power_exp\u001b[0m\u001b[0;34m(\u001b[0m\u001b[0mexpand_mul\u001b[0m\u001b[0;34m(\u001b[0m\u001b[0mshort\u001b[0m\u001b[0;34m)\u001b[0m\u001b[0;34m)\u001b[0m\u001b[0;34m)\u001b[0m\u001b[0;34m\u001b[0m\u001b[0m\n\u001b[0m\u001b[1;32m    585\u001b[0m     \u001b[0;32mif\u001b[0m \u001b[0mshort\u001b[0m\u001b[0;34m.\u001b[0m\u001b[0mhas\u001b[0m\u001b[0;34m(\u001b[0m\u001b[0mTrigonometricFunction\u001b[0m\u001b[0;34m,\u001b[0m \u001b[0mHyperbolicFunction\u001b[0m\u001b[0;34m,\u001b[0m \u001b[0mExpBase\u001b[0m\u001b[0;34m)\u001b[0m\u001b[0;34m:\u001b[0m\u001b[0;34m\u001b[0m\u001b[0m\n\u001b[1;32m    586\u001b[0m         \u001b[0mshort\u001b[0m \u001b[0;34m=\u001b[0m \u001b[0mexptrigsimp\u001b[0m\u001b[0;34m(\u001b[0m\u001b[0mshort\u001b[0m\u001b[0;34m,\u001b[0m \u001b[0msimplify\u001b[0m\u001b[0;34m=\u001b[0m\u001b[0;32mFalse\u001b[0m\u001b[0;34m)\u001b[0m\u001b[0;34m\u001b[0m\u001b[0m\n",
      "\u001b[0;32m~/anaconda3/lib/python3.6/site-packages/sympy/core/function.py\u001b[0m in \u001b[0;36mexpand_mul\u001b[0;34m(expr, deep)\u001b[0m\n\u001b[1;32m   2201\u001b[0m     \"\"\"\n\u001b[1;32m   2202\u001b[0m     return sympify(expr).expand(deep=deep, mul=True, power_exp=False,\n\u001b[0;32m-> 2203\u001b[0;31m     power_base=False, basic=False, multinomial=False, log=False)\n\u001b[0m\u001b[1;32m   2204\u001b[0m \u001b[0;34m\u001b[0m\u001b[0m\n\u001b[1;32m   2205\u001b[0m \u001b[0;34m\u001b[0m\u001b[0m\n",
      "\u001b[0;32m~/anaconda3/lib/python3.6/site-packages/sympy/core/expr.py\u001b[0m in \u001b[0;36mexpand\u001b[0;34m(self, deep, modulus, power_base, power_exp, mul, log, multinomial, basic, **hints)\u001b[0m\n\u001b[1;32m   3052\u001b[0m             \u001b[0;32mif\u001b[0m \u001b[0mhints\u001b[0m\u001b[0;34m.\u001b[0m\u001b[0mget\u001b[0m\u001b[0;34m(\u001b[0m\u001b[0;34m'mul'\u001b[0m\u001b[0;34m,\u001b[0m \u001b[0;32mFalse\u001b[0m\u001b[0;34m)\u001b[0m\u001b[0;34m:\u001b[0m\u001b[0;34m\u001b[0m\u001b[0m\n\u001b[1;32m   3053\u001b[0m                 expr, _ = Expr._expand_hint(\n\u001b[0;32m-> 3054\u001b[0;31m                     expr, '_eval_expand_mul', deep=deep, **hints)\n\u001b[0m\u001b[1;32m   3055\u001b[0m             \u001b[0;32mif\u001b[0m \u001b[0mhints\u001b[0m\u001b[0;34m.\u001b[0m\u001b[0mget\u001b[0m\u001b[0;34m(\u001b[0m\u001b[0;34m'log'\u001b[0m\u001b[0;34m,\u001b[0m \u001b[0;32mFalse\u001b[0m\u001b[0;34m)\u001b[0m\u001b[0;34m:\u001b[0m\u001b[0;34m\u001b[0m\u001b[0m\n\u001b[1;32m   3056\u001b[0m                 expr, _ = Expr._expand_hint(\n",
      "\u001b[0;32m~/anaconda3/lib/python3.6/site-packages/sympy/core/expr.py\u001b[0m in \u001b[0;36m_expand_hint\u001b[0;34m(expr, hint, deep, **hints)\u001b[0m\n\u001b[1;32m   2976\u001b[0m             \u001b[0msargs\u001b[0m \u001b[0;34m=\u001b[0m \u001b[0;34m[\u001b[0m\u001b[0;34m]\u001b[0m\u001b[0;34m\u001b[0m\u001b[0m\n\u001b[1;32m   2977\u001b[0m             \u001b[0;32mfor\u001b[0m \u001b[0marg\u001b[0m \u001b[0;32min\u001b[0m \u001b[0mexpr\u001b[0m\u001b[0;34m.\u001b[0m\u001b[0margs\u001b[0m\u001b[0;34m:\u001b[0m\u001b[0;34m\u001b[0m\u001b[0m\n\u001b[0;32m-> 2978\u001b[0;31m                 \u001b[0marg\u001b[0m\u001b[0;34m,\u001b[0m \u001b[0marghit\u001b[0m \u001b[0;34m=\u001b[0m \u001b[0mExpr\u001b[0m\u001b[0;34m.\u001b[0m\u001b[0m_expand_hint\u001b[0m\u001b[0;34m(\u001b[0m\u001b[0marg\u001b[0m\u001b[0;34m,\u001b[0m \u001b[0mhint\u001b[0m\u001b[0;34m,\u001b[0m \u001b[0;34m**\u001b[0m\u001b[0mhints\u001b[0m\u001b[0;34m)\u001b[0m\u001b[0;34m\u001b[0m\u001b[0m\n\u001b[0m\u001b[1;32m   2979\u001b[0m                 \u001b[0mhit\u001b[0m \u001b[0;34m|=\u001b[0m \u001b[0marghit\u001b[0m\u001b[0;34m\u001b[0m\u001b[0m\n\u001b[1;32m   2980\u001b[0m                 \u001b[0msargs\u001b[0m\u001b[0;34m.\u001b[0m\u001b[0mappend\u001b[0m\u001b[0;34m(\u001b[0m\u001b[0marg\u001b[0m\u001b[0;34m)\u001b[0m\u001b[0;34m\u001b[0m\u001b[0m\n",
      "\u001b[0;32m~/anaconda3/lib/python3.6/site-packages/sympy/core/expr.py\u001b[0m in \u001b[0;36m_expand_hint\u001b[0;34m(expr, hint, deep, **hints)\u001b[0m\n\u001b[1;32m   2976\u001b[0m             \u001b[0msargs\u001b[0m \u001b[0;34m=\u001b[0m \u001b[0;34m[\u001b[0m\u001b[0;34m]\u001b[0m\u001b[0;34m\u001b[0m\u001b[0m\n\u001b[1;32m   2977\u001b[0m             \u001b[0;32mfor\u001b[0m \u001b[0marg\u001b[0m \u001b[0;32min\u001b[0m \u001b[0mexpr\u001b[0m\u001b[0;34m.\u001b[0m\u001b[0margs\u001b[0m\u001b[0;34m:\u001b[0m\u001b[0;34m\u001b[0m\u001b[0m\n\u001b[0;32m-> 2978\u001b[0;31m                 \u001b[0marg\u001b[0m\u001b[0;34m,\u001b[0m \u001b[0marghit\u001b[0m \u001b[0;34m=\u001b[0m \u001b[0mExpr\u001b[0m\u001b[0;34m.\u001b[0m\u001b[0m_expand_hint\u001b[0m\u001b[0;34m(\u001b[0m\u001b[0marg\u001b[0m\u001b[0;34m,\u001b[0m \u001b[0mhint\u001b[0m\u001b[0;34m,\u001b[0m \u001b[0;34m**\u001b[0m\u001b[0mhints\u001b[0m\u001b[0;34m)\u001b[0m\u001b[0;34m\u001b[0m\u001b[0m\n\u001b[0m\u001b[1;32m   2979\u001b[0m                 \u001b[0mhit\u001b[0m \u001b[0;34m|=\u001b[0m \u001b[0marghit\u001b[0m\u001b[0;34m\u001b[0m\u001b[0m\n\u001b[1;32m   2980\u001b[0m                 \u001b[0msargs\u001b[0m\u001b[0;34m.\u001b[0m\u001b[0mappend\u001b[0m\u001b[0;34m(\u001b[0m\u001b[0marg\u001b[0m\u001b[0;34m)\u001b[0m\u001b[0;34m\u001b[0m\u001b[0m\n",
      "\u001b[0;32m~/anaconda3/lib/python3.6/site-packages/sympy/core/expr.py\u001b[0m in \u001b[0;36m_expand_hint\u001b[0;34m(expr, hint, deep, **hints)\u001b[0m\n\u001b[1;32m   2976\u001b[0m             \u001b[0msargs\u001b[0m \u001b[0;34m=\u001b[0m \u001b[0;34m[\u001b[0m\u001b[0;34m]\u001b[0m\u001b[0;34m\u001b[0m\u001b[0m\n\u001b[1;32m   2977\u001b[0m             \u001b[0;32mfor\u001b[0m \u001b[0marg\u001b[0m \u001b[0;32min\u001b[0m \u001b[0mexpr\u001b[0m\u001b[0;34m.\u001b[0m\u001b[0margs\u001b[0m\u001b[0;34m:\u001b[0m\u001b[0;34m\u001b[0m\u001b[0m\n\u001b[0;32m-> 2978\u001b[0;31m                 \u001b[0marg\u001b[0m\u001b[0;34m,\u001b[0m \u001b[0marghit\u001b[0m \u001b[0;34m=\u001b[0m \u001b[0mExpr\u001b[0m\u001b[0;34m.\u001b[0m\u001b[0m_expand_hint\u001b[0m\u001b[0;34m(\u001b[0m\u001b[0marg\u001b[0m\u001b[0;34m,\u001b[0m \u001b[0mhint\u001b[0m\u001b[0;34m,\u001b[0m \u001b[0;34m**\u001b[0m\u001b[0mhints\u001b[0m\u001b[0;34m)\u001b[0m\u001b[0;34m\u001b[0m\u001b[0m\n\u001b[0m\u001b[1;32m   2979\u001b[0m                 \u001b[0mhit\u001b[0m \u001b[0;34m|=\u001b[0m \u001b[0marghit\u001b[0m\u001b[0;34m\u001b[0m\u001b[0m\n\u001b[1;32m   2980\u001b[0m                 \u001b[0msargs\u001b[0m\u001b[0;34m.\u001b[0m\u001b[0mappend\u001b[0m\u001b[0;34m(\u001b[0m\u001b[0marg\u001b[0m\u001b[0;34m)\u001b[0m\u001b[0;34m\u001b[0m\u001b[0m\n",
      "\u001b[0;32m~/anaconda3/lib/python3.6/site-packages/sympy/core/expr.py\u001b[0m in \u001b[0;36m_expand_hint\u001b[0;34m(expr, hint, deep, **hints)\u001b[0m\n\u001b[1;32m   2976\u001b[0m             \u001b[0msargs\u001b[0m \u001b[0;34m=\u001b[0m \u001b[0;34m[\u001b[0m\u001b[0;34m]\u001b[0m\u001b[0;34m\u001b[0m\u001b[0m\n\u001b[1;32m   2977\u001b[0m             \u001b[0;32mfor\u001b[0m \u001b[0marg\u001b[0m \u001b[0;32min\u001b[0m \u001b[0mexpr\u001b[0m\u001b[0;34m.\u001b[0m\u001b[0margs\u001b[0m\u001b[0;34m:\u001b[0m\u001b[0;34m\u001b[0m\u001b[0m\n\u001b[0;32m-> 2978\u001b[0;31m                 \u001b[0marg\u001b[0m\u001b[0;34m,\u001b[0m \u001b[0marghit\u001b[0m \u001b[0;34m=\u001b[0m \u001b[0mExpr\u001b[0m\u001b[0;34m.\u001b[0m\u001b[0m_expand_hint\u001b[0m\u001b[0;34m(\u001b[0m\u001b[0marg\u001b[0m\u001b[0;34m,\u001b[0m \u001b[0mhint\u001b[0m\u001b[0;34m,\u001b[0m \u001b[0;34m**\u001b[0m\u001b[0mhints\u001b[0m\u001b[0;34m)\u001b[0m\u001b[0;34m\u001b[0m\u001b[0m\n\u001b[0m\u001b[1;32m   2979\u001b[0m                 \u001b[0mhit\u001b[0m \u001b[0;34m|=\u001b[0m \u001b[0marghit\u001b[0m\u001b[0;34m\u001b[0m\u001b[0m\n\u001b[1;32m   2980\u001b[0m                 \u001b[0msargs\u001b[0m\u001b[0;34m.\u001b[0m\u001b[0mappend\u001b[0m\u001b[0;34m(\u001b[0m\u001b[0marg\u001b[0m\u001b[0;34m)\u001b[0m\u001b[0;34m\u001b[0m\u001b[0m\n",
      "\u001b[0;32m~/anaconda3/lib/python3.6/site-packages/sympy/core/expr.py\u001b[0m in \u001b[0;36m_expand_hint\u001b[0;34m(expr, hint, deep, **hints)\u001b[0m\n\u001b[1;32m   2984\u001b[0m \u001b[0;34m\u001b[0m\u001b[0m\n\u001b[1;32m   2985\u001b[0m         \u001b[0;32mif\u001b[0m \u001b[0mhasattr\u001b[0m\u001b[0;34m(\u001b[0m\u001b[0mexpr\u001b[0m\u001b[0;34m,\u001b[0m \u001b[0mhint\u001b[0m\u001b[0;34m)\u001b[0m\u001b[0;34m:\u001b[0m\u001b[0;34m\u001b[0m\u001b[0m\n\u001b[0;32m-> 2986\u001b[0;31m             \u001b[0mnewexpr\u001b[0m \u001b[0;34m=\u001b[0m \u001b[0mgetattr\u001b[0m\u001b[0;34m(\u001b[0m\u001b[0mexpr\u001b[0m\u001b[0;34m,\u001b[0m \u001b[0mhint\u001b[0m\u001b[0;34m)\u001b[0m\u001b[0;34m(\u001b[0m\u001b[0;34m**\u001b[0m\u001b[0mhints\u001b[0m\u001b[0;34m)\u001b[0m\u001b[0;34m\u001b[0m\u001b[0m\n\u001b[0m\u001b[1;32m   2987\u001b[0m             \u001b[0;32mif\u001b[0m \u001b[0mnewexpr\u001b[0m \u001b[0;34m!=\u001b[0m \u001b[0mexpr\u001b[0m\u001b[0;34m:\u001b[0m\u001b[0;34m\u001b[0m\u001b[0m\n\u001b[1;32m   2988\u001b[0m                 \u001b[0;32mreturn\u001b[0m \u001b[0;34m(\u001b[0m\u001b[0mnewexpr\u001b[0m\u001b[0;34m,\u001b[0m \u001b[0;32mTrue\u001b[0m\u001b[0;34m)\u001b[0m\u001b[0;34m\u001b[0m\u001b[0m\n",
      "\u001b[0;32m~/anaconda3/lib/python3.6/site-packages/sympy/core/mul.py\u001b[0m in \u001b[0;36m_eval_expand_mul\u001b[0;34m(self, **hints)\u001b[0m\n\u001b[1;32m    849\u001b[0m         \u001b[0;31m# to 1/x*1/(x + 1)\u001b[0m\u001b[0;34m\u001b[0m\u001b[0;34m\u001b[0m\u001b[0m\n\u001b[1;32m    850\u001b[0m         \u001b[0mexpr\u001b[0m \u001b[0;34m=\u001b[0m \u001b[0mself\u001b[0m\u001b[0;34m\u001b[0m\u001b[0m\n\u001b[0;32m--> 851\u001b[0;31m         \u001b[0mn\u001b[0m\u001b[0;34m,\u001b[0m \u001b[0md\u001b[0m \u001b[0;34m=\u001b[0m \u001b[0mfraction\u001b[0m\u001b[0;34m(\u001b[0m\u001b[0mexpr\u001b[0m\u001b[0;34m)\u001b[0m\u001b[0;34m\u001b[0m\u001b[0m\n\u001b[0m\u001b[1;32m    852\u001b[0m         \u001b[0;32mif\u001b[0m \u001b[0md\u001b[0m\u001b[0;34m.\u001b[0m\u001b[0mis_Mul\u001b[0m\u001b[0;34m:\u001b[0m\u001b[0;34m\u001b[0m\u001b[0m\n\u001b[1;32m    853\u001b[0m             n, d = [i._eval_expand_mul(**hints) if i.is_Mul else i\n",
      "\u001b[0;32m~/anaconda3/lib/python3.6/site-packages/sympy/simplify/radsimp.py\u001b[0m in \u001b[0;36mfraction\u001b[0;34m(expr, exact)\u001b[0m\n\u001b[1;32m    988\u001b[0m         \u001b[0;32mreturn\u001b[0m \u001b[0mMul\u001b[0m\u001b[0;34m(\u001b[0m\u001b[0;34m*\u001b[0m\u001b[0mnumer\u001b[0m\u001b[0;34m,\u001b[0m \u001b[0mevaluate\u001b[0m\u001b[0;34m=\u001b[0m\u001b[0;32mFalse\u001b[0m\u001b[0;34m)\u001b[0m\u001b[0;34m,\u001b[0m \u001b[0mMul\u001b[0m\u001b[0;34m(\u001b[0m\u001b[0;34m*\u001b[0m\u001b[0mdenom\u001b[0m\u001b[0;34m,\u001b[0m \u001b[0mevaluate\u001b[0m\u001b[0;34m=\u001b[0m\u001b[0;32mFalse\u001b[0m\u001b[0;34m)\u001b[0m\u001b[0;34m\u001b[0m\u001b[0m\n\u001b[1;32m    989\u001b[0m     \u001b[0;32melse\u001b[0m\u001b[0;34m:\u001b[0m\u001b[0;34m\u001b[0m\u001b[0m\n\u001b[0;32m--> 990\u001b[0;31m         \u001b[0;32mreturn\u001b[0m \u001b[0mMul\u001b[0m\u001b[0;34m(\u001b[0m\u001b[0;34m*\u001b[0m\u001b[0mnumer\u001b[0m\u001b[0;34m)\u001b[0m\u001b[0;34m,\u001b[0m \u001b[0mMul\u001b[0m\u001b[0;34m(\u001b[0m\u001b[0;34m*\u001b[0m\u001b[0mdenom\u001b[0m\u001b[0;34m)\u001b[0m\u001b[0;34m\u001b[0m\u001b[0m\n\u001b[0m\u001b[1;32m    991\u001b[0m \u001b[0;34m\u001b[0m\u001b[0m\n\u001b[1;32m    992\u001b[0m \u001b[0;34m\u001b[0m\u001b[0m\n",
      "\u001b[0;31mKeyboardInterrupt\u001b[0m: "
     ]
    }
   ],
   "source": [
    "solution = sym.solve(F[:-1,0], (x1_star, x2_star, x3_star))"
   ]
  },
  {
   "cell_type": "code",
   "execution_count": null,
   "metadata": {
    "collapsed": true
   },
   "outputs": [],
   "source": []
  },
  {
   "cell_type": "code",
   "execution_count": 35,
   "metadata": {},
   "outputs": [],
   "source": [
    "solution = sym.solve_linear_system(F[:-1,0].col_insert(4, sym.zeros(3,1)), symbols=(x1_star, x2_star, x3_star))"
   ]
  },
  {
   "cell_type": "code",
   "execution_count": 37,
   "metadata": {},
   "outputs": [
    {
     "data": {
      "text/plain": [
       "Matrix([\n",
       "[                                                                                                            -N*x1_star + 0.25*UgA_star*x1*(2*UgA_star*(R - m) + 2*(S - m)*(-UgA_star + 1))*(-x1_star - x2_star - x3_star + 1)/(x1 + x3) + x1_star*(1.0*UGA_star*x1*(2*UGA_star*(-M + R) + 2*(-M + S)*(-UGA_star + 1))/(x1 + x3) + 0.5*UGA_star*x3*(2*UGA_star*(-M + R) + 2*(-M + S)*(-UGA_star + 1))/(x1 + x3) + 0.5*x2*(-UGA_star + 1)*(2*UGA_star*(-M + T) + 2*(-M + P)*(-UGA_star + 1))/(-x1 - x3 + 1) + 0.25*(-UGA_star + 1)*(2*UGA_star*(-M + T) + 2*(-M + P)*(-UGA_star + 1))*(-x1 - x2 - x3 + 1)/(-x1 - x3 + 1)) + x2_star*(0.5*UGA_star*x1*(2*UGA_star*(-M + R) + 2*(-M + S)*(-UGA_star + 1))/(x1 + x3) + 0.25*UGA_star*x3*(2*UGA_star*(-M + R) + 2*(-M + S)*(-UGA_star + 1))/(x1 + x3)) + x3_star*(0.5*UgA_star*x1*(2*UgA_star*(R - m) + 2*(S - m)*(-UgA_star + 1))/(x1 + x3) + 0.25*x2*(-UgA_star + 1)*(2*UgA_star*(T - m) + 2*(P - m)*(-UgA_star + 1))/(-x1 - x3 + 1))],\n",
       "[                                                       -N*x2_star + x1_star*(0.5*x2*(-UGA_star + 1)*(2*UGA_star*(-M + T) + 2*(-M + P)*(-UGA_star + 1))/(-x1 - x3 + 1) + 0.25*(-UGA_star + 1)*(2*UGA_star*(-M + T) + 2*(-M + P)*(-UGA_star + 1))*(-x1 - x2 - x3 + 1)/(-x1 - x3 + 1)) + 0.25*x2*x3_star*(-UgA_star + 1)*(2*UgA_star*(T - m) + 2*(P - m)*(-UgA_star + 1))/(-x1 - x3 + 1) + x2_star*(0.5*UGA_star*x1*(2*UGA_star*(-M + R) + 2*(-M + S)*(-UGA_star + 1))/(x1 + x3) + 0.25*UGA_star*x3*(2*UGA_star*(-M + R) + 2*(-M + S)*(-UGA_star + 1))/(x1 + x3) + 1.0*x2*(-UGA_star + 1)*(2*UGA_star*(-M + T) + 2*(-M + P)*(-UGA_star + 1))/(-x1 - x3 + 1) + 0.5*(-UGA_star + 1)*(2*UGA_star*(-M + T) + 2*(-M + P)*(-UGA_star + 1))*(-x1 - x2 - x3 + 1)/(-x1 - x3 + 1)) + (0.25*UgA_star*x1*(2*UgA_star*(R - m) + 2*(S - m)*(-UgA_star + 1))/(x1 + x3) + 0.5*x2*(-UgA_star + 1)*(2*UgA_star*(T - m) + 2*(P - m)*(-UgA_star + 1))/(-x1 - x3 + 1))*(-x1_star - x2_star - x3_star + 1)],\n",
       "[                                                                                                 -N*x3_star + 0.25*UGA_star*x2_star*x3*(2*UGA_star*(-M + R) + 2*(-M + S)*(-UGA_star + 1))/(x1 + x3) + x1_star*(0.5*UGA_star*x3*(2*UGA_star*(-M + R) + 2*(-M + S)*(-UGA_star + 1))/(x1 + x3) + 0.25*(-UGA_star + 1)*(2*UGA_star*(-M + T) + 2*(-M + P)*(-UGA_star + 1))*(-x1 - x2 - x3 + 1)/(-x1 - x3 + 1)) + x3_star*(0.5*UgA_star*x1*(2*UgA_star*(R - m) + 2*(S - m)*(-UgA_star + 1))/(x1 + x3) + 1.0*UgA_star*x3*(2*UgA_star*(R - m) + 2*(S - m)*(-UgA_star + 1))/(x1 + x3) + 0.25*x2*(-UgA_star + 1)*(2*UgA_star*(T - m) + 2*(P - m)*(-UgA_star + 1))/(-x1 - x3 + 1) + 0.5*(-UgA_star + 1)*(2*UgA_star*(T - m) + 2*(P - m)*(-UgA_star + 1))*(-x1 - x2 - x3 + 1)/(-x1 - x3 + 1)) + (0.25*UgA_star*x1*(2*UgA_star*(R - m) + 2*(S - m)*(-UgA_star + 1))/(x1 + x3) + 0.5*UgA_star*x3*(2*UgA_star*(R - m) + 2*(S - m)*(-UgA_star + 1))/(x1 + x3))*(-x1_star - x2_star - x3_star + 1)],\n",
       "[-N*(-x1_star - x2_star - x3_star + 1) + 0.25*x1_star*(-UGA_star + 1)*(2*UGA_star*(-M + T) + 2*(-M + P)*(-UGA_star + 1))*(-x1 - x2 - x3 + 1)/(-x1 - x3 + 1) + x2_star*(0.25*UGA_star*x3*(2*UGA_star*(-M + R) + 2*(-M + S)*(-UGA_star + 1))/(x1 + x3) + 0.5*(-UGA_star + 1)*(2*UGA_star*(-M + T) + 2*(-M + P)*(-UGA_star + 1))*(-x1 - x2 - x3 + 1)/(-x1 - x3 + 1)) + x3_star*(0.25*x2*(-UgA_star + 1)*(2*UgA_star*(T - m) + 2*(P - m)*(-UgA_star + 1))/(-x1 - x3 + 1) + 0.5*(-UgA_star + 1)*(2*UgA_star*(T - m) + 2*(P - m)*(-UgA_star + 1))*(-x1 - x2 - x3 + 1)/(-x1 - x3 + 1)) + (-x1_star - x2_star - x3_star + 1)*(0.25*UgA_star*x1*(2*UgA_star*(R - m) + 2*(S - m)*(-UgA_star + 1))/(x1 + x3) + 0.5*UgA_star*x3*(2*UgA_star*(R - m) + 2*(S - m)*(-UgA_star + 1))/(x1 + x3) + 0.5*x2*(-UgA_star + 1)*(2*UgA_star*(T - m) + 2*(P - m)*(-UgA_star + 1))/(-x1 - x3 + 1) + 1.0*(-UgA_star + 1)*(2*UgA_star*(T - m) + 2*(P - m)*(-UgA_star + 1))*(-x1 - x2 - x3 + 1)/(-x1 - x3 + 1))]])"
      ]
     },
     "execution_count": 37,
     "metadata": {},
     "output_type": "execute_result"
    }
   ],
   "source": [
    "F"
   ]
  },
  {
   "cell_type": "markdown",
   "metadata": {},
   "source": [
    "## Tests!\n",
    "All of the following limits should exactly 0!"
   ]
  },
  {
   "cell_type": "code",
   "execution_count": 6,
   "metadata": {},
   "outputs": [
    {
     "data": {
      "text/plain": [
       "0"
      ]
     },
     "execution_count": 6,
     "metadata": {},
     "output_type": "execute_result"
    }
   ],
   "source": [
    "sym.limit(symbolics.equation_motion_GA_share(x1, 0, 0, UGA, UgA, T, R, P, S), x1, 1)"
   ]
  },
  {
   "cell_type": "code",
   "execution_count": 7,
   "metadata": {},
   "outputs": [
    {
     "data": {
      "text/plain": [
       "0"
      ]
     },
     "execution_count": 7,
     "metadata": {},
     "output_type": "execute_result"
    }
   ],
   "source": [
    "sym.limit(symbolics.equation_motion_GA_share(x1, 0, 0, UGA, UgA, T, R, P, S), x1, 0)"
   ]
  },
  {
   "cell_type": "code",
   "execution_count": 8,
   "metadata": {},
   "outputs": [
    {
     "data": {
      "text/plain": [
       "0"
      ]
     },
     "execution_count": 8,
     "metadata": {},
     "output_type": "execute_result"
    }
   ],
   "source": [
    "sym.limit(symbolics.equation_motion_Ga_share(x1, 0, 0, UGA, UgA, T, R, P, S), x1, 1)"
   ]
  },
  {
   "cell_type": "code",
   "execution_count": 9,
   "metadata": {},
   "outputs": [
    {
     "data": {
      "text/plain": [
       "0"
      ]
     },
     "execution_count": 9,
     "metadata": {},
     "output_type": "execute_result"
    }
   ],
   "source": [
    "sym.limit(symbolics.equation_motion_Ga_share(x1, 0, 0, UGA, UgA, T, R, P, S), x1, 0)"
   ]
  },
  {
   "cell_type": "code",
   "execution_count": 10,
   "metadata": {},
   "outputs": [
    {
     "data": {
      "text/plain": [
       "0"
      ]
     },
     "execution_count": 10,
     "metadata": {},
     "output_type": "execute_result"
    }
   ],
   "source": [
    "sym.limit(symbolics.equation_motion_gA_share(x1, 0, 0, UGA, UgA, T, R, P, S), x1, 1)"
   ]
  },
  {
   "cell_type": "code",
   "execution_count": 11,
   "metadata": {},
   "outputs": [
    {
     "data": {
      "text/plain": [
       "0"
      ]
     },
     "execution_count": 11,
     "metadata": {},
     "output_type": "execute_result"
    }
   ],
   "source": [
    "sym.limit(symbolics.equation_motion_gA_share(x1, 0, 0, UGA, UgA, T, R, P, S), x1, 0)"
   ]
  },
  {
   "cell_type": "code",
   "execution_count": 12,
   "metadata": {},
   "outputs": [
    {
     "data": {
      "text/plain": [
       "0"
      ]
     },
     "execution_count": 12,
     "metadata": {},
     "output_type": "execute_result"
    }
   ],
   "source": [
    "sym.limit(symbolics.equation_motion_ga_share(x1, 0, 0, UGA, UgA, T, R, P, S), x1, 1)"
   ]
  },
  {
   "cell_type": "code",
   "execution_count": 13,
   "metadata": {},
   "outputs": [
    {
     "data": {
      "text/plain": [
       "0"
      ]
     },
     "execution_count": 13,
     "metadata": {},
     "output_type": "execute_result"
    }
   ],
   "source": [
    "sym.limit(symbolics.equation_motion_ga_share(x1, 0, 0, UGA, UgA, T, R, P, S), x1, 0)"
   ]
  },
  {
   "cell_type": "markdown",
   "metadata": {},
   "source": [
    "The derivatives should sum to zero..."
   ]
  },
  {
   "cell_type": "code",
   "execution_count": 14,
   "metadata": {},
   "outputs": [
    {
     "data": {
      "text/plain": [
       "0"
      ]
     },
     "execution_count": 14,
     "metadata": {},
     "output_type": "execute_result"
    }
   ],
   "source": [
    "(symbolics.equation_motion_GA_share(x1, x2, x3, UGA, UgA, T, R, P, S) +\n",
    " symbolics.equation_motion_Ga_share(x1, x2, x3, UGA, UgA, T, R, P, S) + \n",
    " symbolics.equation_motion_gA_share(x1, x2, x3, UGA, UgA, T, R, P, S) +\n",
    " symbolics.equation_motion_ga_share(x1, x2, x3, UGA, UgA, T, R, P, S)).simplify()"
   ]
  },
  {
   "cell_type": "code",
   "execution_count": 27,
   "metadata": {
    "collapsed": true
   },
   "outputs": [],
   "source": [
    "sym.solve()"
   ]
  },
  {
   "cell_type": "code",
   "execution_count": 18,
   "metadata": {},
   "outputs": [],
   "source": [
    "sol, = sym.solve(symbolics.equation_motion_GA_share(x1, x2, x3, UGA, UgA, T, R, P, S), (x1, x2, x3), implicit=True)"
   ]
  },
  {
   "cell_type": "code",
   "execution_count": 19,
   "metadata": {},
   "outputs": [
    {
     "data": {
      "text/plain": [
       "dict_keys([x2])"
      ]
     },
     "execution_count": 19,
     "metadata": {},
     "output_type": "execute_result"
    }
   ],
   "source": [
    "sol.keys()"
   ]
  },
  {
   "cell_type": "code",
   "execution_count": 20,
   "metadata": {},
   "outputs": [
    {
     "data": {
      "text/plain": [
       "(2.0*P*((x1 + x2)*(-UGA(x1 + x3) + 1.0)**2 + (-UgA(x1 + x3) + 1.0)**2*(-x1 - x2 + 1.0)) + 2.0*R*((x1 + x2)*UGA(x1 + x3)**2 + (-x1 - x2 + 1.0)*UgA(x1 + x3)**2) + (2.0*S + 2.0*T)*((x1 + x2)*(-UGA(x1 + x3) + 1.0)*UGA(x1 + x3) + (-UgA(x1 + x3) + 1.0)*(-x1 - x2 + 1.0)*UgA(x1 + x3)))*(P*x1**2*(-UGA(x1 + x3) + 1.0)**2/((-x1 - x3 + 1.0)*(2.0*P*((x1 + x2)*(-UGA(x1 + x3) + 1.0)**2 + (-UgA(x1 + x3) + 1.0)**2*(-x1 - x2 + 1.0)) + 2.0*R*((x1 + x2)*UGA(x1 + x3)**2 + (-x1 - x2 + 1.0)*UgA(x1 + x3)**2) + (2.0*S + 2.0*T)*((x1 + x2)*(-UGA(x1 + x3) + 1.0)*UGA(x1 + x3) + (-UgA(x1 + x3) + 1.0)*(-x1 - x2 + 1.0)*UgA(x1 + x3)))) + P*x1*x3*(-UGA(x1 + x3) + 1.0)**2/((-x1 - x3 + 1.0)*(2.0*P*((x1 + x2)*(-UGA(x1 + x3) + 1.0)**2 + (-UgA(x1 + x3) + 1.0)**2*(-x1 - x2 + 1.0)) + 2.0*R*((x1 + x2)*UGA(x1 + x3)**2 + (-x1 - x2 + 1.0)*UgA(x1 + x3)**2) + (2.0*S + 2.0*T)*((x1 + x2)*(-UGA(x1 + x3) + 1.0)*UGA(x1 + x3) + (-UgA(x1 + x3) + 1.0)*(-x1 - x2 + 1.0)*UgA(x1 + x3)))) - P*x1*(-UGA(x1 + x3) + 1.0)**2/((-x1 - x3 + 1.0)*(2.0*P*((x1 + x2)*(-UGA(x1 + x3) + 1.0)**2 + (-UgA(x1 + x3) + 1.0)**2*(-x1 - x2 + 1.0)) + 2.0*R*((x1 + x2)*UGA(x1 + x3)**2 + (-x1 - x2 + 1.0)*UgA(x1 + x3)**2) + (2.0*S + 2.0*T)*((x1 + x2)*(-UGA(x1 + x3) + 1.0)*UGA(x1 + x3) + (-UgA(x1 + x3) + 1.0)*(-x1 - x2 + 1.0)*UgA(x1 + x3)))) - 4.0*R*x1**2*UGA(x1 + x3)**2/((x1 + x3)*(2.0*P*((x1 + x2)*(-UGA(x1 + x3) + 1.0)**2 + (-UgA(x1 + x3) + 1.0)**2*(-x1 - x2 + 1.0)) + 2.0*R*((x1 + x2)*UGA(x1 + x3)**2 + (-x1 - x2 + 1.0)*UgA(x1 + x3)**2) + (2.0*S + 2.0*T)*((x1 + x2)*(-UGA(x1 + x3) + 1.0)*UGA(x1 + x3) + (-UgA(x1 + x3) + 1.0)*(-x1 - x2 + 1.0)*UgA(x1 + x3)))) + R*x1**2*UgA(x1 + x3)**2/((x1 + x3)*(2.0*P*((x1 + x2)*(-UGA(x1 + x3) + 1.0)**2 + (-UgA(x1 + x3) + 1.0)**2*(-x1 - x2 + 1.0)) + 2.0*R*((x1 + x2)*UGA(x1 + x3)**2 + (-x1 - x2 + 1.0)*UgA(x1 + x3)**2) + (2.0*S + 2.0*T)*((x1 + x2)*(-UGA(x1 + x3) + 1.0)*UGA(x1 + x3) + (-UgA(x1 + x3) + 1.0)*(-x1 - x2 + 1.0)*UgA(x1 + x3)))) - 2.0*R*x1*x3*UGA(x1 + x3)**2/((x1 + x3)*(2.0*P*((x1 + x2)*(-UGA(x1 + x3) + 1.0)**2 + (-UgA(x1 + x3) + 1.0)**2*(-x1 - x2 + 1.0)) + 2.0*R*((x1 + x2)*UGA(x1 + x3)**2 + (-x1 - x2 + 1.0)*UgA(x1 + x3)**2) + (2.0*S + 2.0*T)*((x1 + x2)*(-UGA(x1 + x3) + 1.0)*UGA(x1 + x3) + (-UgA(x1 + x3) + 1.0)*(-x1 - x2 + 1.0)*UgA(x1 + x3)))) - R*x1*x3*UgA(x1 + x3)**2/((x1 + x3)*(2.0*P*((x1 + x2)*(-UGA(x1 + x3) + 1.0)**2 + (-UgA(x1 + x3) + 1.0)**2*(-x1 - x2 + 1.0)) + 2.0*R*((x1 + x2)*UGA(x1 + x3)**2 + (-x1 - x2 + 1.0)*UgA(x1 + x3)**2) + (2.0*S + 2.0*T)*((x1 + x2)*(-UGA(x1 + x3) + 1.0)*UGA(x1 + x3) + (-UgA(x1 + x3) + 1.0)*(-x1 - x2 + 1.0)*UgA(x1 + x3)))) - R*x1*UgA(x1 + x3)**2/((x1 + x3)*(2.0*P*((x1 + x2)*(-UGA(x1 + x3) + 1.0)**2 + (-UgA(x1 + x3) + 1.0)**2*(-x1 - x2 + 1.0)) + 2.0*R*((x1 + x2)*UGA(x1 + x3)**2 + (-x1 - x2 + 1.0)*UgA(x1 + x3)**2) + (2.0*S + 2.0*T)*((x1 + x2)*(-UGA(x1 + x3) + 1.0)*UGA(x1 + x3) + (-UgA(x1 + x3) + 1.0)*(-x1 - x2 + 1.0)*UgA(x1 + x3)))) + 4.0*S*x1**2*UGA(x1 + x3)**2/((x1 + x3)*(2.0*P*((x1 + x2)*(-UGA(x1 + x3) + 1.0)**2 + (-UgA(x1 + x3) + 1.0)**2*(-x1 - x2 + 1.0)) + 2.0*R*((x1 + x2)*UGA(x1 + x3)**2 + (-x1 - x2 + 1.0)*UgA(x1 + x3)**2) + (2.0*S + 2.0*T)*((x1 + x2)*(-UGA(x1 + x3) + 1.0)*UGA(x1 + x3) + (-UgA(x1 + x3) + 1.0)*(-x1 - x2 + 1.0)*UgA(x1 + x3)))) - 4.0*S*x1**2*UGA(x1 + x3)/((x1 + x3)*(2.0*P*((x1 + x2)*(-UGA(x1 + x3) + 1.0)**2 + (-UgA(x1 + x3) + 1.0)**2*(-x1 - x2 + 1.0)) + 2.0*R*((x1 + x2)*UGA(x1 + x3)**2 + (-x1 - x2 + 1.0)*UgA(x1 + x3)**2) + (2.0*S + 2.0*T)*((x1 + x2)*(-UGA(x1 + x3) + 1.0)*UGA(x1 + x3) + (-UgA(x1 + x3) + 1.0)*(-x1 - x2 + 1.0)*UgA(x1 + x3)))) - S*x1**2*UgA(x1 + x3)**2/((x1 + x3)*(2.0*P*((x1 + x2)*(-UGA(x1 + x3) + 1.0)**2 + (-UgA(x1 + x3) + 1.0)**2*(-x1 - x2 + 1.0)) + 2.0*R*((x1 + x2)*UGA(x1 + x3)**2 + (-x1 - x2 + 1.0)*UgA(x1 + x3)**2) + (2.0*S + 2.0*T)*((x1 + x2)*(-UGA(x1 + x3) + 1.0)*UGA(x1 + x3) + (-UgA(x1 + x3) + 1.0)*(-x1 - x2 + 1.0)*UgA(x1 + x3)))) + S*x1**2*UgA(x1 + x3)/((x1 + x3)*(2.0*P*((x1 + x2)*(-UGA(x1 + x3) + 1.0)**2 + (-UgA(x1 + x3) + 1.0)**2*(-x1 - x2 + 1.0)) + 2.0*R*((x1 + x2)*UGA(x1 + x3)**2 + (-x1 - x2 + 1.0)*UgA(x1 + x3)**2) + (2.0*S + 2.0*T)*((x1 + x2)*(-UGA(x1 + x3) + 1.0)*UGA(x1 + x3) + (-UgA(x1 + x3) + 1.0)*(-x1 - x2 + 1.0)*UgA(x1 + x3)))) + 2.0*S*x1*x3*UGA(x1 + x3)**2/((x1 + x3)*(2.0*P*((x1 + x2)*(-UGA(x1 + x3) + 1.0)**2 + (-UgA(x1 + x3) + 1.0)**2*(-x1 - x2 + 1.0)) + 2.0*R*((x1 + x2)*UGA(x1 + x3)**2 + (-x1 - x2 + 1.0)*UgA(x1 + x3)**2) + (2.0*S + 2.0*T)*((x1 + x2)*(-UGA(x1 + x3) + 1.0)*UGA(x1 + x3) + (-UgA(x1 + x3) + 1.0)*(-x1 - x2 + 1.0)*UgA(x1 + x3)))) - 2.0*S*x1*x3*UGA(x1 + x3)/((x1 + x3)*(2.0*P*((x1 + x2)*(-UGA(x1 + x3) + 1.0)**2 + (-UgA(x1 + x3) + 1.0)**2*(-x1 - x2 + 1.0)) + 2.0*R*((x1 + x2)*UGA(x1 + x3)**2 + (-x1 - x2 + 1.0)*UgA(x1 + x3)**2) + (2.0*S + 2.0*T)*((x1 + x2)*(-UGA(x1 + x3) + 1.0)*UGA(x1 + x3) + (-UgA(x1 + x3) + 1.0)*(-x1 - x2 + 1.0)*UgA(x1 + x3)))) + S*x1*x3*UgA(x1 + x3)**2/((x1 + x3)*(2.0*P*((x1 + x2)*(-UGA(x1 + x3) + 1.0)**2 + (-UgA(x1 + x3) + 1.0)**2*(-x1 - x2 + 1.0)) + 2.0*R*((x1 + x2)*UGA(x1 + x3)**2 + (-x1 - x2 + 1.0)*UgA(x1 + x3)**2) + (2.0*S + 2.0*T)*((x1 + x2)*(-UGA(x1 + x3) + 1.0)*UGA(x1 + x3) + (-UgA(x1 + x3) + 1.0)*(-x1 - x2 + 1.0)*UgA(x1 + x3)))) - S*x1*x3*UgA(x1 + x3)/((x1 + x3)*(2.0*P*((x1 + x2)*(-UGA(x1 + x3) + 1.0)**2 + (-UgA(x1 + x3) + 1.0)**2*(-x1 - x2 + 1.0)) + 2.0*R*((x1 + x2)*UGA(x1 + x3)**2 + (-x1 - x2 + 1.0)*UgA(x1 + x3)**2) + (2.0*S + 2.0*T)*((x1 + x2)*(-UGA(x1 + x3) + 1.0)*UGA(x1 + x3) + (-UgA(x1 + x3) + 1.0)*(-x1 - x2 + 1.0)*UgA(x1 + x3)))) + S*x1*UgA(x1 + x3)**2/((x1 + x3)*(2.0*P*((x1 + x2)*(-UGA(x1 + x3) + 1.0)**2 + (-UgA(x1 + x3) + 1.0)**2*(-x1 - x2 + 1.0)) + 2.0*R*((x1 + x2)*UGA(x1 + x3)**2 + (-x1 - x2 + 1.0)*UgA(x1 + x3)**2) + (2.0*S + 2.0*T)*((x1 + x2)*(-UGA(x1 + x3) + 1.0)*UGA(x1 + x3) + (-UgA(x1 + x3) + 1.0)*(-x1 - x2 + 1.0)*UgA(x1 + x3)))) - S*x1*UgA(x1 + x3)/((x1 + x3)*(2.0*P*((x1 + x2)*(-UGA(x1 + x3) + 1.0)**2 + (-UgA(x1 + x3) + 1.0)**2*(-x1 - x2 + 1.0)) + 2.0*R*((x1 + x2)*UGA(x1 + x3)**2 + (-x1 - x2 + 1.0)*UgA(x1 + x3)**2) + (2.0*S + 2.0*T)*((x1 + x2)*(-UGA(x1 + x3) + 1.0)*UGA(x1 + x3) + (-UgA(x1 + x3) + 1.0)*(-x1 - x2 + 1.0)*UgA(x1 + x3)))) - T*x1**2*UGA(x1 + x3)**2/((-x1 - x3 + 1.0)*(2.0*P*((x1 + x2)*(-UGA(x1 + x3) + 1.0)**2 + (-UgA(x1 + x3) + 1.0)**2*(-x1 - x2 + 1.0)) + 2.0*R*((x1 + x2)*UGA(x1 + x3)**2 + (-x1 - x2 + 1.0)*UgA(x1 + x3)**2) + (2.0*S + 2.0*T)*((x1 + x2)*(-UGA(x1 + x3) + 1.0)*UGA(x1 + x3) + (-UgA(x1 + x3) + 1.0)*(-x1 - x2 + 1.0)*UgA(x1 + x3)))) + T*x1**2*UGA(x1 + x3)/((-x1 - x3 + 1.0)*(2.0*P*((x1 + x2)*(-UGA(x1 + x3) + 1.0)**2 + (-UgA(x1 + x3) + 1.0)**2*(-x1 - x2 + 1.0)) + 2.0*R*((x1 + x2)*UGA(x1 + x3)**2 + (-x1 - x2 + 1.0)*UgA(x1 + x3)**2) + (2.0*S + 2.0*T)*((x1 + x2)*(-UGA(x1 + x3) + 1.0)*UGA(x1 + x3) + (-UgA(x1 + x3) + 1.0)*(-x1 - x2 + 1.0)*UgA(x1 + x3)))) - T*x1*x3*UGA(x1 + x3)**2/((-x1 - x3 + 1.0)*(2.0*P*((x1 + x2)*(-UGA(x1 + x3) + 1.0)**2 + (-UgA(x1 + x3) + 1.0)**2*(-x1 - x2 + 1.0)) + 2.0*R*((x1 + x2)*UGA(x1 + x3)**2 + (-x1 - x2 + 1.0)*UgA(x1 + x3)**2) + (2.0*S + 2.0*T)*((x1 + x2)*(-UGA(x1 + x3) + 1.0)*UGA(x1 + x3) + (-UgA(x1 + x3) + 1.0)*(-x1 - x2 + 1.0)*UgA(x1 + x3)))) + T*x1*x3*UGA(x1 + x3)/((-x1 - x3 + 1.0)*(2.0*P*((x1 + x2)*(-UGA(x1 + x3) + 1.0)**2 + (-UgA(x1 + x3) + 1.0)**2*(-x1 - x2 + 1.0)) + 2.0*R*((x1 + x2)*UGA(x1 + x3)**2 + (-x1 - x2 + 1.0)*UgA(x1 + x3)**2) + (2.0*S + 2.0*T)*((x1 + x2)*(-UGA(x1 + x3) + 1.0)*UGA(x1 + x3) + (-UgA(x1 + x3) + 1.0)*(-x1 - x2 + 1.0)*UgA(x1 + x3)))) + T*x1*UGA(x1 + x3)**2/((-x1 - x3 + 1.0)*(2.0*P*((x1 + x2)*(-UGA(x1 + x3) + 1.0)**2 + (-UgA(x1 + x3) + 1.0)**2*(-x1 - x2 + 1.0)) + 2.0*R*((x1 + x2)*UGA(x1 + x3)**2 + (-x1 - x2 + 1.0)*UgA(x1 + x3)**2) + (2.0*S + 2.0*T)*((x1 + x2)*(-UGA(x1 + x3) + 1.0)*UGA(x1 + x3) + (-UgA(x1 + x3) + 1.0)*(-x1 - x2 + 1.0)*UgA(x1 + x3)))) - T*x1*UGA(x1 + x3)/((-x1 - x3 + 1.0)*(2.0*P*((x1 + x2)*(-UGA(x1 + x3) + 1.0)**2 + (-UgA(x1 + x3) + 1.0)**2*(-x1 - x2 + 1.0)) + 2.0*R*((x1 + x2)*UGA(x1 + x3)**2 + (-x1 - x2 + 1.0)*UgA(x1 + x3)**2) + (2.0*S + 2.0*T)*((x1 + x2)*(-UGA(x1 + x3) + 1.0)*UGA(x1 + x3) + (-UgA(x1 + x3) + 1.0)*(-x1 - x2 + 1.0)*UgA(x1 + x3)))) + 2.0*x1)/(P*x1*(-UGA(x1 + x3) + 1.0)**2/(-x1 - x3 + 1.0) + P*x3*(-UgA(x1 + x3) + 1.0)**2/(-x1 - x3 + 1.0) + 2.0*R*x1*UGA(x1 + x3)**2/(x1 + x3) - R*x1*UgA(x1 + x3)**2/(x1 + x3) + R*x3*UGA(x1 + x3)**2/(x1 + x3) - 2.0*S*x1*UGA(x1 + x3)**2/(x1 + x3) + 2.0*S*x1*UGA(x1 + x3)/(x1 + x3) + S*x1*UgA(x1 + x3)**2/(x1 + x3) - S*x1*UgA(x1 + x3)/(x1 + x3) - S*x3*UGA(x1 + x3)**2/(x1 + x3) + S*x3*UGA(x1 + x3)/(x1 + x3) - T*x1*UGA(x1 + x3)**2/(-x1 - x3 + 1.0) + T*x1*UGA(x1 + x3)/(-x1 - x3 + 1.0) - T*x3*UgA(x1 + x3)**2/(-x1 - x3 + 1.0) + T*x3*UgA(x1 + x3)/(-x1 - x3 + 1.0))"
      ]
     },
     "execution_count": 20,
     "metadata": {},
     "output_type": "execute_result"
    }
   ],
   "source": [
    "sol[x2]"
   ]
  },
  {
   "cell_type": "code",
   "execution_count": 9,
   "metadata": {
    "collapsed": true
   },
   "outputs": [],
   "source": [
    "sol, = sym.solve(equation_motion_Ga_share(x1, x2, x3, UGA, UgA, T, R, P, S), (x1, x2, x3), implicit=True)"
   ]
  },
  {
   "cell_type": "code",
   "execution_count": 10,
   "metadata": {},
   "outputs": [
    {
     "data": {
      "text/plain": [
       "dict_keys([x3])"
      ]
     },
     "execution_count": 10,
     "metadata": {},
     "output_type": "execute_result"
    }
   ],
   "source": [
    "sol.keys()"
   ]
  },
  {
   "cell_type": "markdown",
   "metadata": {},
   "source": [
    "# Stability analysis"
   ]
  },
  {
   "cell_type": "code",
   "execution_count": 176,
   "metadata": {
    "collapsed": true
   },
   "outputs": [],
   "source": [
    "rhs = sym.Matrix([symbolics.equation_motion_GA_share(x1, x2, x3, UGA, UgA, T, R, P, S),\n",
    "                  symbolics.equation_motion_Ga_share(x1, x2, x3, UGA, UgA, T, R, P, S),\n",
    "                  symbolics.equation_motion_gA_share(x1, x2, x3, UGA, UgA, T, R, P, S)])"
   ]
  },
  {
   "cell_type": "code",
   "execution_count": 177,
   "metadata": {
    "collapsed": true
   },
   "outputs": [],
   "source": [
    "rhs_jac = rhs.jacobian([x1, x2, x3])"
   ]
  },
  {
   "cell_type": "code",
   "execution_count": 178,
   "metadata": {},
   "outputs": [],
   "source": [
    "evaluated_jac = (rhs_jac.subs({x1: 0, x2:0, m:0})\n",
    "                        .subs({UGA(x3): 1, UgA(x3): 1})\n",
    "                        .doit()\n",
    "                        .subs({sym.Derivative(UgA(x3), x3): 1})\n",
    "                        .subs({x3: 1}))"
   ]
  },
  {
   "cell_type": "code",
   "execution_count": 180,
   "metadata": {},
   "outputs": [],
   "source": [
    "eigenvals = evaluated_jac.eigenvals()"
   ]
  },
  {
   "cell_type": "code",
   "execution_count": 181,
   "metadata": {
    "collapsed": true
   },
   "outputs": [],
   "source": [
    "e1, e2, e3 = eigenvals.keys()"
   ]
  },
  {
   "cell_type": "code",
   "execution_count": 182,
   "metadata": {},
   "outputs": [
    {
     "data": {
      "text/plain": [
       "-3/4"
      ]
     },
     "execution_count": 182,
     "metadata": {},
     "output_type": "execute_result"
    }
   ],
   "source": [
    "e1"
   ]
  },
  {
   "cell_type": "code",
   "execution_count": 183,
   "metadata": {},
   "outputs": [
    {
     "data": {
      "text/plain": [
       "-(R - T)/(2*R)"
      ]
     },
     "execution_count": 183,
     "metadata": {},
     "output_type": "execute_result"
    }
   ],
   "source": [
    "e2"
   ]
  },
  {
   "cell_type": "code",
   "execution_count": 184,
   "metadata": {},
   "outputs": [
    {
     "data": {
      "text/plain": [
       "0"
      ]
     },
     "execution_count": 184,
     "metadata": {},
     "output_type": "execute_result"
    }
   ],
   "source": [
    "e3"
   ]
  },
  {
   "cell_type": "markdown",
   "metadata": {},
   "source": [
    "## GA corner equilibrium"
   ]
  },
  {
   "cell_type": "code",
   "execution_count": 17,
   "metadata": {
    "collapsed": true
   },
   "outputs": [],
   "source": [
    "evaluated_jac = sym.zeros(3, 3)\n",
    "\n",
    "for i in range(3):\n",
    "    for j in range(3):\n",
    "        tmp_expr = rhs_jac[i, j].subs({x1: 1, x2: 0, x3: 0})\n",
    "        if isinstance(tmp_expr, sym.numbers.NaN):\n",
    "            tmp_expr = sym.limit(rhs_jac[i, j].subs({x2: 0, x3: 0}), x1, 1)\n",
    "        evaluated_jac[i, j] = tmp_expr"
   ]
  },
  {
   "cell_type": "code",
   "execution_count": 18,
   "metadata": {},
   "outputs": [
    {
     "data": {
      "text/plain": [
       "{-(R - T*Subs(Derivative(UGA(_xi_1), _xi_1), (_xi_1,), (1,)))/(2*R): 1,\n",
       " -(3*R - T*Subs(Derivative(UGA(_xi_1), _xi_1), (_xi_1,), (1,)))/(4*R): 1,\n",
       " 0: 1}"
      ]
     },
     "execution_count": 18,
     "metadata": {},
     "output_type": "execute_result"
    }
   ],
   "source": [
    "evaluated_jac.eigenvals()"
   ]
  },
  {
   "cell_type": "markdown",
   "metadata": {},
   "source": [
    "Necessary conditions for stability are that both non-zero eigenvalues are strictly negative.  We can derive the following necessary conditions...\n",
    "\n",
    "\\begin{align}\n",
    "    U_{GA}'(1) < \\frac{3 R}{T}\n",
    "\\end{align}"
   ]
  },
  {
   "cell_type": "markdown",
   "metadata": {},
   "source": [
    "...and...\n",
    "\n",
    "\\begin{align}\n",
    "    U_{GA}'(1) < \\frac{R}{T} < 1\n",
    "\\end{align}\n",
    "\n",
    "...note that the second condition implies the first.\n",
    "\n",
    "Note that, since one of the above eigenvalues is zero, the above conditions are actually necessary and *sufficient* for the stability of a mixed $\\gamma$ pure $\\alpha=A$ equilibrium."
   ]
  },
  {
   "cell_type": "markdown",
   "metadata": {},
   "source": [
    "## Ga corner equilbrium\n"
   ]
  },
  {
   "cell_type": "code",
   "execution_count": 19,
   "metadata": {
    "collapsed": true
   },
   "outputs": [],
   "source": [
    "evaluated_jac = sym.zeros(3, 3)\n",
    "\n",
    "for i in range(3):\n",
    "    for j in range(3):\n",
    "        tmp_expr = rhs_jac[i, j].subs({x1: 0, x2: 1, x3: 0})\n",
    "        if isinstance(tmp_expr, sym.numbers.NaN):\n",
    "            tmp_expr = rhs_jac[i, j].subs({x1: 0, x2: 1}).simplify()\n",
    "            numer, denom = sym.fraction(tmp_expr)\n",
    "            evaluated_jac[i, j] = numer.diff(x3).subs({x3: 0}) / denom.diff(x3).subs({x3: 0})\n",
    "        else:\n",
    "            evaluated_jac[i, j] = tmp_expr"
   ]
  },
  {
   "cell_type": "code",
   "execution_count": 20,
   "metadata": {},
   "outputs": [
    {
     "data": {
      "text/plain": [
       "{-(P - S*Subs(Derivative(UGA(_xi_1), _xi_1), (_xi_1,), (0,)))/(2*P): 1,\n",
       " -(3*P - S*Subs(Derivative(UGA(_xi_1), _xi_1), (_xi_1,), (0,)))/(4*P): 1,\n",
       " 0: 1}"
      ]
     },
     "execution_count": 20,
     "metadata": {},
     "output_type": "execute_result"
    }
   ],
   "source": [
    "evaluated_jac.eigenvals()"
   ]
  },
  {
   "cell_type": "markdown",
   "metadata": {},
   "source": [
    "Necessary conditions for stability are that both non-zero eigenvalues are strictly negative.  We can derive the following necessary conditions...\n",
    "\n",
    "\\begin{align}\n",
    "    U'_{GA}(0) < \\frac{P}{S}\n",
    "\\end{align}\n",
    "\n",
    "...and...\n",
    "\n",
    "\\begin{align}\n",
    "    U'_{GA}(0) < \\frac{3P}{S}\n",
    "\\end{align}\n",
    "\n",
    "...note that the first inequality above implies the second.\n",
    "\n",
    "Note that, since one of the above eigenvalues is zero, the above conditions are actually necessary and *sufficient* for the stability of a mixed $\\gamma$ pure $\\alpha=a$ equilibrium. This is an example of neutral stability."
   ]
  },
  {
   "cell_type": "markdown",
   "metadata": {},
   "source": [
    "## gA corner equilbrium"
   ]
  },
  {
   "cell_type": "code",
   "execution_count": 21,
   "metadata": {
    "collapsed": true
   },
   "outputs": [],
   "source": [
    "evaluated_jac = sym.zeros(3, 3)\n",
    "\n",
    "for i in range(3):\n",
    "    for j in range(3):\n",
    "        tmp_expr = rhs_jac[i, j].subs({x1: 0, x2: 0, x3: 1})\n",
    "        if isinstance(tmp_expr, sym.numbers.NaN):\n",
    "            tmp_expr = sym.limit(rhs_jac[i, j].subs({x1: 0, x2: 0}), x3, 1)\n",
    "        evaluated_jac[i, j] = tmp_expr"
   ]
  },
  {
   "cell_type": "code",
   "execution_count": 22,
   "metadata": {},
   "outputs": [
    {
     "data": {
      "text/plain": [
       "{-(R - T*Subs(Derivative(UgA(_xi_1), _xi_1), (_xi_1,), (1,)))/(2*R): 1,\n",
       " -(3*R - T*Subs(Derivative(UgA(_xi_1), _xi_1), (_xi_1,), (1,)))/(4*R): 1,\n",
       " 0: 1}"
      ]
     },
     "execution_count": 22,
     "metadata": {},
     "output_type": "execute_result"
    }
   ],
   "source": [
    "evaluated_jac.eigenvals()"
   ]
  },
  {
   "cell_type": "markdown",
   "metadata": {},
   "source": [
    "Necessary conditions for stability are that both non-zero eigenvalues are strictly negative. This implies the following set of conditions...\n",
    "\n",
    "\\begin{align}\n",
    "    U_{gA}'(1) < \\frac{3 R}{T}\n",
    "\\end{align}\n",
    "\n",
    "\\begin{align}\n",
    "    U_{gA}'(1) < \\frac{R}{T} < 1\n",
    "\\end{align}\n",
    "\n",
    "...note that this second condition implies the first. Again, presence of zero eigenvalue indicates that the above conditions are necessary and sufficient for stability of a mixed $\\gamma$ pure $A$ equilibrium."
   ]
  },
  {
   "cell_type": "markdown",
   "metadata": {},
   "source": [
    "## ga corner equilbrium"
   ]
  },
  {
   "cell_type": "code",
   "execution_count": 23,
   "metadata": {
    "collapsed": true
   },
   "outputs": [],
   "source": [
    "evaluated_jac = sym.zeros(3, 3)\n",
    "\n",
    "for i in range(3):\n",
    "    for j in range(3):\n",
    "        tmp_expr = rhs_jac[i, j].subs({x1: 0, x2: 0, x3: 0})\n",
    "        if isinstance(tmp_expr, sym.numbers.NaN):\n",
    "            tmp_expr = rhs_jac[i, j].subs({x1: 0, x2: 0}).simplify()\n",
    "            numer, denom = sym.fraction(tmp_expr)\n",
    "            evaluated_jac[i, j] = numer.diff(x3).subs({x3: 0}) / denom.diff(x3).subs({x3: 0})\n",
    "        else:\n",
    "            evaluated_jac[i, j] = tmp_expr"
   ]
  },
  {
   "cell_type": "code",
   "execution_count": 24,
   "metadata": {},
   "outputs": [
    {
     "data": {
      "text/plain": [
       "{-(P - S*Subs(Derivative(UgA(_xi_1), _xi_1), (_xi_1,), (0,)))/(2*P): 1,\n",
       " -(3*P - S*Subs(Derivative(UgA(x3), x3), (x3,), (0,)))/(4*P): 1,\n",
       " 0: 1}"
      ]
     },
     "execution_count": 24,
     "metadata": {},
     "output_type": "execute_result"
    }
   ],
   "source": [
    "evaluated_jac.eigenvals()"
   ]
  },
  {
   "cell_type": "markdown",
   "metadata": {},
   "source": [
    "Necessary conditions for stability are that both non-zero eigenvalues are strictly negative.  We can derive the following necessary conditions...\n",
    "\n",
    "\\begin{align}\n",
    "    U'_{gA}(0) < \\frac{P}{S}\n",
    "\\end{align}\n",
    "\n",
    "...and...\n",
    "\n",
    "\\begin{align}\n",
    "    U'_{gA}(0) < \\frac{3P}{S}\n",
    "\\end{align}\n",
    "\n",
    "...note that the first inequality above implies the second.\n",
    "\n",
    "Note that, since one of the above eigenvalues is zero, the above conditions are actually necessary and *sufficient* for the stability of a mixed $\\gamma$ pure $\\alpha=a$ equilibrium."
   ]
  },
  {
   "cell_type": "code",
   "execution_count": null,
   "metadata": {
    "collapsed": true
   },
   "outputs": [],
   "source": []
  }
 ],
 "metadata": {
  "kernelspec": {
   "display_name": "Python 3",
   "language": "python",
   "name": "python3"
  },
  "language_info": {
   "codemirror_mode": {
    "name": "ipython",
    "version": 3
   },
   "file_extension": ".py",
   "mimetype": "text/x-python",
   "name": "python",
   "nbconvert_exporter": "python",
   "pygments_lexer": "ipython3",
   "version": "3.6.3"
  }
 },
 "nbformat": 4,
 "nbformat_minor": 1
}
