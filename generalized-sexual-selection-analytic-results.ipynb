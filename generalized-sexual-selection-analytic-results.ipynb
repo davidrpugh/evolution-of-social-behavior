{
 "cells": [
  {
   "cell_type": "code",
   "execution_count": 1,
   "metadata": {
    "collapsed": true
   },
   "outputs": [],
   "source": [
    "import sympy as sym"
   ]
  },
  {
   "cell_type": "markdown",
   "metadata": {},
   "source": [
    "# Generalized Sexual Selection"
   ]
  },
  {
   "cell_type": "code",
   "execution_count": 2,
   "metadata": {
    "collapsed": true
   },
   "outputs": [],
   "source": [
    "class U(sym.Function):\n",
    "    \"\"\"Generic matching function\"\"\"\n",
    "    \n",
    "    is_real = True\n",
    "    \n",
    "    @classmethod\n",
    "    def eval(cls, x):\n",
    "        \"\"\"We require the U(0)=0 and U(1)=1\"\"\"\n",
    "        if x.is_Number and x is sym.S.Zero:\n",
    "            return sym.S.Zero\n",
    "        elif x.is_Number and x is sym.S.One:\n",
    "            return sym.S.One\n",
    "\n",
    "        \n",
    "class UGA(U):\n",
    "    \"\"\"Matching function for G males.\"\"\"\n",
    "    \n",
    "\n",
    "class UgA(U):\n",
    "    \"\"\"Matching function for g males.\"\"\"\n"
   ]
  },
  {
   "cell_type": "code",
   "execution_count": 3,
   "metadata": {
    "collapsed": true
   },
   "outputs": [],
   "source": [
    "x1, x2, x3 = sym.symbols('x1, x2, x3')\n",
    "T, R, P, S = sym.symbols('T, R, P, S')"
   ]
  },
  {
   "cell_type": "code",
   "execution_count": 4,
   "metadata": {
    "collapsed": true
   },
   "outputs": [],
   "source": [
    "def N(x1, x2, x3, UGA, UgA, T, R, P, S):\n",
    "    out = (\n",
    "           2 * R *((x1 + x2) * UGA(x1 + x3)**2 + (1 - (x1 + x2)) * UgA(x1 + x3)**2) +\n",
    "           2 * P * ((x1 + x2) * (1 - UGA(x1 + x3))**2 + (1 - (x1 + x2)) * (1 - UgA(x1 + x3))**2) +\n",
    "           2 * (S + T) * ((x1 + x2) * UGA(x1 + x3) * (1 - UGA(x1 + x3)) + (1 - (x1 + x2)) * UgA(x1 + x3) * (1 - UgA(x1 + x3)))\n",
    "          )\n",
    "    return out"
   ]
  },
  {
   "cell_type": "code",
   "execution_count": 5,
   "metadata": {
    "collapsed": true
   },
   "outputs": [],
   "source": [
    "def equation_motion_GA_share(x1, x2, x3, UGA, UgA, T, R, P, S):\n",
    "    numerator = (\n",
    "                 x1 * UGA(x1 + x3)**2 * (1) * x1 / (x1 + x3) * 2*R +  # 2*R\n",
    "                 x1 * UGA(x1 + x3)**2 * (1/2) * x3 / (x1 + x3) * 2*R + # 0\n",
    "\n",
    "                 x1 * (1 - UGA(x1 + x3))**2 * (1/2) * x2 / (1 - x1 - x3) * 2*P + # 0\n",
    "                 x1 * (1 - UGA(x1 + x3))**2 * (1/4) * (1 - x1 - x2 - x3) / (1 - x1 - x3) * 2*P + # 0\n",
    "\n",
    "                 x1 * 2 * UGA(x1 + x3) * (1 - UGA(x1 + x3)) * (1) * x1 / (x1 + x3) * S + # 0\n",
    "                 x1 * 2 * UGA(x1 + x3) * (1 - UGA(x1 + x3)) * (1/2) * x3 / (x1 + x3) * S + # 0\n",
    "                 x1 * 2 * UGA(x1 + x3) * (1 - UGA(x1 + x3)) * (1/2) * x2 / (1 - x1 - x3) * T + # 0\n",
    "                 x1 * 2 * UGA(x1 + x3) * (1 - UGA(x1 + x3)) * (1/4) * (1 - x1 - x2 - x3) / (1 - x1 - x3) * T + # 0\n",
    "\n",
    "                 x2 * UGA(x1 + x3)**2 * (1/2) * x1 / (x1 + x3) * 2*R + # 0\n",
    "                 x2 * UGA(x1 + x3)**2 * (1/4) * x3 / (x1 + x3) * 2*R + # 0\n",
    "\n",
    "                 x2 * (1 - UGA(x1 + x3))**2 * (0) + # 0\n",
    "\n",
    "                 x2 * 2 * UGA(x1 + x3) * (1 - UGA(x1 + x3)) * (1/2) * x1 / (x1 + x3) * S + # 0\n",
    "                 x2 * 2 * UGA(x1 + x3) * (1 - UGA(x1 + x3)) * (1/4) * x3 / (x1 + x3) * S + # 0\n",
    "\n",
    "                 x3 * UgA(x1 + x3)**2 * (1/2) * x1 / (x1 + x3) * 2*R + # 0\n",
    "\n",
    "                 x3 * (1 - UgA(x1 + x3))**2 * (1/4) * x2 / (1 - x1 - x3) * 2* P + # 0\n",
    "\n",
    "                 x3 * 2 * UgA(x1 + x3) * (1 - UgA(x1 + x3)) * (1/2) * x1 / (x1 + x3) * S + # 0\n",
    "                 x3 * 2 * UgA(x1 + x3) * (1 - UgA(x1 + x3)) * (1/4) * x2 / (1 - x1 - x3) * T + # 0\n",
    "\n",
    "                 (1 - x1 - x2 - x3) * UgA(x1 + x3)**2 * (1/4) * x1 / (x1 + x3) * 2*R + # 0\n",
    "\n",
    "                 (1 - x1 - x2 - x3) * (1 - UgA(x1 + x3))**2 * (0) + # 0\n",
    "\n",
    "                 (1 - x1 - x2 - x3) * 2 * UgA(x1 + x3) * (1 - UgA(x1 + x3)) * (1/4) * x1 / (x1 + x3) * S # 0\n",
    "                 )\n",
    "\n",
    "    x1_dot = (numerator / N(x1, x2, x3, UGA, UgA, T, R, P, S)) - x1\n",
    "    return x1_dot\n",
    "\n",
    "def equation_motion_Ga_share(x1, x2, x3, UGA, UgA, T, R, P, S):\n",
    "    numerator = (\n",
    "                 x1 * UGA(x1 + x3)**2 * (0) +\n",
    "\n",
    "                 x1 * (1 - UGA(x1 + x3))**2 * (1/2) * x2 / (1 - x1 - x3) * 2*P +\n",
    "                 x1 * (1 - UGA(x1 + x3))**2 * (1/4) * (1 - x1 - x2 - x3) / (1 - x1 - x3) * 2*P +\n",
    "\n",
    "                 x1 * 2 * UGA(x1 + x3) * (1 - UGA(x1 + x3)) * (1/2) * x2 / (1 - x1 - x3) * T +\n",
    "                 x1 * 2 * UGA(x1 + x3) * (1 - UGA(x1 + x3)) * (1/4) * (1 - x1 - x2 - x3) / (1 - x1 - x3) * T +\n",
    "\n",
    "                 x2 * UGA(x1 + x3)**2 * (1/2) * x1 / (x1 + x3) * 2*R +\n",
    "                 x2 * UGA(x1 + x3)**2 * (1/4) * x3 / (x1 + x3) * 2*R +\n",
    "\n",
    "                 x2 * (1 - UGA(x1 + x3))**2 * (1) * x2 / (1 - x1 - x3) * 2*P +\n",
    "                 x2 * (1 - UGA(x1 + x3))**2 * (1/2) * (1 - x1 - x2 - x3) / (1 - x1 - x3) * 2*P +\n",
    "\n",
    "                 x2 * 2 * UGA(x1 + x3) * (1 - UGA(x1 + x3)) * (1/2) * x1 / (x1 + x3) * S +\n",
    "                 x2 * 2 * UGA(x1 + x3) * (1 - UGA(x1 + x3)) * (1/4) * x3 / (x1 + x3) * S +\n",
    "                 x2 * 2 * UGA(x1 + x3) * (1 - UGA(x1 + x3)) * (1) * x2 / (1 - x1 - x3) * T +\n",
    "                 x2 * 2 * UGA(x1 + x3) * (1 - UGA(x1 + x3)) * (1/2) * (1 - x1 - x2 - x3) / (1 - x1 - x3) * T +\n",
    "\n",
    "                 x3 * UgA(x1 + x3)**2 * (0) +\n",
    "\n",
    "                 x3 * (1 - UgA(x1 + x3))**2 * (1/4) * x2 / (1 - x1 - x3) * 2*P +\n",
    "\n",
    "                 x3 * 2 * UgA(x1 + x3) * (1 - UgA(x1 + x3)) * (1/4) * x2 / (1 - x1 - x3) * T +\n",
    "\n",
    "                 (1 - x1 - x2 - x3) * UgA(x1 + x3)**2 * (1/4) * x1 / (x1 + x3) * 2*R +\n",
    "\n",
    "                 (1 - x1 - x2 - x3) * (1 - UgA(x1 + x3))**2 * (1/2) * x2 / (1 - x1 - x3) * 2*P +\n",
    "\n",
    "                 (1 - x1 - x2 - x3) * 2 * UgA(x1 + x3) * (1 - UgA(x1 + x3)) * (1/4) * x1 / (x1 + x3) * S +\n",
    "                 (1 - x1 - x2 - x3) * 2 * UgA(x1 + x3) * (1 - UgA(x1 + x3)) * (1/2) * x2 / (1 - x1 - x3) * T\n",
    "\n",
    "                 )\n",
    "\n",
    "    x2_dot = (numerator / N(x1, x2, x3, UGA, UgA, T, R, P, S)) - x2\n",
    "    return x2_dot\n",
    "\n",
    "\n",
    "\n",
    "def equation_motion_gA_share(x1, x2, x3, UGA, UgA, T, R, P, S):\n",
    "    numerator = (\n",
    "                 x1 * UGA(x1 + x3)**2 * (1/2) * x3 / (x1 + x3) * 2*R +\n",
    "\n",
    "                 x1 * (1 - UGA(x1 + x3))**2 * (1/4) * (1 - x1 - x2 - x3) / (1 - x1 - x3) * 2*P +\n",
    "\n",
    "                 x1 * 2 * UGA(x1 + x3) * (1 - UGA(x1 + x3)) * (1/2) * x3 / (x1 + x3) * S +\n",
    "                 x1 * 2 * UGA(x1 + x3) * (1 - UGA(x1 + x3)) * (1/4) * (1 - x1 - x2 - x3) / (1 - x1 - x3) * T +\n",
    "\n",
    "                 x2 * UGA(x1 + x3)**2 * (1/4) * x3 / (x1 + x3) * 2*R +\n",
    "\n",
    "                 x2 * (1 - UGA(x1 + x3))**2 * (0) +\n",
    "\n",
    "                 x2 * 2 * UGA(x1 + x3) * (1 - UGA(x1 + x3)) * (1/4) * x3 / (x1 + x3) * S +\n",
    "\n",
    "                 x3 * UgA(x1 + x3)**2 * (1/2) * x1 / (x1 + x3) * 2*R +\n",
    "                 x3 * UgA(x1 + x3)**2 * (1) * x3 / (x1 + x3) * 2*R +\n",
    "\n",
    "                 x3 * (1 - UgA(x1 + x3))**2 * (1/4) * x2 / (1 - x1 - x3) * 2*P +\n",
    "                 x3 * (1 - UgA(x1 + x3))**2 * (1/2) * (1 - x1 - x2 - x3) / (1 - x1 - x3) * 2*P +\n",
    "\n",
    "                 x3 * 2 * UgA(x1 + x3) * (1 - UgA(x1 + x3)) * (1/2) * x1 / (x1 + x3) * S +\n",
    "                 x3 * 2 * UgA(x1 + x3) * (1 - UgA(x1 + x3)) * (1) * x3 / (x1 + x3) * S +\n",
    "                 x3 * 2 * UgA(x1 + x3) * (1 - UgA(x1 + x3)) * (1/4) * x2 / (1 - x1 - x3) * T +\n",
    "                 x3 * 2 * UgA(x1 + x3) * (1 - UgA(x1 + x3)) * (1/2) * (1 - x1 - x2 - x3) / (1 - x1 - x3) * T +\n",
    "\n",
    "                 (1 - x1 - x2 - x3) * UgA(x1 + x3)**2 * (1/4) * x1 / (x1 + x3) * 2*R +\n",
    "                 (1 - x1 - x2 - x3) * UgA(x1 + x3)**2 * (1/2) * x3 / (x1 + x3) * 2*R +\n",
    "\n",
    "                 (1 - x1 - x2 - x3) * (1 - UgA(x1 + x3))**2 * (0) +\n",
    "\n",
    "                 (1 - x1 - x2 - x3) * 2 * UgA(x1 + x3) * (1 - UgA(x1 + x3)) * (1/4) * x1 / (x1 + x3) * S +\n",
    "                 (1 - x1 - x2 - x3) * 2 * UgA(x1 + x3) * (1 - UgA(x1 + x3)) * (1/2) * x3 / (x1 + x3) * S\n",
    "\n",
    "                 )\n",
    "\n",
    "    x3_dot = (numerator / N(x1, x2, x3, UGA, UgA, T, R, P, S)) - x3\n",
    "    return x3_dot\n",
    "\n",
    "\n",
    "def equation_motion_ga_share(x1, x2, x3, UGA, UgA, T, R, P, S):\n",
    "    numerator = (\n",
    "                 x1 * UGA(x1 + x3)**2 * (0) +\n",
    "\n",
    "                 x1 * (1 - UGA(x1 + x3))**2 * (1/4) * (1 - x1 - x2 - x3) / (1 - x1 - x3) * 2*P +\n",
    "\n",
    "                 x1 * 2 * UGA(x1 + x3) * (1 - UGA(x1 + x3)) * (1/4) * (1 - x1 - x2 - x3) / (1 - x1 - x3) * T +\n",
    "\n",
    "                 x2 * UGA(x1 + x3)**2 * (1/4) * x3 / (x1 + x3) * 2*R +\n",
    "\n",
    "                 x2 * (1 - UGA(x1 + x3))**2 * (1/2) * (1 - x1 - x2 - x3) / (1 - x1 - x3) * 2*P +\n",
    "\n",
    "                 x2 * 2 * UGA(x1 + x3) * (1 - UGA(x1 + x3)) * (1/4) * x3 / (x1 + x3) * S +\n",
    "                 x2 * 2 * UGA(x1 + x3) * (1 - UGA(x1 + x3)) * (1/2) * (1 - x1 - x2 - x3) / (1 - x1 - x3) * T +\n",
    "\n",
    "                 x3 * UgA(x1 + x3)**2 * (0) +\n",
    "\n",
    "                 x3 * (1 - UgA(x1 + x3))**2 * (1/4) * x2 / (1 - x1 - x3) * 2*P +\n",
    "                 x3 * (1 - UgA(x1 + x3))**2 * (1/2) * (1 - x1 - x2 - x3) / (1 - x1 - x3) * 2*P +\n",
    "\n",
    "                 x3 * 2 * UgA(x1 + x3) * (1 - UgA(x1 + x3)) * (1/4) * x2 / (1 - x1 - x3) * T +\n",
    "                 x3 * 2 * UgA(x1 + x3) * (1 - UgA(x1 + x3)) * (1/2) * (1 - x1 - x2 - x3) / (1 - x1 - x3) * T +\n",
    "\n",
    "                 (1 - x1 - x2 - x3) * UgA(x1 + x3)**2 * (1/4) * x1 / (x1 + x3) * 2*R +\n",
    "                 (1 - x1 - x2 - x3) * UgA(x1 + x3)**2 * (1/2) * x3 / (x1 + x3) * 2*R +\n",
    "\n",
    "                 (1 - x1 - x2 - x3) * (1 - UgA(x1 + x3))**2 * (1/2) * x2 / (1 - x1 - x3) * 2*P +\n",
    "                 (1 - x1 - x2 - x3) * (1 - UgA(x1 + x3))**2 * (1) *(1 - x1 - x2 - x3) / (1 - x1 - x3) * 2*P +\n",
    "\n",
    "                 (1 - x1 - x2 - x3) * 2 * UgA(x1 + x3) * (1 - UgA(x1 + x3)) * (1/4) * x1 / (x1 + x3) * S +\n",
    "                 (1 - x1 - x2 - x3) * 2 * UgA(x1 + x3) * (1 - UgA(x1 + x3)) * (1/2) * x3 / (x1 + x3) * S +\n",
    "                 (1 - x1 - x2 - x3) * 2 * UgA(x1 + x3) * (1 - UgA(x1 + x3)) * (1/2) * x2 / (1 - x1 - x3) * T +\n",
    "                 (1 - x1 - x2 - x3) * 2 * UgA(x1 + x3) * (1 - UgA(x1 + x3)) * (1) * (1 - x1 - x2 - x3) / (1 - x1 - x3) * T\n",
    "                 )\n",
    "\n",
    "    x4_dot = (numerator / N(x1, x2, x3, UGA, UgA, T, R, P, S)) - (1 - x1 - x2 - x3)\n",
    "    return x4_dot\n"
   ]
  },
  {
   "cell_type": "markdown",
   "metadata": {},
   "source": [
    "## Tests!\n",
    "All of the following limits should exactly 0!"
   ]
  },
  {
   "cell_type": "code",
   "execution_count": 6,
   "metadata": {},
   "outputs": [
    {
     "data": {
      "text/plain": [
       "0"
      ]
     },
     "execution_count": 6,
     "metadata": {},
     "output_type": "execute_result"
    }
   ],
   "source": [
    "sym.limit(equation_motion_GA_share(x1, 0, 0, UGA, UgA, T, R, P, S), x1, 1)"
   ]
  },
  {
   "cell_type": "code",
   "execution_count": 7,
   "metadata": {},
   "outputs": [
    {
     "data": {
      "text/plain": [
       "0"
      ]
     },
     "execution_count": 7,
     "metadata": {},
     "output_type": "execute_result"
    }
   ],
   "source": [
    "sym.limit(equation_motion_GA_share(x1, 0, 0, UGA, UgA, T, R, P, S), x1, 0)"
   ]
  },
  {
   "cell_type": "code",
   "execution_count": 8,
   "metadata": {},
   "outputs": [
    {
     "data": {
      "text/plain": [
       "0"
      ]
     },
     "execution_count": 8,
     "metadata": {},
     "output_type": "execute_result"
    }
   ],
   "source": [
    "sym.limit(equation_motion_Ga_share(x1, 0, 0, UGA, UgA, T, R, P, S), x1, 1)"
   ]
  },
  {
   "cell_type": "code",
   "execution_count": 9,
   "metadata": {},
   "outputs": [
    {
     "data": {
      "text/plain": [
       "0"
      ]
     },
     "execution_count": 9,
     "metadata": {},
     "output_type": "execute_result"
    }
   ],
   "source": [
    "sym.limit(equation_motion_Ga_share(x1, 0, 0, UGA, UgA, T, R, P, S), x1, 0)"
   ]
  },
  {
   "cell_type": "code",
   "execution_count": 10,
   "metadata": {},
   "outputs": [
    {
     "data": {
      "text/plain": [
       "0"
      ]
     },
     "execution_count": 10,
     "metadata": {},
     "output_type": "execute_result"
    }
   ],
   "source": [
    "sym.limit(equation_motion_gA_share(x1, 0, 0, UGA, UgA, T, R, P, S), x1, 1)"
   ]
  },
  {
   "cell_type": "code",
   "execution_count": 11,
   "metadata": {},
   "outputs": [
    {
     "data": {
      "text/plain": [
       "0"
      ]
     },
     "execution_count": 11,
     "metadata": {},
     "output_type": "execute_result"
    }
   ],
   "source": [
    "sym.limit(equation_motion_gA_share(x1, 0, 0, UGA, UgA, T, R, P, S), x1, 0)"
   ]
  },
  {
   "cell_type": "code",
   "execution_count": 12,
   "metadata": {},
   "outputs": [
    {
     "data": {
      "text/plain": [
       "0"
      ]
     },
     "execution_count": 12,
     "metadata": {},
     "output_type": "execute_result"
    }
   ],
   "source": [
    "sym.limit(equation_motion_ga_share(x1, 0, 0, UGA, UgA, T, R, P, S), x1, 1)"
   ]
  },
  {
   "cell_type": "code",
   "execution_count": 13,
   "metadata": {},
   "outputs": [
    {
     "data": {
      "text/plain": [
       "0"
      ]
     },
     "execution_count": 13,
     "metadata": {},
     "output_type": "execute_result"
    }
   ],
   "source": [
    "sym.limit(equation_motion_ga_share(x1, 0, 0, UGA, UgA, T, R, P, S), x1, 0)"
   ]
  },
  {
   "cell_type": "markdown",
   "metadata": {},
   "source": [
    "The derivatives should sum to zero..."
   ]
  },
  {
   "cell_type": "code",
   "execution_count": 14,
   "metadata": {},
   "outputs": [
    {
     "data": {
      "text/plain": [
       "0"
      ]
     },
     "execution_count": 14,
     "metadata": {},
     "output_type": "execute_result"
    }
   ],
   "source": [
    "(equation_motion_GA_share(x1, x2, x3, UGA, UgA, T, R, P, S) +\n",
    " equation_motion_Ga_share(x1, x2, x3, UGA, UgA, T, R, P, S) + \n",
    " equation_motion_gA_share(x1, x2, x3, UGA, UgA, T, R, P, S) +\n",
    " equation_motion_ga_share(x1, x2, x3, UGA, UgA, T, R, P, S)).simplify()"
   ]
  },
  {
   "cell_type": "markdown",
   "metadata": {},
   "source": [
    "# Stability analysis"
   ]
  },
  {
   "cell_type": "code",
   "execution_count": 15,
   "metadata": {
    "collapsed": true
   },
   "outputs": [],
   "source": [
    "rhs = sym.Matrix([equation_motion_GA_share(x1, x2, x3, UGA, UgA, T, R, P, S),\n",
    "                  equation_motion_Ga_share(x1, x2, x3, UGA, UgA, T, R, P, S),\n",
    "                  equation_motion_gA_share(x1, x2, x3, UGA, UgA, T, R, P, S)])"
   ]
  },
  {
   "cell_type": "code",
   "execution_count": 16,
   "metadata": {
    "collapsed": true
   },
   "outputs": [],
   "source": [
    "rhs_jac = rhs.jacobian([x1, x2, x3])"
   ]
  },
  {
   "cell_type": "markdown",
   "metadata": {},
   "source": [
    "## GA corner equilibrium"
   ]
  },
  {
   "cell_type": "code",
   "execution_count": 17,
   "metadata": {
    "collapsed": true
   },
   "outputs": [],
   "source": [
    "evaluated_jac = sym.zeros(3, 3)\n",
    "\n",
    "for i in range(3):\n",
    "    for j in range(3):\n",
    "        tmp_expr = rhs_jac[i, j].subs({x1: 1, x2: 0, x3: 0})\n",
    "        if isinstance(tmp_expr, sym.numbers.NaN):\n",
    "            tmp_expr = sym.limit(rhs_jac[i, j].subs({x2: 0, x3: 0}), x1, 1)\n",
    "        evaluated_jac[i, j] = tmp_expr"
   ]
  },
  {
   "cell_type": "code",
   "execution_count": 18,
   "metadata": {},
   "outputs": [
    {
     "data": {
      "text/plain": [
       "{-(R - T*Subs(Derivative(UGA(_xi_1), _xi_1), (_xi_1,), (1,)))/(2*R): 1,\n",
       " -(3*R - T*Subs(Derivative(UGA(_xi_1), _xi_1), (_xi_1,), (1,)))/(4*R): 1,\n",
       " 0: 1}"
      ]
     },
     "execution_count": 18,
     "metadata": {},
     "output_type": "execute_result"
    }
   ],
   "source": [
    "evaluated_jac.eigenvals()"
   ]
  },
  {
   "cell_type": "markdown",
   "metadata": {},
   "source": [
    "Necessary conditions for stability are that both non-zero eigenvalues are strictly negative.  We can derive the following necessary conditions...\n",
    "\n",
    "\\begin{align}\n",
    "    U_{GA}'(1) < \\frac{3 R}{T}\n",
    "\\end{align}"
   ]
  },
  {
   "cell_type": "markdown",
   "metadata": {},
   "source": [
    "...and...\n",
    "\n",
    "\\begin{align}\n",
    "    U_{GA}'(1) < \\frac{R}{T} < 1\n",
    "\\end{align}\n",
    "\n",
    "...note that the second condition implies the first.\n",
    "\n",
    "Note that, since one of the above eigenvalues is zero, the above conditions are actually necessary and *sufficient* for the stability of a mixed $\\gamma$ pure $\\alpha=A$ equilibrium."
   ]
  },
  {
   "cell_type": "markdown",
   "metadata": {},
   "source": [
    "## Ga corner equilbrium\n"
   ]
  },
  {
   "cell_type": "code",
   "execution_count": 19,
   "metadata": {
    "collapsed": true
   },
   "outputs": [],
   "source": [
    "evaluated_jac = sym.zeros(3, 3)\n",
    "\n",
    "for i in range(3):\n",
    "    for j in range(3):\n",
    "        tmp_expr = rhs_jac[i, j].subs({x1: 0, x2: 1, x3: 0})\n",
    "        if isinstance(tmp_expr, sym.numbers.NaN):\n",
    "            tmp_expr = rhs_jac[i, j].subs({x1: 0, x2: 1}).simplify()\n",
    "            numer, denom = sym.fraction(tmp_expr)\n",
    "            evaluated_jac[i, j] = numer.diff(x3).subs({x3: 0}) / denom.diff(x3).subs({x3: 0})\n",
    "        else:\n",
    "            evaluated_jac[i, j] = tmp_expr"
   ]
  },
  {
   "cell_type": "code",
   "execution_count": 20,
   "metadata": {},
   "outputs": [
    {
     "data": {
      "text/plain": [
       "{-(P - S*Subs(Derivative(UGA(_xi_1), _xi_1), (_xi_1,), (0,)))/(2*P): 1,\n",
       " -(3*P - S*Subs(Derivative(UGA(_xi_1), _xi_1), (_xi_1,), (0,)))/(4*P): 1,\n",
       " 0: 1}"
      ]
     },
     "execution_count": 20,
     "metadata": {},
     "output_type": "execute_result"
    }
   ],
   "source": [
    "evaluated_jac.eigenvals()"
   ]
  },
  {
   "cell_type": "markdown",
   "metadata": {},
   "source": [
    "Necessary conditions for stability are that both non-zero eigenvalues are strictly negative.  We can derive the following necessary conditions...\n",
    "\n",
    "\\begin{align}\n",
    "    U'_{GA}(0) < \\frac{P}{S}\n",
    "\\end{align}\n",
    "\n",
    "...and...\n",
    "\n",
    "\\begin{align}\n",
    "    U'_{GA}(0) < \\frac{3P}{S}\n",
    "\\end{align}\n",
    "\n",
    "...note that the first inequality above implies the second.\n",
    "\n",
    "Note that, since one of the above eigenvalues is zero, the above conditions are actually necessary and *sufficient* for the stability of a mixed $\\gamma$ pure $\\alpha=a$ equilibrium. This is an example of neutral stability."
   ]
  },
  {
   "cell_type": "markdown",
   "metadata": {},
   "source": [
    "## gA corner equilbrium"
   ]
  },
  {
   "cell_type": "code",
   "execution_count": 21,
   "metadata": {
    "collapsed": true
   },
   "outputs": [],
   "source": [
    "evaluated_jac = sym.zeros(3, 3)\n",
    "\n",
    "for i in range(3):\n",
    "    for j in range(3):\n",
    "        tmp_expr = rhs_jac[i, j].subs({x1: 0, x2: 0, x3: 1})\n",
    "        if isinstance(tmp_expr, sym.numbers.NaN):\n",
    "            tmp_expr = sym.limit(rhs_jac[i, j].subs({x1: 0, x2: 0}), x3, 1)\n",
    "        evaluated_jac[i, j] = tmp_expr"
   ]
  },
  {
   "cell_type": "code",
   "execution_count": 22,
   "metadata": {},
   "outputs": [
    {
     "data": {
      "text/plain": [
       "{-(R - T*Subs(Derivative(UgA(_xi_1), _xi_1), (_xi_1,), (1,)))/(2*R): 1,\n",
       " -(3*R - T*Subs(Derivative(UgA(_xi_1), _xi_1), (_xi_1,), (1,)))/(4*R): 1,\n",
       " 0: 1}"
      ]
     },
     "execution_count": 22,
     "metadata": {},
     "output_type": "execute_result"
    }
   ],
   "source": [
    "evaluated_jac.eigenvals()"
   ]
  },
  {
   "cell_type": "markdown",
   "metadata": {},
   "source": [
    "Necessary conditions for stability are that both non-zero eigenvalues are strictly negative. This implies the following set of conditions...\n",
    "\n",
    "\\begin{align}\n",
    "    U_{gA}'(1) < \\frac{3 R}{T}\n",
    "\\end{align}\n",
    "\n",
    "\\begin{align}\n",
    "    U_{gA}'(1) < \\frac{R}{T} < 1\n",
    "\\end{align}\n",
    "\n",
    "...note that this second condition implies the first. Again, presence of zero eigenvalue indicates that the above conditions are necessary and sufficient for stability of a mixed $\\gamma$ pure $A$ equilibrium."
   ]
  },
  {
   "cell_type": "markdown",
   "metadata": {},
   "source": [
    "## ga corner equilbrium"
   ]
  },
  {
   "cell_type": "code",
   "execution_count": 23,
   "metadata": {
    "collapsed": true
   },
   "outputs": [],
   "source": [
    "evaluated_jac = sym.zeros(3, 3)\n",
    "\n",
    "for i in range(3):\n",
    "    for j in range(3):\n",
    "        tmp_expr = rhs_jac[i, j].subs({x1: 0, x2: 0, x3: 0})\n",
    "        if isinstance(tmp_expr, sym.numbers.NaN):\n",
    "            tmp_expr = rhs_jac[i, j].subs({x1: 0, x2: 0}).simplify()\n",
    "            numer, denom = sym.fraction(tmp_expr)\n",
    "            evaluated_jac[i, j] = numer.diff(x3).subs({x3: 0}) / denom.diff(x3).subs({x3: 0})\n",
    "        else:\n",
    "            evaluated_jac[i, j] = tmp_expr"
   ]
  },
  {
   "cell_type": "code",
   "execution_count": 24,
   "metadata": {},
   "outputs": [
    {
     "data": {
      "text/plain": [
       "{-(P - S*Subs(Derivative(UgA(_xi_1), _xi_1), (_xi_1,), (0,)))/(2*P): 1,\n",
       " -(3*P - S*Subs(Derivative(UgA(x3), x3), (x3,), (0,)))/(4*P): 1,\n",
       " 0: 1}"
      ]
     },
     "execution_count": 24,
     "metadata": {},
     "output_type": "execute_result"
    }
   ],
   "source": [
    "evaluated_jac.eigenvals()"
   ]
  },
  {
   "cell_type": "markdown",
   "metadata": {},
   "source": [
    "Necessary conditions for stability are that both non-zero eigenvalues are strictly negative.  We can derive the following necessary conditions...\n",
    "\n",
    "\\begin{align}\n",
    "    U'_{gA}(0) < \\frac{P}{S}\n",
    "\\end{align}\n",
    "\n",
    "...and...\n",
    "\n",
    "\\begin{align}\n",
    "    U'_{gA}(0) < \\frac{3P}{S}\n",
    "\\end{align}\n",
    "\n",
    "...note that the first inequality above implies the second.\n",
    "\n",
    "Note that, since one of the above eigenvalues is zero, the above conditions are actually necessary and *sufficient* for the stability of a mixed $\\gamma$ pure $\\alpha=a$ equilibrium."
   ]
  },
  {
   "cell_type": "code",
   "execution_count": null,
   "metadata": {
    "collapsed": true
   },
   "outputs": [],
   "source": []
  }
 ],
 "metadata": {
  "kernelspec": {
   "display_name": "Python 3",
   "language": "python",
   "name": "python3"
  },
  "language_info": {
   "codemirror_mode": {
    "name": "ipython",
    "version": 3
   },
   "file_extension": ".py",
   "mimetype": "text/x-python",
   "name": "python",
   "nbconvert_exporter": "python",
   "pygments_lexer": "ipython3",
   "version": "3.6.3"
  }
 },
 "nbformat": 4,
 "nbformat_minor": 1
}
