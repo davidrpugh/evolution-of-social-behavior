{
 "cells": [
  {
   "cell_type": "code",
   "execution_count": 1,
   "metadata": {},
   "outputs": [],
   "source": [
    "import ipywidgets as widgets\n",
    "import matplotlib.pyplot as plt\n",
    "import mpld3\n",
    "import numpy as np\n",
    "import sympy as sym\n",
    "\n",
    "import payoffs\n",
    "import plotting\n",
    "import selection_functions\n",
    "import symbolics"
   ]
  },
  {
   "cell_type": "code",
   "execution_count": 2,
   "metadata": {
    "collapsed": true
   },
   "outputs": [],
   "source": [
    "%matplotlib inline\n",
    "plt.style.use(\"ggplot\")\n",
    "mpld3.enable_notebook()"
   ]
  },
  {
   "cell_type": "markdown",
   "metadata": {},
   "source": [
    "# Monomorphic gamma model"
   ]
  },
  {
   "cell_type": "code",
   "execution_count": 3,
   "metadata": {},
   "outputs": [],
   "source": [
    "class U(sym.Function):\n",
    "    \"\"\"Generic matching function\"\"\"\n",
    "    \n",
    "    is_real = True\n",
    "    \n",
    "    @classmethod\n",
    "    def eval(cls, x):\n",
    "        \"\"\"We require the U(0)=0 and U(1)=1\"\"\"\n",
    "        if x.is_Number and x is sym.S.Zero:\n",
    "            return sym.S.Zero\n",
    "        elif x.is_Number and x is sym.S.One:\n",
    "            return sym.S.One\n",
    "\n",
    "        \n",
    "class UGA(U):\n",
    "    \"\"\"Matching function for G males.\"\"\"\n",
    "    \n",
    "\n",
    "class UgA(U):\n",
    "    \"\"\"Matching function for g males.\"\"\"\n"
   ]
  },
  {
   "cell_type": "code",
   "execution_count": 85,
   "metadata": {
    "collapsed": true
   },
   "outputs": [],
   "source": [
    "x1, x2, x3 = sym.symbols('x1, x2, x3')\n",
    "T, R, P, S = sym.symbols('T, R, P, S')\n"
   ]
  },
  {
   "cell_type": "code",
   "execution_count": 5,
   "metadata": {
    "collapsed": true
   },
   "outputs": [],
   "source": [
    "def N(x1, x2, x3, UGA, UgA, T, R, P, S):\n",
    "    out = (\n",
    "           2 * R *((x1 + x2) * UGA(x1 + x3)**2 + (1 - (x1 + x2)) * UgA(x1 + x3)**2) +\n",
    "           2 * P * ((x1 + x2) * (1 - UGA(x1 + x3))**2 + (1 - (x1 + x2)) * (1 - UgA(x1 + x3))**2) +\n",
    "           2 * (S + T) * ((x1 + x2) * UGA(x1 + x3) * (1 - UGA(x1 + x3)) + (1 - (x1 + x2)) * UgA(x1 + x3) * (1 - UgA(x1 + x3)))\n",
    "          )\n",
    "    return out"
   ]
  },
  {
   "cell_type": "code",
   "execution_count": 6,
   "metadata": {
    "collapsed": true
   },
   "outputs": [],
   "source": [
    "def equation_motion_GA_share(x1, x2, x3, UGA, UgA, T, R, P, S):\n",
    "    numerator = (\n",
    "                 x1 * UGA(x1 + x3)**2 * (1) * x1 / (x1 + x3) * 2*R +  \n",
    "                 x1 * UGA(x1 + x3)**2 * (1/2) * x3 / (x1 + x3) * 2*R +\n",
    "\n",
    "                 x1 * (1 - UGA(x1 + x3))**2 * (1/2) * x2 / (1 - x1 - x3) * 2*P +\n",
    "                 x1 * (1 - UGA(x1 + x3))**2 * (1/4) * (1 - x1 - x2 - x3) / (1 - x1 - x3) * 2*P +\n",
    "\n",
    "                 x1 * 2 * UGA(x1 + x3) * (1 - UGA(x1 + x3)) * (1) * x1 / (x1 + x3) * S +\n",
    "                 x1 * 2 * UGA(x1 + x3) * (1 - UGA(x1 + x3)) * (1/2) * x3 / (x1 + x3) * S + \n",
    "                 x1 * 2 * UGA(x1 + x3) * (1 - UGA(x1 + x3)) * (1/2) * x2 / (1 - x1 - x3) * T +\n",
    "                 x1 * 2 * UGA(x1 + x3) * (1 - UGA(x1 + x3)) * (1/4) * (1 - x1 - x2 - x3) / (1 - x1 - x3) * T +\n",
    "\n",
    "                 x2 * UGA(x1 + x3)**2 * (1/2) * x1 / (x1 + x3) * 2*R + \n",
    "                 x2 * UGA(x1 + x3)**2 * (1/4) * x3 / (x1 + x3) * 2*R +\n",
    "\n",
    "                 x2 * (1 - UGA(x1 + x3))**2 * (0) +\n",
    "\n",
    "                 x2 * 2 * UGA(x1 + x3) * (1 - UGA(x1 + x3)) * (1/2) * x1 / (x1 + x3) * S +\n",
    "                 x2 * 2 * UGA(x1 + x3) * (1 - UGA(x1 + x3)) * (1/4) * x3 / (x1 + x3) * S +\n",
    "\n",
    "                 x3 * UgA(x1 + x3)**2 * (1/2) * x1 / (x1 + x3) * 2*R +\n",
    "\n",
    "                 x3 * (1 - UgA(x1 + x3))**2 * (1/4) * x2 / (1 - x1 - x3) * 2* P +\n",
    "\n",
    "                 x3 * 2 * UgA(x1 + x3) * (1 - UgA(x1 + x3)) * (1/2) * x1 / (x1 + x3) * S +\n",
    "                 x3 * 2 * UgA(x1 + x3) * (1 - UgA(x1 + x3)) * (1/4) * x2 / (1 - x1 - x3) * T +\n",
    "\n",
    "                 (1 - x1 - x2 - x3) * UgA(x1 + x3)**2 * (1/4) * x1 / (x1 + x3) * 2*R +\n",
    "\n",
    "                 (1 - x1 - x2 - x3) * (1 - UgA(x1 + x3))**2 * (0) +\n",
    "\n",
    "                 (1 - x1 - x2 - x3) * 2 * UgA(x1 + x3) * (1 - UgA(x1 + x3)) * (1/4) * x1 / (x1 + x3) * S\n",
    "                 )\n",
    "\n",
    "    x1_dot = (numerator / N(x1, x2, x3, UGA, UgA, T, R, P, S)) - x1\n",
    "    return x1_dot\n"
   ]
  },
  {
   "cell_type": "code",
   "execution_count": 7,
   "metadata": {},
   "outputs": [],
   "source": [
    "f = equation_motion_GA_share(x1, 1-x1, 0, UGA, UgA, T, R, P, S)"
   ]
  },
  {
   "cell_type": "code",
   "execution_count": 8,
   "metadata": {},
   "outputs": [
    {
     "data": {
      "text/plain": [
       "-x1 + (1.0*P*x1*(-UGA(x1) + 1)**2 + 2*R*x1*UGA(x1)**2 + 1.0*R*(-x1 + 1)*UGA(x1)**2 + 2*S*x1*(-UGA(x1) + 1)*UGA(x1) + 0.5*S*(-2*x1 + 2)*(-UGA(x1) + 1)*UGA(x1) + 1.0*T*x1*(-UGA(x1) + 1)*UGA(x1))/(2*P*(-UGA(x1) + 1)**2 + 2*R*UGA(x1)**2 + (2*S + 2*T)*(-UGA(x1) + 1)*UGA(x1))"
      ]
     },
     "execution_count": 8,
     "metadata": {},
     "output_type": "execute_result"
    }
   ],
   "source": [
    "f"
   ]
  },
  {
   "cell_type": "markdown",
   "metadata": {},
   "source": [
    "## The locus of potential equilibria (LPE)\n",
    "\n",
    "Setting the equation of motion equal to zero, rearranging the resulting equation yields the locus of potential equilibria (LPE). The LPE represents, for each possible $x_1$, the value that $U_{GA}$ would have to take in order for that $x_1$ to be an equilbrium. \n",
    "\n",
    "\\begin{align}\n",
    "  L(x^*) \\equiv x^* - \\left(\\frac{\\big(R - S\\big)U_{GA}^{*2} + SU_{GA}}{P + \\big((T + S) - 2P\\big)U_{GA}^* + \\big((P + R) - (T + S)\\big)U_{GA}^{*2}}\\right) = 0\\\\\n",
    "\\end{align}\n",
    "\n",
    "We already know that $x^*=0, U_{GA}^*=0$ and $x^*=1, U_{GA}^*=1$ are equilibria, so it follows that $L(0)=0$ and $L(1)=0$.\n"
   ]
  },
  {
   "cell_type": "code",
   "execution_count": 9,
   "metadata": {},
   "outputs": [
    {
     "data": {
      "text/plain": [
       "1.0*(0.5*R*UGA_star**2 - 0.5*S*UGA_star**2 + 0.5*S*UGA_star)/(0.5*P*UGA_star**2 - 1.0*P*UGA_star + 0.5*P + 0.5*R*UGA_star**2 - 0.5*S*UGA_star**2 + 0.5*S*UGA_star - 0.5*T*UGA_star**2 + 0.5*T*UGA_star)"
      ]
     },
     "execution_count": 9,
     "metadata": {},
     "output_type": "execute_result"
    }
   ],
   "source": [
    "# solving for the LPE using Python\n",
    "UGA_star, UGA_prime_star = sym.symbols(\"UGA_star, UGA_prime_star\")\n",
    "x1_star, = sym.solve(f, x1, implicit=True)\n",
    "x1_star =  x1_star.subs({UGA(x1): UGA_star})\n",
    "x1_star = sym.cancel(x1_star)\n",
    "x1_star"
   ]
  },
  {
   "cell_type": "markdown",
   "metadata": {},
   "source": [
    "## Interactive plot of the locus of potential equilibria"
   ]
  },
  {
   "cell_type": "code",
   "execution_count": 10,
   "metadata": {
    "collapsed": true
   },
   "outputs": [],
   "source": [
    "locus_of_potential_equilibria = sym.lambdify((UGA_star, T, R, P, S), x1_star, modules=\"numpy\")"
   ]
  },
  {
   "cell_type": "code",
   "execution_count": 11,
   "metadata": {},
   "outputs": [],
   "source": [
    "def plot_locus_of_potential_equilibria(d1, T, R, P, S):\n",
    "    assert T > R > P > S\n",
    "    us = np.linspace(0, 1, 100)\n",
    "    xs = locus_of_potential_equilibria(us, T, R, P, S)\n",
    "\n",
    "    fig, ax = plt.subplots(1, 1, figsize=(10, 8))\n",
    "    ax.plot(xs, us, label=\"LPE\")\n",
    "    ax.set_xlabel(r\"$x_1^*$\", fontsize=25)\n",
    "    ax.set_ylabel(r\"$U_{GA}^*$\", rotation=\"horizontal\", fontsize=25)\n",
    "    ax.plot(us, us, 'k--')\n",
    "    \n",
    "    # add kirkpatrick selection functions for comparison\n",
    "    kirkpatrick_us = selection_functions.kirkpatrick_selection(xs, d1)\n",
    "    ax.plot(xs, kirkpatrick_us, label=\"Kirkpatrick\")\n",
    "    ax.legend()\n",
    "    \n",
    "    plt.show()"
   ]
  },
  {
   "cell_type": "code",
   "execution_count": 12,
   "metadata": {},
   "outputs": [
    {
     "data": {
      "application/vnd.jupyter.widget-view+json": {
       "model_id": "401defea44df4648a324f3f672340065",
       "version_major": 2,
       "version_minor": 0
      },
      "text/plain": [
       "A Jupyter Widget"
      ]
     },
     "metadata": {},
     "output_type": "display_data"
    }
   ],
   "source": [
    "# sliders used to control the Prisoner's Dilemma Payoffs\n",
    "T_slider = widgets.FloatSlider(value=25, min=0, max=100, step=0.1, description=r\"$T$\")\n",
    "R_slider = widgets.FloatSlider(value=3, min=0, max=100, step=0.1, description=r\"$R$\")\n",
    "P_slider = widgets.FloatSlider(value=2, min=0, max=100, step=0.1, description=r\"$P$\")\n",
    "S_slider = widgets.FloatSlider(value=1, min=0, max=100, step=0.1, description=r\"$S$\")\n",
    "\n",
    "# slider that controls the parameters of the selection function\n",
    "d1_slider = widgets.FloatSlider(value=10, min=1.0, max=10, step=0.05, description=r\"$d_1$\")\n",
    "\n",
    "w = widgets.interactive(plot_locus_of_potential_equilibria, d1=d1_slider,\n",
    "                        T=T_slider, R=R_slider, P=P_slider, S=S_slider)\n",
    "display(w)"
   ]
  },
  {
   "cell_type": "markdown",
   "metadata": {},
   "source": [
    "# Stability of equilibria\n",
    "\n",
    "Necessary and sufficient conditions for stability require that the derivative of the equation of motion with respect to $x_1$ be strictly negative when evaluated at the potential equilibrium."
   ]
  },
  {
   "cell_type": "code",
   "execution_count": 13,
   "metadata": {
    "collapsed": true
   },
   "outputs": [],
   "source": [
    "f_jac = f.diff(x1, 1)"
   ]
  },
  {
   "cell_type": "code",
   "execution_count": 14,
   "metadata": {},
   "outputs": [
    {
     "data": {
      "text/plain": [
       "-1 + (-2.0*P*x1*(-UGA(x1) + 1)*Derivative(UGA(x1), x1) + 1.0*P*(-UGA(x1) + 1)**2 + 4*R*x1*UGA(x1)*Derivative(UGA(x1), x1) + 2.0*R*(-x1 + 1)*UGA(x1)*Derivative(UGA(x1), x1) + 1.0*R*UGA(x1)**2 + 2*S*x1*(-UGA(x1) + 1)*Derivative(UGA(x1), x1) - 2*S*x1*UGA(x1)*Derivative(UGA(x1), x1) + 0.5*S*(-2*x1 + 2)*(-UGA(x1) + 1)*Derivative(UGA(x1), x1) - 0.5*S*(-2*x1 + 2)*UGA(x1)*Derivative(UGA(x1), x1) + 1.0*S*(-UGA(x1) + 1)*UGA(x1) + 1.0*T*x1*(-UGA(x1) + 1)*Derivative(UGA(x1), x1) - 1.0*T*x1*UGA(x1)*Derivative(UGA(x1), x1) + 1.0*T*(-UGA(x1) + 1)*UGA(x1))/(2*P*(-UGA(x1) + 1)**2 + 2*R*UGA(x1)**2 + (2*S + 2*T)*(-UGA(x1) + 1)*UGA(x1)) + (4*P*(-UGA(x1) + 1)*Derivative(UGA(x1), x1) - 4*R*UGA(x1)*Derivative(UGA(x1), x1) - (2*S + 2*T)*(-UGA(x1) + 1)*Derivative(UGA(x1), x1) + (2*S + 2*T)*UGA(x1)*Derivative(UGA(x1), x1))*(1.0*P*x1*(-UGA(x1) + 1)**2 + 2*R*x1*UGA(x1)**2 + 1.0*R*(-x1 + 1)*UGA(x1)**2 + 2*S*x1*(-UGA(x1) + 1)*UGA(x1) + 0.5*S*(-2*x1 + 2)*(-UGA(x1) + 1)*UGA(x1) + 1.0*T*x1*(-UGA(x1) + 1)*UGA(x1))/(2*P*(-UGA(x1) + 1)**2 + 2*R*UGA(x1)**2 + (2*S + 2*T)*(-UGA(x1) + 1)*UGA(x1))**2"
      ]
     },
     "execution_count": 14,
     "metadata": {},
     "output_type": "execute_result"
    }
   ],
   "source": [
    "f_jac"
   ]
  },
  {
   "cell_type": "markdown",
   "metadata": {},
   "source": [
    "### Equilibrium with $x_1^*=0$"
   ]
  },
  {
   "cell_type": "code",
   "execution_count": 15,
   "metadata": {},
   "outputs": [
    {
     "data": {
      "text/plain": [
       "-1 + (1.0*P + 1.0*S*Subs(Derivative(UGA(x1), x1), (x1,), (0,)))/(2*P)"
      ]
     },
     "execution_count": 15,
     "metadata": {},
     "output_type": "execute_result"
    }
   ],
   "source": [
    "f_jac.subs({x1: 0})"
   ]
  },
  {
   "cell_type": "markdown",
   "metadata": {},
   "source": [
    "\\begin{align}\n",
    "    %-1 + \\frac{P + SU_{GA}'(0)}{2P} & < 0 \\\\\n",
    "    %\\frac{P + SU_{GA}'(0)}{2P} & < 1 \\\\\n",
    "    %P + SU_{GA}'(0) & < 2P \\\\\n",
    "    %SU_{GA}'(0) & < P \\\\\n",
    "    U_{GA}'(0) & < \\frac{P}{S}\n",
    "\\end{align}"
   ]
  },
  {
   "cell_type": "markdown",
   "metadata": {},
   "source": [
    "### Equilibrium with $x_1^* = 1$"
   ]
  },
  {
   "cell_type": "code",
   "execution_count": 16,
   "metadata": {},
   "outputs": [
    {
     "data": {
      "text/plain": [
       "-1 + (-4*R*Subs(Derivative(UGA(x1), x1), (x1,), (1,)) + (2*S + 2*T)*Subs(Derivative(UGA(x1), x1), (x1,), (1,)))/(2*R) + (4*R*Subs(Derivative(UGA(x1), x1), (x1,), (1,)) + 1.0*R - 2*S*Subs(Derivative(UGA(x1), x1), (x1,), (1,)) - 1.0*T*Subs(Derivative(UGA(x1), x1), (x1,), (1,)))/(2*R)"
      ]
     },
     "execution_count": 16,
     "metadata": {},
     "output_type": "execute_result"
    }
   ],
   "source": [
    "f_jac.subs({x1: 1})"
   ]
  },
  {
   "cell_type": "markdown",
   "metadata": {},
   "source": [
    "\\begin{align}\n",
    "%-1 + \\frac{-4RU_{GA}'(1) + (2S + 2T)U_{GA}'(1)}{2R} + \\frac{4RU_{GA}'(1) + R - 2SU_{GA}'(1) - TU_{GA}'(1)}{2R} < 0 \\\\\n",
    "%\\frac{-4RU_{GA}'(1) + (2S + 2T)U_{GA}'(1) + 4RU_{GA}'(1) + R - 2SU_{GA}'(1) - TU_{GA}'(1)}{2R} < 1 \\\\\n",
    "%\\frac{TU_{GA}'(1) + R}{2R} < 1 \\\\\n",
    "%TU_{GA}'(1) + R < 2R \\\\\n",
    "%TU_{GA}'(1) < R \\\\\n",
    "U_{GA}'(1) < \\frac{R}{T} \\\\\n",
    "\\end{align}"
   ]
  },
  {
   "cell_type": "markdown",
   "metadata": {},
   "source": [
    "### Equilibrium with $0 < x^* < 1$\n",
    "\n",
    "Sufficient conditions to guarantee the existence of a stable, interior equilibrium are that the stability conditions for both corner equilibria are violated. Necessary and sufficient conditions are more difficult to state..."
   ]
  },
  {
   "cell_type": "code",
   "execution_count": 17,
   "metadata": {},
   "outputs": [],
   "source": [
    "evaluated_f_jac = f_jac.subs({sym.Derivative(UGA(x1), x1): UGA_prime_star, UGA(x1): UGA_star, x1: x1_star})"
   ]
  },
  {
   "cell_type": "markdown",
   "metadata": {},
   "source": [
    "Stability of the equilibrium involves determining whether the following function of $U_{GA}^*$, $U_{GA}^{'*}$ and payoffs $T,R,P,S$ is negative! "
   ]
  },
  {
   "cell_type": "code",
   "execution_count": 18,
   "metadata": {},
   "outputs": [
    {
     "data": {
      "text/plain": [
       "-1 + (-2.0*P*UGA_prime_star*(-UGA_star + 1)*(0.5*R*UGA_star**2 - 0.5*S*UGA_star**2 + 0.5*S*UGA_star)/(0.5*P*UGA_star**2 - 1.0*P*UGA_star + 0.5*P + 0.5*R*UGA_star**2 - 0.5*S*UGA_star**2 + 0.5*S*UGA_star - 0.5*T*UGA_star**2 + 0.5*T*UGA_star) + 1.0*P*(-UGA_star + 1)**2 + 2.0*R*UGA_prime_star*UGA_star*(-1.0*(0.5*R*UGA_star**2 - 0.5*S*UGA_star**2 + 0.5*S*UGA_star)/(0.5*P*UGA_star**2 - 1.0*P*UGA_star + 0.5*P + 0.5*R*UGA_star**2 - 0.5*S*UGA_star**2 + 0.5*S*UGA_star - 0.5*T*UGA_star**2 + 0.5*T*UGA_star) + 1) + 4.0*R*UGA_prime_star*UGA_star*(0.5*R*UGA_star**2 - 0.5*S*UGA_star**2 + 0.5*S*UGA_star)/(0.5*P*UGA_star**2 - 1.0*P*UGA_star + 0.5*P + 0.5*R*UGA_star**2 - 0.5*S*UGA_star**2 + 0.5*S*UGA_star - 0.5*T*UGA_star**2 + 0.5*T*UGA_star) + 1.0*R*UGA_star**2 - 0.5*S*UGA_prime_star*UGA_star*(-2.0*(0.5*R*UGA_star**2 - 0.5*S*UGA_star**2 + 0.5*S*UGA_star)/(0.5*P*UGA_star**2 - 1.0*P*UGA_star + 0.5*P + 0.5*R*UGA_star**2 - 0.5*S*UGA_star**2 + 0.5*S*UGA_star - 0.5*T*UGA_star**2 + 0.5*T*UGA_star) + 2) - 2.0*S*UGA_prime_star*UGA_star*(0.5*R*UGA_star**2 - 0.5*S*UGA_star**2 + 0.5*S*UGA_star)/(0.5*P*UGA_star**2 - 1.0*P*UGA_star + 0.5*P + 0.5*R*UGA_star**2 - 0.5*S*UGA_star**2 + 0.5*S*UGA_star - 0.5*T*UGA_star**2 + 0.5*T*UGA_star) + 0.5*S*UGA_prime_star*(-UGA_star + 1)*(-2.0*(0.5*R*UGA_star**2 - 0.5*S*UGA_star**2 + 0.5*S*UGA_star)/(0.5*P*UGA_star**2 - 1.0*P*UGA_star + 0.5*P + 0.5*R*UGA_star**2 - 0.5*S*UGA_star**2 + 0.5*S*UGA_star - 0.5*T*UGA_star**2 + 0.5*T*UGA_star) + 2) + 2.0*S*UGA_prime_star*(-UGA_star + 1)*(0.5*R*UGA_star**2 - 0.5*S*UGA_star**2 + 0.5*S*UGA_star)/(0.5*P*UGA_star**2 - 1.0*P*UGA_star + 0.5*P + 0.5*R*UGA_star**2 - 0.5*S*UGA_star**2 + 0.5*S*UGA_star - 0.5*T*UGA_star**2 + 0.5*T*UGA_star) + 1.0*S*UGA_star*(-UGA_star + 1) - 1.0*T*UGA_prime_star*UGA_star*(0.5*R*UGA_star**2 - 0.5*S*UGA_star**2 + 0.5*S*UGA_star)/(0.5*P*UGA_star**2 - 1.0*P*UGA_star + 0.5*P + 0.5*R*UGA_star**2 - 0.5*S*UGA_star**2 + 0.5*S*UGA_star - 0.5*T*UGA_star**2 + 0.5*T*UGA_star) + 1.0*T*UGA_prime_star*(-UGA_star + 1)*(0.5*R*UGA_star**2 - 0.5*S*UGA_star**2 + 0.5*S*UGA_star)/(0.5*P*UGA_star**2 - 1.0*P*UGA_star + 0.5*P + 0.5*R*UGA_star**2 - 0.5*S*UGA_star**2 + 0.5*S*UGA_star - 0.5*T*UGA_star**2 + 0.5*T*UGA_star) + 1.0*T*UGA_star*(-UGA_star + 1))/(2*P*(-UGA_star + 1)**2 + 2*R*UGA_star**2 + UGA_star*(2*S + 2*T)*(-UGA_star + 1)) + (4*P*UGA_prime_star*(-UGA_star + 1) - 4*R*UGA_prime_star*UGA_star + UGA_prime_star*UGA_star*(2*S + 2*T) - UGA_prime_star*(2*S + 2*T)*(-UGA_star + 1))*(1.0*P*(-UGA_star + 1)**2*(0.5*R*UGA_star**2 - 0.5*S*UGA_star**2 + 0.5*S*UGA_star)/(0.5*P*UGA_star**2 - 1.0*P*UGA_star + 0.5*P + 0.5*R*UGA_star**2 - 0.5*S*UGA_star**2 + 0.5*S*UGA_star - 0.5*T*UGA_star**2 + 0.5*T*UGA_star) + 1.0*R*UGA_star**2*(-1.0*(0.5*R*UGA_star**2 - 0.5*S*UGA_star**2 + 0.5*S*UGA_star)/(0.5*P*UGA_star**2 - 1.0*P*UGA_star + 0.5*P + 0.5*R*UGA_star**2 - 0.5*S*UGA_star**2 + 0.5*S*UGA_star - 0.5*T*UGA_star**2 + 0.5*T*UGA_star) + 1) + 2.0*R*UGA_star**2*(0.5*R*UGA_star**2 - 0.5*S*UGA_star**2 + 0.5*S*UGA_star)/(0.5*P*UGA_star**2 - 1.0*P*UGA_star + 0.5*P + 0.5*R*UGA_star**2 - 0.5*S*UGA_star**2 + 0.5*S*UGA_star - 0.5*T*UGA_star**2 + 0.5*T*UGA_star) + 0.5*S*UGA_star*(-UGA_star + 1)*(-2.0*(0.5*R*UGA_star**2 - 0.5*S*UGA_star**2 + 0.5*S*UGA_star)/(0.5*P*UGA_star**2 - 1.0*P*UGA_star + 0.5*P + 0.5*R*UGA_star**2 - 0.5*S*UGA_star**2 + 0.5*S*UGA_star - 0.5*T*UGA_star**2 + 0.5*T*UGA_star) + 2) + 2.0*S*UGA_star*(-UGA_star + 1)*(0.5*R*UGA_star**2 - 0.5*S*UGA_star**2 + 0.5*S*UGA_star)/(0.5*P*UGA_star**2 - 1.0*P*UGA_star + 0.5*P + 0.5*R*UGA_star**2 - 0.5*S*UGA_star**2 + 0.5*S*UGA_star - 0.5*T*UGA_star**2 + 0.5*T*UGA_star) + 1.0*T*UGA_star*(-UGA_star + 1)*(0.5*R*UGA_star**2 - 0.5*S*UGA_star**2 + 0.5*S*UGA_star)/(0.5*P*UGA_star**2 - 1.0*P*UGA_star + 0.5*P + 0.5*R*UGA_star**2 - 0.5*S*UGA_star**2 + 0.5*S*UGA_star - 0.5*T*UGA_star**2 + 0.5*T*UGA_star))/(2*P*(-UGA_star + 1)**2 + 2*R*UGA_star**2 + UGA_star*(2*S + 2*T)*(-UGA_star + 1))**2"
      ]
     },
     "execution_count": 18,
     "metadata": {},
     "output_type": "execute_result"
    }
   ],
   "source": [
    "evaluated_f_jac"
   ]
  },
  {
   "cell_type": "code",
   "execution_count": 19,
   "metadata": {},
   "outputs": [
    {
     "data": {
      "text/plain": [
       "(-0.25*P**2*UGA_star**4 + 1.0*P**2*UGA_star**3 - 1.5*P**2*UGA_star**2 + 1.0*P**2*UGA_star - 0.25*P**2 - 0.5*P*R*UGA_prime_star*UGA_star**2 + 0.5*P*R*UGA_prime_star*UGA_star - 0.5*P*R*UGA_star**4 + 1.0*P*R*UGA_star**3 - 0.5*P*R*UGA_star**2 + 0.25*P*S*UGA_prime_star*UGA_star**2 - 0.5*P*S*UGA_prime_star*UGA_star + 0.25*P*S*UGA_prime_star + 0.5*P*S*UGA_star**4 - 1.5*P*S*UGA_star**3 + 1.5*P*S*UGA_star**2 - 0.5*P*S*UGA_star + 0.5*P*T*UGA_star**4 - 1.5*P*T*UGA_star**3 + 1.5*P*T*UGA_star**2 - 0.5*P*T*UGA_star - 0.25*R**2*UGA_star**4 + 0.5*R*S*UGA_star**4 - 0.5*R*S*UGA_star**3 + 0.25*R*T*UGA_prime_star*UGA_star**2 + 0.5*R*T*UGA_star**4 - 0.5*R*T*UGA_star**3 - 0.25*S**2*UGA_star**4 + 0.5*S**2*UGA_star**3 - 0.25*S**2*UGA_star**2 - 0.5*S*T*UGA_star**4 + 1.0*S*T*UGA_star**3 - 0.5*S*T*UGA_star**2 - 0.25*T**2*UGA_star**4 + 0.5*T**2*UGA_star**3 - 0.25*T**2*UGA_star**2)/(0.5*P**2*UGA_star**4 - 2.0*P**2*UGA_star**3 + 3.0*P**2*UGA_star**2 - 2.0*P**2*UGA_star + 0.5*P**2 + 1.0*P*R*UGA_star**4 - 2.0*P*R*UGA_star**3 + 1.0*P*R*UGA_star**2 - 1.0*P*S*UGA_star**4 + 3.0*P*S*UGA_star**3 - 3.0*P*S*UGA_star**2 + 1.0*P*S*UGA_star - 1.0*P*T*UGA_star**4 + 3.0*P*T*UGA_star**3 - 3.0*P*T*UGA_star**2 + 1.0*P*T*UGA_star + 0.5*R**2*UGA_star**4 - 1.0*R*S*UGA_star**4 + 1.0*R*S*UGA_star**3 - 1.0*R*T*UGA_star**4 + 1.0*R*T*UGA_star**3 + 0.5*S**2*UGA_star**4 - 1.0*S**2*UGA_star**3 + 0.5*S**2*UGA_star**2 + 1.0*S*T*UGA_star**4 - 2.0*S*T*UGA_star**3 + 1.0*S*T*UGA_star**2 + 0.5*T**2*UGA_star**4 - 1.0*T**2*UGA_star**3 + 0.5*T**2*UGA_star**2)"
      ]
     },
     "execution_count": 19,
     "metadata": {},
     "output_type": "execute_result"
    }
   ],
   "source": [
    "# the above expression can be reduce to a ratio of two, two-dimensional polynomial functions in U and U'...\n",
    "sym.powsimp(sym.cancel(evaluated_f_jac))"
   ]
  },
  {
   "cell_type": "code",
   "execution_count": 20,
   "metadata": {
    "collapsed": true
   },
   "outputs": [],
   "source": [
    "numerator, denominator = sym.fraction(sym.powsimp(sym.cancel(evaluated_f_jac)))"
   ]
  },
  {
   "cell_type": "markdown",
   "metadata": {},
   "source": [
    "Can we prove that the denominator is strictly positive? If so, then we have reduced the problem of finding the sign of the Jacobian to finding the sign of the expression in the numerator. Yes! The denominator can be factored into an expression that is strictly positive!"
   ]
  },
  {
   "cell_type": "code",
   "execution_count": 21,
   "metadata": {},
   "outputs": [
    {
     "data": {
      "text/plain": [
       "1.0*(0.5*P*UGA_star**2 - 1.0*P*UGA_star + 0.5*P + 0.5*R*UGA_star**2 - 0.5*S*UGA_star**2 + 0.5*S*UGA_star - 0.5*T*UGA_star**2 + 0.5*T*UGA_star)**2"
      ]
     },
     "execution_count": 21,
     "metadata": {},
     "output_type": "execute_result"
    }
   ],
   "source": [
    "sym.factor(denominator)"
   ]
  },
  {
   "cell_type": "markdown",
   "metadata": {},
   "source": [
    "Now we can solve the numerator for $U'_{GA}(x^*)$.  This will allow us to write the condition for which the Jacobian will be negative as an upper bound on $U'_{GA}(x^*)$."
   ]
  },
  {
   "cell_type": "code",
   "execution_count": 22,
   "metadata": {},
   "outputs": [],
   "source": [
    "upper_bound, = sym.solve(numerator, UGA_prime_star)"
   ]
  },
  {
   "cell_type": "code",
   "execution_count": 23,
   "metadata": {},
   "outputs": [
    {
     "data": {
      "text/plain": [
       "(P**2*UGA_star**4 - 4.0*P**2*UGA_star**3 + 6.0*P**2*UGA_star**2 - 4.0*P**2*UGA_star + P**2 + 2.0*P*R*UGA_star**4 - 4.0*P*R*UGA_star**3 + 2.0*P*R*UGA_star**2 - 2.0*P*S*UGA_star**4 + 6.0*P*S*UGA_star**3 - 6.0*P*S*UGA_star**2 + 2.0*P*S*UGA_star - 2.0*P*T*UGA_star**4 + 6.0*P*T*UGA_star**3 - 6.0*P*T*UGA_star**2 + 2.0*P*T*UGA_star + R**2*UGA_star**4 - 2.0*R*S*UGA_star**4 + 2.0*R*S*UGA_star**3 - 2.0*R*T*UGA_star**4 + 2.0*R*T*UGA_star**3 + S**2*UGA_star**4 - 2.0*S**2*UGA_star**3 + S**2*UGA_star**2 + 2.0*S*T*UGA_star**4 - 4.0*S*T*UGA_star**3 + 2.0*S*T*UGA_star**2 + T**2*UGA_star**4 - 2.0*T**2*UGA_star**3 + T**2*UGA_star**2)/(-2.0*P*R*UGA_star**2 + 2.0*P*R*UGA_star + P*S*UGA_star**2 - 2.0*P*S*UGA_star + P*S + R*T*UGA_star**2)"
      ]
     },
     "execution_count": 23,
     "metadata": {},
     "output_type": "execute_result"
    }
   ],
   "source": [
    "upper_bound"
   ]
  },
  {
   "cell_type": "code",
   "execution_count": 24,
   "metadata": {},
   "outputs": [
    {
     "data": {
      "text/plain": [
       "-1.0*(1.0*P*UGA_star**2 - 2.0*P*UGA_star + 1.0*P + 1.0*R*UGA_star**2 - 1.0*S*UGA_star**2 + 1.0*S*UGA_star - 1.0*T*UGA_star**2 + 1.0*T*UGA_star)**2/(2.0*P*R*UGA_star**2 - 2.0*P*R*UGA_star - 1.0*P*S*UGA_star**2 + 2.0*P*S*UGA_star - 1.0*P*S - 1.0*R*T*UGA_star**2)"
      ]
     },
     "execution_count": 24,
     "metadata": {},
     "output_type": "execute_result"
    }
   ],
   "source": [
    "# this is a slightly different expression than in our current notes!\n",
    "sym.factor(upper_bound)"
   ]
  },
  {
   "cell_type": "markdown",
   "metadata": {},
   "source": [
    "After fiddling around with the above expression we arrive at the following condition for a negative Jacobian and a stable interior equilibrium at $0 < x^* < 1$.\n",
    "\n",
    "\\begin{align}\n",
    "  %  U'_{GA}(x^*) <& \\frac{-1.0*(PU_{GA}(x^*)^2 - 2PU_{GA}(x^*) + P + RU_{GA}(x^*)^2 - SU_{GA}(x^*)^2 + SU_{GA}(x^*) - TU_{GA}(x^*)^2 + TU_{GA}(x^*))^2}{(2PRU_{GA}(x^*)^2 - 2PRU_{GA}(x^*) - PSU_{GA}(x^*)^2 + 2PSU_{GA}(x^*) - PS - RTU_{GA}(x^*)^2)} \\\\\n",
    "  %  U'_{GA}(x^*) <& \\frac{(PU_{GA}(x^*)^2 - 2PU_{GA}(x^*) + P + RU_{GA}(x^*)^2 - SU_{GA}(x^*)^2 + SU_{GA}(x^*) - TU_{GA}(x^*)^2 + TU_{GA}(x^*))^2}{(-2PRU_{GA}(x^*)^2 + 2PRU_{GA}(x^*) + PSU_{GA}(x^*)^2 - 2PSU_{GA}(x^*) + PS + RTU_{GA}(x^*)^2)} \\\\ % distribute the -1 through the denominator!\n",
    "  %  U'_{GA}(x^*) <& \\frac{(RU_{GA}(x^*)^2 + PU_{GA}(x^*)^2 - SU_{GA}(x^*)^2 - TU_{GA}(x^*)^2 + SU_{GA}(x^*) + TU_{GA}(x^*) - 2PU_{GA}(x^*) + P)^2}{(RTU_{GA}(x^*)^2 + PSU_{GA}(x^*)^2 - 2PRU_{GA}(x^*)^2 + 2PRU_{GA}(x^*) - 2PSU_{GA}(x^*) + PS)} \\\\\n",
    "    U'_{GA}(x^*) <& \\frac{\\bigg(\\big((R + P) - (T + S)\\big)U_{GA}(x^*)^2 + \\big((T + S) - 2P\\big)U_{GA}(x^*) + P\\bigg)^2}{\\big(R(T - 2P) + PS\\big)U_{GA}(x^*)^2 + 2P\\big(R - S\\big)U_{GA}(x^*) + PS} \\\\\n",
    "\\end{align}\n",
    "\n",
    "We should be able to recover the stability conditions for the corner equilibria as a special case of the above condition. Recall that $U_{GA}(0) = 0$ and $U_{GA}(1)=1$. When $x^*=0$ the condition reduces to $U'_{GA}(0) < \\frac{P}{S}$ and when $x^*=1$ the condition reduces to $U'_{GA}(1) < \\frac{R}{T}$.\n",
    "\n",
    "Can also use a graphical approach to check the correctness of the above condition.  The above condition should be the zero contour in a contour plot of the value of the Jacobian as a function of $U_{GA}$ and $U'_{GA}$."
   ]
  },
  {
   "cell_type": "code",
   "execution_count": 25,
   "metadata": {},
   "outputs": [],
   "source": [
    "# vectorized numerical function created from our symbolic expression\n",
    "numeric_f_jac = sym.lambdify((UGA_star, UGA_prime_star, T, R, P, S), evaluated_f_jac, modules=\"numpy\")"
   ]
  },
  {
   "cell_type": "code",
   "execution_count": 26,
   "metadata": {},
   "outputs": [],
   "source": [
    "def plot_jacobian(T, R, P, S):\n",
    "\n",
    "    fig, ax = plt.subplots(1, 1, figsize=(20, 10))\n",
    "    ax.set_ylabel(r\"$U_{GA}^*$\", fontsize=20, rotation=\"horizontal\")\n",
    "    ax.set_xlabel(r\"$U_{GA}^{'*}$\", fontsize=20)\n",
    "    ax.set_title(r\"Negative values of $\\frac{\\partial \\dot{x}_1}{\\partial x_1}$ indicate stability!\", fontsize=25)\n",
    "    ax.grid(\"off\")\n",
    "\n",
    "    equilibrium_selection_probs = np.linspace(0, 1, 100).reshape(-1, 1)\n",
    "    equilibrium_selection_derivs = np.linspace(0, 10, 1000).reshape(1, -1) # sensible UGA'(0) >= 1\n",
    "    Z = numeric_f_jac(equilibrium_selection_probs, equilibrium_selection_derivs, T, R, P, S)\n",
    "    cax = ax.imshow(Z, origin=\"lower\", aspect=\"auto\", vmin=-0.5, vmax=1.0)\n",
    "\n",
    "    levels = np.arange(-0.25, 1.25, 0.25)\n",
    "    contours = ax.contour(Z, levels=levels, colors='w', origin='lower')\n",
    "    ax.clabel(contours, contours.levels, inline=True, fontsize=10)\n",
    "    \n",
    "    # adjust the tick labels\n",
    "    locs, _ = plt.xticks()\n",
    "    plt.xticks(locs[1:], np.linspace(0, 10, locs.size-1))\n",
    "    locs, _ = plt.yticks()\n",
    "    plt.yticks(locs[1:], np.linspace(0, 1, locs.size-1))\n",
    "\n",
    "    plt.show()"
   ]
  },
  {
   "cell_type": "code",
   "execution_count": 27,
   "metadata": {},
   "outputs": [
    {
     "data": {
      "application/vnd.jupyter.widget-view+json": {
       "model_id": "e156ff9514744c48b26ab7d79abe318b",
       "version_major": 2,
       "version_minor": 0
      },
      "text/plain": [
       "A Jupyter Widget"
      ]
     },
     "metadata": {},
     "output_type": "display_data"
    }
   ],
   "source": [
    "mpld3.disable_notebook()  # don't need interactive plotting for this!\n",
    "\n",
    "# sliders used to control the Prisoner's Dilemma Payoffs\n",
    "T_slider = widgets.FloatSlider(value=25, min=0, max=100, step=0.1, description=r\"$T$\")\n",
    "R_slider = widgets.FloatSlider(value=3, min=0, max=100, step=0.1, description=r\"$R$\")\n",
    "P_slider = widgets.FloatSlider(value=2, min=0, max=100, step=0.1, description=r\"$P$\")\n",
    "S_slider = widgets.FloatSlider(value=1, min=0, max=100, step=0.1, description=r\"$S$\")\n",
    "\n",
    "w = widgets.interactive(plot_jacobian, T=T_slider, R=R_slider, P=P_slider, S=S_slider)\n",
    "display(w)"
   ]
  },
  {
   "cell_type": "markdown",
   "metadata": {},
   "source": [
    "Pick a particular equilibrium selection probability on the vertical axis. Scanning to the right across the various values of the selection function derivative tells you when an equilibrium with your chosen selection probability will be stable."
   ]
  },
  {
   "cell_type": "code",
   "execution_count": 49,
   "metadata": {},
   "outputs": [
    {
     "data": {
      "image/png": "[encoded data removed]",
      "text/plain": [
       "<matplotlib.figure.Figure at 0x11b668cf8>"
      ]
     },
     "metadata": {},
     "output_type": "display_data"
    }
   ],
   "source": [
    "# I want to plot the selection function on top of the contour plot above.\n",
    "# possibly also plot the LPE and then play around with the parameters and show\n",
    "# how the satable equilibria are always in regions where the contour is negative!\n",
    "fig, ax = plt.subplots(1, 1, figsize=(20, 10))\n",
    "xs = np.linspace(0, 1, 100)\n",
    "u_derivs = selection_functions.kirkpatrick_selection_derivative(xs, 6.82)\n",
    "us = selection_functions.kirkpatrick_selection(xs, 6.82)\n",
    "ax.plot(u_derivs, us)\n",
    "ax.set_ylabel(r\"$U_{GA}^*$\", fontsize=20, rotation=\"horizontal\")\n",
    "ax.set_xlabel(r\"$U_{GA}^{'*}$\", fontsize=20)\n",
    "ax.set_xlim(0, 10)\n",
    "plt.show()"
   ]
  },
  {
   "cell_type": "markdown",
   "metadata": {},
   "source": [
    "## Invadability\n",
    "\n",
    "Restrict the full model to obtain a monomorphic $\\gamma$ equilibrium, add a small amount of individuals carrying the $g$ allele of the $\\gamma$ gene and simulate."
   ]
  },
  {
   "cell_type": "code",
   "execution_count": 10,
   "metadata": {
    "collapsed": true
   },
   "outputs": [],
   "source": [
    "UgA_star = sym.symbols(\"UgA_star\")"
   ]
  },
  {
   "cell_type": "code",
   "execution_count": 11,
   "metadata": {},
   "outputs": [],
   "source": [
    "F = sym.Matrix([symbolics.equation_motion_GA_share(x1, x2, x3, UGA, UgA, T, R, P, S),\n",
    "                symbolics.equation_motion_Ga_share(x1, x2, x3, UGA, UgA, T, R, P, S),\n",
    "                symbolics.equation_motion_gA_share(x1, x2, x3, UGA, UgA, T, R, P, S)])"
   ]
  },
  {
   "cell_type": "code",
   "execution_count": 12,
   "metadata": {},
   "outputs": [],
   "source": [
    "F_jac = F.jacobian([x1, x2, x3])"
   ]
  },
  {
   "cell_type": "code",
   "execution_count": 13,
   "metadata": {},
   "outputs": [],
   "source": [
    "evaluated_F_jac = (F_jac.subs({x2: 1 - x1, x3: 0})\n",
    "                        .subs({UGA(x1): UGA_star, UgA(x1): UgA_star})\n",
    "                        .doit()\n",
    "                        .subs({sym.Derivative(UGA(x1), x1): UGA_prime_star})\n",
    "                        .subs({x1: x1_star}))"
   ]
  },
  {
   "cell_type": "code",
   "execution_count": 14,
   "metadata": {},
   "outputs": [],
   "source": [
    "simplified_F_jac = sym.zeros(3, 3)\n",
    "\n",
    "for i in range(3):\n",
    "    for j in range(3):\n",
    "        simplified_F_jac[i, j] = sym.powsimp(sym.cancel(evaluated_F_jac[i, j]))"
   ]
  },
  {
   "cell_type": "code",
   "execution_count": 22,
   "metadata": {},
   "outputs": [
    {
     "data": {
      "text/plain": [
       "Matrix([\n",
       "[                                                                                                                                                                                                                                                                                                                                             (-0.0625*P**2*UGA_star**4 + 0.25*P**2*UGA_star**3 - 0.375*P**2*UGA_star**2 + 0.25*P**2*UGA_star - 0.0625*P**2 - 0.125*P*R*UGA_prime_star*UGA_star**2 + 0.125*P*R*UGA_prime_star*UGA_star - 0.15625*P*R*UGA_star**4 + 0.3125*P*R*UGA_star**3 + 0.09375*P*R*UGA_star**2*UgA_star**2 - 0.25*P*R*UGA_star**2*UgA_star - 0.03125*P*R*UGA_star**2 + 0.0625*P*R*UGA_star*UgA_star**2 - 0.03125*P*R*UgA_star**2 + 0.0625*P*S*UGA_prime_star*UGA_star**2 - 0.125*P*S*UGA_prime_star*UGA_star + 0.0625*P*S*UGA_prime_star + 0.15625*P*S*UGA_star**4 - 0.46875*P*S*UGA_star**3 - 0.09375*P*S*UGA_star**2*UgA_star**2 + 0.21875*P*S*UGA_star**2*UgA_star + 0.34375*P*S*UGA_star**2 + 0.0625*P*S*UGA_star*UgA_star**2 - 0.1875*P*S*UGA_star*UgA_star - 0.03125*P*S*UGA_star + 0.03125*P*S*UgA_star**2 - 0.03125*P*S*UgA_star + 0.125*P*T*UGA_star**4 - 0.375*P*T*UGA_star**3 + 0.375*P*T*UGA_star**2 - 0.125*P*T*UGA_star - 0.09375*R**2*UGA_star**4 + 0.09375*R**2*UGA_star**2*UgA_star**2 + 0.1875*R*S*UGA_star**4 - 0.1875*R*S*UGA_star**3 - 0.1875*R*S*UGA_star**2*UgA_star**2 + 0.09375*R*S*UGA_star**2*UgA_star + 0.09375*R*S*UGA_star*UgA_star**2 + 0.0625*R*T*UGA_prime_star*UGA_star**2 + 0.15625*R*T*UGA_star**4 - 0.15625*R*T*UGA_star**3 - 0.09375*R*T*UGA_star**2*UgA_star**2 + 0.125*R*T*UGA_star**2*UgA_star - 0.03125*R*T*UGA_star*UgA_star**2 - 0.09375*S**2*UGA_star**4 + 0.1875*S**2*UGA_star**3 + 0.09375*S**2*UGA_star**2*UgA_star**2 - 0.09375*S**2*UGA_star**2*UgA_star - 0.09375*S**2*UGA_star**2 - 0.09375*S**2*UGA_star*UgA_star**2 + 0.09375*S**2*UGA_star*UgA_star - 0.15625*S*T*UGA_star**4 + 0.3125*S*T*UGA_star**3 + 0.09375*S*T*UGA_star**2*UgA_star**2 - 0.09375*S*T*UGA_star**2*UgA_star - 0.15625*S*T*UGA_star**2 - 0.09375*S*T*UGA_star*UgA_star**2 + 0.09375*S*T*UGA_star*UgA_star - 0.0625*T**2*UGA_star**4 + 0.125*T**2*UGA_star**3 - 0.0625*T**2*UGA_star**2)/(0.125*P**2*UGA_star**4 - 0.5*P**2*UGA_star**3 + 0.75*P**2*UGA_star**2 - 0.5*P**2*UGA_star + 0.125*P**2 + 0.25*P*R*UGA_star**4 - 0.5*P*R*UGA_star**3 + 0.25*P*R*UGA_star**2 - 0.25*P*S*UGA_star**4 + 0.75*P*S*UGA_star**3 - 0.75*P*S*UGA_star**2 + 0.25*P*S*UGA_star - 0.25*P*T*UGA_star**4 + 0.75*P*T*UGA_star**3 - 0.75*P*T*UGA_star**2 + 0.25*P*T*UGA_star + 0.125*R**2*UGA_star**4 - 0.25*R*S*UGA_star**4 + 0.25*R*S*UGA_star**3 - 0.25*R*T*UGA_star**4 + 0.25*R*T*UGA_star**3 + 0.125*S**2*UGA_star**4 - 0.25*S**2*UGA_star**3 + 0.125*S**2*UGA_star**2 + 0.25*S*T*UGA_star**4 - 0.5*S*T*UGA_star**3 + 0.25*S*T*UGA_star**2 + 0.125*T**2*UGA_star**4 - 0.25*T**2*UGA_star**3 + 0.125*T**2*UGA_star**2),                                                                                                                                                                                                                                                                                                                                                                                                                                                                                                                                                                                                                                                                                                                                                                             (-0.0625*P*R*UGA_star**4 + 0.125*P*R*UGA_star**3 + 0.1875*P*R*UGA_star**2*UgA_star**2 - 0.5*P*R*UGA_star**2*UgA_star + 0.1875*P*R*UGA_star**2 + 0.125*P*R*UGA_star*UgA_star**2 - 0.0625*P*R*UgA_star**2 + 0.0625*P*S*UGA_star**4 - 0.1875*P*S*UGA_star**3 - 0.1875*P*S*UGA_star**2*UgA_star**2 + 0.4375*P*S*UGA_star**2*UgA_star - 0.0625*P*S*UGA_star**2 + 0.125*P*S*UGA_star*UgA_star**2 - 0.375*P*S*UGA_star*UgA_star + 0.1875*P*S*UGA_star + 0.0625*P*S*UgA_star**2 - 0.0625*P*S*UgA_star - 0.0625*R**2*UGA_star**4 + 0.1875*R**2*UGA_star**2*UgA_star**2 + 0.125*R*S*UGA_star**4 - 0.125*R*S*UGA_star**3 - 0.375*R*S*UGA_star**2*UgA_star**2 + 0.1875*R*S*UGA_star**2*UgA_star + 0.1875*R*S*UGA_star*UgA_star**2 + 0.0625*R*T*UGA_star**4 - 0.0625*R*T*UGA_star**3 - 0.1875*R*T*UGA_star**2*UgA_star**2 + 0.25*R*T*UGA_star**2*UgA_star - 0.0625*R*T*UGA_star*UgA_star**2 - 0.0625*S**2*UGA_star**4 + 0.125*S**2*UGA_star**3 + 0.1875*S**2*UGA_star**2*UgA_star**2 - 0.1875*S**2*UGA_star**2*UgA_star - 0.0625*S**2*UGA_star**2 - 0.1875*S**2*UGA_star*UgA_star**2 + 0.1875*S**2*UGA_star*UgA_star - 0.0625*S*T*UGA_star**4 + 0.125*S*T*UGA_star**3 + 0.1875*S*T*UGA_star**2*UgA_star**2 - 0.1875*S*T*UGA_star**2*UgA_star - 0.0625*S*T*UGA_star**2 - 0.1875*S*T*UGA_star*UgA_star**2 + 0.1875*S*T*UGA_star*UgA_star)/(0.25*P**2*UGA_star**4 - 1.0*P**2*UGA_star**3 + 1.5*P**2*UGA_star**2 - 1.0*P**2*UGA_star + 0.25*P**2 + 0.5*P*R*UGA_star**4 - 1.0*P*R*UGA_star**3 + 0.5*P*R*UGA_star**2 - 0.5*P*S*UGA_star**4 + 1.5*P*S*UGA_star**3 - 1.5*P*S*UGA_star**2 + 0.5*P*S*UGA_star - 0.5*P*T*UGA_star**4 + 1.5*P*T*UGA_star**3 - 1.5*P*T*UGA_star**2 + 0.5*P*T*UGA_star + 0.25*R**2*UGA_star**4 - 0.5*R*S*UGA_star**4 + 0.5*R*S*UGA_star**3 - 0.5*R*T*UGA_star**4 + 0.5*R*T*UGA_star**3 + 0.25*S**2*UGA_star**4 - 0.5*S**2*UGA_star**3 + 0.25*S**2*UGA_star**2 + 0.5*S*T*UGA_star**4 - 1.0*S*T*UGA_star**3 + 0.5*S*T*UGA_star**2 + 0.25*T**2*UGA_star**4 - 0.5*T**2*UGA_star**3 + 0.25*T**2*UGA_star**2), (-0.015625*P**2*UGA_star**4 + 0.0625*P**2*UGA_star**3 + 0.015625*P**2*UGA_star**2*UgA_star**2 - 0.03125*P**2*UGA_star**2*UgA_star - 0.078125*P**2*UGA_star**2 - 0.03125*P**2*UGA_star*UgA_star**2 + 0.0625*P**2*UGA_star*UgA_star + 0.03125*P**2*UGA_star + 0.015625*P**2*UgA_star**2 - 0.03125*P**2*UgA_star - 0.0625*P*R*UGA_prime_star*UGA_star**2 + 0.0625*P*R*UGA_prime_star*UGA_star - 0.03125*P*R*UGA_star**4 + 0.0625*P*R*UGA_star**3 + 0.03125*P*R*UGA_star**2*UgA_star**2 - 0.03125*P*R*UGA_star**2*UgA_star - 0.015625*P*R*UGA_star**2 - 0.03125*P*R*UGA_star*UgA_star**2 + 0.015625*P*R*UgA_star**2 + 0.03125*P*S*UGA_prime_star*UGA_star**2 - 0.0625*P*S*UGA_prime_star*UGA_star + 0.03125*P*S*UGA_prime_star + 0.03125*P*S*UGA_star**4 - 0.09375*P*S*UGA_star**3 - 0.03125*P*S*UGA_star**2*UgA_star**2 + 0.046875*P*S*UGA_star**2*UgA_star + 0.078125*P*S*UGA_star**2 + 0.046875*P*S*UGA_star*UgA_star**2 - 0.0625*P*S*UGA_star*UgA_star - 0.015625*P*S*UGA_star - 0.015625*P*S*UgA_star**2 + 0.015625*P*S*UgA_star + 0.03125*P*T*UGA_star**4 - 0.09375*P*T*UGA_star**3 - 0.03125*P*T*UGA_star**2*UgA_star**2 + 0.046875*P*T*UGA_star**2*UgA_star + 0.078125*P*T*UGA_star**2 + 0.046875*P*T*UGA_star*UgA_star**2 - 0.0625*P*T*UGA_star*UgA_star - 0.015625*P*T*UGA_star - 0.015625*P*T*UgA_star**2 + 0.015625*P*T*UgA_star - 0.015625*R**2*UGA_star**4 + 0.015625*R**2*UGA_star**2*UgA_star**2 + 0.03125*R*S*UGA_star**4 - 0.03125*R*S*UGA_star**3 - 0.03125*R*S*UGA_star**2*UgA_star**2 + 0.015625*R*S*UGA_star**2*UgA_star + 0.015625*R*S*UGA_star*UgA_star**2 + 0.03125*R*T*UGA_prime_star*UGA_star**2 + 0.03125*R*T*UGA_star**4 - 0.03125*R*T*UGA_star**3 - 0.03125*R*T*UGA_star**2*UgA_star**2 + 0.015625*R*T*UGA_star**2*UgA_star + 0.015625*R*T*UGA_star*UgA_star**2 - 0.015625*S**2*UGA_star**4 + 0.03125*S**2*UGA_star**3 + 0.015625*S**2*UGA_star**2*UgA_star**2 - 0.015625*S**2*UGA_star**2*UgA_star - 0.015625*S**2*UGA_star**2 - 0.015625*S**2*UGA_star*UgA_star**2 + 0.015625*S**2*UGA_star*UgA_star - 0.03125*S*T*UGA_star**4 + 0.0625*S*T*UGA_star**3 + 0.03125*S*T*UGA_star**2*UgA_star**2 - 0.03125*S*T*UGA_star**2*UgA_star - 0.03125*S*T*UGA_star**2 - 0.03125*S*T*UGA_star*UgA_star**2 + 0.03125*S*T*UGA_star*UgA_star - 0.015625*T**2*UGA_star**4 + 0.03125*T**2*UGA_star**3 + 0.015625*T**2*UGA_star**2*UgA_star**2 - 0.015625*T**2*UGA_star**2*UgA_star - 0.015625*T**2*UGA_star**2 - 0.015625*T**2*UGA_star*UgA_star**2 + 0.015625*T**2*UGA_star*UgA_star)/(0.0625*P**2*UGA_star**4 - 0.25*P**2*UGA_star**3 + 0.375*P**2*UGA_star**2 - 0.25*P**2*UGA_star + 0.0625*P**2 + 0.125*P*R*UGA_star**4 - 0.25*P*R*UGA_star**3 + 0.125*P*R*UGA_star**2 - 0.125*P*S*UGA_star**4 + 0.375*P*S*UGA_star**3 - 0.375*P*S*UGA_star**2 + 0.125*P*S*UGA_star - 0.125*P*T*UGA_star**4 + 0.375*P*T*UGA_star**3 - 0.375*P*T*UGA_star**2 + 0.125*P*T*UGA_star + 0.0625*R**2*UGA_star**4 - 0.125*R*S*UGA_star**4 + 0.125*R*S*UGA_star**3 - 0.125*R*T*UGA_star**4 + 0.125*R*T*UGA_star**3 + 0.0625*S**2*UGA_star**4 - 0.125*S**2*UGA_star**3 + 0.0625*S**2*UGA_star**2 + 0.125*S*T*UGA_star**4 - 0.25*S*T*UGA_star**3 + 0.125*S*T*UGA_star**2 + 0.0625*T**2*UGA_star**4 - 0.125*T**2*UGA_star**3 + 0.0625*T**2*UGA_star**2)],\n",
       "[(0.0625*P**2*UGA_star**2*UgA_star**2 - 0.125*P**2*UGA_star**2*UgA_star + 0.0625*P**2*UGA_star**2 - 0.125*P**2*UGA_star*UgA_star**2 + 0.25*P**2*UGA_star*UgA_star - 0.125*P**2*UGA_star + 0.0625*P**2*UgA_star**2 - 0.125*P**2*UgA_star + 0.0625*P**2 + 0.125*P*R*UGA_prime_star*UGA_star**2 - 0.125*P*R*UGA_prime_star*UGA_star + 0.03125*P*R*UGA_star**4 - 0.0625*P*R*UGA_star**3 + 0.03125*P*R*UGA_star**2*UgA_star**2 + 0.125*P*R*UGA_star**2*UgA_star - 0.03125*P*R*UGA_star**2 - 0.1875*P*R*UGA_star*UgA_star**2 + 0.09375*P*R*UgA_star**2 - 0.0625*P*S*UGA_prime_star*UGA_star**2 + 0.125*P*S*UGA_prime_star*UGA_star - 0.0625*P*S*UGA_prime_star - 0.03125*P*S*UGA_star**4 + 0.09375*P*S*UGA_star**3 - 0.03125*P*S*UGA_star**2*UgA_star**2 - 0.03125*P*S*UGA_star**2*UgA_star - 0.03125*P*S*UGA_star**2 + 0.125*P*S*UGA_star*UgA_star**2 - 0.0625*P*S*UGA_star*UgA_star - 0.03125*P*S*UGA_star - 0.09375*P*S*UgA_star**2 + 0.09375*P*S*UgA_star - 0.125*P*T*UGA_star**2*UgA_star**2 + 0.1875*P*T*UGA_star**2*UgA_star - 0.0625*P*T*UGA_star**2 + 0.1875*P*T*UGA_star*UgA_star**2 - 0.25*P*T*UGA_star*UgA_star + 0.0625*P*T*UGA_star - 0.0625*P*T*UgA_star**2 + 0.0625*P*T*UgA_star + 0.03125*R**2*UGA_star**4 - 0.03125*R**2*UGA_star**2*UgA_star**2 - 0.0625*R*S*UGA_star**4 + 0.0625*R*S*UGA_star**3 + 0.0625*R*S*UGA_star**2*UgA_star**2 - 0.03125*R*S*UGA_star**2*UgA_star - 0.03125*R*S*UGA_star*UgA_star**2 - 0.0625*R*T*UGA_prime_star*UGA_star**2 - 0.03125*R*T*UGA_star**4 + 0.03125*R*T*UGA_star**3 - 0.03125*R*T*UGA_star**2*UgA_star**2 - 0.0625*R*T*UGA_star**2*UgA_star + 0.09375*R*T*UGA_star*UgA_star**2 + 0.03125*S**2*UGA_star**4 - 0.0625*S**2*UGA_star**3 - 0.03125*S**2*UGA_star**2*UgA_star**2 + 0.03125*S**2*UGA_star**2*UgA_star + 0.03125*S**2*UGA_star**2 + 0.03125*S**2*UGA_star*UgA_star**2 - 0.03125*S**2*UGA_star*UgA_star + 0.03125*S*T*UGA_star**4 - 0.0625*S*T*UGA_star**3 + 0.03125*S*T*UGA_star**2*UgA_star**2 - 0.03125*S*T*UGA_star**2*UgA_star + 0.03125*S*T*UGA_star**2 - 0.03125*S*T*UGA_star*UgA_star**2 + 0.03125*S*T*UGA_star*UgA_star + 0.0625*T**2*UGA_star**2*UgA_star**2 - 0.0625*T**2*UGA_star**2*UgA_star - 0.0625*T**2*UGA_star*UgA_star**2 + 0.0625*T**2*UGA_star*UgA_star)/(0.125*P**2*UGA_star**4 - 0.5*P**2*UGA_star**3 + 0.75*P**2*UGA_star**2 - 0.5*P**2*UGA_star + 0.125*P**2 + 0.25*P*R*UGA_star**4 - 0.5*P*R*UGA_star**3 + 0.25*P*R*UGA_star**2 - 0.25*P*S*UGA_star**4 + 0.75*P*S*UGA_star**3 - 0.75*P*S*UGA_star**2 + 0.25*P*S*UGA_star - 0.25*P*T*UGA_star**4 + 0.75*P*T*UGA_star**3 - 0.75*P*T*UGA_star**2 + 0.25*P*T*UGA_star + 0.125*R**2*UGA_star**4 - 0.25*R*S*UGA_star**4 + 0.25*R*S*UGA_star**3 - 0.25*R*T*UGA_star**4 + 0.25*R*T*UGA_star**3 + 0.125*S**2*UGA_star**4 - 0.25*S**2*UGA_star**3 + 0.125*S**2*UGA_star**2 + 0.25*S*T*UGA_star**4 - 0.5*S*T*UGA_star**3 + 0.25*S*T*UGA_star**2 + 0.125*T**2*UGA_star**4 - 0.25*T**2*UGA_star**3 + 0.125*T**2*UGA_star**2), (-0.125*P**2*UGA_star**4 + 0.5*P**2*UGA_star**3 + 0.125*P**2*UGA_star**2*UgA_star**2 - 0.25*P**2*UGA_star**2*UgA_star - 0.625*P**2*UGA_star**2 - 0.25*P**2*UGA_star*UgA_star**2 + 0.5*P**2*UGA_star*UgA_star + 0.25*P**2*UGA_star + 0.125*P**2*UgA_star**2 - 0.25*P**2*UgA_star - 0.1875*P*R*UGA_star**4 + 0.375*P*R*UGA_star**3 + 0.0625*P*R*UGA_star**2*UgA_star**2 + 0.25*P*R*UGA_star**2*UgA_star - 0.3125*P*R*UGA_star**2 - 0.375*P*R*UGA_star*UgA_star**2 + 0.1875*P*R*UgA_star**2 + 0.1875*P*S*UGA_star**4 - 0.5625*P*S*UGA_star**3 - 0.0625*P*S*UGA_star**2*UgA_star**2 - 0.0625*P*S*UGA_star**2*UgA_star + 0.6875*P*S*UGA_star**2 + 0.25*P*S*UGA_star*UgA_star**2 - 0.125*P*S*UGA_star*UgA_star - 0.3125*P*S*UGA_star - 0.1875*P*S*UgA_star**2 + 0.1875*P*S*UgA_star + 0.25*P*T*UGA_star**4 - 0.75*P*T*UGA_star**3 - 0.25*P*T*UGA_star**2*UgA_star**2 + 0.375*P*T*UGA_star**2*UgA_star + 0.625*P*T*UGA_star**2 + 0.375*P*T*UGA_star*UgA_star**2 - 0.5*P*T*UGA_star*UgA_star - 0.125*P*T*UGA_star - 0.125*P*T*UgA_star**2 + 0.125*P*T*UgA_star - 0.0625*R**2*UGA_star**4 - 0.0625*R**2*UGA_star**2*UgA_star**2 + 0.125*R*S*UGA_star**4 - 0.125*R*S*UGA_star**3 + 0.125*R*S*UGA_star**2*UgA_star**2 - 0.0625*R*S*UGA_star**2*UgA_star - 0.0625*R*S*UGA_star*UgA_star**2 + 0.1875*R*T*UGA_star**4 - 0.1875*R*T*UGA_star**3 - 0.0625*R*T*UGA_star**2*UgA_star**2 - 0.125*R*T*UGA_star**2*UgA_star + 0.1875*R*T*UGA_star*UgA_star**2 - 0.0625*S**2*UGA_star**4 + 0.125*S**2*UGA_star**3 - 0.0625*S**2*UGA_star**2*UgA_star**2 + 0.0625*S**2*UGA_star**2*UgA_star - 0.0625*S**2*UGA_star**2 + 0.0625*S**2*UGA_star*UgA_star**2 - 0.0625*S**2*UGA_star*UgA_star - 0.1875*S*T*UGA_star**4 + 0.375*S*T*UGA_star**3 + 0.0625*S*T*UGA_star**2*UgA_star**2 - 0.0625*S*T*UGA_star**2*UgA_star - 0.1875*S*T*UGA_star**2 - 0.0625*S*T*UGA_star*UgA_star**2 + 0.0625*S*T*UGA_star*UgA_star - 0.125*T**2*UGA_star**4 + 0.25*T**2*UGA_star**3 + 0.125*T**2*UGA_star**2*UgA_star**2 - 0.125*T**2*UGA_star**2*UgA_star - 0.125*T**2*UGA_star**2 - 0.125*T**2*UGA_star*UgA_star**2 + 0.125*T**2*UGA_star*UgA_star)/(0.25*P**2*UGA_star**4 - 1.0*P**2*UGA_star**3 + 1.5*P**2*UGA_star**2 - 1.0*P**2*UGA_star + 0.25*P**2 + 0.5*P*R*UGA_star**4 - 1.0*P*R*UGA_star**3 + 0.5*P*R*UGA_star**2 - 0.5*P*S*UGA_star**4 + 1.5*P*S*UGA_star**3 - 1.5*P*S*UGA_star**2 + 0.5*P*S*UGA_star - 0.5*P*T*UGA_star**4 + 1.5*P*T*UGA_star**3 - 1.5*P*T*UGA_star**2 + 0.5*P*T*UGA_star + 0.25*R**2*UGA_star**4 - 0.5*R*S*UGA_star**4 + 0.5*R*S*UGA_star**3 - 0.5*R*T*UGA_star**4 + 0.5*R*T*UGA_star**3 + 0.25*S**2*UGA_star**4 - 0.5*S**2*UGA_star**3 + 0.25*S**2*UGA_star**2 + 0.5*S*T*UGA_star**4 - 1.0*S*T*UGA_star**3 + 0.5*S*T*UGA_star**2 + 0.25*T**2*UGA_star**4 - 0.5*T**2*UGA_star**3 + 0.25*T**2*UGA_star**2),  (0.015625*P**2*UGA_star**4 - 0.0625*P**2*UGA_star**3 - 0.015625*P**2*UGA_star**2*UgA_star**2 + 0.03125*P**2*UGA_star**2*UgA_star + 0.078125*P**2*UGA_star**2 + 0.03125*P**2*UGA_star*UgA_star**2 - 0.0625*P**2*UGA_star*UgA_star - 0.03125*P**2*UGA_star - 0.015625*P**2*UgA_star**2 + 0.03125*P**2*UgA_star + 0.0625*P*R*UGA_prime_star*UGA_star**2 - 0.0625*P*R*UGA_prime_star*UGA_star + 0.03125*P*R*UGA_star**4 - 0.0625*P*R*UGA_star**3 - 0.03125*P*R*UGA_star**2*UgA_star**2 + 0.03125*P*R*UGA_star**2*UgA_star + 0.015625*P*R*UGA_star**2 + 0.03125*P*R*UGA_star*UgA_star**2 - 0.015625*P*R*UgA_star**2 - 0.03125*P*S*UGA_prime_star*UGA_star**2 + 0.0625*P*S*UGA_prime_star*UGA_star - 0.03125*P*S*UGA_prime_star - 0.03125*P*S*UGA_star**4 + 0.09375*P*S*UGA_star**3 + 0.03125*P*S*UGA_star**2*UgA_star**2 - 0.046875*P*S*UGA_star**2*UgA_star - 0.078125*P*S*UGA_star**2 - 0.046875*P*S*UGA_star*UgA_star**2 + 0.0625*P*S*UGA_star*UgA_star + 0.015625*P*S*UGA_star + 0.015625*P*S*UgA_star**2 - 0.015625*P*S*UgA_star - 0.03125*P*T*UGA_star**4 + 0.09375*P*T*UGA_star**3 + 0.03125*P*T*UGA_star**2*UgA_star**2 - 0.046875*P*T*UGA_star**2*UgA_star - 0.078125*P*T*UGA_star**2 - 0.046875*P*T*UGA_star*UgA_star**2 + 0.0625*P*T*UGA_star*UgA_star + 0.015625*P*T*UGA_star + 0.015625*P*T*UgA_star**2 - 0.015625*P*T*UgA_star + 0.015625*R**2*UGA_star**4 - 0.015625*R**2*UGA_star**2*UgA_star**2 - 0.03125*R*S*UGA_star**4 + 0.03125*R*S*UGA_star**3 + 0.03125*R*S*UGA_star**2*UgA_star**2 - 0.015625*R*S*UGA_star**2*UgA_star - 0.015625*R*S*UGA_star*UgA_star**2 - 0.03125*R*T*UGA_prime_star*UGA_star**2 - 0.03125*R*T*UGA_star**4 + 0.03125*R*T*UGA_star**3 + 0.03125*R*T*UGA_star**2*UgA_star**2 - 0.015625*R*T*UGA_star**2*UgA_star - 0.015625*R*T*UGA_star*UgA_star**2 + 0.015625*S**2*UGA_star**4 - 0.03125*S**2*UGA_star**3 - 0.015625*S**2*UGA_star**2*UgA_star**2 + 0.015625*S**2*UGA_star**2*UgA_star + 0.015625*S**2*UGA_star**2 + 0.015625*S**2*UGA_star*UgA_star**2 - 0.015625*S**2*UGA_star*UgA_star + 0.03125*S*T*UGA_star**4 - 0.0625*S*T*UGA_star**3 - 0.03125*S*T*UGA_star**2*UgA_star**2 + 0.03125*S*T*UGA_star**2*UgA_star + 0.03125*S*T*UGA_star**2 + 0.03125*S*T*UGA_star*UgA_star**2 - 0.03125*S*T*UGA_star*UgA_star + 0.015625*T**2*UGA_star**4 - 0.03125*T**2*UGA_star**3 - 0.015625*T**2*UGA_star**2*UgA_star**2 + 0.015625*T**2*UGA_star**2*UgA_star + 0.015625*T**2*UGA_star**2 + 0.015625*T**2*UGA_star*UgA_star**2 - 0.015625*T**2*UGA_star*UgA_star)/(0.0625*P**2*UGA_star**4 - 0.25*P**2*UGA_star**3 + 0.375*P**2*UGA_star**2 - 0.25*P**2*UGA_star + 0.0625*P**2 + 0.125*P*R*UGA_star**4 - 0.25*P*R*UGA_star**3 + 0.125*P*R*UGA_star**2 - 0.125*P*S*UGA_star**4 + 0.375*P*S*UGA_star**3 - 0.375*P*S*UGA_star**2 + 0.125*P*S*UGA_star - 0.125*P*T*UGA_star**4 + 0.375*P*T*UGA_star**3 - 0.375*P*T*UGA_star**2 + 0.125*P*T*UGA_star + 0.0625*R**2*UGA_star**4 - 0.125*R*S*UGA_star**4 + 0.125*R*S*UGA_star**3 - 0.125*R*T*UGA_star**4 + 0.125*R*T*UGA_star**3 + 0.0625*S**2*UGA_star**4 - 0.125*S**2*UGA_star**3 + 0.0625*S**2*UGA_star**2 + 0.125*S*T*UGA_star**4 - 0.25*S*T*UGA_star**3 + 0.125*S*T*UGA_star**2 + 0.0625*T**2*UGA_star**4 - 0.125*T**2*UGA_star**3 + 0.0625*T**2*UGA_star**2)],\n",
       "[                                                                                                                                                                                                                                                                                                                                                                                                                                                                                                                                                                                                                                                                                                                                                                                                                                                                                                                                                                                                                                                                                                                                                                                                                                                                                                                                                                                                                                                                                                                                                                                                                                                                                                                                                                                                                                                                                                                                                                                                                                                                                                                                                                                                                                                                                                                                                                                                                                                                                                                                                                                                                                                                        (-0.125*R*UGA_star**2 - 0.125*R*UgA_star**2 + 0.125*S*UGA_star**2 - 0.125*S*UGA_star + 0.125*S*UgA_star**2 - 0.125*S*UgA_star)/(0.5*P*UGA_star**2 - 1.0*P*UGA_star + 0.5*P + 0.5*R*UGA_star**2 - 0.5*S*UGA_star**2 + 0.5*S*UGA_star - 0.5*T*UGA_star**2 + 0.5*T*UGA_star),                                                                                                                                                                                                                                                                                                                                                                                                                                                                                                                                                                                                                                                                                                                                                                                                                                                                                                                                                                                                                                                                                                                                                                                                                                                                                                                                                                                                                                                                                                                                                                                                                                                                                                                                                                                                                                                                                                                                                                                                                                                                                                                                                                                                                                                                                                                                                                                                                                                                                                                (-0.125*R*UGA_star**2 - 0.125*R*UgA_star**2 + 0.125*S*UGA_star**2 - 0.125*S*UGA_star + 0.125*S*UgA_star**2 - 0.125*S*UgA_star)/(0.5*P*UGA_star**2 - 1.0*P*UGA_star + 0.5*P + 0.5*R*UGA_star**2 - 0.5*S*UGA_star**2 + 0.5*S*UGA_star - 0.5*T*UGA_star**2 + 0.5*T*UGA_star),                                                                                                                                                                                                                                                                                                                                                                                                                                                                                                                                                                                                                                                                                                                                                                                                                                                                                                                                                                                                                                                                                                                                                                                                                                                                                                                                                                                                                                                                                                                                                                                                                                                                                                                                                                                                                                                                                                                                                                                                                                                                                                                                                                                                                                                                                                                                                                                                                                                                                                                                                                                                                                                                                                                                                                  (-0.1875*P*UGA_star**2 + 0.375*P*UGA_star + 0.0625*P*UgA_star**2 - 0.125*P*UgA_star - 0.125*P - 0.1875*R*UGA_star**2 + 0.0625*R*UgA_star**2 + 0.1875*S*UGA_star**2 - 0.1875*S*UGA_star - 0.0625*S*UgA_star**2 + 0.0625*S*UgA_star + 0.1875*T*UGA_star**2 - 0.1875*T*UGA_star - 0.0625*T*UgA_star**2 + 0.0625*T*UgA_star)/(0.25*P*UGA_star**2 - 0.5*P*UGA_star + 0.25*P + 0.25*R*UGA_star**2 - 0.25*S*UGA_star**2 + 0.25*S*UGA_star - 0.25*T*UGA_star**2 + 0.25*T*UGA_star)]])"
      ]
     },
     "execution_count": 22,
     "metadata": {},
     "output_type": "execute_result"
    }
   ],
   "source": [
    "simplified_F_jac"
   ]
  },
  {
   "cell_type": "code",
   "execution_count": 15,
   "metadata": {
    "collapsed": true
   },
   "outputs": [],
   "source": [
    "eigenvals = simplified_F_jac.eigenvals()"
   ]
  },
  {
   "cell_type": "code",
   "execution_count": 16,
   "metadata": {
    "collapsed": true
   },
   "outputs": [],
   "source": [
    "e1, e2, e3 = eigenvals.keys()"
   ]
  },
  {
   "cell_type": "code",
   "execution_count": 18,
   "metadata": {},
   "outputs": [
    {
     "data": {
      "text/plain": [
       "-(P*UGA_star**2 - 2*P*UGA_star - P*UgA_star**2 + 2*P*UgA_star + R*UGA_star**2 - R*UgA_star**2 - S*UGA_star**2 + S*UGA_star + S*UgA_star**2 - S*UgA_star - T*UGA_star**2 + T*UGA_star + T*UgA_star**2 - T*UgA_star)/(2*P*UGA_star**2 - 4*P*UGA_star + 2*P + 2*R*UGA_star**2 - 2*S*UGA_star**2 + 2*S*UGA_star - 2*T*UGA_star**2 + 2*T*UGA_star)"
      ]
     },
     "execution_count": 18,
     "metadata": {},
     "output_type": "execute_result"
    }
   ],
   "source": [
    "e1"
   ]
  },
  {
   "cell_type": "markdown",
   "metadata": {},
   "source": [
    "Start building intuition for when this eigenvalue is negative by making an interactive plot!"
   ]
  },
  {
   "cell_type": "code",
   "execution_count": 91,
   "metadata": {},
   "outputs": [],
   "source": [
    "# vectorized numeric repr for the eigenvalue\n",
    "_numeric_e1 = sym.lambdify((UGA_star, UgA_star, T, R, P, S), e1, modules=\"numpy\")"
   ]
  },
  {
   "cell_type": "code",
   "execution_count": 101,
   "metadata": {},
   "outputs": [],
   "source": [
    "def plot_eigenvalue(T, R, P, S):\n",
    "\n",
    "    fig, ax = plt.subplots(1, 1, figsize=(10, 10))\n",
    "    ax.set_ylabel(r\"$U_{GA}^*$\", fontsize=20, rotation=\"horizontal\")\n",
    "    ax.set_xlabel(r\"$U_{gA}^{*}$\", fontsize=20)\n",
    "    ax.set_title(r\"Non-invadable equilibrium requires negative eigenvalue!\", fontsize=20)\n",
    "    ax.grid(\"off\")\n",
    "\n",
    "    equilibrium_selection_probs = np.linspace(0, 1, 100)\n",
    "    Z = _numeric_e1(equilibrium_selection_probs.reshape(-1, 1), equilibrium_selection_probs.reshape(1, -1), T, R, P, S)\n",
    "    cax = ax.imshow(Z, origin=\"lower\", aspect=\"auto\")\n",
    "\n",
    "    contours = ax.contour(Z, colors='w', origin='lower')\n",
    "    ax.clabel(contours, contours.levels, inline=True, fontsize=10)\n",
    "    \n",
    "    # adjust the tick labels\n",
    "    locs, _ = plt.xticks()\n",
    "    plt.xticks(locs[1:], np.linspace(0, 1, locs.size-1))\n",
    "    locs, _ = plt.yticks()\n",
    "    plt.yticks(locs[1:], np.linspace(0, 1, locs.size-1))\n",
    "\n",
    "    plt.show()"
   ]
  },
  {
   "cell_type": "code",
   "execution_count": 102,
   "metadata": {},
   "outputs": [
    {
     "data": {
      "application/vnd.jupyter.widget-view+json": {
       "model_id": "115b465834494731b750035900103920",
       "version_major": 2,
       "version_minor": 0
      },
      "text/plain": [
       "A Jupyter Widget"
      ]
     },
     "metadata": {},
     "output_type": "display_data"
    }
   ],
   "source": [
    "mpld3.disable_notebook()  # don't need interactive plotting for this!\n",
    "\n",
    "# sliders used to control the Prisoner's Dilemma Payoffs\n",
    "T_slider = widgets.FloatSlider(value=25, min=0, max=100, step=0.1, description=r\"$T$\")\n",
    "R_slider = widgets.FloatSlider(value=3, min=0, max=100, step=0.1, description=r\"$R$\")\n",
    "P_slider = widgets.FloatSlider(value=2, min=0, max=100, step=0.1, description=r\"$P$\")\n",
    "S_slider = widgets.FloatSlider(value=1, min=0, max=100, step=0.1, description=r\"$S$\")\n",
    "\n",
    "w = widgets.interactive(plot_eigenvalue, T=T_slider, R=R_slider, P=P_slider, S=S_slider)\n",
    "display(w)"
   ]
  },
  {
   "cell_type": "code",
   "execution_count": 23,
   "metadata": {},
   "outputs": [
    {
     "data": {
      "text/plain": [
       "-(UGA_star - UgA_star)*(P*UGA_star + P*UgA_star - 2*P + R*UGA_star + R*UgA_star - S*UGA_star - S*UgA_star + S - T*UGA_star - T*UgA_star + T)/(2*(P*UGA_star**2 - 2*P*UGA_star + P + R*UGA_star**2 - S*UGA_star**2 + S*UGA_star - T*UGA_star**2 + T*UGA_star))"
      ]
     },
     "execution_count": 23,
     "metadata": {},
     "output_type": "execute_result"
    }
   ],
   "source": [
    "sym.factor(e1)"
   ]
  },
  {
   "cell_type": "markdown",
   "metadata": {},
   "source": [
    "After a bit of fiddling the above expression implies the following inequality hold in order to insure that the eigenvalue is strictly negative.\n",
    "\n",
    "\\begin{align}\n",
    "   % -(U_{GA}(x^*) - U_{gA}(x^*))*(P*U_{GA}(x^*) + P*U_{gA}(x^*) - 2*P + R*U_{GA}(x^*) + R*U_{gA}(x^*) - S*U_{GA}(x^*) - S*U_{gA}(x^*) + S - T*U_{GA}(x^*) - T*U_{gA}(x^*) + T)/(2*(P*U_{GA}(x^*)^2 - 2*P*U_{GA}(x^*) + P + R*U_{GA}(x^*)^2 - S*U_{GA}(x^*)^2 + S*U_{GA}(x^*) - T*U_{GA}(x^*)^2 + T*U_{GA}(x^*))) < 0\\\\\n",
    "   % \\frac{-(U_{GA}(x^*) - U_{gA}(x^*))(PU_{GA}(x^*) + PU_{gA}(x^*) - 2P + RU_{GA}(x^*) + RU_{gA}(x^*) - SU_{GA}(x^*) - SU_{gA}(x^*) + S - TU_{GA}(x^*) - TU_{gA}(x^*) + T)}{(2(PU_{GA}(x^*)^2 - 2PU_{GA}(x^*) + P + RU_{GA}(x^*)^2 - SU_{GA}(x^*)^2 + SU_{GA}(x^*) - TU_{GA}(x^*)^2 + TU_{GA}(x^*)))} < 0\\\\\n",
    "   % \\frac{-(U_{GA}(x^*) - U_{gA}(x^*))(PU_{GA}(x^*) + PU_{gA}(x^*) - 2P + RU_{GA}(x^*) + RU_{gA}(x^*) - SU_{GA}(x^*) - SU_{gA}(x^*) + S - TU_{GA}(x^*) - TU_{gA}(x^*) + T)}{(2\\bigg(\\big((R + P) - (T + S)\\big)U_{GA}(x^*)^2 + \\big((T + S) - 2P\\big)U_{GA}(x^*) + P\\bigg))} < 0\\\\\n",
    "   % \\frac{-(U_{GA}(x^*) - U_{gA}(x^*))\\bigg(\\big((R + P) - (T + S)\\big)U_{GA}(x^*) + \\big((R + P) - (T + S)\\big)U_{gA}(x^*) + \\big((T + S) - 2P\\big)\\bigg)}{(2\\bigg(\\big((R + P) - (T + S)\\big)U_{GA}(x^*)^2 + \\big((T + S) - 2P\\big)U_{GA}(x^*) + P\\bigg))} < 0\\\\\n",
    "   % -\\frac{1}{2}\\frac{(U_{GA}(x^*) - U_{gA}(x^*))\\bigg(\\big((R + P) - (T + S)\\big)U_{GA}(x^*) + \\big((R + P) - (T + S)\\big)U_{gA}(x^*) + \\big((T + S) - 2P\\big)\\bigg)}{\\big((R + P) - (T + S)\\big)U_{GA}(x^*)^2 + \\big((T + S) - 2P\\big)U_{GA}(x^*) + P} < 0\\\\\n",
    "   % -\\frac{1}{2}\\frac{(U_{GA}(x^*) - U_{gA}(x^*))\\bigg(\\big((R + P) - (T + S)\\big)(U_{GA}(x^*) + U_{gA}(x^*)) + \\big((T + S) - 2P\\big)\\bigg)}{\\big((R + P) - (T + S)\\big)U_{GA}(x^*)^2 + \\big((T + S) - 2P\\big)U_{GA}(x^*) + P} < 0\\\\\n",
    "   % -\\frac{1}{2}\\frac{\\bigg(\\big((R + P) - (T + S)\\big)\\big(U_{GA}(x^*)^2 - U_{gA}(x^*)^2\\big) + \\big((T + S) - 2P\\big)\\big(U_{GA}(x^*) - U_{gA}(x^*)\\big)\\bigg)}{\\big((R + P) - (T + S)\\big)U_{GA}(x^*)^2 + \\big((T + S) - 2P\\big)U_{GA}(x^*) + P} < 0\\\\\n",
    "    \\frac{\\big((R + P) - (T + S)\\big)\\big(U_{GA}(x^*)^2 - U_{gA}(x^*)^2\\big) + \\big((T + S) - 2P\\big)\\big(U_{GA}(x^*) - U_{gA}(x^*)\\big)}{\\big((R + P) - (T + S)\\big)U_{GA}(x^*)^2 + \\big((T + S) - 2P\\big)U_{GA}(x^*) + P} > 0\\\\\n",
    "\\end{align}\n",
    "\n",
    "**Claim: Denominator of this expression is strictly positive for all $0 \\le U_{GA}(x^*) \\le 1$.** Based on graphical intution. Proof to come.\n",
    "\n",
    "Given that the denominator is strictly positive, the sign of this expression is determined by the numerator.\n",
    "\n",
    "\\begin{align}\n",
    "    \\big((R + P) - (T + S)\\big)\\big(U_{GA}(x^*)^2 - U_{gA}(x^*)^2\\big) + \\big((T + S) - 2P\\big)\\big(U_{GA}(x^*) - U_{gA}(x^*)\\big) > 0\n",
    "\\end{align}"
   ]
  },
  {
   "cell_type": "code",
   "execution_count": 52,
   "metadata": {},
   "outputs": [
    {
     "data": {
      "image/png": "[encoded data removed]",
      "text/html": [
       "\n",
       "\n",
       "<style>\n",
       "\n",
       "</style>\n",
       "\n",
       "<div id=\"fig_el320074514838400387414228\"></div>\n",
       "<script>\n",
       "function mpld3_load_lib(url, callback){\n",
       "  var s = document.createElement('script');\n",
       "  s.src = url;\n",
       "  s.async = true;\n",
       "  s.onreadystatechange = s.onload = callback;\n",
       "  s.onerror = function(){console.warn(\"failed to load library \" + url);};\n",
       "  document.getElementsByTagName(\"head\")[0].appendChild(s);\n",
       "}\n",
       "\n",
       "if(typeof(mpld3) !== \"undefined\" && mpld3._mpld3IsLoaded){\n",
       "   // already loaded: just create the figure\n",
       "   !function(mpld3){\n",
       "       \n",
       "       mpld3.draw_figure(\"fig_el320074514838400387414228\", {\"width\": 720.0, \"height\": 432.0, \"axes\": [{\"bbox\": [0.125, 0.125, 0.775, 0.755], \"xlim\": [-0.05, 1.05], \"ylim\": [5.899972681359045, 8.100001300887664], \"xdomain\": [-0.05, 1.05], \"ydomain\": [5.899972681359045, 8.100001300887664], \"xscale\": \"linear\", \"yscale\": \"linear\", \"axes\": [{\"position\": \"bottom\", \"nticks\": 8, \"tickvalues\": null, \"tickformat\": null, \"scale\": \"linear\", \"fontsize\": 10.0, \"grid\": {\"gridOn\": true, \"color\": \"#FFFFFF\", \"dasharray\": \"none\", \"alpha\": 1.0}, \"visible\": true}, {\"position\": \"left\", \"nticks\": 11, \"tickvalues\": null, \"tickformat\": null, \"scale\": \"linear\", \"fontsize\": 10.0, \"grid\": {\"gridOn\": true, \"color\": \"#FFFFFF\", \"dasharray\": \"none\", \"alpha\": 1.0}, \"visible\": true}], \"axesbg\": \"#E5E5E5\", \"axesbgalpha\": null, \"zoomable\": true, \"id\": \"el320074580437464\", \"lines\": [{\"data\": \"data01\", \"xindex\": 0, \"yindex\": 1, \"coordinates\": \"data\", \"id\": \"el320074514840472\", \"color\": \"#E24A33\", \"linewidth\": 1.5, \"dasharray\": \"none\", \"alpha\": 1, \"zorder\": 2, \"drawstyle\": \"default\"}], \"paths\": [], \"markers\": [], \"texts\": [{\"text\": \"$((R + P) - (T + S))U_{GA}(x^*)^2 + ((T + S) - 2P)U_{GA}(x^*) + P$\", \"position\": [0.5, 1.0183958793230317], \"coordinates\": \"axes\", \"h_anchor\": \"middle\", \"v_baseline\": \"auto\", \"rotation\": -0.0, \"fontsize\": 14.399999999999999, \"color\": \"#000000\", \"alpha\": 1, \"zorder\": 3, \"id\": \"el3200790700072608\"}], \"collections\": [], \"images\": [], \"sharex\": [], \"sharey\": []}], \"data\": {\"data01\": [[0.0, 7.999], [0.010101010101010102, 7.919029262320171], [0.020202020202020204, 7.840690786654423], [0.030303030303030304, 7.763984573002754], [0.04040404040404041, 7.688910621365166], [0.05050505050505051, 7.615468931741659], [0.06060606060606061, 7.543659504132231], [0.07070707070707072, 7.473482338536884], [0.08080808080808081, 7.404937434955617], [0.09090909090909091, 7.3380247933884295], [0.10101010101010102, 7.272744413835323], [0.11111111111111112, 7.209096296296296], [0.12121212121212122, 7.147080440771349], [0.13131313131313133, 7.086696847260483], [0.14141414141414144, 7.027945515763697], [0.15151515151515152, 6.9708264462809915], [0.16161616161616163, 6.915339638812366], [0.17171717171717174, 6.86148509335782], [0.18181818181818182, 6.809262809917355], [0.19191919191919193, 6.75867278849097], [0.20202020202020204, 6.709715029078665], [0.21212121212121213, 6.66238953168044], [0.22222222222222224, 6.616696296296296], [0.23232323232323235, 6.5726353229262315], [0.24242424242424243, 6.5302066115702475], [0.25252525252525254, 6.489410162228344], [0.26262626262626265, 6.45024597490052], [0.27272727272727276, 6.412714049586777], [0.2828282828282829, 6.376814386287113], [0.29292929292929293, 6.34254698500153], [0.30303030303030304, 6.309911845730028], [0.31313131313131315, 6.278908968472605], [0.32323232323232326, 6.249538353229262], [0.33333333333333337, 6.2218], [0.3434343434343435, 6.1956939087848175], [0.3535353535353536, 6.1712200795837155], [0.36363636363636365, 6.148378512396694], [0.37373737373737376, 6.127169207223752], [0.38383838383838387, 6.107592164064891], [0.393939393939394, 6.089647382920109], [0.4040404040404041, 6.073334863789409], [0.4141414141414142, 6.058654606672788], [0.42424242424242425, 6.045606611570248], [0.43434343434343436, 6.0341908784817875], [0.4444444444444445, 6.024407407407407], [0.4545454545454546, 6.016256198347107], [0.4646464646464647, 6.009737251300887], [0.4747474747474748, 6.004850566268748], [0.48484848484848486, 6.001596143250689], [0.494949494949495, 5.9999739822467095], [0.5050505050505051, 5.99998408325681], [0.5151515151515152, 6.001626446280992], [0.5252525252525253, 6.004901071319253], [0.5353535353535354, 6.009807958371594], [0.5454545454545455, 6.0163471074380155], [0.5555555555555556, 6.024518518518518], [0.5656565656565657, 6.0343221916131], [0.5757575757575758, 6.045758126721763], [0.5858585858585859, 6.058826323844505], [0.595959595959596, 6.073526782981328], [0.6060606060606061, 6.089859504132232], [0.6161616161616162, 6.107824487297215], [0.6262626262626263, 6.127421732476277], [0.6363636363636365, 6.148651239669421], [0.6464646464646465, 6.171513008876645], [0.6565656565656566, 6.196007040097948], [0.6666666666666667, 6.222133333333333], [0.6767676767676768, 6.249891888582798], [0.686868686868687, 6.279282705846342], [0.696969696969697, 6.310305785123966], [0.7070707070707072, 6.342961126415672], [0.7171717171717172, 6.377248729721456], [0.7272727272727273, 6.413168595041322], [0.7373737373737375, 6.450720722375268], [0.7474747474747475, 6.489905111723293], [0.7575757575757577, 6.530721763085399], [0.7676767676767677, 6.573170676461586], [0.7777777777777778, 6.617251851851851], [0.787878787878788, 6.6629652892561975], [0.797979797979798, 6.710310988674625], [0.8080808080808082, 6.759288950107131], [0.8181818181818182, 6.809899173553719], [0.8282828282828284, 6.862141659014386], [0.8383838383838385, 6.916016406489133], [0.8484848484848485, 6.971523415977961], [0.8585858585858587, 7.028662687480869], [0.8686868686868687, 7.087434220997857], [0.8787878787878789, 7.147838016528925], [0.888888888888889, 7.209874074074074], [0.8989898989898991, 7.273542393633303], [0.9090909090909092, 7.338842975206611], [0.9191919191919192, 7.405775818794001], [0.9292929292929294, 7.474340924395469], [0.9393939393939394, 7.544538292011018], [0.9494949494949496, 7.6163679216406495], [0.9595959595959597, 7.6898298132843586], [0.9696969696969697, 7.764923966942148], [0.9797979797979799, 7.841650382614019], [0.98989898989899, 7.920009060299969], [1.0, 7.999999999999999]]}, \"id\": \"el320074514838400\", \"plugins\": [{\"type\": \"reset\"}, {\"type\": \"zoom\", \"button\": true, \"enabled\": false}, {\"type\": \"boxzoom\", \"button\": true, \"enabled\": false}]});\n",
       "   }(mpld3);\n",
       "}else if(typeof define === \"function\" && define.amd){\n",
       "   // require.js is available: use it to load d3/mpld3\n",
       "   require.config({paths: {d3: \"https://mpld3.github.io/js/d3.v3.min\"}});\n",
       "   require([\"d3\"], function(d3){\n",
       "      window.d3 = d3;\n",
       "      mpld3_load_lib(\"https://mpld3.github.io/js/mpld3.v0.3.js\", function(){\n",
       "         \n",
       "         mpld3.draw_figure(\"fig_el320074514838400387414228\", {\"width\": 720.0, \"height\": 432.0, \"axes\": [{\"bbox\": [0.125, 0.125, 0.775, 0.755], \"xlim\": [-0.05, 1.05], \"ylim\": [5.899972681359045, 8.100001300887664], \"xdomain\": [-0.05, 1.05], \"ydomain\": [5.899972681359045, 8.100001300887664], \"xscale\": \"linear\", \"yscale\": \"linear\", \"axes\": [{\"position\": \"bottom\", \"nticks\": 8, \"tickvalues\": null, \"tickformat\": null, \"scale\": \"linear\", \"fontsize\": 10.0, \"grid\": {\"gridOn\": true, \"color\": \"#FFFFFF\", \"dasharray\": \"none\", \"alpha\": 1.0}, \"visible\": true}, {\"position\": \"left\", \"nticks\": 11, \"tickvalues\": null, \"tickformat\": null, \"scale\": \"linear\", \"fontsize\": 10.0, \"grid\": {\"gridOn\": true, \"color\": \"#FFFFFF\", \"dasharray\": \"none\", \"alpha\": 1.0}, \"visible\": true}], \"axesbg\": \"#E5E5E5\", \"axesbgalpha\": null, \"zoomable\": true, \"id\": \"el320074580437464\", \"lines\": [{\"data\": \"data01\", \"xindex\": 0, \"yindex\": 1, \"coordinates\": \"data\", \"id\": \"el320074514840472\", \"color\": \"#E24A33\", \"linewidth\": 1.5, \"dasharray\": \"none\", \"alpha\": 1, \"zorder\": 2, \"drawstyle\": \"default\"}], \"paths\": [], \"markers\": [], \"texts\": [{\"text\": \"$((R + P) - (T + S))U_{GA}(x^*)^2 + ((T + S) - 2P)U_{GA}(x^*) + P$\", \"position\": [0.5, 1.0183958793230317], \"coordinates\": \"axes\", \"h_anchor\": \"middle\", \"v_baseline\": \"auto\", \"rotation\": -0.0, \"fontsize\": 14.399999999999999, \"color\": \"#000000\", \"alpha\": 1, \"zorder\": 3, \"id\": \"el3200790700072608\"}], \"collections\": [], \"images\": [], \"sharex\": [], \"sharey\": []}], \"data\": {\"data01\": [[0.0, 7.999], [0.010101010101010102, 7.919029262320171], [0.020202020202020204, 7.840690786654423], [0.030303030303030304, 7.763984573002754], [0.04040404040404041, 7.688910621365166], [0.05050505050505051, 7.615468931741659], [0.06060606060606061, 7.543659504132231], [0.07070707070707072, 7.473482338536884], [0.08080808080808081, 7.404937434955617], [0.09090909090909091, 7.3380247933884295], [0.10101010101010102, 7.272744413835323], [0.11111111111111112, 7.209096296296296], [0.12121212121212122, 7.147080440771349], [0.13131313131313133, 7.086696847260483], [0.14141414141414144, 7.027945515763697], [0.15151515151515152, 6.9708264462809915], [0.16161616161616163, 6.915339638812366], [0.17171717171717174, 6.86148509335782], [0.18181818181818182, 6.809262809917355], [0.19191919191919193, 6.75867278849097], [0.20202020202020204, 6.709715029078665], [0.21212121212121213, 6.66238953168044], [0.22222222222222224, 6.616696296296296], [0.23232323232323235, 6.5726353229262315], [0.24242424242424243, 6.5302066115702475], [0.25252525252525254, 6.489410162228344], [0.26262626262626265, 6.45024597490052], [0.27272727272727276, 6.412714049586777], [0.2828282828282829, 6.376814386287113], [0.29292929292929293, 6.34254698500153], [0.30303030303030304, 6.309911845730028], [0.31313131313131315, 6.278908968472605], [0.32323232323232326, 6.249538353229262], [0.33333333333333337, 6.2218], [0.3434343434343435, 6.1956939087848175], [0.3535353535353536, 6.1712200795837155], [0.36363636363636365, 6.148378512396694], [0.37373737373737376, 6.127169207223752], [0.38383838383838387, 6.107592164064891], [0.393939393939394, 6.089647382920109], [0.4040404040404041, 6.073334863789409], [0.4141414141414142, 6.058654606672788], [0.42424242424242425, 6.045606611570248], [0.43434343434343436, 6.0341908784817875], [0.4444444444444445, 6.024407407407407], [0.4545454545454546, 6.016256198347107], [0.4646464646464647, 6.009737251300887], [0.4747474747474748, 6.004850566268748], [0.48484848484848486, 6.001596143250689], [0.494949494949495, 5.9999739822467095], [0.5050505050505051, 5.99998408325681], [0.5151515151515152, 6.001626446280992], [0.5252525252525253, 6.004901071319253], [0.5353535353535354, 6.009807958371594], [0.5454545454545455, 6.0163471074380155], [0.5555555555555556, 6.024518518518518], [0.5656565656565657, 6.0343221916131], [0.5757575757575758, 6.045758126721763], [0.5858585858585859, 6.058826323844505], [0.595959595959596, 6.073526782981328], [0.6060606060606061, 6.089859504132232], [0.6161616161616162, 6.107824487297215], [0.6262626262626263, 6.127421732476277], [0.6363636363636365, 6.148651239669421], [0.6464646464646465, 6.171513008876645], [0.6565656565656566, 6.196007040097948], [0.6666666666666667, 6.222133333333333], [0.6767676767676768, 6.249891888582798], [0.686868686868687, 6.279282705846342], [0.696969696969697, 6.310305785123966], [0.7070707070707072, 6.342961126415672], [0.7171717171717172, 6.377248729721456], [0.7272727272727273, 6.413168595041322], [0.7373737373737375, 6.450720722375268], [0.7474747474747475, 6.489905111723293], [0.7575757575757577, 6.530721763085399], [0.7676767676767677, 6.573170676461586], [0.7777777777777778, 6.617251851851851], [0.787878787878788, 6.6629652892561975], [0.797979797979798, 6.710310988674625], [0.8080808080808082, 6.759288950107131], [0.8181818181818182, 6.809899173553719], [0.8282828282828284, 6.862141659014386], [0.8383838383838385, 6.916016406489133], [0.8484848484848485, 6.971523415977961], [0.8585858585858587, 7.028662687480869], [0.8686868686868687, 7.087434220997857], [0.8787878787878789, 7.147838016528925], [0.888888888888889, 7.209874074074074], [0.8989898989898991, 7.273542393633303], [0.9090909090909092, 7.338842975206611], [0.9191919191919192, 7.405775818794001], [0.9292929292929294, 7.474340924395469], [0.9393939393939394, 7.544538292011018], [0.9494949494949496, 7.6163679216406495], [0.9595959595959597, 7.6898298132843586], [0.9696969696969697, 7.764923966942148], [0.9797979797979799, 7.841650382614019], [0.98989898989899, 7.920009060299969], [1.0, 7.999999999999999]]}, \"id\": \"el320074514838400\", \"plugins\": [{\"type\": \"reset\"}, {\"type\": \"zoom\", \"button\": true, \"enabled\": false}, {\"type\": \"boxzoom\", \"button\": true, \"enabled\": false}]});\n",
       "      });\n",
       "    });\n",
       "}else{\n",
       "    // require.js not available: dynamically load d3 & mpld3\n",
       "    mpld3_load_lib(\"https://mpld3.github.io/js/d3.v3.min.js\", function(){\n",
       "         mpld3_load_lib(\"https://mpld3.github.io/js/mpld3.v0.3.js\", function(){\n",
       "                 \n",
       "                 mpld3.draw_figure(\"fig_el320074514838400387414228\", {\"width\": 720.0, \"height\": 432.0, \"axes\": [{\"bbox\": [0.125, 0.125, 0.775, 0.755], \"xlim\": [-0.05, 1.05], \"ylim\": [5.899972681359045, 8.100001300887664], \"xdomain\": [-0.05, 1.05], \"ydomain\": [5.899972681359045, 8.100001300887664], \"xscale\": \"linear\", \"yscale\": \"linear\", \"axes\": [{\"position\": \"bottom\", \"nticks\": 8, \"tickvalues\": null, \"tickformat\": null, \"scale\": \"linear\", \"fontsize\": 10.0, \"grid\": {\"gridOn\": true, \"color\": \"#FFFFFF\", \"dasharray\": \"none\", \"alpha\": 1.0}, \"visible\": true}, {\"position\": \"left\", \"nticks\": 11, \"tickvalues\": null, \"tickformat\": null, \"scale\": \"linear\", \"fontsize\": 10.0, \"grid\": {\"gridOn\": true, \"color\": \"#FFFFFF\", \"dasharray\": \"none\", \"alpha\": 1.0}, \"visible\": true}], \"axesbg\": \"#E5E5E5\", \"axesbgalpha\": null, \"zoomable\": true, \"id\": \"el320074580437464\", \"lines\": [{\"data\": \"data01\", \"xindex\": 0, \"yindex\": 1, \"coordinates\": \"data\", \"id\": \"el320074514840472\", \"color\": \"#E24A33\", \"linewidth\": 1.5, \"dasharray\": \"none\", \"alpha\": 1, \"zorder\": 2, \"drawstyle\": \"default\"}], \"paths\": [], \"markers\": [], \"texts\": [{\"text\": \"$((R + P) - (T + S))U_{GA}(x^*)^2 + ((T + S) - 2P)U_{GA}(x^*) + P$\", \"position\": [0.5, 1.0183958793230317], \"coordinates\": \"axes\", \"h_anchor\": \"middle\", \"v_baseline\": \"auto\", \"rotation\": -0.0, \"fontsize\": 14.399999999999999, \"color\": \"#000000\", \"alpha\": 1, \"zorder\": 3, \"id\": \"el3200790700072608\"}], \"collections\": [], \"images\": [], \"sharex\": [], \"sharey\": []}], \"data\": {\"data01\": [[0.0, 7.999], [0.010101010101010102, 7.919029262320171], [0.020202020202020204, 7.840690786654423], [0.030303030303030304, 7.763984573002754], [0.04040404040404041, 7.688910621365166], [0.05050505050505051, 7.615468931741659], [0.06060606060606061, 7.543659504132231], [0.07070707070707072, 7.473482338536884], [0.08080808080808081, 7.404937434955617], [0.09090909090909091, 7.3380247933884295], [0.10101010101010102, 7.272744413835323], [0.11111111111111112, 7.209096296296296], [0.12121212121212122, 7.147080440771349], [0.13131313131313133, 7.086696847260483], [0.14141414141414144, 7.027945515763697], [0.15151515151515152, 6.9708264462809915], [0.16161616161616163, 6.915339638812366], [0.17171717171717174, 6.86148509335782], [0.18181818181818182, 6.809262809917355], [0.19191919191919193, 6.75867278849097], [0.20202020202020204, 6.709715029078665], [0.21212121212121213, 6.66238953168044], [0.22222222222222224, 6.616696296296296], [0.23232323232323235, 6.5726353229262315], [0.24242424242424243, 6.5302066115702475], [0.25252525252525254, 6.489410162228344], [0.26262626262626265, 6.45024597490052], [0.27272727272727276, 6.412714049586777], [0.2828282828282829, 6.376814386287113], [0.29292929292929293, 6.34254698500153], [0.30303030303030304, 6.309911845730028], [0.31313131313131315, 6.278908968472605], [0.32323232323232326, 6.249538353229262], [0.33333333333333337, 6.2218], [0.3434343434343435, 6.1956939087848175], [0.3535353535353536, 6.1712200795837155], [0.36363636363636365, 6.148378512396694], [0.37373737373737376, 6.127169207223752], [0.38383838383838387, 6.107592164064891], [0.393939393939394, 6.089647382920109], [0.4040404040404041, 6.073334863789409], [0.4141414141414142, 6.058654606672788], [0.42424242424242425, 6.045606611570248], [0.43434343434343436, 6.0341908784817875], [0.4444444444444445, 6.024407407407407], [0.4545454545454546, 6.016256198347107], [0.4646464646464647, 6.009737251300887], [0.4747474747474748, 6.004850566268748], [0.48484848484848486, 6.001596143250689], [0.494949494949495, 5.9999739822467095], [0.5050505050505051, 5.99998408325681], [0.5151515151515152, 6.001626446280992], [0.5252525252525253, 6.004901071319253], [0.5353535353535354, 6.009807958371594], [0.5454545454545455, 6.0163471074380155], [0.5555555555555556, 6.024518518518518], [0.5656565656565657, 6.0343221916131], [0.5757575757575758, 6.045758126721763], [0.5858585858585859, 6.058826323844505], [0.595959595959596, 6.073526782981328], [0.6060606060606061, 6.089859504132232], [0.6161616161616162, 6.107824487297215], [0.6262626262626263, 6.127421732476277], [0.6363636363636365, 6.148651239669421], [0.6464646464646465, 6.171513008876645], [0.6565656565656566, 6.196007040097948], [0.6666666666666667, 6.222133333333333], [0.6767676767676768, 6.249891888582798], [0.686868686868687, 6.279282705846342], [0.696969696969697, 6.310305785123966], [0.7070707070707072, 6.342961126415672], [0.7171717171717172, 6.377248729721456], [0.7272727272727273, 6.413168595041322], [0.7373737373737375, 6.450720722375268], [0.7474747474747475, 6.489905111723293], [0.7575757575757577, 6.530721763085399], [0.7676767676767677, 6.573170676461586], [0.7777777777777778, 6.617251851851851], [0.787878787878788, 6.6629652892561975], [0.797979797979798, 6.710310988674625], [0.8080808080808082, 6.759288950107131], [0.8181818181818182, 6.809899173553719], [0.8282828282828284, 6.862141659014386], [0.8383838383838385, 6.916016406489133], [0.8484848484848485, 6.971523415977961], [0.8585858585858587, 7.028662687480869], [0.8686868686868687, 7.087434220997857], [0.8787878787878789, 7.147838016528925], [0.888888888888889, 7.209874074074074], [0.8989898989898991, 7.273542393633303], [0.9090909090909092, 7.338842975206611], [0.9191919191919192, 7.405775818794001], [0.9292929292929294, 7.474340924395469], [0.9393939393939394, 7.544538292011018], [0.9494949494949496, 7.6163679216406495], [0.9595959595959597, 7.6898298132843586], [0.9696969696969697, 7.764923966942148], [0.9797979797979799, 7.841650382614019], [0.98989898989899, 7.920009060299969], [1.0, 7.999999999999999]]}, \"id\": \"el320074514838400\", \"plugins\": [{\"type\": \"reset\"}, {\"type\": \"zoom\", \"button\": true, \"enabled\": false}, {\"type\": \"boxzoom\", \"button\": true, \"enabled\": false}]});\n",
       "            })\n",
       "         });\n",
       "}\n",
       "</script>"
      ],
      "text/plain": [
       "<matplotlib.figure.Figure at 0x10d1af780>"
      ]
     },
     "metadata": {},
     "output_type": "display_data"
    }
   ],
   "source": [
    "def plot_denominator():\n",
    "    fig, ax = plt.subplots(1, 1, figsize=(10,6))\n",
    "    T, R, P, S = 8.0001, 8, 7.999, 0\n",
    "    g = lambda u: ((R + P) - (T + S)) * u**2 + (T + S - 2 * P) * u + P\n",
    "    us = np.linspace(0, 1, 100)\n",
    "    ax.plot(us, g(us))\n",
    "    ax.set_title(r\"$((R + P) - (T + S))U_{GA}(x^*)^2 + ((T + S) - 2P)U_{GA}(x^*) + P$\")\n",
    "    plt.show()"
   ]
  },
  {
   "cell_type": "code",
   "execution_count": 19,
   "metadata": {},
   "outputs": [
    {
     "data": {
      "text/plain": [
       "-(3*P*UGA_star**2 - 6*P*UGA_star - P*UgA_star**2 + 2*P*UgA_star + 2*P + 3*R*UGA_star**2 - R*UgA_star**2 - 3*S*UGA_star**2 + 3*S*UGA_star + S*UgA_star**2 - S*UgA_star - 3*T*UGA_star**2 + 3*T*UGA_star + T*UgA_star**2 - T*UgA_star)/(4*P*UGA_star**2 - 8*P*UGA_star + 4*P + 4*R*UGA_star**2 - 4*S*UGA_star**2 + 4*S*UGA_star - 4*T*UGA_star**2 + 4*T*UGA_star)"
      ]
     },
     "execution_count": 19,
     "metadata": {},
     "output_type": "execute_result"
    }
   ],
   "source": [
    "e2"
   ]
  },
  {
   "cell_type": "markdown",
   "metadata": {},
   "source": [
    "After a bit of fiddling the above expression implies the following inequality hold in order to insure that the eigenvalue is strictly negative.\n",
    "\n",
    "\\begin{align}\n",
    "   % -(3PU_{GA}(x^*)^2 - 6PU_{GA}(x^*) - PU_{gA}(x^*)^2 + 2PU_{gA}(x^*) + 2P + 3RU_{GA}(x^*)^2 - RU_{gA}(x^*)^2 - 3SU_{GA}(x^*)^2 + 3SU_{GA}(x^*) + SU_{gA}(x^*)^2 - SU_{gA}(x^*) - 3TU_{GA}(x^*)^2 + 3TU_{GA}(x^*) + TU_{gA}(x^*)^2 - TU_{gA}(x^*))/(4PU_{GA}(x^*)^2 - 8PU_{GA}(x^*) + 4P + 4RU_{GA}(x^*)^2 - 4SU_{GA}(x^*)^2 + 4SU_{GA}(x^*) - 4TU_{GA}(x^*)^2 + 4TU_{GA}(x^*)) < 0 \\\\\n",
    "   % \\frac{-(3PU_{GA}(x^*)^2 - 6PU_{GA}(x^*) - PU_{gA}(x^*)^2 + 2PU_{gA}(x^*) + 2P + 3RU_{GA}(x^*)^2 - RU_{gA}(x^*)^2 - 3SU_{GA}(x^*)^2 + 3SU_{GA}(x^*) + SU_{gA}(x^*)^2 - SU_{gA}(x^*) - 3TU_{GA}(x^*)^2 + 3TU_{GA}(x^*) + TU_{gA}(x^*)^2 - TU_{gA}(x^*))}{(4PU_{GA}(x^*)^2 - 8PU_{GA}(x^*) + 4P + 4RU_{GA}(x^*)^2 - 4SU_{GA}(x^*)^2 + 4SU_{GA}(x^*) - 4TU_{GA}(x^*)^2 + 4TU_{GA}(x^*))} < 0 \\\\\n",
    "   % \\frac{-(3RU_{GA}(x^*)^2 + 3PU_{GA}(x^*)^2 - 3TU_{GA}(x^*)^2 - 3SU_{GA}(x^*)^2 + 3TU_{GA}(x^*) + 3SU_{GA}(x^*) - 6PU_{GA}(x^*) + TU_{gA}(x^*)^2 + SU_{gA}(x^*)^2 - RU_{gA}(x^*)^2 - PU_{gA}(x^*)^2 + 2PU_{gA}(x^*) - TU_{gA}(x^*) - SU_{gA}(x^*) + 2P)}{(4RU_{GA}(x^*)^2 + 4PU_{GA}(x^*)^2 - 4TU_{GA}(x^*)^2 - 4SU_{GA}(x^*)^2 + 4TU_{GA}(x^*) + 4SU_{GA}(x^*) - 8PU_{GA}(x^*) + 4P)} < 0 \\\\\n",
    "   % \\frac{-(3\\big((R + P) - (T + S)\\big)U_{GA}(x^*)^2 + 3\\big((T + S) - 2P\\big)U_{GA}(x^*) + \\big((T + S) - (R + P)\\big)U_{gA}(x^*)^2 + \\big(2P - (T + S)\\big)U_{gA}(x^*) + 2P)}{4(\\big((R + P) - (T + S)\\big)U_{GA}(x^*)^2 + \\big((T + S) - 2P\\big)U_{GA}(x^*) + P)} < 0 \\\\\n",
    "   % \\frac{-(3\\big((R + P) - (T + S)\\big)U_{GA}(x^*)^2 - \\big((R + P) - (T + S)\\big)U_{gA}(x^*)^2 + 3\\big((T + S) - 2P\\big)U_{GA}(x^*) - \\big((T + S) - 2P\\big)U_{gA}(x^*) + 2P)}{4(\\big((R + P) - (T + S)\\big)U_{GA}(x^*)^2 + \\big((T + S) - 2P\\big)U_{GA}(x^*) + P)} < 0 \\\\\n",
    "   % -\\frac{1}{4}\\frac{(3\\big((R + P) - (T + S)\\big)U_{GA}(x^*)^2 - \\big((R + P) - (T + S)\\big)U_{gA}(x^*)^2 + 3\\big((T + S) - 2P\\big)U_{GA}(x^*) - \\big((T + S) - 2P\\big)U_{gA}(x^*) + 2P)}{\\big((R + P) - (T + S)\\big)U_{GA}(x^*)^2 + \\big((T + S) - 2P\\big)U_{GA}(x^*) + P} < 0 \\\\\n",
    "   % -\\frac{1}{4}\\frac{\\big((R + P) - (T + S)\\big)\\big(3U_{GA}(x^*)^2 - U_{gA}(x^*)^2\\big) + \\big((T + S) - 2P\\big)\\big(3U_{GA}(x^*) - U_{gA}(x^*)\\big) + 2P)}{\\big((R + P) - (T + S)\\big)U_{GA}(x^*)^2 + \\big((T + S) - 2P\\big)U_{GA}(x^*) + P} < 0 \\\\\n",
    "    \\frac{\\big((R + P) - (T + S)\\big)\\big(3U_{GA}(x^*)^2 - U_{gA}(x^*)^2\\big) + \\big((T + S) - 2P\\big)\\big(3U_{GA}(x^*) - U_{gA}(x^*)\\big) + 2P)}{\\big((R + P) - (T + S)\\big)U_{GA}(x^*)^2 + \\big((T + S) - 2P\\big)U_{GA}(x^*) + P} > 0\n",
    "\\end{align}\n",
    "\n",
    "Sufficient conditions for the above to hold are the following restrictions on payoffs\n",
    "\n",
    "$$ 2P < T + S < R + P $$\n",
    "    \n",
    "together with the requirement that $3U_{GA}(x^*) > U_{gA}(x^*)$ (i.e., females carrying $G$ \"look sufficiently harder\" for their preferred mates compared with females carrying $g$).\n",
    "\n"
   ]
  },
  {
   "cell_type": "markdown",
   "metadata": {},
   "source": [
    "Finally we need to find conditions under which the third eigenvalue is strictly negative."
   ]
  },
  {
   "cell_type": "code",
   "execution_count": 20,
   "metadata": {},
   "outputs": [
    {
     "data": {
      "text/plain": [
       "-(P**2*UGA_star**4 - 4*P**2*UGA_star**3 + 6*P**2*UGA_star**2 - 4*P**2*UGA_star + P**2 + 2*P*R*UGA_prime_star*UGA_star**2 - 2*P*R*UGA_prime_star*UGA_star + 2*P*R*UGA_star**4 - 4*P*R*UGA_star**3 + 2*P*R*UGA_star**2 - P*S*UGA_prime_star*UGA_star**2 + 2*P*S*UGA_prime_star*UGA_star - P*S*UGA_prime_star - 2*P*S*UGA_star**4 + 6*P*S*UGA_star**3 - 6*P*S*UGA_star**2 + 2*P*S*UGA_star - 2*P*T*UGA_star**4 + 6*P*T*UGA_star**3 - 6*P*T*UGA_star**2 + 2*P*T*UGA_star + R**2*UGA_star**4 - 2*R*S*UGA_star**4 + 2*R*S*UGA_star**3 - R*T*UGA_prime_star*UGA_star**2 - 2*R*T*UGA_star**4 + 2*R*T*UGA_star**3 + S**2*UGA_star**4 - 2*S**2*UGA_star**3 + S**2*UGA_star**2 + 2*S*T*UGA_star**4 - 4*S*T*UGA_star**3 + 2*S*T*UGA_star**2 + T**2*UGA_star**4 - 2*T**2*UGA_star**3 + T**2*UGA_star**2)/(2*P**2*UGA_star**4 - 8*P**2*UGA_star**3 + 12*P**2*UGA_star**2 - 8*P**2*UGA_star + 2*P**2 + 4*P*R*UGA_star**4 - 8*P*R*UGA_star**3 + 4*P*R*UGA_star**2 - 4*P*S*UGA_star**4 + 12*P*S*UGA_star**3 - 12*P*S*UGA_star**2 + 4*P*S*UGA_star - 4*P*T*UGA_star**4 + 12*P*T*UGA_star**3 - 12*P*T*UGA_star**2 + 4*P*T*UGA_star + 2*R**2*UGA_star**4 - 4*R*S*UGA_star**4 + 4*R*S*UGA_star**3 - 4*R*T*UGA_star**4 + 4*R*T*UGA_star**3 + 2*S**2*UGA_star**4 - 4*S**2*UGA_star**3 + 2*S**2*UGA_star**2 + 4*S*T*UGA_star**4 - 8*S*T*UGA_star**3 + 4*S*T*UGA_star**2 + 2*T**2*UGA_star**4 - 4*T**2*UGA_star**3 + 2*T**2*UGA_star**2)"
      ]
     },
     "execution_count": 20,
     "metadata": {},
     "output_type": "execute_result"
    }
   ],
   "source": [
    "e3"
   ]
  },
  {
   "cell_type": "code",
   "execution_count": 25,
   "metadata": {
    "collapsed": true
   },
   "outputs": [],
   "source": [
    "numerator, denominator = sym.fraction(e3)"
   ]
  },
  {
   "cell_type": "code",
   "execution_count": 27,
   "metadata": {},
   "outputs": [
    {
     "data": {
      "text/plain": [
       "2*(P*UGA_star**2 - 2*P*UGA_star + P + R*UGA_star**2 - S*UGA_star**2 + S*UGA_star - T*UGA_star**2 + T*UGA_star)**2"
      ]
     },
     "execution_count": 27,
     "metadata": {},
     "output_type": "execute_result"
    }
   ],
   "source": [
    "sym.factor(denominator)"
   ]
  },
  {
   "cell_type": "code",
   "execution_count": 29,
   "metadata": {},
   "outputs": [
    {
     "data": {
      "text/plain": [
       "-P**2*UGA_star**4 + 4*P**2*UGA_star**3 - 6*P**2*UGA_star**2 + 4*P**2*UGA_star - P**2 - 2*P*R*UGA_prime_star*UGA_star**2 + 2*P*R*UGA_prime_star*UGA_star - 2*P*R*UGA_star**4 + 4*P*R*UGA_star**3 - 2*P*R*UGA_star**2 + P*S*UGA_prime_star*UGA_star**2 - 2*P*S*UGA_prime_star*UGA_star + P*S*UGA_prime_star + 2*P*S*UGA_star**4 - 6*P*S*UGA_star**3 + 6*P*S*UGA_star**2 - 2*P*S*UGA_star + 2*P*T*UGA_star**4 - 6*P*T*UGA_star**3 + 6*P*T*UGA_star**2 - 2*P*T*UGA_star - R**2*UGA_star**4 + 2*R*S*UGA_star**4 - 2*R*S*UGA_star**3 + R*T*UGA_prime_star*UGA_star**2 + 2*R*T*UGA_star**4 - 2*R*T*UGA_star**3 - S**2*UGA_star**4 + 2*S**2*UGA_star**3 - S**2*UGA_star**2 - 2*S*T*UGA_star**4 + 4*S*T*UGA_star**3 - 2*S*T*UGA_star**2 - T**2*UGA_star**4 + 2*T**2*UGA_star**3 - T**2*UGA_star**2"
      ]
     },
     "execution_count": 29,
     "metadata": {},
     "output_type": "execute_result"
    }
   ],
   "source": [
    "numerator"
   ]
  },
  {
   "cell_type": "code",
   "execution_count": 31,
   "metadata": {},
   "outputs": [],
   "source": [
    "UGA_prime_star, = sym.solve(numerator, UGA_prime_star)"
   ]
  },
  {
   "cell_type": "markdown",
   "metadata": {},
   "source": [
    "After a bit of fiddling, we arrive at the same stability condition derived above."
   ]
  },
  {
   "cell_type": "code",
   "execution_count": 35,
   "metadata": {},
   "outputs": [
    {
     "data": {
      "text/plain": [
       "-(P*UGA_star**2 - 2*P*UGA_star + P + R*UGA_star**2 - S*UGA_star**2 + S*UGA_star - T*UGA_star**2 + T*UGA_star)**2/(2*P*R*UGA_star**2 - 2*P*R*UGA_star - P*S*UGA_star**2 + 2*P*S*UGA_star - P*S - R*T*UGA_star**2)"
      ]
     },
     "execution_count": 35,
     "metadata": {},
     "output_type": "execute_result"
    }
   ],
   "source": [
    "sym.factor(UGA_prime_star)"
   ]
  },
  {
   "cell_type": "markdown",
   "metadata": {},
   "source": [
    "\\begin{align}\n",
    "   % U'_{GA}(x^*) < -\\frac{(PU_{GA}(x^*)^2 - 2PU_{GA}(x^*) + P + RU_{GA}(x^*)^2 - SU_{GA}(x^*)^2 + SU_{GA}(x^*) - TU_{GA}(x^*)^2 + TU_{GA}(x^*))^2}{(2PRU_{GA}(x^*)^2 - 2PRU_{GA}(x^*) - PSU_{GA}(x^*)^2 + 2PSU_{GA}(x^*) - PS - RTU_{GA}(x^*)^2)} \\\\\n",
    "    U'_{GA}(x^*) < \\frac{\\bigg(\\big((R + P) - (T + S)\\big)U_{GA}(x^*)^2 + \\big((T + S) - 2P\\big)U_{GA}(x^*) + P\\bigg)^2}{\\big(R(T-2P) + PS\\big)U_{GA}(x^*)^2 + 2P(R - S)U_{GA}(x^*) + PS}\n",
    "\\end{align}"
   ]
  },
  {
   "cell_type": "code",
   "execution_count": 61,
   "metadata": {},
   "outputs": [
    {
     "data": {
      "application/vnd.jupyter.widget-view+json": {
       "model_id": "fd40237ef780481c917e1c75512e5a12",
       "version_major": 2,
       "version_minor": 0
      },
      "text/plain": [
       "A Jupyter Widget"
      ]
     },
     "metadata": {},
     "output_type": "display_data"
    }
   ],
   "source": [
    "# sliders used to control the initial condition\n",
    "x1_slider = widgets.FloatSlider(value=0.5, min=0.0, max=1.0, step=0.01, description=r\"$x_1$\")\n",
    "x2_slider = widgets.FloatSlider(value=0.5, min=0.0, max=1.0, step=0.01, description=r\"$x_2$\")\n",
    "x3_slider = widgets.FloatSlider(value=0.0, min=0.0, max=1.0, step=0.01, description=r\"$x_3$\")\n",
    "\n",
    "# sliders used to control the Prisoner's Dilemma Payoffs\n",
    "T_slider = widgets.FloatSlider(value=10, min=0, max=100, step=0.1, description=r\"$T$\")\n",
    "R_slider = widgets.FloatSlider(value=8, min=0, max=100, step=0.1, description=r\"$R$\")\n",
    "P_slider = widgets.FloatSlider(value=6, min=0, max=100, step=0.1, description=r\"$P$\")\n",
    "S_slider = widgets.FloatSlider(value=4, min=0, max=100, step=0.1, description=r\"$S$\")\n",
    "\n",
    "# slider used to control which selection function is being used\n",
    "U_slider = widgets.Dropdown(options=[\"kirkpatrick\", \"seger\"], index=0, description=r\"$U$\")\n",
    "\n",
    "# slider that controls the parameters of the selection function\n",
    "d1_slider = widgets.FloatSlider(value=1, min=0.0, max=10, step=0.05, description=r\"$d_1$\")\n",
    "d3_slider = widgets.FloatSlider(value=1, min=0.0, max=10, step=0.05, description=r\"$d_3$\")\n",
    "\n",
    "# slider used to control the mutation rate\n",
    "e_slider = widgets.FloatSlider(value=0.0, min=0.0, max=1.0, step=1e-3, description=r\"$\\epsilon$\", readout_format=\".3f\")\n",
    "\n",
    "# slider that controls max simulation time\n",
    "max_time_slider = widgets.IntSlider(value=25, min=1, max=500, description=r\"$\\max t$\")\n",
    "\n",
    "w = widgets.interactive(plotting.plot_generalized_sexual_selection, x1=x1_slider, x2=x2_slider, x3=x3_slider,\n",
    "                        selection_function=U_slider, d1=d1_slider, d3=d3_slider, \n",
    "                        T=T_slider, R=R_slider, P=P_slider, S=S_slider, \n",
    "                        mutation_rate=e_slider, max_time=max_time_slider)\n",
    "display(w)"
   ]
  },
  {
   "cell_type": "code",
   "execution_count": null,
   "metadata": {
    "collapsed": true
   },
   "outputs": [],
   "source": []
  },
  {
   "cell_type": "code",
   "execution_count": 63,
   "metadata": {},
   "outputs": [
    {
     "data": {
      "text/plain": [
       "1.7142857142857142"
      ]
     },
     "execution_count": 63,
     "metadata": {},
     "output_type": "execute_result"
    }
   ],
   "source": [
    "12 / 7"
   ]
  },
  {
   "cell_type": "code",
   "execution_count": null,
   "metadata": {
    "collapsed": true
   },
   "outputs": [],
   "source": []
  }
 ],
 "metadata": {
  "kernelspec": {
   "display_name": "Python 3",
   "language": "python",
   "name": "python3"
  },
  "language_info": {
   "codemirror_mode": {
    "name": "ipython",
    "version": 3
   },
   "file_extension": ".py",
   "mimetype": "text/x-python",
   "name": "python",
   "nbconvert_exporter": "python",
   "pygments_lexer": "ipython3",
   "version": "3.6.3"
  }
 },
 "nbformat": 4,
 "nbformat_minor": 1
}
