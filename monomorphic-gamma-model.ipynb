{
 "cells": [
  {
   "cell_type": "code",
   "execution_count": 69,
   "metadata": {
    "collapsed": true
   },
   "outputs": [],
   "source": [
    "import ipywidgets as widgets\n",
    "import matplotlib.pyplot as plt\n",
    "import numpy as np\n",
    "import sympy as sym\n",
    "\n",
    "import payoffs\n",
    "import selection_functions"
   ]
  },
  {
   "cell_type": "code",
   "execution_count": 46,
   "metadata": {
    "collapsed": true
   },
   "outputs": [],
   "source": [
    "%matplotlib inline\n",
    "plt.style.use(\"ggplot\")"
   ]
  },
  {
   "cell_type": "markdown",
   "metadata": {},
   "source": [
    "# Monomorphic gamma model"
   ]
  },
  {
   "cell_type": "code",
   "execution_count": 3,
   "metadata": {},
   "outputs": [],
   "source": [
    "class U(sym.Function):\n",
    "    \"\"\"Generic matching function\"\"\"\n",
    "    \n",
    "    is_real = True\n",
    "    \n",
    "    @classmethod\n",
    "    def eval(cls, x):\n",
    "        \"\"\"We require the U(0)=0 and U(1)=1\"\"\"\n",
    "        if x.is_Number and x is sym.S.Zero:\n",
    "            return sym.S.Zero\n",
    "        elif x.is_Number and x is sym.S.One:\n",
    "            return sym.S.One\n",
    "\n",
    "        \n",
    "class UGA(U):\n",
    "    \"\"\"Matching function for G males.\"\"\"\n",
    "    \n",
    "\n",
    "class UgA(U):\n",
    "    \"\"\"Matching function for g males.\"\"\"\n"
   ]
  },
  {
   "cell_type": "code",
   "execution_count": 4,
   "metadata": {
    "collapsed": true
   },
   "outputs": [],
   "source": [
    "x0, x1, x2 = sym.symbols('x0, x1, x2')\n",
    "T, R, P, S = sym.symbols('T, R, P, S')"
   ]
  },
  {
   "cell_type": "code",
   "execution_count": 5,
   "metadata": {
    "collapsed": true
   },
   "outputs": [],
   "source": [
    "def N(x0, x1, x2, UGA, UgA, T, R, P, S):\n",
    "    out = (\n",
    "           2 * R *((x0 + x1) * UGA(x0 + x2)**2 + (1 - (x0 + x1)) * UgA(x0 + x2)**2) +\n",
    "           2 * P * ((x0 + x1) * (1 - UGA(x0 + x2))**2 + (1 - (x0 + x1)) * (1 - UgA(x0 + x2))**2) +\n",
    "           2 * (S + T) * ((x0 + x1) * UGA(x0 + x2) * (1 - UGA(x0 + x2)) + (1 - (x0 + x1)) * UgA(x0 + x2) * (1 - UgA(x0 + x2)))\n",
    "          )\n",
    "    return out"
   ]
  },
  {
   "cell_type": "code",
   "execution_count": 6,
   "metadata": {
    "collapsed": true
   },
   "outputs": [],
   "source": [
    "def equation_motion_GA_share(x0, x1, x2, UGA, UgA, T, R, P, S):\n",
    "    numerator = (\n",
    "                 x0 * UGA(x0 + x2)**2 * (1) * x0 / (x0 + x2) * 2*R +  # 2*R\n",
    "                 x0 * UGA(x0 + x2)**2 * (1/2) * x2 / (x0 + x2) * 2*R + # 0\n",
    "\n",
    "                 x0 * (1 - UGA(x0 + x2))**2 * (1/2) * x1 / (1 - x0 - x2) * 2*P + # 0\n",
    "                 x0 * (1 - UGA(x0 + x2))**2 * (1/4) * (1 - x0 - x1 - x2) / (1 - x0 - x2) * 2*P + # 0\n",
    "\n",
    "                 x0 * 2 * UGA(x0 + x2) * (1 - UGA(x0 + x2)) * (1) * x0 / (x0 + x2) * S + # 0\n",
    "                 x0 * 2 * UGA(x0 + x2) * (1 - UGA(x0 + x2)) * (1/2) * x2 / (x0 + x2) * S + # 0\n",
    "                 x0 * 2 * UGA(x0 + x2) * (1 - UGA(x0 + x2)) * (1/2) * x1 / (1 - x0 - x2) * T + # 0\n",
    "                 x0 * 2 * UGA(x0 + x2) * (1 - UGA(x0 + x2)) * (1/4) * (1 - x0 - x1 - x2) / (1 - x0 - x2) * T + # 0\n",
    "\n",
    "                 x1 * UGA(x0 + x2)**2 * (1/2) * x0 / (x0 + x2) * 2*R + # 0\n",
    "                 x1 * UGA(x0 + x2)**2 * (1/4) * x2 / (x0 + x2) * 2*R + # 0\n",
    "\n",
    "                 x1 * (1 - UGA(x0 + x2))**2 * (0) + # 0\n",
    "\n",
    "                 x1 * 2 * UGA(x0 + x2) * (1 - UGA(x0 + x2)) * (1/2) * x0 / (x0 + x2) * S + # 0\n",
    "                 x1 * 2 * UGA(x0 + x2) * (1 - UGA(x0 + x2)) * (1/4) * x2 / (x0 + x2) * S + # 0\n",
    "\n",
    "                 x2 * UgA(x0 + x2)**2 * (1/2) * x0 / (x0 + x2) * 2*R + # 0\n",
    "\n",
    "                 x2 * (1 - UgA(x0 + x2))**2 * (1/4) * x1 / (1 - x0 - x2) * 2* P + # 0\n",
    "\n",
    "                 x2 * 2 * UgA(x0 + x2) * (1 - UgA(x0 + x2)) * (1/2) * x0 / (x0 + x2) * S + # 0\n",
    "                 x2 * 2 * UgA(x0 + x2) * (1 - UgA(x0 + x2)) * (1/4) * x1 / (1 - x0 - x2) * T + # 0\n",
    "\n",
    "                 (1 - x0 - x1 - x2) * UgA(x0 + x2)**2 * (1/4) * x0 / (x0 + x2) * 2*R + # 0\n",
    "\n",
    "                 (1 - x0 - x1 - x2) * (1 - UgA(x0 + x2))**2 * (0) + # 0\n",
    "\n",
    "                 (1 - x0 - x1 - x2) * 2 * UgA(x0 + x2) * (1 - UgA(x0 + x2)) * (1/4) * x0 / (x0 + x2) * S # 0\n",
    "                 )\n",
    "\n",
    "    x0_dot = (numerator / N(x0, x1, x2, UGA, UgA, T, R, P, S)) - x0\n",
    "    return x0_dot\n"
   ]
  },
  {
   "cell_type": "code",
   "execution_count": 63,
   "metadata": {},
   "outputs": [
    {
     "data": {
      "text/plain": [
       "-x0 + (1.0*x0*(-UGA(x0) + 1)**2 + 9.0*x0*(-UGA(x0) + 1)*UGA(x0) + 10*x0*UGA(x0)**2 + 5.0*(-x0 + 1)*UGA(x0)**2)/(2*(-UGA(x0) + 1)**2 + 18*(-UGA(x0) + 1)*UGA(x0) + 10*UGA(x0)**2)"
      ]
     },
     "execution_count": 63,
     "metadata": {},
     "output_type": "execute_result"
    }
   ],
   "source": [
    "equation_motion_GA_share(x0, 1-x0, 0, UGA, UgA, T, R, P, S)"
   ]
  },
  {
   "cell_type": "markdown",
   "metadata": {},
   "source": [
    "## Derivation of the locus of potential equilibria\n",
    "After setting the equation of motion equal to zero, rearranging the resulting equation yields the locus of potential equilibria.\n",
    "\n",
    "\\begin{align}\n",
    " % 0 =& -x0 + \\frac{Px_0\\big(-U_{GA}(x0) + 1\\big)^2 + 2Rx_0U_{GA}(x_0)^2 + R(-x_0 + 1)U_{GA}(x_0)^2 + 2Sx_0\\big(-U_{GA}(x_0) + 1\\big)U_{GA}(x_0) + \\frac{1}{2}S(-2x_0 + 2)\\big(-U_{GA}(x_0) + 1\\big)U_{GA}(x_0) + Tx_0\\big(-U_{GA}(x_0) + 1)U_{GA}(x_0)}{2P(-U_{GA}(x_0) + 1)^2 + 2RU_{GA}(x_0)^2 + (2S + 2T)(-U_{GA}(x_0) + 1)U_{GA}(x_0)} \\\\\n",
    " % 0 =& -x0 + \\frac{Px_0\\big(1-U_{GA}(x0)\\big)^2 + 2Rx_0U_{GA}(x_0)^2 + R(1-x_0)U_{GA}(x_0)^2 + 2Sx_0\\big(1-U_{GA}(x_0)\\big)U_{GA}(x_0) + S(1-x_0)\\big(1-U_{GA}(x_0)\\big)U_{GA}(x_0) + Tx_0\\big(1-U_{GA}(x_0)\\big)U_{GA}(x_0)}{2P(1-U_{GA}(x_0))^2 + 2RU_{GA}(x_0)^2 + 2(S + T)(1-U_{GA}(x_0))U_{GA}(x_0)} \\\\\n",
    " % 0 =& -x0 + \\frac{Px_0 - 2Px_0U_{GA}(x0) + Px_0U_{GA}(x0)^2 + 2Rx_0U_{GA}(x_0)^2 + RU_{GA}(x_0) - Rx_0U_{GA}(x_0)^2 + 2Sx_0U_{GA}(x0)-2Sx_0U_{GA}(x_0)^2 + SU_{GA}(x_0) - SU_{GA}(x_0)^2 - Sx_0U_{GA}(x_0) + Sx_0U_{GA}(x_0)^2 + Tx_0U_{GA}(x_0) - Tx_0U_{GA}(x_0)^2}{2P(1-U_{GA}(x_0))^2 + 2RU_{GA}(x_0)^2 + 2(S + T)(1-U_{GA}(x_0))U_{GA}(x_0)} \\\\\n",
    " % 0 =& -x0 + \\frac{Px_0 + \\big(2Sx_0U_{GA}(x0) - 2Px_0U_{GA}(x0) - Sx_0U_{GA}(x_0) + Tx_0U_{GA}(x_0)\\big) + \\big(Px_0U_{GA}(x0)^2 + 2Rx_0U_{GA}(x_0)^2 - Rx_0U_{GA}(x_0)^2 - 2Sx_0U_{GA}(x_0)^2 + Sx_0U_{GA}(x_0)^2 - Tx_0U_{GA}(x_0)^2\\big) + \\big(RU_{GA}(x_0) + SU_{GA}(x_0)\\big) - SU_{GA}(x_0)^2}{2P(1-U_{GA}(x_0))^2 + 2RU_{GA}(x_0)^2 + 2(S + T)(1-U_{GA}(x_0))U_{GA}(x_0)} \\\\\n",
    " % 0 =& -x0 + \\frac{Px_0 + \\big(2S - 2P - S + T\\big)x_0U_{GA}(x0) + \\big(P + 2R - R - 2S + S - T\\big)x_0U_{GA}(x0)^2 + \\big(R + S\\big)U_{GA}(x_0) - SU_{GA}(x_0)^2}{2P(1-U_{GA}(x_0))^2 + 2RU_{GA}(x_0)^2 + 2(S + T)(1-U_{GA}(x_0))U_{GA}(x_0)} \\\\\n",
    " % 0 =& -x0 + \\frac{Px_0 + \\big((T + S) - 2P\\big)x_0U_{GA}(x0) + \\big((P + R) - (T + S)\\big)x_0U_{GA}(x0)^2 + \\big(R + S\\big)U_{GA}(x_0) - SU_{GA}(x_0)^2}{2P(1-U_{GA}(x_0))^2 + 2RU_{GA}(x_0)^2 + 2(S + T)(1-U_{GA}(x_0))U_{GA}(x_0)} \\\\\n",
    " % 0 =& -x0 + \\frac{Px_0 + \\big((T + S) - 2P\\big)x_0U_{GA}(x0) + \\big((P + R) - (T + S)\\big)x_0U_{GA}(x0)^2 + \\big(R + S\\big)U_{GA}(x_0) - SU_{GA}(x_0)^2}{2P\\big(1 - 2U_{GA}(x_0) + U_{GA}(x_0)^2\\big) + 2RU_{GA}(x_0)^2 + 2(S + T)\\big(U_{GA}(x_0) - U_{GA}(x_0)^2\\big)} \\\\\n",
    " % 0 =& -x0 + \\frac{1}{2}\\frac{Px_0 + \\big((T + S) - 2P\\big)x_0U_{GA}(x0) + \\big((P + R) - (T + S)\\big)x_0U_{GA}(x0)^2 + \\big(R + S\\big)U_{GA}(x_0) - SU_{GA}(x_0)^2}{P - 2PU_{GA}(x_0) + PU_{GA}(x_0)^2 + RU_{GA}(x_0)^2 + SU_{GA}(x_0) - SU_{GA}(x_0)^2 + TU_{GA}(x_0) - TU_{GA}(x_0)^2} \\\\\n",
    " % 0 =& -x0 + \\frac{1}{2}\\frac{Px_0 + \\big((T + S) - 2P\\big)x_0U_{GA}(x0) + \\big((P + R) - (T + S)\\big)x_0U_{GA}(x0)^2 + \\big(R + S\\big)U_{GA}(x_0) - SU_{GA}(x_0)^2}{P + \\big(SU_{GA}(x_0)  + TU_{GA}(x_0) - 2PU_{GA}(x_0)\\big) + \\big(PU_{GA}(x_0)^2 + RU_{GA}(x_0)^2 - SU_{GA}(x_0)^2 - TU_{GA}(x_0)^2\\big)} \\\\\n",
    " % 0 =& -x0 + \\frac{1}{2}\\frac{Px_0 + \\big((T + S) - 2P\\big)x_0U_{GA}(x0) + \\big((P + R) - (T + S)\\big)x_0U_{GA}(x0)^2 + \\big(R + S\\big)U_{GA}(x_0) - SU_{GA}(x_0)^2}{P + \\big((T + S) - 2P\\big)U_{GA}(x_0) + \\big((P + R) - (T + S)\\big)U_{GA}(x_0)^2} \\\\\n",
    " % 2x_0\\bigg(P + \\big((T + S) - 2P\\big)U_{GA}(x_0) + \\big((P + R) - (T + S)\\big)U_{GA}(x_0)^2\\bigg) =& Px_0 + \\big((T + S) - 2P\\big)x_0U_{GA}(x0) + \\big((P + R) - (T + S)\\big)x_0U_{GA}(x0)^2 + \\big(R + S\\big)U_{GA}(x_0) - SU_{GA}(x_0)^2 \\\\\n",
    " % 2Px_0 + 2\\big((T + S) - 2P\\big)x_0U_{GA}(x_0) + 2\\big((P + R) - (T + S)\\big)x_0U_{GA}(x_0)^2 =& Px_0 + \\big((T + S) - 2P\\big)x_0U_{GA}(x0) + \\big((P + R) - (T + S)\\big)x_0U_{GA}(x0)^2 + \\big(R + S\\big)U_{GA}(x_0) - SU_{GA}(x_0)^2 \\\\ \n",
    " % Px_0 + \\big((T + S) - 2P\\big)x_0U_{GA}(x_0) + \\big((P + R) - (T + S)\\big)x_0U_{GA}(x_0)^2 =& \\big(R + S\\big)U_{GA}(x_0) - SU_{GA}(x_0)^2 \\\\ \n",
    " % x_0\\bigg(P + \\big((T + S) - 2P\\big)U_{GA}(x_0) + \\big((P + R) - (T + S)\\big)U_{GA}(x_0)^2\\bigg) =& \\big(R + S\\big)U_{GA}(x_0) - SU_{GA}(x_0)^2 \\\\\n",
    " % x_0 =& \\frac{\\big(R + S\\big)U_{GA}(x_0) - SU_{GA}(x_0)^2}{P + \\big((T + S) - 2P\\big)U_{GA}(x_0) + \\big((P + R) - (T + S)\\big)U_{GA}(x_0)^2} \\\\\n",
    "  x^* =& \\frac{\\big(R + S\\big)U_{GA}^* - SU_{GA}^{*2}}{P + \\big((T + S) - 2P\\big)U_{GA}^* + \\big((P + R) - (T + S)\\big)U_{GA}^{*2}} \\\\\n",
    "\\end{align}\n",
    "\n",
    "We already know that $x^*=0, U_{GA}^*=0$ and $x^*=1, U_{GA}^*=1$ are potential equilibria. One can confirm that the above formula is correct by verifying that it works for these corner cases."
   ]
  },
  {
   "cell_type": "markdown",
   "metadata": {},
   "source": [
    "## Interactive plot of the locus of potential equilibria"
   ]
  },
  {
   "cell_type": "code",
   "execution_count": 66,
   "metadata": {},
   "outputs": [],
   "source": [
    "def locus_of_potential_equilibria(U, T, R, P, S):\n",
    "    numerator = (R + S) * U - S * U**2\n",
    "    denominator = (P + ((T + S) - 2 * P) * U + ((P + R) - (T + S)) * U**2)\n",
    "    return numerator / denominator"
   ]
  },
  {
   "cell_type": "code",
   "execution_count": 75,
   "metadata": {},
   "outputs": [],
   "source": [
    "def plot_locus_of_potential_equilibria(d0, T, R, P, S):\n",
    "    assert T > R > P > S\n",
    "    us = np.linspace(0, 1, 100)\n",
    "    xs = locus_of_potential_equilibria(us, T, R, P, S)\n",
    "\n",
    "    fig, ax = plt.subplots(1, 1, figsize=(10, 8))\n",
    "    ax.plot(us, xs, label=\"LPE\")\n",
    "    ax.set_ylabel(r\"$x_0^*$\", rotation=\"horizontal\", fontsize=25)\n",
    "    ax.set_xlabel(r\"Equilibrium selection probability, $U_{GA}^*$\", fontsize=25)\n",
    "    ax.plot(us, us, 'k--')\n",
    "    \n",
    "    # add a kirkpatrick selection function for comparison\n",
    "    kirkpatrick_us = selection_functions.kirkpatrick_selection(xs, d0)\n",
    "    ax.plot(us, kirkpatrick_us, label=\"Kirkpatrick\")\n",
    "    ax.legend()\n",
    "    \n",
    "    plt.show()"
   ]
  },
  {
   "cell_type": "code",
   "execution_count": 76,
   "metadata": {},
   "outputs": [
    {
     "data": {
      "application/vnd.jupyter.widget-view+json": {
       "model_id": "2e23dacb3d1042509c265474b2d456d1",
       "version_major": 2,
       "version_minor": 0
      },
      "text/plain": [
       "A Jupyter Widget"
      ]
     },
     "metadata": {},
     "output_type": "display_data"
    }
   ],
   "source": [
    "# sliders used to control the Prisoner's Dilemma Payoffs\n",
    "T_slider = widgets.FloatSlider(value=10, min=0, max=100, step=0.1, description=r\"$T$\")\n",
    "R_slider = widgets.FloatSlider(value=8, min=0, max=100, step=0.1, description=r\"$R$\")\n",
    "P_slider = widgets.FloatSlider(value=6, min=0, max=100, step=0.1, description=r\"$P$\")\n",
    "S_slider = widgets.FloatSlider(value=4, min=0, max=100, step=0.1, description=r\"$S$\")\n",
    "\n",
    "# slider that controls the parameters of the selection function\n",
    "d0_slider = widgets.FloatSlider(value=1, min=1.0, max=10, step=0.05, description=r\"$d_0$\")\n",
    "\n",
    "w = widgets.interactive(plot_locus_of_potential_equilibria, d0=d0_slider,\n",
    "                        T=T_slider, R=R_slider, P=P_slider, S=S_slider)\n",
    "display(w)"
   ]
  },
  {
   "cell_type": "code",
   "execution_count": null,
   "metadata": {
    "collapsed": true
   },
   "outputs": [],
   "source": []
  }
 ],
 "metadata": {
  "kernelspec": {
   "display_name": "Python 3",
   "language": "python",
   "name": "python3"
  },
  "language_info": {
   "codemirror_mode": {
    "name": "ipython",
    "version": 3
   },
   "file_extension": ".py",
   "mimetype": "text/x-python",
   "name": "python",
   "nbconvert_exporter": "python",
   "pygments_lexer": "ipython3",
   "version": "3.6.3"
  }
 },
 "nbformat": 4,
 "nbformat_minor": 1
}
