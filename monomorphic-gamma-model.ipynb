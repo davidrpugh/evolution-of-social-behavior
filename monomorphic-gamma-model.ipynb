{
 "cells": [
  {
   "cell_type": "code",
   "execution_count": 1,
   "metadata": {},
   "outputs": [],
   "source": [
    "import ipywidgets as widgets\n",
    "import matplotlib.pyplot as plt\n",
    "import mpld3\n",
    "import numpy as np\n",
    "import sympy as sym\n",
    "\n",
    "import payoffs\n",
    "import selection_functions"
   ]
  },
  {
   "cell_type": "code",
   "execution_count": 2,
   "metadata": {
    "collapsed": true
   },
   "outputs": [],
   "source": [
    "%matplotlib inline\n",
    "plt.style.use(\"ggplot\")\n",
    "mpld3.enable_notebook()"
   ]
  },
  {
   "cell_type": "markdown",
   "metadata": {},
   "source": [
    "# Monomorphic gamma model"
   ]
  },
  {
   "cell_type": "code",
   "execution_count": 3,
   "metadata": {},
   "outputs": [],
   "source": [
    "class U(sym.Function):\n",
    "    \"\"\"Generic matching function\"\"\"\n",
    "    \n",
    "    is_real = True\n",
    "    \n",
    "    @classmethod\n",
    "    def eval(cls, x):\n",
    "        \"\"\"We require the U(0)=0 and U(1)=1\"\"\"\n",
    "        if x.is_Number and x is sym.S.Zero:\n",
    "            return sym.S.Zero\n",
    "        elif x.is_Number and x is sym.S.One:\n",
    "            return sym.S.One\n",
    "\n",
    "        \n",
    "class UGA(U):\n",
    "    \"\"\"Matching function for G males.\"\"\"\n",
    "    \n",
    "\n",
    "class UgA(U):\n",
    "    \"\"\"Matching function for g males.\"\"\"\n"
   ]
  },
  {
   "cell_type": "code",
   "execution_count": 4,
   "metadata": {
    "collapsed": true
   },
   "outputs": [],
   "source": [
    "x1, x2, x3 = sym.symbols('x1, x2, x3')\n",
    "T, R, P, S = sym.symbols('T, R, P, S')\n"
   ]
  },
  {
   "cell_type": "code",
   "execution_count": 5,
   "metadata": {
    "collapsed": true
   },
   "outputs": [],
   "source": [
    "def N(x1, x2, x3, UGA, UgA, T, R, P, S):\n",
    "    out = (\n",
    "           2 * R *((x1 + x2) * UGA(x1 + x3)**2 + (1 - (x1 + x2)) * UgA(x1 + x3)**2) +\n",
    "           2 * P * ((x1 + x2) * (1 - UGA(x1 + x3))**2 + (1 - (x1 + x2)) * (1 - UgA(x1 + x3))**2) +\n",
    "           2 * (S + T) * ((x1 + x2) * UGA(x1 + x3) * (1 - UGA(x1 + x3)) + (1 - (x1 + x2)) * UgA(x1 + x3) * (1 - UgA(x1 + x3)))\n",
    "          )\n",
    "    return out"
   ]
  },
  {
   "cell_type": "code",
   "execution_count": 6,
   "metadata": {
    "collapsed": true
   },
   "outputs": [],
   "source": [
    "def equation_motion_GA_share(x1, x2, x3, UGA, UgA, T, R, P, S):\n",
    "    numerator = (\n",
    "                 x1 * UGA(x1 + x3)**2 * (1) * x1 / (x1 + x3) * 2*R +  \n",
    "                 x1 * UGA(x1 + x3)**2 * (1/2) * x3 / (x1 + x3) * 2*R +\n",
    "\n",
    "                 x1 * (1 - UGA(x1 + x3))**2 * (1/2) * x2 / (1 - x1 - x3) * 2*P +\n",
    "                 x1 * (1 - UGA(x1 + x3))**2 * (1/4) * (1 - x1 - x2 - x3) / (1 - x1 - x3) * 2*P +\n",
    "\n",
    "                 x1 * 2 * UGA(x1 + x3) * (1 - UGA(x1 + x3)) * (1) * x1 / (x1 + x3) * S +\n",
    "                 x1 * 2 * UGA(x1 + x3) * (1 - UGA(x1 + x3)) * (1/2) * x3 / (x1 + x3) * S + \n",
    "                 x1 * 2 * UGA(x1 + x3) * (1 - UGA(x1 + x3)) * (1/2) * x2 / (1 - x1 - x3) * T +\n",
    "                 x1 * 2 * UGA(x1 + x3) * (1 - UGA(x1 + x3)) * (1/4) * (1 - x1 - x2 - x3) / (1 - x1 - x3) * T +\n",
    "\n",
    "                 x2 * UGA(x1 + x3)**2 * (1/2) * x1 / (x1 + x3) * 2*R + \n",
    "                 x2 * UGA(x1 + x3)**2 * (1/4) * x3 / (x1 + x3) * 2*R +\n",
    "\n",
    "                 x2 * (1 - UGA(x1 + x3))**2 * (0) +\n",
    "\n",
    "                 x2 * 2 * UGA(x1 + x3) * (1 - UGA(x1 + x3)) * (1/2) * x1 / (x1 + x3) * S +\n",
    "                 x2 * 2 * UGA(x1 + x3) * (1 - UGA(x1 + x3)) * (1/4) * x3 / (x1 + x3) * S +\n",
    "\n",
    "                 x3 * UgA(x1 + x3)**2 * (1/2) * x1 / (x1 + x3) * 2*R +\n",
    "\n",
    "                 x3 * (1 - UgA(x1 + x3))**2 * (1/4) * x2 / (1 - x1 - x3) * 2* P +\n",
    "\n",
    "                 x3 * 2 * UgA(x1 + x3) * (1 - UgA(x1 + x3)) * (1/2) * x1 / (x1 + x3) * S +\n",
    "                 x3 * 2 * UgA(x1 + x3) * (1 - UgA(x1 + x3)) * (1/4) * x2 / (1 - x1 - x3) * T +\n",
    "\n",
    "                 (1 - x1 - x2 - x3) * UgA(x1 + x3)**2 * (1/4) * x1 / (x1 + x3) * 2*R +\n",
    "\n",
    "                 (1 - x1 - x2 - x3) * (1 - UgA(x1 + x3))**2 * (0) +\n",
    "\n",
    "                 (1 - x1 - x2 - x3) * 2 * UgA(x1 + x3) * (1 - UgA(x1 + x3)) * (1/4) * x1 / (x1 + x3) * S\n",
    "                 )\n",
    "\n",
    "    x1_dot = (numerator / N(x1, x2, x3, UGA, UgA, T, R, P, S)) - x1\n",
    "    return x1_dot\n"
   ]
  },
  {
   "cell_type": "code",
   "execution_count": 7,
   "metadata": {},
   "outputs": [],
   "source": [
    "f = equation_motion_GA_share(x1, 1-x1, 0, UGA, UgA, T, R, P, S)"
   ]
  },
  {
   "cell_type": "code",
   "execution_count": 8,
   "metadata": {},
   "outputs": [
    {
     "data": {
      "text/plain": [
       "-x1 + (1.0*P*x1*(-UGA(x1) + 1)**2 + 2*R*x1*UGA(x1)**2 + 1.0*R*(-x1 + 1)*UGA(x1)**2 + 2*S*x1*(-UGA(x1) + 1)*UGA(x1) + 0.5*S*(-2*x1 + 2)*(-UGA(x1) + 1)*UGA(x1) + 1.0*T*x1*(-UGA(x1) + 1)*UGA(x1))/(2*P*(-UGA(x1) + 1)**2 + 2*R*UGA(x1)**2 + (2*S + 2*T)*(-UGA(x1) + 1)*UGA(x1))"
      ]
     },
     "execution_count": 8,
     "metadata": {},
     "output_type": "execute_result"
    }
   ],
   "source": [
    "f"
   ]
  },
  {
   "cell_type": "markdown",
   "metadata": {},
   "source": [
    "## The locus of potential equilibria (LPE)\n",
    "\n",
    "Setting the equation of motion equal to zero, rearranging the resulting equation yields the locus of potential equilibria (LPE). The LPE represents, for each possible $x_1$, the value that $U_{GA}$ would have to take in order for that $x_1$ to be an equilbrium. \n",
    "\n",
    "\\begin{align}\n",
    "  L(x^*) \\equiv x^* - \\left(\\frac{\\big(R - S\\big)U_{GA}^{*2} + SU_{GA}}{P + \\big((T + S) - 2P\\big)U_{GA}^* + \\big((P + R) - (T + S)\\big)U_{GA}^{*2}}\\right) = 0\\\\\n",
    "\\end{align}\n",
    "\n",
    "We already know that $x^*=0, U_{GA}^*=0$ and $x^*=1, U_{GA}^*=1$ are equilibria, so it follows that $L(0)=0$ and $L(1)=0$.\n"
   ]
  },
  {
   "cell_type": "code",
   "execution_count": 10,
   "metadata": {},
   "outputs": [
    {
     "data": {
      "text/plain": [
       "1.0*(0.5*R*UGA_star**2 - 0.5*S*UGA_star**2 + 0.5*S*UGA_star)/(0.5*P*UGA_star**2 - 1.0*P*UGA_star + 0.5*P + 0.5*R*UGA_star**2 - 0.5*S*UGA_star**2 + 0.5*S*UGA_star - 0.5*T*UGA_star**2 + 0.5*T*UGA_star)"
      ]
     },
     "execution_count": 10,
     "metadata": {},
     "output_type": "execute_result"
    }
   ],
   "source": [
    "# solving for the LPE using Python\n",
    "UGA_star, UGA_prime_star = sym.symbols(\"UGA_star, UGA_prime_star\")\n",
    "x1_star, = sym.solve(f, x1, implicit=True)\n",
    "x1_star =  x1_star.subs({UGA(x1): UGA_star})\n",
    "x1_star = sym.cancel(x1_star)\n",
    "x1_star"
   ]
  },
  {
   "cell_type": "markdown",
   "metadata": {},
   "source": [
    "## Interactive plot of the locus of potential equilibria"
   ]
  },
  {
   "cell_type": "code",
   "execution_count": 11,
   "metadata": {
    "collapsed": true
   },
   "outputs": [],
   "source": [
    "locus_of_potential_equilibria = sym.lambdify((UGA_star, T, R, P, S), x1_star, modules=\"numpy\")"
   ]
  },
  {
   "cell_type": "code",
   "execution_count": 12,
   "metadata": {},
   "outputs": [],
   "source": [
    "def plot_locus_of_potential_equilibria(d1, T, R, P, S):\n",
    "    assert T > R > P > S\n",
    "    us = np.linspace(0, 1, 100)\n",
    "    xs = locus_of_potential_equilibria(us, T, R, P, S)\n",
    "\n",
    "    fig, ax = plt.subplots(1, 1, figsize=(10, 8))\n",
    "    ax.plot(xs, us, label=\"LPE\")\n",
    "    ax.set_xlabel(r\"$x_1^*$\", fontsize=25)\n",
    "    ax.set_ylabel(r\"$U_{GA}^*$\", rotation=\"horizontal\", fontsize=25)\n",
    "    ax.plot(us, us, 'k--')\n",
    "    \n",
    "    # add kirkpatrick selection functions for comparison\n",
    "    kirkpatrick_us = selection_functions.kirkpatrick_selection(xs, d1)\n",
    "    ax.plot(xs, kirkpatrick_us, label=\"Kirkpatrick\")\n",
    "    ax.legend()\n",
    "    \n",
    "    plt.show()"
   ]
  },
  {
   "cell_type": "code",
   "execution_count": 13,
   "metadata": {},
   "outputs": [
    {
     "data": {
      "application/vnd.jupyter.widget-view+json": {
       "model_id": "2e8d0498e7af4057b5ef810652411706",
       "version_major": 2,
       "version_minor": 0
      },
      "text/plain": [
       "A Jupyter Widget"
      ]
     },
     "metadata": {},
     "output_type": "display_data"
    }
   ],
   "source": [
    "# sliders used to control the Prisoner's Dilemma Payoffs\n",
    "T_slider = widgets.FloatSlider(value=10, min=0, max=100, step=0.1, description=r\"$T$\")\n",
    "R_slider = widgets.FloatSlider(value=8, min=0, max=100, step=0.1, description=r\"$R$\")\n",
    "P_slider = widgets.FloatSlider(value=6, min=0, max=100, step=0.1, description=r\"$P$\")\n",
    "S_slider = widgets.FloatSlider(value=4, min=0, max=100, step=0.1, description=r\"$S$\")\n",
    "\n",
    "# slider that controls the parameters of the selection function\n",
    "d1_slider = widgets.FloatSlider(value=1, min=1.0, max=10, step=0.05, description=r\"$d_1$\")\n",
    "\n",
    "w = widgets.interactive(plot_locus_of_potential_equilibria, d1=d1_slider,\n",
    "                        T=T_slider, R=R_slider, P=P_slider, S=S_slider)\n",
    "display(w)"
   ]
  },
  {
   "cell_type": "markdown",
   "metadata": {},
   "source": [
    "# Stability of equilibria\n",
    "\n",
    "Necessary and sufficient conditions for stability require that the derivative of the equation of motion with respect to $x_1$ be strictly negative when evaluated at the potential equilibrium."
   ]
  },
  {
   "cell_type": "code",
   "execution_count": 14,
   "metadata": {
    "collapsed": true
   },
   "outputs": [],
   "source": [
    "f_jac = f.diff(x1, 1)"
   ]
  },
  {
   "cell_type": "code",
   "execution_count": 15,
   "metadata": {},
   "outputs": [
    {
     "data": {
      "text/plain": [
       "-1 + (-2.0*P*x1*(-UGA(x1) + 1)*Derivative(UGA(x1), x1) + 1.0*P*(-UGA(x1) + 1)**2 + 4*R*x1*UGA(x1)*Derivative(UGA(x1), x1) + 2.0*R*(-x1 + 1)*UGA(x1)*Derivative(UGA(x1), x1) + 1.0*R*UGA(x1)**2 + 2*S*x1*(-UGA(x1) + 1)*Derivative(UGA(x1), x1) - 2*S*x1*UGA(x1)*Derivative(UGA(x1), x1) + 0.5*S*(-2*x1 + 2)*(-UGA(x1) + 1)*Derivative(UGA(x1), x1) - 0.5*S*(-2*x1 + 2)*UGA(x1)*Derivative(UGA(x1), x1) + 1.0*S*(-UGA(x1) + 1)*UGA(x1) + 1.0*T*x1*(-UGA(x1) + 1)*Derivative(UGA(x1), x1) - 1.0*T*x1*UGA(x1)*Derivative(UGA(x1), x1) + 1.0*T*(-UGA(x1) + 1)*UGA(x1))/(2*P*(-UGA(x1) + 1)**2 + 2*R*UGA(x1)**2 + (2*S + 2*T)*(-UGA(x1) + 1)*UGA(x1)) + (4*P*(-UGA(x1) + 1)*Derivative(UGA(x1), x1) - 4*R*UGA(x1)*Derivative(UGA(x1), x1) - (2*S + 2*T)*(-UGA(x1) + 1)*Derivative(UGA(x1), x1) + (2*S + 2*T)*UGA(x1)*Derivative(UGA(x1), x1))*(1.0*P*x1*(-UGA(x1) + 1)**2 + 2*R*x1*UGA(x1)**2 + 1.0*R*(-x1 + 1)*UGA(x1)**2 + 2*S*x1*(-UGA(x1) + 1)*UGA(x1) + 0.5*S*(-2*x1 + 2)*(-UGA(x1) + 1)*UGA(x1) + 1.0*T*x1*(-UGA(x1) + 1)*UGA(x1))/(2*P*(-UGA(x1) + 1)**2 + 2*R*UGA(x1)**2 + (2*S + 2*T)*(-UGA(x1) + 1)*UGA(x1))**2"
      ]
     },
     "execution_count": 15,
     "metadata": {},
     "output_type": "execute_result"
    }
   ],
   "source": [
    "f_jac"
   ]
  },
  {
   "cell_type": "markdown",
   "metadata": {},
   "source": [
    "### Equilibrium with $x_1^*=0$"
   ]
  },
  {
   "cell_type": "code",
   "execution_count": 16,
   "metadata": {},
   "outputs": [
    {
     "data": {
      "text/plain": [
       "-1 + (1.0*P + 1.0*S*Subs(Derivative(UGA(x1), x1), (x1,), (0,)))/(2*P)"
      ]
     },
     "execution_count": 16,
     "metadata": {},
     "output_type": "execute_result"
    }
   ],
   "source": [
    "f_jac.subs({x1: 0})"
   ]
  },
  {
   "cell_type": "markdown",
   "metadata": {},
   "source": [
    "\\begin{align}\n",
    "    %-1 + \\frac{P + SU_{GA}'(0)}{2P} & < 0 \\\\\n",
    "    %\\frac{P + SU_{GA}'(0)}{2P} & < 1 \\\\\n",
    "    %P + SU_{GA}'(0) & < 2P \\\\\n",
    "    %SU_{GA}'(0) & < P \\\\\n",
    "    U_{GA}'(0) & < \\frac{P}{S}\n",
    "\\end{align}"
   ]
  },
  {
   "cell_type": "markdown",
   "metadata": {},
   "source": [
    "### Equilibrium with $x_1^* = 1$"
   ]
  },
  {
   "cell_type": "code",
   "execution_count": 17,
   "metadata": {},
   "outputs": [
    {
     "data": {
      "text/plain": [
       "-1 + (-4*R*Subs(Derivative(UGA(x1), x1), (x1,), (1,)) + (2*S + 2*T)*Subs(Derivative(UGA(x1), x1), (x1,), (1,)))/(2*R) + (4*R*Subs(Derivative(UGA(x1), x1), (x1,), (1,)) + 1.0*R - 2*S*Subs(Derivative(UGA(x1), x1), (x1,), (1,)) - 1.0*T*Subs(Derivative(UGA(x1), x1), (x1,), (1,)))/(2*R)"
      ]
     },
     "execution_count": 17,
     "metadata": {},
     "output_type": "execute_result"
    }
   ],
   "source": [
    "f_jac.subs({x1: 1})"
   ]
  },
  {
   "cell_type": "markdown",
   "metadata": {},
   "source": [
    "\\begin{align}\n",
    "%-1 + \\frac{-4RU_{GA}'(1) + (2S + 2T)U_{GA}'(1)}{2R} + \\frac{4RU_{GA}'(1) + R - 2SU_{GA}'(1) - TU_{GA}'(1)}{2R} < 0 \\\\\n",
    "%\\frac{-4RU_{GA}'(1) + (2S + 2T)U_{GA}'(1) + 4RU_{GA}'(1) + R - 2SU_{GA}'(1) - TU_{GA}'(1)}{2R} < 1 \\\\\n",
    "%\\frac{TU_{GA}'(1) + R}{2R} < 1 \\\\\n",
    "%TU_{GA}'(1) + R < 2R \\\\\n",
    "%TU_{GA}'(1) < R \\\\\n",
    "U_{GA}'(1) < \\frac{R}{T} \\\\\n",
    "\\end{align}"
   ]
  },
  {
   "cell_type": "markdown",
   "metadata": {},
   "source": [
    "### Equilibrium with $0 < x^* < 1$\n",
    "\n",
    "Sufficient conditions to guarantee the existence of a stable, interior equilibrium are that the stability conditions for both corner equilibria are violated. Necessary and sufficient conditions are more difficult to state..."
   ]
  },
  {
   "cell_type": "code",
   "execution_count": 18,
   "metadata": {},
   "outputs": [],
   "source": [
    "evaluated_f_jac = f_jac.subs({sym.Derivative(UGA(x1), x1): UGA_prime_star, UGA(x1): UGA_star, x1: x1_star})"
   ]
  },
  {
   "cell_type": "markdown",
   "metadata": {},
   "source": [
    "Stability of the equilibrium involves determining whether the following function of $U_{GA}^*$, $U_{GA}^{'*}$ and payoffs $T,R,P,S$ is negative! "
   ]
  },
  {
   "cell_type": "code",
   "execution_count": 19,
   "metadata": {},
   "outputs": [
    {
     "data": {
      "text/plain": [
       "-1 + (-2.0*P*UGA_prime_star*(-UGA_star + 1)*(0.5*R*UGA_star**2 - 0.5*S*UGA_star**2 + 0.5*S*UGA_star)/(0.5*P*UGA_star**2 - 1.0*P*UGA_star + 0.5*P + 0.5*R*UGA_star**2 - 0.5*S*UGA_star**2 + 0.5*S*UGA_star - 0.5*T*UGA_star**2 + 0.5*T*UGA_star) + 1.0*P*(-UGA_star + 1)**2 + 2.0*R*UGA_prime_star*UGA_star*(-1.0*(0.5*R*UGA_star**2 - 0.5*S*UGA_star**2 + 0.5*S*UGA_star)/(0.5*P*UGA_star**2 - 1.0*P*UGA_star + 0.5*P + 0.5*R*UGA_star**2 - 0.5*S*UGA_star**2 + 0.5*S*UGA_star - 0.5*T*UGA_star**2 + 0.5*T*UGA_star) + 1) + 4.0*R*UGA_prime_star*UGA_star*(0.5*R*UGA_star**2 - 0.5*S*UGA_star**2 + 0.5*S*UGA_star)/(0.5*P*UGA_star**2 - 1.0*P*UGA_star + 0.5*P + 0.5*R*UGA_star**2 - 0.5*S*UGA_star**2 + 0.5*S*UGA_star - 0.5*T*UGA_star**2 + 0.5*T*UGA_star) + 1.0*R*UGA_star**2 - 0.5*S*UGA_prime_star*UGA_star*(-2.0*(0.5*R*UGA_star**2 - 0.5*S*UGA_star**2 + 0.5*S*UGA_star)/(0.5*P*UGA_star**2 - 1.0*P*UGA_star + 0.5*P + 0.5*R*UGA_star**2 - 0.5*S*UGA_star**2 + 0.5*S*UGA_star - 0.5*T*UGA_star**2 + 0.5*T*UGA_star) + 2) - 2.0*S*UGA_prime_star*UGA_star*(0.5*R*UGA_star**2 - 0.5*S*UGA_star**2 + 0.5*S*UGA_star)/(0.5*P*UGA_star**2 - 1.0*P*UGA_star + 0.5*P + 0.5*R*UGA_star**2 - 0.5*S*UGA_star**2 + 0.5*S*UGA_star - 0.5*T*UGA_star**2 + 0.5*T*UGA_star) + 0.5*S*UGA_prime_star*(-UGA_star + 1)*(-2.0*(0.5*R*UGA_star**2 - 0.5*S*UGA_star**2 + 0.5*S*UGA_star)/(0.5*P*UGA_star**2 - 1.0*P*UGA_star + 0.5*P + 0.5*R*UGA_star**2 - 0.5*S*UGA_star**2 + 0.5*S*UGA_star - 0.5*T*UGA_star**2 + 0.5*T*UGA_star) + 2) + 2.0*S*UGA_prime_star*(-UGA_star + 1)*(0.5*R*UGA_star**2 - 0.5*S*UGA_star**2 + 0.5*S*UGA_star)/(0.5*P*UGA_star**2 - 1.0*P*UGA_star + 0.5*P + 0.5*R*UGA_star**2 - 0.5*S*UGA_star**2 + 0.5*S*UGA_star - 0.5*T*UGA_star**2 + 0.5*T*UGA_star) + 1.0*S*UGA_star*(-UGA_star + 1) - 1.0*T*UGA_prime_star*UGA_star*(0.5*R*UGA_star**2 - 0.5*S*UGA_star**2 + 0.5*S*UGA_star)/(0.5*P*UGA_star**2 - 1.0*P*UGA_star + 0.5*P + 0.5*R*UGA_star**2 - 0.5*S*UGA_star**2 + 0.5*S*UGA_star - 0.5*T*UGA_star**2 + 0.5*T*UGA_star) + 1.0*T*UGA_prime_star*(-UGA_star + 1)*(0.5*R*UGA_star**2 - 0.5*S*UGA_star**2 + 0.5*S*UGA_star)/(0.5*P*UGA_star**2 - 1.0*P*UGA_star + 0.5*P + 0.5*R*UGA_star**2 - 0.5*S*UGA_star**2 + 0.5*S*UGA_star - 0.5*T*UGA_star**2 + 0.5*T*UGA_star) + 1.0*T*UGA_star*(-UGA_star + 1))/(2*P*(-UGA_star + 1)**2 + 2*R*UGA_star**2 + UGA_star*(2*S + 2*T)*(-UGA_star + 1)) + (4*P*UGA_prime_star*(-UGA_star + 1) - 4*R*UGA_prime_star*UGA_star + UGA_prime_star*UGA_star*(2*S + 2*T) - UGA_prime_star*(2*S + 2*T)*(-UGA_star + 1))*(1.0*P*(-UGA_star + 1)**2*(0.5*R*UGA_star**2 - 0.5*S*UGA_star**2 + 0.5*S*UGA_star)/(0.5*P*UGA_star**2 - 1.0*P*UGA_star + 0.5*P + 0.5*R*UGA_star**2 - 0.5*S*UGA_star**2 + 0.5*S*UGA_star - 0.5*T*UGA_star**2 + 0.5*T*UGA_star) + 1.0*R*UGA_star**2*(-1.0*(0.5*R*UGA_star**2 - 0.5*S*UGA_star**2 + 0.5*S*UGA_star)/(0.5*P*UGA_star**2 - 1.0*P*UGA_star + 0.5*P + 0.5*R*UGA_star**2 - 0.5*S*UGA_star**2 + 0.5*S*UGA_star - 0.5*T*UGA_star**2 + 0.5*T*UGA_star) + 1) + 2.0*R*UGA_star**2*(0.5*R*UGA_star**2 - 0.5*S*UGA_star**2 + 0.5*S*UGA_star)/(0.5*P*UGA_star**2 - 1.0*P*UGA_star + 0.5*P + 0.5*R*UGA_star**2 - 0.5*S*UGA_star**2 + 0.5*S*UGA_star - 0.5*T*UGA_star**2 + 0.5*T*UGA_star) + 0.5*S*UGA_star*(-UGA_star + 1)*(-2.0*(0.5*R*UGA_star**2 - 0.5*S*UGA_star**2 + 0.5*S*UGA_star)/(0.5*P*UGA_star**2 - 1.0*P*UGA_star + 0.5*P + 0.5*R*UGA_star**2 - 0.5*S*UGA_star**2 + 0.5*S*UGA_star - 0.5*T*UGA_star**2 + 0.5*T*UGA_star) + 2) + 2.0*S*UGA_star*(-UGA_star + 1)*(0.5*R*UGA_star**2 - 0.5*S*UGA_star**2 + 0.5*S*UGA_star)/(0.5*P*UGA_star**2 - 1.0*P*UGA_star + 0.5*P + 0.5*R*UGA_star**2 - 0.5*S*UGA_star**2 + 0.5*S*UGA_star - 0.5*T*UGA_star**2 + 0.5*T*UGA_star) + 1.0*T*UGA_star*(-UGA_star + 1)*(0.5*R*UGA_star**2 - 0.5*S*UGA_star**2 + 0.5*S*UGA_star)/(0.5*P*UGA_star**2 - 1.0*P*UGA_star + 0.5*P + 0.5*R*UGA_star**2 - 0.5*S*UGA_star**2 + 0.5*S*UGA_star - 0.5*T*UGA_star**2 + 0.5*T*UGA_star))/(2*P*(-UGA_star + 1)**2 + 2*R*UGA_star**2 + UGA_star*(2*S + 2*T)*(-UGA_star + 1))**2"
      ]
     },
     "execution_count": 19,
     "metadata": {},
     "output_type": "execute_result"
    }
   ],
   "source": [
    "evaluated_f_jac"
   ]
  },
  {
   "cell_type": "code",
   "execution_count": 20,
   "metadata": {},
   "outputs": [
    {
     "data": {
      "text/plain": [
       "(-0.25*P**2*UGA_star**4 + 1.0*P**2*UGA_star**3 - 1.5*P**2*UGA_star**2 + 1.0*P**2*UGA_star - 0.25*P**2 - 0.5*P*R*UGA_prime_star*UGA_star**2 + 0.5*P*R*UGA_prime_star*UGA_star - 0.5*P*R*UGA_star**4 + 1.0*P*R*UGA_star**3 - 0.5*P*R*UGA_star**2 + 0.25*P*S*UGA_prime_star*UGA_star**2 - 0.5*P*S*UGA_prime_star*UGA_star + 0.25*P*S*UGA_prime_star + 0.5*P*S*UGA_star**4 - 1.5*P*S*UGA_star**3 + 1.5*P*S*UGA_star**2 - 0.5*P*S*UGA_star + 0.5*P*T*UGA_star**4 - 1.5*P*T*UGA_star**3 + 1.5*P*T*UGA_star**2 - 0.5*P*T*UGA_star - 0.25*R**2*UGA_star**4 + 0.5*R*S*UGA_star**4 - 0.5*R*S*UGA_star**3 + 0.25*R*T*UGA_prime_star*UGA_star**2 + 0.5*R*T*UGA_star**4 - 0.5*R*T*UGA_star**3 - 0.25*S**2*UGA_star**4 + 0.5*S**2*UGA_star**3 - 0.25*S**2*UGA_star**2 - 0.5*S*T*UGA_star**4 + 1.0*S*T*UGA_star**3 - 0.5*S*T*UGA_star**2 - 0.25*T**2*UGA_star**4 + 0.5*T**2*UGA_star**3 - 0.25*T**2*UGA_star**2)/(0.5*P**2*UGA_star**4 - 2.0*P**2*UGA_star**3 + 3.0*P**2*UGA_star**2 - 2.0*P**2*UGA_star + 0.5*P**2 + 1.0*P*R*UGA_star**4 - 2.0*P*R*UGA_star**3 + 1.0*P*R*UGA_star**2 - 1.0*P*S*UGA_star**4 + 3.0*P*S*UGA_star**3 - 3.0*P*S*UGA_star**2 + 1.0*P*S*UGA_star - 1.0*P*T*UGA_star**4 + 3.0*P*T*UGA_star**3 - 3.0*P*T*UGA_star**2 + 1.0*P*T*UGA_star + 0.5*R**2*UGA_star**4 - 1.0*R*S*UGA_star**4 + 1.0*R*S*UGA_star**3 - 1.0*R*T*UGA_star**4 + 1.0*R*T*UGA_star**3 + 0.5*S**2*UGA_star**4 - 1.0*S**2*UGA_star**3 + 0.5*S**2*UGA_star**2 + 1.0*S*T*UGA_star**4 - 2.0*S*T*UGA_star**3 + 1.0*S*T*UGA_star**2 + 0.5*T**2*UGA_star**4 - 1.0*T**2*UGA_star**3 + 0.5*T**2*UGA_star**2)"
      ]
     },
     "execution_count": 20,
     "metadata": {},
     "output_type": "execute_result"
    }
   ],
   "source": [
    "# the above expression can be reduce to a ratio of two, two-dimensional polynomial functions in U and U'...\n",
    "sym.powsimp(sym.cancel(evaluated_f_jac))"
   ]
  },
  {
   "cell_type": "markdown",
   "metadata": {},
   "source": [
    "Current approach is to go for a graphical solution!"
   ]
  },
  {
   "cell_type": "code",
   "execution_count": 21,
   "metadata": {},
   "outputs": [],
   "source": [
    "# vectorized numerical function created from our symbolic expression\n",
    "numeric_f_jac = sym.lambdify((UGA_star, UGA_prime_star, T, R, P, S), evaluated_f_jac, modules=\"numpy\")"
   ]
  },
  {
   "cell_type": "code",
   "execution_count": 45,
   "metadata": {},
   "outputs": [],
   "source": [
    "def plot_jacobian(T, R, P, S):\n",
    "\n",
    "    fig, ax = plt.subplots(1, 1, figsize=(10, 10))\n",
    "    ax.set_ylabel(r\"$U_{GA}^*$\", fontsize=20, rotation=\"horizontal\")\n",
    "    ax.set_xlabel(r\"$U_{GA}^{'*}$\", fontsize=20)\n",
    "    ax.set_title(r\"Negative values of $\\frac{\\partial \\dot{x}_1}{\\partial x_1}$ indicate stability!\", fontsize=25)\n",
    "    ax.grid(\"off\")\n",
    "\n",
    "    equilibrium_selection_probs = np.linspace(0, 1, 100).reshape(-1, 1)\n",
    "    equilibrium_selection_derivs = np.linspace(0, 1, 100).reshape(1, -1) # sensible UGA'(0) >= 1\n",
    "    Z = numeric_f_jac(equilibrium_selection_probs, equilibrium_selection_derivs, T, R, P, S)\n",
    "    cax = ax.imshow(Z, origin=\"lower\")\n",
    "\n",
    "    levels = np.arange(-0.25, 1.0, 0.25)\n",
    "    contours = ax.contour(Z, levels=levels, colors='w', origin='lower')\n",
    "    ax.clabel(contours, contours.levels, inline=True, fontsize=10)\n",
    "    \n",
    "    # adjust the tick labels\n",
    "    locs, _ = plt.xticks()\n",
    "    plt.xticks(locs[1:], np.linspace(0, 1, locs.size-1))\n",
    "    locs, _ = plt.yticks()\n",
    "    plt.yticks(locs[1:], np.linspace(0, 1, locs.size-1))\n",
    "\n",
    "    plt.show()"
   ]
  },
  {
   "cell_type": "code",
   "execution_count": 46,
   "metadata": {},
   "outputs": [
    {
     "data": {
      "application/vnd.jupyter.widget-view+json": {
       "model_id": "0b94174ed46b4a7683f639d3986fe80b",
       "version_major": 2,
       "version_minor": 0
      },
      "text/plain": [
       "A Jupyter Widget"
      ]
     },
     "metadata": {},
     "output_type": "display_data"
    }
   ],
   "source": [
    "mpld3.disable_notebook()  # don't need interactive plotting for this!\n",
    "\n",
    "# sliders used to control the Prisoner's Dilemma Payoffs\n",
    "T_slider = widgets.FloatSlider(value=10, min=0, max=100, step=0.1, description=r\"$T$\")\n",
    "R_slider = widgets.FloatSlider(value=8, min=0, max=100, step=0.1, description=r\"$R$\")\n",
    "P_slider = widgets.FloatSlider(value=6, min=0, max=100, step=0.1, description=r\"$P$\")\n",
    "S_slider = widgets.FloatSlider(value=4, min=0, max=100, step=0.1, description=r\"$S$\")\n",
    "\n",
    "w = widgets.interactive(plot_jacobian, T=T_slider, R=R_slider, P=P_slider, S=S_slider)\n",
    "display(w)"
   ]
  },
  {
   "cell_type": "code",
   "execution_count": 50,
   "metadata": {},
   "outputs": [
    {
     "data": {
      "image/png": "[encoded data removed]",
      "text/plain": [
       "<matplotlib.figure.Figure at 0x119eeb470>"
      ]
     },
     "metadata": {},
     "output_type": "display_data"
    }
   ],
   "source": [
    "# I want the selection function to \"wander\" through \n",
    "fig, ax = plt.subplots(1, 1, figsize=(10, 10))\n",
    "xs = np.linspace(0, 1, 100)\n",
    "u_derivs = selection_functions.kirkpatrick_selection_derivative(xs, 6.0)\n",
    "us = selection_functions.kirkpatrick_selection(xs, 6.0)\n",
    "ax.plot(u_derivs, us)\n",
    "ax.set_ylabel(r\"$U_{GA}^*$\", fontsize=20, rotation=\"horizontal\")\n",
    "ax.set_xlabel(r\"$U_{GA}^{'*}$\", fontsize=20)\n",
    "plt.show()"
   ]
  },
  {
   "cell_type": "code",
   "execution_count": null,
   "metadata": {
    "collapsed": true
   },
   "outputs": [],
   "source": []
  }
 ],
 "metadata": {
  "kernelspec": {
   "display_name": "Python 3",
   "language": "python",
   "name": "python3"
  },
  "language_info": {
   "codemirror_mode": {
    "name": "ipython",
    "version": 3
   },
   "file_extension": ".py",
   "mimetype": "text/x-python",
   "name": "python",
   "nbconvert_exporter": "python",
   "pygments_lexer": "ipython3",
   "version": "3.6.3"
  }
 },
 "nbformat": 4,
 "nbformat_minor": 1
}
