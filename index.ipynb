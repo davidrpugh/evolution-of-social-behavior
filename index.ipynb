{
 "cells": [
  {
   "cell_type": "markdown",
   "metadata": {},
   "source": [
    "<h2 align=center>Sexual Selection, Structured Populations and the Evolution of Social Behavior</h2>\n",
    "\n",
    "<h3 align=center>David R. Pugh, Mark Schaffer, Paul Seabright</h3>\n",
    "\n",
    "Our paper models the co-evolution by natural selection of an individually costly cooperative behavior trait together with a preference for social partners who bear that trait. Under a sexual reproduction population structure - the non-random association of individuals within a population - co-evolves with behavioral traits that are not individually adaptive but whose bearers face enhanced reproductive prospects due to the structure. It is well known tha cooperation can be favored by natural selection if cooperators are likely to associate with other cooperators.  In this paper we use insights from sexual selection to endogenize the mechanisms of association, characterized as general properties of matching functions. We derive conditions for existence of multiple stable monomorphic equilibria and also for balanced polymorphic equilibria in which different behavioral traits coexist. Such equilibria an support not only mutual cooperation, but also hiearchies in which cooperators are exploited by others.\n",
    "\n",
    "This repository contains a number of Jupyter notebooks demonstrating the key results from the paper.\n",
    "\n",
    "<ul>\n",
    "    <li><a href=\"./simulating-generalized-sexual-selection.ipynb\">Simulating generalized sexual selection</a></li>\n",
    "    <li><a href=\"./generalized-sexual-selection-analytic-results.ipynb\">Generalized sexual selection analytic results</a></li>\n",
    "</ul>"
   ]
  },
  {
   "cell_type": "code",
   "execution_count": null,
   "metadata": {
    "collapsed": true
   },
   "outputs": [],
   "source": []
  }
 ],
 "metadata": {
  "kernelspec": {
   "display_name": "Python 3",
   "language": "python",
   "name": "python3"
  },
  "language_info": {
   "codemirror_mode": {
    "name": "ipython",
    "version": 3
   },
   "file_extension": ".py",
   "mimetype": "text/x-python",
   "name": "python",
   "nbconvert_exporter": "python",
   "pygments_lexer": "ipython3",
   "version": "3.6.3"
  }
 },
 "nbformat": 4,
 "nbformat_minor": 2
}
